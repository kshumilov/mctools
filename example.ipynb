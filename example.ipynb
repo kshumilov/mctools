{
 "cells": [
  {
   "cell_type": "code",
   "outputs": [],
   "source": [
    "import abc\n",
    "import pathlib\n",
    "import numpy as np\n",
    "import pandas as pd\n",
    "\n",
    "data_dir = pathlib.Path('examples').resolve()\n",
    "calc_dir = data_dir / 'calc'\n",
    "log = calc_dir / 'casscf.log'\n",
    "fchk = log.with_suffix('.fchk')"
   ],
   "metadata": {
    "collapsed": false,
    "is_executing": true
   },
   "id": "3281fffb50e86ca0",
   "execution_count": null
  },
  {
   "cell_type": "code",
   "outputs": [
    {
     "name": "stdout",
     "output_type": "stream",
     "text": [
      "Initializing: LogParser Sequential\n",
      "Initializing: LogParser CompositeParser\n",
      "Initializing: LogParser Base\n",
      "LogParser(parsers=[RouteParser,LinksParser], storage=, parser_params={}, on_parsing_error='raise'): Given PosixPath('/Users/kirill/Documents/UW/Li_Group/mctools/examples/calc/casscf.log')\n",
      "LogParser(parsers=[RouteParser,LinksParser], storage=, parser_params={}, on_parsing_error='raise'): Parsing\n",
      "LogParser(parsers=[RouteParser,LinksParser], storage=, parser_params={}, on_parsing_error='raise'): Building 'RouteParser'\n",
      "Initializing: RouteParser File\n",
      "Initializing: RouteParser Base\n",
      "LogParser(parsers=[RouteParser,LinksParser], storage=, parser_params={}, on_parsing_error='raise'): Done building  RouteParser(stepper=BaseFileStepper(file=None), on_parsing_error='raise')\n",
      "RouteParser(stepper=BaseFileStepper(file=None), on_parsing_error='raise'): Given <_io.TextIOWrapper name='/Users/kirill/Documents/UW/Li_Group/mctools/examples/calc/casscf.log' mode='rt' encoding='UTF-8'>\n",
      "RouteParser(stepper=BaseFileStepper(file=None), on_parsing_error='raise'): Parsing\n",
      "RouteParser(stepper=BaseFileStepper(file=<_io.TextIOWrapper name='/Users/kirill/Documents/UW/Li_Group/mctools/examples/calc/casscf.log' mode='rt' encoding='UTF-8'>, line=' 99/5=1,9=1/99;' offset=4991), on_parsing_error='raise'): Done parsing\n",
      "LogParser(parsers=[RouteParser,LinksParser], storage=Route(links=[l101,l202,l301,l302,l303,l401,l910,l601,l9999]), parser_params={}, on_parsing_error='raise'): Building 'LinksParser'\n",
      "Initializing: LinksParser DispatchFileParser\n",
      "Initializing: LinksParser File\n",
      "Initializing: LinksParser CompositeParser\n",
      "Initializing: LinksParser Base\n",
      "LinksParser(active=[None], inactive=[None], stepper=BaseFileStepper(file=None), parser_params={}, on_parsing_error='raise'): Building 'L302Parser'\n",
      "Initializing: L302Parser TaskFileParser\n",
      "Initializing: L302Parser DispatchFileParser\n",
      "Initializing: L302Parser File\n",
      "Initializing: L302Parser Base\n",
      "Initializing: L302Parser ResourceHandler\n",
      "L302Parser(active=[None], inactive=[None], stepper=LogStepper(file=None), on_parsing_error='raise'): Building listener: <Resources.ao_int1e_overlap: 32>\n",
      "L302Parser(active=[None], inactive=[None], stepper=LogStepper(file=None), on_parsing_error='raise'): Done building: Listener(32, #Dispatched: 0/1)\n",
      "L302Parser(active=[None], inactive=[None], stepper=LogStepper(file=None), on_parsing_error='raise'): Building listener: <Resources.ao_int1e_kinetic: 64>\n",
      "L302Parser(active=[None], inactive=[None], stepper=LogStepper(file=None), on_parsing_error='raise'): Done building: Listener(64, #Dispatched: 0/1)\n",
      "L302Parser(active=[None], inactive=[None], stepper=LogStepper(file=None), on_parsing_error='raise'): Building listener: <Resources.ao_int1e_potential: 128>\n",
      "L302Parser(active=[None], inactive=[None], stepper=LogStepper(file=None), on_parsing_error='raise'): Done building: Listener(128, #Dispatched: 0/1)\n",
      "LinksParser(active=[None], inactive=[None], stepper=BaseFileStepper(file=None), parser_params={}, on_parsing_error='raise'): Done building  L302Parser(active=[Listener(32, #Dispatched: 0/1),Listener(64, #Dispatched: 0/1),Listener(128, #Dispatched: 0/1)], inactive=[None], stepper=LogStepper(file=None), on_parsing_error='raise')\n",
      "LogParser(parsers=[RouteParser,LinksParser], storage=Route(links=[l101,l202,l301,l302,l303,l401,l910,l601,l9999]), parser_params={}, on_parsing_error='raise'): Done building  LinksParser(active=[Listener(l302, #Dispatched: 0/1)], inactive=[None], stepper=BaseFileStepper(file=None), parser_params={}, on_parsing_error='raise')\n",
      "LinksParser(active=[Listener(l302, #Dispatched: 0/1)], inactive=[None], stepper=BaseFileStepper(file=None), parser_params={}, on_parsing_error='raise'): Given <_io.TextIOWrapper name='/Users/kirill/Documents/UW/Li_Group/mctools/examples/calc/casscf.log' mode='rt' encoding='UTF-8'>\n",
      "LinksParser(active=[Listener(l302, #Dispatched: 0/1)], inactive=[None], stepper=BaseFileStepper(file=None), parser_params={}, on_parsing_error='raise'): Parsing\n",
      "LinksParser(active=[Listener(l302, #Dispatched: 0/1)], inactive=[None], stepper=BaseFileStepper(file=<_io.TextIOWrapper name='/Users/kirill/Documents/UW/Li_Group/mctools/examples/calc/casscf.log' mode='rt' encoding='UTF-8'>), parser_params={}, on_parsing_error='raise'): Dispatching\n",
      "Listener(l302, #Dispatched: 0/1): Handling BaseFileStepper(file=<_io.TextIOWrapper name='/Users/kirill/Documents/UW/Li_Group/mctools/examples/calc/casscf.log' mode='rt' encoding='UTF-8'>, line=' (Enter /sw/con' offset=81493)\n",
      "L302Parser(active=[Listener(32, #Dispatched: 0/1),Listener(64, #Dispatched: 0/1),Listener(128, #Dispatched: 0/1)], inactive=[None], stepper=LogStepper(file=None), on_parsing_error='raise'): Given <_io.TextIOWrapper name='/Users/kirill/Documents/UW/Li_Group/mctools/examples/calc/casscf.log' mode='rt' encoding='UTF-8'>\n",
      "L302Parser(active=[Listener(32, #Dispatched: 0/1),Listener(64, #Dispatched: 0/1),Listener(128, #Dispatched: 0/1)], inactive=[None], stepper=LogStepper(file=None), on_parsing_error='raise'): Parsing\n",
      "L302Parser(active=[Listener(32, #Dispatched: 0/1),Listener(64, #Dispatched: 0/1),Listener(128, #Dispatched: 0/1)], inactive=[None], stepper=LogStepper(file=<_io.TextIOWrapper name='/Users/kirill/Documents/UW/Li_Group/mctools/examples/calc/casscf.log' mode='rt' encoding='UTF-8'>), on_parsing_error='raise'): Dispatching\n",
      "Listener(32, #Dispatched: 0/1): Handling LogStepper(file=<_io.TextIOWrapper name='/Users/kirill/Documents/UW/Li_Group/mctools/examples/calc/casscf.log' mode='rt' encoding='UTF-8'>, line=' *** Overlap **' offset=83952)\n",
      "Listener(32, #Dispatched: 1/1): Done handling LogStepper(file=<_io.TextIOWrapper name='/Users/kirill/Documents/UW/Li_Group/mctools/examples/calc/casscf.log' mode='rt' encoding='UTF-8'>)\n",
      "Listener(64, #Dispatched: 0/1): Handling LogStepper(file=<_io.TextIOWrapper name='/Users/kirill/Documents/UW/Li_Group/mctools/examples/calc/casscf.log' mode='rt' encoding='UTF-8'>, line=' *** Kinetic En' offset=2677795)\n",
      "Listener(64, #Dispatched: 1/1): Done handling LogStepper(file=<_io.TextIOWrapper name='/Users/kirill/Documents/UW/Li_Group/mctools/examples/calc/casscf.log' mode='rt' encoding='UTF-8'>)\n",
      "Listener(128, #Dispatched: 0/1): Handling LogStepper(file=<_io.TextIOWrapper name='/Users/kirill/Documents/UW/Li_Group/mctools/examples/calc/casscf.log' mode='rt' encoding='UTF-8'>, line=' ****** Core Ha' offset=5284086)\n",
      "Listener(128, #Dispatched: 1/1): Done handling LogStepper(file=<_io.TextIOWrapper name='/Users/kirill/Documents/UW/Li_Group/mctools/examples/calc/casscf.log' mode='rt' encoding='UTF-8'>)\n",
      "L302Parser(active=[None], inactive=[Listener(32, #Dispatched: 1/1),Listener(64, #Dispatched: 1/1),Listener(128, #Dispatched: 1/1)], stepper=LogStepper(file=<_io.TextIOWrapper name='/Users/kirill/Documents/UW/Li_Group/mctools/examples/calc/casscf.log' mode='rt' encoding='UTF-8'>), on_parsing_error='raise'): Done dispatching\n",
      "L302Parser(active=[None], inactive=[Listener(32, #Dispatched: 1/1),Listener(64, #Dispatched: 1/1),Listener(128, #Dispatched: 1/1)], stepper=LogStepper(file=<_io.TextIOWrapper name='/Users/kirill/Documents/UW/Li_Group/mctools/examples/calc/casscf.log' mode='rt' encoding='UTF-8'>), on_parsing_error='raise'): Done parsing\n",
      "Listener(l302, #Dispatched: 1/1): Done handling BaseFileStepper(file=<_io.TextIOWrapper name='/Users/kirill/Documents/UW/Li_Group/mctools/examples/calc/casscf.log' mode='rt' encoding='UTF-8'>, line=' (Enter /sw/con' offset=7877877)\n",
      "LinksParser(active=[None], inactive=[Listener(l302, #Dispatched: 1/1)], stepper=BaseFileStepper(file=<_io.TextIOWrapper name='/Users/kirill/Documents/UW/Li_Group/mctools/examples/calc/casscf.log' mode='rt' encoding='UTF-8'>, line=' (Enter /sw/con' offset=7877877), parser_params={}, on_parsing_error='raise'): Done dispatching\n",
      "LinksParser(active=[None], inactive=[Listener(l302, #Dispatched: 1/1)], stepper=BaseFileStepper(file=<_io.TextIOWrapper name='/Users/kirill/Documents/UW/Li_Group/mctools/examples/calc/casscf.log' mode='rt' encoding='UTF-8'>, line=' (Enter /sw/con' offset=7877877), parser_params={}, on_parsing_error='raise'): Done parsing\n",
      "LogParser(parsers=[RouteParser,LinksParser], storage=, parser_params={}, on_parsing_error='raise'): Done parsing\n"
     ]
    }
   ],
   "source": [
    "from mctools.core.resources import Resources\n",
    "from mctools.parsing.gaussian.log.route import Link\n",
    "from mctools.parsing.gaussian.log import LogParser\n",
    "\n",
    "parser = LogParser()\n",
    "data = parser.parse(log)"
   ],
   "metadata": {
    "collapsed": false,
    "ExecuteTime": {
     "end_time": "2024-02-17T09:19:42.462099Z",
     "start_time": "2024-02-17T09:19:42.234738Z"
    }
   },
   "id": "ac8df9ad707e8888",
   "execution_count": 2
  },
  {
   "cell_type": "code",
   "outputs": [],
   "source": [
    "k = list(data[-1][Link.L302].keys())[0]"
   ],
   "metadata": {
    "collapsed": false,
    "ExecuteTime": {
     "end_time": "2024-02-17T09:19:43.597501Z",
     "start_time": "2024-02-17T09:19:43.584739Z"
    }
   },
   "id": "ea79133431511452",
   "execution_count": 3
  },
  {
   "cell_type": "code",
   "outputs": [],
   "source": [
    "array = data[-1][Link.L302][Resources.ao_int1e_overlap]"
   ],
   "metadata": {
    "collapsed": false,
    "ExecuteTime": {
     "end_time": "2024-02-17T09:20:20.968056Z",
     "start_time": "2024-02-17T09:20:20.946010Z"
    }
   },
   "id": "2b0f35bafe6b5058",
   "execution_count": 6
  },
  {
   "cell_type": "code",
   "outputs": [],
   "source": [
    "dim = 575\n",
    "\n",
    "tril = np.tril_indices(575)\n",
    "matrix = np.zeros((dim, dim))\n",
    "matrix[tril] = array"
   ],
   "metadata": {
    "collapsed": false,
    "ExecuteTime": {
     "end_time": "2024-02-17T09:21:47.741943Z",
     "start_time": "2024-02-17T09:21:47.721341Z"
    }
   },
   "id": "edd52bf4b738aa78",
   "execution_count": 10
  },
  {
   "cell_type": "code",
   "outputs": [],
   "source": [
    "m1 = (matrix + matrix.T - matrix.diagonal()).copy()\n",
    "m2 = matrix.copy()\n",
    "\n",
    "m2 += m2.T - m2.diagonal()"
   ],
   "metadata": {
    "collapsed": false,
    "ExecuteTime": {
     "end_time": "2024-02-17T09:23:00.073078Z",
     "start_time": "2024-02-17T09:23:00.057967Z"
    }
   },
   "id": "bb70fda19508f108",
   "execution_count": 14
  },
  {
   "cell_type": "code",
   "outputs": [
    {
     "data": {
      "text/plain": "True"
     },
     "execution_count": 16,
     "metadata": {},
     "output_type": "execute_result"
    }
   ],
   "source": [],
   "metadata": {
    "collapsed": false,
    "ExecuteTime": {
     "end_time": "2024-02-17T09:23:15.713864Z",
     "start_time": "2024-02-17T09:23:15.698129Z"
    }
   },
   "id": "1b24a23252f43377",
   "execution_count": 16
  },
  {
   "cell_type": "code",
   "outputs": [
    {
     "name": "stdout",
     "output_type": "stream",
     "text": [
      "Number of electrons                        I              391\n",
      "header(header='Number of electrons', dtype=<class 'numpy.int64'>, size=None, value=391)\n",
      "SCF Energy                                 R     -5.674493527405919E+04\n",
      "header(header='SCF Energy', dtype=<class 'numpy.float64'>, size=None, value=-56744.93527405919)\n",
      "Nuclear charges                            R   N=           7\n"
     ]
    },
    {
     "ename": "ValueError",
     "evalue": "invalid literal for int() with base 10: 'None'",
     "output_type": "error",
     "traceback": [
      "\u001B[0;31m---------------------------------------------------------------------------\u001B[0m",
      "\u001B[0;31mValueError\u001B[0m                                Traceback (most recent call last)",
      "Cell \u001B[0;32mIn[3], line 37\u001B[0m\n\u001B[1;32m     35\u001B[0m \u001B[38;5;28;01mfor\u001B[39;00m h \u001B[38;5;129;01min\u001B[39;00m headers:\n\u001B[1;32m     36\u001B[0m     \u001B[38;5;28mprint\u001B[39m(h)\n\u001B[0;32m---> 37\u001B[0m     \u001B[38;5;28;01mif\u001B[39;00m match \u001B[38;5;241m:=\u001B[39m \u001B[43mFCHK_HEADER_PATT\u001B[49m\u001B[38;5;241;43m.\u001B[39;49m\u001B[43mmatch\u001B[49m\u001B[43m(\u001B[49m\u001B[43mh\u001B[49m\u001B[43m)\u001B[49m:\n\u001B[1;32m     38\u001B[0m         \u001B[38;5;28mprint\u001B[39m(match)\n",
      "File \u001B[0;32m~/Documents/UW/Li_Group/mctools/mctools/parsing/core/pattern.py:77\u001B[0m, in \u001B[0;36mProcessedPattern.match\u001B[0;34m(self, *args, **kwargs)\u001B[0m\n\u001B[1;32m     75\u001B[0m \u001B[38;5;28;01mdef\u001B[39;00m \u001B[38;5;21mmatch\u001B[39m(\u001B[38;5;28mself\u001B[39m, \u001B[38;5;241m*\u001B[39margs, \u001B[38;5;241m*\u001B[39m\u001B[38;5;241m*\u001B[39mkwargs) \u001B[38;5;241m-\u001B[39m\u001B[38;5;241m>\u001B[39m ReturnType \u001B[38;5;241m|\u001B[39m \u001B[38;5;28;01mNone\u001B[39;00m:\n\u001B[1;32m     76\u001B[0m     \u001B[38;5;28;01mif\u001B[39;00m match \u001B[38;5;241m:=\u001B[39m \u001B[38;5;28mself\u001B[39m\u001B[38;5;241m.\u001B[39mpattern\u001B[38;5;241m.\u001B[39mmatch(\u001B[38;5;241m*\u001B[39margs, \u001B[38;5;241m*\u001B[39m\u001B[38;5;241m*\u001B[39mkwargs):\n\u001B[0;32m---> 77\u001B[0m         \u001B[38;5;28;01mreturn\u001B[39;00m \u001B[38;5;28;43mself\u001B[39;49m\u001B[38;5;241;43m.\u001B[39;49m\u001B[43mprocess\u001B[49m\u001B[43m(\u001B[49m\u001B[43mmatch\u001B[49m\u001B[43m)\u001B[49m\n\u001B[1;32m     78\u001B[0m     \u001B[38;5;28;01mreturn\u001B[39;00m \u001B[38;5;28;01mNone\u001B[39;00m\n",
      "File \u001B[0;32m~/Documents/UW/Li_Group/mctools/mctools/parsing/core/pattern.py:118\u001B[0m, in \u001B[0;36mProcessedPattern.process\u001B[0;34m(self, match)\u001B[0m\n\u001B[1;32m    116\u001B[0m \u001B[38;5;28;01mdef\u001B[39;00m \u001B[38;5;21mprocess\u001B[39m(\u001B[38;5;28mself\u001B[39m, match: re\u001B[38;5;241m.\u001B[39mMatch) \u001B[38;5;241m-\u001B[39m\u001B[38;5;241m>\u001B[39m \u001B[38;5;28mtuple\u001B[39m \u001B[38;5;241m|\u001B[39m ReturnType:\n\u001B[1;32m    117\u001B[0m     match_dict \u001B[38;5;241m=\u001B[39m \u001B[38;5;28mself\u001B[39m\u001B[38;5;241m.\u001B[39mtransform_groups(match)\n\u001B[0;32m--> 118\u001B[0m     \u001B[38;5;28;43mself\u001B[39;49m\u001B[38;5;241;43m.\u001B[39;49m\u001B[43mtransform_match\u001B[49m\u001B[43m(\u001B[49m\u001B[43mmatch_dict\u001B[49m\u001B[43m)\u001B[49m\n\u001B[1;32m    119\u001B[0m     \u001B[38;5;28;01mreturn\u001B[39;00m \u001B[38;5;28mself\u001B[39m\u001B[38;5;241m.\u001B[39mconstructor(\u001B[38;5;241m*\u001B[39m\u001B[38;5;241m*\u001B[39mmatch_dict)\n",
      "File \u001B[0;32m~/Documents/UW/Li_Group/mctools/mctools/parsing/core/pattern.py:114\u001B[0m, in \u001B[0;36mProcessedPattern.transform_match\u001B[0;34m(self, match_dict)\u001B[0m\n\u001B[1;32m    112\u001B[0m \u001B[38;5;28;01mdef\u001B[39;00m \u001B[38;5;21mtransform_match\u001B[39m(\u001B[38;5;28mself\u001B[39m, match_dict: MatchDict):\n\u001B[1;32m    113\u001B[0m     \u001B[38;5;28;01mfor\u001B[39;00m key, func \u001B[38;5;129;01min\u001B[39;00m \u001B[38;5;28mself\u001B[39m\u001B[38;5;241m.\u001B[39mmatch_funcs\u001B[38;5;241m.\u001B[39mitems():\n\u001B[0;32m--> 114\u001B[0m         match_dict[key] \u001B[38;5;241m=\u001B[39m \u001B[43mfunc\u001B[49m\u001B[43m(\u001B[49m\u001B[43mmatch_dict\u001B[49m\u001B[43m)\u001B[49m\n",
      "Cell \u001B[0;32mIn[3], line 25\u001B[0m, in \u001B[0;36m<lambda>\u001B[0;34m(m)\u001B[0m\n\u001B[1;32m     12\u001B[0m         \u001B[38;5;28;01mcase\u001B[39;00m\u001B[38;5;250m \u001B[39m\u001B[38;5;28;01m_\u001B[39;00m:\n\u001B[1;32m     13\u001B[0m             \u001B[38;5;28;01mraise\u001B[39;00m \u001B[38;5;167;01mValueError\u001B[39;00m(\u001B[38;5;124mf\u001B[39m\u001B[38;5;124m'\u001B[39m\u001B[38;5;124mInvalid data_type: \u001B[39m\u001B[38;5;132;01m{\u001B[39;00mchar\u001B[38;5;132;01m}\u001B[39;00m\u001B[38;5;124m'\u001B[39m)\n\u001B[1;32m     15\u001B[0m FCHK_HEADER_PATT \u001B[38;5;241m=\u001B[39m ProcessedPattern(\n\u001B[1;32m     16\u001B[0m     \u001B[38;5;124mr\u001B[39m\u001B[38;5;124m'\u001B[39m\u001B[38;5;124m(?P<header>([A-Z][a-zA-Z]+)(\u001B[39m\u001B[38;5;124m\\\u001B[39m\u001B[38;5;124ms[a-zA-Z]+)+)\u001B[39m\u001B[38;5;124m\\\u001B[39m\u001B[38;5;124ms+\u001B[39m\u001B[38;5;124m'\u001B[39m\n\u001B[1;32m     17\u001B[0m     \u001B[38;5;124mr\u001B[39m\u001B[38;5;124m'\u001B[39m\u001B[38;5;124m(?P<dtype>[IRCHL])\u001B[39m\u001B[38;5;124m\\\u001B[39m\u001B[38;5;124ms+\u001B[39m\u001B[38;5;124m'\u001B[39m\n\u001B[1;32m     18\u001B[0m     \u001B[38;5;124mr\u001B[39m\u001B[38;5;124m'\u001B[39m\u001B[38;5;124m((N=\u001B[39m\u001B[38;5;124m\\\u001B[39m\u001B[38;5;124ms+(?P<size>\u001B[39m\u001B[38;5;124m\\\u001B[39m\u001B[38;5;124md+))|(?P<value>[+-]?\u001B[39m\u001B[38;5;124m\\\u001B[39m\u001B[38;5;124md+(\u001B[39m\u001B[38;5;124m\\\u001B[39m\u001B[38;5;124m.\u001B[39m\u001B[38;5;124m\\\u001B[39m\u001B[38;5;124md+[dDeE]\u001B[39m\u001B[38;5;124m\\\u001B[39m\u001B[38;5;124m+\u001B[39m\u001B[38;5;124m\\\u001B[39m\u001B[38;5;124md+)?))\u001B[39m\u001B[38;5;124m'\u001B[39m,\n\u001B[1;32m     19\u001B[0m     constructor\u001B[38;5;241m=\u001B[39m\u001B[38;5;124m'\u001B[39m\u001B[38;5;124mheader\u001B[39m\u001B[38;5;124m'\u001B[39m,\n\u001B[1;32m     20\u001B[0m     group_maps\u001B[38;5;241m=\u001B[39m{\n\u001B[1;32m     21\u001B[0m         \u001B[38;5;124m'\u001B[39m\u001B[38;5;124msize\u001B[39m\u001B[38;5;124m'\u001B[39m: \u001B[38;5;28;01mlambda\u001B[39;00m s: \u001B[38;5;28mint\u001B[39m(s) \u001B[38;5;28;01mif\u001B[39;00m s \u001B[38;5;28;01melse\u001B[39;00m s,\n\u001B[1;32m     22\u001B[0m         \u001B[38;5;124m'\u001B[39m\u001B[38;5;124mdtype\u001B[39m\u001B[38;5;124m'\u001B[39m: process_data_type,\n\u001B[1;32m     23\u001B[0m     },\n\u001B[1;32m     24\u001B[0m     match_funcs\u001B[38;5;241m=\u001B[39m{\n\u001B[0;32m---> 25\u001B[0m         \u001B[38;5;124m'\u001B[39m\u001B[38;5;124mvalue\u001B[39m\u001B[38;5;124m'\u001B[39m: \u001B[38;5;28;01mlambda\u001B[39;00m m: (\u001B[38;5;28;43mint\u001B[39;49m\u001B[43m(\u001B[49m\u001B[43mm\u001B[49m\u001B[38;5;241;43m.\u001B[39;49m\u001B[43mpop\u001B[49m\u001B[43m(\u001B[49m\u001B[38;5;124;43m'\u001B[39;49m\u001B[38;5;124;43mvalue\u001B[39;49m\u001B[38;5;124;43m'\u001B[39;49m\u001B[43m)\u001B[49m\u001B[43m)\u001B[49m \u001B[38;5;28;01mif\u001B[39;00m m[\u001B[38;5;124m'\u001B[39m\u001B[38;5;124msize\u001B[39m\u001B[38;5;124m'\u001B[39m] \u001B[38;5;28;01melse\u001B[39;00m m[\u001B[38;5;124m'\u001B[39m\u001B[38;5;124mdtype\u001B[39m\u001B[38;5;124m'\u001B[39m](m\u001B[38;5;241m.\u001B[39mpop(\u001B[38;5;124m'\u001B[39m\u001B[38;5;124mvalue\u001B[39m\u001B[38;5;124m'\u001B[39m))) \u001B[38;5;28;01mif\u001B[39;00m m[\u001B[38;5;124m'\u001B[39m\u001B[38;5;124mvalue\u001B[39m\u001B[38;5;124m'\u001B[39m] \u001B[38;5;28;01melse\u001B[39;00m \u001B[38;5;28;01mNone\u001B[39;00m\n\u001B[1;32m     26\u001B[0m     }\n\u001B[1;32m     27\u001B[0m )\n\u001B[1;32m     29\u001B[0m scalar1 \u001B[38;5;241m=\u001B[39m \u001B[38;5;124m'\u001B[39m\u001B[38;5;124mNumber of electrons                        I              391\u001B[39m\u001B[38;5;124m'\u001B[39m\n\u001B[1;32m     30\u001B[0m scalar2 \u001B[38;5;241m=\u001B[39m \u001B[38;5;124m'\u001B[39m\u001B[38;5;124mSCF Energy                                 R     -5.674493527405919E+04\u001B[39m\u001B[38;5;124m'\u001B[39m\n",
      "\u001B[0;31mValueError\u001B[0m: invalid literal for int() with base 10: 'None'"
     ]
    }
   ],
   "source": [
    "import numpy as np\n",
    "from mctools.parsing.core import ProcessedPattern\n",
    "\n",
    "def process_data_type(char: str, /):\n",
    "    match char:\n",
    "        case 'R':\n",
    "            return np.float_\n",
    "        case 'I':\n",
    "            return np.int_\n",
    "        case 'C':\n",
    "            return np.str_\n",
    "        case _:\n",
    "            raise ValueError(f'Invalid data_type: {char}')\n",
    "        \n",
    "FCHK_HEADER_PATT = ProcessedPattern(\n",
    "    r'(?P<header>([A-Z][a-zA-Z]+)(\\s[a-zA-Z]+)+)\\s+'\n",
    "    r'(?P<dtype>[IRCHL])\\s+'\n",
    "    r'((N=\\s+(?P<size>\\d+))|(?P<value>[+-]?\\d+(\\.\\d+[dDeE]\\+\\d+)?))',\n",
    "    constructor='header',\n",
    "    group_maps={\n",
    "        'size': lambda s: int(s) if s else s,\n",
    "        'dtype': process_data_type,\n",
    "    },\n",
    "    match_funcs={\n",
    "        'value': lambda m: (int(m.pop('value')) if m['size'] else m['dtype'](m.pop('value'))) if m['value'] else None\n",
    "    }\n",
    ")\n",
    "\n",
    "scalar1 = 'Number of electrons                        I              391'\n",
    "scalar2 = 'SCF Energy                                 R     -5.674493527405919E+04'\n",
    "array = 'Nuclear charges                            R   N=           7'\n",
    "headers = [scalar1, scalar2, array]\n",
    "\n",
    "\n",
    "for h in headers:\n",
    "    print(h)\n",
    "    if match := FCHK_HEADER_PATT.match(h):\n",
    "        print(match)"
   ],
   "metadata": {
    "collapsed": false,
    "ExecuteTime": {
     "end_time": "2024-02-16T18:17:43.927268Z",
     "start_time": "2024-02-16T18:17:43.888981Z"
    }
   },
   "id": "337eaa22807bf05e",
   "execution_count": 3
  },
  {
   "cell_type": "code",
   "outputs": [
    {
     "ename": "ValueError",
     "evalue": "invalid literal for int() with base 10: ''",
     "output_type": "error",
     "traceback": [
      "\u001B[0;31m---------------------------------------------------------------------------\u001B[0m",
      "\u001B[0;31mValueError\u001B[0m                                Traceback (most recent call last)",
      "Cell \u001B[0;32mIn[35], line 1\u001B[0m\n\u001B[0;32m----> 1\u001B[0m \u001B[38;5;28;43mint\u001B[39;49m\u001B[43m(\u001B[49m\u001B[38;5;124;43m'\u001B[39;49m\u001B[38;5;124;43m'\u001B[39;49m\u001B[43m)\u001B[49m\n",
      "\u001B[0;31mValueError\u001B[0m: invalid literal for int() with base 10: ''"
     ]
    }
   ],
   "source": [
    "|int('')"
   ],
   "metadata": {
    "collapsed": false,
    "ExecuteTime": {
     "end_time": "2024-02-16T18:06:37.404950Z",
     "start_time": "2024-02-16T18:06:37.356267Z"
    }
   },
   "id": "c219d55b56117df5",
   "execution_count": 35
  },
  {
   "cell_type": "code",
   "outputs": [],
   "source": [
    "from typing import IO, AnyStr, Any\n",
    "\n",
    "from mctools.parsing.gaussian.log.l1 import Link, Route\n",
    "from mctools.parsing.core import BaseFileParser, ListeningFileParser, FileParser\n",
    "\n",
    "\n",
    "class LinkParser(FileParser, metaclass=abc.ABCMeta):\n",
    "    pass\n",
    "\n",
    "\n"
   ],
   "metadata": {
    "collapsed": false
   },
   "id": "de026a5e6cf54aa5"
  },
  {
   "cell_type": "code",
   "outputs": [
    {
     "data": {
      "text/plain": "'l910'"
     },
     "execution_count": 5,
     "metadata": {},
     "output_type": "execute_result"
    }
   ],
   "source": [
    "from mctools.parsing.gaussian.log.l1 import Link\n",
    "f'{Link.L910}'"
   ],
   "metadata": {
    "collapsed": false,
    "ExecuteTime": {
     "end_time": "2024-02-15T21:50:04.518203Z",
     "start_time": "2024-02-15T21:50:04.497935Z"
    }
   },
   "id": "777875c1d584795d",
   "execution_count": 5
  },
  {
   "cell_type": "code",
   "outputs": [
    {
     "ename": "NameError",
     "evalue": "name 'Predicate' is not defined",
     "output_type": "error",
     "traceback": [
      "\u001B[0;31m---------------------------------------------------------------------------\u001B[0m",
      "\u001B[0;31mNameError\u001B[0m                                 Traceback (most recent call last)",
      "Cell \u001B[0;32mIn[1], line 1\u001B[0m\n\u001B[0;32m----> 1\u001B[0m \u001B[38;5;28;01mfrom\u001B[39;00m \u001B[38;5;21;01mmctools\u001B[39;00m\u001B[38;5;21;01m.\u001B[39;00m\u001B[38;5;21;01mparsing\u001B[39;00m\u001B[38;5;21;01m.\u001B[39;00m\u001B[38;5;21;01mgaussian\u001B[39;00m \u001B[38;5;28;01mimport\u001B[39;00m LogParser\n\u001B[1;32m      3\u001B[0m parser \u001B[38;5;241m=\u001B[39m LogParser()\n\u001B[1;32m      4\u001B[0m data \u001B[38;5;241m=\u001B[39m parser\u001B[38;5;241m.\u001B[39mparser(log, int1e\u001B[38;5;241m=\u001B[39m[\u001B[38;5;124m'\u001B[39m\u001B[38;5;124mstv\u001B[39m\u001B[38;5;124m'\u001B[39m])\n",
      "File \u001B[0;32m~/Documents/UW/Li_Group/mctools/mctools/parsing/__init__.py:1\u001B[0m\n\u001B[0;32m----> 1\u001B[0m \u001B[38;5;28;01mfrom\u001B[39;00m \u001B[38;5;21;01m.\u001B[39;00m\u001B[38;5;21;01mgaussian\u001B[39;00m \u001B[38;5;28;01mimport\u001B[39;00m \u001B[38;5;241m*\u001B[39m\n",
      "File \u001B[0;32m~/Documents/UW/Li_Group/mctools/mctools/parsing/gaussian/__init__.py:1\u001B[0m\n\u001B[0;32m----> 1\u001B[0m \u001B[38;5;28;01mfrom\u001B[39;00m \u001B[38;5;21;01m.\u001B[39;00m\u001B[38;5;21;01mfchk\u001B[39;00m \u001B[38;5;28;01mimport\u001B[39;00m \u001B[38;5;241m*\u001B[39m\n\u001B[1;32m      2\u001B[0m \u001B[38;5;28;01mfrom\u001B[39;00m \u001B[38;5;21;01m.\u001B[39;00m\u001B[38;5;21;01mlog\u001B[39;00m \u001B[38;5;28;01mimport\u001B[39;00m \u001B[38;5;241m*\u001B[39m\n\u001B[1;32m      3\u001B[0m \u001B[38;5;28;01mfrom\u001B[39;00m \u001B[38;5;21;01m.\u001B[39;00m\u001B[38;5;21;01mrwfdump\u001B[39;00m \u001B[38;5;28;01mimport\u001B[39;00m \u001B[38;5;241m*\u001B[39m\n",
      "File \u001B[0;32m~/Documents/UW/Li_Group/mctools/mctools/parsing/gaussian/fchk.py:15\u001B[0m\n\u001B[1;32m     12\u001B[0m \u001B[38;5;28;01mfrom\u001B[39;00m \u001B[38;5;21;01m.\u001B[39;00m\u001B[38;5;21;01m.\u001B[39;00m\u001B[38;5;21;01m.\u001B[39;00m\u001B[38;5;21;01mcore\u001B[39;00m\u001B[38;5;21;01m.\u001B[39;00m\u001B[38;5;21;01mbasis\u001B[39;00m \u001B[38;5;28;01mimport\u001B[39;00m Basis\n\u001B[1;32m     13\u001B[0m \u001B[38;5;28;01mfrom\u001B[39;00m \u001B[38;5;21;01m.\u001B[39;00m\u001B[38;5;21;01m.\u001B[39;00m\u001B[38;5;21;01m.\u001B[39;00m\u001B[38;5;21;01mcore\u001B[39;00m\u001B[38;5;21;01m.\u001B[39;00m\u001B[38;5;21;01mmolecule\u001B[39;00m \u001B[38;5;28;01mimport\u001B[39;00m Molecule\n\u001B[0;32m---> 15\u001B[0m \u001B[38;5;28;01mfrom\u001B[39;00m \u001B[38;5;21;01m.\u001B[39;00m\u001B[38;5;21;01m.\u001B[39;00m\u001B[38;5;21;01mcore\u001B[39;00m\u001B[38;5;21;01m.\u001B[39;00m\u001B[38;5;21;01mparser\u001B[39;00m \u001B[38;5;28;01mimport\u001B[39;00m OptionedFileParser, FileParserOptions, RequirementNotSatisfied, FileStepper\n\u001B[1;32m     16\u001B[0m \u001B[38;5;28;01mfrom\u001B[39;00m \u001B[38;5;21;01m.\u001B[39;00m\u001B[38;5;21;01m.\u001B[39;00m\u001B[38;5;21;01mcore\u001B[39;00m\u001B[38;5;21;01m.\u001B[39;00m\u001B[38;5;21;01mpattern\u001B[39;00m \u001B[38;5;28;01mimport\u001B[39;00m ProcessedPattern, simple_float_tmplt, simple_int_tmplt\n\u001B[1;32m     18\u001B[0m \u001B[38;5;28;01mif\u001B[39;00m TYPE_CHECKING:\n",
      "File \u001B[0;32m~/Documents/UW/Li_Group/mctools/mctools/parsing/core/__init__.py:2\u001B[0m\n\u001B[1;32m      1\u001B[0m \u001B[38;5;28;01mfrom\u001B[39;00m \u001B[38;5;21;01m.\u001B[39;00m\u001B[38;5;21;01mpattern\u001B[39;00m \u001B[38;5;28;01mimport\u001B[39;00m \u001B[38;5;241m*\u001B[39m\n\u001B[0;32m----> 2\u001B[0m \u001B[38;5;28;01mfrom\u001B[39;00m \u001B[38;5;21;01m.\u001B[39;00m\u001B[38;5;21;01mparser\u001B[39;00m \u001B[38;5;28;01mimport\u001B[39;00m \u001B[38;5;241m*\u001B[39m\n",
      "File \u001B[0;32m~/Documents/UW/Li_Group/mctools/mctools/parsing/core/parser.py:124\u001B[0m\n\u001B[1;32m    119\u001B[0m             \u001B[38;5;28;01mraise\u001B[39;00m \u001B[38;5;167;01mValueError\u001B[39;00m(\u001B[38;5;124mf\u001B[39m\u001B[38;5;124m'\u001B[39m\u001B[38;5;124mInvalid anchor type: \u001B[39m\u001B[38;5;132;01m{\u001B[39;00m\u001B[38;5;28mtype\u001B[39m(anchor)\u001B[38;5;132;01m}\u001B[39;00m\u001B[38;5;124m'\u001B[39m)\n\u001B[1;32m    121\u001B[0m         \u001B[38;5;28;01mreturn\u001B[39;00m anchor_found\n\u001B[0;32m--> 124\u001B[0m Anchor \u001B[38;5;241m=\u001B[39m AnyStr \u001B[38;5;241m|\u001B[39m \u001B[43mPredicate\u001B[49m\n\u001B[1;32m    126\u001B[0m \u001B[38;5;28;01mclass\u001B[39;00m \u001B[38;5;21;01mFileParser\u001B[39;00m(BaseFileParser, metaclass\u001B[38;5;241m=\u001B[39mabc\u001B[38;5;241m.\u001B[39mABCMeta):\n\u001B[1;32m    127\u001B[0m     DEFAULT_STEPPER: \u001B[38;5;28mtype\u001B[39m[SimpleFileStepper] \u001B[38;5;241m=\u001B[39m FileStepper\n",
      "\u001B[0;31mNameError\u001B[0m: name 'Predicate' is not defined"
     ]
    }
   ],
   "source": [
    "from mctools.parsing.gaussian import LogParser\n",
    "\n",
    "parser = LogParser()\n",
    "data = parser.parser(log, int1e=['stv'])"
   ],
   "metadata": {
    "collapsed": false,
    "ExecuteTime": {
     "end_time": "2024-02-16T01:37:33.165764Z",
     "start_time": "2024-02-16T01:37:32.199083Z"
    }
   },
   "id": "9897cfdf16a8e06d",
   "execution_count": 1
  },
  {
   "cell_type": "code",
   "outputs": [],
   "source": [
    "from mctools.parsing.gaussian import FchkParser\n",
    "\n",
    "with fchk.open('r', encoding='ascii') as f:\n",
    "    parser = FchkParser()\n",
    "    data = parser.parse(f)\n",
    "\n",
    "basis_info = data[FchkParser.options_cls.basis]\n",
    "basis = basis_info['basis']\n",
    "shells = basis_info['shells']\n",
    "prims = basis_info['prims']\n",
    "aos = basis.df.copy()\n",
    "\n",
    "n_inactive = 342\n",
    "n_active = 50\n",
    "molorb = data[FchkParser.options_cls.molecular_orbitals]\n",
    "active_space = np.s_[n_inactive:n_inactive + n_active]\n",
    "actorb = molorb[active_space]\n",
    "# mos = basis.partition_molorb(actorb, by=['element', 'l']) \n",
    "\n",
    "atom_idx, shell_idx = 0, 0"
   ],
   "metadata": {
    "collapsed": false,
    "ExecuteTime": {
     "end_time": "2024-02-15T17:40:26.043929Z",
     "start_time": "2024-02-15T17:40:26.030341Z"
    }
   },
   "id": "422abfe4eee4a68e",
   "execution_count": 10
  },
  {
   "cell_type": "code",
   "outputs": [
    {
     "data": {
      "text/plain": "            C         alpha  shell\n0    0.000747  3.285856e+07      0\n1    0.002137  5.434999e+06      0\n2    0.005152  1.189227e+06      0\n3    0.011945  3.044478e+05      0\n4    0.027523  8.748498e+04      0\n..        ...           ...    ...\n445  1.000000  1.356267e+01    176\n446  1.000000  6.652201e-01    177\n447  1.000000  1.700000e-01    178\n448  1.000000  2.180000e+00    179\n449  1.000000  4.414181e-01    180\n\n[450 rows x 3 columns]",
      "text/html": "<div>\n<style scoped>\n    .dataframe tbody tr th:only-of-type {\n        vertical-align: middle;\n    }\n\n    .dataframe tbody tr th {\n        vertical-align: top;\n    }\n\n    .dataframe thead th {\n        text-align: right;\n    }\n</style>\n<table border=\"1\" class=\"dataframe\">\n  <thead>\n    <tr style=\"text-align: right;\">\n      <th></th>\n      <th>C</th>\n      <th>alpha</th>\n      <th>shell</th>\n    </tr>\n  </thead>\n  <tbody>\n    <tr>\n      <th>0</th>\n      <td>0.000747</td>\n      <td>3.285856e+07</td>\n      <td>0</td>\n    </tr>\n    <tr>\n      <th>1</th>\n      <td>0.002137</td>\n      <td>5.434999e+06</td>\n      <td>0</td>\n    </tr>\n    <tr>\n      <th>2</th>\n      <td>0.005152</td>\n      <td>1.189227e+06</td>\n      <td>0</td>\n    </tr>\n    <tr>\n      <th>3</th>\n      <td>0.011945</td>\n      <td>3.044478e+05</td>\n      <td>0</td>\n    </tr>\n    <tr>\n      <th>4</th>\n      <td>0.027523</td>\n      <td>8.748498e+04</td>\n      <td>0</td>\n    </tr>\n    <tr>\n      <th>...</th>\n      <td>...</td>\n      <td>...</td>\n      <td>...</td>\n    </tr>\n    <tr>\n      <th>445</th>\n      <td>1.000000</td>\n      <td>1.356267e+01</td>\n      <td>176</td>\n    </tr>\n    <tr>\n      <th>446</th>\n      <td>1.000000</td>\n      <td>6.652201e-01</td>\n      <td>177</td>\n    </tr>\n    <tr>\n      <th>447</th>\n      <td>1.000000</td>\n      <td>1.700000e-01</td>\n      <td>178</td>\n    </tr>\n    <tr>\n      <th>448</th>\n      <td>1.000000</td>\n      <td>2.180000e+00</td>\n      <td>179</td>\n    </tr>\n    <tr>\n      <th>449</th>\n      <td>1.000000</td>\n      <td>4.414181e-01</td>\n      <td>180</td>\n    </tr>\n  </tbody>\n</table>\n<p>450 rows × 3 columns</p>\n</div>"
     },
     "execution_count": 11,
     "metadata": {},
     "output_type": "execute_result"
    }
   ],
   "source": [
    "prims"
   ],
   "metadata": {
    "collapsed": false,
    "ExecuteTime": {
     "end_time": "2024-02-15T17:40:34.749794Z",
     "start_time": "2024-02-15T17:40:34.738426Z"
    }
   },
   "id": "b39e0a7daed30acb",
   "execution_count": 11
  },
  {
   "cell_type": "code",
   "outputs": [
    {
     "name": "stderr",
     "output_type": "stream",
     "text": [
      "100%|██████████| 50/50 [00:00<00:00, 141.29it/s]"
     ]
    },
    {
     "name": "stdout",
     "output_type": "stream",
     "text": [
      "385524.64 23005.608231698636\n"
     ]
    },
    {
     "name": "stderr",
     "output_type": "stream",
     "text": [
      "\n"
     ]
    }
   ],
   "source": [
    "import pathlib\n",
    "import time\n",
    "import numpy as np\n",
    "\n",
    "from tqdm import tqdm\n",
    "\n",
    "from mctools.parsing import FileStepper\n",
    "from mctools.parsing.gaussian.log.utils import MatrixParserMixin\n",
    "\n",
    "\n",
    "data_dir = pathlib.Path('examples').resolve()\n",
    "calc_dir = data_dir / 'calc'\n",
    "\n",
    "fchk =  calc_dir / 'casscf.fchk'\n",
    "log = fchk.with_suffix('.log')\n",
    "\n",
    "line_to_data = lambda l: l.strip().replace('D', 'E').split()\n",
    "\n",
    "\n",
    "def read_wrapped_matrix(stepper: FileStepper, header: str, dtype=float):\n",
    "    stepper.step_skip_until(header) \n",
    "    \n",
    "    is_data_row = lambda l: '.' in l\n",
    "    is_header_row = lambda l: not is_data_row(l)\n",
    "    \n",
    "    array = []\n",
    "    dim_size = 0\n",
    "    n_cols_per_blocks = len(stepper.readline().strip().split())\n",
    "    \n",
    "    while '.' in (line := stepper.readline()):\n",
    "        row = line.strip().replace('D', 'E').split()\n",
    "        array.extend(map(float, row[1:]))\n",
    "        dim_size += 1\n",
    "\n",
    "    n_elems = (dim_size * dim_size - dim_size) // 2  + dim_size \n",
    "    for j in range(n_cols_per_blocks, dim_size, n_cols_per_blocks):\n",
    "        for i in range(j, dim_size):\n",
    "            row = stepper.readline().strip().replace('D', 'E').split()\n",
    "            array.extend(map(dtype, row[1:]))\n",
    "        \n",
    "        if len(array) < n_elems:\n",
    "            stepper.readline()\n",
    "        else:\n",
    "            break\n",
    "    return array\n",
    "\n",
    "# header = 'Overlap'\n",
    "# dim = 575\n",
    "\n",
    "\n",
    "n_states = 50\n",
    "\n",
    "n_mo_act = 50\n",
    "rdm_shape = (n_mo_act, n_mo_act)\n",
    "header_real = '1PDM Matrix (real) :'\n",
    "header_imag = '1PDM Matrix (imag) :'\n",
    "\n",
    "array = []\n",
    "\n",
    "times = []\n",
    "with log.open('r') as f:\n",
    "    parser = MatrixParserMixin()\n",
    "    parser.set_file(f)\n",
    "\n",
    "    for i in tqdm(range(n_states)):\n",
    "        parser.step_skip_until(header_real) \n",
    "        \n",
    "        t0 = time.perf_counter_ns()\n",
    "        parser.read_rectangular(*rdm_shape, array=array)\n",
    "        t1 = time.perf_counter_ns()\n",
    "        times.append(t1 - t0)\n",
    "        \n",
    "        parser.step_skip_until(header_imag) \n",
    "        \n",
    "        t0 = time.perf_counter_ns()\n",
    "        parser.read_rectangular(*rdm_shape, array=array)\n",
    "        t1 = time.perf_counter_ns()\n",
    "        times.append(t1 - t0)\n",
    "\n",
    "times = np.asarray(times)\n",
    "print(times.mean(), times.std())"
   ],
   "metadata": {
    "collapsed": false,
    "ExecuteTime": {
     "end_time": "2024-02-15T19:21:54.862607Z",
     "start_time": "2024-02-15T19:21:54.503441Z"
    }
   },
   "id": "38bddebdddcb97b8",
   "execution_count": 62
  },
  {
   "cell_type": "code",
   "outputs": [],
   "source": [
    "rdms_32 = np.asarray(array, dtype=np.float32).reshape((n_states, 2, n_mo_act, n_mo_act))\n",
    "rdms_32 = np.moveaxis(rdms_32, 1, -1, ).copy()\n",
    "rdms_32 = rdms_32.view(np.complex64).squeeze()"
   ],
   "metadata": {
    "collapsed": false,
    "ExecuteTime": {
     "end_time": "2024-02-15T19:37:00.392665Z",
     "start_time": "2024-02-15T19:37:00.369931Z"
    }
   },
   "id": "c96cf41869ab398",
   "execution_count": 80
  },
  {
   "cell_type": "code",
   "outputs": [],
   "source": [
    "rdms_64 = np.asarray(array, dtype=np.float64).reshape((n_states, 2, n_mo_act, n_mo_act))\n",
    "rdms_64 = np.moveaxis(rdms_64, 1, -1, ).copy()\n",
    "rdms_64 = rdms_64.view(np.complex128).squeeze()"
   ],
   "metadata": {
    "collapsed": false,
    "ExecuteTime": {
     "end_time": "2024-02-15T19:37:00.856073Z",
     "start_time": "2024-02-15T19:37:00.849420Z"
    }
   },
   "id": "3019644109963a3a",
   "execution_count": 81
  },
  {
   "cell_type": "code",
   "outputs": [],
   "source": [
    "import re\n",
    " CI Transition Density Matrix     1 :     3\n",
    " Compute 1PDM now\n",
    " 1TDM Matrix:                       1\n",
    "header = 'Oscillator Strength For States      1 :      2 f=    0.000000'\n",
    "header = 'Computing Spin expectation values.'\n",
    "l = 'State:           1  <Sx>=  0.1340 <Sy>=  0.0000 <Sz>=  0.0823 <Sx**2>=  0.2623 <Sy**2>=  0.2623 <Sz**2>=  0.2624 <S**2>=  0.7870 S=  0.5183'"
   ],
   "metadata": {
    "collapsed": false,
    "ExecuteTime": {
     "end_time": "2024-02-15T19:30:26.867121Z",
     "start_time": "2024-02-15T19:30:26.854025Z"
    }
   },
   "id": "17c92fb049223e6a",
   "execution_count": 65
  },
  {
   "cell_type": "markdown",
   "source": [
    " Computing Spin expectation values."
   ],
   "metadata": {
    "collapsed": false
   },
   "id": "c78d0c9e66a1c45c"
  },
  {
   "cell_type": "markdown",
   "source": [
    " Computing Spin expectation values.\n",
    " State:           1  <Sx>=  0.1340 <Sy>=  0.0000 <Sz>=  0.0823 <Sx**2>=  0.2623 <Sy**2>=  0.2623 <Sz**2>=  0.2624 <S**2>=  0.7870 S=  0.5183\n",
    " \n",
    " Using Dipole Ints in file:                     872\n",
    " CI Transition Density Matrix     1 :     2\n",
    " Compute 1PDM now\n",
    " 1TDM Matrix:                       1\n",
    " 1TDM Matrix:                       2\n",
    " Oscillator Strength For States      1 :      2 f=    0.000000"
   ],
   "metadata": {
    "collapsed": false
   },
   "id": "cc98cda660ab97c4"
  },
  {
   "cell_type": "code",
   "outputs": [
    {
     "name": "stdout",
     "output_type": "stream",
     "text": [
      "858 ns ± 1.56 ns per loop (mean ± std. dev. of 7 runs, 1,000,000 loops each)\n"
     ]
    }
   ],
   "source": [
    "%timeit list(map(float, l.split()[1::2][1:]))"
   ],
   "metadata": {
    "collapsed": false,
    "ExecuteTime": {
     "end_time": "2024-02-15T19:33:57.349979Z",
     "start_time": "2024-02-15T19:33:50.236800Z"
    }
   },
   "id": "4b4cae7437826c00",
   "execution_count": 74
  },
  {
   "cell_type": "code",
   "outputs": [
    {
     "name": "stdout",
     "output_type": "stream",
     "text": [
      "3.28 µs ± 860 ns per loop (mean ± std. dev. of 7 runs, 100,000 loops each)\n"
     ]
    }
   ],
   "source": [
    "%timeit list(map(float, re.findall('\\d+\\.\\d+', l)))"
   ],
   "metadata": {
    "collapsed": false,
    "ExecuteTime": {
     "end_time": "2024-02-15T19:32:02.674526Z",
     "start_time": "2024-02-15T19:32:00.077334Z"
    }
   },
   "id": "5d45bb23d5c869b9",
   "execution_count": 69
  },
  {
   "cell_type": "code",
   "outputs": [
    {
     "data": {
      "text/plain": "3.8228438228438226"
     },
     "execution_count": 76,
     "metadata": {},
     "output_type": "execute_result"
    }
   ],
   "source": [
    "3.28 * 1e3 / 858"
   ],
   "metadata": {
    "collapsed": false,
    "ExecuteTime": {
     "end_time": "2024-02-15T19:34:31.479969Z",
     "start_time": "2024-02-15T19:34:31.461056Z"
    }
   },
   "id": "c71f091e07b2b210",
   "execution_count": 76
  },
  {
   "cell_type": "code",
   "outputs": [
    {
     "name": "stdout",
     "output_type": "stream",
     "text": [
      "376.1994917 91.58350366712911\n"
     ]
    }
   ],
   "source": [
    "from mctools.parsing.gaussian.log.l302 import read_ao_overlap_matrix\n",
    "\n",
    "n_checks = 10\n",
    "times = np.zeros(n_checks)\n",
    "for k in range(n_checks):\n",
    "    with log.open('r') as f:\n",
    "\n",
    "        t0 = time.perf_counter_ns()\n",
    "        array = read_ao_overlap_matrix(f, first_line='')\n",
    "        t1 = time.perf_counter_ns()\n",
    "    \n",
    "        times[k] = t1 - t0\n",
    "\n",
    "print(times.mean() / 1e6, times.std() / 1e6) "
   ],
   "metadata": {
    "collapsed": false,
    "ExecuteTime": {
     "end_time": "2024-02-15T06:29:32.164479Z",
     "start_time": "2024-02-15T06:29:28.398064Z"
    }
   },
   "id": "6b567c50d07d84b7",
   "execution_count": 7
  },
  {
   "cell_type": "code",
   "outputs": [],
   "source": [
    "f = np.vectorize(lambda v: f'{v:e}')\n",
    "\n",
    "strings = f(np.random.uniform(-1e-8, 1e8, 5000))\n",
    "strings_lst = list(np.char.replace(strings, 'e', 'D'))"
   ],
   "metadata": {
    "collapsed": false,
    "ExecuteTime": {
     "end_time": "2024-02-15T06:38:10.336880Z",
     "start_time": "2024-02-15T06:38:10.303967Z"
    }
   },
   "id": "5eba8b537fcb978f",
   "execution_count": 31
  },
  {
   "cell_type": "code",
   "outputs": [
    {
     "name": "stdout",
     "output_type": "stream",
     "text": [
      "3.81 ms ± 190 µs per loop (mean ± std. dev. of 7 runs, 100 loops each)\n"
     ]
    }
   ],
   "source": [
    "%timeit np.char.replace(strings, 'D', 'e').astype(np.float_)"
   ],
   "metadata": {
    "collapsed": false,
    "ExecuteTime": {
     "end_time": "2024-02-15T06:36:56.927649Z",
     "start_time": "2024-02-15T06:36:53.707839Z"
    }
   },
   "id": "ff325163b9747125",
   "execution_count": 30
  },
  {
   "cell_type": "code",
   "outputs": [
    {
     "name": "stdout",
     "output_type": "stream",
     "text": [
      "582 µs ± 927 ns per loop (mean ± std. dev. of 7 runs, 1,000 loops each)\n"
     ]
    }
   ],
   "source": [
    "%timeit np.fromiter(map(lambda v: v.replace('D', 'e'), strings_lst), dtype=np.float_)"
   ],
   "metadata": {
    "collapsed": false,
    "ExecuteTime": {
     "end_time": "2024-02-15T06:40:11.393103Z",
     "start_time": "2024-02-15T06:40:06.558680Z"
    }
   },
   "id": "4665d5e30b13081",
   "execution_count": 37
  },
  {
   "cell_type": "code",
   "outputs": [
    {
     "ename": "NameError",
     "evalue": "name 'dim_size' is not defined",
     "output_type": "error",
     "traceback": [
      "\u001B[0;31m---------------------------------------------------------------------------\u001B[0m",
      "\u001B[0;31mNameError\u001B[0m                                 Traceback (most recent call last)",
      "Cell \u001B[0;32mIn[12], line 1\u001B[0m\n\u001B[0;32m----> 1\u001B[0m \u001B[43mdim_size\u001B[49m\n",
      "\u001B[0;31mNameError\u001B[0m: name 'dim_size' is not defined"
     ]
    }
   ],
   "source": [
    "dim_size"
   ],
   "metadata": {
    "collapsed": false,
    "ExecuteTime": {
     "end_time": "2024-02-15T18:15:35.108340Z",
     "start_time": "2024-02-15T18:15:35.089411Z"
    }
   },
   "id": "b4fc50a871660e94",
   "execution_count": 12
  },
  {
   "cell_type": "code",
   "outputs": [],
   "source": [
    "import numpy as np\n",
    "\n",
    "arr64 = np.asarray(array, dtype=np.float64)\n",
    "arr32 = np.asarray(array, dtype=np.float32)"
   ],
   "metadata": {
    "collapsed": false,
    "ExecuteTime": {
     "end_time": "2024-02-15T06:08:06.426234Z",
     "start_time": "2024-02-15T06:08:06.407002Z"
    }
   },
   "id": "f77207ac6383e37b",
   "execution_count": 23
  },
  {
   "cell_type": "code",
   "outputs": [
    {
     "data": {
      "text/plain": "1293.75"
     },
     "execution_count": 30,
     "metadata": {},
     "output_type": "execute_result"
    }
   ],
   "source": [
    "arr64.nbytes / 1024"
   ],
   "metadata": {
    "collapsed": false,
    "ExecuteTime": {
     "end_time": "2024-02-15T06:09:47.419616Z",
     "start_time": "2024-02-15T06:09:47.405155Z"
    }
   },
   "id": "4ea7ab84b5ed87b3",
   "execution_count": 30
  },
  {
   "cell_type": "code",
   "outputs": [
    {
     "data": {
      "text/plain": "646.875"
     },
     "execution_count": 28,
     "metadata": {},
     "output_type": "execute_result"
    }
   ],
   "source": [
    "arr32.nbytes / 1024"
   ],
   "metadata": {
    "collapsed": false,
    "ExecuteTime": {
     "end_time": "2024-02-15T06:09:30.858789Z",
     "start_time": "2024-02-15T06:09:30.839198Z"
    }
   },
   "id": "13c3c8868a425202",
   "execution_count": 28
  },
  {
   "cell_type": "markdown",
   "source": [
    "# Analyze CAS States"
   ],
   "metadata": {},
   "id": "47c7b7cc"
  },
  {
   "cell_type": "code",
   "outputs": [
    {
     "name": "stdout",
     "output_type": "stream",
     "text": [
      "Reading /Users/kirill/Documents/UW/Li_Group/mctools/examples/casscf.log\n",
      "Parsing link l302\n",
      "Executing: read_ao_overlap_matrix --- Done\n",
      "Executing: read_ao_kinetic_energy_matrix --- Done\n",
      "Executing: read_ao_hcore_matrix --- Done\n",
      "Parsing link l910\n",
      "Executing: read_mc_spec --- Done\n",
      "Executing: read_ci_vecs --- Done\n",
      "Executing: read_rdm_diags --- Done\n",
      "Skipping: read_oscillator_strength: positional parameter n_ground is unavailable\n"
     ]
    }
   ],
   "source": [
    "from mctools.parser.gaussian import parse_gdvlog, l302_parser_funcs_general, l302_postprocess_general, l910_parser_funcs_fast\n",
    "\n",
    "gdvlog = data_dir / 'casscf.log'\n",
    "\n",
    "data = parse_gdvlog(\n",
    "    gdvlog, \n",
    "    l302_parser_funcs_general | l910_parser_funcs_fast,\n",
    "    postprocess_links=l302_postprocess_general\n",
    ")"
   ],
   "metadata": {
    "collapsed": false,
    "ExecuteTime": {
     "end_time": "2024-02-11T00:48:09.589690Z",
     "start_time": "2024-02-11T00:48:08.311958Z"
    }
   },
   "id": "8d56f14ff4ae8b8c",
   "execution_count": 9
  },
  {
   "cell_type": "code",
   "outputs": [],
   "source": [
    "import mmap\n",
    "import re\n",
    "\n",
    "from collections import defaultdict\n",
    "from typing import Callable, IO, AnyStr, Any\n",
    "\n",
    "general_link_patt = re.compile(rb'^\\s+((\\(Enter|Entering Link)[\\s\\d=]+(?P<path>\\/.*\\.[\\w:]+))', flags=re.MULTILINE)\n",
    "\n",
    "\n",
    "def parse_general_link_path(path: str) -> str:\n",
    "    return pathlib.Path(path).stem\n",
    "\n",
    "def find_links_re(filename: str | pathlib.Path, *, parse_link_path: Callable[[str], str] | None = None) ->  dict[str, list[tuple[int, int | None]]]:\n",
    "    parse_link_path = parse_general_link_path if parse_link_path is None else parse_link_path\n",
    "\n",
    "    filesize: int\n",
    "    found_links: list[tuple[str, int]] = []\n",
    "    with pathlib.Path(filename).open(mode=\"r\", encoding=\"ascii\") as file_obj:\n",
    "        with mmap.mmap(file_obj.fileno(), length=0, access=mmap.ACCESS_READ) as mmap_obj:\n",
    "            filesize = int(mmap_obj.size())\n",
    "            for match in general_link_patt.finditer(mmap_obj):\n",
    "                link = parse_link_path(match.groupdict()['path'].decode())\n",
    "                start = match.span(0)[0]\n",
    "                found_links.append((link, start))\n",
    "    \n",
    "    links: dict[str, list[tuple[int, int | None]]] = defaultdict(list)\n",
    "    for i, (path, start) in enumerate(found_links[:-1]):\n",
    "        next_start = found_links[i + 1][1]\n",
    "        links[path].append((start, next_start - start))\n",
    "    else:\n",
    "        path, start = found_links[-1]\n",
    "        links[path].append((start, filesize - start))\n",
    "        \n",
    "    return links\n",
    "\n",
    "\n",
    "def find_links(filename: str | pathlib.Path, include_l1: bool = False) ->  dict[str, list[tuple[int, int | None]]]:\n",
    "    filesize = 0\n",
    "    found_links: list[tuple[str, int]] = []\n",
    "    with pathlib.Path(filename).open(mode=\"r\", encoding=\"ascii\") as file_obj:\n",
    "        with mmap.mmap(file_obj.fileno(), length=0, access=mmap.ACCESS_READ) as mmap_obj:\n",
    "            if include_l1:\n",
    "                for line in iter(mmap_obj.readline, b\"\"):\n",
    "                    if line.startswith(b' Entering Link'):\n",
    "                        link = line.strip().split()[4].rsplit(b'/', 1)[-1].split(b'.')[0].decode()\n",
    "                        found_links.append((link, filesize))\n",
    "                        filesize += len(line)\n",
    "                        break\n",
    "                    filesize += len(line)\n",
    "                \n",
    "            for line in iter(mmap_obj.readline, b\"\"):\n",
    "                if line.startswith(b' (Enter'):\n",
    "                    link = line.strip().strip(b'()').rsplit(b'/', 1)[-1].split(b'.')[0].decode()\n",
    "                    found_links.append((link, filesize))\n",
    "                filesize += len(line)\n",
    "    \n",
    "    links: dict[str, list[tuple[int, int | None]]] = defaultdict(list)\n",
    "    for i, (link, start) in enumerate(found_links[:-1]):\n",
    "        next_start = found_links[i + 1][1]\n",
    "        links[link].append((start, next_start - start))\n",
    "    else:\n",
    "        link, start = found_links[-1]\n",
    "        links[link].append((start, filesize - start))\n",
    "        \n",
    "    return links\n",
    "\n",
    "\n",
    "def parse_link(filename: str | pathlib.Path, offset: int, length: int) -> None:\n",
    "    mmap_offset = (offset // mmap.ALLOCATIONGRANULARITY) * mmap.ALLOCATIONGRANULARITY\n",
    "    link_offset = offset - mmap_offset\n",
    "    mmap_length = link_offset + length\n",
    "    \n",
    "    with pathlib.Path(filename).open(mode=\"r\", encoding=\"ascii\") as f:\n",
    "        with mmap.mmap(f.fileno(), length=mmap_length, access=mmap.ACCESS_READ, offset=mmap_offset) as mmap_obj:\n",
    "            mmap_obj.seek(link_offset)\n",
    "            for i, line in enumerate(iter(mmap_obj.readline, b\"\")):\n",
    "                print(line.decode(\"utf-8\").strip())"
   ],
   "metadata": {
    "collapsed": false,
    "ExecuteTime": {
     "end_time": "2024-02-11T04:17:37.454724Z",
     "start_time": "2024-02-11T04:17:37.446563Z"
    }
   },
   "id": "bc6c50760c1180d7",
   "execution_count": 230
  },
  {
   "cell_type": "code",
   "outputs": [],
   "source": [
    "from mctools.core.mcspace import MCSpace\n",
    "from mctools.parser.lib import ParsingResult\n",
    "\n",
    "L910 = 'l910'\n",
    "\n",
    "rout_patt = re.compile(r'^ *(\\d+)\\/(\\d+=[-\\d]+,?)+\\/(\\d,?)+;')\n",
    "\n",
    "RouteType =  dict[str, list[dict[int, int]]] \n",
    "def parse_l1(filename: str | pathlib.Path) -> RouteType:\n",
    "    route: RouteType = defaultdict(list)\n",
    "    with pathlib.Path(filename).open(mode=\"r\") as file_obj:\n",
    "        for line in file_obj:\n",
    "            if line.startswith(' Leave'):\n",
    "                break\n",
    "                \n",
    "            if rout_patt.match(line):\n",
    "                line = line.strip().strip(';')\n",
    "                start, middle, ends = line.split('/')\n",
    "                middle = {k: v for k, v in map(lambda p: tuple(map(int, p.split('='))), middle.split(','))}\n",
    "                ends = [e.rjust(2, '0') for e in ends.split(',')]\n",
    "                \n",
    "                for end in ends: \n",
    "                    link = 'l' + start + end\n",
    "                    route[link].append(middle)\n",
    "    return route\n",
    "\n",
    "def parse_l910_route(route: RouteType, route_idx: int = 0) -> tuple[bool, ParsingResult]:\n",
    "    if L910 not in route:\n",
    "        return False, ParsingResult()\n",
    "    \n",
    "    l910_route = route[L910][route_idx]\n",
    "    \n",
    "    n_elec = l910_route.get(6, 0)\n",
    "    n_mos = l910_route.get(7, 0)\n",
    "    max_hole = l910_route.get(111, 0)\n",
    "    ras1_mo = l910_route.get(112, 0)\n",
    "    max_elec = l910_route.get(113, 0)\n",
    "    ras3_mo = l910_route.get(114, 0)\n",
    "    ras2_mo = n_mos - ras1_mo - ras3_mo\n",
    "    mcspace = MCSpace.from_space_spec(\n",
    "        (ras1_mo, ras2_mo, ras3_mo), n_elec,\n",
    "        max_hole=max_hole, max_elec=max_elec\n",
    "    )\n",
    "    \n",
    "    n_states = l910_route.get(17, 1)\n",
    "    n_states = n_states // 10000 + n_states % 10000  # Account for M0000, where M is number higher energy states in Davidson\n",
    "    \n",
    "    n_ground = l910_route.get(19, None)\n",
    "    n_ground = n_states if n_ground and n_ground < 0 else n_ground\n",
    "    \n",
    "    has_rdms = l910_route.get(32, 1)\n",
    "    has_rdms = has_rdms == 0 or has_rdms == 1\n",
    "    \n",
    "    has_tdms = bool(l910_route.get(131, 0)),\n",
    "    \n",
    "    return True, {\n",
    "        'mcspace': mcspace,\n",
    "        'n_states': n_states,\n",
    "        'n_ground': n_ground,\n",
    "        \n",
    "        'has_rdms': has_rdms,\n",
    "        'has_tdms': has_tdms,\n",
    "        \n",
    "        'n_mo_act': lambda _: mcspace.n_mo_act\n",
    "    }"
   ],
   "metadata": {
    "collapsed": false,
    "ExecuteTime": {
     "end_time": "2024-02-11T04:30:55.121676Z",
     "start_time": "2024-02-11T04:30:55.108064Z"
    }
   },
   "id": "4338889b2a92ddd8",
   "execution_count": 232
  },
  {
   "cell_type": "code",
   "outputs": [
    {
     "ename": "NameError",
     "evalue": "name 'build_l910_parser_funcs' is not defined",
     "output_type": "error",
     "traceback": [
      "\u001B[0;31m---------------------------------------------------------------------------\u001B[0m",
      "\u001B[0;31mNameError\u001B[0m                                 Traceback (most recent call last)",
      "Cell \u001B[0;32mIn[2], line 2\u001B[0m\n\u001B[1;32m      1\u001B[0m result \u001B[38;5;241m=\u001B[39m {}\n\u001B[0;32m----> 2\u001B[0m \u001B[43mbuild_l910_parser_funcs\u001B[49m(route, result\u001B[38;5;241m=\u001B[39mresult)\n",
      "\u001B[0;31mNameError\u001B[0m: name 'build_l910_parser_funcs' is not defined"
     ]
    }
   ],
   "source": [
    "result = {}\n",
    "build_l910_parser_funcs(route, result=result)"
   ],
   "metadata": {
    "collapsed": false,
    "ExecuteTime": {
     "end_time": "2024-02-13T22:31:35.036705Z",
     "start_time": "2024-02-13T22:31:34.293789Z"
    }
   },
   "id": "4ae05975e7c7deb4",
   "execution_count": 2
  },
  {
   "cell_type": "code",
   "outputs": [
    {
     "data": {
      "text/plain": "{'mcspace': MCSpace([49e50o|50o], #Det=50, #Cat=1),\n 'n_states': 50,\n 'n_ground': 0,\n 'n_configs': <function mctools.io.gaussian.log.l910.parse_l910_link.<locals>.<lambda>(_)>,\n 'n_mo_act': <function mctools.io.gaussian.log.l910.parse_l910_link.<locals>.<lambda>(_)>}"
     },
     "execution_count": 4,
     "metadata": {},
     "output_type": "execute_result"
    }
   ],
   "source": [
    "result"
   ],
   "metadata": {
    "collapsed": false,
    "ExecuteTime": {
     "end_time": "2024-02-12T21:39:18.654484Z",
     "start_time": "2024-02-12T21:39:18.640561Z"
    }
   },
   "id": "7b09fdc5c684a78b",
   "execution_count": 4
  },
  {
   "cell_type": "code",
   "outputs": [
    {
     "data": {
      "text/plain": "(True,\n {'mcspace': MCSpace([16e40o|-2/16, 0/ 0, 2/24], #Det=33,505, #Cat=3),\n  'n_states': 33505,\n  'n_ground': 1})"
     },
     "execution_count": 233,
     "metadata": {},
     "output_type": "execute_result"
    }
   ],
   "source": [],
   "metadata": {
    "collapsed": false,
    "ExecuteTime": {
     "end_time": "2024-02-11T04:31:11.470976Z",
     "start_time": "2024-02-11T04:31:11.458134Z"
    }
   },
   "id": "951dda922d0d8479",
   "execution_count": 233
  },
  {
   "cell_type": "code",
   "outputs": [],
   "source": [
    "s1 = set((k,len(v)) for k, v in links.items())\n",
    "s2 = set((k,len(v)) for k, v in route.items())\n",
    "assert s1 == s2"
   ],
   "metadata": {
    "collapsed": false,
    "ExecuteTime": {
     "end_time": "2024-02-11T04:09:21.394453Z",
     "start_time": "2024-02-11T04:09:21.379053Z"
    }
   },
   "id": "a84f57c4cd25b1e8",
   "execution_count": 224
  },
  {
   "cell_type": "code",
   "outputs": [
    {
     "data": {
      "text/plain": "defaultdict(list,\n            {'l101': [{38: 1}],\n             'l202': [{12: 2, 15: 3, 40: 1}],\n             'l301': [{5: 7,\n               6: 2,\n               11: 9,\n               25: 1,\n               30: 1,\n               60: -1,\n               91: 6,\n               116: 7,\n               185: 14}],\n             'l302': [{5: 7,\n               6: 2,\n               11: 9,\n               25: 1,\n               30: 1,\n               60: -1,\n               91: 6,\n               116: 7,\n               185: 14}],\n             'l303': [{5: 7,\n               6: 2,\n               11: 9,\n               25: 1,\n               30: 1,\n               60: -1,\n               91: 6,\n               116: 7,\n               185: 14}],\n             'l401': [{5: 1, 8: 1}],\n             'l910': [{5: 2,\n               6: 16,\n               7: 40,\n               10: 3,\n               12: -1,\n               13: 2,\n               14: 8,\n               15: 1000,\n               17: 33505,\n               19: 1,\n               110: 1,\n               111: 2,\n               112: 16,\n               113: 2,\n               114: 24,\n               121: 1,\n               140: 50,\n               141: 20}],\n             'l9999': [{5: 1, 9: 1}]})"
     },
     "execution_count": 225,
     "metadata": {},
     "output_type": "execute_result"
    }
   ],
   "source": [
    "\n",
    "    "
   ],
   "metadata": {
    "collapsed": false,
    "ExecuteTime": {
     "end_time": "2024-02-11T04:09:54.701246Z",
     "start_time": "2024-02-11T04:09:54.683411Z"
    }
   },
   "id": "9040b9d7692295d4",
   "execution_count": 225
  },
  {
   "cell_type": "code",
   "outputs": [
    {
     "name": "stdout",
     "output_type": "stream",
     "text": [
      "Reading casscf.log\n",
      "Parsing link l302\n",
      "Executing: read_ao_overlap_matrix --- Done\n",
      "Executing: read_ao_kinetic_energy_matrix --- Done\n",
      "Executing: read_ao_hcore_matrix --- Done\n",
      "Executing: read_orthogonal_aos_matrix --- Done\n",
      "Parsing link l910\n",
      "Executing: read_mc_spec --- Done\n",
      "Executing: read_ci_vecs --- Done\n",
      "Executing: read_rdm_diags --- Done\n",
      "Skipping: read_oscillator_strength: positional parameter n_ground is unavailable\n"
     ]
    }
   ],
   "source": [
    "cas_space = MCSpace.from_dict(data, max_hole=0, max_elec=0)\n",
    "cas_states = MCStates.from_dict(data, mcspace=cas_space)\n",
    "\n",
    "cas_space.set_mo_blocks({\n",
    "    '4f': [(0, 13), 49],\n",
    "    '5p': [(13, 49)]\n",
    "})\n",
    "\n",
    "cas_space.set_config_classes({\n",
    "    'f13': {'4f': 13, '5p': 36},\n",
    "    'Lf14': {'4f': 14, '5p': 35},\n",
    "})\n",
    "\n",
    "cas_states.analyze()"
   ],
   "metadata": {
    "collapsed": false,
    "ExecuteTime": {
     "end_time": "2023-05-16T15:52:49.546730Z",
     "start_time": "2023-05-16T15:52:47.184026Z"
    }
   },
   "id": "1752f2bd6fa1eee7",
   "execution_count": 8
  },
  {
   "cell_type": "code",
   "execution_count": 9,
   "id": "93b129c3",
   "metadata": {
    "collapsed": false,
    "ExecuteTime": {
     "end_time": "2023-05-16T15:52:51.911957Z",
     "start_time": "2023-05-16T15:52:51.904030Z"
    }
   },
   "outputs": [
    {
     "name": "stdout",
     "output_type": "stream",
     "text": [
      "========================================================================================================================\n",
      "#    0: E =     -56745.3Eh\n",
      "        MO: 4f(13.04) + 5p(35.96)\n",
      "        |ψ> = f13(95.960%) + Lf14( 4.040%)\n",
      "------------------------------------------------------------------------------------------------------------------------\n",
      " Addr                        CAS                                   Coefficient           \n",
      "    41 11111111011111111111111111111111111111111111111111 C =  0.014-0.836j |C|^2 =  0.699\n",
      "     0 11111111111111111111111111111111111111111111111110 C =  0.428+0.000j |C|^2 =  0.183\n",
      "    39 11111111110111111111111111111111111111111111111111 C = -0.018+0.213j |C|^2 =  0.046\n",
      "    37 11111111111101111111111111111111111111111111111111 C =  0.113+0.114j |C|^2 =  0.026\n",
      "    10 11111111111111111111111111111111111111101111111111 C = -0.017+0.156j |C|^2 =  0.025\n",
      "========================================================================================================================\n",
      "#    1: E =     -56745.3Eh\n",
      "        MO: 4f(13.03) + 5p(35.97)\n",
      "        |ψ> = f13(97.257%) + Lf14( 2.743%)\n",
      "------------------------------------------------------------------------------------------------------------------------\n",
      " Addr                        CAS                                   Coefficient           \n",
      "    38 11111111111011111111111111111111111111111111111111 C =  0.720+0.473j |C|^2 =  0.743\n",
      "    43 11111101111111111111111111111111111111111111111111 C =  0.221-0.403j |C|^2 =  0.212\n",
      "    25 11111111111111111111111101111111111111111111111111 C = -0.135+0.089j |C|^2 =  0.026\n",
      "    48 10111111111111111111111111111111111111111111111111 C =  0.022-0.084j |C|^2 =  0.008\n",
      "    49 01111111111111111111111111111111111111111111111111 C = -0.032+0.062j |C|^2 =  0.005\n",
      "========================================================================================================================\n"
     ]
    }
   ],
   "source": [
    "cas_states.print_state(idx=[0, 1])"
   ]
  },
  {
   "cell_type": "code",
   "execution_count": 6,
   "id": "a504229d",
   "metadata": {
    "collapsed": false,
    "ExecuteTime": {
     "end_time": "2023-05-09T16:07:00.498634Z",
     "start_time": "2023-05-09T16:07:00.421886Z"
    }
   },
   "outputs": [
    {
     "data": {
      "text/plain": "<Figure size 640x480 with 1 Axes>",
      "image/png": "[encoded data removed]"
     },
     "metadata": {},
     "output_type": "display_data"
    }
   ],
   "source": [
    "from mctools.plot.states import prepare_state_centers\n",
    "\n",
    "width = 0.1\n",
    "x_c = prepare_state_centers(cas_states, column_width=2)\n",
    "\n",
    "plt.hlines('E', x_c - width, x_c + width, data=cas_states.df)\n",
    "plt.show()"
   ]
  },
  {
   "cell_type": "markdown",
   "id": "bab6325e",
   "metadata": {},
   "source": [
    "# Analyze RASCI States"
   ]
  },
  {
   "cell_type": "code",
   "execution_count": 7,
   "id": "7b7f3b99",
   "metadata": {
    "collapsed": false,
    "ExecuteTime": {
     "end_time": "2023-05-09T16:07:03.010623Z",
     "start_time": "2023-05-09T16:07:02.935034Z"
    }
   },
   "outputs": [
    {
     "name": "stdout",
     "output_type": "stream",
     "text": [
      "Reading /Users/kirill/Documents/UW/Li_Group/CsPbCl3_Ln/calculations/rasci/ras-36p-14f/rasci_62s.ce3p_casscf_sa14_14s_gb3lyp_ref.tzvppall.gdv_j14p.7491751.log\n",
      "Parsing link l910\n",
      "Executing: read_mc_spec --- Done\n",
      "Executing: read_ci --- Done\n",
      "Executing: read_rdm_diags --- Done\n",
      "Skipping: read_oscillator_strength, parameter n_ground is unavailable\n"
     ]
    }
   ],
   "source": [
    "rasci_gs_dir = '/Users/kirill/Documents/UW/Li_Group/CsPbCl3_Ln/calculations/rasci/ras-36p-14f'\n",
    "\n",
    "gs_space = MCSpace.from_space_spec(\n",
    "    (36, 14, 12), 37,\n",
    "    max_hole=2, max_elec=2,\n",
    "    mo_blocks={\n",
    "        '3p': [(0, 36)],\n",
    "        '4f': [(36, 50)],\n",
    "        'virt': [(50, 62)],\n",
    "    },\n",
    "    config_classes={\n",
    "        'f1': {'3p': 36, '4f': 1, 'virt': 0},\n",
    "        'Lf2': {'3p': 35, '4f': 2, 'virt': 0}\n",
    "    }\n",
    ")\n",
    "\n",
    "ce3p_cas_gdvlog = os.path.join(rasci_gs_dir, 'rasci_62s.ce3p_casscf_sa14_14s_gb3lyp_ref.tzvppall.gdv_j14p.7491751.log')\n",
    "data = parse_gdvlog(ce3p_cas_gdvlog, l910_parser_funcs_general)\n",
    "states = MCStates.from_dict(data, space=gs_space)\n",
    "states.analyze()"
   ]
  },
  {
   "cell_type": "code",
   "execution_count": 8,
   "id": "3ef7e680",
   "metadata": {
    "collapsed": false,
    "ExecuteTime": {
     "end_time": "2023-05-09T16:07:03.667619Z",
     "start_time": "2023-05-09T16:07:03.595578Z"
    }
   },
   "outputs": [
    {
     "name": "stdout",
     "output_type": "stream",
     "text": [
      "Reading /Users/kirill/Documents/UW/Li_Group/CsPbCl3_Ln/calculations/rasci/ras-36p-14f/rasci_62s.ce4p_gb3lyp_ref.tzvppall.gdv_j14p.7403644.log\n",
      "Parsing link l910\n",
      "Executing: read_mc_spec --- Done\n",
      "Executing: read_ci --- Done\n",
      "Executing: read_rdm_diags --- Done\n",
      "Skipping: read_oscillator_strength, parameter n_ground is unavailable\n"
     ]
    }
   ],
   "source": [
    "ce4p_space = MCSpace.from_space_spec(\n",
    "    (36, 14, 12), 36,\n",
    "    max_hole=2, max_elec=2,\n",
    "    mo_blocks={\n",
    "        '3p': [(0, 36)],\n",
    "        '4f': [(36, 50)],\n",
    "        'virt': [(50, 62)],\n",
    "    },\n",
    "    config_classes={\n",
    "        'f0': {'3p': 36, '4f': 0, 'virt': 0},\n",
    "\n",
    "        'Lf1': {'3p': 35, '4f': 1, 'virt': 0},\n",
    "        'Ld1': {'3p': 35, '4f': 0, 'virt': 1},\n",
    "\n",
    "        'L2f1d1': {'3p': 34, '4f': 1, 'virt': 1},\n",
    "        'L2f0d2': {'3p': 34, '4f': 0, 'virt': 2},\n",
    "    }\n",
    ")\n",
    "\n",
    "ce4p_cas_gdvlog = os.path.join(rasci_gs_dir, 'rasci_62s.ce4p_gb3lyp_ref.tzvppall.gdv_j14p.7403644.log')\n",
    "data = parse_gdvlog(ce4p_cas_gdvlog, l910_parser_funcs_general)\n",
    "ce4p = MCStates.from_dict(data, space=ce4p_space)\n",
    "ce4p.analyze()"
   ]
  },
  {
   "cell_type": "code",
   "execution_count": 9,
   "id": "bdf090bc",
   "metadata": {
    "collapsed": false,
    "ExecuteTime": {
     "end_time": "2023-05-09T16:07:04.154180Z",
     "start_time": "2023-05-09T16:07:04.140992Z"
    }
   },
   "outputs": [
    {
     "name": "stdout",
     "output_type": "stream",
     "text": [
      "                             C      norm           r1    r2    r3                                                       config_repr config_class\n",
      "idx addr                                                                                                                                        \n",
      "1   194     0.500411-0.168521j  0.278810  68715282431    32     0  111111111111111111111101111111111111 00000100000000 000000000000          Lf1\n",
      "    160     0.152747+0.471134j  0.245299  68718428159    16     0  111111111111111111110111111111111111 00001000000000 000000000000          Lf1\n",
      "    199    -0.320732+0.104866j  0.113866  68719345663    32     0  111111111111111110111111111111111111 00000100000000 000000000000          Lf1\n",
      "    164     0.097885+0.299679j  0.099389  68719411199    16     0  111111111111111101111111111111111111 00001000000000 000000000000          Lf1\n",
      "    191    -0.142523+0.045986j  0.022427  68685922303    32     0  111111111111111111111111101111111111 00000100000000 000000000000          Lf1\n",
      "    153    -0.134767+0.043525j  0.020056  68585259007    16     0  111111111111111111111111111011111111 00001000000000 000000000000          Lf1\n",
      "    410     0.037643+0.111793j  0.013915  68715282431  2048     0  111111111111111111111101111111111111 00000000000100 000000000000          Lf1\n",
      "    376     0.034586+0.106877j  0.012619  68718428159  1024     0  111111111111111111110111111111111111 00000000001000 000000000000          Lf1\n",
      "    415    -0.021867-0.066892j  0.004953  68719345663  2048     0  111111111111111110111111111111111111 00000000000100 000000000000          Lf1\n",
      "    380     0.021090+0.064685j  0.004629  68719411199  1024     0  111111111111111101111111111111111111 00000000001000 000000000000          Lf1\n",
      "    29575  -0.021734-0.064335j  0.004611  68706893823    48     0  111111111111111111111100111111111111 00001100000000 000000000000             \n",
      "    23933   0.021577+0.064291j  0.004599  68714233855    40     0  111111111111111111110101111111111111 00010100000000 000000000000             \n",
      "    17003  -0.020353-0.060200j  0.004038  68714233855    20     0  111111111111111111110101111111111111 00101000000000 000000000000             \n",
      "    29604  -0.060472+0.019336j  0.004031  68716331007    48     0  111111111111111111110011111111111111 00001100000000 000000000000             \n",
      "    39714   0.058950-0.019851j  0.003869  68715020287  8224     0  111111111111111111011101111111111111 00000100000001 000000000000             \n",
      "    39068   0.058941-0.019850j  0.003868  68714758143  4128     0  111111111111111111101101111111111111 00000100000010 000000000000             \n",
      "    58045  -0.018041-0.055923j  0.003453  68719476703     0    32  111110111111111111111111111111111111 00000000000000 000001000000          Ld1\n",
      "    34676   0.018044+0.055660j  0.003424  68718166015  8208     0  111111111111111111010111111111111111 00001000000001 000000000000             \n",
      "    34030   0.017938+0.055327j  0.003383  68717903871  4112     0  111111111111111111100111111111111111 00001000000010 000000000000             \n",
      "    37163  -0.015057-0.044768j  0.002231  68714233855   544     0  111111111111111111110101111111111111 00000100010000 000000000000             \n",
      "    37765   0.014992+0.044461j  0.002202  68706893823  1056     0  111111111111111111111100111111111111 00000100001000 000000000000             \n",
      "    31493  -0.042328+0.014280j  0.001996  68714233855   272     0  111111111111111111110101111111111111 00001000100000 000000000000             \n",
      "    33384  -0.013333-0.041700j  0.001917  68716331007  2064     0  111111111111111111110011111111111111 00001000000100 000000000000             \n",
      "    23983   0.013248+0.040664j  0.001829  68718297087    40     0  111111111111111110110111111111111111 00010100000000 000000000000             \n",
      "    39831  -0.040071+0.013494j  0.001788  68715278335  8224     0  111111111111011111111101111111111111 00000100000001 000000000000             \n",
      "    29650   0.013152+0.040097j  0.001781  68710957055    48     0  111111111111111110111110111111111111 00001100000000 000000000000             \n",
      "    36503   0.013430+0.039994j  0.001780  68681727999   288     0  111111111111111111111101101111111111 00000100100000 000000000000             \n",
      "    39179   0.039148-0.013184j  0.001706  68715274239  4128     0  111111111111101111111101111111111111 00000100000010 000000000000             \n",
      "    17069  -0.012843-0.037712j  0.001587  68715216895    20     0  111111111111111101111101111111111111 00101000000000 000000000000             \n",
      "    34793  -0.012249-0.037780j  0.001577  68718424063  8208     0  111111111111011111110111111111111111 00001000000001 000000000000             \n",
      "    32118   0.012173+0.037743j  0.001573  68584210431   528     0  111111111111111111110111111011111111 00001000010000 000000000000             \n",
      "    29670  -0.037421+0.012053j  0.001546  68717314047    48     0  111111111111111101111011111111111111 00001100000000 000000000000             \n",
      "    39735   0.037277-0.012187j  0.001538  68719083519  8224     0  111111111111111110011111111111111111 00000100000001 000000000000             \n",
      "    159045  0.036856-0.012415j  0.001513  68715282430    32  2048  011111111111111111111101111111111111 00000100000000 000000000001       L2f1d1\n",
      "    39104   0.036796-0.012032j  0.001499  68718821375  4128     0  111111111111111110101111111111111111 00000100000010 000000000000             \n",
      "    34141   0.011925+0.036782j  0.001495  68718419967  4112     0  111111111111101111110111111111111111 00001000000010 000000000000             \n",
      "    491    -0.036090+0.011679j  0.001439  68719468543  8192     0  111111111111101111111111111111111111 00000000000001 000000000000          Lf1\n",
      "    58261   0.035888-0.011584j  0.001422  68719476703     0  2048  111110111111111111111111111111111111 00000000000000 000000000001          Ld1\n",
      "    57     -0.011467-0.035794j  0.001413  68719443967     2     0  111111111111111011111111111111111111 01000000000000 000000000000          Lf1\n",
      "    38392   0.011899+0.035306j  0.001388  68648173567  2080     0  111111111111111111111101110111111111 00000100000100 000000000000             \n",
      "    34713  -0.011435-0.035012j  0.001357  68719149055  8208     0  111111111111111101011111111111111111 00001000000001 000000000000             \n",
      "    140710 -0.011169-0.034470j  0.001313  68718428155    16   512  110111111111111111110111111111111111 00001000000000 000000000100       L2f1d1\n",
      "    34082  -0.011179-0.034222j  0.001296  68718886911  4112     0  111111111111111101101111111111111111 00001000000010 000000000000             \n",
      "    58020   0.010877+0.033740j  0.001257  67645734911     0    32  111111111111111111111111111111011111 00000000000000 000001000000          Ld1\n",
      "    32751  -0.033386+0.010900j  0.001233  68701650943  1040     0  111111111111111111110111011111111111 00001000001000 000000000000             \n",
      "    3110    0.011195+0.033228j  0.001229  68446846975    33     0  111111111111111111111101111101111111 10000100000000 000000000000             \n",
      "    58013   0.033266-0.010611j  0.001219  68719476733     0    16  101111111111111111111111111111111111 00000000000000 000010000000          Ld1\n",
      "    49     -0.010699-0.033144j  0.001213  68711088127     2     0  111111111111111111111110111111111111 01000000000000 000000000000          Lf1\n",
      "    10669  -0.011016-0.032725j  0.001192  68178411519    34     0  111111111111111111111101111110111111 01000100000000 000000000000             \n",
      "    58010  -0.032322+0.010306j  0.001151  68719476719     0    16  111101111111111111111111111111111111 00000000000000 000010000000          Ld1\n"
     ]
    }
   ],
   "source": [
    "with pd.option_context('max_colwidth', 100_000, 'display.expand_frame_repr', False):\n",
    "    df = ce4p.get_state_ci_vec([1])\n",
    "    print(df)"
   ]
  },
  {
   "cell_type": "code",
   "execution_count": 10,
   "outputs": [
    {
     "name": "stdout",
     "output_type": "stream",
     "text": [
      "========================================================================================================================\n",
      "#    0: E =            0Eh\n",
      "        MO: 3p(35.88) + 4f( 0.09) + virt( 0.03)\n",
      "        |ψ> = f0(89.440%) + Lf1( 8.670%) + Ld1( 0.118%) + L2f1d1( 0.000%) + L2f0d2( 0.212%)\n",
      "------------------------------------------------------------------------------------------------------------------------\n",
      " Addr                 RAS1                      RAS2          RAS3               Coefficient           \n",
      "     0 111111111111111111111111111111111111 00000000000000 000000000000 C = -0.941+0.096j |C|^2 =  0.894\n",
      "   124 111111111111111111110111111111111111 00010000000000 000000000000 C =  0.009+0.087j |C|^2 =  0.008\n",
      "   195 111111111111111111111011111111111111 00000100000000 000000000000 C =  0.009+0.087j |C|^2 =  0.008\n",
      "    86 111111111111111111111101111111111111 00100000000000 000000000000 C =  0.087-0.010j |C|^2 =  0.008\n",
      "   157 111111111111111111111110111111111111 00001000000000 000000000000 C =  0.009+0.087j |C|^2 =  0.008\n",
      "   449 111111111111111111101111111111111111 00000000000010 000000000000 C = -0.072+0.007j |C|^2 =  0.005\n",
      "========================================================================================================================\n",
      "#    1: E =     0.189808Eh\n",
      "        MO: 3p(34.84) + 4f( 1.10) + virt( 0.05)\n",
      "        |ψ> = f0( 0.000%) + Lf1(82.003%) + Ld1( 0.850%) + L2f1d1( 0.283%) + L2f0d2( 0.000%)\n",
      "------------------------------------------------------------------------------------------------------------------------\n",
      " Addr                 RAS1                      RAS2          RAS3               Coefficient           \n",
      "   194 111111111111111111111101111111111111 00000100000000 000000000000 C =  0.500-0.169j |C|^2 =  0.279\n",
      "   160 111111111111111111110111111111111111 00001000000000 000000000000 C =  0.153+0.471j |C|^2 =  0.245\n",
      "   199 111111111111111110111111111111111111 00000100000000 000000000000 C = -0.321+0.105j |C|^2 =  0.114\n",
      "   164 111111111111111101111111111111111111 00001000000000 000000000000 C =  0.098+0.300j |C|^2 =  0.099\n",
      "   191 111111111111111111111111101111111111 00000100000000 000000000000 C = -0.143+0.046j |C|^2 =  0.022\n",
      "   153 111111111111111111111111111011111111 00001000000000 000000000000 C = -0.135+0.044j |C|^2 =  0.020\n",
      "========================================================================================================================\n",
      "#    2: E =     0.189808Eh\n",
      "        MO: 3p(34.84) + 4f( 1.10) + virt( 0.05)\n",
      "        |ψ> = f0( 0.000%) + Lf1(81.849%) + Ld1( 0.752%) + L2f1d1( 0.000%) + L2f0d2( 0.000%)\n",
      "------------------------------------------------------------------------------------------------------------------------\n",
      " Addr                 RAS1                      RAS2          RAS3               Coefficient           \n",
      "   124 111111111111111111110111111111111111 00010000000000 000000000000 C =  0.188+0.336j |C|^2 =  0.148\n",
      "   157 111111111111111111111110111111111111 00001000000000 000000000000 C = -0.189-0.336j |C|^2 =  0.148\n",
      "   195 111111111111111111111011111111111111 00000100000000 000000000000 C = -0.164-0.296j |C|^2 =  0.115\n",
      "    86 111111111111111111111101111111111111 00100000000000 000000000000 C =  0.293-0.169j |C|^2 =  0.115\n",
      "   128 111111111111111101111111111111111111 00010000000000 000000000000 C =  0.121+0.215j |C|^2 =  0.061\n",
      "   165 111111111111111011111111111111111111 00001000000000 000000000000 C = -0.120-0.215j |C|^2 =  0.061\n",
      "========================================================================================================================\n"
     ]
    }
   ],
   "source": [
    "ce4p.print_state(idx=[0, 1, 2], include_mo=True, include_config_class=True, shift_ground=True, config_limit=6)"
   ],
   "metadata": {
    "collapsed": false,
    "ExecuteTime": {
     "end_time": "2023-05-09T16:07:04.638418Z",
     "start_time": "2023-05-09T16:07:04.626842Z"
    }
   },
   "id": "978c90f1cead79c7"
  },
  {
   "cell_type": "code",
   "execution_count": 11,
   "outputs": [
    {
     "data": {
      "text/plain": "                E  state                                       state_source   \nidx                                                                           \n0   -11624.398525      1  /Users/kirill/Documents/UW/Li_Group/CsPbCl3_Ln...  \\\n1   -11624.208718      2  /Users/kirill/Documents/UW/Li_Group/CsPbCl3_Ln...   \n2   -11624.208718      3  /Users/kirill/Documents/UW/Li_Group/CsPbCl3_Ln...   \n3   -11624.208718      4  /Users/kirill/Documents/UW/Li_Group/CsPbCl3_Ln...   \n4   -11624.205538      5  /Users/kirill/Documents/UW/Li_Group/CsPbCl3_Ln...   \n..            ...    ...                                                ...   \n57  -11624.186860     58  /Users/kirill/Documents/UW/Li_Group/CsPbCl3_Ln...   \n58  -11624.186860     59  /Users/kirill/Documents/UW/Li_Group/CsPbCl3_Ln...   \n59  -11624.186860     60  /Users/kirill/Documents/UW/Li_Group/CsPbCl3_Ln...   \n60  -11624.186554     61  /Users/kirill/Documents/UW/Li_Group/CsPbCl3_Ln...   \n61  -11624.186554     62  /Users/kirill/Documents/UW/Li_Group/CsPbCl3_Ln...   \n\n     g      norm         3p        4f      virt       Ld1       Lf1    L2f0d2   \nidx                                                                             \n0    0  0.992161  35.877056  0.094078  0.028871  0.001176  0.086696  0.002116  \\\n1    1  0.948112  34.843072  1.102732  0.054198  0.008502  0.820028  0.000000   \n2    1  0.939675  34.843073  1.102732  0.054198  0.007523  0.818489  0.000000   \n3    1  0.948099  34.843071  1.102731  0.054198  0.008502  0.820002  0.000000   \n4    2  0.922620  34.842682  1.105899  0.051419  0.008673  0.814061  0.000000   \n..  ..       ...        ...       ...       ...       ...       ...       ...   \n57   8  0.921813  34.834995  1.111837  0.053166  0.005314  0.807546  0.000000   \n58   8  0.915842  34.834997  1.111839  0.053165  0.008556  0.804478  0.000000   \n59   8  0.922227  34.834998  1.111841  0.053165  0.005321  0.808272  0.000000   \n60   8  0.931257  34.826782  1.111155  0.062062  0.003593  0.797350  0.000000   \n61   8  0.934842  34.826784  1.111156  0.062062  0.008485  0.801046  0.000000   \n\n         rest        f0    L2f1d1  \nidx                                \n0    0.000000  0.894397  0.000000  \n1    0.067562  0.000000  0.002825  \n2    0.056977  0.000000  0.000000  \n3    0.067562  0.000000  0.002825  \n4    0.028493  0.000000  0.000000  \n..        ...       ...       ...  \n57   0.036880  0.000000  0.000000  \n58   0.025731  0.000000  0.000000  \n59   0.036911  0.000000  0.000000  \n60   0.066297  0.000000  0.000000  \n61   0.064397  0.000000  0.000000  \n\n[62 rows x 14 columns]",
      "text/html": "<div>\n<style scoped>\n    .dataframe tbody tr th:only-of-type {\n        vertical-align: middle;\n    }\n\n    .dataframe tbody tr th {\n        vertical-align: top;\n    }\n\n    .dataframe thead th {\n        text-align: right;\n    }\n</style>\n<table border=\"1\" class=\"dataframe\">\n  <thead>\n    <tr style=\"text-align: right;\">\n      <th></th>\n      <th>E</th>\n      <th>state</th>\n      <th>state_source</th>\n      <th>g</th>\n      <th>norm</th>\n      <th>3p</th>\n      <th>4f</th>\n      <th>virt</th>\n      <th>Ld1</th>\n      <th>Lf1</th>\n      <th>L2f0d2</th>\n      <th>rest</th>\n      <th>f0</th>\n      <th>L2f1d1</th>\n    </tr>\n    <tr>\n      <th>idx</th>\n      <th></th>\n      <th></th>\n      <th></th>\n      <th></th>\n      <th></th>\n      <th></th>\n      <th></th>\n      <th></th>\n      <th></th>\n      <th></th>\n      <th></th>\n      <th></th>\n      <th></th>\n      <th></th>\n    </tr>\n  </thead>\n  <tbody>\n    <tr>\n      <th>0</th>\n      <td>-11624.398525</td>\n      <td>1</td>\n      <td>/Users/kirill/Documents/UW/Li_Group/CsPbCl3_Ln...</td>\n      <td>0</td>\n      <td>0.992161</td>\n      <td>35.877056</td>\n      <td>0.094078</td>\n      <td>0.028871</td>\n      <td>0.001176</td>\n      <td>0.086696</td>\n      <td>0.002116</td>\n      <td>0.000000</td>\n      <td>0.894397</td>\n      <td>0.000000</td>\n    </tr>\n    <tr>\n      <th>1</th>\n      <td>-11624.208718</td>\n      <td>2</td>\n      <td>/Users/kirill/Documents/UW/Li_Group/CsPbCl3_Ln...</td>\n      <td>1</td>\n      <td>0.948112</td>\n      <td>34.843072</td>\n      <td>1.102732</td>\n      <td>0.054198</td>\n      <td>0.008502</td>\n      <td>0.820028</td>\n      <td>0.000000</td>\n      <td>0.067562</td>\n      <td>0.000000</td>\n      <td>0.002825</td>\n    </tr>\n    <tr>\n      <th>2</th>\n      <td>-11624.208718</td>\n      <td>3</td>\n      <td>/Users/kirill/Documents/UW/Li_Group/CsPbCl3_Ln...</td>\n      <td>1</td>\n      <td>0.939675</td>\n      <td>34.843073</td>\n      <td>1.102732</td>\n      <td>0.054198</td>\n      <td>0.007523</td>\n      <td>0.818489</td>\n      <td>0.000000</td>\n      <td>0.056977</td>\n      <td>0.000000</td>\n      <td>0.000000</td>\n    </tr>\n    <tr>\n      <th>3</th>\n      <td>-11624.208718</td>\n      <td>4</td>\n      <td>/Users/kirill/Documents/UW/Li_Group/CsPbCl3_Ln...</td>\n      <td>1</td>\n      <td>0.948099</td>\n      <td>34.843071</td>\n      <td>1.102731</td>\n      <td>0.054198</td>\n      <td>0.008502</td>\n      <td>0.820002</td>\n      <td>0.000000</td>\n      <td>0.067562</td>\n      <td>0.000000</td>\n      <td>0.002825</td>\n    </tr>\n    <tr>\n      <th>4</th>\n      <td>-11624.205538</td>\n      <td>5</td>\n      <td>/Users/kirill/Documents/UW/Li_Group/CsPbCl3_Ln...</td>\n      <td>2</td>\n      <td>0.922620</td>\n      <td>34.842682</td>\n      <td>1.105899</td>\n      <td>0.051419</td>\n      <td>0.008673</td>\n      <td>0.814061</td>\n      <td>0.000000</td>\n      <td>0.028493</td>\n      <td>0.000000</td>\n      <td>0.000000</td>\n    </tr>\n    <tr>\n      <th>...</th>\n      <td>...</td>\n      <td>...</td>\n      <td>...</td>\n      <td>...</td>\n      <td>...</td>\n      <td>...</td>\n      <td>...</td>\n      <td>...</td>\n      <td>...</td>\n      <td>...</td>\n      <td>...</td>\n      <td>...</td>\n      <td>...</td>\n      <td>...</td>\n    </tr>\n    <tr>\n      <th>57</th>\n      <td>-11624.186860</td>\n      <td>58</td>\n      <td>/Users/kirill/Documents/UW/Li_Group/CsPbCl3_Ln...</td>\n      <td>8</td>\n      <td>0.921813</td>\n      <td>34.834995</td>\n      <td>1.111837</td>\n      <td>0.053166</td>\n      <td>0.005314</td>\n      <td>0.807546</td>\n      <td>0.000000</td>\n      <td>0.036880</td>\n      <td>0.000000</td>\n      <td>0.000000</td>\n    </tr>\n    <tr>\n      <th>58</th>\n      <td>-11624.186860</td>\n      <td>59</td>\n      <td>/Users/kirill/Documents/UW/Li_Group/CsPbCl3_Ln...</td>\n      <td>8</td>\n      <td>0.915842</td>\n      <td>34.834997</td>\n      <td>1.111839</td>\n      <td>0.053165</td>\n      <td>0.008556</td>\n      <td>0.804478</td>\n      <td>0.000000</td>\n      <td>0.025731</td>\n      <td>0.000000</td>\n      <td>0.000000</td>\n    </tr>\n    <tr>\n      <th>59</th>\n      <td>-11624.186860</td>\n      <td>60</td>\n      <td>/Users/kirill/Documents/UW/Li_Group/CsPbCl3_Ln...</td>\n      <td>8</td>\n      <td>0.922227</td>\n      <td>34.834998</td>\n      <td>1.111841</td>\n      <td>0.053165</td>\n      <td>0.005321</td>\n      <td>0.808272</td>\n      <td>0.000000</td>\n      <td>0.036911</td>\n      <td>0.000000</td>\n      <td>0.000000</td>\n    </tr>\n    <tr>\n      <th>60</th>\n      <td>-11624.186554</td>\n      <td>61</td>\n      <td>/Users/kirill/Documents/UW/Li_Group/CsPbCl3_Ln...</td>\n      <td>8</td>\n      <td>0.931257</td>\n      <td>34.826782</td>\n      <td>1.111155</td>\n      <td>0.062062</td>\n      <td>0.003593</td>\n      <td>0.797350</td>\n      <td>0.000000</td>\n      <td>0.066297</td>\n      <td>0.000000</td>\n      <td>0.000000</td>\n    </tr>\n    <tr>\n      <th>61</th>\n      <td>-11624.186554</td>\n      <td>62</td>\n      <td>/Users/kirill/Documents/UW/Li_Group/CsPbCl3_Ln...</td>\n      <td>8</td>\n      <td>0.934842</td>\n      <td>34.826784</td>\n      <td>1.111156</td>\n      <td>0.062062</td>\n      <td>0.008485</td>\n      <td>0.801046</td>\n      <td>0.000000</td>\n      <td>0.064397</td>\n      <td>0.000000</td>\n      <td>0.000000</td>\n    </tr>\n  </tbody>\n</table>\n<p>62 rows × 14 columns</p>\n</div>"
     },
     "execution_count": 11,
     "metadata": {},
     "output_type": "execute_result"
    }
   ],
   "source": [
    "ce4p.df"
   ],
   "metadata": {
    "collapsed": false,
    "ExecuteTime": {
     "end_time": "2023-05-09T16:07:05.577477Z",
     "start_time": "2023-05-09T16:07:05.571516Z"
    }
   },
   "id": "3828074c9bbc29e9"
  },
  {
   "cell_type": "markdown",
   "id": "82c92ab4",
   "metadata": {},
   "source": [
    "#  M-Edge Spectrum"
   ]
  },
  {
   "cell_type": "code",
   "execution_count": 3,
   "id": "0627e1e1",
   "metadata": {
    "collapsed": false,
    "ExecuteTime": {
     "end_time": "2023-05-09T16:10:27.404908Z",
     "start_time": "2023-05-09T16:10:27.324078Z"
    }
   },
   "outputs": [
    {
     "name": "stdout",
     "output_type": "stream",
     "text": [
      "Reading data/rasci_3.log\n",
      "Parsing link l910\n",
      "Executing: read_mc_spec --- Done\n",
      "Executing: read_ci --- Done\n",
      "Executing: read_rdm_diags --- Done\n",
      "Executing: read_oscillator_strength --- Done\n"
     ]
    }
   ],
   "source": [
    "rasci_gdvlog = os.path.join(data_dir, 'rasci_3.log')\n",
    "\n",
    "m_edge_data = parse_gdvlog(rasci_gdvlog, l910_parser_funcs_general, n_ground=14)\n",
    "medge_space = MCSpace.from_dict(m_edge_data, max_hole=1, max_elec=0)\n",
    "medge_states = MCStates.from_dict(m_edge_data, space=medge_space)\n",
    "\n",
    "\n",
    "medge_space.mo_blocks = {\n",
    "    '3d': [(0, 10)],\n",
    "    '4f': [(10, 23), 59],\n",
    "    '5p': [(23, 59)],\n",
    "}\n",
    "\n",
    "medge_space.config_classes = {\n",
    "    'f13': {'3d': 10, '4f': 13, '5p': 36},\n",
    "    'Lf14': {'3d': 10, '4f': 14, '5p': 35},\n",
    "    'f14': {'3d': 9, '4f': 14, '5p': 36},\n",
    "}\n",
    "\n",
    "medge_states.analyze()"
   ]
  },
  {
   "cell_type": "code",
   "execution_count": 7,
   "outputs": [
    {
     "name": "stdout",
     "output_type": "stream",
     "text": [
      "                E  state      state_source   g  norm         3d         4f   \n",
      "idx                                                                          \n",
      "0   -56745.342439      1  data/rasci_3.log   0   1.0  10.000000  13.040405  \\\n",
      "1   -56745.342439      2  data/rasci_3.log   0   1.0  10.000000  13.027429   \n",
      "2   -56745.341908      3  data/rasci_3.log   0   1.0  10.000000  13.031923   \n",
      "3   -56745.341908      4  data/rasci_3.log   0   1.0  10.000000  13.019910   \n",
      "4   -56745.341905      5  data/rasci_3.log   0   1.0  10.000000  13.036848   \n",
      "5   -56745.341905      6  data/rasci_3.log   0   1.0  10.000000  13.019469   \n",
      "6   -56745.340935      7  data/rasci_3.log   0   1.0  10.000000  13.005058   \n",
      "7   -56745.340934      8  data/rasci_3.log   0   1.0  10.000000  13.004808   \n",
      "8   -56745.288809      9  data/rasci_3.log   1   1.0  10.000000  13.144299   \n",
      "9   -56745.288809     10  data/rasci_3.log   1   1.0  10.000000  13.150603   \n",
      "10  -56745.288804     11  data/rasci_3.log   1   1.0  10.000000  13.143131   \n",
      "11  -56745.288804     12  data/rasci_3.log   1   1.0  10.000000  13.149827   \n",
      "12  -56745.285262     13  data/rasci_3.log   2   1.0  10.000000  13.029141   \n",
      "13  -56745.285262     14  data/rasci_3.log   2   1.0  10.000000  13.029022   \n",
      "14  -56745.266203     15  data/rasci_3.log   3   1.0  10.000000  13.999651   \n",
      "15  -56745.266203     16  data/rasci_3.log   3   1.0  10.000000  13.999642   \n",
      "16  -56745.266189     17  data/rasci_3.log   3   1.0  10.000000  13.999304   \n",
      "17  -56745.266189     18  data/rasci_3.log   3   1.0  10.000000  13.999378   \n",
      "18  -56745.258169     19  data/rasci_3.log   4   1.0  10.000000  13.832192   \n",
      "19  -56745.258169     20  data/rasci_3.log   4   1.0  10.000000  13.851318   \n",
      "20  -56745.258120     21  data/rasci_3.log   4   1.0  10.000000  13.836987   \n",
      "21  -56745.258120     22  data/rasci_3.log   4   1.0  10.000000  13.849945   \n",
      "22  -56745.253568     23  data/rasci_3.log   5   1.0  10.000000  13.966246   \n",
      "23  -56745.253568     24  data/rasci_3.log   5   1.0  10.000000  13.966623   \n",
      "24  -56745.245768     25  data/rasci_3.log   6   1.0  10.000000  13.998163   \n",
      "25  -56745.245768     26  data/rasci_3.log   6   1.0  10.000000  13.998070   \n",
      "26  -56745.244313     27  data/rasci_3.log   7   1.0  10.000000  13.984455   \n",
      "27  -56745.244313     28  data/rasci_3.log   7   1.0  10.000000  13.982283   \n",
      "28  -56745.244207     29  data/rasci_3.log   7   1.0  10.000000  13.982692   \n",
      "29  -56745.244207     30  data/rasci_3.log   7   1.0  10.000000  13.985700   \n",
      "30  -56745.238779     31  data/rasci_3.log   8   1.0  10.000000  13.999878   \n",
      "31  -56745.238779     32  data/rasci_3.log   8   1.0  10.000000  13.999885   \n",
      "32  -56745.238690     33  data/rasci_3.log   8   1.0  10.000000  13.999794   \n",
      "33  -56745.238690     34  data/rasci_3.log   8   1.0  10.000000  13.999827   \n",
      "34  -56745.228219     35  data/rasci_3.log   9   1.0  10.000000  13.999337   \n",
      "35  -56745.228219     36  data/rasci_3.log   9   1.0  10.000000  13.999456   \n",
      "36  -56745.226133     37  data/rasci_3.log  10   1.0  10.000000  13.985563   \n",
      "37  -56745.226132     38  data/rasci_3.log  10   1.0  10.000000  13.988681   \n",
      "38  -56745.216577     39  data/rasci_3.log  11   1.0  10.000000  13.990097   \n",
      "39  -56745.216577     40  data/rasci_3.log  11   1.0  10.000000  13.987688   \n",
      "40  -56745.199524     41  data/rasci_3.log  12   1.0  10.000000  13.995873   \n",
      "41  -56745.199524     42  data/rasci_3.log  12   1.0  10.000000  13.997017   \n",
      "42  -56745.199457     43  data/rasci_3.log  12   1.0  10.000000  13.997076   \n",
      "43  -56745.199457     44  data/rasci_3.log  12   1.0  10.000000  13.995815   \n",
      "44  -56745.198270     45  data/rasci_3.log  13   1.0  10.000000  13.999957   \n",
      "45  -56745.198270     46  data/rasci_3.log  13   1.0  10.000000  13.999969   \n",
      "46  -56745.198219     47  data/rasci_3.log  13   1.0  10.000000  13.999843   \n",
      "47  -56745.198219     48  data/rasci_3.log  13   1.0  10.000000  13.999784   \n",
      "48  -56745.181512     49  data/rasci_3.log  14   1.0  10.000000  13.999977   \n",
      "49  -56745.181512     50  data/rasci_3.log  14   1.0  10.000000  13.999982   \n",
      "50  -56688.578930     51  data/rasci_3.log  15   1.0   9.000000  14.000000   \n",
      "51  -56688.578916     52  data/rasci_3.log  15   1.0   9.000000  14.000000   \n",
      "52  -56688.578839     53  data/rasci_3.log  15   1.0   9.000002  14.000000   \n",
      "53  -56688.578838     54  data/rasci_3.log  15   1.0   9.000000  14.000000   \n",
      "54  -56688.578828     55  data/rasci_3.log  15   1.0   9.000000  14.000000   \n",
      "55  -56688.578823     56  data/rasci_3.log  15   1.0   9.000000  14.000000   \n",
      "56  -56686.763693     57  data/rasci_3.log  16   1.0   9.000001  14.000000   \n",
      "57  -56686.763692     58  data/rasci_3.log  16   1.0   9.000001  14.000000   \n",
      "58  -56686.763691     59  data/rasci_3.log  16   1.0   9.000001  14.000000   \n",
      "59  -56686.763691     60  data/rasci_3.log  16   1.0   9.000001  14.000000   \n",
      "\n",
      "            5p      Lf14       f13  f14  \n",
      "idx                                      \n",
      "0    35.959596  0.040404  0.959596  0.0  \n",
      "1    35.972571  0.027430  0.972570  0.0  \n",
      "2    35.968080  0.031921  0.968079  0.0  \n",
      "3    35.980091  0.019910  0.980090  0.0  \n",
      "4    35.963156  0.036846  0.963154  0.0  \n",
      "5    35.980532  0.019469  0.980531  0.0  \n",
      "6    35.994945  0.005058  0.994942  0.0  \n",
      "7    35.995193  0.004807  0.995193  0.0  \n",
      "8    35.855703  0.144297  0.855703  0.0  \n",
      "9    35.849398  0.150603  0.849397  0.0  \n",
      "10   35.856873  0.143130  0.856870  0.0  \n",
      "11   35.850176  0.149826  0.850174  0.0  \n",
      "12   35.970862  0.029139  0.970861  0.0  \n",
      "13   35.970981  0.029021  0.970979  0.0  \n",
      "14   35.000348  0.999652  0.000348  0.0  \n",
      "15   35.000360  0.999642  0.000358  0.0  \n",
      "16   35.000698  0.999303  0.000697  0.0  \n",
      "17   35.000626  0.999376  0.000624  0.0  \n",
      "18   35.167808  0.832193  0.167807  0.0  \n",
      "19   35.148685  0.851317  0.148683  0.0  \n",
      "20   35.163015  0.836987  0.163013  0.0  \n",
      "21   35.150056  0.849945  0.150055  0.0  \n",
      "22   35.033754  0.966246  0.033754  0.0  \n",
      "23   35.033378  0.966623  0.033377  0.0  \n",
      "24   35.001840  0.998163  0.001837  0.0  \n",
      "25   35.001930  0.998071  0.001929  0.0  \n",
      "26   35.015550  0.984455  0.015545  0.0  \n",
      "27   35.017717  0.982283  0.017717  0.0  \n",
      "28   35.017308  0.982690  0.017310  0.0  \n",
      "29   35.014295  0.985702  0.014298  0.0  \n",
      "30   35.000123  0.999878  0.000122  0.0  \n",
      "31   35.000118  0.999885  0.000115  0.0  \n",
      "32   35.000208  0.999794  0.000206  0.0  \n",
      "33   35.000173  0.999828  0.000172  0.0  \n",
      "34   35.000663  0.999337  0.000663  0.0  \n",
      "35   35.000545  0.999457  0.000543  0.0  \n",
      "36   35.014438  0.985562  0.014438  0.0  \n",
      "37   35.011321  0.988680  0.011320  0.0  \n",
      "38   35.009906  0.990095  0.009905  0.0  \n",
      "39   35.012313  0.987688  0.012312  0.0  \n",
      "40   35.004127  0.995873  0.004127  0.0  \n",
      "41   35.002985  0.997016  0.002984  0.0  \n",
      "42   35.002927  0.997074  0.002926  0.0  \n",
      "43   35.004188  0.995814  0.004186  0.0  \n",
      "44   35.000044  0.999956  0.000044  0.0  \n",
      "45   35.000036  0.999969  0.000031  0.0  \n",
      "46   35.000160  0.999842  0.000158  0.0  \n",
      "47   35.000219  0.999783  0.000217  0.0  \n",
      "48   35.000024  0.999977  0.000023  0.0  \n",
      "49   35.000020  0.999982  0.000018  0.0  \n",
      "50   36.000000  0.000000  0.000000  1.0  \n",
      "51   36.000000  0.000000  0.000000  1.0  \n",
      "52   36.000000  0.000000  0.000000  1.0  \n",
      "53   36.000000  0.000000  0.000000  1.0  \n",
      "54   36.000000  0.000000  0.000000  1.0  \n",
      "55   36.000000  0.000000  0.000000  1.0  \n",
      "56   36.000000  0.000000  0.000000  1.0  \n",
      "57   36.000000  0.000000  0.000000  1.0  \n",
      "58   36.000000  0.000000  0.000000  1.0  \n",
      "59   36.000000  0.000000  0.000000  1.0  \n"
     ]
    }
   ],
   "source": [
    "print(medge_states.df)"
   ],
   "metadata": {
    "collapsed": false,
    "ExecuteTime": {
     "end_time": "2023-05-09T16:11:52.691573Z",
     "start_time": "2023-05-09T16:11:52.683630Z"
    }
   },
   "id": "cdf3054f36a396aa"
  },
  {
   "cell_type": "code",
   "execution_count": 8,
   "id": "ec0a6538",
   "metadata": {
    "collapsed": false,
    "ExecuteTime": {
     "end_time": "2023-05-09T16:11:55.584446Z",
     "start_time": "2023-05-09T16:11:55.579400Z"
    }
   },
   "outputs": [
    {
     "name": "stdout",
     "output_type": "stream",
     "text": [
      "     i_state  f_state       osc       peak_source         dE        3d   \n",
      "0         14       15  0.001281  data/rasci_3.log   0.019059  0.000000  \\\n",
      "1         13       15  0.001920  data/rasci_3.log   0.019059  0.000000   \n",
      "2         14       16  0.001921  data/rasci_3.log   0.019059  0.000000   \n",
      "3         13       16  0.001280  data/rasci_3.log   0.019059  0.000000   \n",
      "4         14       17  0.002281  data/rasci_3.log   0.019073  0.000000   \n",
      "..       ...      ...       ...               ...        ...       ...   \n",
      "589        3       60  0.000004  data/rasci_3.log  58.578217 -0.999999   \n",
      "590        1       57  0.000012  data/rasci_3.log  58.578745 -0.999999   \n",
      "591        2       58  0.000014  data/rasci_3.log  58.578747 -0.999999   \n",
      "592        1       59  0.000012  data/rasci_3.log  58.578747 -0.999999   \n",
      "593        2       60  0.000009  data/rasci_3.log  58.578748 -0.999999   \n",
      "\n",
      "           4f        5p  \n",
      "0    0.970629 -0.970633  \n",
      "1    0.970510 -0.970514  \n",
      "2    0.970620 -0.970621  \n",
      "3    0.970501 -0.970502  \n",
      "4    0.970282 -0.970283  \n",
      "..        ...       ...  \n",
      "589  0.968077  0.031920  \n",
      "590  0.959595  0.040404  \n",
      "591  0.972571  0.027429  \n",
      "592  0.959595  0.040404  \n",
      "593  0.972571  0.027429  \n",
      "\n",
      "[594 rows x 8 columns]\n"
     ]
    }
   ],
   "source": [
    "print(medge_states.peaks.df)"
   ]
  },
  {
   "cell_type": "code",
   "execution_count": 6,
   "id": "9b5d3906",
   "metadata": {
    "collapsed": false
   },
   "outputs": [
    {
     "name": "stdout",
     "output_type": "stream",
     "text": [
      "Reading /Users/kirill/Documents/UW/Li_Group/CrI3_Yb/notebooks/../calculations/mc/x2c_tzvpall_2c/cas_36p_14f/rasci/rasci_68s.r1_2s_6p_10d.casscf_sa50_50s_ref.yb3p.exp.tzvpall.gdv_j14p.7748435.log\n",
      "Parsing link l910\n",
      "Executing: read_mc_spec\n",
      "Executing: read_ci\n",
      "Executing: read_pdm_diags\n",
      "Executing: read_oscillator_strength\n"
     ]
    },
    {
     "name": "stderr",
     "output_type": "stream",
     "text": [
      "/Users/kirill/Documents/UW/Li_Group/mctools/mctools/core/cistring/graphs.py:316: RuntimeWarning: Using python int as config data type, expect slow performance\n",
      "  warnings.warn('Using python int as config data type, expect slow performance', RuntimeWarning)\n",
      "/Users/kirill/Documents/UW/Li_Group/mctools/mctools/core/cistring/graphs.py:60: RuntimeWarning: Using python int as config data type, expect slow performance\n",
      "  warnings.warn('Using python int as config data type, expect slow performance', RuntimeWarning)\n"
     ]
    }
   ],
   "source": [
    "gdvlog = '/Users/kirill/Documents/UW/Li_Group/CrI3_Yb/notebooks/../calculations/mc/x2c_tzvpall_2c/cas_36p_14f/rasci/rasci_68s.r1_2s_6p_10d.casscf_sa50_50s_ref.yb3p.exp.tzvpall.gdv_j14p.7748435.log'\n",
    "\n",
    "data = parse_gdvlog(gdvlog, l910_parser_funcs, n_ground=14)\n",
    "medge_space = MCSpace.from_dict(data, max_hole=0, max_elec=0, use_python_int=True)\n",
    "medge_states = MCStates.from_dict(data, space=medge_space)\n",
    "medge_spec = MCSpectrum.from_dict(data, states=medge_states)\n",
    "\n",
    "medge_space.mo_blocks = {\n",
    "    'M': [(0, 18)],\n",
    "    '4f':   [(18, 31), 67],\n",
    "    '5p':   [(31, 67),],\n",
    "\n",
    "    # 'virt': [(60, 72)],\n",
    "}\n",
    "\n",
    "medge_space.config_classes = {\n",
    "    'f13': {'4f': 13},\n",
    "    'Lf14': {'5p': 35, '4f': 14},\n",
    "    'Mf14': {'M': 17, '4f': 14},\n",
    "}\n",
    "\n",
    "medge_spec.analyze()"
   ]
  },
  {
   "cell_type": "code",
   "execution_count": 7,
   "id": "4462d86e",
   "metadata": {
    "collapsed": false,
    "ExecuteTime": {
     "end_time": "2023-05-09T03:43:42.088710Z",
     "start_time": "2023-05-09T03:43:41.685458Z"
    }
   },
   "outputs": [
    {
     "ename": "NameError",
     "evalue": "name 'medge_spec' is not defined",
     "output_type": "error",
     "traceback": [
      "\u001B[0;31m---------------------------------------------------------------------------\u001B[0m",
      "\u001B[0;31mNameError\u001B[0m                                 Traceback (most recent call last)",
      "Cell \u001B[0;32mIn[7], line 1\u001B[0m\n\u001B[0;32m----> 1\u001B[0m \u001B[43mmedge_spec\u001B[49m\u001B[38;5;241m.\u001B[39mstates\u001B[38;5;241m.\u001B[39mdf[\u001B[38;5;124m'\u001B[39m\u001B[38;5;124mstate\u001B[39m\u001B[38;5;124m'\u001B[39m]\u001B[38;5;241m.\u001B[39misin([\u001B[38;5;241m1\u001B[39m, \u001B[38;5;241m2\u001B[39m])\n",
      "\u001B[0;31mNameError\u001B[0m: name 'medge_spec' is not defined"
     ]
    }
   ],
   "source": [
    "medge_spec.states.df['state'].isin([1, 2])"
   ]
  },
  {
   "cell_type": "markdown",
   "id": "f82f0b9a",
   "metadata": {},
   "source": [
    "# Partitioned K-edge Spectrum"
   ]
  },
  {
   "cell_type": "code",
   "execution_count": 89,
   "id": "eecadb98",
   "metadata": {
    "collapsed": false
   },
   "outputs": [
    {
     "name": "stdout",
     "output_type": "stream",
     "text": [
      "Reading data/spectrum/part1.log\n",
      "Parsing link l910\n",
      "Executing: read_mc_spec\n",
      "Executing: read_ci\n",
      "Executing: read_pdm_diags\n",
      "Executing: read_oscillator_strength\n",
      "Reading data/spectrum/part2.log\n",
      "Parsing link l910\n",
      "Executing: read_mc_spec\n",
      "Executing: read_ci\n",
      "Executing: read_pdm_diags\n",
      "Executing: read_oscillator_strength\n"
     ]
    }
   ],
   "source": [
    "spec_space = MCSpace.from_space_spec(\n",
    "    (12, 14, 10), 13,\n",
    "    max_hole=2, max_elec=1,\n",
    "    mo_blocks={\n",
    "        '1s': [(0, 6)],\n",
    "        '3p': [(6, 12)],\n",
    "        '4f': [(12, 26)],\n",
    "        '5d': [(26, 36)],\n",
    "    },\n",
    ")\n",
    "\n",
    "gdvlogs = sorted(glob.glob(os.path.join(data_dir, 'spectrum', 'part*.log')))\n",
    "\n",
    "spec_parts = []\n",
    "for gdvlog in gdvlogs:\n",
    "    part_data = parse_gdvlog(gdvlog, l910_parser_funcs, n_ground=2)\n",
    "    spec = MCSpectrum.from_dict(part_data, space=spec_space, sort_peaks=True, )\n",
    "    spec_parts.append(spec)"
   ]
  },
  {
   "cell_type": "code",
   "execution_count": 116,
   "id": "415360d0",
   "metadata": {
    "collapsed": false
   },
   "outputs": [],
   "source": [
    "left = spec_parts[0].states\n",
    "right = spec_parts[1].states\n",
    "\n",
    "alignment = get_state_alignment(left, right)"
   ]
  },
  {
   "cell_type": "code",
   "execution_count": 120,
   "id": "6b31abad",
   "metadata": {
    "collapsed": false
   },
   "outputs": [],
   "source": [
    "sl_l, sl_r, overlap = alignment[2]\n",
    "\n",
    "dfl = left.df.iloc[sl_l][left.IDX_COLS].rename(columns={\n",
    "    left.STATE_COL: f'{left.STATE_COL}_left',\n",
    "    left.SOURCE_COL: f'{left.SOURCE_COL}_left',\n",
    "})\n",
    "\n",
    "dfr = right.df.iloc[sl_r][right.IDX_COLS].rename(columns={\n",
    "    right.STATE_COL: f'{right.STATE_COL}_right',\n",
    "    right.SOURCE_COL: f'{right.SOURCE_COL}_right',\n",
    "})\n",
    "\n",
    "df = pd.concat([dfl.reset_index(drop=True), dfr.reset_index(drop=True)], axis=1)\n",
    "df['overlap'] = overlap"
   ]
  },
  {
   "cell_type": "code",
   "execution_count": 14,
   "id": "b3d4f4ab",
   "metadata": {
    "collapsed": false
   },
   "outputs": [],
   "source": [
    "spec = MCSpectrum.from_spectra(spec_parts)"
   ]
  },
  {
   "cell_type": "code",
   "execution_count": 15,
   "id": "6405f8f5",
   "metadata": {
    "collapsed": false
   },
   "outputs": [
    {
     "data": {
      "image/png": "[encoded data removed]",
      "text/plain": [
       "<Figure size 640x480 with 1 Axes>"
      ]
     },
     "metadata": {},
     "output_type": "display_data"
    }
   ],
   "source": [
    "fig, ax = plt.subplots(1, 1)\n",
    "\n",
    "ax.vlines('dE', 0, 'osc', data=spec.df)\n",
    "plt.show()"
   ]
  },
  {
   "cell_type": "code",
   "execution_count": 16,
   "id": "bba0e173",
   "metadata": {
    "collapsed": false
   },
   "outputs": [
    {
     "data": {
      "text/html": [
       "<div>\n",
       "<style scoped>\n",
       "    .dataframe tbody tr th:only-of-type {\n",
       "        vertical-align: middle;\n",
       "    }\n",
       "\n",
       "    .dataframe tbody tr th {\n",
       "        vertical-align: top;\n",
       "    }\n",
       "\n",
       "    .dataframe thead th {\n",
       "        text-align: right;\n",
       "    }\n",
       "</style>\n",
       "<table border=\"1\" class=\"dataframe\">\n",
       "  <thead>\n",
       "    <tr style=\"text-align: right;\">\n",
       "      <th></th>\n",
       "      <th>i_state</th>\n",
       "      <th>f_state</th>\n",
       "      <th>osc</th>\n",
       "      <th>source</th>\n",
       "      <th>dE</th>\n",
       "      <th>f</th>\n",
       "      <th>i</th>\n",
       "    </tr>\n",
       "    <tr>\n",
       "      <th>idx</th>\n",
       "      <th></th>\n",
       "      <th></th>\n",
       "      <th></th>\n",
       "      <th></th>\n",
       "      <th></th>\n",
       "      <th></th>\n",
       "      <th></th>\n",
       "    </tr>\n",
       "  </thead>\n",
       "  <tbody>\n",
       "    <tr>\n",
       "      <th>0</th>\n",
       "      <td>1</td>\n",
       "      <td>3</td>\n",
       "      <td>0.000012</td>\n",
       "      <td>data/spectrum/part1.log</td>\n",
       "      <td>105.086119</td>\n",
       "      <td>2</td>\n",
       "      <td>0</td>\n",
       "    </tr>\n",
       "    <tr>\n",
       "      <th>1</th>\n",
       "      <td>2</td>\n",
       "      <td>5</td>\n",
       "      <td>0.000012</td>\n",
       "      <td>data/spectrum/part1.log</td>\n",
       "      <td>105.086194</td>\n",
       "      <td>4</td>\n",
       "      <td>1</td>\n",
       "    </tr>\n",
       "    <tr>\n",
       "      <th>2</th>\n",
       "      <td>1</td>\n",
       "      <td>5</td>\n",
       "      <td>0.000006</td>\n",
       "      <td>data/spectrum/part1.log</td>\n",
       "      <td>105.086194</td>\n",
       "      <td>4</td>\n",
       "      <td>0</td>\n",
       "    </tr>\n",
       "    <tr>\n",
       "      <th>3</th>\n",
       "      <td>1</td>\n",
       "      <td>6</td>\n",
       "      <td>0.000006</td>\n",
       "      <td>data/spectrum/part1.log</td>\n",
       "      <td>105.086194</td>\n",
       "      <td>5</td>\n",
       "      <td>0</td>\n",
       "    </tr>\n",
       "    <tr>\n",
       "      <th>4</th>\n",
       "      <td>2</td>\n",
       "      <td>9</td>\n",
       "      <td>0.000018</td>\n",
       "      <td>data/spectrum/part1.log</td>\n",
       "      <td>105.091361</td>\n",
       "      <td>8</td>\n",
       "      <td>1</td>\n",
       "    </tr>\n",
       "    <tr>\n",
       "      <th>...</th>\n",
       "      <td>...</td>\n",
       "      <td>...</td>\n",
       "      <td>...</td>\n",
       "      <td>...</td>\n",
       "      <td>...</td>\n",
       "      <td>...</td>\n",
       "      <td>...</td>\n",
       "    </tr>\n",
       "    <tr>\n",
       "      <th>147</th>\n",
       "      <td>2</td>\n",
       "      <td>165</td>\n",
       "      <td>0.000001</td>\n",
       "      <td>data/spectrum/part2.log</td>\n",
       "      <td>105.114965</td>\n",
       "      <td>242</td>\n",
       "      <td>1</td>\n",
       "    </tr>\n",
       "    <tr>\n",
       "      <th>148</th>\n",
       "      <td>2</td>\n",
       "      <td>167</td>\n",
       "      <td>0.000003</td>\n",
       "      <td>data/spectrum/part2.log</td>\n",
       "      <td>105.115001</td>\n",
       "      <td>244</td>\n",
       "      <td>1</td>\n",
       "    </tr>\n",
       "    <tr>\n",
       "      <th>149</th>\n",
       "      <td>1</td>\n",
       "      <td>170</td>\n",
       "      <td>0.000003</td>\n",
       "      <td>data/spectrum/part2.log</td>\n",
       "      <td>105.115084</td>\n",
       "      <td>247</td>\n",
       "      <td>0</td>\n",
       "    </tr>\n",
       "    <tr>\n",
       "      <th>150</th>\n",
       "      <td>1</td>\n",
       "      <td>173</td>\n",
       "      <td>0.000002</td>\n",
       "      <td>data/spectrum/part2.log</td>\n",
       "      <td>105.115099</td>\n",
       "      <td>250</td>\n",
       "      <td>0</td>\n",
       "    </tr>\n",
       "    <tr>\n",
       "      <th>151</th>\n",
       "      <td>1</td>\n",
       "      <td>174</td>\n",
       "      <td>0.000001</td>\n",
       "      <td>data/spectrum/part2.log</td>\n",
       "      <td>105.115099</td>\n",
       "      <td>251</td>\n",
       "      <td>0</td>\n",
       "    </tr>\n",
       "  </tbody>\n",
       "</table>\n",
       "<p>152 rows × 7 columns</p>\n",
       "</div>"
      ],
      "text/plain": [
       "     i_state  f_state       osc                   source          dE    f  i\n",
       "idx                                                                         \n",
       "0          1        3  0.000012  data/spectrum/part1.log  105.086119    2  0\n",
       "1          2        5  0.000012  data/spectrum/part1.log  105.086194    4  1\n",
       "2          1        5  0.000006  data/spectrum/part1.log  105.086194    4  0\n",
       "3          1        6  0.000006  data/spectrum/part1.log  105.086194    5  0\n",
       "4          2        9  0.000018  data/spectrum/part1.log  105.091361    8  1\n",
       "..       ...      ...       ...                      ...         ...  ... ..\n",
       "147        2      165  0.000001  data/spectrum/part2.log  105.114965  242  1\n",
       "148        2      167  0.000003  data/spectrum/part2.log  105.115001  244  1\n",
       "149        1      170  0.000003  data/spectrum/part2.log  105.115084  247  0\n",
       "150        1      173  0.000002  data/spectrum/part2.log  105.115099  250  0\n",
       "151        1      174  0.000001  data/spectrum/part2.log  105.115099  251  0\n",
       "\n",
       "[152 rows x 7 columns]"
      ]
     },
     "execution_count": 16,
     "metadata": {},
     "output_type": "execute_result"
    }
   ],
   "source": [
    "spec.df"
   ]
  },
  {
   "cell_type": "code",
   "execution_count": 17,
   "id": "51f344e8",
   "metadata": {
    "collapsed": false
   },
   "outputs": [
    {
     "name": "stdout",
     "output_type": "stream",
     "text": [
      "Reading /Users/kirill/Documents/UW/Li_Group/CsPbCl3_Ln/calculations/rasci/ras-t1u_1s_3p-14_4f-10_5d/dipoles/rasci_414s.r1_t1u_2t1u.cut_105_30506.ce3p_casscf_sa14_14s_gb3lyp_ref.ano_cl.gdv_j14p.7527806.log\n",
      "Parsing link l910\n",
      "Executing: read_mc_spec\n",
      "Executing: read_ci\n",
      "Executing: read_pdm_diags\n",
      "Executing: read_oscillator_strength\n",
      "Reading /Users/kirill/Documents/UW/Li_Group/CsPbCl3_Ln/calculations/rasci/ras-t1u_1s_3p-14_4f-10_5d/dipoles/rasci_414s.r1_t1u_2t1u.cut_105_13379.ce3p_casscf_sa14_14s_gb3lyp_ref.ano_cl.gdv_j14p.7527806.log\n",
      "Parsing link l910\n",
      "Executing: read_mc_spec\n",
      "Executing: read_ci\n",
      "Executing: read_pdm_diags\n",
      "Executing: read_oscillator_strength\n",
      "Reading /Users/kirill/Documents/UW/Li_Group/CsPbCl3_Ln/calculations/rasci/ras-t1u_1s_3p-14_4f-10_5d/dipoles/rasci_414s.r1_t1u_2t1u.cut_105_21828.ce3p_casscf_sa14_14s_gb3lyp_ref.ano_cl.gdv_j14p.7527806.log\n",
      "Parsing link l910\n",
      "Executing: read_mc_spec\n",
      "Executing: read_ci\n",
      "Executing: read_pdm_diags\n",
      "Executing: read_oscillator_strength\n",
      "Reading /Users/kirill/Documents/UW/Li_Group/CsPbCl3_Ln/calculations/rasci/ras-t1u_1s_3p-14_4f-10_5d/dipoles/rasci_414s.r1_t1u_2t1u.cut_100.ce3p_casscf_sa14_14s_gb3lyp_ref.ano_cl.gdv_j14p.7527806.log\n",
      "Parsing link l910\n",
      "Executing: read_mc_spec\n",
      "Executing: read_ci\n",
      "Executing: read_pdm_diags\n",
      "Executing: read_oscillator_strength\n"
     ]
    }
   ],
   "source": [
    "rasci_dir = '/Users/kirill/Documents/UW/Li_Group/CsPbCl3_Ln/calculations/rasci/ras-t1u_1s_3p-14_4f-10_5d/dipoles'\n",
    "\n",
    "gdvlogs = glob.glob(os.path.join(rasci_dir, 'rasci_414s.*ano_cl*.log'))\n",
    "\n",
    "space = MCSpace.from_space_spec(\n",
    "    ras=(12, 14, 10),\n",
    "    elec=13,\n",
    "    max_hole=2, max_elec=1,\n",
    "    mo_blocks={\n",
    "        '1s': [(0, 6)],\n",
    "        '3p': [(6, 12)],\n",
    "        '4f': [(12, 26)],\n",
    "        '5d': [(26, 36)],\n",
    "    },\n",
    ")\n",
    "\n",
    "spec_parts = []\n",
    "for gdvlog in gdvlogs:\n",
    "    part_data = parse_gdvlog(gdvlog, l910_parser_funcs, n_ground=14)\n",
    "    spec = MCSpectrum.from_dict(part_data, space=space, sort_peaks=True)\n",
    "    spec_parts.append(spec)\n",
    "\n",
    "spec_parts = sorted(spec_parts, key=lambda x: np.mean(x.energy_range))"
   ]
  },
  {
   "cell_type": "code",
   "execution_count": 18,
   "id": "bb25fd26",
   "metadata": {
    "collapsed": false
   },
   "outputs": [
    {
     "ename": "IntCastingNaNError",
     "evalue": "Cannot convert non-finite values (NA or inf) to integer",
     "output_type": "error",
     "traceback": [
      "\u001B[0;31m---------------------------------------------------------------------------\u001B[0m",
      "\u001B[0;31mIntCastingNaNError\u001B[0m                        Traceback (most recent call last)",
      "Cell \u001B[0;32mIn [18], line 1\u001B[0m\n\u001B[0;32m----> 1\u001B[0m \u001B[43mMCSpectrum\u001B[49m\u001B[38;5;241;43m.\u001B[39;49m\u001B[43mfrom_spectra\u001B[49m\u001B[43m(\u001B[49m\u001B[43mspec_parts\u001B[49m\u001B[43m)\u001B[49m\n",
      "File \u001B[0;32m~/Documents/UW/Li_Group/mctools/mctools/core/mcspectrum.py:252\u001B[0m, in \u001B[0;36mMCSpectrum.from_spectra\u001B[0;34m(cls, spectra, **kwargs)\u001B[0m\n\u001B[1;32m    250\u001B[0m base_spec \u001B[38;5;241m=\u001B[39m copy\u001B[38;5;241m.\u001B[39mdeepcopy(spectra[\u001B[38;5;241m0\u001B[39m])\n\u001B[1;32m    251\u001B[0m \u001B[38;5;28;01mfor\u001B[39;00m spec \u001B[38;5;129;01min\u001B[39;00m spectra[\u001B[38;5;241m1\u001B[39m:]:\n\u001B[0;32m--> 252\u001B[0m     \u001B[43mbase_spec\u001B[49m\u001B[38;5;241;43m.\u001B[39;49m\u001B[43mextend\u001B[49m\u001B[43m(\u001B[49m\u001B[43mspec\u001B[49m\u001B[43m,\u001B[49m\u001B[43m \u001B[49m\u001B[38;5;241;43m*\u001B[39;49m\u001B[38;5;241;43m*\u001B[39;49m\u001B[43mkwargs\u001B[49m\u001B[43m)\u001B[49m\n\u001B[1;32m    254\u001B[0m \u001B[38;5;28;01mreturn\u001B[39;00m base_spec\n",
      "File \u001B[0;32m~/Documents/UW/Li_Group/mctools/mctools/core/mcspectrum.py:175\u001B[0m, in \u001B[0;36mMCSpectrum.extend\u001B[0;34m(self, other, **alignment_kwargs)\u001B[0m\n\u001B[1;32m    173\u001B[0m \u001B[38;5;66;03m# Set missed states\u001B[39;00m\n\u001B[1;32m    174\u001B[0m df\u001B[38;5;241m.\u001B[39mloc[missed_idx, \u001B[38;5;28mself\u001B[39m\u001B[38;5;241m.\u001B[39mINITIAL_COL] \u001B[38;5;241m=\u001B[39m temp_df2[\u001B[38;5;124m'\u001B[39m\u001B[38;5;124midx\u001B[39m\u001B[38;5;124m'\u001B[39m]\u001B[38;5;241m.\u001B[39mvalues\n\u001B[0;32m--> 175\u001B[0m df[\u001B[38;5;28mself\u001B[39m\u001B[38;5;241m.\u001B[39mINITIAL_COL] \u001B[38;5;241m=\u001B[39m \u001B[43mdf\u001B[49m\u001B[43m[\u001B[49m\u001B[38;5;28;43mself\u001B[39;49m\u001B[38;5;241;43m.\u001B[39;49m\u001B[43mINITIAL_COL\u001B[49m\u001B[43m]\u001B[49m\u001B[38;5;241;43m.\u001B[39;49m\u001B[43mastype\u001B[49m\u001B[43m(\u001B[49m\u001B[43mdf\u001B[49m\u001B[43m[\u001B[49m\u001B[38;5;28;43mself\u001B[39;49m\u001B[38;5;241;43m.\u001B[39;49m\u001B[43mFINAL_COL\u001B[49m\u001B[43m]\u001B[49m\u001B[38;5;241;43m.\u001B[39;49m\u001B[43mdtype\u001B[49m\u001B[43m)\u001B[49m\n\u001B[1;32m    177\u001B[0m \u001B[38;5;28mself\u001B[39m\u001B[38;5;241m.\u001B[39mdf \u001B[38;5;241m=\u001B[39m df\n\u001B[1;32m    179\u001B[0m \u001B[38;5;28mself\u001B[39m\u001B[38;5;241m.\u001B[39msort()\n",
      "File \u001B[0;32m/opt/homebrew/Caskroom/miniforge/base/envs/dev/lib/python3.10/site-packages/pandas/core/generic.py:6240\u001B[0m, in \u001B[0;36mNDFrame.astype\u001B[0;34m(self, dtype, copy, errors)\u001B[0m\n\u001B[1;32m   6233\u001B[0m     results \u001B[38;5;241m=\u001B[39m [\n\u001B[1;32m   6234\u001B[0m         \u001B[38;5;28mself\u001B[39m\u001B[38;5;241m.\u001B[39miloc[:, i]\u001B[38;5;241m.\u001B[39mastype(dtype, copy\u001B[38;5;241m=\u001B[39mcopy)\n\u001B[1;32m   6235\u001B[0m         \u001B[38;5;28;01mfor\u001B[39;00m i \u001B[38;5;129;01min\u001B[39;00m \u001B[38;5;28mrange\u001B[39m(\u001B[38;5;28mlen\u001B[39m(\u001B[38;5;28mself\u001B[39m\u001B[38;5;241m.\u001B[39mcolumns))\n\u001B[1;32m   6236\u001B[0m     ]\n\u001B[1;32m   6238\u001B[0m \u001B[38;5;28;01melse\u001B[39;00m:\n\u001B[1;32m   6239\u001B[0m     \u001B[38;5;66;03m# else, only a single dtype is given\u001B[39;00m\n\u001B[0;32m-> 6240\u001B[0m     new_data \u001B[38;5;241m=\u001B[39m \u001B[38;5;28;43mself\u001B[39;49m\u001B[38;5;241;43m.\u001B[39;49m\u001B[43m_mgr\u001B[49m\u001B[38;5;241;43m.\u001B[39;49m\u001B[43mastype\u001B[49m\u001B[43m(\u001B[49m\u001B[43mdtype\u001B[49m\u001B[38;5;241;43m=\u001B[39;49m\u001B[43mdtype\u001B[49m\u001B[43m,\u001B[49m\u001B[43m \u001B[49m\u001B[43mcopy\u001B[49m\u001B[38;5;241;43m=\u001B[39;49m\u001B[43mcopy\u001B[49m\u001B[43m,\u001B[49m\u001B[43m \u001B[49m\u001B[43merrors\u001B[49m\u001B[38;5;241;43m=\u001B[39;49m\u001B[43merrors\u001B[49m\u001B[43m)\u001B[49m\n\u001B[1;32m   6241\u001B[0m     \u001B[38;5;28;01mreturn\u001B[39;00m \u001B[38;5;28mself\u001B[39m\u001B[38;5;241m.\u001B[39m_constructor(new_data)\u001B[38;5;241m.\u001B[39m__finalize__(\u001B[38;5;28mself\u001B[39m, method\u001B[38;5;241m=\u001B[39m\u001B[38;5;124m\"\u001B[39m\u001B[38;5;124mastype\u001B[39m\u001B[38;5;124m\"\u001B[39m)\n\u001B[1;32m   6243\u001B[0m \u001B[38;5;66;03m# GH 33113: handle empty frame or series\u001B[39;00m\n",
      "File \u001B[0;32m/opt/homebrew/Caskroom/miniforge/base/envs/dev/lib/python3.10/site-packages/pandas/core/internals/managers.py:450\u001B[0m, in \u001B[0;36mBaseBlockManager.astype\u001B[0;34m(self, dtype, copy, errors)\u001B[0m\n\u001B[1;32m    449\u001B[0m \u001B[38;5;28;01mdef\u001B[39;00m \u001B[38;5;21mastype\u001B[39m(\u001B[38;5;28mself\u001B[39m: T, dtype, copy: \u001B[38;5;28mbool\u001B[39m \u001B[38;5;241m=\u001B[39m \u001B[38;5;28;01mFalse\u001B[39;00m, errors: \u001B[38;5;28mstr\u001B[39m \u001B[38;5;241m=\u001B[39m \u001B[38;5;124m\"\u001B[39m\u001B[38;5;124mraise\u001B[39m\u001B[38;5;124m\"\u001B[39m) \u001B[38;5;241m-\u001B[39m\u001B[38;5;241m>\u001B[39m T:\n\u001B[0;32m--> 450\u001B[0m     \u001B[38;5;28;01mreturn\u001B[39;00m \u001B[38;5;28;43mself\u001B[39;49m\u001B[38;5;241;43m.\u001B[39;49m\u001B[43mapply\u001B[49m\u001B[43m(\u001B[49m\u001B[38;5;124;43m\"\u001B[39;49m\u001B[38;5;124;43mastype\u001B[39;49m\u001B[38;5;124;43m\"\u001B[39;49m\u001B[43m,\u001B[49m\u001B[43m \u001B[49m\u001B[43mdtype\u001B[49m\u001B[38;5;241;43m=\u001B[39;49m\u001B[43mdtype\u001B[49m\u001B[43m,\u001B[49m\u001B[43m \u001B[49m\u001B[43mcopy\u001B[49m\u001B[38;5;241;43m=\u001B[39;49m\u001B[43mcopy\u001B[49m\u001B[43m,\u001B[49m\u001B[43m \u001B[49m\u001B[43merrors\u001B[49m\u001B[38;5;241;43m=\u001B[39;49m\u001B[43merrors\u001B[49m\u001B[43m)\u001B[49m\n",
      "File \u001B[0;32m/opt/homebrew/Caskroom/miniforge/base/envs/dev/lib/python3.10/site-packages/pandas/core/internals/managers.py:352\u001B[0m, in \u001B[0;36mBaseBlockManager.apply\u001B[0;34m(self, f, align_keys, ignore_failures, **kwargs)\u001B[0m\n\u001B[1;32m    350\u001B[0m         applied \u001B[38;5;241m=\u001B[39m b\u001B[38;5;241m.\u001B[39mapply(f, \u001B[38;5;241m*\u001B[39m\u001B[38;5;241m*\u001B[39mkwargs)\n\u001B[1;32m    351\u001B[0m     \u001B[38;5;28;01melse\u001B[39;00m:\n\u001B[0;32m--> 352\u001B[0m         applied \u001B[38;5;241m=\u001B[39m \u001B[38;5;28;43mgetattr\u001B[39;49m\u001B[43m(\u001B[49m\u001B[43mb\u001B[49m\u001B[43m,\u001B[49m\u001B[43m \u001B[49m\u001B[43mf\u001B[49m\u001B[43m)\u001B[49m\u001B[43m(\u001B[49m\u001B[38;5;241;43m*\u001B[39;49m\u001B[38;5;241;43m*\u001B[39;49m\u001B[43mkwargs\u001B[49m\u001B[43m)\u001B[49m\n\u001B[1;32m    353\u001B[0m \u001B[38;5;28;01mexcept\u001B[39;00m (\u001B[38;5;167;01mTypeError\u001B[39;00m, \u001B[38;5;167;01mNotImplementedError\u001B[39;00m):\n\u001B[1;32m    354\u001B[0m     \u001B[38;5;28;01mif\u001B[39;00m \u001B[38;5;129;01mnot\u001B[39;00m ignore_failures:\n",
      "File \u001B[0;32m/opt/homebrew/Caskroom/miniforge/base/envs/dev/lib/python3.10/site-packages/pandas/core/internals/blocks.py:526\u001B[0m, in \u001B[0;36mBlock.astype\u001B[0;34m(self, dtype, copy, errors)\u001B[0m\n\u001B[1;32m    508\u001B[0m \u001B[38;5;124;03m\"\"\"\u001B[39;00m\n\u001B[1;32m    509\u001B[0m \u001B[38;5;124;03mCoerce to the new dtype.\u001B[39;00m\n\u001B[1;32m    510\u001B[0m \n\u001B[0;32m   (...)\u001B[0m\n\u001B[1;32m    522\u001B[0m \u001B[38;5;124;03mBlock\u001B[39;00m\n\u001B[1;32m    523\u001B[0m \u001B[38;5;124;03m\"\"\"\u001B[39;00m\n\u001B[1;32m    524\u001B[0m values \u001B[38;5;241m=\u001B[39m \u001B[38;5;28mself\u001B[39m\u001B[38;5;241m.\u001B[39mvalues\n\u001B[0;32m--> 526\u001B[0m new_values \u001B[38;5;241m=\u001B[39m \u001B[43mastype_array_safe\u001B[49m\u001B[43m(\u001B[49m\u001B[43mvalues\u001B[49m\u001B[43m,\u001B[49m\u001B[43m \u001B[49m\u001B[43mdtype\u001B[49m\u001B[43m,\u001B[49m\u001B[43m \u001B[49m\u001B[43mcopy\u001B[49m\u001B[38;5;241;43m=\u001B[39;49m\u001B[43mcopy\u001B[49m\u001B[43m,\u001B[49m\u001B[43m \u001B[49m\u001B[43merrors\u001B[49m\u001B[38;5;241;43m=\u001B[39;49m\u001B[43merrors\u001B[49m\u001B[43m)\u001B[49m\n\u001B[1;32m    528\u001B[0m new_values \u001B[38;5;241m=\u001B[39m maybe_coerce_values(new_values)\n\u001B[1;32m    529\u001B[0m newb \u001B[38;5;241m=\u001B[39m \u001B[38;5;28mself\u001B[39m\u001B[38;5;241m.\u001B[39mmake_block(new_values)\n",
      "File \u001B[0;32m/opt/homebrew/Caskroom/miniforge/base/envs/dev/lib/python3.10/site-packages/pandas/core/dtypes/astype.py:299\u001B[0m, in \u001B[0;36mastype_array_safe\u001B[0;34m(values, dtype, copy, errors)\u001B[0m\n\u001B[1;32m    296\u001B[0m     \u001B[38;5;28;01mreturn\u001B[39;00m values\u001B[38;5;241m.\u001B[39mcopy()\n\u001B[1;32m    298\u001B[0m \u001B[38;5;28;01mtry\u001B[39;00m:\n\u001B[0;32m--> 299\u001B[0m     new_values \u001B[38;5;241m=\u001B[39m \u001B[43mastype_array\u001B[49m\u001B[43m(\u001B[49m\u001B[43mvalues\u001B[49m\u001B[43m,\u001B[49m\u001B[43m \u001B[49m\u001B[43mdtype\u001B[49m\u001B[43m,\u001B[49m\u001B[43m \u001B[49m\u001B[43mcopy\u001B[49m\u001B[38;5;241;43m=\u001B[39;49m\u001B[43mcopy\u001B[49m\u001B[43m)\u001B[49m\n\u001B[1;32m    300\u001B[0m \u001B[38;5;28;01mexcept\u001B[39;00m (\u001B[38;5;167;01mValueError\u001B[39;00m, \u001B[38;5;167;01mTypeError\u001B[39;00m):\n\u001B[1;32m    301\u001B[0m     \u001B[38;5;66;03m# e.g. astype_nansafe can fail on object-dtype of strings\u001B[39;00m\n\u001B[1;32m    302\u001B[0m     \u001B[38;5;66;03m#  trying to convert to float\u001B[39;00m\n\u001B[1;32m    303\u001B[0m     \u001B[38;5;28;01mif\u001B[39;00m errors \u001B[38;5;241m==\u001B[39m \u001B[38;5;124m\"\u001B[39m\u001B[38;5;124mignore\u001B[39m\u001B[38;5;124m\"\u001B[39m:\n",
      "File \u001B[0;32m/opt/homebrew/Caskroom/miniforge/base/envs/dev/lib/python3.10/site-packages/pandas/core/dtypes/astype.py:230\u001B[0m, in \u001B[0;36mastype_array\u001B[0;34m(values, dtype, copy)\u001B[0m\n\u001B[1;32m    227\u001B[0m     values \u001B[38;5;241m=\u001B[39m values\u001B[38;5;241m.\u001B[39mastype(dtype, copy\u001B[38;5;241m=\u001B[39mcopy)\n\u001B[1;32m    229\u001B[0m \u001B[38;5;28;01melse\u001B[39;00m:\n\u001B[0;32m--> 230\u001B[0m     values \u001B[38;5;241m=\u001B[39m \u001B[43mastype_nansafe\u001B[49m\u001B[43m(\u001B[49m\u001B[43mvalues\u001B[49m\u001B[43m,\u001B[49m\u001B[43m \u001B[49m\u001B[43mdtype\u001B[49m\u001B[43m,\u001B[49m\u001B[43m \u001B[49m\u001B[43mcopy\u001B[49m\u001B[38;5;241;43m=\u001B[39;49m\u001B[43mcopy\u001B[49m\u001B[43m)\u001B[49m\n\u001B[1;32m    232\u001B[0m \u001B[38;5;66;03m# in pandas we don't store numpy str dtypes, so convert to object\u001B[39;00m\n\u001B[1;32m    233\u001B[0m \u001B[38;5;28;01mif\u001B[39;00m \u001B[38;5;28misinstance\u001B[39m(dtype, np\u001B[38;5;241m.\u001B[39mdtype) \u001B[38;5;129;01mand\u001B[39;00m \u001B[38;5;28missubclass\u001B[39m(values\u001B[38;5;241m.\u001B[39mdtype\u001B[38;5;241m.\u001B[39mtype, \u001B[38;5;28mstr\u001B[39m):\n",
      "File \u001B[0;32m/opt/homebrew/Caskroom/miniforge/base/envs/dev/lib/python3.10/site-packages/pandas/core/dtypes/astype.py:140\u001B[0m, in \u001B[0;36mastype_nansafe\u001B[0;34m(arr, dtype, copy, skipna)\u001B[0m\n\u001B[1;32m    137\u001B[0m     \u001B[38;5;28;01mraise\u001B[39;00m \u001B[38;5;167;01mTypeError\u001B[39;00m(\u001B[38;5;124mf\u001B[39m\u001B[38;5;124m\"\u001B[39m\u001B[38;5;124mcannot astype a timedelta from [\u001B[39m\u001B[38;5;132;01m{\u001B[39;00marr\u001B[38;5;241m.\u001B[39mdtype\u001B[38;5;132;01m}\u001B[39;00m\u001B[38;5;124m] to [\u001B[39m\u001B[38;5;132;01m{\u001B[39;00mdtype\u001B[38;5;132;01m}\u001B[39;00m\u001B[38;5;124m]\u001B[39m\u001B[38;5;124m\"\u001B[39m)\n\u001B[1;32m    139\u001B[0m \u001B[38;5;28;01melif\u001B[39;00m np\u001B[38;5;241m.\u001B[39missubdtype(arr\u001B[38;5;241m.\u001B[39mdtype, np\u001B[38;5;241m.\u001B[39mfloating) \u001B[38;5;129;01mand\u001B[39;00m is_integer_dtype(dtype):\n\u001B[0;32m--> 140\u001B[0m     \u001B[38;5;28;01mreturn\u001B[39;00m \u001B[43m_astype_float_to_int_nansafe\u001B[49m\u001B[43m(\u001B[49m\u001B[43marr\u001B[49m\u001B[43m,\u001B[49m\u001B[43m \u001B[49m\u001B[43mdtype\u001B[49m\u001B[43m,\u001B[49m\u001B[43m \u001B[49m\u001B[43mcopy\u001B[49m\u001B[43m)\u001B[49m\n\u001B[1;32m    142\u001B[0m \u001B[38;5;28;01melif\u001B[39;00m is_object_dtype(arr\u001B[38;5;241m.\u001B[39mdtype):\n\u001B[1;32m    143\u001B[0m \n\u001B[1;32m    144\u001B[0m     \u001B[38;5;66;03m# if we have a datetime/timedelta array of objects\u001B[39;00m\n\u001B[1;32m    145\u001B[0m     \u001B[38;5;66;03m# then coerce to a proper dtype and recall astype_nansafe\u001B[39;00m\n\u001B[1;32m    147\u001B[0m     \u001B[38;5;28;01mif\u001B[39;00m is_datetime64_dtype(dtype):\n",
      "File \u001B[0;32m/opt/homebrew/Caskroom/miniforge/base/envs/dev/lib/python3.10/site-packages/pandas/core/dtypes/astype.py:182\u001B[0m, in \u001B[0;36m_astype_float_to_int_nansafe\u001B[0;34m(values, dtype, copy)\u001B[0m\n\u001B[1;32m    178\u001B[0m \u001B[38;5;124;03m\"\"\"\u001B[39;00m\n\u001B[1;32m    179\u001B[0m \u001B[38;5;124;03mastype with a check preventing converting NaN to an meaningless integer value.\u001B[39;00m\n\u001B[1;32m    180\u001B[0m \u001B[38;5;124;03m\"\"\"\u001B[39;00m\n\u001B[1;32m    181\u001B[0m \u001B[38;5;28;01mif\u001B[39;00m \u001B[38;5;129;01mnot\u001B[39;00m np\u001B[38;5;241m.\u001B[39misfinite(values)\u001B[38;5;241m.\u001B[39mall():\n\u001B[0;32m--> 182\u001B[0m     \u001B[38;5;28;01mraise\u001B[39;00m IntCastingNaNError(\n\u001B[1;32m    183\u001B[0m         \u001B[38;5;124m\"\u001B[39m\u001B[38;5;124mCannot convert non-finite values (NA or inf) to integer\u001B[39m\u001B[38;5;124m\"\u001B[39m\n\u001B[1;32m    184\u001B[0m     )\n\u001B[1;32m    185\u001B[0m \u001B[38;5;28;01mif\u001B[39;00m dtype\u001B[38;5;241m.\u001B[39mkind \u001B[38;5;241m==\u001B[39m \u001B[38;5;124m\"\u001B[39m\u001B[38;5;124mu\u001B[39m\u001B[38;5;124m\"\u001B[39m:\n\u001B[1;32m    186\u001B[0m     \u001B[38;5;66;03m# GH#45151\u001B[39;00m\n\u001B[1;32m    187\u001B[0m     \u001B[38;5;28;01mif\u001B[39;00m \u001B[38;5;129;01mnot\u001B[39;00m (values \u001B[38;5;241m>\u001B[39m\u001B[38;5;241m=\u001B[39m \u001B[38;5;241m0\u001B[39m)\u001B[38;5;241m.\u001B[39mall():\n",
      "\u001B[0;31mIntCastingNaNError\u001B[0m: Cannot convert non-finite values (NA or inf) to integer"
     ]
    }
   ],
   "source": [
    "MCSpectrum.from_spectra(spec_parts)"
   ]
  }
 ],
 "metadata": {
  "kernelspec": {
   "display_name": "Python 3 (ipykernel)",
   "language": "python",
   "name": "python3"
  },
  "language_info": {
   "codemirror_mode": {
    "name": "ipython",
    "version": 3
   },
   "file_extension": ".py",
   "mimetype": "text/x-python",
   "name": "python",
   "nbconvert_exporter": "python",
   "pygments_lexer": "ipython3",
   "version": "3.10.9"
  }
 },
 "nbformat": 4,
 "nbformat_minor": 5
}

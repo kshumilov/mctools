{
 "cells": [
  {
   "cell_type": "code",
   "execution_count": 5,
   "id": "3281fffb50e86ca0",
   "metadata": {
    "ExecuteTime": {
     "end_time": "2024-03-09T00:56:32.345206Z",
     "start_time": "2024-03-09T00:56:31.990366Z"
    },
    "collapsed": false,
    "jupyter": {
     "outputs_hidden": false
    }
   },
   "outputs": [],
   "source": [
    "import abc\n",
    "import pathlib\n",
    "import numpy as np\n",
    "import pandas as pd\n",
    "\n",
    "import matplotlib.pyplot as plt\n",
    "\n",
    "from rich.jupyter import print\n",
    "\n",
    "data_dir = pathlib.Path('tests').resolve()\n",
    "calc_dir = data_dir / 'data' / 'gaussian' / 'kedge'\n",
    "calc_name = 'integrals.gb3lyp_ref.tzvppall.noisy_oh.ce3p'\n",
    "calc_files = list(calc_dir.glob(f'{calc_name}.*'))\n",
    "\n",
    "log = calc_dir / f'{calc_name}.log'\n",
    "fchk = log.with_suffix('.fchk')\n",
    "basis_file = calc_dir / 'x2c-tzvpall-2c.nw'\n",
    "\n",
    "archive = log.with_suffix('.h5')\n",
    "\n",
    "opts = dict(suppress=True, formatter={'float_kind': lambda v: f'{v:-9.2e}' if np.abs(v) >= 1e-6 else ' 0.'.ljust(9)}, linewidth=200, edgeitems=5)\n",
    "\n",
    "# np.set_printoptions(suppress=True, formatter={'float_kind': lambda v: f'{v:-9.2e}' if v >= 1e-6 else ' 0.'.ljust(9)}, linewidth=200, edgeitems=5)\n",
    "# np.set_printoptions(precision=4)\n",
    "# np.set_printoptions()"
   ]
  },
  {
   "cell_type": "code",
   "execution_count": 6,
   "id": "8b21388d-1df0-4d73-8fa6-ce43aa4e4ea8",
   "metadata": {
    "ExecuteTime": {
     "end_time": "2024-03-09T00:56:34.204753Z",
     "start_time": "2024-03-09T00:56:32.462372Z"
    }
   },
   "outputs": [
    {
     "data": {
      "text/html": [
       "<pre style=\"white-space:pre;overflow-x:auto;line-height:normal;font-family:Menlo,'DejaVu Sans Mono',consolas,'Courier New',monospace\"><span style=\"color: #00ff00; text-decoration-color: #00ff00\">─ </span>Fchk file: <span style=\"color: #800080; text-decoration-color: #800080\">/Users/kirill/Documents/UW/Li_Group/mctools/tests/data/gaussian/kedge/</span><span style=\"color: #ff00ff; text-decoration-color: #ff00ff\">integrals.gb3lyp_ref.tzvppall…</span><span style=\"color: #00ff00; text-decoration-color: #00ff00\"> ─</span>\n",
       "</pre>\n"
      ],
      "text/plain": [
       "\u001b[92m─ \u001b[0mFchk file: \u001b[35m/Users/kirill/Documents/UW/Li_Group/mctools/tests/data/gaussian/kedge/\u001b[0m\u001b[95mintegrals.gb3lyp_ref.tzvppall…\u001b[0m\u001b[92m ─\u001b[0m\n"
      ]
     },
     "metadata": {},
     "output_type": "display_data"
    },
    {
     "data": {
      "text/html": [
       "<pre style=\"white-space:pre;overflow-x:auto;line-height:normal;font-family:Menlo,'DejaVu Sans Mono',consolas,'Courier New',monospace\">Parsing FCHK description<span style=\"color: #808000; text-decoration-color: #808000\">...</span>\n",
       "</pre>\n"
      ],
      "text/plain": [
       "Parsing FCHK description\u001b[33m...\u001b[0m\n"
      ]
     },
     "metadata": {},
     "output_type": "display_data"
    },
    {
     "data": {
      "text/html": [
       "<pre style=\"white-space:pre;overflow-x:auto;line-height:normal;font-family:Menlo,'DejaVu Sans Mono',consolas,'Courier New',monospace\">Parsing Molecule geometry<span style=\"color: #808000; text-decoration-color: #808000\">...</span>\n",
       "</pre>\n"
      ],
      "text/plain": [
       "Parsing Molecule geometry\u001b[33m...\u001b[0m\n"
      ]
     },
     "metadata": {},
     "output_type": "display_data"
    },
    {
     "data": {
      "text/html": [
       "<pre style=\"white-space:pre;overflow-x:auto;line-height:normal;font-family:Menlo,'DejaVu Sans Mono',consolas,'Courier New',monospace\">Parsing Atomic Orbital Basis<span style=\"color: #808000; text-decoration-color: #808000\">...</span>\n",
       "</pre>\n"
      ],
      "text/plain": [
       "Parsing Atomic Orbital Basis\u001b[33m...\u001b[0m\n"
      ]
     },
     "metadata": {},
     "output_type": "display_data"
    },
    {
     "data": {
      "text/html": [
       "<pre style=\"white-space:pre;overflow-x:auto;line-height:normal;font-family:Menlo,'DejaVu Sans Mono',consolas,'Courier New',monospace\">Parsing Molecular Orbital Basis<span style=\"color: #808000; text-decoration-color: #808000\">...</span>\n",
       "</pre>\n"
      ],
      "text/plain": [
       "Parsing Molecular Orbital Basis\u001b[33m...\u001b[0m\n"
      ]
     },
     "metadata": {},
     "output_type": "display_data"
    },
    {
     "data": {
      "text/html": [
       "<pre style=\"white-space:pre;overflow-x:auto;line-height:normal;font-family:Menlo,'DejaVu Sans Mono',consolas,'Courier New',monospace\">Finished parsing FCHK file\n",
       "</pre>\n"
      ],
      "text/plain": [
       "Finished parsing FCHK file\n"
      ]
     },
     "metadata": {},
     "output_type": "display_data"
    }
   ],
   "source": [
    "from mctools.parsing.gaussian.fchk import FchkParser\n",
    "\n",
    "with open(fchk, 'r') as file:\n",
    "    fchkdata, *_ = FchkParser().parse(file)"
   ]
  },
  {
   "cell_type": "code",
   "execution_count": 2,
   "id": "a302042f-b011-44bf-be4a-b2d122387844",
   "metadata": {},
   "outputs": [],
   "source": [
    "def read_rwfdump(filename: pathlib.Path, dtype=np.float_) -> np.ndarray:\n",
    "    with filename.open('r') as file:\n",
    "        while 'Dump' not in (line := file.readline()):\n",
    "            continue\n",
    "\n",
    "        size = int(line.split()[5])\n",
    "        arr = np.zeros(size, dtype=dtype)\n",
    "\n",
    "        n_read = 0\n",
    "        while n_read < size:\n",
    "            row = file.readline().replace('D', 'e').split()\n",
    "            arr[n_read:n_read + len(row)] = row\n",
    "            n_read += len(row)\n",
    "\n",
    "        return arr\n",
    "\n",
    "arr = read_rwfdump(log.with_suffix('.x2c'))\n",
    "arr = arr.view(np.complex_)"
   ]
  },
  {
   "cell_type": "code",
   "execution_count": 323,
   "id": "789f754d-f766-489a-b556-34e13c7b177f",
   "metadata": {},
   "outputs": [],
   "source": [
    "Y, X = np.split(arr, 2)\n",
    "n_basis = int(np.sqrt(Y.size)) // 2\n",
    "\n",
    "Y = Y.reshape(2 * n_basis, 2 * n_basis).T\n",
    "X = X.reshape(2 * n_basis, 2 * n_basis).T"
   ]
  },
  {
   "cell_type": "code",
   "execution_count": 324,
   "id": "8e8cab82-4eab-4985-9b34-baa8d8397f3f",
   "metadata": {},
   "outputs": [],
   "source": [
    "A, x, Bh = np.linalg.svd(X)"
   ]
  },
  {
   "cell_type": "code",
   "execution_count": 326,
   "id": "1809fe3c-471d-41ce-bb86-50249556f28e",
   "metadata": {},
   "outputs": [],
   "source": [
    "y = 1 / np.sqrt(1 + x.conj() * x)"
   ]
  },
  {
   "cell_type": "code",
   "execution_count": 331,
   "id": "1beb92d6-c5fc-4768-aca3-c5b2e01f2046",
   "metadata": {},
   "outputs": [],
   "source": [
    "Y2 = Bh.T.conj() @ np.diag(y) @ Bh"
   ]
  },
  {
   "cell_type": "code",
   "execution_count": 332,
   "id": "8e2190a0-ce83-48b7-b3d4-860d0ebb4e82",
   "metadata": {},
   "outputs": [
    {
     "data": {
      "text/plain": [
       "True"
      ]
     },
     "execution_count": 332,
     "metadata": {},
     "output_type": "execute_result"
    }
   ],
   "source": [
    "np.allclose(Y, Y2)"
   ]
  },
  {
   "cell_type": "code",
   "execution_count": 129,
   "id": "1d9fe81a-fcf3-436b-9f7f-5a2c961f6549",
   "metadata": {},
   "outputs": [],
   "source": [
    "from mctools.basic.basis import AtomicOrbitalBasis, MolecularOrbitalBasis\n",
    "\n",
    "\n",
    "def get_gaussian_to_pyscf(aos: pd.DataFrame) -> np.ndarray:\n",
    "    \"\"\"Calculates Row Permuatation matrix (P) of AOs\n",
    "\n",
    "    S_pyscf = P @ S_gaussian @ P.T\n",
    "    C_pyscf = C_gaussian @ P.T\n",
    "    \"\"\"\n",
    "    n_ao: int = len(aos)\n",
    "\n",
    "    ao_idx = np.arange(n_ao)\n",
    "    sort_idx = aos.sort_values(by=['atom_idx', 'l', 'shell_idx', 'ml']).resource_idx.to_numpy()\n",
    "\n",
    "    P = np.zeros((n_ao, n_ao), dtype=np.int_)\n",
    "    P[(ao_idx, sort_idx)] = 1\n",
    "\n",
    "    return P\n",
    "\n",
    "\n",
    "mo = MolecularOrbitalBasis.from_hdf5(archive)\n",
    "P = get_gaussian_to_pyscf(mo.ao_basis.df)\n",
    "\n",
    "C = mo.molorb.T.copy()"
   ]
  },
  {
   "cell_type": "code",
   "execution_count": 16,
   "id": "cd1ec580-4706-4ca6-b008-a817a549250b",
   "metadata": {
    "ExecuteTime": {
     "end_time": "2024-03-09T00:56:40.094249Z",
     "start_time": "2024-03-09T00:56:40.038167Z"
    }
   },
   "outputs": [],
   "source": [
    "from collections import defaultdict\n",
    "\n",
    "from mctools.newcore.resource import Resource\n",
    "from mctools.core.utils.constants import PeriodicTable as PT\n",
    "from mctools.core.utils.constants import ANGULAR_MOMENTUM_SYMBS\n",
    "\n",
    "\n",
    "\n",
    "def build_pyscf_atom(atomic_numbers: np.ndarray, atomic_coords: np.ndarray) -> list[tuple[str, np.ndarray]]:\n",
    "    symbols = PT.loc[atomic_numbers, 'Symbol'].to_numpy(dtype='U')\n",
    "    return [\n",
    "        (f'{s}{i}', coords)\n",
    "        for i, (s, coords) in enumerate(zip(symbols, atomic_coords))\n",
    "    ]\n",
    "\n",
    "\n",
    "def build_pyscf_basis(\n",
    "    shell_atom: np.ndarray,\n",
    "    shell_l: np.ndarray,\n",
    "    shell_size: np.ndarray,\n",
    "    prim_exp: np.ndarray,\n",
    "    prim_coeff: np.ndarray,\n",
    "    atomic_numbers: np.ndarray,\n",
    "):\n",
    "    basis: dict[str, list[int | list[float]]] = defaultdict(list)\n",
    "\n",
    "    atoms = np.asarray([f'{s}{i}' for i, s in enumerate(PT.loc[atomic_numbers, 'Symbol'])])\n",
    "\n",
    "    prim_offset = 0\n",
    "    for (atom, l, n_prim) in zip(atoms[shell_atom], shell_l, shell_size):\n",
    "        primitives = [\n",
    "            [e, c] for e, c in zip(\n",
    "                prim_exp[prim_offset:prim_offset + n_prim],\n",
    "                prim_coeff[prim_offset:prim_offset + n_prim],\n",
    "            )\n",
    "        ]\n",
    "        basis[atom].append([int(l), 0, *primitives])\n",
    "        prim_offset += n_prim\n",
    "\n",
    "    return basis\n",
    "\n",
    "\n",
    "def build_mole(resources: Resource, verbose: int = 4, **kwargs) -> gto.Mole:\n",
    "    from pyscf import gto\n",
    "\n",
    "    SYMB_TO_L = dict((s, i) for i, s in enumerate(ANGULAR_MOMENTUM_SYMBS))\n",
    "    \n",
    "    atnum = resources[Resource.mol_atnums]\n",
    "    atcoords = resources[Resource.mol_atcoords]\n",
    "\n",
    "    aoshell_atom = resources[Resource.ao_basis_shells_atom]\n",
    "    aoshell_l = np.asarray([SYMB_TO_L[s.decode()] for s in resources[Resource.ao_basis_shells_ang]])\n",
    "    aoshell_size = resources[Resource.ao_basis_shells_size]\n",
    "\n",
    "    aoprim_exp = resources[Resource.ao_basis_prims_exp]\n",
    "    aoprim_coeff = resources[Resource.ao_basis_prims_coef]\n",
    "\n",
    "    atom = build_pyscf_atom(atnum, atcoords)\n",
    "    basis = build_pyscf_basis(aoshell_atom, aoshell_l, aoshell_size, aoprim_exp, aoprim_coeff, atnum)\n",
    "\n",
    "    charge = int(resources[Resource.mol_charge])\n",
    "    spin = int(resources[Resource.mol_multiplicity]) - 1\n",
    "    return gto.M(atom=atom, basis=basis, unit='Bohr', charge=charge, spin=spin, **kwargs)"
   ]
  },
  {
   "cell_type": "code",
   "execution_count": 17,
   "id": "ef6a49b9-8edf-41c9-b5b9-af1d5573fe73",
   "metadata": {},
   "outputs": [],
   "source": [
    "from scipy.linalg import block_diag\n",
    "\n",
    "mol = build_mole(fchkdata, verbose=1)\n",
    "pmol, ctr_coeff = mol.decontract_basis()\n",
    "p2c = block_diag(*ctr_coeff)"
   ]
  },
  {
   "cell_type": "code",
   "execution_count": 136,
   "id": "9e47eb8d-60a2-45b3-afb8-443a1acff2ee",
   "metadata": {},
   "outputs": [],
   "source": [
    "S = mol.intor_symmetric('int1e_ovlp_sph')\n",
    "P = get_ao_permuation(mol._bas[:, ANG_OF], 'gaussian', 'pyscf')\n",
    "\n",
    "S_pyscf = P @ S @ P.T"
   ]
  },
  {
   "cell_type": "code",
   "execution_count": 140,
   "id": "aae9688e-1398-4b2e-90ee-d7875344eb93",
   "metadata": {},
   "outputs": [
    {
     "data": {
      "text/plain": [
       "(0.9999999898767816+3.7311228690931855e-24j)"
      ]
     },
     "execution_count": 140,
     "metadata": {},
     "output_type": "execute_result"
    }
   ],
   "source": [
    "I_diag = np.einsum('tap,tu,ab,ubp->p', C.conj(), S_pyscf, np.eye(2), C, optimize=True)\n",
    "I_diag.min()"
   ]
  },
  {
   "cell_type": "code",
   "execution_count": 115,
   "id": "ef60c907-fdbb-4a5a-995e-b8332b363daa",
   "metadata": {},
   "outputs": [],
   "source": [
    "from typing import Literal\n",
    "from functools import lru_cache\n",
    "\n",
    "from scipy.linalg import block_diag\n",
    "\n",
    "\n",
    "MlOrder = Literal['natural', 'pyscf', 'gaussian']\n",
    "\n",
    "\n",
    "def get_ml(l: int, /, *, order: MlOrder = 'natural') -> np.ndarray:\n",
    "    match order:\n",
    "        case 'natural':\n",
    "            return np.arange(-l, l + 1, 1, dtype=np.int8)\n",
    "        case 'pyscf':\n",
    "            if l == 1:\n",
    "                return np.asarray([1, -1, 0], dtype=np.int8)\n",
    "            return get_ml(l, order='natural')\n",
    "        case 'gaussian':\n",
    "            if l == 1:\n",
    "                return np.asarray([1, -1, 0], dtype=np.int8)\n",
    "            ml = np.zeros(2 * l + 1, dtype=np.int8)\n",
    "            ml[1::2] = np.arange(1, l + 1, dtype=np.int8)\n",
    "            ml[2::2] = - ml[1::2]\n",
    "            return ml\n",
    "        case _:\n",
    "            raise ValueError('Invalid ordering')\n",
    "\n",
    "\n",
    "@lru_cache\n",
    "def get_ml_permutation(l: int, left: MlOrder, right: MlOrder, /) -> np.ndarray:\n",
    "    ml_left = get_ml(l, order=left)\n",
    "    ml_right = get_ml(l, order=right)\n",
    "    return ml_left[:, np.newaxis] == ml_right[np.newaxis, :]\n",
    "\n",
    "\n",
    "def get_ao_permuation(shell_l: np.ndarray, left: MlOrder, right: MlOrder, /) -> np.ndarray:\n",
    "    assert np.all(shell_l >= 0)\n",
    "\n",
    "    Ps = []\n",
    "    for l in shell_l:\n",
    "        Ps.append(get_ml_permutation(l, left, right))\n",
    "\n",
    "    return block_diag(*Ps)\n",
    "\n",
    "\n",
    "def fix_phase_real(U: np.ndarray, /, *, axis: int = 0) -> np.ndarray:\n",
    "    idx = np.abs(U).argmax(axis=axis)\n",
    "    max_coeff = np.take_along_axis(U, np.expand_dims(idx, axis=axis), axis=axis)\n",
    "    sign = np.sign(max_coeff)\n",
    "    return sign * U"
   ]
  },
  {
   "cell_type": "code",
   "execution_count": 118,
   "id": "71b09c6b-f839-4e4b-a4b9-79be8bf8fb04",
   "metadata": {},
   "outputs": [],
   "source": [
    "threshold = 1e-6\n",
    "\n",
    "pS = pmol.intor('int1e_ovlp_sph')\n",
    "pU, s, pUh = np.linalg.svd(pS, hermitian=True)\n",
    "\n",
    "used = s > threshold\n",
    "norm = 1 / np.sqrt(s[used])\n",
    "\n",
    "puU = pU[..., used] * norm[np.newaxis, :]  # (#prim, #prim_used) - transformation to orthonormal used basis\n",
    "\n",
    "n_prim, n_prim_used = puU.shape\n",
    "\n",
    "puoS = puU.T.conj() @ pS @ puU  # metric in orthonormal used basis\n",
    "\n",
    "assert np.allclose(puoS.diagonal(), 1)  # Check diagonal is 1\n",
    "assert np.allclose((puoS.sum() - puoS.diagonal().sum()) / (puoS.size - n_prim_used), 0)  # Check off-diagonals are close to zero\n",
    "assert np.allclose(puoS, puoS.T.conj())  # Check Hermitian"
   ]
  },
  {
   "cell_type": "code",
   "execution_count": 119,
   "id": "f88ccb1d-9a2b-41c1-93cc-640cdb6b3d94",
   "metadata": {},
   "outputs": [],
   "source": [
    "shell_l = pmol._bas[:, ANG_OF]\n",
    "p2g = get_ao_permuation(shell_l, 'gaussian', 'pyscf')"
   ]
  },
  {
   "cell_type": "code",
   "execution_count": 125,
   "id": "d41c3a05-a7c8-45c9-be0b-4c2d4cf9b350",
   "metadata": {},
   "outputs": [
    {
     "data": {
      "text/plain": [
       "array([ 7.87473900e-04, -8.28783345e-06,  3.26991080e-05])"
      ]
     },
     "execution_count": 125,
     "metadata": {},
     "output_type": "execute_result"
    }
   ],
   "source": [
    "idx = np.abs(puU).argmax(axis=0)\n",
    "max_coeff = np.take_along_axis(puU, np.expand_dims(idx, axis=0), axis=0)\n",
    "sign = np.sign(max_coeff)\n",
    "(p2g @ (puU * sign))[27:30, 0]"
   ]
  },
  {
   "cell_type": "code",
   "execution_count": 262,
   "id": "65b486bf-7c54-4e67-9cd5-2709a5f415c5",
   "metadata": {},
   "outputs": [
    {
     "data": {
      "text/plain": [
       "array([-1.95906917e-07,  3.89029487e-07, -7.08956543e-03, -1.40609271e-06,\n",
       "        5.03313501e-03])"
      ]
     },
     "execution_count": 262,
     "metadata": {},
     "output_type": "execute_result"
    }
   ],
   "source": [
    "puU[105:110, 4]"
   ]
  },
  {
   "cell_type": "code",
   "execution_count": 257,
   "id": "a099c6e9-d0af-469c-bce3-29a53dcc522d",
   "metadata": {},
   "outputs": [],
   "source": [
    "pT = pmol.intor('int1e_kin_sph')  # T = p ^ 2 / 2\n",
    "puoT = puU.T.conj() @ pT @ puU\n",
    "\n",
    "pt, puoK = np.linalg.eigh(puoT)  # t - eigenvalues of T, puoK - eigenvectors of T in orthonormal used basis\n",
    "pp2  = np.sqrt(2 * pt)"
   ]
  },
  {
   "cell_type": "code",
   "execution_count": 258,
   "id": "d984ac04-ea09-434c-962c-50e701e9181f",
   "metadata": {},
   "outputs": [
    {
     "data": {
      "text/plain": [
       "array([2.61793022e-02, 6.77679736e-02, 6.77679940e-02, 6.77680263e-02,\n",
       "       1.02005184e-01, 1.02005195e-01, 1.04494873e-01, 1.04494989e-01,\n",
       "       1.04495007e-01, 1.30360566e-01, 2.29878648e-01, 2.29878860e-01,\n",
       "       2.29879727e-01, 2.72909958e-01, 2.72911760e-01, 2.72912174e-01,\n",
       "       3.14218680e-01, 3.26184061e-01, 3.26185784e-01, 3.35474059e-01,\n",
       "       3.35474471e-01, 3.35476568e-01, 3.64342281e-01, 3.64343622e-01,\n",
       "       3.64343945e-01, 3.89270819e-01, 3.89271659e-01, 3.89275068e-01,\n",
       "       4.17021772e-01, 4.17027590e-01, 4.46292460e-01, 4.46294024e-01,\n",
       "       4.46294330e-01, 4.85404484e-01, 5.37536647e-01, 5.37537550e-01,\n",
       "       5.37542179e-01, 5.52732572e-01, 5.52738621e-01, 5.52739849e-01,\n",
       "       6.48705228e-01, 6.48705719e-01, 6.48707900e-01, 7.21973248e-01,\n",
       "       7.21982659e-01, 7.27624673e-01, 8.41106107e-01, 8.70822175e-01,\n",
       "       8.70823520e-01, 8.70828994e-01, 1.03124821e+00, 1.03126294e+00,\n",
       "       1.03126657e+00, 1.08702310e+00, 1.08702718e+00, 1.11136321e+00,\n",
       "       1.11136385e+00, 1.11136647e+00, 1.11961659e+00, 1.11961854e+00,\n",
       "       1.11961877e+00, 1.11968671e+00, 1.11968693e+00, 1.11968750e+00,\n",
       "       1.12012855e+00, 1.12012946e+00, 1.13175373e+00, 1.15575550e+00,\n",
       "       1.20382557e+00, 1.20741547e+00, 1.20742756e+00, 1.21609880e+00,\n",
       "       1.21610120e+00, 1.21610178e+00, 1.27167135e+00, 1.27167586e+00,\n",
       "       1.27167669e+00, 1.29688908e+00, 1.29689194e+00, 1.29690373e+00,\n",
       "       1.30266269e+00, 1.33087939e+00, 1.33087980e+00, 1.33088061e+00,\n",
       "       1.38878173e+00, 1.38878292e+00, 1.38878319e+00, 1.39115807e+00,\n",
       "       1.39117009e+00, 1.39223974e+00, 1.39224109e+00, 1.39224655e+00,\n",
       "       1.41594201e+00, 1.41594454e+00, 1.41595558e+00, 1.47096015e+00,\n",
       "       1.47096119e+00, 1.47096137e+00, 1.47785793e+00, 1.47785882e+00,\n",
       "       1.47786303e+00, 1.56393198e+00, 1.56395668e+00, 1.56503498e+00,\n",
       "       1.56504358e+00, 1.56504393e+00, 1.59126579e+00, 1.59127655e+00,\n",
       "       1.59127896e+00, 1.69059604e+00, 1.69574466e+00, 1.69577734e+00,\n",
       "       1.88803025e+00, 1.97982886e+00, 1.97987778e+00, 1.97988981e+00,\n",
       "       2.09649880e+00, 2.09650043e+00, 2.09650781e+00, 2.16324436e+00,\n",
       "       2.16324666e+00, 2.16325600e+00, 2.42968761e+00, 2.43268415e+00,\n",
       "       2.43270426e+00, 2.75093933e+00, 2.82754725e+00, 2.82754903e+00,\n",
       "       2.82755648e+00, 2.96179565e+00, 2.96179686e+00, 2.96179939e+00,\n",
       "       3.17700927e+00, 3.17700927e+00, 3.17701135e+00, 3.17701135e+00,\n",
       "       3.17701135e+00, 3.17703457e+00, 3.17703457e+00, 3.17703459e+00,\n",
       "       3.17708408e+00, 3.17711064e+00, 3.17711065e+00, 3.17711067e+00,\n",
       "       3.17712196e+00, 3.17712197e+00, 3.17712198e+00, 3.17850528e+00,\n",
       "       3.17850535e+00, 3.17850566e+00, 3.19169290e+00, 3.19169735e+00,\n",
       "       3.19169843e+00, 3.21926388e+00, 3.21926673e+00, 3.23936117e+00,\n",
       "       3.24740984e+00, 3.24741109e+00, 3.24741614e+00, 3.24827585e+00,\n",
       "       3.24831751e+00, 3.24832813e+00, 3.25364594e+00, 3.25364759e+00,\n",
       "       3.29858303e+00, 3.29858750e+00, 3.29860562e+00, 3.35568894e+00,\n",
       "       3.36341209e+00, 3.36341306e+00, 3.36341664e+00, 3.41905294e+00,\n",
       "       3.41905492e+00, 3.41906349e+00, 3.58090870e+00, 3.58091067e+00,\n",
       "       3.58091909e+00, 4.03979763e+00, 4.03979798e+00, 4.03979946e+00,\n",
       "       4.06685481e+00, 4.06685772e+00, 4.06685832e+00, 4.08279704e+00,\n",
       "       4.08281372e+00, 4.08487320e+00, 4.08487383e+00, 4.08487640e+00,\n",
       "       4.08674873e+00, 4.08675060e+00, 4.08675105e+00, 4.09918840e+00,\n",
       "       4.09918928e+00, 4.09919316e+00, 4.14248844e+00, 4.17532823e+00,\n",
       "       4.17533291e+00, 4.22375817e+00, 4.22376025e+00, 4.22376044e+00,\n",
       "       4.22422483e+00, 4.22422544e+00, 4.23197399e+00, 4.23936816e+00,\n",
       "       4.23953213e+00, 4.23953430e+00, 4.23953466e+00, 4.24010623e+00,\n",
       "       4.24010692e+00, 4.24010707e+00, 4.24100626e+00, 4.24103913e+00,\n",
       "       4.24902101e+00, 4.29049687e+00, 4.29052488e+00, 4.29053160e+00,\n",
       "       4.31009475e+00, 4.31009674e+00, 4.31010484e+00, 4.35612920e+00,\n",
       "       4.35613040e+00, 4.35613580e+00, 4.38868013e+00, 4.38868657e+00,\n",
       "       4.46250567e+00, 4.46251431e+00, 4.46251619e+00, 4.46761353e+00,\n",
       "       4.46761492e+00, 4.46762281e+00, 4.64483204e+00, 4.75439192e+00,\n",
       "       4.75442774e+00, 4.75953961e+00, 4.75956373e+00, 4.75956890e+00,\n",
       "       5.15276112e+00, 6.54242926e+00, 6.54243176e+00, 6.54243198e+00,\n",
       "       6.93184323e+00, 7.02802539e+00, 7.02802561e+00, 7.02802863e+00,\n",
       "       7.24374635e+00, 7.24374712e+00, 7.24375389e+00, 9.69784039e+00,\n",
       "       9.69784110e+00, 9.69784139e+00, 9.80452363e+00, 9.80453685e+00,\n",
       "       1.00691477e+01, 1.00691479e+01, 1.00691491e+01, 1.00942332e+01,\n",
       "       1.00942343e+01, 1.00942390e+01, 1.01342218e+01, 1.01342283e+01,\n",
       "       1.01630801e+01, 1.12553859e+01, 1.12553860e+01, 1.12553869e+01,\n",
       "       1.12652137e+01, 1.12652239e+01, 1.12652264e+01, 1.12932730e+01,\n",
       "       1.12932736e+01, 1.12932760e+01, 1.13009122e+01, 1.13009135e+01,\n",
       "       1.13009137e+01, 1.13224592e+01, 1.13523603e+01, 1.13523746e+01,\n",
       "       1.13523781e+01, 1.13681488e+01, 1.13681632e+01, 1.15706054e+01,\n",
       "       1.15706139e+01, 1.15706159e+01, 1.16844385e+01, 1.16844476e+01,\n",
       "       1.17047778e+01, 1.17047894e+01, 1.17047917e+01, 1.17999239e+01,\n",
       "       1.25449243e+01, 1.57855315e+01, 1.58510040e+01, 1.58510043e+01,\n",
       "       1.58510071e+01, 1.60006853e+01, 1.60006865e+01, 1.60006899e+01,\n",
       "       1.81225691e+01, 1.81225693e+01, 1.81254528e+01, 1.81256215e+01,\n",
       "       1.81256223e+01, 1.81256223e+01, 1.81269215e+01, 1.81269220e+01,\n",
       "       1.81269222e+01, 1.81331702e+01, 1.81420846e+01, 1.81420848e+01,\n",
       "       1.81515749e+01, 1.81515757e+01, 1.81515788e+01, 1.81790615e+01,\n",
       "       1.81790621e+01, 1.81790646e+01, 1.81944980e+01, 1.81944985e+01,\n",
       "       1.81945009e+01, 1.82239580e+01, 1.82239592e+01, 1.82239644e+01,\n",
       "       1.82324136e+01, 1.82767044e+01, 1.82767047e+01, 1.82848746e+01,\n",
       "       1.82848805e+01, 1.82848820e+01, 1.92513203e+01, 1.92513254e+01,\n",
       "       1.92513267e+01, 1.97359111e+01, 1.97359117e+01, 1.97359120e+01,\n",
       "       1.98348522e+01, 1.98348643e+01, 2.79223268e+01, 2.83248720e+01,\n",
       "       2.83248804e+01, 2.83437477e+01, 2.83437605e+01, 2.83437632e+01,\n",
       "       2.84363577e+01, 2.95210640e+01, 2.95210642e+01, 2.95210650e+01,\n",
       "       2.95478743e+01, 2.95478764e+01, 2.95478767e+01, 2.95532092e+01,\n",
       "       2.95532097e+01, 2.95532117e+01, 2.95613124e+01, 2.95613137e+01,\n",
       "       2.95613139e+01, 2.95707041e+01, 2.96080892e+01, 2.96080988e+01,\n",
       "       2.96491165e+01, 2.96491368e+01, 2.96491418e+01, 3.16533500e+01,\n",
       "       3.16533568e+01, 3.16533584e+01, 3.47482099e+01, 3.47988012e+01,\n",
       "       3.47988015e+01, 3.47988037e+01, 3.49167147e+01, 3.49167165e+01,\n",
       "       3.49167183e+01, 3.60209503e+01, 3.60209508e+01, 3.60209512e+01,\n",
       "       3.61142145e+01, 3.61142237e+01, 5.17145880e+01, 5.17145881e+01,\n",
       "       5.17145882e+01, 5.17180183e+01, 5.17180184e+01, 5.17180191e+01,\n",
       "       5.17256891e+01, 5.17256906e+01, 5.17307151e+01, 5.21980116e+01,\n",
       "       5.21980202e+01, 5.21980222e+01, 5.89256094e+01, 6.10757761e+01,\n",
       "       6.10757766e+01, 6.10757771e+01, 6.11770489e+01, 6.11770579e+01,\n",
       "       6.75415180e+01, 6.75415261e+01, 6.75607315e+01, 6.75607437e+01,\n",
       "       6.75607463e+01, 6.76453516e+01, 7.61823449e+01, 7.61823450e+01,\n",
       "       7.61823457e+01, 7.62051290e+01, 7.62051309e+01, 7.62051312e+01,\n",
       "       7.62099166e+01, 7.62099171e+01, 7.62099188e+01, 7.62174834e+01,\n",
       "       7.62174845e+01, 7.62174847e+01, 7.62224044e+01, 7.62556086e+01,\n",
       "       7.62556168e+01, 7.62878745e+01, 7.62878920e+01, 7.62878963e+01,\n",
       "       7.73361601e+01, 7.73738929e+01, 7.73738931e+01, 7.73738948e+01,\n",
       "       7.74656694e+01, 7.74656710e+01, 7.74656723e+01, 8.80973977e+01,\n",
       "       8.80974073e+01, 8.80974095e+01, 9.90250624e+01, 9.90250630e+01,\n",
       "       9.90250636e+01, 9.91415526e+01, 9.91415625e+01, 1.27193092e+02,\n",
       "       1.51586476e+02, 1.51586484e+02, 1.51605205e+02, 1.51605217e+02,\n",
       "       1.51605220e+02, 1.51685920e+02, 1.52192420e+02, 1.52192430e+02,\n",
       "       1.52192432e+02, 1.56832567e+02, 1.56832568e+02, 1.56832568e+02,\n",
       "       1.56969798e+02, 1.56969810e+02, 1.83468153e+02, 1.83494734e+02,\n",
       "       1.83494735e+02, 1.83494736e+02, 1.83555828e+02, 1.83555829e+02,\n",
       "       1.83555830e+02, 2.03442989e+02, 2.03442989e+02, 2.03442989e+02,\n",
       "       2.03462284e+02, 2.03462285e+02, 2.03462286e+02, 2.03466185e+02,\n",
       "       2.03466186e+02, 2.03466187e+02, 2.03472835e+02, 2.03472835e+02,\n",
       "       2.03472836e+02, 2.03476282e+02, 2.03504255e+02, 2.03504262e+02,\n",
       "       2.03536339e+02, 2.03536354e+02, 2.03536357e+02, 2.46629367e+02,\n",
       "       2.46629368e+02, 2.46629368e+02, 2.46790072e+02, 2.46790085e+02,\n",
       "       2.62449874e+02, 2.62449884e+02, 2.62449887e+02, 2.73576465e+02,\n",
       "       3.12022864e+02, 3.12022872e+02, 3.12041189e+02, 3.12041200e+02,\n",
       "       3.12041203e+02, 3.12119551e+02, 3.93256425e+02, 3.93256426e+02,\n",
       "       3.93256427e+02, 3.93435420e+02, 3.93435435e+02, 4.45008183e+02,\n",
       "       4.45008194e+02, 4.45008196e+02, 5.05399313e+02, 5.05415614e+02,\n",
       "       5.05415615e+02, 5.05415615e+02, 5.05453239e+02, 5.05453240e+02,\n",
       "       5.05453240e+02, 5.61522879e+02, 6.04569100e+02, 6.04569100e+02,\n",
       "       6.04569100e+02, 6.04584461e+02, 6.04584462e+02, 6.04584463e+02,\n",
       "       6.04587776e+02, 6.04587777e+02, 6.04587778e+02, 6.04593233e+02,\n",
       "       6.04593234e+02, 6.04593234e+02, 6.04595677e+02, 6.04618254e+02,\n",
       "       6.04618260e+02, 6.04643709e+02, 6.04643721e+02, 6.04643723e+02,\n",
       "       6.09626188e+02, 6.09626196e+02, 6.09644279e+02, 6.09644290e+02,\n",
       "       6.09644293e+02, 6.09720836e+02, 6.41953844e+02, 6.41953845e+02,\n",
       "       6.41953846e+02, 6.42141091e+02, 6.42141105e+02, 7.40667837e+02,\n",
       "       7.40667849e+02, 7.40667852e+02, 1.08621036e+03, 1.08621036e+03,\n",
       "       1.08621036e+03, 1.08639620e+03, 1.08639622e+03, 1.10659655e+03,\n",
       "       1.18620168e+03, 1.18620168e+03, 1.18621922e+03, 1.18621923e+03,\n",
       "       1.18621923e+03, 1.18629408e+03, 1.22019029e+03, 1.22019030e+03,\n",
       "       1.22019031e+03, 2.01984753e+03, 2.01984755e+03, 2.01984755e+03,\n",
       "       2.10062574e+03, 2.11058623e+03, 2.11058623e+03, 2.11058623e+03,\n",
       "       2.11075295e+03, 2.11075296e+03, 2.32303988e+03, 2.32303988e+03,\n",
       "       2.32303988e+03, 2.32305089e+03, 2.32305089e+03, 2.32305089e+03,\n",
       "       2.32305311e+03, 2.32305311e+03, 2.32305311e+03, 2.32305701e+03,\n",
       "       2.32305701e+03, 2.32305701e+03, 2.32305879e+03, 2.32307469e+03,\n",
       "       2.32307470e+03, 2.32309263e+03, 2.32309264e+03, 2.32309264e+03,\n",
       "       2.60531382e+03, 2.60531383e+03, 2.60533070e+03, 2.60533071e+03,\n",
       "       2.60533072e+03, 2.60540267e+03, 3.54658152e+03, 3.54658154e+03,\n",
       "       3.54658154e+03, 3.83400452e+03, 5.68898106e+03, 5.68898106e+03,\n",
       "       5.68898106e+03, 5.68910046e+03, 5.68910047e+03, 6.79011148e+03,\n",
       "       6.98799237e+03, 6.98799239e+03, 6.98799239e+03, 7.38006618e+03,\n",
       "       7.38006619e+03, 7.38008192e+03, 7.38008193e+03, 7.38008193e+03,\n",
       "       7.38014899e+03, 1.18653071e+04, 1.44063179e+04, 1.44063179e+04,\n",
       "       1.44063179e+04, 2.09521098e+04, 2.84825188e+04, 2.84825188e+04,\n",
       "       2.84825329e+04, 2.84825329e+04, 2.84825329e+04, 2.84825930e+04,\n",
       "       3.02105704e+04, 3.02105704e+04, 3.02105704e+04, 3.77805961e+04,\n",
       "       7.35904084e+04, 8.30792779e+04, 8.30792779e+04, 8.30792779e+04,\n",
       "       1.70562321e+05, 1.70562321e+05, 1.70562332e+05, 1.70562332e+05,\n",
       "       1.70562332e+05, 1.70562382e+05, 1.72586561e+05, 4.13820911e+05,\n",
       "       4.13820911e+05, 4.13820911e+05, 5.06844794e+05, 1.81843491e+06,\n",
       "       3.78907079e+06, 3.78907079e+06, 3.78907079e+06, 8.03606182e+06,\n",
       "       4.90906498e+07])"
      ]
     },
     "execution_count": 258,
     "metadata": {},
     "output_type": "execute_result"
    }
   ],
   "source": [
    "pt"
   ]
  },
  {
   "cell_type": "markdown",
   "id": "3d262a03-fd59-4de2-a9ab-714efea9a769",
   "metadata": {},
   "source": [
    "# PySCF Dimensions:\n",
    "\n",
    "## AO integrals\n",
    "1. Q : (#AO, #AO)\n",
    "\n",
    "## Molecular Orbital Coefficients\n",
    "1. RHF : (#AO, #MO)\n",
    "2. UHF : (#spin, #AO, #MO)\n",
    "3. GHF : (#AO_a + #AO_b, #MO) -> (#spin, #A0, #MO)"
   ]
  },
  {
   "cell_type": "code",
   "execution_count": 39,
   "id": "26b2e2c1-92b6-4495-bdea-8778e63dfd0e",
   "metadata": {
    "scrolled": true
   },
   "outputs": [
    {
     "name": "stdout",
     "output_type": "stream",
     "text": [
      "\n",
      "\n",
      "******** <class 'pyscf.scf.ghf.GHF'> ********\n",
      "method = GHF\n",
      "initial guess = minao\n",
      "damping factor = 0\n",
      "level_shift factor = 0\n",
      "DIIS = <class 'pyscf.scf.diis.CDIIS'>\n",
      "diis_start_cycle = 1\n",
      "diis_space = 8\n",
      "diis_damp = 0\n",
      "SCF conv_tol = 1e-09\n",
      "SCF conv_tol_grad = None\n",
      "SCF max_cycles = 50\n",
      "direct_scf = True\n",
      "direct_scf_tol = 1e-13\n",
      "chkfile to save SCF result = /var/folders/lg/wr1z8nd149z53g8z15p5_dqm0000gn/T/tmp4cdcgzv5\n",
      "max_memory 4000 MB (current use 0 MB)\n",
      "Set gradient conv threshold to 3.16228e-05\n",
      "Initial guess from minao.\n"
     ]
    },
    {
     "name": "stderr",
     "output_type": "stream",
     "text": [
      "Overwritten attributes  get_occ  of <class 'pyscf.scf.ghf.GHF'>\n"
     ]
    },
    {
     "name": "stdout",
     "output_type": "stream",
     "text": [
      "init E= -52345.2186778694\n",
      "\n",
      "WARN: fraction occ = 0.666667  for orbitals [389 390 391]\n",
      "\n",
      "HOMO = -0.241507443195  LUMO = -0.241507106878\n",
      "cycle= 1 E= -53691.9364742906  delta_E= -1.35e+03  |g|= 15.8  |ddm|= 92.8\n",
      "\n",
      "WARN: fraction occ = 0.666667  for orbitals [389 390 391]\n",
      "\n",
      "HOMO = 0.0174394578355  LUMO = 0.0174449792306\n",
      "cycle= 2 E= -53690.7971603511  delta_E= 1.14  |g|= 9.47  |ddm|= 3.98\n",
      "  HOMO = 0.47306862438936  LUMO = 0.49505758521433\n",
      "cycle= 3 E= -53660.9767204699  delta_E= 29.8  |g|= 14.2  |ddm|= 14.5\n",
      "\n",
      "WARN: fraction occ = 0.666667  for orbitals [389 390 391]\n",
      "\n",
      "HOMO = -0.00106416685337  LUMO = -0.00106037737278\n",
      "cycle= 4 E= -53692.0210154075  delta_E=  -31  |g|= 4.46  |ddm|= 14.4\n",
      "\n",
      "WARN: fraction occ = 0.666667  for orbitals [389 390 391]\n",
      "\n",
      "HOMO = 0.0514224768055  LUMO = 0.0514254404343\n",
      "cycle= 5 E= -53695.319717035  delta_E= -3.3  |g|= 2.22  |ddm|= 2.07\n",
      "\n",
      "WARN: fraction occ = 0.666667  for orbitals [389 390 391]\n",
      "\n",
      "HOMO = 0.0450475140277  LUMO = 0.0450490608012\n",
      "cycle= 6 E= -53695.6253792606  delta_E= -0.306  |g|= 0.73  |ddm|= 0.922\n",
      "\n",
      "WARN: fraction occ = 0.666667  for orbitals [389 390 391]\n",
      "\n",
      "HOMO = 0.0750738385023  LUMO = 0.0750747815282\n",
      "cycle= 7 E= -53695.751378101  delta_E= -0.126  |g|= 0.328  |ddm|= 0.426\n",
      "\n",
      "WARN: fraction occ = 0.666667  for orbitals [389 390 391]\n",
      "\n",
      "HOMO = 0.0729567375187  LUMO = 0.0729572147692\n",
      "cycle= 8 E= -53695.766346313  delta_E= -0.015  |g|= 0.0913  |ddm|= 0.217\n",
      "\n",
      "WARN: fraction occ = 0.666667  for orbitals [389 390 391]\n",
      "\n",
      "HOMO = 0.0731728974125  LUMO = 0.073173182139\n",
      "cycle= 9 E= -53695.7672769923  delta_E= -0.000931  |g|= 0.021  |ddm|= 0.0592\n",
      "\n",
      "WARN: fraction occ = 0.666667  for orbitals [389 390 391]\n",
      "\n",
      "HOMO = 0.0730770768277  LUMO = 0.0730772740974\n",
      "cycle= 10 E= -53695.7673168782  delta_E= -3.99e-05  |g|= 0.0115  |ddm|= 0.00943\n",
      "\n",
      "WARN: fraction occ = 0.666667  for orbitals [389 390 391]\n",
      "\n",
      "HOMO = 0.0733818770137  LUMO = 0.0733819939321\n",
      "cycle= 11 E= -53695.7673345216  delta_E= -1.76e-05  |g|= 0.00195  |ddm|= 0.00692\n",
      "\n",
      "WARN: fraction occ = 0.666667  for orbitals [389 390 391]\n",
      "\n",
      "HOMO = 0.0734148134256  LUMO = 0.0734148803822\n",
      "cycle= 12 E= -53695.7673354226  delta_E= -9.01e-07  |g|= 0.000211  |ddm|= 0.00186\n",
      "\n",
      "WARN: fraction occ = 0.666667  for orbitals [389 390 391]\n",
      "\n",
      "HOMO = 0.0734305360113  LUMO = 0.0734305776554\n",
      "cycle= 13 E= -53695.7673354519  delta_E= -2.92e-08  |g|= 3.76e-05  |ddm|= 0.000382\n",
      "\n",
      "WARN: fraction occ = 0.666667  for orbitals [389 390 391]\n",
      "\n",
      "HOMO = 0.073432294089  LUMO = 0.0734323196478\n",
      "cycle= 14 E= -53695.7673354544  delta_E= -2.51e-09  |g|= 1.43e-05  |ddm|= 0.000121\n",
      "\n",
      "WARN: fraction occ = 0.666667  for orbitals [389 390 391]\n",
      "\n",
      "HOMO = 0.0734345084778  LUMO = 0.073434521349\n",
      "cycle= 15 E= -53695.7673354549  delta_E= -5.68e-10  |g|= 5.14e-06  |ddm|= 6.31e-05\n",
      "\n",
      "WARN: fraction occ = 0.666667  for orbitals [389 390 391]\n",
      "\n",
      "HOMO = 0.0734345431955  LUMO = 0.0734345517189\n",
      "Extra cycle  E= -53695.7673354551  delta_E= -1.75e-10  |g|= 5.74e-06  |ddm|= 9.62e-06\n",
      "converged SCF energy = -53695.7673354551  <S^2> = 0.00843221  2S+1 = 1.0167246\n"
     ]
    },
    {
     "data": {
      "text/plain": [
       "<pyscf.scf.ghf.GHF at 0x11fb67550>"
      ]
     },
     "execution_count": 39,
     "metadata": {},
     "output_type": "execute_result"
    }
   ],
   "source": [
    "from pyscf.scf import UHF, GHF, addons\n",
    "\n",
    "mf = mol.GHF()\n",
    "mf = addons.frac_occ(mf)\n",
    "mf.run(verbose=4)"
   ]
  },
  {
   "cell_type": "code",
   "execution_count": 43,
   "id": "fb9676d9-ef89-40cc-9a63-ea25f0a520b8",
   "metadata": {},
   "outputs": [],
   "source": [
    "C_ghf = mf.mo_coeff.reshape(2, mol.nao, -1)"
   ]
  },
  {
   "cell_type": "code",
   "execution_count": 56,
   "id": "28a6029e-5a39-491b-a70d-84810d3dd68f",
   "metadata": {},
   "outputs": [],
   "source": [
    "I = np.einsum('atp,ab,tu,bup->p', C_ghf.conj(), I2, S, C_ghf, optimize=True)"
   ]
  },
  {
   "cell_type": "code",
   "execution_count": 57,
   "id": "469504e0-bd2c-4bf7-85e2-c0be9e9eab84",
   "metadata": {},
   "outputs": [
    {
     "data": {
      "text/plain": [
       "array([1., 1., 1., ..., 1., 1., 1.])"
      ]
     },
     "execution_count": 57,
     "metadata": {},
     "output_type": "execute_result"
    }
   ],
   "source": [
    "I"
   ]
  },
  {
   "cell_type": "code",
   "execution_count": 3,
   "id": "ace94bca-ab99-4f60-bcf0-c4f710458792",
   "metadata": {
    "ExecuteTime": {
     "end_time": "2024-03-09T00:56:34.204753Z",
     "start_time": "2024-03-09T00:56:32.462372Z"
    }
   },
   "outputs": [],
   "source": [
    "# S0 = data[Resource.ao_int1e_overlap]\n",
    "# V0 = data[Resource.ao_int1e_potential]\n",
    "\n",
    "# shell_size = data[Resource.ao_basis_shells_size]\n",
    "\n",
    "# prim_offset = np.pad(shell_size.cumsum(), (1, 0))\n",
    "# prim_coeff = data[Resource.ao_basis_prims_coef]\n",
    "# prim_exp = data[Resource.ao_basis_prims_exp]\n",
    "\n",
    "ao = AtomicOrbitalBasis.from_hdf5(archive)\n",
    "C0 = data[Resource.mo_basis_molorb]\n",
    "S0 = ao.integrals['overlap']\n",
    "\n",
    "F = ao.get_fragments(['atom', 'L'])\n",
    "ao_idx = np.arange(ao.n_ao)\n",
    "\n",
    "# ao.df.loc[(ao.df.ml == 0) & (ao.df.l == 1), 'm'] = -1\n",
    "# ao.df.loc[(ao.df.ml == 1) & (ao.df.l == 1), 'ml'] = 0\n",
    "# ao.df.loc[(ao.df.ml == -1) & (ao.df.l == 1), 'ml'] = 1\n",
    "\n",
    "sort_idx = ao.df.sort_values(by=['atom_idx', 'l', 'shell_idx', 'ml']).resource_idx.to_numpy()\n",
    "P = np.zeros_like(S0)\n",
    "\n",
    "P[(ao_idx, sort_idx)] = 1\n",
    "Sp = P @ S0 @ P.T\n",
    "Cp = C0 @ P.T"
   ]
  },
  {
   "cell_type": "code",
   "execution_count": 4,
   "id": "64db7ef7-e1f3-48aa-aad8-37c7f0ca23b9",
   "metadata": {},
   "outputs": [
    {
     "data": {
      "text/plain": [
       "((0.9989098321608699-2.6766878983030664e-16j),\n",
       " (1.0000906197665997+7.28781987554986e-18j))"
      ]
     },
     "execution_count": 4,
     "metadata": {},
     "output_type": "execute_result"
    }
   ],
   "source": [
    "I0 = np.einsum('pat,ab,tu,pbu->p', C0, np.eye(2), S0, C0.conj(), optimize=True)\n",
    "I0.min(), I0.max()"
   ]
  },
  {
   "cell_type": "code",
   "execution_count": 5,
   "id": "78a8ca7c-2a28-4c41-bd94-5444931f521a",
   "metadata": {},
   "outputs": [
    {
     "data": {
      "text/plain": [
       "((0.99890983216087-2.6774676274574423e-16j),\n",
       " (1.0000906197665997+7.28781987554986e-18j))"
      ]
     },
     "execution_count": 5,
     "metadata": {},
     "output_type": "execute_result"
    }
   ],
   "source": [
    "I0p = np.einsum('pat,ab,tu,pbu->p', Cp, np.eye(2), Sp, Cp.conj(), optimize=True)\n",
    "I0p.min(), I0.max()"
   ]
  },
  {
   "cell_type": "code",
   "execution_count": 7,
   "id": "3b43284e-955d-44b9-85aa-67702bc259f1",
   "metadata": {},
   "outputs": [
    {
     "data": {
      "text/plain": [
       "array(2)"
      ]
     },
     "execution_count": 7,
     "metadata": {},
     "output_type": "execute_result"
    }
   ],
   "source": [
    "data[Resource.mol_multiplicity]"
   ]
  },
  {
   "cell_type": "code",
   "execution_count": 9,
   "id": "76b4ac7f-89c1-46f0-9e8f-bed6ad26c6c4",
   "metadata": {},
   "outputs": [
    {
     "name": "stdout",
     "output_type": "stream",
     "text": [
      "System: uname_result(system='Darwin', node='xors.local', release='23.2.0', version='Darwin Kernel Version 23.2.0: Wed Nov 15 21:53:18 PST 2023; root:xnu-10002.61.3~2/RELEASE_ARM64_T6000', machine='arm64')  Threads 10\n",
      "Python 3.11.8 (main, Mar  6 2024, 10:54:42) [Clang 15.0.0 (clang-1500.1.0.2.5)]\n",
      "numpy 1.26.4  scipy 1.12.0\n",
      "Date: Sat Mar  9 00:20:03 2024\n",
      "PySCF version 2.5.0\n",
      "PySCF path  /Users/kirill/projects/pyscf\n",
      "GIT HEAD (branch master) 93898c2b17c56f8632d1a1c3471df6ab97e88073\n",
      "\n",
      "[CONFIG] conf_file None\n",
      "[INPUT] verbose = 4\n",
      "[INPUT] num. atoms = 7\n",
      "[INPUT] num. electrons = 391\n",
      "[INPUT] charge = -3\n",
      "[INPUT] spin (= nelec alpha-beta = 2S) = 1\n",
      "[INPUT] symmetry False subgroup None\n",
      "[INPUT] Mole.unit = Bohr\n",
      "[INPUT] Symbol           X                Y                Z      unit          X                Y                Z       unit  Magmom\n",
      "[INPUT]  1 Yb0    0.000000000000  -0.000000000000   0.000000000000 AA    0.000000000000  -0.000000000000   0.000000000000 Bohr   0.0\n",
      "[INPUT]  2 I1     2.575466987906  -0.000000000000   1.821130197262 AA    4.866927250000  -0.000000000000   3.441437310000 Bohr   0.0\n",
      "[INPUT]  3 I2    -1.287733507182  -2.230419855666   1.821130165511 AA   -2.433463650000  -4.214882670000   3.441437250000 Bohr   0.0\n",
      "[INPUT]  4 I3    -1.287733517766   2.230419839790   1.821130181387 AA   -2.433463670000   4.214882640000   3.441437280000 Bohr   0.0\n",
      "[INPUT]  5 I4     1.287733517766  -2.230419839790  -1.821130181387 AA    2.433463670000  -4.214882640000  -3.441437280000 Bohr   0.0\n",
      "[INPUT]  6 I5    -2.575466987906  -0.000000000000  -1.821130197262 AA   -4.866927250000  -0.000000000000  -3.441437310000 Bohr   0.0\n",
      "[INPUT]  7 I6     1.287733507182   2.230419855666  -1.821130165511 AA    2.433463650000   4.214882670000  -3.441437250000 Bohr   0.0\n",
      "\n",
      "nuclear repulsion = 8439.99566933038\n",
      "number of shells = 181\n",
      "number of NR pGTOs = 1326\n",
      "number of NR cGTOs = 575\n",
      "basis = {'Yb0': [[0, 0, [32858555.4, 0.000747473572], [5434999.36, 0.00213731896], [1189227.21, 0.0051515064], [304447.804, 0.0119448003], [87484.9843, 0.0275226705], [27763.5319, 0.0627798288], [9558.60242, 0.136320014], [3508.7827, 0.274151702], [1321.05956, 0.406582673], [501.396664, 0.271173343]], [0, 0, [9248.93891, -0.0113835693], [2347.79243, -0.0721845187], [845.879105, -0.154396261], [241.649157, 0.421138881], [69.9186106, 0.733567408]], [0, 0, [125.525938, 1.0]], [0, 0, [22.7456963, 1.0]], [0, 0, [12.2138818, 1.0]], [0, 0, [6.86227422, 1.0]], [0, 0, [3.39242846, 1.0]], [0, 0, [1.05339976, 1.0]], [0, 0, [0.465716089, 1.0]], [0, 0, [0.0788024551, 1.0]], [0, 0, [0.0321805287, 1.0]], [1, 0, [2531435.96, 0.000171494916], [253143.596, 0.000178598032], [9247.04788, -0.00442805389], [2829.86182, -0.0262419], [1009.97327, -0.105597863], [402.089915, -0.28754881], [170.242957, -0.464804961], [73.0474458, -0.282483955]], [1, 0, [2531435.96, 0.00349278634], [253143.596, 0.0128444828], [38940.2438, 0.044945529], [9247.04788, 0.106820586], [2829.86182, 0.233370405], [1009.97327, 0.413816821], [402.089915, 0.472497502], [73.0474458, -0.452383372]], [1, 0, [5235.98245, 0.00049101084], [317.772612, -0.0175745791], [54.9231778, 0.270726197], [27.1333095, 0.540748846], [13.0281213, 0.264565557]], [1, 0, [335.755541, -0.00281297306], [8.88118729, 0.403141728], [4.41324285, 0.4961491], [2.19764651, 0.166983904]], [1, 0, [3.39938536, -0.0510952076], [1.71310154, 0.277546993], [0.730258953, 0.795143339]], [1, 0, [153.444568, 1.0]], [1, 0, [55.0422739, 1.0]], [1, 0, [8.91084408, 1.0]], [1, 0, [0.284877593, 1.0]], [1, 0, [0.0982336527, 1.0]], [1, 0, [0.0253556708, 1.0]], [2, 0, [2137.39872, 0.00277522008], [601.150189, 0.0216698834], [224.947902, 0.0987898613], [95.8558397, 0.281520117], [43.4785807, 0.459842063], [20.3238022, 0.326924466]], [2, 0, [27.0721534, 0.0748059744], [14.3317314, 0.335525917], [7.85105091, 0.646049686]], [2, 0, [140.831493, 1.0]], [2, 0, [49.8589948, 1.0]], [2, 0, [8.94275056, 1.0]], [2, 0, [3.99173725, 1.0]], [2, 0, [1.7728577, 1.0]], [2, 0, [0.504979725, 1.0]], [2, 0, [0.132370651, 1.0]], [2, 0, [0.0347, 1.0]], [3, 0, [208.122053, 0.00724516188], [70.8205042, 0.0519304891], [29.0041695, 0.188001994], [12.9273563, 0.405817798], [5.87115116, 0.543200875]], [3, 0, [2.60909054, 1.0]], [3, 0, [1.08673849, 1.0]], [3, 0, [0.397296536, 1.0]], [4, 0, [0.5133, 1.0]]], 'I1': [[0, 0, [10973513.2, 0.000657701061], [1352923.21, 0.00216763578], [254340.606, 0.00626927084], [60509.0014, 0.0175329316], [16930.4551, 0.0483677074], [5351.72883, 0.126418553], [1857.91418, 0.278123698], [698.749264, 0.423175785], [267.95986, 0.272760792]], [0, 0, [1897.34396, -0.0200512502], [538.619635, -0.096328685], [90.187889, 0.475146588], [42.127599, 0.597307352]], [0, 0, [61.7092838, -0.950133215], [12.4143701, 1.30113579]], [0, 0, [8.93141976, 1.0]], [0, 0, [3.47835563, 1.0]], [0, 0, [1.53465219, 1.0]], [0, 0, [0.310296997, 1.0]], [0, 0, [0.129458563, 1.0]], [1, 0, [155141.804, 0.00525216483], [24696.7251, 0.0173286583], [6159.00616, 0.0459611836], [1969.53758, 0.108389952], [733.917423, 0.231774874], [302.62988, 0.399627731], [134.080867, 0.409291566]], [1, 0, [155141.804, -0.000145943347], [6159.00616, 0.00251223104], [1969.53758, 0.0165523777], [733.917423, 0.0692704402], [302.62988, 0.206763032], [134.080867, 0.404829941], [62.0034347, 0.441887542]], [1, 0, [334.236757, 0.00620412739], [127.89255, 0.0250128932], [27.9580998, -0.243365007], [13.5640059, -0.548956548], [6.4247139, -0.289575623]], [1, 0, [9.8627016, 0.0459149838], [4.22300078, -0.398545023], [2.04383995, -0.667650862]], [1, 0, [27.6459309, 1.0]], [1, 0, [12.5602341, 1.0]], [1, 0, [0.958779616, 1.0]], [1, 0, [0.358413186, 1.0]], [1, 0, [0.114410166, 1.0]], [2, 0, [810.376564, 0.00401645536], [235.436394, 0.0315512848], [87.8364074, 0.135179665], [36.8013975, 0.336566383], [16.0553194, 0.464626395], [6.97275024, 0.249058399]], [2, 0, [9.73542174, 0.0909637278], [4.12886592, 0.42910139], [1.72471365, 0.591466229]], [2, 0, [13.5626662, 1.0]], [2, 0, [0.665220104, 1.0]], [2, 0, [0.17, 1.0]], [3, 0, [2.18, 1.0]], [3, 0, [0.44141808, 1.0]]], 'I2': [[0, 0, [10973513.2, 0.000657701061], [1352923.21, 0.00216763578], [254340.606, 0.00626927084], [60509.0014, 0.0175329316], [16930.4551, 0.0483677074], [5351.72883, 0.126418553], [1857.91418, 0.278123698], [698.749264, 0.423175785], [267.95986, 0.272760792]], [0, 0, [1897.34396, -0.0200512502], [538.619635, -0.096328685], [90.187889, 0.475146588], [42.127599, 0.597307352]], [0, 0, [61.7092838, -0.950133215], [12.4143701, 1.30113579]], [0, 0, [8.93141976, 1.0]], [0, 0, [3.47835563, 1.0]], [0, 0, [1.53465219, 1.0]], [0, 0, [0.310296997, 1.0]], [0, 0, [0.129458563, 1.0]], [1, 0, [155141.804, 0.00525216483], [24696.7251, 0.0173286583], [6159.00616, 0.0459611836], [1969.53758, 0.108389952], [733.917423, 0.231774874], [302.62988, 0.399627731], [134.080867, 0.409291566]], [1, 0, [155141.804, -0.000145943347], [6159.00616, 0.00251223104], [1969.53758, 0.0165523777], [733.917423, 0.0692704402], [302.62988, 0.206763032], [134.080867, 0.404829941], [62.0034347, 0.441887542]], [1, 0, [334.236757, 0.00620412739], [127.89255, 0.0250128932], [27.9580998, -0.243365007], [13.5640059, -0.548956548], [6.4247139, -0.289575623]], [1, 0, [9.8627016, 0.0459149838], [4.22300078, -0.398545023], [2.04383995, -0.667650862]], [1, 0, [27.6459309, 1.0]], [1, 0, [12.5602341, 1.0]], [1, 0, [0.958779616, 1.0]], [1, 0, [0.358413186, 1.0]], [1, 0, [0.114410166, 1.0]], [2, 0, [810.376564, 0.00401645536], [235.436394, 0.0315512848], [87.8364074, 0.135179665], [36.8013975, 0.336566383], [16.0553194, 0.464626395], [6.97275024, 0.249058399]], [2, 0, [9.73542174, 0.0909637278], [4.12886592, 0.42910139], [1.72471365, 0.591466229]], [2, 0, [13.5626662, 1.0]], [2, 0, [0.665220104, 1.0]], [2, 0, [0.17, 1.0]], [3, 0, [2.18, 1.0]], [3, 0, [0.44141808, 1.0]]], 'I3': [[0, 0, [10973513.2, 0.000657701061], [1352923.21, 0.00216763578], [254340.606, 0.00626927084], [60509.0014, 0.0175329316], [16930.4551, 0.0483677074], [5351.72883, 0.126418553], [1857.91418, 0.278123698], [698.749264, 0.423175785], [267.95986, 0.272760792]], [0, 0, [1897.34396, -0.0200512502], [538.619635, -0.096328685], [90.187889, 0.475146588], [42.127599, 0.597307352]], [0, 0, [61.7092838, -0.950133215], [12.4143701, 1.30113579]], [0, 0, [8.93141976, 1.0]], [0, 0, [3.47835563, 1.0]], [0, 0, [1.53465219, 1.0]], [0, 0, [0.310296997, 1.0]], [0, 0, [0.129458563, 1.0]], [1, 0, [155141.804, 0.00525216483], [24696.7251, 0.0173286583], [6159.00616, 0.0459611836], [1969.53758, 0.108389952], [733.917423, 0.231774874], [302.62988, 0.399627731], [134.080867, 0.409291566]], [1, 0, [155141.804, -0.000145943347], [6159.00616, 0.00251223104], [1969.53758, 0.0165523777], [733.917423, 0.0692704402], [302.62988, 0.206763032], [134.080867, 0.404829941], [62.0034347, 0.441887542]], [1, 0, [334.236757, 0.00620412739], [127.89255, 0.0250128932], [27.9580998, -0.243365007], [13.5640059, -0.548956548], [6.4247139, -0.289575623]], [1, 0, [9.8627016, 0.0459149838], [4.22300078, -0.398545023], [2.04383995, -0.667650862]], [1, 0, [27.6459309, 1.0]], [1, 0, [12.5602341, 1.0]], [1, 0, [0.958779616, 1.0]], [1, 0, [0.358413186, 1.0]], [1, 0, [0.114410166, 1.0]], [2, 0, [810.376564, 0.00401645536], [235.436394, 0.0315512848], [87.8364074, 0.135179665], [36.8013975, 0.336566383], [16.0553194, 0.464626395], [6.97275024, 0.249058399]], [2, 0, [9.73542174, 0.0909637278], [4.12886592, 0.42910139], [1.72471365, 0.591466229]], [2, 0, [13.5626662, 1.0]], [2, 0, [0.665220104, 1.0]], [2, 0, [0.17, 1.0]], [3, 0, [2.18, 1.0]], [3, 0, [0.44141808, 1.0]]], 'I4': [[0, 0, [10973513.2, 0.000657701061], [1352923.21, 0.00216763578], [254340.606, 0.00626927084], [60509.0014, 0.0175329316], [16930.4551, 0.0483677074], [5351.72883, 0.126418553], [1857.91418, 0.278123698], [698.749264, 0.423175785], [267.95986, 0.272760792]], [0, 0, [1897.34396, -0.0200512502], [538.619635, -0.096328685], [90.187889, 0.475146588], [42.127599, 0.597307352]], [0, 0, [61.7092838, -0.950133215], [12.4143701, 1.30113579]], [0, 0, [8.93141976, 1.0]], [0, 0, [3.47835563, 1.0]], [0, 0, [1.53465219, 1.0]], [0, 0, [0.310296997, 1.0]], [0, 0, [0.129458563, 1.0]], [1, 0, [155141.804, 0.00525216483], [24696.7251, 0.0173286583], [6159.00616, 0.0459611836], [1969.53758, 0.108389952], [733.917423, 0.231774874], [302.62988, 0.399627731], [134.080867, 0.409291566]], [1, 0, [155141.804, -0.000145943347], [6159.00616, 0.00251223104], [1969.53758, 0.0165523777], [733.917423, 0.0692704402], [302.62988, 0.206763032], [134.080867, 0.404829941], [62.0034347, 0.441887542]], [1, 0, [334.236757, 0.00620412739], [127.89255, 0.0250128932], [27.9580998, -0.243365007], [13.5640059, -0.548956548], [6.4247139, -0.289575623]], [1, 0, [9.8627016, 0.0459149838], [4.22300078, -0.398545023], [2.04383995, -0.667650862]], [1, 0, [27.6459309, 1.0]], [1, 0, [12.5602341, 1.0]], [1, 0, [0.958779616, 1.0]], [1, 0, [0.358413186, 1.0]], [1, 0, [0.114410166, 1.0]], [2, 0, [810.376564, 0.00401645536], [235.436394, 0.0315512848], [87.8364074, 0.135179665], [36.8013975, 0.336566383], [16.0553194, 0.464626395], [6.97275024, 0.249058399]], [2, 0, [9.73542174, 0.0909637278], [4.12886592, 0.42910139], [1.72471365, 0.591466229]], [2, 0, [13.5626662, 1.0]], [2, 0, [0.665220104, 1.0]], [2, 0, [0.17, 1.0]], [3, 0, [2.18, 1.0]], [3, 0, [0.44141808, 1.0]]], 'I5': [[0, 0, [10973513.2, 0.000657701061], [1352923.21, 0.00216763578], [254340.606, 0.00626927084], [60509.0014, 0.0175329316], [16930.4551, 0.0483677074], [5351.72883, 0.126418553], [1857.91418, 0.278123698], [698.749264, 0.423175785], [267.95986, 0.272760792]], [0, 0, [1897.34396, -0.0200512502], [538.619635, -0.096328685], [90.187889, 0.475146588], [42.127599, 0.597307352]], [0, 0, [61.7092838, -0.950133215], [12.4143701, 1.30113579]], [0, 0, [8.93141976, 1.0]], [0, 0, [3.47835563, 1.0]], [0, 0, [1.53465219, 1.0]], [0, 0, [0.310296997, 1.0]], [0, 0, [0.129458563, 1.0]], [1, 0, [155141.804, 0.00525216483], [24696.7251, 0.0173286583], [6159.00616, 0.0459611836], [1969.53758, 0.108389952], [733.917423, 0.231774874], [302.62988, 0.399627731], [134.080867, 0.409291566]], [1, 0, [155141.804, -0.000145943347], [6159.00616, 0.00251223104], [1969.53758, 0.0165523777], [733.917423, 0.0692704402], [302.62988, 0.206763032], [134.080867, 0.404829941], [62.0034347, 0.441887542]], [1, 0, [334.236757, 0.00620412739], [127.89255, 0.0250128932], [27.9580998, -0.243365007], [13.5640059, -0.548956548], [6.4247139, -0.289575623]], [1, 0, [9.8627016, 0.0459149838], [4.22300078, -0.398545023], [2.04383995, -0.667650862]], [1, 0, [27.6459309, 1.0]], [1, 0, [12.5602341, 1.0]], [1, 0, [0.958779616, 1.0]], [1, 0, [0.358413186, 1.0]], [1, 0, [0.114410166, 1.0]], [2, 0, [810.376564, 0.00401645536], [235.436394, 0.0315512848], [87.8364074, 0.135179665], [36.8013975, 0.336566383], [16.0553194, 0.464626395], [6.97275024, 0.249058399]], [2, 0, [9.73542174, 0.0909637278], [4.12886592, 0.42910139], [1.72471365, 0.591466229]], [2, 0, [13.5626662, 1.0]], [2, 0, [0.665220104, 1.0]], [2, 0, [0.17, 1.0]], [3, 0, [2.18, 1.0]], [3, 0, [0.44141808, 1.0]]], 'I6': [[0, 0, [10973513.2, 0.000657701061], [1352923.21, 0.00216763578], [254340.606, 0.00626927084], [60509.0014, 0.0175329316], [16930.4551, 0.0483677074], [5351.72883, 0.126418553], [1857.91418, 0.278123698], [698.749264, 0.423175785], [267.95986, 0.272760792]], [0, 0, [1897.34396, -0.0200512502], [538.619635, -0.096328685], [90.187889, 0.475146588], [42.127599, 0.597307352]], [0, 0, [61.7092838, -0.950133215], [12.4143701, 1.30113579]], [0, 0, [8.93141976, 1.0]], [0, 0, [3.47835563, 1.0]], [0, 0, [1.53465219, 1.0]], [0, 0, [0.310296997, 1.0]], [0, 0, [0.129458563, 1.0]], [1, 0, [155141.804, 0.00525216483], [24696.7251, 0.0173286583], [6159.00616, 0.0459611836], [1969.53758, 0.108389952], [733.917423, 0.231774874], [302.62988, 0.399627731], [134.080867, 0.409291566]], [1, 0, [155141.804, -0.000145943347], [6159.00616, 0.00251223104], [1969.53758, 0.0165523777], [733.917423, 0.0692704402], [302.62988, 0.206763032], [134.080867, 0.404829941], [62.0034347, 0.441887542]], [1, 0, [334.236757, 0.00620412739], [127.89255, 0.0250128932], [27.9580998, -0.243365007], [13.5640059, -0.548956548], [6.4247139, -0.289575623]], [1, 0, [9.8627016, 0.0459149838], [4.22300078, -0.398545023], [2.04383995, -0.667650862]], [1, 0, [27.6459309, 1.0]], [1, 0, [12.5602341, 1.0]], [1, 0, [0.958779616, 1.0]], [1, 0, [0.358413186, 1.0]], [1, 0, [0.114410166, 1.0]], [2, 0, [810.376564, 0.00401645536], [235.436394, 0.0315512848], [87.8364074, 0.135179665], [36.8013975, 0.336566383], [16.0553194, 0.464626395], [6.97275024, 0.249058399]], [2, 0, [9.73542174, 0.0909637278], [4.12886592, 0.42910139], [1.72471365, 0.591466229]], [2, 0, [13.5626662, 1.0]], [2, 0, [0.665220104, 1.0]], [2, 0, [0.17, 1.0]], [3, 0, [2.18, 1.0]], [3, 0, [0.44141808, 1.0]]]}\n",
      "ecp = {}\n",
      "CPU time:        19.02\n"
     ]
    }
   ],
   "source": [
    "m = gto.M(atom=atom, basis=basis, unit='Bohr', charge=-3, spin=1, verbose=4)\n",
    "S1 = m.intor_symmetric('int1e_ovlp_sph')\n",
    "e1, U1 = np.linalg.eigh(S1)\n",
    "\n",
    "dS = S1 - S0\n",
    "dSp = S1 - Sp"
   ]
  },
  {
   "cell_type": "code",
   "execution_count": null,
   "id": "5a63107e-8577-4142-a708-ae3cf9e6ca8b",
   "metadata": {},
   "outputs": [
    {
     "name": "stdout",
     "output_type": "stream",
     "text": [
      "\n",
      "\n",
      "\n",
      "\n",
      "******** <class 'pyscf.soscf.newton_ah.SecondOrderX2C1eGHF'> ********\n",
      "method = SecondOrderX2C1eGHF\n",
      "initial guess = minao\n",
      "damping factor = 0.5\n",
      "level_shift factor = 0\n",
      "DIIS = <pyscf.scf.diis.ADIIS object at 0x29bf349d0>\n",
      "diis_start_cycle = 2\n",
      "diis_space = 6\n",
      "SCF conv_tol = 1e-09\n",
      "SCF conv_tol_grad = None\n",
      "SCF max_cycles = 50\n",
      "direct_scf = True\n",
      "direct_scf_tol = 1e-13\n",
      "chkfile to save SCF result = /var/folders/lg/wr1z8nd149z53g8z15p5_dqm0000gn/T/tmppwa7h7t3\n",
      "max_memory 6144 MB (current use 0 MB)\n",
      "\n",
      "\n",
      "******** <class 'pyscf.x2c.x2c.SpinOrbitalX2CHelper'> ********\n",
      "approx = 1e\n",
      "xuncontract = 1\n",
      "******** <class 'pyscf.x2c.x2c.X2C1eGHF'> Newton solver flags ********\n",
      "SCF tol = 1e-09\n",
      "conv_tol_grad = None\n",
      "max. SCF cycles = 50\n",
      "direct_scf = True\n",
      "direct_scf_tol = 1e-13\n",
      "chkfile to save SCF result = /var/folders/lg/wr1z8nd149z53g8z15p5_dqm0000gn/T/tmppwa7h7t3\n",
      "max_cycle_inner = 12\n",
      "max_stepsize = 0.05\n",
      "ah_start_tol = 1e+09\n",
      "ah_level_shift = 0\n",
      "ah_conv_tol = 1e-12\n",
      "ah_lindep = 1e-14\n",
      "ah_start_cycle = 1\n",
      "ah_max_cycle = 40\n",
      "ah_grad_trust_region = 2.5\n",
      "kf_interval = 4\n",
      "kf_trust_region = 5\n",
      "canonicalization = True\n",
      "max_memory 6144 MB (current use 0 MB)\n",
      "Set conv_tol_grad to 3.16228e-05\n",
      "Initial guess from minao.\n",
      "  HOMO = -0.265904228283798  LUMO = -0.258454053238989\n",
      "Initial guess E= -56749.43496761  |g|= 3.67461\n",
      "macro= 0  E= -56750.0614110121  delta_E= -0.626443  |g|= 0.320772  4 KF 18 JK\n",
      "macro= 1  E= -56750.0765364254  delta_E= -0.0151254  |g|= 0.00523465  3 KF 13 JK\n",
      "macro= 2  E= -56750.0765418343  delta_E= -5.40893e-06  |g|= 0.0012883  2 KF 9 JK\n",
      "macro= 3  E= -56750.076530261  delta_E= 1.15733e-05  |g|= 0.00224541  1 KF 5 JK\n",
      "macro= 4  E= -56750.0765333252  delta_E= -3.06423e-06  |g|= 0.0128056  2 KF 5 JK\n",
      "macro= 5  E= -56750.0760158549  delta_E= 0.00051747  |g|= 0.0119575  1 KF 7 JK\n",
      "macro= 6  E= -56750.0749684491  delta_E= 0.00104741  |g|= 0.079943  2 KF 9 JK\n",
      "macro= 7  E= -56750.0543351994  delta_E= 0.0206332  |g|= 0.174924  3 KF 15 JK\n",
      "macro= 8  E= -56750.0093267864  delta_E= 0.0450084  |g|= 0.558016  2 KF 7 JK\n",
      "macro= 9  E= -56750.0368430863  delta_E= -0.0275163  |g|= 0.901691  2 KF 9 JK\n",
      "macro= 10  E= -56750.0714821352  delta_E= -0.034639  |g|= 0.276369  3 KF 10 JK\n",
      "macro= 11  E= -56750.0693022897  delta_E= 0.00217985  |g|= 0.127071  3 KF 22 JK\n",
      "macro= 12  E= -56749.9424084645  delta_E= 0.126894  |g|= 0.172092  2 KF 7 JK\n",
      "macro= 13  E= -56749.7209632473  delta_E= 0.221445  |g|= 0.592883  2 KF 6 JK\n",
      "macro= 14  E= -56749.4456286907  delta_E= 0.275335  |g|= 1.01851  2 KF 7 JK\n",
      "macro= 15  E= -56750.0332841897  delta_E= -0.587655  |g|= 0.655146  3 KF 12 JK\n",
      "macro= 16  E= -56750.0733862861  delta_E= -0.0401021  |g|= 0.138355  3 KF 15 JK\n",
      "macro= 17  E= -56750.0737782546  delta_E= -0.000391969  |g|= 0.0990598  3 KF 14 JK\n",
      "macro= 18  E= -56750.0760074535  delta_E= -0.0022292  |g|= 0.104934  2 KF 5 JK\n",
      "macro= 19  E= -56750.0747797995  delta_E= 0.00122765  |g|= 0.0265762  2 KF 12 JK\n",
      "macro= 20  E= -56750.0764652813  delta_E= -0.00168548  |g|= 0.0177358  3 KF 13 JK\n",
      "macro= 21  E= -56750.0763304439  delta_E= 0.000134837  |g|= 0.0146861  2 KF 8 JK\n",
      "macro= 22  E= -56750.0764889743  delta_E= -0.00015853  |g|= 0.0250617  2 KF 8 JK\n",
      "macro= 23  E= -56750.0755848541  delta_E= 0.00090412  |g|= 0.023324  3 KF 19 JK\n",
      "macro= 24  E= -56750.0765157172  delta_E= -0.000930863  |g|= 0.011287  3 KF 14 JK\n",
      "macro= 25  E= -56750.0764767148  delta_E= 3.90024e-05  |g|= 0.00896423  3 KF 27 JK\n",
      "macro= 26  E= -56750.0765343313  delta_E= -5.76165e-05  |g|= 0.0205455  2 KF 10 JK\n",
      "macro= 27  E= -56750.0765355859  delta_E= -1.25459e-06  |g|= 0.00606994  2 KF 11 JK\n",
      "macro= 28  E= -56750.0765303546  delta_E= 5.23136e-06  |g|= 0.00173968  2 KF 13 JK\n",
      "macro= 29  E= -56750.0765172839  delta_E= 1.30707e-05  |g|= 0.00586495  2 KF 12 JK\n",
      "macro= 30  E= -56750.0758608644  delta_E= 0.000656419  |g|= 0.0157672  3 KF 21 JK\n",
      "macro= 31  E= -56750.0761500766  delta_E= -0.000289212  |g|= 0.0165374  2 KF 16 JK\n",
      "macro= 32  E= -56750.0763852192  delta_E= -0.000235143  |g|= 0.0293805  2 KF 8 JK\n",
      "macro= 33  E= -56750.0765172205  delta_E= -0.000132001  |g|= 0.0041647  2 KF 9 JK\n",
      "macro= 34  E= -56750.0764844628  delta_E= 3.27577e-05  |g|= 0.00944913  2 KF 11 JK\n",
      "macro= 35  E= -56750.0765233401  delta_E= -3.88773e-05  |g|= 0.00725806  2 KF 15 JK\n",
      "macro= 36  E= -56750.0765296374  delta_E= -6.29738e-06  |g|= 0.00367105  2 KF 14 JK\n",
      "macro= 37  E= -56750.0765429089  delta_E= -1.32715e-05  |g|= 0.00169508  2 KF 16 JK\n",
      "macro= 38  E= -56750.0765373185  delta_E= 5.5904e-06  |g|= 0.0028911  3 KF 23 JK\n",
      "macro= 39  E= -56750.0765424022  delta_E= -5.08365e-06  |g|= 0.00771937  2 KF 5 JK\n",
      "macro= 40  E= -56750.0765401713  delta_E= 2.23085e-06  |g|= 0.00563831  2 KF 7 JK\n",
      "macro= 41  E= -56750.0765446647  delta_E= -4.49345e-06  |g|= 0.00146366  3 KF 18 JK\n"
     ]
    }
   ],
   "source": [
    "from pyscf.scf import GHF\n",
    "from pyscf.scf.diis import ADIIS\n",
    "from pyscf.scf.addons import frac_occ\n",
    "\n",
    "mf = GHF(m).x2c()\n",
    "mf.damp = 0.5\n",
    "mf.diis_start_cycle = 2\n",
    "mf = frac_occ(mf)\n",
    "mf.diis = ADIIS()\n",
    "mf.max_memory = 1024 * 6\n",
    "mf.verbose = 4\n",
    "mf = mf.newton()\n",
    "mf.kernel()"
   ]
  },
  {
   "cell_type": "code",
   "execution_count": 279,
   "id": "bedd77ef-7a97-4f85-981b-7ef53d7670b7",
   "metadata": {
    "ExecuteTime": {
     "end_time": "2024-03-09T00:57:28.711399Z",
     "start_time": "2024-03-09T00:57:28.575183Z"
    }
   },
   "outputs": [
    {
     "data": {
      "text/plain": [
       "array([4.75088175, 4.2205342 , 4.2205342 , 4.2205342 , 3.93978938,\n",
       "       3.92997239, 3.92997239, 3.92997238, 3.92866481, 3.92866481,\n",
       "       3.88140011])"
      ]
     },
     "execution_count": 279,
     "metadata": {},
     "output_type": "execute_result"
    }
   ],
   "source": [
    "from pyscf import gto\n",
    "\n",
    "mol = gto.Mole()\n",
    "mol.basis = str(basis_file)\n",
    "mol.atom = atom\n",
    "mol.nucmod = 'Gaussian'\n",
    "mol.unit = 'Bohr'\n",
    "mol.build()\n",
    "\n",
    "S = mol.intor('int1e_ovlp_sph', hermi=1)\n",
    "U, s, Vh = np.linalg.svd(S)\n",
    "s[:11]"
   ]
  },
  {
   "cell_type": "code",
   "execution_count": 249,
   "id": "750b6bda-369f-404d-9b58-70a742394fc2",
   "metadata": {},
   "outputs": [],
   "source": [
    "ao = storage.resources[Resource.ao_basis]\n",
    "mo = storage.resources[Resource.mo_basis]\n",
    "\n",
    "C0 = mo.molorb.copy()\n",
    "\n",
    "S0 = storage.resources[Resource.ao_int1e_overlap]\n",
    "V0 = storage.resources[Resource.ao_int1e_potential]\n",
    "\n",
    "shell_size = storage.resources[Resource.ao_basis_shells_size]\n",
    "\n",
    "prim_offset = np.pad(shell_size.cumsum(), (1, 0))\n",
    "prim_coeff = storage.resources[Resource.ao_basis_prims_coef]\n",
    "prim_exp = storage.resources[Resource.ao_basis_prims_exp]\n",
    "\n",
    "sort_idx = ao.df.sort_values(by=['atom_idx', 'l', 'shell_idx', 'ml']).resource_idx.to_numpy()\n",
    "S1 = S0[sort_idx, :][:, sort_idx].copy()\n",
    "C1 = C0[:, :, sort_idx].copy()"
   ]
  },
  {
   "cell_type": "code",
   "execution_count": 247,
   "id": "8b50a428-3651-4f2f-bc90-513fba941a0a",
   "metadata": {},
   "outputs": [
    {
     "data": {
      "text/plain": [
       "(1150, 2, 575)"
      ]
     },
     "execution_count": 247,
     "metadata": {},
     "output_type": "execute_result"
    }
   ],
   "source": [
    "C1.shape"
   ]
  },
  {
   "cell_type": "code",
   "execution_count": 235,
   "id": "2e7823cc-07eb-4ed7-b14e-e4a9ecca1aca",
   "metadata": {},
   "outputs": [
    {
     "data": {
      "text/plain": [
       "array([[1.        , 0.272573  , 0.444858  , 0.146552  , 0.0937485 ,\n",
       "        0.0614575 , 0.0364744 , 0.0152407 , 0.00827263, 0.00218415,\n",
       "        0.00111586],\n",
       "       [0.272573  , 1.        , 0.970607  , 0.728216  , 0.536323  ,\n",
       "        0.380805  , 0.238845  , 0.103768  , 0.056893  , 0.0151213 ,\n",
       "        0.00773155],\n",
       "       [0.444858  , 0.970607  , 1.        , 0.611903  , 0.428693  ,\n",
       "        0.295238  , 0.181136  , 0.0774454 , 0.0422837 , 0.011207  ,\n",
       "        0.00572826],\n",
       "       [0.146552  , 0.728216  , 0.611903  , 1.        , 0.93113   ,\n",
       "        0.775278  , 0.55105   , 0.26383   , 0.148511  , 0.0401811 ,\n",
       "        0.0205894 ],\n",
       "       [0.0937485 , 0.536323  , 0.428693  , 0.93113   , 1.        ,\n",
       "        0.940373  , 0.749235  , 0.39761   , 0.230737  , 0.0637705 ,\n",
       "        0.0327631 ],\n",
       "       [0.0614575 , 0.380805  , 0.295238  , 0.775278  , 0.940373  ,\n",
       "        1.        , 0.91284   , 0.559898  , 0.340808  , 0.097535  ,\n",
       "        0.0503316 ],\n",
       "       [0.0364744 , 0.238845  , 0.181136  , 0.55105   , 0.749235  ,\n",
       "        0.91284   , 1.        , 0.784231  , 0.525958  , 0.162595  ,\n",
       "        0.084763  ],\n",
       "       [0.0152407 , 0.103768  , 0.0774454 , 0.26383   , 0.39761   ,\n",
       "        0.559898  , 0.784231  , 1.        , 0.885512  , 0.363085  ,\n",
       "        0.197557  ],\n",
       "       [0.00827263, 0.056893  , 0.0422837 , 0.148511  , 0.230737  ,\n",
       "        0.340808  , 0.525958  , 0.885512  , 1.        , 0.590231  ,\n",
       "        0.344843  ],\n",
       "       [0.00218415, 0.0151213 , 0.011207  , 0.0401811 , 0.0637705 ,\n",
       "        0.097535  , 0.162595  , 0.363085  , 0.590231  , 1.        ,\n",
       "        0.86449   ],\n",
       "       [0.00111586, 0.00773155, 0.00572826, 0.0205894 , 0.0327631 ,\n",
       "        0.0503316 , 0.084763  , 0.197557  , 0.344843  , 0.86449   ,\n",
       "        1.        ]], dtype=float32)"
      ]
     },
     "execution_count": 235,
     "metadata": {},
     "output_type": "execute_result"
    }
   ],
   "source": [
    "S1[:11, :11]"
   ]
  },
  {
   "cell_type": "code",
   "execution_count": 164,
   "id": "23b4df40-634d-4944-b217-41e3cb0ef568",
   "metadata": {},
   "outputs": [
    {
     "data": {
      "text/html": [
       "<pre style=\"white-space:pre;overflow-x:auto;line-height:normal;font-family:Menlo,'DejaVu Sans Mono',consolas,'Courier New',monospace\">C <span style=\"font-weight: bold\">[</span><span style=\"color: #008080; text-decoration-color: #008080; font-weight: bold\">1</span>.<span style=\"font-weight: bold\">]</span>\n",
       "</pre>\n"
      ],
      "text/plain": [
       "C \u001b[1m[\u001b[0m\u001b[1;36m1\u001b[0m.\u001b[1m]\u001b[0m\n"
      ]
     },
     "metadata": {},
     "output_type": "display_data"
    },
    {
     "data": {
      "text/html": [
       "<pre style=\"white-space:pre;overflow-x:auto;line-height:normal;font-family:Menlo,'DejaVu Sans Mono',consolas,'Courier New',monospace\">a <span style=\"font-weight: bold\">[</span><span style=\"color: #008080; text-decoration-color: #008080; font-weight: bold\">125.525938</span><span style=\"font-weight: bold\">]</span>\n",
       "</pre>\n"
      ],
      "text/plain": [
       "a \u001b[1m[\u001b[0m\u001b[1;36m125.525938\u001b[0m\u001b[1m]\u001b[0m\n"
      ]
     },
     "metadata": {},
     "output_type": "display_data"
    },
    {
     "data": {
      "text/html": [
       "<pre style=\"white-space:pre;overflow-x:auto;line-height:normal;font-family:Menlo,'DejaVu Sans Mono',consolas,'Courier New',monospace\">N <span style=\"font-weight: bold\">[</span><span style=\"color: #008080; text-decoration-color: #008080; font-weight: bold\">94.7469265</span><span style=\"font-weight: bold\">]</span>\n",
       "</pre>\n"
      ],
      "text/plain": [
       "N \u001b[1m[\u001b[0m\u001b[1;36m94.7469265\u001b[0m\u001b[1m]\u001b[0m\n"
      ]
     },
     "metadata": {},
     "output_type": "display_data"
    },
    {
     "data": {
      "text/html": [
       "<pre style=\"white-space:pre;overflow-x:auto;line-height:normal;font-family:Menlo,'DejaVu Sans Mono',consolas,'Courier New',monospace\">\n",
       "</pre>\n"
      ],
      "text/plain": [
       "\n"
      ]
     },
     "metadata": {},
     "output_type": "display_data"
    }
   ],
   "source": [
    "from scipy.special import factorial, factorial2\n",
    "\n",
    "from pyscf.gto.mole import gto_norm\n",
    "\n",
    "ao_idx = 2\n",
    "ao_l = ao.df.at[ao_idx, 'l']\n",
    "alpha = prim_exp[prim_offset[ao_idx]:prim_offset[ao_idx + 1]]\n",
    "coeff = prim_coeff[prim_offset[ao_idx]:prim_offset[ao_idx + 1]]\n",
    "norm = gto_norm(ao_l, alpha)\n",
    "# norm2 = np.sqrt(2 ** (2 * ao_l + 3) * factorial(ao_l + 1) * (2 * alpha) ** (ao_l + 1.5) / factorial(2 * ao_l + 2) / np.sqrt(np.pi))\n",
    "\n",
    "print('C', coeff)\n",
    "print('a', alpha)\n",
    "print('N', norm)\n",
    "# print('N', norm2)\n",
    "print()"
   ]
  },
  {
   "cell_type": "markdown",
   "id": "fcb3f9e2-ec6f-4da7-bf37-dc2a8fcd56d3",
   "metadata": {},
   "source": [
    "$\\int_0^\\inf x^n \\exp(-\\alpha x^2) dx$"
   ]
  },
  {
   "cell_type": "code",
   "execution_count": 162,
   "id": "f83fdccd-68e3-4a22-962a-4cf709d96568",
   "metadata": {},
   "outputs": [
    {
     "data": {
      "image/png": "[encoded data removed]",
      "text/plain": [
       "<Figure size 640x480 with 1 Axes>"
      ]
     },
     "metadata": {},
     "output_type": "display_data"
    }
   ],
   "source": [
    "f = lambda r, l, a, n: r ** l * np.exp(-a * r ** 2) * n\n",
    "\n",
    "R = np.linspace(0, 0.1, 1_000)\n",
    "\n",
    "total = np.zeros_like(R)\n",
    "\n",
    "for i in range(len(alpha)):\n",
    "    plt.plot(R, f(R, ao_l, alpha[i], norm[i]))\n",
    "    # plt.axvline(np.sqrt((ao_l + 1) / (2 * alpha[i])))\n",
    "    total += coeff[i] * f(R, ao_l, alpha[i], norm[i])\n",
    "\n",
    "plt.plot(R, total ** 2)\n",
    "plt.show()"
   ]
  },
  {
   "cell_type": "code",
   "execution_count": 144,
   "id": "f0dd5864-ea64-4191-a6f4-5fe13e5fdb40",
   "metadata": {},
   "outputs": [
    {
     "data": {
      "text/plain": [
       "1"
      ]
     },
     "execution_count": 144,
     "metadata": {},
     "output_type": "execute_result"
    }
   ],
   "source": [
    "ao_l"
   ]
  },
  {
   "cell_type": "code",
   "execution_count": 147,
   "id": "753b561c-45e8-4ce7-a70f-5282b4905c27",
   "metadata": {},
   "outputs": [
    {
     "data": {
      "text/plain": [
       "array([1.        , 0.272573  , 0.444858  , 0.146552  , 0.0937485 ,\n",
       "       0.0614575 , 0.0364744 , 0.0152407 , 0.00827263, 0.00218415,\n",
       "       0.00111586], dtype=float32)"
      ]
     },
     "execution_count": 147,
     "metadata": {},
     "output_type": "execute_result"
    }
   ],
   "source": [
    "S1[0, :11]"
   ]
  },
  {
   "cell_type": "code",
   "execution_count": 146,
   "id": "e1dbfdc0-9040-4845-8541-3d1921b40d43",
   "metadata": {},
   "outputs": [
    {
     "data": {
      "text/plain": [
       "array([1.        , 0.44485756, 0.27257308, 0.14655152, 0.09374853,\n",
       "       0.06145752, 0.03647439, 0.0152407 , 0.00827263, 0.00218415,\n",
       "       0.00111586])"
      ]
     },
     "execution_count": 146,
     "metadata": {},
     "output_type": "execute_result"
    }
   ],
   "source": [
    "S[0, :11]"
   ]
  },
  {
   "cell_type": "code",
   "execution_count": 34,
   "id": "d65cd036-21a6-4c53-bbf2-11565663075f",
   "metadata": {},
   "outputs": [],
   "source": [
    "from pyscf import gto\n",
    "\n",
    "mol_h2o = gto.M(atom = 'O 0 0 0; H 0 1 0; H 0 0 1', basis = 'ccpvdz')\n",
    "S = mol_h2o.intor('int1e_ovlp_sph', hermi=1)"
   ]
  },
  {
   "cell_type": "code",
   "execution_count": 35,
   "id": "dc32505a-a3b6-4fc5-b8ea-3dbc3b92f480",
   "metadata": {
    "scrolled": true
   },
   "outputs": [
    {
     "data": {
      "text/plain": [
       "[[0, [13.01, 0.019685], [1.962, 0.137977], [0.4446, 0.478148]],\n",
       " [0, [0.122, 1.0]],\n",
       " [1, [0.727, 1.0]]]"
      ]
     },
     "execution_count": 35,
     "metadata": {},
     "output_type": "execute_result"
    }
   ],
   "source": [
    "mol_h2o._basis['H']"
   ]
  },
  {
   "cell_type": "code",
   "execution_count": 151,
   "id": "e51a94ba-f01c-4a28-8c99-08593034c918",
   "metadata": {},
   "outputs": [
    {
     "data": {
      "text/plain": [
       "[0,\n",
       " [32858555.4, 0.000747473572],\n",
       " [5434999.36, 0.00213731896],\n",
       " [1189227.21, 0.0051515064],\n",
       " [304447.804, 0.0119448003],\n",
       " [87484.9843, 0.0275226705],\n",
       " [27763.5319, 0.0627798288],\n",
       " [9558.60242, 0.136320014],\n",
       " [3508.7827, 0.274151702],\n",
       " [1321.05956, 0.406582673],\n",
       " [501.396664, 0.271173343]]"
      ]
     },
     "execution_count": 151,
     "metadata": {},
     "output_type": "execute_result"
    }
   ],
   "source": [
    "basis['Yb0'][0]"
   ]
  },
  {
   "cell_type": "code",
   "execution_count": 2,
   "id": "abe2783e6b74ef8c",
   "metadata": {
    "ExecuteTime": {
     "end_time": "2024-03-05T20:06:14.361521Z",
     "start_time": "2024-03-05T20:06:14.034136Z"
    },
    "collapsed": false,
    "jupyter": {
     "outputs_hidden": false
    }
   },
   "outputs": [],
   "source": [
    "from mctools.basic.basis import MolecularOrbitalBasis\n",
    "from mctools.basic.analysis import LabelByPartition\n",
    "\n",
    "mo = MolecularOrbitalBasis.from_hdf5(archive)\n",
    "ao = mo.ao_basis"
   ]
  },
  {
   "cell_type": "code",
   "execution_count": 5,
   "id": "4d78c658eca42f5c",
   "metadata": {
    "ExecuteTime": {
     "end_time": "2024-03-05T20:05:05.558903Z",
     "start_time": "2024-03-05T20:05:05.416930Z"
    },
    "collapsed": false,
    "jupyter": {
     "outputs_hidden": false
    }
   },
   "outputs": [],
   "source": [
    "by = ['element']\n",
    "top = 2\n",
    "partorb = mo.get_partition(by)\n",
    "labels = partorb.index.map('-'.join).to_numpy(dtype='U')\n",
    "indices = np.argpartition(partorb.transform(np.abs), -top, axis=0)"
   ]
  },
  {
   "cell_type": "code",
   "execution_count": 6,
   "id": "457cfb89e945d9c5",
   "metadata": {
    "ExecuteTime": {
     "end_time": "2024-03-05T20:05:06.096737Z",
     "start_time": "2024-03-05T20:05:06.079503Z"
    },
    "collapsed": false,
    "jupyter": {
     "outputs_hidden": false
    }
   },
   "outputs": [
    {
     "data": {
      "text/plain": [
       "(2, 1150)"
      ]
     },
     "execution_count": 6,
     "metadata": {},
     "output_type": "execute_result"
    }
   ],
   "source": [
    "indices.shape"
   ]
  },
  {
   "cell_type": "code",
   "execution_count": 6,
   "id": "89deb40026077317",
   "metadata": {
    "ExecuteTime": {
     "end_time": "2024-03-05T20:02:55.702727Z",
     "start_time": "2024-03-05T20:02:55.658647Z"
    },
    "collapsed": false,
    "jupyter": {
     "outputs_hidden": false
    }
   },
   "outputs": [],
   "source": [
    "mo_labels = labels[indices[-top:, :]][::-1, :]"
   ]
  },
  {
   "cell_type": "code",
   "execution_count": 14,
   "id": "a08837ca94ae2e46",
   "metadata": {
    "ExecuteTime": {
     "end_time": "2024-03-05T21:09:31.973678Z",
     "start_time": "2024-03-05T21:09:31.924667Z"
    },
    "collapsed": false,
    "jupyter": {
     "outputs_hidden": false
    }
   },
   "outputs": [
    {
     "data": {
      "text/html": [
       "<pre style=\"white-space:pre;overflow-x:auto;line-height:normal;font-family:Menlo,'DejaVu Sans Mono',consolas,'Courier New',monospace\"><span style=\"color: #000080; text-decoration-color: #000080\">╭────────────── </span><span style=\"color: #000080; text-decoration-color: #000080; font-weight: bold\">&lt;</span><span style=\"color: #ff00ff; text-decoration-color: #ff00ff; font-weight: bold\">class</span><span style=\"color: #000000; text-decoration-color: #000000\"> </span><span style=\"color: #008000; text-decoration-color: #008000\">'slice'</span><span style=\"color: #000080; text-decoration-color: #000080; font-weight: bold\">&gt;</span><span style=\"color: #000080; text-decoration-color: #000080\"> ──────────────╮</span>\n",
       "<span style=\"color: #000080; text-decoration-color: #000080\">│</span> <span style=\"color: #00ffff; text-decoration-color: #00ffff; font-style: italic\">class </span><span style=\"color: #800000; text-decoration-color: #800000; font-weight: bold\">slice</span><span style=\"font-weight: bold\">(</span><span style=\"color: #808000; text-decoration-color: #808000\">...</span><span style=\"font-weight: bold\">)</span>                            <span style=\"color: #000080; text-decoration-color: #000080\">│</span>\n",
       "<span style=\"color: #000080; text-decoration-color: #000080\">│</span>                                             <span style=\"color: #000080; text-decoration-color: #000080\">│</span>\n",
       "<span style=\"color: #000080; text-decoration-color: #000080\">│</span> <span style=\"color: #800080; text-decoration-color: #800080; font-weight: bold\">slice</span><span style=\"color: #008080; text-decoration-color: #008080; font-weight: bold\">(</span><span style=\"color: #008080; text-decoration-color: #008080\">stop</span><span style=\"color: #008080; text-decoration-color: #008080; font-weight: bold\">)</span>                                 <span style=\"color: #000080; text-decoration-color: #000080\">│</span>\n",
       "<span style=\"color: #000080; text-decoration-color: #000080\">│</span> <span style=\"color: #800080; text-decoration-color: #800080; font-weight: bold\">slice</span><span style=\"color: #008080; text-decoration-color: #008080; font-weight: bold\">(</span><span style=\"color: #008080; text-decoration-color: #008080\">start, stop</span><span style=\"color: #008080; text-decoration-color: #008080; font-weight: bold\">[</span><span style=\"color: #008080; text-decoration-color: #008080\">, step</span><span style=\"color: #008080; text-decoration-color: #008080; font-weight: bold\">])</span>                  <span style=\"color: #000080; text-decoration-color: #000080\">│</span>\n",
       "<span style=\"color: #000080; text-decoration-color: #000080\">│</span>                                             <span style=\"color: #000080; text-decoration-color: #000080\">│</span>\n",
       "<span style=\"color: #000080; text-decoration-color: #000080\">│</span> <span style=\"color: #808000; text-decoration-color: #808000; font-style: italic\">start</span> = <span style=\"font-weight: bold\">&lt;</span><span style=\"color: #ff00ff; text-decoration-color: #ff00ff; font-weight: bold\">member</span><span style=\"color: #000000; text-decoration-color: #000000\"> </span><span style=\"color: #008000; text-decoration-color: #008000\">'start'</span><span style=\"color: #000000; text-decoration-color: #000000\"> of </span><span style=\"color: #008000; text-decoration-color: #008000\">'slice'</span><span style=\"color: #000000; text-decoration-color: #000000\"> objects</span><span style=\"font-weight: bold\">&gt;</span> <span style=\"color: #000080; text-decoration-color: #000080\">│</span>\n",
       "<span style=\"color: #000080; text-decoration-color: #000080\">│</span>  <span style=\"color: #808000; text-decoration-color: #808000; font-style: italic\">step</span> = <span style=\"font-weight: bold\">&lt;</span><span style=\"color: #ff00ff; text-decoration-color: #ff00ff; font-weight: bold\">member</span><span style=\"color: #000000; text-decoration-color: #000000\"> </span><span style=\"color: #008000; text-decoration-color: #008000\">'step'</span><span style=\"color: #000000; text-decoration-color: #000000\"> of </span><span style=\"color: #008000; text-decoration-color: #008000\">'slice'</span><span style=\"color: #000000; text-decoration-color: #000000\"> objects</span><span style=\"font-weight: bold\">&gt;</span>  <span style=\"color: #000080; text-decoration-color: #000080\">│</span>\n",
       "<span style=\"color: #000080; text-decoration-color: #000080\">│</span>  <span style=\"color: #808000; text-decoration-color: #808000; font-style: italic\">stop</span> = <span style=\"font-weight: bold\">&lt;</span><span style=\"color: #ff00ff; text-decoration-color: #ff00ff; font-weight: bold\">member</span><span style=\"color: #000000; text-decoration-color: #000000\"> </span><span style=\"color: #008000; text-decoration-color: #008000\">'stop'</span><span style=\"color: #000000; text-decoration-color: #000000\"> of </span><span style=\"color: #008000; text-decoration-color: #008000\">'slice'</span><span style=\"color: #000000; text-decoration-color: #000000\"> objects</span><span style=\"font-weight: bold\">&gt;</span>  <span style=\"color: #000080; text-decoration-color: #000080\">│</span>\n",
       "<span style=\"color: #000080; text-decoration-color: #000080\">╰─────────────────────────────────────────────╯</span>\n",
       "</pre>\n"
      ],
      "text/plain": [
       "\u001b[34m╭─\u001b[0m\u001b[34m─────────────\u001b[0m\u001b[34m \u001b[0m\u001b[1;34m<\u001b[0m\u001b[1;95mclass\u001b[0m\u001b[39m \u001b[0m\u001b[32m'slice'\u001b[0m\u001b[1;34m>\u001b[0m\u001b[34m \u001b[0m\u001b[34m─────────────\u001b[0m\u001b[34m─╮\u001b[0m\n",
       "\u001b[34m│\u001b[0m \u001b[3;96mclass \u001b[0m\u001b[1;31mslice\u001b[0m\u001b[1m(\u001b[0m\u001b[33m...\u001b[0m\u001b[1m)\u001b[0m                            \u001b[34m│\u001b[0m\n",
       "\u001b[34m│\u001b[0m                                             \u001b[34m│\u001b[0m\n",
       "\u001b[34m│\u001b[0m \u001b[1;35mslice\u001b[0m\u001b[1;36m(\u001b[0m\u001b[36mstop\u001b[0m\u001b[1;36m)\u001b[0m                                 \u001b[34m│\u001b[0m\n",
       "\u001b[34m│\u001b[0m \u001b[1;35mslice\u001b[0m\u001b[1;36m(\u001b[0m\u001b[36mstart, stop\u001b[0m\u001b[1;36m[\u001b[0m\u001b[36m, step\u001b[0m\u001b[1;36m]\u001b[0m\u001b[1;36m)\u001b[0m                  \u001b[34m│\u001b[0m\n",
       "\u001b[34m│\u001b[0m                                             \u001b[34m│\u001b[0m\n",
       "\u001b[34m│\u001b[0m \u001b[3;33mstart\u001b[0m = \u001b[1m<\u001b[0m\u001b[1;95mmember\u001b[0m\u001b[39m \u001b[0m\u001b[32m'start'\u001b[0m\u001b[39m of \u001b[0m\u001b[32m'slice'\u001b[0m\u001b[39m objects\u001b[0m\u001b[1m>\u001b[0m \u001b[34m│\u001b[0m\n",
       "\u001b[34m│\u001b[0m  \u001b[3;33mstep\u001b[0m = \u001b[1m<\u001b[0m\u001b[1;95mmember\u001b[0m\u001b[39m \u001b[0m\u001b[32m'step'\u001b[0m\u001b[39m of \u001b[0m\u001b[32m'slice'\u001b[0m\u001b[39m objects\u001b[0m\u001b[1m>\u001b[0m  \u001b[34m│\u001b[0m\n",
       "\u001b[34m│\u001b[0m  \u001b[3;33mstop\u001b[0m = \u001b[1m<\u001b[0m\u001b[1;95mmember\u001b[0m\u001b[39m \u001b[0m\u001b[32m'stop'\u001b[0m\u001b[39m of \u001b[0m\u001b[32m'slice'\u001b[0m\u001b[39m objects\u001b[0m\u001b[1m>\u001b[0m  \u001b[34m│\u001b[0m\n",
       "\u001b[34m╰─────────────────────────────────────────────╯\u001b[0m\n"
      ]
     },
     "metadata": {},
     "output_type": "display_data"
    }
   ],
   "source": [
    "inspect(slice)"
   ]
  },
  {
   "cell_type": "code",
   "execution_count": 3,
   "id": "835fe349012b3368",
   "metadata": {
    "ExecuteTime": {
     "end_time": "2024-03-05T20:06:30.057330Z",
     "start_time": "2024-03-05T20:06:29.906845Z"
    },
    "collapsed": false,
    "jupyter": {
     "outputs_hidden": false
    }
   },
   "outputs": [],
   "source": [
    "labeler = LabelByPartition(by=['element', 'L'], top=3)\n",
    "dfl = labeler(mo)"
   ]
  },
  {
   "cell_type": "code",
   "execution_count": 23,
   "id": "e4ea9d4895aec830",
   "metadata": {
    "ExecuteTime": {
     "end_time": "2024-03-05T21:15:34.508884Z",
     "start_time": "2024-03-05T21:15:34.455111Z"
    },
    "collapsed": false,
    "jupyter": {
     "outputs_hidden": false
    }
   },
   "outputs": [],
   "source": [
    "df = pd.concat([mo.df, dfl], axis=1, keys=['default', 'partorb'])"
   ]
  },
  {
   "cell_type": "code",
   "execution_count": 25,
   "id": "52b8d1898c6c805c",
   "metadata": {
    "ExecuteTime": {
     "end_time": "2024-03-05T21:21:37.335385Z",
     "start_time": "2024-03-05T21:21:37.297072Z"
    },
    "collapsed": false,
    "jupyter": {
     "outputs_hidden": false
    }
   },
   "outputs": [
    {
     "data": {
      "text/html": [
       "<div>\n",
       "<style scoped>\n",
       "    .dataframe tbody tr th:only-of-type {\n",
       "        vertical-align: middle;\n",
       "    }\n",
       "\n",
       "    .dataframe tbody tr th {\n",
       "        vertical-align: top;\n",
       "    }\n",
       "\n",
       "    .dataframe thead th {\n",
       "        text-align: right;\n",
       "    }\n",
       "</style>\n",
       "<table border=\"1\" class=\"dataframe\">\n",
       "  <thead>\n",
       "    <tr style=\"text-align: right;\">\n",
       "      <th></th>\n",
       "      <th>occupied</th>\n",
       "      <th>resource_idx</th>\n",
       "      <th>ci</th>\n",
       "      <th>active_space</th>\n",
       "    </tr>\n",
       "  </thead>\n",
       "  <tbody>\n",
       "    <tr>\n",
       "      <th>0</th>\n",
       "      <td>True</td>\n",
       "      <td>0</td>\n",
       "      <td>inactive</td>\n",
       "      <td>inactive</td>\n",
       "    </tr>\n",
       "    <tr>\n",
       "      <th>1</th>\n",
       "      <td>True</td>\n",
       "      <td>1</td>\n",
       "      <td>inactive</td>\n",
       "      <td>inactive</td>\n",
       "    </tr>\n",
       "    <tr>\n",
       "      <th>2</th>\n",
       "      <td>True</td>\n",
       "      <td>2</td>\n",
       "      <td>inactive</td>\n",
       "      <td>inactive</td>\n",
       "    </tr>\n",
       "    <tr>\n",
       "      <th>3</th>\n",
       "      <td>True</td>\n",
       "      <td>3</td>\n",
       "      <td>inactive</td>\n",
       "      <td>inactive</td>\n",
       "    </tr>\n",
       "    <tr>\n",
       "      <th>4</th>\n",
       "      <td>True</td>\n",
       "      <td>4</td>\n",
       "      <td>inactive</td>\n",
       "      <td>inactive</td>\n",
       "    </tr>\n",
       "    <tr>\n",
       "      <th>...</th>\n",
       "      <td>...</td>\n",
       "      <td>...</td>\n",
       "      <td>...</td>\n",
       "      <td>...</td>\n",
       "    </tr>\n",
       "    <tr>\n",
       "      <th>1145</th>\n",
       "      <td>False</td>\n",
       "      <td>1145</td>\n",
       "      <td>virtual</td>\n",
       "      <td>virtual</td>\n",
       "    </tr>\n",
       "    <tr>\n",
       "      <th>1146</th>\n",
       "      <td>False</td>\n",
       "      <td>1146</td>\n",
       "      <td>virtual</td>\n",
       "      <td>virtual</td>\n",
       "    </tr>\n",
       "    <tr>\n",
       "      <th>1147</th>\n",
       "      <td>False</td>\n",
       "      <td>1147</td>\n",
       "      <td>virtual</td>\n",
       "      <td>virtual</td>\n",
       "    </tr>\n",
       "    <tr>\n",
       "      <th>1148</th>\n",
       "      <td>False</td>\n",
       "      <td>1148</td>\n",
       "      <td>virtual</td>\n",
       "      <td>virtual</td>\n",
       "    </tr>\n",
       "    <tr>\n",
       "      <th>1149</th>\n",
       "      <td>False</td>\n",
       "      <td>1149</td>\n",
       "      <td>virtual</td>\n",
       "      <td>virtual</td>\n",
       "    </tr>\n",
       "  </tbody>\n",
       "</table>\n",
       "<p>1150 rows × 4 columns</p>\n",
       "</div>"
      ],
      "text/plain": [
       "      occupied  resource_idx        ci active_space\n",
       "0         True             0  inactive     inactive\n",
       "1         True             1  inactive     inactive\n",
       "2         True             2  inactive     inactive\n",
       "3         True             3  inactive     inactive\n",
       "4         True             4  inactive     inactive\n",
       "...        ...           ...       ...          ...\n",
       "1145     False          1145   virtual      virtual\n",
       "1146     False          1146   virtual      virtual\n",
       "1147     False          1147   virtual      virtual\n",
       "1148     False          1148   virtual      virtual\n",
       "1149     False          1149   virtual      virtual\n",
       "\n",
       "[1150 rows x 4 columns]"
      ]
     },
     "execution_count": 25,
     "metadata": {},
     "output_type": "execute_result"
    }
   ],
   "source": [
    "df.xs('default', level=0, axis=1)"
   ]
  },
  {
   "cell_type": "code",
   "execution_count": 12,
   "id": "962e773138200237",
   "metadata": {
    "ExecuteTime": {
     "end_time": "2024-03-05T21:06:24.376284Z",
     "start_time": "2024-03-05T21:06:24.320055Z"
    },
    "collapsed": false,
    "jupyter": {
     "outputs_hidden": false
    }
   },
   "outputs": [
    {
     "data": {
      "text/plain": [
       "(slice(None, 20, None), slice(None, None, None), Ellipsis, None)"
      ]
     },
     "execution_count": 12,
     "metadata": {},
     "output_type": "execute_result"
    }
   ],
   "source": [
    "np.index_exp[:20, :, ..., np.newaxis]"
   ]
  },
  {
   "cell_type": "code",
   "execution_count": 4,
   "id": "7e44b3ea6e34553a",
   "metadata": {
    "ExecuteTime": {
     "end_time": "2024-03-05T19:10:04.783378Z",
     "start_time": "2024-03-05T19:10:04.673518Z"
    },
    "collapsed": false,
    "jupyter": {
     "outputs_hidden": false
    }
   },
   "outputs": [],
   "source": [
    "from collections import defaultdict\n",
    "\n",
    "by = ['atom']\n",
    "fragments = defaultdict(\n",
    "    lambda: np.full(ao.n_ao, False, dtype=np.bool_)\n",
    ")\n",
    "\n",
    "for label, ao_idx in ao.df.groupby(by).indices.items():\n",
    "    fragments[label][ao_idx] = True"
   ]
  },
  {
   "cell_type": "code",
   "execution_count": 22,
   "id": "91e27e18b01e5918",
   "metadata": {
    "ExecuteTime": {
     "end_time": "2024-03-05T19:25:26.121011Z",
     "start_time": "2024-03-05T19:25:25.089416Z"
    },
    "collapsed": false,
    "jupyter": {
     "outputs_hidden": false
    }
   },
   "outputs": [
    {
     "ename": "KeyError",
     "evalue": "'Z'",
     "output_type": "error",
     "traceback": [
      "\u001b[0;31m---------------------------------------------------------------------------\u001b[0m",
      "\u001b[0;31mKeyError\u001b[0m                                  Traceback (most recent call last)",
      "Cell \u001b[0;32mIn[22], line 2\u001b[0m\n\u001b[1;32m      1\u001b[0m partorb \u001b[38;5;241m=\u001b[39m mo\u001b[38;5;241m.\u001b[39mget_partition([\u001b[38;5;124m'\u001b[39m\u001b[38;5;124melement\u001b[39m\u001b[38;5;124m'\u001b[39m, \u001b[38;5;124m'\u001b[39m\u001b[38;5;124mL\u001b[39m\u001b[38;5;124m'\u001b[39m])\n\u001b[0;32m----> 2\u001b[0m pop \u001b[38;5;241m=\u001b[39m \u001b[43mmo\u001b[49m\u001b[38;5;241;43m.\u001b[39;49m\u001b[43mget_population\u001b[49m\u001b[43m(\u001b[49m\u001b[43m[\u001b[49m\u001b[38;5;124;43m'\u001b[39;49m\u001b[38;5;124;43mZ\u001b[39;49m\u001b[38;5;124;43m'\u001b[39;49m\u001b[43m]\u001b[49m\u001b[43m)\u001b[49m\n",
      "File \u001b[0;32m~/Documents/UW/Li_Group/mctools/mctools/basic/basis.py:346\u001b[0m, in \u001b[0;36mMolecularOrbitalBasis.get_population\u001b[0;34m(self, of)\u001b[0m\n\u001b[1;32m    345\u001b[0m \u001b[38;5;28;01mdef\u001b[39;00m \u001b[38;5;21mget_population\u001b[39m(\u001b[38;5;28mself\u001b[39m, of: \u001b[38;5;28mlist\u001b[39m[\u001b[38;5;28mstr\u001b[39m], \u001b[38;5;241m/\u001b[39m) \u001b[38;5;241m-\u001b[39m\u001b[38;5;241m>\u001b[39m pd\u001b[38;5;241m.\u001b[39mDataFrame:\n\u001b[0;32m--> 346\u001b[0m     fragments \u001b[38;5;241m=\u001b[39m \u001b[38;5;28;43mself\u001b[39;49m\u001b[38;5;241;43m.\u001b[39;49m\u001b[43mao_basis\u001b[49m\u001b[38;5;241;43m.\u001b[39;49m\u001b[43mget_fragments\u001b[49m\u001b[43m(\u001b[49m\u001b[43mof\u001b[49m\u001b[43m)\u001b[49m\n\u001b[1;32m    348\u001b[0m     S \u001b[38;5;241m=\u001b[39m \u001b[38;5;28mself\u001b[39m\u001b[38;5;241m.\u001b[39mao_basis\u001b[38;5;241m.\u001b[39mget_metric()\n\u001b[1;32m    349\u001b[0m     P \u001b[38;5;241m=\u001b[39m \u001b[38;5;28mself\u001b[39m\u001b[38;5;241m.\u001b[39mget_density()\n",
      "File \u001b[0;32m~/Documents/UW/Li_Group/mctools/mctools/basic/basis.py:158\u001b[0m, in \u001b[0;36mAtomicOrbitalBasis.get_fragments\u001b[0;34m(self, cols)\u001b[0m\n\u001b[1;32m    153\u001b[0m \u001b[38;5;28;01mdef\u001b[39;00m \u001b[38;5;21mget_fragments\u001b[39m(\u001b[38;5;28mself\u001b[39m, cols: \u001b[38;5;28mlist\u001b[39m[\u001b[38;5;28mstr\u001b[39m], \u001b[38;5;241m/\u001b[39m) \u001b[38;5;241m-\u001b[39m\u001b[38;5;241m>\u001b[39m pd\u001b[38;5;241m.\u001b[39mDataFrame:\n\u001b[1;32m    154\u001b[0m     fragments \u001b[38;5;241m=\u001b[39m defaultdict(\n\u001b[1;32m    155\u001b[0m         \u001b[38;5;28;01mlambda\u001b[39;00m: np\u001b[38;5;241m.\u001b[39mfull(\u001b[38;5;28mself\u001b[39m\u001b[38;5;241m.\u001b[39mn_ao, \u001b[38;5;28;01mFalse\u001b[39;00m, dtype\u001b[38;5;241m=\u001b[39mnp\u001b[38;5;241m.\u001b[39mbool_)\n\u001b[1;32m    156\u001b[0m     )\n\u001b[0;32m--> 158\u001b[0m     \u001b[38;5;28;01mfor\u001b[39;00m label, ao_idx \u001b[38;5;129;01min\u001b[39;00m \u001b[38;5;28;43mself\u001b[39;49m\u001b[38;5;241;43m.\u001b[39;49m\u001b[43mdf\u001b[49m\u001b[38;5;241;43m.\u001b[39;49m\u001b[43mgroupby\u001b[49m\u001b[43m(\u001b[49m\u001b[43mcols\u001b[49m\u001b[43m)\u001b[49m\u001b[38;5;241m.\u001b[39mindices\u001b[38;5;241m.\u001b[39mitems():\n\u001b[1;32m    159\u001b[0m         fragments[label][ao_idx] \u001b[38;5;241m=\u001b[39m \u001b[38;5;28;01mTrue\u001b[39;00m\n\u001b[1;32m    161\u001b[0m     \u001b[38;5;28;01mif\u001b[39;00m \u001b[38;5;28mlen\u001b[39m(cols) \u001b[38;5;241m>\u001b[39m \u001b[38;5;241m1\u001b[39m:\n",
      "File \u001b[0;32m~/Library/Caches/pypoetry/virtualenvs/mctools-kiJ8cLYs-py3.11/lib/python3.11/site-packages/pandas/core/frame.py:9170\u001b[0m, in \u001b[0;36mDataFrame.groupby\u001b[0;34m(self, by, axis, level, as_index, sort, group_keys, observed, dropna)\u001b[0m\n\u001b[1;32m   9167\u001b[0m \u001b[38;5;28;01mif\u001b[39;00m level \u001b[38;5;129;01mis\u001b[39;00m \u001b[38;5;28;01mNone\u001b[39;00m \u001b[38;5;129;01mand\u001b[39;00m by \u001b[38;5;129;01mis\u001b[39;00m \u001b[38;5;28;01mNone\u001b[39;00m:\n\u001b[1;32m   9168\u001b[0m     \u001b[38;5;28;01mraise\u001b[39;00m \u001b[38;5;167;01mTypeError\u001b[39;00m(\u001b[38;5;124m\"\u001b[39m\u001b[38;5;124mYou have to supply one of \u001b[39m\u001b[38;5;124m'\u001b[39m\u001b[38;5;124mby\u001b[39m\u001b[38;5;124m'\u001b[39m\u001b[38;5;124m and \u001b[39m\u001b[38;5;124m'\u001b[39m\u001b[38;5;124mlevel\u001b[39m\u001b[38;5;124m'\u001b[39m\u001b[38;5;124m\"\u001b[39m)\n\u001b[0;32m-> 9170\u001b[0m \u001b[38;5;28;01mreturn\u001b[39;00m \u001b[43mDataFrameGroupBy\u001b[49m\u001b[43m(\u001b[49m\n\u001b[1;32m   9171\u001b[0m \u001b[43m    \u001b[49m\u001b[43mobj\u001b[49m\u001b[38;5;241;43m=\u001b[39;49m\u001b[38;5;28;43mself\u001b[39;49m\u001b[43m,\u001b[49m\n\u001b[1;32m   9172\u001b[0m \u001b[43m    \u001b[49m\u001b[43mkeys\u001b[49m\u001b[38;5;241;43m=\u001b[39;49m\u001b[43mby\u001b[49m\u001b[43m,\u001b[49m\n\u001b[1;32m   9173\u001b[0m \u001b[43m    \u001b[49m\u001b[43maxis\u001b[49m\u001b[38;5;241;43m=\u001b[39;49m\u001b[43maxis\u001b[49m\u001b[43m,\u001b[49m\n\u001b[1;32m   9174\u001b[0m \u001b[43m    \u001b[49m\u001b[43mlevel\u001b[49m\u001b[38;5;241;43m=\u001b[39;49m\u001b[43mlevel\u001b[49m\u001b[43m,\u001b[49m\n\u001b[1;32m   9175\u001b[0m \u001b[43m    \u001b[49m\u001b[43mas_index\u001b[49m\u001b[38;5;241;43m=\u001b[39;49m\u001b[43mas_index\u001b[49m\u001b[43m,\u001b[49m\n\u001b[1;32m   9176\u001b[0m \u001b[43m    \u001b[49m\u001b[43msort\u001b[49m\u001b[38;5;241;43m=\u001b[39;49m\u001b[43msort\u001b[49m\u001b[43m,\u001b[49m\n\u001b[1;32m   9177\u001b[0m \u001b[43m    \u001b[49m\u001b[43mgroup_keys\u001b[49m\u001b[38;5;241;43m=\u001b[39;49m\u001b[43mgroup_keys\u001b[49m\u001b[43m,\u001b[49m\n\u001b[1;32m   9178\u001b[0m \u001b[43m    \u001b[49m\u001b[43mobserved\u001b[49m\u001b[38;5;241;43m=\u001b[39;49m\u001b[43mobserved\u001b[49m\u001b[43m,\u001b[49m\n\u001b[1;32m   9179\u001b[0m \u001b[43m    \u001b[49m\u001b[43mdropna\u001b[49m\u001b[38;5;241;43m=\u001b[39;49m\u001b[43mdropna\u001b[49m\u001b[43m,\u001b[49m\n\u001b[1;32m   9180\u001b[0m \u001b[43m\u001b[49m\u001b[43m)\u001b[49m\n",
      "File \u001b[0;32m~/Library/Caches/pypoetry/virtualenvs/mctools-kiJ8cLYs-py3.11/lib/python3.11/site-packages/pandas/core/groupby/groupby.py:1329\u001b[0m, in \u001b[0;36mGroupBy.__init__\u001b[0;34m(self, obj, keys, axis, level, grouper, exclusions, selection, as_index, sort, group_keys, observed, dropna)\u001b[0m\n\u001b[1;32m   1326\u001b[0m \u001b[38;5;28mself\u001b[39m\u001b[38;5;241m.\u001b[39mdropna \u001b[38;5;241m=\u001b[39m dropna\n\u001b[1;32m   1328\u001b[0m \u001b[38;5;28;01mif\u001b[39;00m grouper \u001b[38;5;129;01mis\u001b[39;00m \u001b[38;5;28;01mNone\u001b[39;00m:\n\u001b[0;32m-> 1329\u001b[0m     grouper, exclusions, obj \u001b[38;5;241m=\u001b[39m \u001b[43mget_grouper\u001b[49m\u001b[43m(\u001b[49m\n\u001b[1;32m   1330\u001b[0m \u001b[43m        \u001b[49m\u001b[43mobj\u001b[49m\u001b[43m,\u001b[49m\n\u001b[1;32m   1331\u001b[0m \u001b[43m        \u001b[49m\u001b[43mkeys\u001b[49m\u001b[43m,\u001b[49m\n\u001b[1;32m   1332\u001b[0m \u001b[43m        \u001b[49m\u001b[43maxis\u001b[49m\u001b[38;5;241;43m=\u001b[39;49m\u001b[43maxis\u001b[49m\u001b[43m,\u001b[49m\n\u001b[1;32m   1333\u001b[0m \u001b[43m        \u001b[49m\u001b[43mlevel\u001b[49m\u001b[38;5;241;43m=\u001b[39;49m\u001b[43mlevel\u001b[49m\u001b[43m,\u001b[49m\n\u001b[1;32m   1334\u001b[0m \u001b[43m        \u001b[49m\u001b[43msort\u001b[49m\u001b[38;5;241;43m=\u001b[39;49m\u001b[43msort\u001b[49m\u001b[43m,\u001b[49m\n\u001b[1;32m   1335\u001b[0m \u001b[43m        \u001b[49m\u001b[43mobserved\u001b[49m\u001b[38;5;241;43m=\u001b[39;49m\u001b[38;5;28;43;01mFalse\u001b[39;49;00m\u001b[43m \u001b[49m\u001b[38;5;28;43;01mif\u001b[39;49;00m\u001b[43m \u001b[49m\u001b[43mobserved\u001b[49m\u001b[43m \u001b[49m\u001b[38;5;129;43;01mis\u001b[39;49;00m\u001b[43m \u001b[49m\u001b[43mlib\u001b[49m\u001b[38;5;241;43m.\u001b[39;49m\u001b[43mno_default\u001b[49m\u001b[43m \u001b[49m\u001b[38;5;28;43;01melse\u001b[39;49;00m\u001b[43m \u001b[49m\u001b[43mobserved\u001b[49m\u001b[43m,\u001b[49m\n\u001b[1;32m   1336\u001b[0m \u001b[43m        \u001b[49m\u001b[43mdropna\u001b[49m\u001b[38;5;241;43m=\u001b[39;49m\u001b[38;5;28;43mself\u001b[39;49m\u001b[38;5;241;43m.\u001b[39;49m\u001b[43mdropna\u001b[49m\u001b[43m,\u001b[49m\n\u001b[1;32m   1337\u001b[0m \u001b[43m    \u001b[49m\u001b[43m)\u001b[49m\n\u001b[1;32m   1339\u001b[0m \u001b[38;5;28;01mif\u001b[39;00m observed \u001b[38;5;129;01mis\u001b[39;00m lib\u001b[38;5;241m.\u001b[39mno_default:\n\u001b[1;32m   1340\u001b[0m     \u001b[38;5;28;01mif\u001b[39;00m \u001b[38;5;28many\u001b[39m(ping\u001b[38;5;241m.\u001b[39m_passed_categorical \u001b[38;5;28;01mfor\u001b[39;00m ping \u001b[38;5;129;01min\u001b[39;00m grouper\u001b[38;5;241m.\u001b[39mgroupings):\n",
      "File \u001b[0;32m~/Library/Caches/pypoetry/virtualenvs/mctools-kiJ8cLYs-py3.11/lib/python3.11/site-packages/pandas/core/groupby/grouper.py:1043\u001b[0m, in \u001b[0;36mget_grouper\u001b[0;34m(obj, key, axis, level, sort, observed, validate, dropna)\u001b[0m\n\u001b[1;32m   1041\u001b[0m         in_axis, level, gpr \u001b[38;5;241m=\u001b[39m \u001b[38;5;28;01mFalse\u001b[39;00m, gpr, \u001b[38;5;28;01mNone\u001b[39;00m\n\u001b[1;32m   1042\u001b[0m     \u001b[38;5;28;01melse\u001b[39;00m:\n\u001b[0;32m-> 1043\u001b[0m         \u001b[38;5;28;01mraise\u001b[39;00m \u001b[38;5;167;01mKeyError\u001b[39;00m(gpr)\n\u001b[1;32m   1044\u001b[0m \u001b[38;5;28;01melif\u001b[39;00m \u001b[38;5;28misinstance\u001b[39m(gpr, Grouper) \u001b[38;5;129;01mand\u001b[39;00m gpr\u001b[38;5;241m.\u001b[39mkey \u001b[38;5;129;01mis\u001b[39;00m \u001b[38;5;129;01mnot\u001b[39;00m \u001b[38;5;28;01mNone\u001b[39;00m:\n\u001b[1;32m   1045\u001b[0m     \u001b[38;5;66;03m# Add key to exclusions\u001b[39;00m\n\u001b[1;32m   1046\u001b[0m     exclusions\u001b[38;5;241m.\u001b[39madd(gpr\u001b[38;5;241m.\u001b[39mkey)\n",
      "\u001b[0;31mKeyError\u001b[0m: 'Z'"
     ]
    }
   ],
   "source": [
    "partorb = mo.get_partition(['element', 'L'])\n",
    "pop = mo.get_population([''])"
   ]
  },
  {
   "cell_type": "code",
   "execution_count": null,
   "id": "bee0f5e99c9f6b5b",
   "metadata": {
    "collapsed": false,
    "jupyter": {
     "outputs_hidden": false
    }
   },
   "outputs": [],
   "source": []
  },
  {
   "cell_type": "code",
   "execution_count": 37,
   "id": "17af30bf17b837cf",
   "metadata": {
    "ExecuteTime": {
     "end_time": "2024-03-05T19:42:54.388385Z",
     "start_time": "2024-03-05T19:42:54.343440Z"
    },
    "collapsed": false,
    "jupyter": {
     "outputs_hidden": false
    }
   },
   "outputs": [
    {
     "data": {
      "text/plain": [
       "array([[6, 6, 5, ..., 6, 6, 6],\n",
       "       [4, 4, 4, ..., 8, 8, 8],\n",
       "       [7, 7, 7, ..., 4, 4, 4],\n",
       "       ...,\n",
       "       [0, 0, 2, ..., 3, 2, 2],\n",
       "       [2, 2, 8, ..., 7, 7, 7],\n",
       "       [8, 8, 3, ..., 2, 3, 3]])"
      ]
     },
     "execution_count": 37,
     "metadata": {},
     "output_type": "execute_result"
    }
   ],
   "source": [
    "np.argpartition(partorb.transform(np.abs), -3, axis=0)"
   ]
  },
  {
   "cell_type": "code",
   "execution_count": 31,
   "id": "24001a1cba7a9bec",
   "metadata": {
    "ExecuteTime": {
     "end_time": "2024-03-05T19:37:26.994344Z",
     "start_time": "2024-03-05T19:37:26.965418Z"
    },
    "collapsed": false,
    "jupyter": {
     "outputs_hidden": false
    }
   },
   "outputs": [
    {
     "ename": "AttributeError",
     "evalue": "'MultiIndex' object has no attribute 'apply'",
     "output_type": "error",
     "traceback": [
      "\u001b[0;31m---------------------------------------------------------------------------\u001b[0m",
      "\u001b[0;31mAttributeError\u001b[0m                            Traceback (most recent call last)",
      "Cell \u001b[0;32mIn[31], line 1\u001b[0m\n\u001b[0;32m----> 1\u001b[0m \u001b[43mpartorb\u001b[49m\u001b[38;5;241;43m.\u001b[39;49m\u001b[43mindex\u001b[49m\u001b[38;5;241;43m.\u001b[39;49m\u001b[43mapply\u001b[49m(\u001b[38;5;124m'\u001b[39m\u001b[38;5;124m-\u001b[39m\u001b[38;5;124m'\u001b[39m\u001b[38;5;241m.\u001b[39mjoin, axis\u001b[38;5;241m=\u001b[39m\u001b[38;5;241m1\u001b[39m)\n",
      "\u001b[0;31mAttributeError\u001b[0m: 'MultiIndex' object has no attribute 'apply'"
     ]
    }
   ],
   "source": [
    "partorb.index.to_frame()[['element', 'L']].apply('-'.join, axis=1)"
   ]
  },
  {
   "cell_type": "code",
   "execution_count": 103,
   "id": "c7db9bea8701cd46",
   "metadata": {
    "ExecuteTime": {
     "end_time": "2024-03-05T18:27:34.396938Z",
     "start_time": "2024-03-05T18:27:31.957265Z"
    },
    "collapsed": false,
    "jupyter": {
     "outputs_hidden": false
    }
   },
   "outputs": [],
   "source": [
    "P0 = mo.get_density()\n",
    "S = mo.ao_basis.get_metric()\n",
    "C = mo.molorb_occ.copy()\n",
    "\n",
    "P0 = np.einsum('pat,pbu->abtu', C, C.conj(), optimize=True)\n",
    "P1 = np.einsum('pat,pbu->abtu', C, C.conj(), optimize=True)\n",
    "\n",
    "S_2c = np.kron(np.eye(2), S)\n",
    "C_2c = C.reshape(C.shape[0], -1)\n",
    "P_2c = np.einsum('pt,pu->tu', C_2c, C_2c.conj())"
   ]
  },
  {
   "cell_type": "code",
   "execution_count": 104,
   "id": "d2fd34fdeb80b16a",
   "metadata": {
    "ExecuteTime": {
     "end_time": "2024-03-05T18:27:54.046499Z",
     "start_time": "2024-03-05T18:27:53.870508Z"
    },
    "collapsed": false,
    "jupyter": {
     "outputs_hidden": false
    }
   },
   "outputs": [],
   "source": [
    "PS_2c = P_2c @ S_2c"
   ]
  },
  {
   "cell_type": "code",
   "execution_count": 72,
   "id": "88400157f3c39b9f",
   "metadata": {
    "ExecuteTime": {
     "end_time": "2024-03-05T18:07:57.497989Z",
     "start_time": "2024-03-05T18:07:57.168260Z"
    },
    "collapsed": false,
    "jupyter": {
     "outputs_hidden": false
    }
   },
   "outputs": [
    {
     "data": {
      "text/plain": [
       "4.27168687755497e-06"
      ]
     },
     "execution_count": 72,
     "metadata": {},
     "output_type": "execute_result"
    }
   ],
   "source": [
    "np.abs(P_2c @ S_2c @ P_2c - P_2c).max()"
   ]
  },
  {
   "cell_type": "code",
   "execution_count": 74,
   "id": "5bd840cff3c43763",
   "metadata": {
    "ExecuteTime": {
     "end_time": "2024-03-05T18:08:07.143829Z",
     "start_time": "2024-03-05T18:08:07.089660Z"
    },
    "collapsed": false,
    "jupyter": {
     "outputs_hidden": false
    }
   },
   "outputs": [
    {
     "data": {
      "text/plain": [
       "4.16356562121044e-16"
      ]
     },
     "execution_count": 74,
     "metadata": {},
     "output_type": "execute_result"
    }
   ],
   "source": [
    "np.abs(P_2c[575:, :575] - P0[1, 0]).max()"
   ]
  },
  {
   "cell_type": "code",
   "execution_count": 91,
   "id": "a7685896272b3441",
   "metadata": {
    "ExecuteTime": {
     "end_time": "2024-03-05T18:23:14.617859Z",
     "start_time": "2024-03-05T18:23:14.560162Z"
    },
    "collapsed": false,
    "jupyter": {
     "outputs_hidden": false
    }
   },
   "outputs": [],
   "source": [
    "S2c = np.einsum('ab,tu->abtu', np.eye(2), S)"
   ]
  },
  {
   "cell_type": "code",
   "execution_count": 93,
   "id": "5df46679e5405df7",
   "metadata": {
    "ExecuteTime": {
     "end_time": "2024-03-05T18:23:26.400936Z",
     "start_time": "2024-03-05T18:23:26.395731Z"
    },
    "collapsed": false,
    "jupyter": {
     "outputs_hidden": false
    }
   },
   "outputs": [
    {
     "data": {
      "text/plain": [
       "0.0"
      ]
     },
     "execution_count": 93,
     "metadata": {},
     "output_type": "execute_result"
    }
   ],
   "source": [
    "S2c[0, 1].max()"
   ]
  },
  {
   "cell_type": "code",
   "execution_count": 122,
   "id": "1aeebe5be601e5f",
   "metadata": {
    "ExecuteTime": {
     "end_time": "2024-03-05T18:40:19.381451Z",
     "start_time": "2024-03-05T18:40:18.811812Z"
    },
    "collapsed": false,
    "jupyter": {
     "outputs_hidden": false
    }
   },
   "outputs": [],
   "source": [
    "PS = np.einsum('abtu,bc,uv -> abtv', P0, np.eye(2), S, optimize=True)\n",
    "Q = np.einsum('aatt', PS, optimize=True)\n",
    "PSP = np.einsum('abtu,bc,uv,cdvw -> adtw', P0, np.eye(2), S, P0, optimize=True)"
   ]
  },
  {
   "cell_type": "code",
   "execution_count": 121,
   "id": "421b4e69f2fb77e3",
   "metadata": {
    "ExecuteTime": {
     "end_time": "2024-03-05T18:38:55.368253Z",
     "start_time": "2024-03-05T18:38:55.296104Z"
    },
    "collapsed": false,
    "jupyter": {
     "outputs_hidden": false
    }
   },
   "outputs": [
    {
     "data": {
      "text/plain": [
       "(391.0000041968024+1.0947655460133118e-16j)"
      ]
     },
     "execution_count": 121,
     "metadata": {},
     "output_type": "execute_result"
    }
   ],
   "source": [
    "np.trace(np.trace(PS, axis1=0, axis2=1))"
   ]
  },
  {
   "cell_type": "code",
   "execution_count": 124,
   "id": "29e4d6a8cb879c4c",
   "metadata": {
    "ExecuteTime": {
     "end_time": "2024-03-05T18:42:04.019028Z",
     "start_time": "2024-03-05T18:42:03.957305Z"
    },
    "collapsed": false,
    "jupyter": {
     "outputs_hidden": false
    },
    "scrolled": true
   },
   "outputs": [
    {
     "data": {
      "text/plain": [
       "array([ 1.98904151e+00+1.54157593e-16j,  1.04567181e+00-1.30116197e-15j,\n",
       "        1.00209452e+00-1.99090596e-15j,  1.58343229e+00+1.75709876e-14j,\n",
       "        2.75675741e-01+7.25056671e-15j,  8.45361369e-01-1.82319191e-14j,\n",
       "        1.19179597e+00-3.35447283e-14j,  7.50281160e-01+1.69369463e-14j,\n",
       "        1.27398298e+00+3.47000051e-14j,  3.02077394e-01+1.92528924e-14j,\n",
       "       -2.39433268e-02-2.50613340e-14j,  1.89945689e+00-1.09758710e-10j,\n",
       "        1.89945689e+00+8.30256280e-11j,  1.89945689e+00+6.11511664e-12j,\n",
       "        8.17258059e-02-2.65732095e-13j,  8.17258058e-02-1.43130616e-12j,\n",
       "        8.17258057e-02-8.90631644e-13j,  1.99050770e+00+2.37887335e-12j,\n",
       "        1.99050766e+00-1.82812737e-10j,  1.99050768e+00-1.31507122e-10j,\n",
       "        1.98900864e+00+1.41293668e-10j,  1.98900864e+00+2.29257267e-11j,\n",
       "        1.98900864e+00+1.67810631e-10j,  1.37142505e+00-1.56144704e-10j,\n",
       "        1.37142505e+00+8.90392957e-11j,  1.37142506e+00+6.70284443e-11j,\n",
       "        1.62942824e-02-1.45607345e-12j,  1.62942825e-02+6.66747137e-13j,\n",
       "        1.62942825e-02-1.64859832e-12j,  9.66032082e-03-1.12119291e-11j,\n",
       "        9.66032078e-03+2.16812181e-11j,  9.66032079e-03+2.89479325e-11j,\n",
       "        8.28771421e-03-3.98724062e-11j,  8.28771510e-03+7.44592151e-12j,\n",
       "        8.28771490e-03-5.34540133e-12j,  6.41038253e-01-7.85803309e-10j,\n",
       "        6.41038222e-01+2.50417373e-10j,  6.41038208e-01+6.78130897e-10j,\n",
       "        4.81550066e-02+2.31259403e-09j,  4.81551094e-02-6.75937673e-10j,\n",
       "        4.81551216e-02-3.33946031e-09j,  9.02612292e-02-2.02009997e-09j,\n",
       "        9.02612349e-02+5.56924006e-10j,  9.02613723e-02+1.48543830e-09j,\n",
       "        1.96163751e+00-7.04258081e-11j,  1.96166227e+00+5.40288361e-11j,\n",
       "        1.96166227e+00+1.89394377e-11j,  1.96164989e+00-3.78656660e-11j,\n",
       "        1.96164988e+00-6.57796034e-11j,  9.03048434e-01+3.86480149e-11j,\n",
       "        9.03581383e-01-1.78142727e-11j,  9.03581386e-01-5.76629535e-11j,\n",
       "        9.03314903e-01+5.32395083e-11j,  9.03314907e-01+3.94926069e-11j,\n",
       "       -1.03409375e-03+1.66505207e-12j, -1.03273654e-03+8.26816527e-13j,\n",
       "       -1.03273654e-03-2.29739534e-12j, -1.03341514e-03+1.13099427e-12j,\n",
       "       -1.03341513e-03+3.56072069e-13j, -3.70883704e-03+2.11047422e-12j,\n",
       "       -3.69885621e-03-3.51152924e-12j, -3.69885606e-03-6.95939119e-12j,\n",
       "       -3.70384670e-03+2.21106611e-12j, -3.70384656e-03-3.43608233e-12j,\n",
       "        2.08633228e-02+1.96705849e-11j,  2.07183962e-02+8.78286935e-12j,\n",
       "        2.07183951e-02+2.07860110e-11j,  2.07908601e-02-1.31689605e-11j,\n",
       "        2.07908592e-02+9.23456849e-12j,  8.53867734e-01+8.37125698e-12j,\n",
       "        8.54051211e-01-2.64418245e-11j,  8.54051213e-01+2.40878749e-11j,\n",
       "        8.53959471e-01+2.47066809e-12j,  8.53959472e-01-3.08456086e-11j,\n",
       "        2.60626615e-01+2.82599880e-13j,  2.61313562e-01-1.56191408e-11j,\n",
       "        2.61313558e-01+2.94979886e-12j,  2.60970088e-01-7.93982297e-12j,\n",
       "        2.60970086e-01+5.11621201e-11j,  1.02569967e-02-4.14326866e-13j,\n",
       "        2.88978353e-02-8.18773291e-13j,  2.88978466e-02-1.44438836e-12j,\n",
       "        1.95774094e-02-7.08196006e-13j,  1.95774099e-02-1.03264715e-13j,\n",
       "        3.30400399e-02+8.68983465e-13j,  1.23695110e-01+3.75495576e-12j,\n",
       "        1.23695249e-01-1.04555581e-11j,  7.83676357e-02+3.49282155e-12j,\n",
       "        7.83675624e-02+1.06917428e-11j,  1.05004933e-01+6.84490830e-12j,\n",
       "        6.77690381e-02+7.78074274e-13j,  6.77691033e-02-7.59845989e-12j,\n",
       "        8.63869917e-02-7.04681105e-13j,  8.63870395e-02-8.87299701e-13j,\n",
       "        1.02384641e+00-1.07955819e-09j,  1.07379299e+00+1.92840828e-09j,\n",
       "        1.07383239e+00-1.75880273e-10j,  9.52993121e-01+7.40819452e-10j,\n",
       "        9.53058109e-01-9.95866505e-11j,  1.00365247e+00-6.75214366e-10j,\n",
       "        1.10400510e+00+2.82333195e-11j,  5.09374519e-01+9.42701274e-10j,\n",
       "        5.34856821e-01-9.22826078e-10j,  5.34876857e-01+9.91278891e-11j,\n",
       "        4.73276224e-01-1.71174551e-10j,  4.73309206e-01-1.01541236e-11j,\n",
       "        4.99084319e-01+2.22719762e-10j,  5.50258137e-01-1.13223154e-11j,\n",
       "        2.58585490e-01-1.92551229e-09j,  2.71634375e-01+2.35977254e-09j,\n",
       "        2.71644636e-01-2.72519953e-10j,  2.40417182e-01-3.74253792e-10j,\n",
       "        2.40434070e-01-3.68030297e-10j,  2.53395315e-01+1.46825911e-09j,\n",
       "        2.79441831e-01-1.94275581e-11j,  6.21382231e-02+2.59694757e-10j,\n",
       "        6.52344711e-02+1.00526727e-10j,  6.52368980e-02+5.29548214e-11j,\n",
       "        5.95702108e-02+8.77032180e-10j,  5.95741114e-02-4.45879577e-10j,\n",
       "        6.13424200e-02+5.15338317e-10j,  6.66512947e-02+2.55882973e-12j,\n",
       "        2.13985704e-04+3.50094405e-16j,  1.60026228e-04-2.05516359e-14j,\n",
       "        1.60027190e-04+1.91098498e-14j,  3.07235386e-04-2.37112832e-14j,\n",
       "        3.07237742e-04-1.70104994e-14j,  5.51316683e-04-2.95719858e-15j,\n",
       "        2.34488016e-04+8.23124705e-15j,  1.63137468e-04-1.31869369e-14j,\n",
       "        1.63138610e-04+2.97965928e-16j,  1.99715433e+00+6.20512883e-12j,\n",
       "        2.12030601e+00-1.13077568e-10j,  5.67060704e-01+2.74162474e-11j,\n",
       "        1.14763911e+00+1.79027912e-10j,  5.93856962e-01-5.57821847e-12j,\n",
       "        1.53439869e+00-9.37132724e-11j,  1.07576256e+00+5.79999281e-11j,\n",
       "        8.98020093e-01-1.36881979e-10j,  1.32657972e-01-4.81365409e-09j,\n",
       "        1.32665553e-01+6.54675789e-12j,  1.32661762e-01+4.80134245e-09j,\n",
       "        1.77771524e+00-6.00934565e-09j,  1.77773416e+00+2.98322837e-11j,\n",
       "        1.77772470e+00+5.95105535e-09j,  2.01794836e+00-4.92161057e-08j,\n",
       "        2.01788603e+00-2.43540680e-11j,  2.01791719e+00+4.95477997e-08j,\n",
       "        1.60154944e+00-1.29584931e-07j,  1.60348067e+00+4.08589399e-11j,\n",
       "        1.60251505e+00+1.29361195e-07j,  8.79903719e-02-9.53519407e-08j,\n",
       "        8.79973542e-02+4.64656907e-11j,  8.79938623e-02+9.52879308e-08j,\n",
       "       -1.72625404e-02-1.81751799e-08j, -1.72055474e-02+7.32951804e-12j,\n",
       "       -1.72340438e-02+1.81734097e-08j,  4.11065715e-01+3.57196710e-08j,\n",
       "        4.09447771e-01+1.59969962e-10j,  4.10256744e-01-3.59970916e-08j,\n",
       "        7.93778948e-01-3.01077171e-06j,  8.22165255e-01+4.96514309e-10j,\n",
       "        8.07972100e-01+3.01052615e-06j,  1.10679022e+00-5.26131805e-06j,\n",
       "        1.11060469e+00+7.12264419e-10j,  1.10869748e+00+5.25981159e-06j,\n",
       "        1.99442683e+00-2.54956986e-11j,  1.99440611e+00+9.37629921e-11j,\n",
       "        1.99443458e+00+5.84131665e-12j,  1.99442068e+00-8.48338237e-11j,\n",
       "        1.99442649e+00+3.67388967e-11j,  1.65993216e+00+2.02031635e-11j,\n",
       "        1.65948589e+00+3.71717065e-10j,  1.66019112e+00+5.21598090e-12j,\n",
       "        1.65981964e+00-4.02642299e-10j,  1.65995103e+00+7.43761676e-12j,\n",
       "        3.51001581e-04+1.00926062e-12j,  3.40650120e-04+4.90181989e-11j,\n",
       "        3.49043848e-04+3.49199466e-13j,  3.45788441e-04-4.62830816e-11j,\n",
       "        3.50060129e-04-3.90939698e-13j,  3.40134805e-01+1.29645174e-12j,\n",
       "        3.40714954e-01-1.92684081e-08j,  3.39906488e-01-4.24816196e-12j,\n",
       "        3.40330460e-01+1.92916627e-08j,  3.40115066e-01-3.59731069e-11j,\n",
       "        6.19242366e-03-3.88002426e-11j,  7.53026374e-03-1.29338954e-06j,\n",
       "        6.55996782e-03-2.59394586e-10j,  6.59399723e-03+1.29341740e-06j,\n",
       "        6.64354355e-03-3.37421055e-10j,  1.73623385e-06-6.31751414e-12j,\n",
       "        3.04282065e-06+9.84420724e-11j,  5.84268483e-07+2.51671404e-14j,\n",
       "        5.07844478e-06-8.42149864e-11j,  1.54342353e-06+1.41476329e-13j,\n",
       "        2.12604319e-06-7.87679186e-12j,  1.43919036e-06+7.18213789e-14j,\n",
       "        9.23621590e-05-1.12073520e-08j,  1.65775825e-04+1.64922768e-08j,\n",
       "        4.20537418e-05-3.58755489e-12j,  2.67941351e-04+8.72246790e-09j,\n",
       "        8.72762239e-05-2.05959717e-11j,  1.13096143e-04-1.40154972e-08j,\n",
       "        8.54908880e-05-8.86082528e-12j,  1.99715433e+00-1.44243504e-11j,\n",
       "        2.12030601e+00-6.24647255e-12j,  5.67060704e-01+9.14604324e-12j,\n",
       "        1.14763910e+00-5.49672595e-11j,  5.93856963e-01-1.90377101e-11j,\n",
       "        1.53439869e+00+1.12289308e-10j,  1.07576260e+00-7.79941283e-10j,\n",
       "        8.98020109e-01+2.95430850e-10j,  1.32663658e-01+1.16783133e-08j,\n",
       "        1.32659867e-01-6.12643108e-09j,  1.32661762e-01-5.54022335e-09j,\n",
       "        1.77772943e+00+1.44809086e-08j,  1.77771997e+00-7.64385318e-09j,\n",
       "        1.77772470e+00-6.78528675e-09j,  2.01790161e+00+1.19976404e-07j,\n",
       "        2.01793277e+00-6.32238511e-08j,  2.01791719e+00-5.70176372e-08j,\n",
       "        1.60299784e+00+3.14834371e-07j,  1.60203226e+00-1.65508400e-07j,\n",
       "        1.60251506e+00-1.49269192e-07j,  8.79956082e-02+2.31711189e-07j,\n",
       "        8.79921164e-02-1.21766110e-07j,  8.79938624e-02-1.09837058e-07j,\n",
       "       -1.72197957e-02+4.42120165e-08j, -1.72482922e-02-2.32366565e-08j,\n",
       "       -1.72340438e-02-2.09622343e-08j,  4.09852259e-01-8.78826074e-08j,\n",
       "        4.10661226e-01+4.62785620e-08j,  4.10256742e-01+4.15906800e-08j,\n",
       "        8.15068680e-01+7.32154191e-06j,  8.00875669e-01-3.85015976e-06j,\n",
       "        8.07972188e-01-3.47192268e-06j,  1.10965106e+00+1.27976765e-05j,\n",
       "        1.10774391e+00-6.72837321e-06j,  1.10869754e+00-6.06789254e-06j,\n",
       "        1.99442683e+00-2.11915283e-11j,  1.99442746e+00+1.52993775e-10j,\n",
       "        1.99441323e+00-2.87152406e-10j,  1.99442503e+00-2.53570067e-10j,\n",
       "        1.99442213e+00+3.23966652e-10j,  1.65993216e+00+1.17137304e-11j,\n",
       "        1.66001481e+00+7.04105164e-10j,  1.65966220e+00-1.13620974e-09j,\n",
       "        1.65991818e+00-6.37926862e-10j,  1.65985249e+00+1.10171744e-09j,\n",
       "        3.51001578e-04-2.90655017e-12j,  3.46945406e-04+8.62971555e-11j,\n",
       "        3.42748551e-04-1.38192056e-10j,  3.48992198e-04-8.61843397e-11j,\n",
       "        3.46856373e-04+1.37972899e-10j,  3.40134806e-01-1.33914794e-11j,\n",
       "        3.40108605e-01-3.57428904e-08j,  3.40512837e-01+5.79955677e-08j,\n",
       "        3.40168914e-01+3.57959038e-08j,  3.40276612e-01-5.79971979e-08j,\n",
       "        6.19243376e-03+1.04549119e-09j,  6.80254732e-03-2.40025825e-06j,\n",
       "        7.28770552e-03+3.89170958e-06j,  6.63116603e-03+2.40005772e-06j,\n",
       "        6.60639100e-03-3.89155266e-06j,  1.73623666e-06+7.22839907e-12j,\n",
       "        1.19889907e-06+1.21889846e-12j,  2.42818317e-06-1.15308349e-10j,\n",
       "        2.42718195e-06-3.60673226e-11j,  4.19469439e-06+1.33323783e-10j,\n",
       "        2.12604684e-06+9.13174827e-12j,  1.43919042e-06-3.59089475e-14j,\n",
       "        9.23626902e-05+1.29228527e-08j,  7.29840953e-05-1.88854399e-09j,\n",
       "        1.34844648e-04-1.70733256e-08j,  1.32443565e-04-5.92692791e-08j,\n",
       "        2.22775689e-04+4.92917179e-08j,  1.13097016e-04+1.61273482e-08j,\n",
       "        8.54905408e-05+1.11521574e-10j,  1.99715433e+00-6.12521307e-12j,\n",
       "        2.12030601e+00+4.13471423e-11j,  5.67060703e-01+1.16988423e-11j,\n",
       "        1.14763910e+00+1.08334105e-10j,  5.93856964e-01-2.93735613e-11j,\n",
       "        1.53439869e+00-1.13478622e-10j,  1.07576259e+00+4.63568736e-10j,\n",
       "        8.98020109e-01-1.96229001e-10j,  1.32663658e-01-6.86009490e-09j,\n",
       "        1.32659867e-01+6.12649752e-09j,  1.32661762e-01+7.79915080e-10j,\n",
       "        1.77772944e+00-8.55233414e-09j,  1.77771997e+00+7.56271058e-09j,\n",
       "        1.77772470e+00+7.54778955e-10j,  2.01790161e+00-7.06489515e-08j,\n",
       "        2.01793278e+00+6.31016006e-08j,  2.01791719e+00+7.69487133e-09j,\n",
       "        1.60299784e+00-1.85601049e-07j,  1.60203226e+00+1.65637395e-07j,\n",
       "        1.60251505e+00+2.00281821e-08j,  8.79956083e-02-1.36510547e-07j,\n",
       "        8.79921164e-02+1.21847459e-07j,  8.79938623e-02+1.46651175e-08j,\n",
       "       -1.72197957e-02-2.60542892e-08j, -1.72482922e-02+2.32594481e-08j,\n",
       "       -1.72340438e-02+2.78117749e-09j,  4.09852259e-01+5.12952509e-08j,\n",
       "        4.10661226e-01-4.62003131e-08j,  4.10256742e-01-5.09581083e-09j,\n",
       "        8.15068659e-01-4.31286492e-06j,  8.00875648e-01+3.85050301e-06j,\n",
       "        8.07972165e-01+4.62299165e-07j,  1.10965105e+00-7.53771261e-06j,\n",
       "        1.10774388e+00+6.72878307e-06j,  1.10869752e+00+8.08276665e-07j,\n",
       "        1.99442683e+00+7.72551500e-12j,  1.99442746e+00-1.11547351e-10j,\n",
       "        1.99441322e+00+1.66810702e-10j,  1.99442504e+00+9.27371918e-11j,\n",
       "        1.99442213e+00-1.10759035e-10j,  1.65993216e+00-1.17817455e-11j,\n",
       "        1.66001481e+00-4.89648422e-10j,  1.65966220e+00+5.37830734e-10j,\n",
       "        1.65991818e+00+4.95202131e-10j,  1.65985249e+00-5.38634545e-10j,\n",
       "        3.51001562e-04+2.80721412e-13j,  3.46945426e-04-5.42688252e-11j,\n",
       "        3.42748551e-04+7.74446695e-11j,  3.48992205e-04+6.17532781e-11j,\n",
       "        3.46856362e-04-6.85434083e-11j,  3.40134806e-01+4.40450265e-11j,\n",
       "        3.40108605e-01+2.60795383e-08j,  3.40512837e-01-2.90940404e-08j,\n",
       "        3.40168914e-01-2.61065766e-08j,  3.40276612e-01+2.90236897e-08j,\n",
       "        6.19243198e-03-1.33726295e-09j,  6.80254554e-03+1.75393600e-06j,\n",
       "        7.28770086e-03-1.95179417e-06j,  6.63116478e-03-1.75293993e-06j,\n",
       "        6.60638693e-03+1.95166355e-06j,  1.73623607e-06-8.93271252e-13j,\n",
       "        1.19889890e-06+2.99090430e-11j,  2.42818224e-06-1.42296530e-11j,\n",
       "        2.42718120e-06-9.56954745e-12j,  4.19469279e-06-3.64697179e-12j,\n",
       "        2.12604606e-06-1.21567380e-12j,  1.43919001e-06-1.16518866e-13j,\n",
       "        9.23625433e-05-1.72169438e-09j,  7.29840392e-05-5.35374705e-09j,\n",
       "        1.34844425e-04+7.79825844e-09j,  1.32443364e-04+4.13790208e-08j,\n",
       "        2.22775297e-04-4.00800176e-08j,  1.13096824e-04-2.12722781e-09j,\n",
       "        8.54904330e-05-9.16262084e-11j,  1.99715433e+00+4.57771626e-11j,\n",
       "        2.12030601e+00-8.81184251e-11j,  5.67060703e-01+5.76566248e-11j,\n",
       "        1.14763910e+00+3.20988976e-10j,  5.93856964e-01-1.26386962e-10j,\n",
       "        1.53439869e+00-1.87448758e-10j,  1.07576260e+00+4.31422690e-10j,\n",
       "        8.98020107e-01-1.68591841e-10j,  1.32663658e-01-6.87367055e-09j,\n",
       "        1.32659867e-01+6.16110938e-09j,  1.32661762e-01+7.36546274e-10j,\n",
       "        1.77772944e+00-8.55027489e-09j,  1.77771997e+00+7.62419071e-09j,\n",
       "        1.77772470e+00+9.23871720e-10j,  2.01790161e+00-7.06862320e-08j,\n",
       "        2.01793277e+00+6.29280446e-08j,  2.01791719e+00+7.58837118e-09j,\n",
       "        1.60299784e+00-1.85697759e-07j,  1.60203226e+00+1.65772613e-07j,\n",
       "        1.60251506e+00+2.00052978e-08j,  8.79956083e-02-1.36441704e-07j,\n",
       "        8.79921164e-02+1.21857265e-07j,  8.79938623e-02+1.46480039e-08j,\n",
       "       -1.72197956e-02-2.60459835e-08j, -1.72482922e-02+2.32540582e-08j,\n",
       "       -1.72340438e-02+2.81030392e-09j,  4.09852259e-01+5.13526580e-08j,\n",
       "        4.10661226e-01-4.62341522e-08j,  4.10256743e-01-5.09619411e-09j,\n",
       "        8.15068660e-01-4.31285417e-06j,  8.00875647e-01+3.85054573e-06j,\n",
       "        8.07972166e-01+4.62440580e-07j,  1.10965105e+00-7.53767581e-06j,\n",
       "        1.10774388e+00+6.72872280e-06j,  1.10869752e+00+8.08142354e-07j,\n",
       "        1.99442683e+00-1.42776746e-12j,  1.99442746e+00-1.43793679e-10j,\n",
       "        1.99441323e+00+1.60445516e-10j,  1.99442504e+00+1.23949887e-10j,\n",
       "        1.99442213e+00-8.82057898e-11j,  1.65993216e+00-1.06033500e-11j,\n",
       "        1.66001481e+00-4.93148947e-10j,  1.65966220e+00+5.55359440e-10j,\n",
       "        1.65991818e+00+4.95699228e-10j,  1.65985249e+00-5.83394918e-10j,\n",
       "        3.51001563e-04-6.21420207e-13j,  3.46945403e-04-6.71634731e-11j,\n",
       "        3.42748557e-04+6.85634627e-11j,  3.48992223e-04+6.31329391e-11j,\n",
       "        3.46856367e-04-6.88739466e-11j,  3.40134806e-01+5.24125241e-11j,\n",
       "        3.40108605e-01+2.61259730e-08j,  3.40512837e-01-2.90971811e-08j,\n",
       "        3.40168914e-01-2.61408428e-08j,  3.40276612e-01+2.90457548e-08j,\n",
       "        6.19243199e-03-1.33610065e-09j,  6.80254591e-03+1.75393469e-06j,\n",
       "        7.28770196e-03-1.95178499e-06j,  6.63116494e-03-1.75293230e-06j,\n",
       "        6.60638736e-03+1.95166316e-06j,  1.73623607e-06-8.94205120e-13j,\n",
       "        1.19889893e-06+2.99091947e-11j,  2.42818219e-06-1.42290653e-11j,\n",
       "        2.42718120e-06-9.57187333e-12j,  4.19469274e-06-3.64605272e-12j,\n",
       "        2.12604605e-06-1.21700697e-12j,  1.43919000e-06-1.16873147e-13j,\n",
       "        9.23625509e-05-1.72149786e-09j,  7.29840424e-05-5.35378835e-09j,\n",
       "        1.34844433e-04+7.79822495e-09j,  1.32443373e-04+4.13795457e-08j,\n",
       "        2.22775323e-04-4.00800740e-08j,  1.13096834e-04-2.12697718e-09j,\n",
       "        8.54904334e-05-9.15975762e-11j,  1.99715433e+00-1.45238366e-11j,\n",
       "        2.12030601e+00+1.11018252e-10j,  5.67060704e-01-2.24312786e-11j,\n",
       "        1.14763911e+00-2.39418672e-10j,  5.93856962e-01+5.96559735e-11j,\n",
       "        1.53439870e+00+1.01045595e-10j,  1.07576256e+00+6.44910358e-11j,\n",
       "        8.98020091e-01-1.35244923e-10j,  1.32657972e-01-4.80088229e-09j,\n",
       "        1.32665553e-01-4.52726681e-11j,  1.32661762e-01+4.82021775e-09j,\n",
       "        1.77771524e+00-5.99407580e-09j,  1.77773417e+00+6.43941565e-11j,\n",
       "        1.77772470e+00+5.95493489e-09j,  2.01794836e+00-4.90394543e-08j,\n",
       "        2.01788603e+00+7.26559050e-11j,  2.01791719e+00+4.93716576e-08j,\n",
       "        1.60154944e+00-1.29766165e-07j,  1.60348067e+00+1.92821304e-12j,\n",
       "        1.60251505e+00+1.29527560e-07j,  8.79903720e-02-9.53321693e-08j,\n",
       "        8.79973542e-02+2.58725668e-11j,  8.79938624e-02+9.52530267e-08j,\n",
       "       -1.72625404e-02-1.81943076e-08j, -1.72055474e-02+1.01403707e-11j,\n",
       "       -1.72340438e-02+1.81730245e-08j,  4.11065715e-01+3.56792399e-08j,\n",
       "        4.09447771e-01+1.83124944e-10j,  4.10256744e-01-3.59636074e-08j,\n",
       "        7.93778948e-01-3.01074102e-06j,  8.22165256e-01+4.71458503e-10j,\n",
       "        8.07972100e-01+3.01051407e-06j,  1.10679022e+00-5.26131276e-06j,\n",
       "        1.11060469e+00+7.05680962e-10j,  1.10869748e+00+5.25981998e-06j,\n",
       "        1.99442683e+00+2.37510745e-11j,  1.99440611e+00+1.43984767e-10j,\n",
       "        1.99443458e+00+1.40222457e-11j,  1.99442068e+00-1.38350835e-10j,\n",
       "        1.99442649e+00+8.75130606e-12j,  1.65993216e+00-1.36952358e-11j,\n",
       "        1.65948589e+00+3.62434894e-10j,  1.66019112e+00-2.67887614e-11j,\n",
       "        1.65981964e+00-3.35274237e-10j,  1.65995103e+00-4.82921508e-12j,\n",
       "        3.51001562e-04+2.32571672e-13j,  3.40650120e-04+4.38870689e-11j,\n",
       "        3.49043848e-04+2.04021709e-12j,  3.45788423e-04-4.80091078e-11j,\n",
       "        3.50060139e-04-1.24336630e-12j,  3.40134805e-01-1.34165202e-11j,\n",
       "        3.40714953e-01-1.93043471e-08j,  3.39906488e-01+1.72916006e-11j,\n",
       "        3.40330460e-01+1.92803122e-08j,  3.40115066e-01+5.22130105e-12j,\n",
       "        6.19242366e-03-3.90041645e-11j,  7.53026397e-03-1.29339644e-06j,\n",
       "        6.55996777e-03-2.53911721e-10j,  6.59399729e-03+1.29341054e-06j,\n",
       "        6.64354359e-03-3.42970970e-10j,  1.73623386e-06-6.31585401e-12j,\n",
       "        3.04282064e-06+9.84421248e-11j,  5.84268476e-07+2.47937240e-14j,\n",
       "        5.07844482e-06-8.42098427e-11j,  1.54342353e-06+1.40930562e-13j,\n",
       "        2.12604321e-06-7.87460666e-12j,  1.43919038e-06+7.26745300e-14j,\n",
       "        9.23621593e-05-1.12077012e-08j,  1.65775825e-04+1.64922096e-08j,\n",
       "        4.20537413e-05-3.52618292e-12j,  2.67941354e-04+8.72134096e-09j,\n",
       "        8.72762234e-05-2.04939897e-11j,  1.13096143e-04-1.40159493e-08j,\n",
       "        8.54908888e-05-9.00936439e-12j,  1.99715433e+00-3.05602043e-11j,\n",
       "        2.12030601e+00-2.92730508e-11j,  5.67060703e-01+1.04394989e-11j,\n",
       "        1.14763910e+00+1.59075675e-10j,  5.93856963e-01+3.35465955e-11j,\n",
       "        1.53439869e+00-1.36063561e-10j,  1.07576260e+00-8.18601909e-10j,\n",
       "        8.98020110e-01+3.51741969e-10j,  1.32663658e-01+1.16765596e-08j,\n",
       "        1.32659867e-01-6.18246311e-09j,  1.32661762e-01-5.54384985e-09j,\n",
       "        1.77772943e+00+1.45146445e-08j,  1.77771997e+00-7.54192551e-09j,\n",
       "        1.77772470e+00-6.75125285e-09j,  2.01790161e+00+1.19514082e-07j,\n",
       "        2.01793277e+00-6.31120255e-08j,  2.01791719e+00-5.69992250e-08j,\n",
       "        1.60299784e+00+3.15199239e-07j,  1.60203226e+00-1.65522722e-07j,\n",
       "        1.60251506e+00-1.49356363e-07j,  8.79956081e-02+2.31668364e-07j,\n",
       "        8.79921164e-02-1.21847048e-07j,  8.79938623e-02-1.09803073e-07j,\n",
       "       -1.72197957e-02+4.42322462e-08j, -1.72482922e-02-2.32385653e-08j,\n",
       "       -1.72340438e-02-2.09648616e-08j,  4.09852259e-01-8.77634274e-08j,\n",
       "        4.10661226e-01+4.62139774e-08j,  4.10256742e-01+4.16125734e-08j,\n",
       "        8.15068680e-01+7.32149796e-06j,  8.00875668e-01-3.85018679e-06j,\n",
       "        8.07972188e-01-3.47193444e-06j,  1.10965106e+00+1.27976800e-05j,\n",
       "        1.10774391e+00-6.72834610e-06j,  1.10869754e+00-6.06792251e-06j,\n",
       "        1.99442683e+00+2.29508793e-11j,  1.99442746e+00+1.53935140e-10j,\n",
       "        1.99441323e+00-2.94770715e-10j,  1.99442503e+00-2.15596938e-10j,\n",
       "        1.99442213e+00+3.20327509e-10j,  1.65993216e+00-3.30792707e-11j,\n",
       "        1.66001481e+00+6.91474274e-10j,  1.65966220e+00-1.10605750e-09j,\n",
       "        1.65991818e+00-6.65970176e-10j,  1.65985249e+00+1.08881877e-09j,\n",
       "        3.51001586e-04+2.83411842e-12j,  3.46945392e-04+8.71325854e-11j,\n",
       "        3.42748559e-04-1.41718979e-10j,  3.48992200e-04-8.54523610e-11j,\n",
       "        3.46856363e-04+1.36462483e-10j,  3.40134806e-01-1.89824156e-11j,\n",
       "        3.40108605e-01-3.57304483e-08j,  3.40512837e-01+5.79766499e-08j,\n",
       "        3.40168914e-01+3.57860116e-08j,  3.40276612e-01-5.79795665e-08j,\n",
       "        6.19243376e-03+1.04593362e-09j,  6.80254728e-03-2.40027477e-06j,\n",
       "        7.28770548e-03+3.89172807e-06j,  6.63116606e-03+2.40006688e-06j,\n",
       "        6.60639099e-03-3.89155603e-06j,  1.73623668e-06+7.22767250e-12j,\n",
       "        1.19889910e-06+1.21905954e-12j,  2.42818316e-06-1.15309606e-10j,\n",
       "        2.42718196e-06-3.60708181e-11j,  4.19469442e-06+1.33324347e-10j,\n",
       "        2.12604687e-06+9.13075592e-12j,  1.43919044e-06-3.70994716e-14j,\n",
       "        9.23626919e-05+1.29230400e-08j,  7.29840951e-05-1.88856359e-09j,\n",
       "        1.34844649e-04-1.70731079e-08j,  1.32443565e-04-5.92686400e-08j,\n",
       "        2.22775693e-04+4.92917853e-08j,  1.13097018e-04+1.61275760e-08j,\n",
       "        8.54905418e-05+1.11634761e-10j])"
      ]
     },
     "execution_count": 124,
     "metadata": {},
     "output_type": "execute_result"
    }
   ],
   "source": [
    "np.einsum('aatt->t', PS, optimize=True)\n"
   ]
  },
  {
   "cell_type": "code",
   "execution_count": 206,
   "id": "c2290b72e112ab78",
   "metadata": {
    "ExecuteTime": {
     "end_time": "2024-02-29T22:27:16.957915Z",
     "start_time": "2024-02-29T22:27:15.114128Z"
    },
    "collapsed": false,
    "jupyter": {
     "outputs_hidden": false
    }
   },
   "outputs": [],
   "source": [
    "\n",
    "by = ['element', 'L']\n",
    "df = mo.get_partitioning(by=by)\n",
    "fragments, partorb = df.iloc[:, :len(by)], df.iloc[:, len(by):]\n",
    "fragments['label'] = fragments.apply(lambda r: '_'.join(r), axis=1)"
   ]
  },
  {
   "cell_type": "code",
   "execution_count": 6,
   "id": "455ae5c288c0a297",
   "metadata": {
    "ExecuteTime": {
     "end_time": "2024-02-29T23:10:39.099080Z",
     "start_time": "2024-02-29T23:10:37.304366Z"
    },
    "collapsed": false,
    "jupyter": {
     "outputs_hidden": false
    }
   },
   "outputs": [
    {
     "data": {
      "text/html": [
       "<div>\n",
       "<style scoped>\n",
       "    .dataframe tbody tr th:only-of-type {\n",
       "        vertical-align: middle;\n",
       "    }\n",
       "\n",
       "    .dataframe tbody tr th {\n",
       "        vertical-align: top;\n",
       "    }\n",
       "\n",
       "    .dataframe thead th {\n",
       "        text-align: right;\n",
       "    }\n",
       "</style>\n",
       "<table border=\"1\" class=\"dataframe\">\n",
       "  <thead>\n",
       "    <tr style=\"text-align: right;\">\n",
       "      <th></th>\n",
       "      <th>label_top1</th>\n",
       "      <th>coeff_top1</th>\n",
       "      <th>label_top2</th>\n",
       "      <th>coeff_top2</th>\n",
       "    </tr>\n",
       "  </thead>\n",
       "  <tbody>\n",
       "    <tr>\n",
       "      <th>0</th>\n",
       "      <td>Yb_S</td>\n",
       "      <td>1.000000+0.000000j</td>\n",
       "      <td>I_P</td>\n",
       "      <td>5.849324e-12+3.648482e-                    30j</td>\n",
       "    </tr>\n",
       "    <tr>\n",
       "      <th>1</th>\n",
       "      <td>Yb_S</td>\n",
       "      <td>1.000000-0.000000j</td>\n",
       "      <td>I_P</td>\n",
       "      <td>5.849324e-12+1.972152e-                    31j</td>\n",
       "    </tr>\n",
       "    <tr>\n",
       "      <th>2</th>\n",
       "      <td>I_S</td>\n",
       "      <td>1.000000-0.000000j</td>\n",
       "      <td>I_P</td>\n",
       "      <td>3.625091e-12-8.874685e-                    31j</td>\n",
       "    </tr>\n",
       "    <tr>\n",
       "      <th>3</th>\n",
       "      <td>I_S</td>\n",
       "      <td>1.000000+0.000000j</td>\n",
       "      <td>I_P</td>\n",
       "      <td>3.625090e-12+1.528418e-                    30j</td>\n",
       "    </tr>\n",
       "    <tr>\n",
       "      <th>4</th>\n",
       "      <td>I_S</td>\n",
       "      <td>1.000000+0.000000j</td>\n",
       "      <td>I_P</td>\n",
       "      <td>3.621219e-12-2.563798e-                    30j</td>\n",
       "    </tr>\n",
       "    <tr>\n",
       "      <th>...</th>\n",
       "      <td>...</td>\n",
       "      <td>...</td>\n",
       "      <td>...</td>\n",
       "      <td>...</td>\n",
       "    </tr>\n",
       "    <tr>\n",
       "      <th>386</th>\n",
       "      <td>Yb_F</td>\n",
       "      <td>0.999486+0.000000j</td>\n",
       "      <td>I_P</td>\n",
       "      <td>1.731628e-03+7.835055e-                    21j</td>\n",
       "    </tr>\n",
       "    <tr>\n",
       "      <th>387</th>\n",
       "      <td>Yb_F</td>\n",
       "      <td>0.999486+0.000000j</td>\n",
       "      <td>I_P</td>\n",
       "      <td>1.731628e-03-3.388132e-                    21j</td>\n",
       "    </tr>\n",
       "    <tr>\n",
       "      <th>388</th>\n",
       "      <td>Yb_F</td>\n",
       "      <td>0.999432+0.000000j</td>\n",
       "      <td>I_P</td>\n",
       "      <td>1.895351e-03+5.293956e-                    21j</td>\n",
       "    </tr>\n",
       "    <tr>\n",
       "      <th>389</th>\n",
       "      <td>Yb_F</td>\n",
       "      <td>0.999432+0.000000j</td>\n",
       "      <td>I_P</td>\n",
       "      <td>1.895351e-03+2.752857e-                    21j</td>\n",
       "    </tr>\n",
       "    <tr>\n",
       "      <th>390</th>\n",
       "      <td>Yb_F</td>\n",
       "      <td>0.999204+0.000000j</td>\n",
       "      <td>I_P</td>\n",
       "      <td>2.732727e-03-1.132907e-                    20j</td>\n",
       "    </tr>\n",
       "  </tbody>\n",
       "</table>\n",
       "<p>391 rows × 4 columns</p>\n",
       "</div>"
      ],
      "text/plain": [
       "    label_top1          coeff_top1 label_top2  \\\n",
       "0         Yb_S  1.000000+0.000000j        I_P   \n",
       "1         Yb_S  1.000000-0.000000j        I_P   \n",
       "2          I_S  1.000000-0.000000j        I_P   \n",
       "3          I_S  1.000000+0.000000j        I_P   \n",
       "4          I_S  1.000000+0.000000j        I_P   \n",
       "..         ...                 ...        ...   \n",
       "386       Yb_F  0.999486+0.000000j        I_P   \n",
       "387       Yb_F  0.999486+0.000000j        I_P   \n",
       "388       Yb_F  0.999432+0.000000j        I_P   \n",
       "389       Yb_F  0.999432+0.000000j        I_P   \n",
       "390       Yb_F  0.999204+0.000000j        I_P   \n",
       "\n",
       "                                         coeff_top2  \n",
       "0    5.849324e-12+3.648482e-                    30j  \n",
       "1    5.849324e-12+1.972152e-                    31j  \n",
       "2    3.625091e-12-8.874685e-                    31j  \n",
       "3    3.625090e-12+1.528418e-                    30j  \n",
       "4    3.621219e-12-2.563798e-                    30j  \n",
       "..                                              ...  \n",
       "386  1.731628e-03+7.835055e-                    21j  \n",
       "387  1.731628e-03-3.388132e-                    21j  \n",
       "388  1.895351e-03+5.293956e-                    21j  \n",
       "389  1.895351e-03+2.752857e-                    21j  \n",
       "390  2.732727e-03-1.132907e-                    20j  \n",
       "\n",
       "[391 rows x 4 columns]"
      ]
     },
     "execution_count": 6,
     "metadata": {},
     "output_type": "execute_result"
    }
   ],
   "source": [
    "labeler = LabelByPartition(by=['element', 'L'], n_top=2, save=True)\n",
    "labeler(mo)"
   ]
  },
  {
   "cell_type": "code",
   "execution_count": 7,
   "id": "215c143163adffed",
   "metadata": {
    "ExecuteTime": {
     "end_time": "2024-02-29T23:10:41.579807Z",
     "start_time": "2024-02-29T23:10:41.054510Z"
    },
    "collapsed": false,
    "jupyter": {
     "outputs_hidden": false
    }
   },
   "outputs": [
    {
     "name": "stderr",
     "output_type": "stream",
     "text": [
      "/Users/kirill/PycharmProjects/mctools/mctools/newcore/consolidator.py:183: FutureWarning: Starting with pandas version 3.0 all arguments of to_hdf except for the argument 'path_or_buf' will be keyword-only.\n",
      "  self.df.to_hdf(filename, '/'.join([path, name]), format='table')\n"
     ]
    },
    {
     "ename": "ValueError",
     "evalue": "The file '/Users/kirill/PycharmProjects/mctools/tests/data/rasci_1r1h36o_2r13e14o_3r1p6o.casscf_13e14o_ref.ano-yb_r1-i_r0.ybi6_1.gdv_j14p.16262576.h5' is already opened, but in read-only mode.  Please close it before reopening in append mode.",
     "output_type": "error",
     "traceback": [
      "\u001B[0;31m---------------------------------------------------------------------------\u001B[0m",
      "\u001B[0;31mValueError\u001B[0m                                Traceback (most recent call last)",
      "Cell \u001B[0;32mIn[7], line 1\u001B[0m\n\u001B[0;32m----> 1\u001B[0m \u001B[43mmo\u001B[49m\u001B[38;5;241;43m.\u001B[39;49m\u001B[43mto_hdf5\u001B[49m\u001B[43m(\u001B[49m\u001B[43marchive\u001B[49m\u001B[43m)\u001B[49m\n",
      "File \u001B[0;32m~/PycharmProjects/mctools/mctools/newcore/consolidator.py:56\u001B[0m, in \u001B[0;36mArchived.to_hdf5\u001B[0;34m(self, filename, prefix)\u001B[0m\n\u001B[1;32m     53\u001B[0m     \u001B[38;5;28;01mcontinue\u001B[39;00m\n\u001B[1;32m     55\u001B[0m \u001B[38;5;28;01melif\u001B[39;00m to_hdf5 \u001B[38;5;241m:=\u001B[39m \u001B[38;5;28mgetattr\u001B[39m(\u001B[38;5;28mself\u001B[39m, \u001B[38;5;124mf\u001B[39m\u001B[38;5;124m'\u001B[39m\u001B[38;5;132;01m{\u001B[39;00mattr_name\u001B[38;5;132;01m}\u001B[39;00m\u001B[38;5;124m_\u001B[39m\u001B[38;5;132;01m{\u001B[39;00m\u001B[38;5;28mself\u001B[39m\u001B[38;5;241m.\u001B[39mTO_KEY\u001B[38;5;132;01m}\u001B[39;00m\u001B[38;5;124m'\u001B[39m, \u001B[38;5;28;01mNone\u001B[39;00m):\n\u001B[0;32m---> 56\u001B[0m     \u001B[43mto_hdf5\u001B[49m\u001B[43m(\u001B[49m\u001B[43mfilename\u001B[49m\u001B[43m,\u001B[49m\u001B[43m \u001B[49m\u001B[43mprefix\u001B[49m\u001B[38;5;241;43m=\u001B[39;49m\u001B[43mprefix\u001B[49m\u001B[43m)\u001B[49m\n\u001B[1;32m     58\u001B[0m \u001B[38;5;28;01melif\u001B[39;00m (value \u001B[38;5;241m:=\u001B[39m \u001B[38;5;28mgetattr\u001B[39m(\u001B[38;5;28mself\u001B[39m, attr_name)) \u001B[38;5;129;01mis\u001B[39;00m \u001B[38;5;129;01mnot\u001B[39;00m \u001B[38;5;28;01mNone\u001B[39;00m \u001B[38;5;129;01mand\u001B[39;00m \u001B[38;5;28mhasattr\u001B[39m(value, \u001B[38;5;28mself\u001B[39m\u001B[38;5;241m.\u001B[39mTO_KEY):\n\u001B[1;32m     59\u001B[0m     value\u001B[38;5;241m.\u001B[39mto_hdf5(filename, prefix)\n",
      "File \u001B[0;32m~/PycharmProjects/mctools/mctools/newcore/consolidator.py:183\u001B[0m, in \u001B[0;36mConsolidator.df_to_hdf5\u001B[0;34m(self, filename, prefix)\u001B[0m\n\u001B[1;32m    181\u001B[0m \u001B[38;5;28;01mdef\u001B[39;00m \u001B[38;5;21mdf_to_hdf5\u001B[39m(\u001B[38;5;28mself\u001B[39m, filename: pathlib\u001B[38;5;241m.\u001B[39mPath, \u001B[38;5;241m/\u001B[39m, prefix: \u001B[38;5;28mstr\u001B[39m \u001B[38;5;241m=\u001B[39m \u001B[38;5;124m'\u001B[39m\u001B[38;5;124m'\u001B[39m) \u001B[38;5;241m-\u001B[39m\u001B[38;5;241m>\u001B[39m \u001B[38;5;28;01mNone\u001B[39;00m:\n\u001B[1;32m    182\u001B[0m     path, name \u001B[38;5;241m=\u001B[39m \u001B[38;5;28mself\u001B[39m\u001B[38;5;241m.\u001B[39mget_attr_hdf5_path(\u001B[38;5;124m'\u001B[39m\u001B[38;5;124mdf\u001B[39m\u001B[38;5;124m'\u001B[39m, prefix\u001B[38;5;241m=\u001B[39mprefix)\n\u001B[0;32m--> 183\u001B[0m     \u001B[38;5;28;43mself\u001B[39;49m\u001B[38;5;241;43m.\u001B[39;49m\u001B[43mdf\u001B[49m\u001B[38;5;241;43m.\u001B[39;49m\u001B[43mto_hdf\u001B[49m\u001B[43m(\u001B[49m\u001B[43mfilename\u001B[49m\u001B[43m,\u001B[49m\u001B[43m \u001B[49m\u001B[38;5;124;43m'\u001B[39;49m\u001B[38;5;124;43m/\u001B[39;49m\u001B[38;5;124;43m'\u001B[39;49m\u001B[38;5;241;43m.\u001B[39;49m\u001B[43mjoin\u001B[49m\u001B[43m(\u001B[49m\u001B[43m[\u001B[49m\u001B[43mpath\u001B[49m\u001B[43m,\u001B[49m\u001B[43m \u001B[49m\u001B[43mname\u001B[49m\u001B[43m]\u001B[49m\u001B[43m)\u001B[49m\u001B[43m,\u001B[49m\u001B[43m \u001B[49m\u001B[38;5;28;43mformat\u001B[39;49m\u001B[38;5;241;43m=\u001B[39;49m\u001B[38;5;124;43m'\u001B[39;49m\u001B[38;5;124;43mtable\u001B[39;49m\u001B[38;5;124;43m'\u001B[39;49m\u001B[43m)\u001B[49m\n",
      "File \u001B[0;32m~/Library/Caches/pypoetry/virtualenvs/mctools-3Qvjc-9q-py3.11/lib/python3.11/site-packages/pandas/util/_decorators.py:333\u001B[0m, in \u001B[0;36mdeprecate_nonkeyword_arguments.<locals>.decorate.<locals>.wrapper\u001B[0;34m(*args, **kwargs)\u001B[0m\n\u001B[1;32m    327\u001B[0m \u001B[38;5;28;01mif\u001B[39;00m \u001B[38;5;28mlen\u001B[39m(args) \u001B[38;5;241m>\u001B[39m num_allow_args:\n\u001B[1;32m    328\u001B[0m     warnings\u001B[38;5;241m.\u001B[39mwarn(\n\u001B[1;32m    329\u001B[0m         msg\u001B[38;5;241m.\u001B[39mformat(arguments\u001B[38;5;241m=\u001B[39m_format_argument_list(allow_args)),\n\u001B[1;32m    330\u001B[0m         \u001B[38;5;167;01mFutureWarning\u001B[39;00m,\n\u001B[1;32m    331\u001B[0m         stacklevel\u001B[38;5;241m=\u001B[39mfind_stack_level(),\n\u001B[1;32m    332\u001B[0m     )\n\u001B[0;32m--> 333\u001B[0m \u001B[38;5;28;01mreturn\u001B[39;00m \u001B[43mfunc\u001B[49m\u001B[43m(\u001B[49m\u001B[38;5;241;43m*\u001B[39;49m\u001B[43margs\u001B[49m\u001B[43m,\u001B[49m\u001B[43m \u001B[49m\u001B[38;5;241;43m*\u001B[39;49m\u001B[38;5;241;43m*\u001B[39;49m\u001B[43mkwargs\u001B[49m\u001B[43m)\u001B[49m\n",
      "File \u001B[0;32m~/Library/Caches/pypoetry/virtualenvs/mctools-3Qvjc-9q-py3.11/lib/python3.11/site-packages/pandas/core/generic.py:2852\u001B[0m, in \u001B[0;36mNDFrame.to_hdf\u001B[0;34m(self, path_or_buf, key, mode, complevel, complib, append, format, index, min_itemsize, nan_rep, dropna, data_columns, errors, encoding)\u001B[0m\n\u001B[1;32m   2848\u001B[0m \u001B[38;5;28;01mfrom\u001B[39;00m \u001B[38;5;21;01mpandas\u001B[39;00m\u001B[38;5;21;01m.\u001B[39;00m\u001B[38;5;21;01mio\u001B[39;00m \u001B[38;5;28;01mimport\u001B[39;00m pytables\n\u001B[1;32m   2850\u001B[0m \u001B[38;5;66;03m# Argument 3 to \"to_hdf\" has incompatible type \"NDFrame\"; expected\u001B[39;00m\n\u001B[1;32m   2851\u001B[0m \u001B[38;5;66;03m# \"Union[DataFrame, Series]\" [arg-type]\u001B[39;00m\n\u001B[0;32m-> 2852\u001B[0m \u001B[43mpytables\u001B[49m\u001B[38;5;241;43m.\u001B[39;49m\u001B[43mto_hdf\u001B[49m\u001B[43m(\u001B[49m\n\u001B[1;32m   2853\u001B[0m \u001B[43m    \u001B[49m\u001B[43mpath_or_buf\u001B[49m\u001B[43m,\u001B[49m\n\u001B[1;32m   2854\u001B[0m \u001B[43m    \u001B[49m\u001B[43mkey\u001B[49m\u001B[43m,\u001B[49m\n\u001B[1;32m   2855\u001B[0m \u001B[43m    \u001B[49m\u001B[38;5;28;43mself\u001B[39;49m\u001B[43m,\u001B[49m\u001B[43m  \u001B[49m\u001B[38;5;66;43;03m# type: ignore[arg-type]\u001B[39;49;00m\n\u001B[1;32m   2856\u001B[0m \u001B[43m    \u001B[49m\u001B[43mmode\u001B[49m\u001B[38;5;241;43m=\u001B[39;49m\u001B[43mmode\u001B[49m\u001B[43m,\u001B[49m\n\u001B[1;32m   2857\u001B[0m \u001B[43m    \u001B[49m\u001B[43mcomplevel\u001B[49m\u001B[38;5;241;43m=\u001B[39;49m\u001B[43mcomplevel\u001B[49m\u001B[43m,\u001B[49m\n\u001B[1;32m   2858\u001B[0m \u001B[43m    \u001B[49m\u001B[43mcomplib\u001B[49m\u001B[38;5;241;43m=\u001B[39;49m\u001B[43mcomplib\u001B[49m\u001B[43m,\u001B[49m\n\u001B[1;32m   2859\u001B[0m \u001B[43m    \u001B[49m\u001B[43mappend\u001B[49m\u001B[38;5;241;43m=\u001B[39;49m\u001B[43mappend\u001B[49m\u001B[43m,\u001B[49m\n\u001B[1;32m   2860\u001B[0m \u001B[43m    \u001B[49m\u001B[38;5;28;43mformat\u001B[39;49m\u001B[38;5;241;43m=\u001B[39;49m\u001B[38;5;28;43mformat\u001B[39;49m\u001B[43m,\u001B[49m\n\u001B[1;32m   2861\u001B[0m \u001B[43m    \u001B[49m\u001B[43mindex\u001B[49m\u001B[38;5;241;43m=\u001B[39;49m\u001B[43mindex\u001B[49m\u001B[43m,\u001B[49m\n\u001B[1;32m   2862\u001B[0m \u001B[43m    \u001B[49m\u001B[43mmin_itemsize\u001B[49m\u001B[38;5;241;43m=\u001B[39;49m\u001B[43mmin_itemsize\u001B[49m\u001B[43m,\u001B[49m\n\u001B[1;32m   2863\u001B[0m \u001B[43m    \u001B[49m\u001B[43mnan_rep\u001B[49m\u001B[38;5;241;43m=\u001B[39;49m\u001B[43mnan_rep\u001B[49m\u001B[43m,\u001B[49m\n\u001B[1;32m   2864\u001B[0m \u001B[43m    \u001B[49m\u001B[43mdropna\u001B[49m\u001B[38;5;241;43m=\u001B[39;49m\u001B[43mdropna\u001B[49m\u001B[43m,\u001B[49m\n\u001B[1;32m   2865\u001B[0m \u001B[43m    \u001B[49m\u001B[43mdata_columns\u001B[49m\u001B[38;5;241;43m=\u001B[39;49m\u001B[43mdata_columns\u001B[49m\u001B[43m,\u001B[49m\n\u001B[1;32m   2866\u001B[0m \u001B[43m    \u001B[49m\u001B[43merrors\u001B[49m\u001B[38;5;241;43m=\u001B[39;49m\u001B[43merrors\u001B[49m\u001B[43m,\u001B[49m\n\u001B[1;32m   2867\u001B[0m \u001B[43m    \u001B[49m\u001B[43mencoding\u001B[49m\u001B[38;5;241;43m=\u001B[39;49m\u001B[43mencoding\u001B[49m\u001B[43m,\u001B[49m\n\u001B[1;32m   2868\u001B[0m \u001B[43m\u001B[49m\u001B[43m)\u001B[49m\n",
      "File \u001B[0;32m~/Library/Caches/pypoetry/virtualenvs/mctools-3Qvjc-9q-py3.11/lib/python3.11/site-packages/pandas/io/pytables.py:308\u001B[0m, in \u001B[0;36mto_hdf\u001B[0;34m(path_or_buf, key, value, mode, complevel, complib, append, format, index, min_itemsize, nan_rep, dropna, data_columns, errors, encoding)\u001B[0m\n\u001B[1;32m    306\u001B[0m path_or_buf \u001B[38;5;241m=\u001B[39m stringify_path(path_or_buf)\n\u001B[1;32m    307\u001B[0m \u001B[38;5;28;01mif\u001B[39;00m \u001B[38;5;28misinstance\u001B[39m(path_or_buf, \u001B[38;5;28mstr\u001B[39m):\n\u001B[0;32m--> 308\u001B[0m     \u001B[38;5;28;01mwith\u001B[39;00m \u001B[43mHDFStore\u001B[49m\u001B[43m(\u001B[49m\n\u001B[1;32m    309\u001B[0m \u001B[43m        \u001B[49m\u001B[43mpath_or_buf\u001B[49m\u001B[43m,\u001B[49m\u001B[43m \u001B[49m\u001B[43mmode\u001B[49m\u001B[38;5;241;43m=\u001B[39;49m\u001B[43mmode\u001B[49m\u001B[43m,\u001B[49m\u001B[43m \u001B[49m\u001B[43mcomplevel\u001B[49m\u001B[38;5;241;43m=\u001B[39;49m\u001B[43mcomplevel\u001B[49m\u001B[43m,\u001B[49m\u001B[43m \u001B[49m\u001B[43mcomplib\u001B[49m\u001B[38;5;241;43m=\u001B[39;49m\u001B[43mcomplib\u001B[49m\n\u001B[1;32m    310\u001B[0m \u001B[43m    \u001B[49m\u001B[43m)\u001B[49m \u001B[38;5;28;01mas\u001B[39;00m store:\n\u001B[1;32m    311\u001B[0m         f(store)\n\u001B[1;32m    312\u001B[0m \u001B[38;5;28;01melse\u001B[39;00m:\n",
      "File \u001B[0;32m~/Library/Caches/pypoetry/virtualenvs/mctools-3Qvjc-9q-py3.11/lib/python3.11/site-packages/pandas/io/pytables.py:585\u001B[0m, in \u001B[0;36mHDFStore.__init__\u001B[0;34m(self, path, mode, complevel, complib, fletcher32, **kwargs)\u001B[0m\n\u001B[1;32m    583\u001B[0m \u001B[38;5;28mself\u001B[39m\u001B[38;5;241m.\u001B[39m_fletcher32 \u001B[38;5;241m=\u001B[39m fletcher32\n\u001B[1;32m    584\u001B[0m \u001B[38;5;28mself\u001B[39m\u001B[38;5;241m.\u001B[39m_filters \u001B[38;5;241m=\u001B[39m \u001B[38;5;28;01mNone\u001B[39;00m\n\u001B[0;32m--> 585\u001B[0m \u001B[38;5;28;43mself\u001B[39;49m\u001B[38;5;241;43m.\u001B[39;49m\u001B[43mopen\u001B[49m\u001B[43m(\u001B[49m\u001B[43mmode\u001B[49m\u001B[38;5;241;43m=\u001B[39;49m\u001B[43mmode\u001B[49m\u001B[43m,\u001B[49m\u001B[43m \u001B[49m\u001B[38;5;241;43m*\u001B[39;49m\u001B[38;5;241;43m*\u001B[39;49m\u001B[43mkwargs\u001B[49m\u001B[43m)\u001B[49m\n",
      "File \u001B[0;32m~/Library/Caches/pypoetry/virtualenvs/mctools-3Qvjc-9q-py3.11/lib/python3.11/site-packages/pandas/io/pytables.py:745\u001B[0m, in \u001B[0;36mHDFStore.open\u001B[0;34m(self, mode, **kwargs)\u001B[0m\n\u001B[1;32m    739\u001B[0m     msg \u001B[38;5;241m=\u001B[39m (\n\u001B[1;32m    740\u001B[0m         \u001B[38;5;124m\"\u001B[39m\u001B[38;5;124mCannot open HDF5 file, which is already opened, \u001B[39m\u001B[38;5;124m\"\u001B[39m\n\u001B[1;32m    741\u001B[0m         \u001B[38;5;124m\"\u001B[39m\u001B[38;5;124meven in read-only mode.\u001B[39m\u001B[38;5;124m\"\u001B[39m\n\u001B[1;32m    742\u001B[0m     )\n\u001B[1;32m    743\u001B[0m     \u001B[38;5;28;01mraise\u001B[39;00m \u001B[38;5;167;01mValueError\u001B[39;00m(msg)\n\u001B[0;32m--> 745\u001B[0m \u001B[38;5;28mself\u001B[39m\u001B[38;5;241m.\u001B[39m_handle \u001B[38;5;241m=\u001B[39m \u001B[43mtables\u001B[49m\u001B[38;5;241;43m.\u001B[39;49m\u001B[43mopen_file\u001B[49m\u001B[43m(\u001B[49m\u001B[38;5;28;43mself\u001B[39;49m\u001B[38;5;241;43m.\u001B[39;49m\u001B[43m_path\u001B[49m\u001B[43m,\u001B[49m\u001B[43m \u001B[49m\u001B[38;5;28;43mself\u001B[39;49m\u001B[38;5;241;43m.\u001B[39;49m\u001B[43m_mode\u001B[49m\u001B[43m,\u001B[49m\u001B[43m \u001B[49m\u001B[38;5;241;43m*\u001B[39;49m\u001B[38;5;241;43m*\u001B[39;49m\u001B[43mkwargs\u001B[49m\u001B[43m)\u001B[49m\n",
      "File \u001B[0;32m~/Library/Caches/pypoetry/virtualenvs/mctools-3Qvjc-9q-py3.11/lib/python3.11/site-packages/tables/file.py:283\u001B[0m, in \u001B[0;36mopen_file\u001B[0;34m(filename, mode, title, root_uep, filters, **kwargs)\u001B[0m\n\u001B[1;32m    281\u001B[0m \u001B[38;5;66;03m# 'a' and 'r+' are compatible with everything except 'r'\u001B[39;00m\n\u001B[1;32m    282\u001B[0m \u001B[38;5;28;01melif\u001B[39;00m mode \u001B[38;5;129;01min\u001B[39;00m (\u001B[38;5;124m'\u001B[39m\u001B[38;5;124ma\u001B[39m\u001B[38;5;124m'\u001B[39m, \u001B[38;5;124m'\u001B[39m\u001B[38;5;124mr+\u001B[39m\u001B[38;5;124m'\u001B[39m) \u001B[38;5;129;01mand\u001B[39;00m omode \u001B[38;5;241m==\u001B[39m \u001B[38;5;124m'\u001B[39m\u001B[38;5;124mr\u001B[39m\u001B[38;5;124m'\u001B[39m:\n\u001B[0;32m--> 283\u001B[0m     \u001B[38;5;28;01mraise\u001B[39;00m \u001B[38;5;167;01mValueError\u001B[39;00m(\n\u001B[1;32m    284\u001B[0m         \u001B[38;5;124m\"\u001B[39m\u001B[38;5;124mThe file \u001B[39m\u001B[38;5;124m'\u001B[39m\u001B[38;5;132;01m%s\u001B[39;00m\u001B[38;5;124m'\u001B[39m\u001B[38;5;124m is already opened, but \u001B[39m\u001B[38;5;124m\"\u001B[39m\n\u001B[1;32m    285\u001B[0m         \u001B[38;5;124m\"\u001B[39m\u001B[38;5;124min read-only mode.  Please close it before \u001B[39m\u001B[38;5;124m\"\u001B[39m\n\u001B[1;32m    286\u001B[0m         \u001B[38;5;124m\"\u001B[39m\u001B[38;5;124mreopening in append mode.\u001B[39m\u001B[38;5;124m\"\u001B[39m \u001B[38;5;241m%\u001B[39m filename)\n\u001B[1;32m    287\u001B[0m \u001B[38;5;66;03m# 'w' means that we want to destroy existing contents\u001B[39;00m\n\u001B[1;32m    288\u001B[0m \u001B[38;5;28;01melif\u001B[39;00m mode \u001B[38;5;241m==\u001B[39m \u001B[38;5;124m'\u001B[39m\u001B[38;5;124mw\u001B[39m\u001B[38;5;124m'\u001B[39m:\n",
      "\u001B[0;31mValueError\u001B[0m: The file '/Users/kirill/PycharmProjects/mctools/tests/data/rasci_1r1h36o_2r13e14o_3r1p6o.casscf_13e14o_ref.ano-yb_r1-i_r0.ybi6_1.gdv_j14p.16262576.h5' is already opened, but in read-only mode.  Please close it before reopening in append mode."
     ]
    }
   ],
   "source": [
    "mo.to_hdf5(archive)"
   ],
   "metadata": {
    "collapsed": false,
    "ExecuteTime": {
     "end_time": "2024-02-29T23:10:41.579807Z",
     "start_time": "2024-02-29T23:10:41.054510Z"
    }
   },
   "id": "215c143163adffed",
   "execution_count": 7
  },
  {
   "cell_type": "code",
   "outputs": [
    {
     "ename": "ValueError",
     "evalue": "Shape of passed values is (391, 1), indices imply (391, 2)",
     "output_type": "error",
     "traceback": [
      "\u001B[0;31m---------------------------------------------------------------------------\u001B[0m",
      "\u001B[0;31mValueError\u001B[0m                                Traceback (most recent call last)",
      "Cell \u001B[0;32mIn[215], line 7\u001B[0m\n\u001B[1;32m      4\u001B[0m labels \u001B[38;5;241m=\u001B[39m fragments[\u001B[38;5;124m'\u001B[39m\u001B[38;5;124mlabel\u001B[39m\u001B[38;5;124m'\u001B[39m]\u001B[38;5;241m.\u001B[39mvalues[indicies[\u001B[38;5;241m-\u001B[39mn_top:, :]][::\u001B[38;5;241m-\u001B[39m\u001B[38;5;241m1\u001B[39m, :]\n\u001B[1;32m      5\u001B[0m coeffs \u001B[38;5;241m=\u001B[39m np\u001B[38;5;241m.\u001B[39mtake_along_axis(partorb\u001B[38;5;241m.\u001B[39mto_numpy(), indicies[\u001B[38;5;241m-\u001B[39mn_top:, :], \u001B[38;5;241m0\u001B[39m)[::\u001B[38;5;241m-\u001B[39m\u001B[38;5;241m1\u001B[39m, :]\n\u001B[0;32m----> 7\u001B[0m df_labels \u001B[38;5;241m=\u001B[39m \u001B[43mpd\u001B[49m\u001B[38;5;241;43m.\u001B[39;49m\u001B[43mDataFrame\u001B[49m\u001B[43m(\u001B[49m\u001B[43mlabels\u001B[49m\u001B[38;5;241;43m.\u001B[39;49m\u001B[43mT\u001B[49m\u001B[43m,\u001B[49m\u001B[43m \u001B[49m\u001B[43mcolumns\u001B[49m\u001B[38;5;241;43m=\u001B[39;49m\u001B[43m[\u001B[49m\u001B[38;5;124;43mf\u001B[39;49m\u001B[38;5;124;43m'\u001B[39;49m\u001B[38;5;124;43mlabel_top\u001B[39;49m\u001B[38;5;132;43;01m{\u001B[39;49;00m\u001B[43mi\u001B[49m\u001B[38;5;132;43;01m}\u001B[39;49;00m\u001B[38;5;124;43m'\u001B[39;49m\u001B[43m \u001B[49m\u001B[38;5;28;43;01mfor\u001B[39;49;00m\u001B[43m \u001B[49m\u001B[43mi\u001B[49m\u001B[43m \u001B[49m\u001B[38;5;129;43;01min\u001B[39;49;00m\u001B[43m \u001B[49m\u001B[38;5;28;43mrange\u001B[39;49m\u001B[43m(\u001B[49m\u001B[38;5;241;43m1\u001B[39;49m\u001B[43m,\u001B[49m\u001B[43m \u001B[49m\u001B[38;5;28;43mlen\u001B[39;49m\u001B[43m(\u001B[49m\u001B[43mby\u001B[49m\u001B[43m)\u001B[49m\u001B[43m \u001B[49m\u001B[38;5;241;43m+\u001B[39;49m\u001B[43m \u001B[49m\u001B[38;5;241;43m1\u001B[39;49m\u001B[43m)\u001B[49m\u001B[43m]\u001B[49m\u001B[43m)\u001B[49m\n\u001B[1;32m      8\u001B[0m df_coeffs \u001B[38;5;241m=\u001B[39m pd\u001B[38;5;241m.\u001B[39mDataFrame(coeffs\u001B[38;5;241m.\u001B[39mT, columns\u001B[38;5;241m=\u001B[39m[\u001B[38;5;124mf\u001B[39m\u001B[38;5;124m'\u001B[39m\u001B[38;5;124mcoeff_top\u001B[39m\u001B[38;5;132;01m{\u001B[39;00mi\u001B[38;5;132;01m}\u001B[39;00m\u001B[38;5;124m'\u001B[39m \u001B[38;5;28;01mfor\u001B[39;00m i \u001B[38;5;129;01min\u001B[39;00m \u001B[38;5;28mrange\u001B[39m(\u001B[38;5;241m1\u001B[39m, \u001B[38;5;28mlen\u001B[39m(by) \u001B[38;5;241m+\u001B[39m \u001B[38;5;241m1\u001B[39m)])\n\u001B[1;32m      9\u001B[0m df_part \u001B[38;5;241m=\u001B[39m pd\u001B[38;5;241m.\u001B[39mconcat([df_labels, df_coeffs], axis\u001B[38;5;241m=\u001B[39m\u001B[38;5;241m1\u001B[39m)\n",
      "File \u001B[0;32m~/Library/Caches/pypoetry/virtualenvs/mctools-3Qvjc-9q-py3.11/lib/python3.11/site-packages/pandas/core/frame.py:816\u001B[0m, in \u001B[0;36mDataFrame.__init__\u001B[0;34m(self, data, index, columns, dtype, copy)\u001B[0m\n\u001B[1;32m    805\u001B[0m         mgr \u001B[38;5;241m=\u001B[39m dict_to_mgr(\n\u001B[1;32m    806\u001B[0m             \u001B[38;5;66;03m# error: Item \"ndarray\" of \"Union[ndarray, Series, Index]\" has no\u001B[39;00m\n\u001B[1;32m    807\u001B[0m             \u001B[38;5;66;03m# attribute \"name\"\u001B[39;00m\n\u001B[0;32m   (...)\u001B[0m\n\u001B[1;32m    813\u001B[0m             copy\u001B[38;5;241m=\u001B[39m_copy,\n\u001B[1;32m    814\u001B[0m         )\n\u001B[1;32m    815\u001B[0m     \u001B[38;5;28;01melse\u001B[39;00m:\n\u001B[0;32m--> 816\u001B[0m         mgr \u001B[38;5;241m=\u001B[39m \u001B[43mndarray_to_mgr\u001B[49m\u001B[43m(\u001B[49m\n\u001B[1;32m    817\u001B[0m \u001B[43m            \u001B[49m\u001B[43mdata\u001B[49m\u001B[43m,\u001B[49m\n\u001B[1;32m    818\u001B[0m \u001B[43m            \u001B[49m\u001B[43mindex\u001B[49m\u001B[43m,\u001B[49m\n\u001B[1;32m    819\u001B[0m \u001B[43m            \u001B[49m\u001B[43mcolumns\u001B[49m\u001B[43m,\u001B[49m\n\u001B[1;32m    820\u001B[0m \u001B[43m            \u001B[49m\u001B[43mdtype\u001B[49m\u001B[38;5;241;43m=\u001B[39;49m\u001B[43mdtype\u001B[49m\u001B[43m,\u001B[49m\n\u001B[1;32m    821\u001B[0m \u001B[43m            \u001B[49m\u001B[43mcopy\u001B[49m\u001B[38;5;241;43m=\u001B[39;49m\u001B[43mcopy\u001B[49m\u001B[43m,\u001B[49m\n\u001B[1;32m    822\u001B[0m \u001B[43m            \u001B[49m\u001B[43mtyp\u001B[49m\u001B[38;5;241;43m=\u001B[39;49m\u001B[43mmanager\u001B[49m\u001B[43m,\u001B[49m\n\u001B[1;32m    823\u001B[0m \u001B[43m        \u001B[49m\u001B[43m)\u001B[49m\n\u001B[1;32m    825\u001B[0m \u001B[38;5;66;03m# For data is list-like, or Iterable (will consume into list)\u001B[39;00m\n\u001B[1;32m    826\u001B[0m \u001B[38;5;28;01melif\u001B[39;00m is_list_like(data):\n",
      "File \u001B[0;32m~/Library/Caches/pypoetry/virtualenvs/mctools-3Qvjc-9q-py3.11/lib/python3.11/site-packages/pandas/core/internals/construction.py:336\u001B[0m, in \u001B[0;36mndarray_to_mgr\u001B[0;34m(values, index, columns, dtype, copy, typ)\u001B[0m\n\u001B[1;32m    331\u001B[0m \u001B[38;5;66;03m# _prep_ndarraylike ensures that values.ndim == 2 at this point\u001B[39;00m\n\u001B[1;32m    332\u001B[0m index, columns \u001B[38;5;241m=\u001B[39m _get_axes(\n\u001B[1;32m    333\u001B[0m     values\u001B[38;5;241m.\u001B[39mshape[\u001B[38;5;241m0\u001B[39m], values\u001B[38;5;241m.\u001B[39mshape[\u001B[38;5;241m1\u001B[39m], index\u001B[38;5;241m=\u001B[39mindex, columns\u001B[38;5;241m=\u001B[39mcolumns\n\u001B[1;32m    334\u001B[0m )\n\u001B[0;32m--> 336\u001B[0m \u001B[43m_check_values_indices_shape_match\u001B[49m\u001B[43m(\u001B[49m\u001B[43mvalues\u001B[49m\u001B[43m,\u001B[49m\u001B[43m \u001B[49m\u001B[43mindex\u001B[49m\u001B[43m,\u001B[49m\u001B[43m \u001B[49m\u001B[43mcolumns\u001B[49m\u001B[43m)\u001B[49m\n\u001B[1;32m    338\u001B[0m \u001B[38;5;28;01mif\u001B[39;00m typ \u001B[38;5;241m==\u001B[39m \u001B[38;5;124m\"\u001B[39m\u001B[38;5;124marray\u001B[39m\u001B[38;5;124m\"\u001B[39m:\n\u001B[1;32m    339\u001B[0m     \u001B[38;5;28;01mif\u001B[39;00m \u001B[38;5;28missubclass\u001B[39m(values\u001B[38;5;241m.\u001B[39mdtype\u001B[38;5;241m.\u001B[39mtype, \u001B[38;5;28mstr\u001B[39m):\n",
      "File \u001B[0;32m~/Library/Caches/pypoetry/virtualenvs/mctools-3Qvjc-9q-py3.11/lib/python3.11/site-packages/pandas/core/internals/construction.py:420\u001B[0m, in \u001B[0;36m_check_values_indices_shape_match\u001B[0;34m(values, index, columns)\u001B[0m\n\u001B[1;32m    418\u001B[0m passed \u001B[38;5;241m=\u001B[39m values\u001B[38;5;241m.\u001B[39mshape\n\u001B[1;32m    419\u001B[0m implied \u001B[38;5;241m=\u001B[39m (\u001B[38;5;28mlen\u001B[39m(index), \u001B[38;5;28mlen\u001B[39m(columns))\n\u001B[0;32m--> 420\u001B[0m \u001B[38;5;28;01mraise\u001B[39;00m \u001B[38;5;167;01mValueError\u001B[39;00m(\u001B[38;5;124mf\u001B[39m\u001B[38;5;124m\"\u001B[39m\u001B[38;5;124mShape of passed values is \u001B[39m\u001B[38;5;132;01m{\u001B[39;00mpassed\u001B[38;5;132;01m}\u001B[39;00m\u001B[38;5;124m, indices imply \u001B[39m\u001B[38;5;132;01m{\u001B[39;00mimplied\u001B[38;5;132;01m}\u001B[39;00m\u001B[38;5;124m\"\u001B[39m)\n",
      "\u001B[0;31mValueError\u001B[0m: Shape of passed values is (391, 1), indices imply (391, 2)"
     ]
    }
   ],
   "source": [
    "n_top = 1\n",
    "partorb_abs = partorb.apply(np.abs)\n",
    "indicies = np.argpartition(partorb_abs, -n_top, axis=0)\n",
    "labels = fragments['label'].values[indicies[-n_top:, :]][::-1, :]\n",
    "coeffs = np.take_along_axis(partorb.to_numpy(), indicies[-n_top:, :], 0)[::-1, :]\n",
    "\n",
    "df_labels = pd.DataFrame(labels.T, columns=[f'label_top{i}' for i in range(1, len(by) + 1)])\n",
    "df_coeffs = pd.DataFrame(coeffs.T, columns=[f'coeff_top{i}' for i in range(1, len(by) + 1)])\n",
    "df_part = pd.concat([df_labels, df_coeffs], axis=1)"
   ],
   "metadata": {
    "collapsed": false,
    "ExecuteTime": {
     "end_time": "2024-02-29T22:31:16.892084Z",
     "start_time": "2024-02-29T22:31:16.824501Z"
    }
   },
   "id": "4afd365341474f0a",
   "execution_count": 215
  },
  {
   "cell_type": "code",
   "outputs": [
    {
     "data": {
      "text/plain": "(391, 1)"
     },
     "execution_count": 219,
     "metadata": {},
     "output_type": "execute_result"
    }
   ],
   "source": [
    "labels.T.shape"
   ],
   "metadata": {
    "collapsed": false,
    "ExecuteTime": {
     "end_time": "2024-02-29T22:31:44.623264Z",
     "start_time": "2024-02-29T22:31:44.563094Z"
    }
   },
   "id": "b56df1484f220080",
   "execution_count": 219
  },
  {
   "cell_type": "code",
   "outputs": [
    {
     "data": {
      "text/plain": "    label_top1 label_top1\n0         Yb_S       Yb_S\n1         Yb_S       Yb_S\n2          I_S        I_S\n3          I_S        I_S\n4          I_S        I_S\n..         ...        ...\n421        NaN        NaN\n422        NaN        NaN\n423        NaN        NaN\n424        NaN        NaN\n425        NaN        NaN\n\n[426 rows x 2 columns]",
      "text/html": "<div>\n<style scoped>\n    .dataframe tbody tr th:only-of-type {\n        vertical-align: middle;\n    }\n\n    .dataframe tbody tr th {\n        vertical-align: top;\n    }\n\n    .dataframe thead th {\n        text-align: right;\n    }\n</style>\n<table border=\"1\" class=\"dataframe\">\n  <thead>\n    <tr style=\"text-align: right;\">\n      <th></th>\n      <th>label_top1</th>\n      <th>label_top1</th>\n    </tr>\n  </thead>\n  <tbody>\n    <tr>\n      <th>0</th>\n      <td>Yb_S</td>\n      <td>Yb_S</td>\n    </tr>\n    <tr>\n      <th>1</th>\n      <td>Yb_S</td>\n      <td>Yb_S</td>\n    </tr>\n    <tr>\n      <th>2</th>\n      <td>I_S</td>\n      <td>I_S</td>\n    </tr>\n    <tr>\n      <th>3</th>\n      <td>I_S</td>\n      <td>I_S</td>\n    </tr>\n    <tr>\n      <th>4</th>\n      <td>I_S</td>\n      <td>I_S</td>\n    </tr>\n    <tr>\n      <th>...</th>\n      <td>...</td>\n      <td>...</td>\n    </tr>\n    <tr>\n      <th>421</th>\n      <td>NaN</td>\n      <td>NaN</td>\n    </tr>\n    <tr>\n      <th>422</th>\n      <td>NaN</td>\n      <td>NaN</td>\n    </tr>\n    <tr>\n      <th>423</th>\n      <td>NaN</td>\n      <td>NaN</td>\n    </tr>\n    <tr>\n      <th>424</th>\n      <td>NaN</td>\n      <td>NaN</td>\n    </tr>\n    <tr>\n      <th>425</th>\n      <td>NaN</td>\n      <td>NaN</td>\n    </tr>\n  </tbody>\n</table>\n<p>426 rows × 2 columns</p>\n</div>"
     },
     "execution_count": 246,
     "metadata": {},
     "output_type": "execute_result"
    }
   ],
   "source": [
    "mo.df['label_top1']"
   ],
   "metadata": {
    "collapsed": false,
    "ExecuteTime": {
     "end_time": "2024-02-29T22:46:40.880004Z",
     "start_time": "2024-02-29T22:46:40.805694Z"
    }
   },
   "id": "45ec6a611e5340c3",
   "execution_count": 246
  },
  {
   "cell_type": "code",
   "outputs": [
    {
     "data": {
      "text/plain": "(391,)"
     },
     "execution_count": 156,
     "metadata": {},
     "output_type": "execute_result"
    }
   ],
   "source": [
    "max_fragment_idx.shape"
   ],
   "metadata": {
    "collapsed": false,
    "ExecuteTime": {
     "end_time": "2024-02-29T20:55:23.924303Z",
     "start_time": "2024-02-29T20:55:23.867965Z"
    }
   },
   "id": "3ac26ec967b22d6c",
   "execution_count": 156
  },
  {
   "cell_type": "code",
   "outputs": [
    {
     "data": {
      "text/plain": "<Figure size 640x480 with 1 Axes>",
      "image/png": "[encoded data removed]"
     },
     "metadata": {},
     "output_type": "display_data"
    }
   ],
   "source": [
    "import matplotlib.pyplot as plt\n",
    "\n",
    "mo_idx = 'MO365'\n",
    "orb = partorb[['element', 'L', mo_idx]].copy()\n",
    "\n",
    "orb['norm'] = np.abs(orb[mo_idx])\n",
    "orb.sort_values('norm', ascending=False, inplace=True)\n",
    "orb[['X', 'Y']] = np.full((len(orb), 2), 0.)\n",
    "orb.iloc[1:, 4] = np.cumsum(np.real(orb.iloc[1:, 2]))\n",
    "orb.iloc[1:, 5] = np.cumsum(np.imag(orb.iloc[1:, 2]))\n",
    "\n",
    "plt.plot('X', 'Y', data=orb)\n",
    "plt.show()\n",
    "plt.close()"
   ],
   "metadata": {
    "collapsed": false,
    "ExecuteTime": {
     "end_time": "2024-02-29T19:44:06.635187Z",
     "start_time": "2024-02-29T19:44:06.502622Z"
    }
   },
   "id": "f3c4cb343d65d6e4",
   "execution_count": 37
  },
  {
   "cell_type": "code",
   "outputs": [
    {
     "data": {
      "text/plain": "4.336808689942018e-18"
     },
     "execution_count": 43,
     "metadata": {},
     "output_type": "execute_result"
    }
   ],
   "source": [
    "np.abs(np.imag(partorb.iloc[:, 2:])).max()"
   ],
   "metadata": {
    "collapsed": false,
    "ExecuteTime": {
     "end_time": "2024-02-29T19:46:13.818948Z",
     "start_time": "2024-02-29T19:46:13.757675Z"
    }
   },
   "id": "10a11cadd2fcdb50",
   "execution_count": 43
  },
  {
   "cell_type": "code",
   "outputs": [
    {
     "data": {
      "text/plain": "  element  L                                             MO1  \\\n0       I  S  3.384951e-15+5.175937e-                    34j   \n1       I  P  5.849324e-12+3.648482e-                    30j   \n2       I  D  2.589484e-15+3.129636e-                    34j   \n3      Yb  S  1.000000e+00+3.902396e-                    29j   \n4      Yb  P  2.272947e-17+1.805559e-                    35j   \n5      Yb  D  1.620597e-16+0.000000e+                    00j   \n6      Yb  F  2.675761e-16+0.000000e+                    00j   \n\n                                              MO2  \\\n0  3.384951e-15+9.148167e-                    34j   \n1  5.849324e-12+1.972152e-                    31j   \n2  2.589484e-15-6.018531e-                    35j   \n3  1.000000e+00-4.166172e-                    29j   \n4  2.272946e-17-3.912045e-                    35j   \n5  1.620597e-16+1.880791e-                    36j   \n6  2.675761e-16-3.009266e-                    36j   \n\n                                              MO3  \\\n0  1.000000e+00-1.336688e-                    28j   \n1  3.625091e-12-8.874685e-                    31j   \n2  1.354575e-15+1.203706e-                    34j   \n3  5.553231e-14+0.000000e+                    00j   \n4  3.023713e-13-3.759415e-                    31j   \n5  4.734095e-14-2.900932e-                    33j   \n6  6.763285e-15+7.703720e-                    34j   \n\n                                              MO4  \\\n0  1.000000e+00+2.016464e-                    28j   \n1  3.625090e-12+1.528418e-                    30j   \n2  1.354576e-15-1.444447e-                    34j   \n3  5.553219e-14-1.694818e-                    32j   \n4  3.023714e-13+1.078521e-                    31j   \n5  4.734100e-14+1.540744e-                    33j   \n6  6.763282e-15+0.000000e+                    00j   \n\n                                              MO5  \\\n0  1.000000e+00+2.380758e-                    29j   \n1  3.621219e-12-2.563798e-                    30j   \n2  1.353331e-15+2.949080e-                    34j   \n3  5.515337e-14-3.543711e-                    32j   \n4  3.016969e-13+8.011869e-                    32j   \n5  4.731597e-14-4.622232e-                    33j   \n6  6.720381e-15+0.000000e+                    00j   \n\n                                              MO6  \\\n0  1.000000e+00-3.678064e-                    29j   \n1  3.621217e-12-4.141520e-                    30j   \n2  1.353331e-15+1.203706e-                    35j   \n3  5.515325e-14-3.081488e-                    33j   \n4  3.016969e-13+9.244464e-                    32j   \n5  4.731602e-14+3.851860e-                    33j   \n6  6.720377e-15+7.703720e-                    34j   \n\n                                              MO7  \\\n0  1.000000e+00-1.307537e-                    28j   \n1  3.645822e-12+3.204747e-                    30j   \n2  1.357607e-15+4.333342e-                    34j   \n3  5.529647e-14+4.622232e-                    33j   \n4  3.097693e-13+9.860761e-                    32j   \n5  4.901534e-14-7.703720e-                    33j   \n6  6.976199e-15+0.000000e+                    00j   \n\n                                              MO8  ...  \\\n0  1.000000e+00-1.064962e-                    29j  ...   \n1  3.645822e-12+1.183291e-                    30j  ...   \n2  1.357607e-15+7.222237e-                    35j  ...   \n3  5.529647e-14-9.244464e-                    33j  ...   \n4  3.097693e-13-3.389637e-                    32j  ...   \n5  4.901534e-14+1.540744e-                    33j  ...   \n6  6.976199e-15+1.155558e-                    33j  ...   \n\n                                            MO382  \\\n0  1.646860e-04-4.632211e-                    23j   \n1  2.696718e-03+2.117582e-                    21j   \n2  7.844493e-06+1.292470e-                    26j   \n3  4.140943e-07+1.033976e-                    24j   \n4  5.534768e-05+1.809458e-                    25j   \n5  1.995279e-07+1.615587e-                    27j   \n6  9.988031e-01+4.235165e-                    22j   \n\n                                            MO383  \\\n0  1.855283e-04+1.290402e-                    22j   \n1  2.867007e-03-1.998468e-                    21j   \n2  8.297457e-06-2.100263e-                    26j   \n3  1.228739e-08+0.000000e+                    00j   \n4  5.922282e-05-2.520316e-                    25j   \n5  1.419574e-06+0.000000e+                    00j   \n6  9.987198e-01-8.470329e-                    22j   \n\n                                            MO384  \\\n0  1.855283e-04-1.720536e-                    22j   \n1  2.867007e-03+4.446923e-                    21j   \n2  8.297457e-06+1.454028e-                    26j   \n3  1.228739e-08+0.000000e+                    00j   \n4  5.922282e-05-3.231174e-                    25j   \n5  1.419574e-06+6.462349e-                    27j   \n6  9.987198e-01+0.000000e+                    00j   \n\n                                            MO385  \\\n0  6.816279e-06+1.654361e-                    24j   \n1  5.214804e-04-1.270549e-                    21j   \n2  2.003732e-06+4.846761e-                    27j   \n3  3.300168e-07+2.067952e-                    25j   \n4  1.105014e-06-2.564745e-                    26j   \n5  8.956478e-08+1.514613e-                    28j   \n6  9.998517e-01-9.926167e-                    24j   \n\n                                            MO386  \\\n0  6.816279e-06+4.135903e-                    24j   \n1  5.214804e-04+6.352747e-                    22j   \n2  2.003732e-06-3.917799e-                    26j   \n3  3.300168e-07+0.000000e+                    00j   \n4  1.105014e-06+3.301856e-                    26j   \n5  8.956478e-08+0.000000e+                    00j   \n6  9.998517e-01+0.000000e+                    00j   \n\n                                            MO387  \\\n0  1.107604e-04+1.323489e-                    23j   \n1  1.731628e-03+7.835055e-                    21j   \n2  6.357177e-06+4.846761e-                    26j   \n3  5.006560e-07+0.000000e+                    00j   \n4  1.402676e-05-8.982664e-                    25j   \n5  5.704843e-07+0.000000e+                    00j   \n6  9.994862e-01+7.940934e-                    23j   \n\n                                            MO388  \\\n0  1.107604e-04+2.646978e-                    23j   \n1  1.731628e-03-3.388132e-                    21j   \n2  6.357177e-06+1.292470e-                    26j   \n3  5.006560e-07+0.000000e+                    00j   \n4  1.402676e-05+8.401053e-                    26j   \n5  5.704843e-07-4.038968e-                    28j   \n6  9.994862e-01+6.617445e-                    24j   \n\n                                            MO389  \\\n0  1.373554e-04-3.308722e-                    23j   \n1  1.895351e-03+5.293956e-                    21j   \n2  6.991682e-06-1.130911e-                    25j   \n3  1.647009e-09+0.000000e+                    00j   \n4  1.899239e-05-4.045430e-                    24j   \n5  6.381604e-07+0.000000e+                    00j   \n6  9.994315e-01+8.470329e-                    22j   \n\n                                            MO390  \\\n0  1.373554e-04-1.323489e-                    23j   \n1  1.895351e-03+2.752857e-                    21j   \n2  6.991682e-06+6.462349e-                    26j   \n3  1.647009e-09-1.292470e-                    26j   \n4  1.899239e-05+4.536569e-                    24j   \n5  6.381604e-07-3.635071e-                    27j   \n6  9.994315e-01+0.000000e+                    00j   \n\n                                            MO391  \n0  2.827683e-04+7.279189e-                    23j  \n1  2.732727e-03-1.132907e-                    20j  \n2  1.164294e-05-6.462349e-                    27j  \n3  5.068845e-09+0.000000e+                    00j  \n4  5.362590e-05+7.005186e-                    24j  \n5  1.071831e-06-2.322407e-                    27j  \n6  9.992044e-01+2.977850e-                    23j  \n\n[7 rows x 393 columns]",
      "text/html": "<div>\n<style scoped>\n    .dataframe tbody tr th:only-of-type {\n        vertical-align: middle;\n    }\n\n    .dataframe tbody tr th {\n        vertical-align: top;\n    }\n\n    .dataframe thead th {\n        text-align: right;\n    }\n</style>\n<table border=\"1\" class=\"dataframe\">\n  <thead>\n    <tr style=\"text-align: right;\">\n      <th></th>\n      <th>element</th>\n      <th>L</th>\n      <th>MO1</th>\n      <th>MO2</th>\n      <th>MO3</th>\n      <th>MO4</th>\n      <th>MO5</th>\n      <th>MO6</th>\n      <th>MO7</th>\n      <th>MO8</th>\n      <th>...</th>\n      <th>MO382</th>\n      <th>MO383</th>\n      <th>MO384</th>\n      <th>MO385</th>\n      <th>MO386</th>\n      <th>MO387</th>\n      <th>MO388</th>\n      <th>MO389</th>\n      <th>MO390</th>\n      <th>MO391</th>\n    </tr>\n  </thead>\n  <tbody>\n    <tr>\n      <th>0</th>\n      <td>I</td>\n      <td>S</td>\n      <td>3.384951e-15+5.175937e-                    34j</td>\n      <td>3.384951e-15+9.148167e-                    34j</td>\n      <td>1.000000e+00-1.336688e-                    28j</td>\n      <td>1.000000e+00+2.016464e-                    28j</td>\n      <td>1.000000e+00+2.380758e-                    29j</td>\n      <td>1.000000e+00-3.678064e-                    29j</td>\n      <td>1.000000e+00-1.307537e-                    28j</td>\n      <td>1.000000e+00-1.064962e-                    29j</td>\n      <td>...</td>\n      <td>1.646860e-04-4.632211e-                    23j</td>\n      <td>1.855283e-04+1.290402e-                    22j</td>\n      <td>1.855283e-04-1.720536e-                    22j</td>\n      <td>6.816279e-06+1.654361e-                    24j</td>\n      <td>6.816279e-06+4.135903e-                    24j</td>\n      <td>1.107604e-04+1.323489e-                    23j</td>\n      <td>1.107604e-04+2.646978e-                    23j</td>\n      <td>1.373554e-04-3.308722e-                    23j</td>\n      <td>1.373554e-04-1.323489e-                    23j</td>\n      <td>2.827683e-04+7.279189e-                    23j</td>\n    </tr>\n    <tr>\n      <th>1</th>\n      <td>I</td>\n      <td>P</td>\n      <td>5.849324e-12+3.648482e-                    30j</td>\n      <td>5.849324e-12+1.972152e-                    31j</td>\n      <td>3.625091e-12-8.874685e-                    31j</td>\n      <td>3.625090e-12+1.528418e-                    30j</td>\n      <td>3.621219e-12-2.563798e-                    30j</td>\n      <td>3.621217e-12-4.141520e-                    30j</td>\n      <td>3.645822e-12+3.204747e-                    30j</td>\n      <td>3.645822e-12+1.183291e-                    30j</td>\n      <td>...</td>\n      <td>2.696718e-03+2.117582e-                    21j</td>\n      <td>2.867007e-03-1.998468e-                    21j</td>\n      <td>2.867007e-03+4.446923e-                    21j</td>\n      <td>5.214804e-04-1.270549e-                    21j</td>\n      <td>5.214804e-04+6.352747e-                    22j</td>\n      <td>1.731628e-03+7.835055e-                    21j</td>\n      <td>1.731628e-03-3.388132e-                    21j</td>\n      <td>1.895351e-03+5.293956e-                    21j</td>\n      <td>1.895351e-03+2.752857e-                    21j</td>\n      <td>2.732727e-03-1.132907e-                    20j</td>\n    </tr>\n    <tr>\n      <th>2</th>\n      <td>I</td>\n      <td>D</td>\n      <td>2.589484e-15+3.129636e-                    34j</td>\n      <td>2.589484e-15-6.018531e-                    35j</td>\n      <td>1.354575e-15+1.203706e-                    34j</td>\n      <td>1.354576e-15-1.444447e-                    34j</td>\n      <td>1.353331e-15+2.949080e-                    34j</td>\n      <td>1.353331e-15+1.203706e-                    35j</td>\n      <td>1.357607e-15+4.333342e-                    34j</td>\n      <td>1.357607e-15+7.222237e-                    35j</td>\n      <td>...</td>\n      <td>7.844493e-06+1.292470e-                    26j</td>\n      <td>8.297457e-06-2.100263e-                    26j</td>\n      <td>8.297457e-06+1.454028e-                    26j</td>\n      <td>2.003732e-06+4.846761e-                    27j</td>\n      <td>2.003732e-06-3.917799e-                    26j</td>\n      <td>6.357177e-06+4.846761e-                    26j</td>\n      <td>6.357177e-06+1.292470e-                    26j</td>\n      <td>6.991682e-06-1.130911e-                    25j</td>\n      <td>6.991682e-06+6.462349e-                    26j</td>\n      <td>1.164294e-05-6.462349e-                    27j</td>\n    </tr>\n    <tr>\n      <th>3</th>\n      <td>Yb</td>\n      <td>S</td>\n      <td>1.000000e+00+3.902396e-                    29j</td>\n      <td>1.000000e+00-4.166172e-                    29j</td>\n      <td>5.553231e-14+0.000000e+                    00j</td>\n      <td>5.553219e-14-1.694818e-                    32j</td>\n      <td>5.515337e-14-3.543711e-                    32j</td>\n      <td>5.515325e-14-3.081488e-                    33j</td>\n      <td>5.529647e-14+4.622232e-                    33j</td>\n      <td>5.529647e-14-9.244464e-                    33j</td>\n      <td>...</td>\n      <td>4.140943e-07+1.033976e-                    24j</td>\n      <td>1.228739e-08+0.000000e+                    00j</td>\n      <td>1.228739e-08+0.000000e+                    00j</td>\n      <td>3.300168e-07+2.067952e-                    25j</td>\n      <td>3.300168e-07+0.000000e+                    00j</td>\n      <td>5.006560e-07+0.000000e+                    00j</td>\n      <td>5.006560e-07+0.000000e+                    00j</td>\n      <td>1.647009e-09+0.000000e+                    00j</td>\n      <td>1.647009e-09-1.292470e-                    26j</td>\n      <td>5.068845e-09+0.000000e+                    00j</td>\n    </tr>\n    <tr>\n      <th>4</th>\n      <td>Yb</td>\n      <td>P</td>\n      <td>2.272947e-17+1.805559e-                    35j</td>\n      <td>2.272946e-17-3.912045e-                    35j</td>\n      <td>3.023713e-13-3.759415e-                    31j</td>\n      <td>3.023714e-13+1.078521e-                    31j</td>\n      <td>3.016969e-13+8.011869e-                    32j</td>\n      <td>3.016969e-13+9.244464e-                    32j</td>\n      <td>3.097693e-13+9.860761e-                    32j</td>\n      <td>3.097693e-13-3.389637e-                    32j</td>\n      <td>...</td>\n      <td>5.534768e-05+1.809458e-                    25j</td>\n      <td>5.922282e-05-2.520316e-                    25j</td>\n      <td>5.922282e-05-3.231174e-                    25j</td>\n      <td>1.105014e-06-2.564745e-                    26j</td>\n      <td>1.105014e-06+3.301856e-                    26j</td>\n      <td>1.402676e-05-8.982664e-                    25j</td>\n      <td>1.402676e-05+8.401053e-                    26j</td>\n      <td>1.899239e-05-4.045430e-                    24j</td>\n      <td>1.899239e-05+4.536569e-                    24j</td>\n      <td>5.362590e-05+7.005186e-                    24j</td>\n    </tr>\n    <tr>\n      <th>5</th>\n      <td>Yb</td>\n      <td>D</td>\n      <td>1.620597e-16+0.000000e+                    00j</td>\n      <td>1.620597e-16+1.880791e-                    36j</td>\n      <td>4.734095e-14-2.900932e-                    33j</td>\n      <td>4.734100e-14+1.540744e-                    33j</td>\n      <td>4.731597e-14-4.622232e-                    33j</td>\n      <td>4.731602e-14+3.851860e-                    33j</td>\n      <td>4.901534e-14-7.703720e-                    33j</td>\n      <td>4.901534e-14+1.540744e-                    33j</td>\n      <td>...</td>\n      <td>1.995279e-07+1.615587e-                    27j</td>\n      <td>1.419574e-06+0.000000e+                    00j</td>\n      <td>1.419574e-06+6.462349e-                    27j</td>\n      <td>8.956478e-08+1.514613e-                    28j</td>\n      <td>8.956478e-08+0.000000e+                    00j</td>\n      <td>5.704843e-07+0.000000e+                    00j</td>\n      <td>5.704843e-07-4.038968e-                    28j</td>\n      <td>6.381604e-07+0.000000e+                    00j</td>\n      <td>6.381604e-07-3.635071e-                    27j</td>\n      <td>1.071831e-06-2.322407e-                    27j</td>\n    </tr>\n    <tr>\n      <th>6</th>\n      <td>Yb</td>\n      <td>F</td>\n      <td>2.675761e-16+0.000000e+                    00j</td>\n      <td>2.675761e-16-3.009266e-                    36j</td>\n      <td>6.763285e-15+7.703720e-                    34j</td>\n      <td>6.763282e-15+0.000000e+                    00j</td>\n      <td>6.720381e-15+0.000000e+                    00j</td>\n      <td>6.720377e-15+7.703720e-                    34j</td>\n      <td>6.976199e-15+0.000000e+                    00j</td>\n      <td>6.976199e-15+1.155558e-                    33j</td>\n      <td>...</td>\n      <td>9.988031e-01+4.235165e-                    22j</td>\n      <td>9.987198e-01-8.470329e-                    22j</td>\n      <td>9.987198e-01+0.000000e+                    00j</td>\n      <td>9.998517e-01-9.926167e-                    24j</td>\n      <td>9.998517e-01+0.000000e+                    00j</td>\n      <td>9.994862e-01+7.940934e-                    23j</td>\n      <td>9.994862e-01+6.617445e-                    24j</td>\n      <td>9.994315e-01+8.470329e-                    22j</td>\n      <td>9.994315e-01+0.000000e+                    00j</td>\n      <td>9.992044e-01+2.977850e-                    23j</td>\n    </tr>\n  </tbody>\n</table>\n<p>7 rows × 393 columns</p>\n</div>"
     },
     "execution_count": 35,
     "metadata": {},
     "output_type": "execute_result"
    }
   ],
   "source": [
    "partorb"
   ],
   "metadata": {
    "collapsed": false,
    "ExecuteTime": {
     "end_time": "2024-02-29T19:42:17.212749Z",
     "start_time": "2024-02-29T19:42:17.157622Z"
    }
   },
   "id": "7f040e2c53f450bd",
   "execution_count": 35
  },
  {
   "cell_type": "code",
   "outputs": [
    {
     "data": {
      "text/plain": "  element  L                                             MO1\n0       I  S  3.384951e-15+5.175937e-                    34j\n1       I  P  5.849324e-12+3.648482e-                    30j\n2       I  D  2.589484e-15+3.129636e-                    34j\n3      Yb  S  1.000000e+00+3.902396e-                    29j\n4      Yb  P  2.272947e-17+1.805559e-                    35j\n5      Yb  D  1.620597e-16+0.000000e+                    00j\n6      Yb  F  2.675761e-16+0.000000e+                    00j",
      "text/html": "<div>\n<style scoped>\n    .dataframe tbody tr th:only-of-type {\n        vertical-align: middle;\n    }\n\n    .dataframe tbody tr th {\n        vertical-align: top;\n    }\n\n    .dataframe thead th {\n        text-align: right;\n    }\n</style>\n<table border=\"1\" class=\"dataframe\">\n  <thead>\n    <tr style=\"text-align: right;\">\n      <th></th>\n      <th>element</th>\n      <th>L</th>\n      <th>MO1</th>\n    </tr>\n  </thead>\n  <tbody>\n    <tr>\n      <th>0</th>\n      <td>I</td>\n      <td>S</td>\n      <td>3.384951e-15+5.175937e-                    34j</td>\n    </tr>\n    <tr>\n      <th>1</th>\n      <td>I</td>\n      <td>P</td>\n      <td>5.849324e-12+3.648482e-                    30j</td>\n    </tr>\n    <tr>\n      <th>2</th>\n      <td>I</td>\n      <td>D</td>\n      <td>2.589484e-15+3.129636e-                    34j</td>\n    </tr>\n    <tr>\n      <th>3</th>\n      <td>Yb</td>\n      <td>S</td>\n      <td>1.000000e+00+3.902396e-                    29j</td>\n    </tr>\n    <tr>\n      <th>4</th>\n      <td>Yb</td>\n      <td>P</td>\n      <td>2.272947e-17+1.805559e-                    35j</td>\n    </tr>\n    <tr>\n      <th>5</th>\n      <td>Yb</td>\n      <td>D</td>\n      <td>1.620597e-16+0.000000e+                    00j</td>\n    </tr>\n    <tr>\n      <th>6</th>\n      <td>Yb</td>\n      <td>F</td>\n      <td>2.675761e-16+0.000000e+                    00j</td>\n    </tr>\n  </tbody>\n</table>\n</div>"
     },
     "execution_count": 8,
     "metadata": {},
     "output_type": "execute_result"
    }
   ],
   "source": [
    "\n",
    "\n"
   ],
   "metadata": {
    "collapsed": false,
    "ExecuteTime": {
     "end_time": "2024-02-29T19:24:22.909262Z",
     "start_time": "2024-02-29T19:24:22.855124Z"
    }
   },
   "id": "c03eb180be81e283",
   "execution_count": 8
  },
  {
   "cell_type": "code",
   "outputs": [],
   "source": [
    "by = ['element', 'L']\n",
    "fragments = ao.df[by].drop_duplicates().reset_index(drop=True)\n",
    "\n",
    "F = []\n",
    "f = []\n",
    "for i, fragment in fragments.iterrows():\n",
    "    p = np.full(ao.n_ao, True, dtype=np.bool_)\n",
    "    for col, value in fragment.items():\n",
    "        p &= ao.df[col] == value\n",
    "    f.append(p)\n",
    "    F.append(np.outer(p, p))\n",
    "f = np.stack(f)\n",
    "F = np.stack(F)"
   ],
   "metadata": {
    "collapsed": false,
    "ExecuteTime": {
     "end_time": "2024-02-28T14:51:38.928553Z",
     "start_time": "2024-02-28T14:51:38.873576Z"
    }
   },
   "id": "3a40123c91a5b060",
   "execution_count": 32
  },
  {
   "cell_type": "code",
   "outputs": [],
   "source": [
    "P = mo.get_density()\n",
    "S = mo.get_metric()\n",
    "pop = np.einsum('Att,tt->A', F, P @ S, optimize='optimal')\n",
    "fragments['pop'] = pop"
   ],
   "metadata": {
    "collapsed": false,
    "ExecuteTime": {
     "end_time": "2024-02-28T14:51:40.082686Z",
     "start_time": "2024-02-28T14:51:39.887374Z"
    }
   },
   "id": "6e5492c273910355",
   "execution_count": 33
  },
  {
   "cell_type": "code",
   "outputs": [],
   "source": [
    "C = mo.molorb\n",
    "S = mo.get_metric()"
   ],
   "metadata": {
    "collapsed": false,
    "ExecuteTime": {
     "end_time": "2024-02-28T14:51:40.652576Z",
     "start_time": "2024-02-28T14:51:40.590717Z"
    }
   },
   "id": "a9cc3fa6f0e43229",
   "execution_count": 34
  },
  {
   "cell_type": "code",
   "outputs": [],
   "source": [
    "from mctools.core.utils.constants import I2\n",
    "Ip2 = np.einsum('pat,Ftv,tv,ab,pbv->Fp', C, F, S, I2, C.conj(), optimize='optimal')"
   ],
   "metadata": {
    "collapsed": false,
    "ExecuteTime": {
     "end_time": "2024-02-28T14:51:48.725418Z",
     "start_time": "2024-02-28T14:51:46.495337Z"
    }
   },
   "id": "c94eb5be7c65dc1",
   "execution_count": 35
  },
  {
   "cell_type": "code",
   "outputs": [
    {
     "data": {
      "text/plain": "MO1      3\nMO2      3\nMO3      0\nMO4      0\nMO5      0\n        ..\nMO387    6\nMO388    6\nMO389    6\nMO390    6\nMO391    6\nLength: 391, dtype: int64"
     },
     "execution_count": 52,
     "metadata": {},
     "output_type": "execute_result"
    }
   ],
   "source": [
    "frag_idx = (partorb.iloc[:, 2:].abs() ** 2).idxmax(axis=0)\n",
    "frag_idx.T"
   ],
   "metadata": {
    "collapsed": false,
    "ExecuteTime": {
     "end_time": "2024-02-28T14:55:31.848046Z",
     "start_time": "2024-02-28T14:55:31.761216Z"
    }
   },
   "id": "d03b13176430db53",
   "execution_count": 52
  },
  {
   "cell_type": "code",
   "outputs": [],
   "source": [
    "dfmo = mo.df.copy()"
   ],
   "metadata": {
    "collapsed": false,
    "ExecuteTime": {
     "end_time": "2024-02-28T06:59:24.684788Z",
     "start_time": "2024-02-28T06:59:24.627129Z"
    }
   },
   "id": "45bed3105e0e7d5a",
   "execution_count": 8
  },
  {
   "cell_type": "code",
   "outputs": [],
   "source": [
    "labels = fragments[by].apply(lambda r: '_'.join(r[by]), axis=1)\n",
    "df1 = pd.DataFrame(Ip2.T, columns=labels)"
   ],
   "metadata": {
    "collapsed": false,
    "ExecuteTime": {
     "end_time": "2024-02-28T07:01:41.460182Z",
     "start_time": "2024-02-28T07:01:41.405187Z"
    }
   },
   "id": "13d92e9e3f93e9ed",
   "execution_count": 19
  },
  {
   "cell_type": "code",
   "outputs": [
    {
     "data": {
      "text/plain": "     occupied  resource_idx                                             I_S  \\\n0        True             0  3.384951e-15+7.595386e-                    33j   \n1        True             1  3.384951e-15-6.909274e-                    33j   \n2        True             2  1.000000e+00-7.496771e-                    24j   \n3        True             3  1.000000e+00+7.451664e-                    24j   \n4        True             4  1.000000e+00+1.449445e-                    24j   \n..        ...           ...                                             ...   \n421     False           421  1.313954e-02-1.482308e-                    20j   \n422     False           422  1.380578e-02-4.102816e-                    21j   \n423     False           423  1.380578e-02+1.016440e-                    20j   \n424     False           424  1.731698e-02+2.625802e-                    20j   \n425     False           425  1.731698e-02-3.176374e-                    20j   \n\n                                                I_P  \\\n0    5.849324e-12-2.958228e-                    31j   \n1    5.849324e-12+3.895001e-                    30j   \n2    3.625091e-12+2.711709e-                    30j   \n3    3.625090e-12+6.360191e-                    30j   \n4    3.621219e-12-8.283040e-                    30j   \n..                                              ...   \n421  2.019810e-02+5.421011e-                    20j   \n422  2.135368e-02-6.606857e-                    20j   \n423  2.135368e-02+4.743385e-                    20j   \n424  2.569220e-02+2.032879e-                    20j   \n425  2.569220e-02-1.431486e-                    19j   \n\n                                                I_D  \\\n0    2.589484e-15+3.629174e-                    33j   \n1    2.589484e-15-5.657419e-                    34j   \n2    1.354575e-15+9.148167e-                    34j   \n3    1.354576e-15-6.018531e-                    34j   \n4    1.353331e-15+8.185202e-                    34j   \n..                                              ...   \n421  2.602229e-04+1.526148e-                    22j   \n422  2.800468e-04-3.629255e-                    23j   \n423  2.800468e-04+3.699048e-                    23j   \n424  3.277309e-04-1.785676e-                    22j   \n425  3.277309e-04+1.766031e-                    22j   \n\n                                               Yb_S  \\\n0    1.000000e+00-2.108512e-                    22j   \n1    1.000000e+00+2.108512e-                    22j   \n2    5.553231e-14-4.067564e-                    31j   \n3    5.553219e-14+3.697785e-                    31j   \n4    5.515337e-14+1.972152e-                    31j   \n..                                              ...   \n421  1.171841e-04+0.000000e+                    00j   \n422  1.284640e-06-9.926167e-                    24j   \n423  1.284640e-06+9.926167e-                    24j   \n424  3.381545e-07-9.926167e-                    24j   \n425  3.381545e-07+9.926167e-                    24j   \n\n                                               Yb_P  \\\n0    2.272947e-17-1.324077e-                    34j   \n1    2.272946e-17-2.106486e-                    35j   \n2    3.023713e-13-1.417484e-                    31j   \n3    3.023714e-13-3.697785e-                    32j   \n4    3.016969e-13-7.950239e-                    31j   \n..                                              ...   \n421  1.651896e-02+1.340756e-                    21j   \n422  1.697738e-02+2.909711e-                    21j   \n423  1.697738e-02-2.892237e-                    21j   \n424  2.159196e-02-1.431022e-                    21j   \n425  2.159196e-02+1.403519e-                    21j   \n\n                                               Yb_D  \\\n0    1.620597e-16+1.000581e-                    34j   \n1    1.620597e-16-1.429401e-                    35j   \n2    4.734095e-14-9.075945e-                    32j   \n3    4.734100e-14+3.620748e-                    32j   \n4    4.731597e-14-1.540744e-                    32j   \n..                                              ...   \n421  1.139839e-06-1.121217e-                    24j   \n422  2.901400e-06+8.207183e-                    25j   \n423  2.901400e-06-8.336430e-                    25j   \n424  2.741812e-06+1.143836e-                    24j   \n425  2.741812e-06-1.143836e-                    24j   \n\n                                               Yb_F  \n0    2.675761e-16+2.407412e-                    35j  \n1    2.675761e-16-3.009266e-                    35j  \n2    6.763285e-15-1.194077e-                    32j  \n3    6.763282e-15+7.703720e-                    33j  \n4    6.720381e-15+6.162976e-                    33j  \n..                                              ...  \n421  1.012586e+00-6.268044e-                    19j  \n422  1.013627e+00-2.995109e-                    18j  \n423  1.013627e+00+2.981556e-                    18j  \n424  1.015991e+00+4.218224e-                    18j  \n425  1.015991e+00-4.218224e-                    18j  \n\n[426 rows x 9 columns]",
      "text/html": "<div>\n<style scoped>\n    .dataframe tbody tr th:only-of-type {\n        vertical-align: middle;\n    }\n\n    .dataframe tbody tr th {\n        vertical-align: top;\n    }\n\n    .dataframe thead th {\n        text-align: right;\n    }\n</style>\n<table border=\"1\" class=\"dataframe\">\n  <thead>\n    <tr style=\"text-align: right;\">\n      <th></th>\n      <th>occupied</th>\n      <th>resource_idx</th>\n      <th>I_S</th>\n      <th>I_P</th>\n      <th>I_D</th>\n      <th>Yb_S</th>\n      <th>Yb_P</th>\n      <th>Yb_D</th>\n      <th>Yb_F</th>\n    </tr>\n  </thead>\n  <tbody>\n    <tr>\n      <th>0</th>\n      <td>True</td>\n      <td>0</td>\n      <td>3.384951e-15+7.595386e-                    33j</td>\n      <td>5.849324e-12-2.958228e-                    31j</td>\n      <td>2.589484e-15+3.629174e-                    33j</td>\n      <td>1.000000e+00-2.108512e-                    22j</td>\n      <td>2.272947e-17-1.324077e-                    34j</td>\n      <td>1.620597e-16+1.000581e-                    34j</td>\n      <td>2.675761e-16+2.407412e-                    35j</td>\n    </tr>\n    <tr>\n      <th>1</th>\n      <td>True</td>\n      <td>1</td>\n      <td>3.384951e-15-6.909274e-                    33j</td>\n      <td>5.849324e-12+3.895001e-                    30j</td>\n      <td>2.589484e-15-5.657419e-                    34j</td>\n      <td>1.000000e+00+2.108512e-                    22j</td>\n      <td>2.272946e-17-2.106486e-                    35j</td>\n      <td>1.620597e-16-1.429401e-                    35j</td>\n      <td>2.675761e-16-3.009266e-                    35j</td>\n    </tr>\n    <tr>\n      <th>2</th>\n      <td>True</td>\n      <td>2</td>\n      <td>1.000000e+00-7.496771e-                    24j</td>\n      <td>3.625091e-12+2.711709e-                    30j</td>\n      <td>1.354575e-15+9.148167e-                    34j</td>\n      <td>5.553231e-14-4.067564e-                    31j</td>\n      <td>3.023713e-13-1.417484e-                    31j</td>\n      <td>4.734095e-14-9.075945e-                    32j</td>\n      <td>6.763285e-15-1.194077e-                    32j</td>\n    </tr>\n    <tr>\n      <th>3</th>\n      <td>True</td>\n      <td>3</td>\n      <td>1.000000e+00+7.451664e-                    24j</td>\n      <td>3.625090e-12+6.360191e-                    30j</td>\n      <td>1.354576e-15-6.018531e-                    34j</td>\n      <td>5.553219e-14+3.697785e-                    31j</td>\n      <td>3.023714e-13-3.697785e-                    32j</td>\n      <td>4.734100e-14+3.620748e-                    32j</td>\n      <td>6.763282e-15+7.703720e-                    33j</td>\n    </tr>\n    <tr>\n      <th>4</th>\n      <td>True</td>\n      <td>4</td>\n      <td>1.000000e+00+1.449445e-                    24j</td>\n      <td>3.621219e-12-8.283040e-                    30j</td>\n      <td>1.353331e-15+8.185202e-                    34j</td>\n      <td>5.515337e-14+1.972152e-                    31j</td>\n      <td>3.016969e-13-7.950239e-                    31j</td>\n      <td>4.731597e-14-1.540744e-                    32j</td>\n      <td>6.720381e-15+6.162976e-                    33j</td>\n    </tr>\n    <tr>\n      <th>...</th>\n      <td>...</td>\n      <td>...</td>\n      <td>...</td>\n      <td>...</td>\n      <td>...</td>\n      <td>...</td>\n      <td>...</td>\n      <td>...</td>\n      <td>...</td>\n    </tr>\n    <tr>\n      <th>421</th>\n      <td>False</td>\n      <td>421</td>\n      <td>1.313954e-02-1.482308e-                    20j</td>\n      <td>2.019810e-02+5.421011e-                    20j</td>\n      <td>2.602229e-04+1.526148e-                    22j</td>\n      <td>1.171841e-04+0.000000e+                    00j</td>\n      <td>1.651896e-02+1.340756e-                    21j</td>\n      <td>1.139839e-06-1.121217e-                    24j</td>\n      <td>1.012586e+00-6.268044e-                    19j</td>\n    </tr>\n    <tr>\n      <th>422</th>\n      <td>False</td>\n      <td>422</td>\n      <td>1.380578e-02-4.102816e-                    21j</td>\n      <td>2.135368e-02-6.606857e-                    20j</td>\n      <td>2.800468e-04-3.629255e-                    23j</td>\n      <td>1.284640e-06-9.926167e-                    24j</td>\n      <td>1.697738e-02+2.909711e-                    21j</td>\n      <td>2.901400e-06+8.207183e-                    25j</td>\n      <td>1.013627e+00-2.995109e-                    18j</td>\n    </tr>\n    <tr>\n      <th>423</th>\n      <td>False</td>\n      <td>423</td>\n      <td>1.380578e-02+1.016440e-                    20j</td>\n      <td>2.135368e-02+4.743385e-                    20j</td>\n      <td>2.800468e-04+3.699048e-                    23j</td>\n      <td>1.284640e-06+9.926167e-                    24j</td>\n      <td>1.697738e-02-2.892237e-                    21j</td>\n      <td>2.901400e-06-8.336430e-                    25j</td>\n      <td>1.013627e+00+2.981556e-                    18j</td>\n    </tr>\n    <tr>\n      <th>424</th>\n      <td>False</td>\n      <td>424</td>\n      <td>1.731698e-02+2.625802e-                    20j</td>\n      <td>2.569220e-02+2.032879e-                    20j</td>\n      <td>3.277309e-04-1.785676e-                    22j</td>\n      <td>3.381545e-07-9.926167e-                    24j</td>\n      <td>2.159196e-02-1.431022e-                    21j</td>\n      <td>2.741812e-06+1.143836e-                    24j</td>\n      <td>1.015991e+00+4.218224e-                    18j</td>\n    </tr>\n    <tr>\n      <th>425</th>\n      <td>False</td>\n      <td>425</td>\n      <td>1.731698e-02-3.176374e-                    20j</td>\n      <td>2.569220e-02-1.431486e-                    19j</td>\n      <td>3.277309e-04+1.766031e-                    22j</td>\n      <td>3.381545e-07+9.926167e-                    24j</td>\n      <td>2.159196e-02+1.403519e-                    21j</td>\n      <td>2.741812e-06-1.143836e-                    24j</td>\n      <td>1.015991e+00-4.218224e-                    18j</td>\n    </tr>\n  </tbody>\n</table>\n<p>426 rows × 9 columns</p>\n</div>"
     },
     "execution_count": 20,
     "metadata": {},
     "output_type": "execute_result"
    }
   ],
   "source": [
    "pd.concat([dfmo, df1], axis=1)"
   ],
   "metadata": {
    "collapsed": false,
    "ExecuteTime": {
     "end_time": "2024-02-28T07:02:10.598443Z",
     "start_time": "2024-02-28T07:02:10.538162Z"
    }
   },
   "id": "91dc24d5e481f286",
   "execution_count": 20
  },
  {
   "cell_type": "code",
   "outputs": [
    {
     "ename": "NameError",
     "evalue": "name 'Ip2' is not defined",
     "output_type": "error",
     "traceback": [
      "\u001B[0;31m---------------------------------------------------------------------------\u001B[0m",
      "\u001B[0;31mNameError\u001B[0m                                 Traceback (most recent call last)",
      "Cell \u001B[0;32mIn[8], line 1\u001B[0m\n\u001B[0;32m----> 1\u001B[0m Ip2 \u001B[38;5;241m=\u001B[39m pd\u001B[38;5;241m.\u001B[39mDataFrame(\u001B[43mIp2\u001B[49m, columns\u001B[38;5;241m=\u001B[39m[\u001B[38;5;124mf\u001B[39m\u001B[38;5;124m'\u001B[39m\u001B[38;5;124mMO\u001B[39m\u001B[38;5;132;01m{\u001B[39;00mp\u001B[38;5;132;01m}\u001B[39;00m\u001B[38;5;124m'\u001B[39m \u001B[38;5;28;01mfor\u001B[39;00m p \u001B[38;5;129;01min\u001B[39;00m \u001B[38;5;28mrange\u001B[39m(\u001B[38;5;241m1\u001B[39m, Ip2\u001B[38;5;241m.\u001B[39mshape[\u001B[38;5;241m-\u001B[39m\u001B[38;5;241m1\u001B[39m] \u001B[38;5;241m+\u001B[39m \u001B[38;5;241m1\u001B[39m)])\n",
      "\u001B[0;31mNameError\u001B[0m: name 'Ip2' is not defined"
     ]
    }
   ],
   "source": [
    "Ip2 = pd.DataFrame(Ip2, columns=[f'MO{p}' for p in range(1, Ip2.shape[-1] + 1)])"
   ],
   "metadata": {
    "collapsed": false,
    "ExecuteTime": {
     "end_time": "2024-02-28T06:48:33.195628Z",
     "start_time": "2024-02-28T06:48:33.112670Z"
    }
   },
   "id": "9e450d8bd5dfb4a2",
   "execution_count": 8
  },
  {
   "cell_type": "code",
   "outputs": [],
   "source": [
    "C_inv = np.einsum('pat,tt,ab,pbt->pt', C, S, I2, C.conj(), optimize='optimal')\n",
    "Ip3 = np.einsum('ft,pt->fp', f, C_inv, optimize='optimal')"
   ],
   "metadata": {
    "collapsed": false,
    "ExecuteTime": {
     "end_time": "2024-02-28T06:29:51.167212Z",
     "start_time": "2024-02-28T06:29:51.095335Z"
    }
   },
   "id": "3c209fc9c5ccc945",
   "execution_count": 116
  },
  {
   "cell_type": "code",
   "outputs": [
    {
     "data": {
      "text/plain": "  element  l                                             MO1  \\\n0       I  0  3.384951e-15+7.595386e-                    33j   \n1       I  1  5.849324e-12-2.958228e-                    31j   \n2       I  2  2.589484e-15+3.629174e-                    33j   \n3      Yb  0  1.000000e+00-2.108512e-                    22j   \n4      Yb  1  2.272947e-17-1.324077e-                    34j   \n5      Yb  2  1.620597e-16+1.000581e-                    34j   \n6      Yb  3  2.675761e-16+2.407412e-                    35j   \n\n                                              MO2  \\\n0  3.384951e-15-6.909274e-                    33j   \n1  5.849324e-12+3.895001e-                    30j   \n2  2.589484e-15-5.657419e-                    34j   \n3  1.000000e+00+2.108512e-                    22j   \n4  2.272946e-17-2.106486e-                    35j   \n5  1.620597e-16-1.429401e-                    35j   \n6  2.675761e-16-3.009266e-                    35j   \n\n                                              MO3  \\\n0  1.000000e+00-7.496771e-                    24j   \n1  3.625091e-12+2.711709e-                    30j   \n2  1.354575e-15+9.148167e-                    34j   \n3  5.553231e-14-4.067564e-                    31j   \n4  3.023713e-13-1.417484e-                    31j   \n5  4.734095e-14-9.075945e-                    32j   \n6  6.763285e-15-1.194077e-                    32j   \n\n                                              MO4  \\\n0  1.000000e+00+7.451664e-                    24j   \n1  3.625090e-12+6.360191e-                    30j   \n2  1.354576e-15-6.018531e-                    34j   \n3  5.553219e-14+3.697785e-                    31j   \n4  3.023714e-13-3.697785e-                    32j   \n5  4.734100e-14+3.620748e-                    32j   \n6  6.763282e-15+7.703720e-                    33j   \n\n                                              MO5  \\\n0  1.000000e+00+1.449445e-                    24j   \n1  3.621219e-12-8.283040e-                    30j   \n2  1.353331e-15+8.185202e-                    34j   \n3  5.515337e-14+1.972152e-                    31j   \n4  3.016969e-13-7.950239e-                    31j   \n5  4.731597e-14-1.540744e-                    32j   \n6  6.720381e-15+6.162976e-                    33j   \n\n                                              MO6  \\\n0  1.000000e+00-1.355231e-                    20j   \n1  3.621217e-12-5.916457e-                    30j   \n2  1.353331e-15+6.018531e-                    35j   \n3  5.515325e-14+2.095412e-                    31j   \n4  3.016969e-13+6.779273e-                    31j   \n5  4.731602e-14+3.081488e-                    33j   \n6  6.720377e-15-6.162976e-                    33j   \n\n                                              MO7  \\\n0  1.000000e+00-1.355894e-                    20j   \n1  3.645822e-12-3.254051e-                    30j   \n2  1.357607e-15+7.944461e-                    34j   \n3  5.529647e-14-2.095412e-                    31j   \n4  3.097693e-13+9.860761e-                    32j   \n5  4.901534e-14+1.540744e-                    33j   \n6  6.976199e-15-6.162976e-                    33j   \n\n                                              MO8  ...  \\\n0  1.000000e+00+1.356556e-                    20j  ...   \n1  3.645822e-12-1.262177e-                    29j  ...   \n2  1.357607e-15+7.222237e-                    35j  ...   \n3  5.529647e-14+0.000000e+                    00j  ...   \n4  3.097693e-13+3.482081e-                    31j  ...   \n5  4.901534e-14-7.703720e-                    33j  ...   \n6  6.976199e-15+1.925930e-                    33j  ...   \n\n                                            MO417  \\\n0  4.570007e-03+1.058791e-                    21j   \n1  9.646433e-03-4.743385e-                    20j   \n2  1.378991e-04+8.106370e-                    23j   \n3  3.575627e-04+2.541099e-                    21j   \n4  5.522034e-03+3.578952e-                    21j   \n5  3.655128e-07+1.203612e-                    25j   \n6  1.006344e+00+1.768605e-                    18j   \n\n                                            MO418  \\\n0  4.570007e-03-2.541099e-                    21j   \n1  9.646433e-03+2.541099e-                    20j   \n2  1.378991e-04-8.023652e-                    23j   \n3  3.575627e-04-2.435220e-                    21j   \n4  5.522034e-03-3.603406e-                    21j   \n5  3.655128e-07-1.163223e-                    25j   \n6  1.006344e+00-1.792322e-                    18j   \n\n                                            MO419  \\\n0  1.129820e-04+1.290402e-                    22j   \n1  2.255275e-03+8.470329e-                    22j   \n2  4.430510e-05-2.820169e-                    23j   \n3  1.241591e-04+0.000000e+                    00j   \n4  1.254307e-05-5.210269e-                    26j   \n5  2.837668e-07+1.777146e-                    26j   \n6  1.001817e+00-3.049319e-                    20j   \n\n                                            MO420               MO421  \\\n0  1.129820e-04-1.191140e-                    22j  0.013140+0.000000j   \n1  2.255275e-03+4.446923e-                    21j  0.020198-0.000000j   \n2  4.430510e-05+2.729696e-                    23j  0.000260-0.000000j   \n3  1.241591e-04+0.000000e+                    00j  0.000117+0.000000j   \n4  1.254307e-05+2.071990e-                    25j  0.016519-0.000000j   \n5  2.837668e-07-1.777146e-                    26j  0.000001+0.000000j   \n6  1.001817e+00+3.049319e-                    20j  1.012586+0.000000j   \n\n                MO422               MO423               MO424  \\\n0  0.013140-0.000000j  0.013806-0.000000j  0.013806+0.000000j   \n1  0.020198+0.000000j  0.021354-0.000000j  0.021354+0.000000j   \n2  0.000260+0.000000j  0.000280-0.000000j  0.000280+0.000000j   \n3  0.000117+0.000000j  0.000001-0.000000j  0.000001+0.000000j   \n4  0.016519+0.000000j  0.016977+0.000000j  0.016977-0.000000j   \n5  0.000001-0.000000j  0.000003+0.000000j  0.000003-0.000000j   \n6  1.012586-0.000000j  1.013627-0.000000j  1.013627+0.000000j   \n\n                                            MO425  \\\n0  1.731698e-02+2.625802e-                    20j   \n1  2.569220e-02+2.032879e-                    20j   \n2  3.277309e-04-1.785676e-                    22j   \n3  3.381545e-07-9.926167e-                    24j   \n4  2.159196e-02-1.431022e-                    21j   \n5  2.741812e-06+1.143836e-                    24j   \n6  1.015991e+00+4.218224e-                    18j   \n\n                                            MO426  \n0  1.731698e-02-3.176374e-                    20j  \n1  2.569220e-02-1.431486e-                    19j  \n2  3.277309e-04+1.766031e-                    22j  \n3  3.381545e-07+9.926167e-                    24j  \n4  2.159196e-02+1.403519e-                    21j  \n5  2.741812e-06-1.143836e-                    24j  \n6  1.015991e+00-4.218224e-                    18j  \n\n[7 rows x 428 columns]",
      "text/html": "<div>\n<style scoped>\n    .dataframe tbody tr th:only-of-type {\n        vertical-align: middle;\n    }\n\n    .dataframe tbody tr th {\n        vertical-align: top;\n    }\n\n    .dataframe thead th {\n        text-align: right;\n    }\n</style>\n<table border=\"1\" class=\"dataframe\">\n  <thead>\n    <tr style=\"text-align: right;\">\n      <th></th>\n      <th>element</th>\n      <th>l</th>\n      <th>MO1</th>\n      <th>MO2</th>\n      <th>MO3</th>\n      <th>MO4</th>\n      <th>MO5</th>\n      <th>MO6</th>\n      <th>MO7</th>\n      <th>MO8</th>\n      <th>...</th>\n      <th>MO417</th>\n      <th>MO418</th>\n      <th>MO419</th>\n      <th>MO420</th>\n      <th>MO421</th>\n      <th>MO422</th>\n      <th>MO423</th>\n      <th>MO424</th>\n      <th>MO425</th>\n      <th>MO426</th>\n    </tr>\n  </thead>\n  <tbody>\n    <tr>\n      <th>0</th>\n      <td>I</td>\n      <td>0</td>\n      <td>3.384951e-15+7.595386e-                    33j</td>\n      <td>3.384951e-15-6.909274e-                    33j</td>\n      <td>1.000000e+00-7.496771e-                    24j</td>\n      <td>1.000000e+00+7.451664e-                    24j</td>\n      <td>1.000000e+00+1.449445e-                    24j</td>\n      <td>1.000000e+00-1.355231e-                    20j</td>\n      <td>1.000000e+00-1.355894e-                    20j</td>\n      <td>1.000000e+00+1.356556e-                    20j</td>\n      <td>...</td>\n      <td>4.570007e-03+1.058791e-                    21j</td>\n      <td>4.570007e-03-2.541099e-                    21j</td>\n      <td>1.129820e-04+1.290402e-                    22j</td>\n      <td>1.129820e-04-1.191140e-                    22j</td>\n      <td>0.013140+0.000000j</td>\n      <td>0.013140-0.000000j</td>\n      <td>0.013806-0.000000j</td>\n      <td>0.013806+0.000000j</td>\n      <td>1.731698e-02+2.625802e-                    20j</td>\n      <td>1.731698e-02-3.176374e-                    20j</td>\n    </tr>\n    <tr>\n      <th>1</th>\n      <td>I</td>\n      <td>1</td>\n      <td>5.849324e-12-2.958228e-                    31j</td>\n      <td>5.849324e-12+3.895001e-                    30j</td>\n      <td>3.625091e-12+2.711709e-                    30j</td>\n      <td>3.625090e-12+6.360191e-                    30j</td>\n      <td>3.621219e-12-8.283040e-                    30j</td>\n      <td>3.621217e-12-5.916457e-                    30j</td>\n      <td>3.645822e-12-3.254051e-                    30j</td>\n      <td>3.645822e-12-1.262177e-                    29j</td>\n      <td>...</td>\n      <td>9.646433e-03-4.743385e-                    20j</td>\n      <td>9.646433e-03+2.541099e-                    20j</td>\n      <td>2.255275e-03+8.470329e-                    22j</td>\n      <td>2.255275e-03+4.446923e-                    21j</td>\n      <td>0.020198-0.000000j</td>\n      <td>0.020198+0.000000j</td>\n      <td>0.021354-0.000000j</td>\n      <td>0.021354+0.000000j</td>\n      <td>2.569220e-02+2.032879e-                    20j</td>\n      <td>2.569220e-02-1.431486e-                    19j</td>\n    </tr>\n    <tr>\n      <th>2</th>\n      <td>I</td>\n      <td>2</td>\n      <td>2.589484e-15+3.629174e-                    33j</td>\n      <td>2.589484e-15-5.657419e-                    34j</td>\n      <td>1.354575e-15+9.148167e-                    34j</td>\n      <td>1.354576e-15-6.018531e-                    34j</td>\n      <td>1.353331e-15+8.185202e-                    34j</td>\n      <td>1.353331e-15+6.018531e-                    35j</td>\n      <td>1.357607e-15+7.944461e-                    34j</td>\n      <td>1.357607e-15+7.222237e-                    35j</td>\n      <td>...</td>\n      <td>1.378991e-04+8.106370e-                    23j</td>\n      <td>1.378991e-04-8.023652e-                    23j</td>\n      <td>4.430510e-05-2.820169e-                    23j</td>\n      <td>4.430510e-05+2.729696e-                    23j</td>\n      <td>0.000260-0.000000j</td>\n      <td>0.000260+0.000000j</td>\n      <td>0.000280-0.000000j</td>\n      <td>0.000280+0.000000j</td>\n      <td>3.277309e-04-1.785676e-                    22j</td>\n      <td>3.277309e-04+1.766031e-                    22j</td>\n    </tr>\n    <tr>\n      <th>3</th>\n      <td>Yb</td>\n      <td>0</td>\n      <td>1.000000e+00-2.108512e-                    22j</td>\n      <td>1.000000e+00+2.108512e-                    22j</td>\n      <td>5.553231e-14-4.067564e-                    31j</td>\n      <td>5.553219e-14+3.697785e-                    31j</td>\n      <td>5.515337e-14+1.972152e-                    31j</td>\n      <td>5.515325e-14+2.095412e-                    31j</td>\n      <td>5.529647e-14-2.095412e-                    31j</td>\n      <td>5.529647e-14+0.000000e+                    00j</td>\n      <td>...</td>\n      <td>3.575627e-04+2.541099e-                    21j</td>\n      <td>3.575627e-04-2.435220e-                    21j</td>\n      <td>1.241591e-04+0.000000e+                    00j</td>\n      <td>1.241591e-04+0.000000e+                    00j</td>\n      <td>0.000117+0.000000j</td>\n      <td>0.000117+0.000000j</td>\n      <td>0.000001-0.000000j</td>\n      <td>0.000001+0.000000j</td>\n      <td>3.381545e-07-9.926167e-                    24j</td>\n      <td>3.381545e-07+9.926167e-                    24j</td>\n    </tr>\n    <tr>\n      <th>4</th>\n      <td>Yb</td>\n      <td>1</td>\n      <td>2.272947e-17-1.324077e-                    34j</td>\n      <td>2.272946e-17-2.106486e-                    35j</td>\n      <td>3.023713e-13-1.417484e-                    31j</td>\n      <td>3.023714e-13-3.697785e-                    32j</td>\n      <td>3.016969e-13-7.950239e-                    31j</td>\n      <td>3.016969e-13+6.779273e-                    31j</td>\n      <td>3.097693e-13+9.860761e-                    32j</td>\n      <td>3.097693e-13+3.482081e-                    31j</td>\n      <td>...</td>\n      <td>5.522034e-03+3.578952e-                    21j</td>\n      <td>5.522034e-03-3.603406e-                    21j</td>\n      <td>1.254307e-05-5.210269e-                    26j</td>\n      <td>1.254307e-05+2.071990e-                    25j</td>\n      <td>0.016519-0.000000j</td>\n      <td>0.016519+0.000000j</td>\n      <td>0.016977+0.000000j</td>\n      <td>0.016977-0.000000j</td>\n      <td>2.159196e-02-1.431022e-                    21j</td>\n      <td>2.159196e-02+1.403519e-                    21j</td>\n    </tr>\n    <tr>\n      <th>5</th>\n      <td>Yb</td>\n      <td>2</td>\n      <td>1.620597e-16+1.000581e-                    34j</td>\n      <td>1.620597e-16-1.429401e-                    35j</td>\n      <td>4.734095e-14-9.075945e-                    32j</td>\n      <td>4.734100e-14+3.620748e-                    32j</td>\n      <td>4.731597e-14-1.540744e-                    32j</td>\n      <td>4.731602e-14+3.081488e-                    33j</td>\n      <td>4.901534e-14+1.540744e-                    33j</td>\n      <td>4.901534e-14-7.703720e-                    33j</td>\n      <td>...</td>\n      <td>3.655128e-07+1.203612e-                    25j</td>\n      <td>3.655128e-07-1.163223e-                    25j</td>\n      <td>2.837668e-07+1.777146e-                    26j</td>\n      <td>2.837668e-07-1.777146e-                    26j</td>\n      <td>0.000001+0.000000j</td>\n      <td>0.000001-0.000000j</td>\n      <td>0.000003+0.000000j</td>\n      <td>0.000003-0.000000j</td>\n      <td>2.741812e-06+1.143836e-                    24j</td>\n      <td>2.741812e-06-1.143836e-                    24j</td>\n    </tr>\n    <tr>\n      <th>6</th>\n      <td>Yb</td>\n      <td>3</td>\n      <td>2.675761e-16+2.407412e-                    35j</td>\n      <td>2.675761e-16-3.009266e-                    35j</td>\n      <td>6.763285e-15-1.194077e-                    32j</td>\n      <td>6.763282e-15+7.703720e-                    33j</td>\n      <td>6.720381e-15+6.162976e-                    33j</td>\n      <td>6.720377e-15-6.162976e-                    33j</td>\n      <td>6.976199e-15-6.162976e-                    33j</td>\n      <td>6.976199e-15+1.925930e-                    33j</td>\n      <td>...</td>\n      <td>1.006344e+00+1.768605e-                    18j</td>\n      <td>1.006344e+00-1.792322e-                    18j</td>\n      <td>1.001817e+00-3.049319e-                    20j</td>\n      <td>1.001817e+00+3.049319e-                    20j</td>\n      <td>1.012586+0.000000j</td>\n      <td>1.012586-0.000000j</td>\n      <td>1.013627-0.000000j</td>\n      <td>1.013627+0.000000j</td>\n      <td>1.015991e+00+4.218224e-                    18j</td>\n      <td>1.015991e+00-4.218224e-                    18j</td>\n    </tr>\n  </tbody>\n</table>\n<p>7 rows × 428 columns</p>\n</div>"
     },
     "execution_count": 127,
     "metadata": {},
     "output_type": "execute_result"
    }
   ],
   "source": [
    "pd.concat([fragments, Ip2], axis=1)"
   ],
   "metadata": {
    "collapsed": false,
    "ExecuteTime": {
     "end_time": "2024-02-28T06:38:25.847433Z",
     "start_time": "2024-02-28T06:38:25.807642Z"
    }
   },
   "id": "afd009fbefef6589",
   "execution_count": 127
  },
  {
   "cell_type": "code",
   "outputs": [
    {
     "name": "stdout",
     "output_type": "stream",
     "text": [
      "  Complete contraction:  pat,Ftv,tv,ab,pbv->Fp\n",
      "         Naive scaling:  6\n",
      "     Optimized scaling:  5\n",
      "      Naive FLOP count:  2.706e+09\n",
      "  Optimized FLOP count:  8.128e+08\n",
      "   Theoretical speedup:  3.329\n",
      "  Largest intermediate:  3.176e+05 elements\n",
      "--------------------------------------------------------------------------\n",
      "scaling                  current                                remaining\n",
      "--------------------------------------------------------------------------\n",
      "   4                 ab,pat->btp                       Ftv,tv,pbv,btp->Fp\n",
      "   3                 tv,Ftv->Ftv                          pbv,btp,Ftv->Fp\n",
      "   5             Ftv,btp,pbv->Fp                                   Fp->Fp\n"
     ]
    }
   ],
   "source": [
    "path, info = np.einsum_path('pat,Ftv,tv,ab,pbv->Fp', C, F, S, I2, C.conj(), optimize='optimal')\n",
    "print(info)"
   ],
   "metadata": {
    "collapsed": false,
    "ExecuteTime": {
     "end_time": "2024-02-28T06:09:34.037487Z",
     "start_time": "2024-02-28T06:09:33.967100Z"
    }
   },
   "id": "c946e4931e300c23",
   "execution_count": 79
  },
  {
   "cell_type": "code",
   "outputs": [
    {
     "data": {
      "text/plain": "False"
     },
     "execution_count": 76,
     "metadata": {},
     "output_type": "execute_result"
    }
   ],
   "source": [
    "np.array_equal(Ip1, Ip2)"
   ],
   "metadata": {
    "collapsed": false,
    "ExecuteTime": {
     "end_time": "2024-02-28T06:09:08.808047Z",
     "start_time": "2024-02-28T06:09:08.763016Z"
    }
   },
   "id": "eae50fe3e64d536",
   "execution_count": 76
  },
  {
   "cell_type": "code",
   "outputs": [
    {
     "data": {
      "text/plain": "\u001B[34m╭─\u001B[0m\u001B[34m────────────────────────────────────────\u001B[0m\u001B[34m \u001B[0m\u001B[1;34m<\u001B[0m\u001B[1;95mclass\u001B[0m\u001B[39m \u001B[0m\u001B[32m'h5py._hl.files.File'\u001B[0m\u001B[1;34m>\u001B[0m\u001B[34m \u001B[0m\u001B[34m────────────────────────────────────────\u001B[0m\u001B[34m─╮\u001B[0m\n\u001B[34m│\u001B[0m \u001B[3;96mclass \u001B[0m\u001B[1;31mFile\u001B[0m\u001B[1m(\u001B[0mname, \u001B[33mmode\u001B[0m=\u001B[32m'r'\u001B[0m, \u001B[33mdriver\u001B[0m=\u001B[3;35mNone\u001B[0m, \u001B[33mlibver\u001B[0m=\u001B[3;35mNone\u001B[0m, \u001B[33muserblock_size\u001B[0m=\u001B[3;35mNone\u001B[0m, \u001B[33mswmr\u001B[0m=\u001B[3;91mFalse\u001B[0m, \u001B[33mrdcc_nslots\u001B[0m=\u001B[3;35mNone\u001B[0m,         \u001B[34m│\u001B[0m\n\u001B[34m│\u001B[0m \u001B[33mrdcc_nbytes\u001B[0m=\u001B[3;35mNone\u001B[0m, \u001B[33mrdcc_w0\u001B[0m=\u001B[3;35mNone\u001B[0m, \u001B[33mtrack_order\u001B[0m=\u001B[3;35mNone\u001B[0m, \u001B[33mfs_strategy\u001B[0m=\u001B[3;35mNone\u001B[0m, \u001B[33mfs_persist\u001B[0m=\u001B[3;91mFalse\u001B[0m, \u001B[33mfs_threshold\u001B[0m=\u001B[1;36m1\u001B[0m,           \u001B[34m│\u001B[0m\n\u001B[34m│\u001B[0m \u001B[33mfs_page_size\u001B[0m=\u001B[3;35mNone\u001B[0m, \u001B[33mpage_buf_size\u001B[0m=\u001B[3;35mNone\u001B[0m, \u001B[33mmin_meta_keep\u001B[0m=\u001B[1;36m0\u001B[0m, \u001B[33mmin_raw_keep\u001B[0m=\u001B[1;36m0\u001B[0m, \u001B[33mlocking\u001B[0m=\u001B[3;35mNone\u001B[0m, \u001B[33malignment_threshold\u001B[0m=\u001B[1;36m1\u001B[0m,    \u001B[34m│\u001B[0m\n\u001B[34m│\u001B[0m \u001B[33malignment_interval\u001B[0m=\u001B[1;36m1\u001B[0m, \u001B[33mmeta_block_size\u001B[0m=\u001B[3;35mNone\u001B[0m, **kwds\u001B[1m)\u001B[0m:                                                            \u001B[34m│\u001B[0m\n\u001B[34m│\u001B[0m                                                                                                                 \u001B[34m│\u001B[0m\n\u001B[34m│\u001B[0m \u001B[36mRepresents an HDF5 file.\u001B[0m                                                                                        \u001B[34m│\u001B[0m\n\u001B[34m│\u001B[0m                                                                                                                 \u001B[34m│\u001B[0m\n\u001B[34m│\u001B[0m           \u001B[3;33mattrs\u001B[0m = \u001B[1m<\u001B[0m\u001B[1;95mproperty\u001B[0m\u001B[39m object at \u001B[0m\u001B[1;36m0x118dbfce0\u001B[0m\u001B[1m>\u001B[0m                                                              \u001B[34m│\u001B[0m\n\u001B[34m│\u001B[0m          \u001B[3;33mdriver\u001B[0m = \u001B[1m<\u001B[0m\u001B[1;95mproperty\u001B[0m\u001B[39m object at \u001B[0m\u001B[1;36m0x119121fd0\u001B[0m\u001B[1m>\u001B[0m                                                              \u001B[34m│\u001B[0m\n\u001B[34m│\u001B[0m            \u001B[3;33mfile\u001B[0m = \u001B[1m<\u001B[0m\u001B[1;95mproperty\u001B[0m\u001B[39m object at \u001B[0m\u001B[1;36m0x118dbf2e0\u001B[0m\u001B[1m>\u001B[0m                                                              \u001B[34m│\u001B[0m\n\u001B[34m│\u001B[0m        \u001B[3;33mfilename\u001B[0m = \u001B[1m<\u001B[0m\u001B[1;95mproperty\u001B[0m\u001B[39m object at \u001B[0m\u001B[1;36m0x118dbfdd0\u001B[0m\u001B[1m>\u001B[0m                                                              \u001B[34m│\u001B[0m\n\u001B[34m│\u001B[0m              \u001B[3;33mid\u001B[0m = \u001B[1m<\u001B[0m\u001B[1;95mproperty\u001B[0m\u001B[39m object at \u001B[0m\u001B[1;36m0x118dbf790\u001B[0m\u001B[1m>\u001B[0m                                                              \u001B[34m│\u001B[0m\n\u001B[34m│\u001B[0m          \u001B[3;33mlibver\u001B[0m = \u001B[1m<\u001B[0m\u001B[1;95mproperty\u001B[0m\u001B[39m object at \u001B[0m\u001B[1;36m0x119122020\u001B[0m\u001B[1m>\u001B[0m                                                              \u001B[34m│\u001B[0m\n\u001B[34m│\u001B[0m \u001B[3;33mmeta_block_size\u001B[0m = \u001B[1m<\u001B[0m\u001B[1;95mproperty\u001B[0m\u001B[39m object at \u001B[0m\u001B[1;36m0x1191220c0\u001B[0m\u001B[1m>\u001B[0m                                                              \u001B[34m│\u001B[0m\n\u001B[34m│\u001B[0m            \u001B[3;33mmode\u001B[0m = \u001B[1m<\u001B[0m\u001B[1;95mproperty\u001B[0m\u001B[39m object at \u001B[0m\u001B[1;36m0x119121f80\u001B[0m\u001B[1m>\u001B[0m                                                              \u001B[34m│\u001B[0m\n\u001B[34m│\u001B[0m            \u001B[3;33mname\u001B[0m = \u001B[1m<\u001B[0m\u001B[1;95mproperty\u001B[0m\u001B[39m object at \u001B[0m\u001B[1;36m0x118dbf380\u001B[0m\u001B[1m>\u001B[0m                                                              \u001B[34m│\u001B[0m\n\u001B[34m│\u001B[0m          \u001B[3;33mparent\u001B[0m = \u001B[1m<\u001B[0m\u001B[1;95mproperty\u001B[0m\u001B[39m object at \u001B[0m\u001B[1;36m0x118dbf4c0\u001B[0m\u001B[1m>\u001B[0m                                                              \u001B[34m│\u001B[0m\n\u001B[34m│\u001B[0m             \u001B[3;33mref\u001B[0m = \u001B[1m<\u001B[0m\u001B[1;95mproperty\u001B[0m\u001B[39m object at \u001B[0m\u001B[1;36m0x118dbf7e0\u001B[0m\u001B[1m>\u001B[0m                                                              \u001B[34m│\u001B[0m\n\u001B[34m│\u001B[0m       \u001B[3;33mregionref\u001B[0m = \u001B[1m<\u001B[0m\u001B[1;95mproperty\u001B[0m\u001B[39m object at \u001B[0m\u001B[1;36m0x118dbf830\u001B[0m\u001B[1m>\u001B[0m                                                              \u001B[34m│\u001B[0m\n\u001B[34m│\u001B[0m       \u001B[3;33mswmr_mode\u001B[0m = \u001B[1m<\u001B[0m\u001B[1;95mproperty\u001B[0m\u001B[39m object at \u001B[0m\u001B[1;36m0x1191221b0\u001B[0m\u001B[1m>\u001B[0m                                                              \u001B[34m│\u001B[0m\n\u001B[34m│\u001B[0m  \u001B[3;33muserblock_size\u001B[0m = \u001B[1m<\u001B[0m\u001B[1;95mproperty\u001B[0m\u001B[39m object at \u001B[0m\u001B[1;36m0x119122070\u001B[0m\u001B[1m>\u001B[0m                                                              \u001B[34m│\u001B[0m\n\u001B[34m╰─────────────────────────────────────────────────────────────────────────────────────────────────────────────────╯\u001B[0m\n",
      "text/html": "<pre style=\"white-space:pre;overflow-x:auto;line-height:normal;font-family:Menlo,'DejaVu Sans Mono',consolas,'Courier New',monospace\"><span style=\"color: #000080; text-decoration-color: #000080\">╭───────────────────────────────────────── </span><span style=\"color: #000080; text-decoration-color: #000080; font-weight: bold\">&lt;</span><span style=\"color: #ff00ff; text-decoration-color: #ff00ff; font-weight: bold\">class</span><span style=\"color: #000000; text-decoration-color: #000000\"> </span><span style=\"color: #008000; text-decoration-color: #008000\">'h5py._hl.files.File'</span><span style=\"color: #000080; text-decoration-color: #000080; font-weight: bold\">&gt;</span><span style=\"color: #000080; text-decoration-color: #000080\"> ─────────────────────────────────────────╮</span>\n<span style=\"color: #000080; text-decoration-color: #000080\">│</span> <span style=\"color: #00ffff; text-decoration-color: #00ffff; font-style: italic\">class </span><span style=\"color: #800000; text-decoration-color: #800000; font-weight: bold\">File</span><span style=\"font-weight: bold\">(</span>name, <span style=\"color: #808000; text-decoration-color: #808000\">mode</span>=<span style=\"color: #008000; text-decoration-color: #008000\">'r'</span>, <span style=\"color: #808000; text-decoration-color: #808000\">driver</span>=<span style=\"color: #800080; text-decoration-color: #800080; font-style: italic\">None</span>, <span style=\"color: #808000; text-decoration-color: #808000\">libver</span>=<span style=\"color: #800080; text-decoration-color: #800080; font-style: italic\">None</span>, <span style=\"color: #808000; text-decoration-color: #808000\">userblock_size</span>=<span style=\"color: #800080; text-decoration-color: #800080; font-style: italic\">None</span>, <span style=\"color: #808000; text-decoration-color: #808000\">swmr</span>=<span style=\"color: #ff0000; text-decoration-color: #ff0000; font-style: italic\">False</span>, <span style=\"color: #808000; text-decoration-color: #808000\">rdcc_nslots</span>=<span style=\"color: #800080; text-decoration-color: #800080; font-style: italic\">None</span>,         <span style=\"color: #000080; text-decoration-color: #000080\">│</span>\n<span style=\"color: #000080; text-decoration-color: #000080\">│</span> <span style=\"color: #808000; text-decoration-color: #808000\">rdcc_nbytes</span>=<span style=\"color: #800080; text-decoration-color: #800080; font-style: italic\">None</span>, <span style=\"color: #808000; text-decoration-color: #808000\">rdcc_w0</span>=<span style=\"color: #800080; text-decoration-color: #800080; font-style: italic\">None</span>, <span style=\"color: #808000; text-decoration-color: #808000\">track_order</span>=<span style=\"color: #800080; text-decoration-color: #800080; font-style: italic\">None</span>, <span style=\"color: #808000; text-decoration-color: #808000\">fs_strategy</span>=<span style=\"color: #800080; text-decoration-color: #800080; font-style: italic\">None</span>, <span style=\"color: #808000; text-decoration-color: #808000\">fs_persist</span>=<span style=\"color: #ff0000; text-decoration-color: #ff0000; font-style: italic\">False</span>, <span style=\"color: #808000; text-decoration-color: #808000\">fs_threshold</span>=<span style=\"color: #008080; text-decoration-color: #008080; font-weight: bold\">1</span>,           <span style=\"color: #000080; text-decoration-color: #000080\">│</span>\n<span style=\"color: #000080; text-decoration-color: #000080\">│</span> <span style=\"color: #808000; text-decoration-color: #808000\">fs_page_size</span>=<span style=\"color: #800080; text-decoration-color: #800080; font-style: italic\">None</span>, <span style=\"color: #808000; text-decoration-color: #808000\">page_buf_size</span>=<span style=\"color: #800080; text-decoration-color: #800080; font-style: italic\">None</span>, <span style=\"color: #808000; text-decoration-color: #808000\">min_meta_keep</span>=<span style=\"color: #008080; text-decoration-color: #008080; font-weight: bold\">0</span>, <span style=\"color: #808000; text-decoration-color: #808000\">min_raw_keep</span>=<span style=\"color: #008080; text-decoration-color: #008080; font-weight: bold\">0</span>, <span style=\"color: #808000; text-decoration-color: #808000\">locking</span>=<span style=\"color: #800080; text-decoration-color: #800080; font-style: italic\">None</span>, <span style=\"color: #808000; text-decoration-color: #808000\">alignment_threshold</span>=<span style=\"color: #008080; text-decoration-color: #008080; font-weight: bold\">1</span>,    <span style=\"color: #000080; text-decoration-color: #000080\">│</span>\n<span style=\"color: #000080; text-decoration-color: #000080\">│</span> <span style=\"color: #808000; text-decoration-color: #808000\">alignment_interval</span>=<span style=\"color: #008080; text-decoration-color: #008080; font-weight: bold\">1</span>, <span style=\"color: #808000; text-decoration-color: #808000\">meta_block_size</span>=<span style=\"color: #800080; text-decoration-color: #800080; font-style: italic\">None</span>, **kwds<span style=\"font-weight: bold\">)</span>:                                                            <span style=\"color: #000080; text-decoration-color: #000080\">│</span>\n<span style=\"color: #000080; text-decoration-color: #000080\">│</span>                                                                                                                 <span style=\"color: #000080; text-decoration-color: #000080\">│</span>\n<span style=\"color: #000080; text-decoration-color: #000080\">│</span> <span style=\"color: #008080; text-decoration-color: #008080\">Represents an HDF5 file.</span>                                                                                        <span style=\"color: #000080; text-decoration-color: #000080\">│</span>\n<span style=\"color: #000080; text-decoration-color: #000080\">│</span>                                                                                                                 <span style=\"color: #000080; text-decoration-color: #000080\">│</span>\n<span style=\"color: #000080; text-decoration-color: #000080\">│</span>           <span style=\"color: #808000; text-decoration-color: #808000; font-style: italic\">attrs</span> = <span style=\"font-weight: bold\">&lt;</span><span style=\"color: #ff00ff; text-decoration-color: #ff00ff; font-weight: bold\">property</span><span style=\"color: #000000; text-decoration-color: #000000\"> object at </span><span style=\"color: #008080; text-decoration-color: #008080; font-weight: bold\">0x118dbfce0</span><span style=\"font-weight: bold\">&gt;</span>                                                              <span style=\"color: #000080; text-decoration-color: #000080\">│</span>\n<span style=\"color: #000080; text-decoration-color: #000080\">│</span>          <span style=\"color: #808000; text-decoration-color: #808000; font-style: italic\">driver</span> = <span style=\"font-weight: bold\">&lt;</span><span style=\"color: #ff00ff; text-decoration-color: #ff00ff; font-weight: bold\">property</span><span style=\"color: #000000; text-decoration-color: #000000\"> object at </span><span style=\"color: #008080; text-decoration-color: #008080; font-weight: bold\">0x119121fd0</span><span style=\"font-weight: bold\">&gt;</span>                                                              <span style=\"color: #000080; text-decoration-color: #000080\">│</span>\n<span style=\"color: #000080; text-decoration-color: #000080\">│</span>            <span style=\"color: #808000; text-decoration-color: #808000; font-style: italic\">file</span> = <span style=\"font-weight: bold\">&lt;</span><span style=\"color: #ff00ff; text-decoration-color: #ff00ff; font-weight: bold\">property</span><span style=\"color: #000000; text-decoration-color: #000000\"> object at </span><span style=\"color: #008080; text-decoration-color: #008080; font-weight: bold\">0x118dbf2e0</span><span style=\"font-weight: bold\">&gt;</span>                                                              <span style=\"color: #000080; text-decoration-color: #000080\">│</span>\n<span style=\"color: #000080; text-decoration-color: #000080\">│</span>        <span style=\"color: #808000; text-decoration-color: #808000; font-style: italic\">filename</span> = <span style=\"font-weight: bold\">&lt;</span><span style=\"color: #ff00ff; text-decoration-color: #ff00ff; font-weight: bold\">property</span><span style=\"color: #000000; text-decoration-color: #000000\"> object at </span><span style=\"color: #008080; text-decoration-color: #008080; font-weight: bold\">0x118dbfdd0</span><span style=\"font-weight: bold\">&gt;</span>                                                              <span style=\"color: #000080; text-decoration-color: #000080\">│</span>\n<span style=\"color: #000080; text-decoration-color: #000080\">│</span>              <span style=\"color: #808000; text-decoration-color: #808000; font-style: italic\">id</span> = <span style=\"font-weight: bold\">&lt;</span><span style=\"color: #ff00ff; text-decoration-color: #ff00ff; font-weight: bold\">property</span><span style=\"color: #000000; text-decoration-color: #000000\"> object at </span><span style=\"color: #008080; text-decoration-color: #008080; font-weight: bold\">0x118dbf790</span><span style=\"font-weight: bold\">&gt;</span>                                                              <span style=\"color: #000080; text-decoration-color: #000080\">│</span>\n<span style=\"color: #000080; text-decoration-color: #000080\">│</span>          <span style=\"color: #808000; text-decoration-color: #808000; font-style: italic\">libver</span> = <span style=\"font-weight: bold\">&lt;</span><span style=\"color: #ff00ff; text-decoration-color: #ff00ff; font-weight: bold\">property</span><span style=\"color: #000000; text-decoration-color: #000000\"> object at </span><span style=\"color: #008080; text-decoration-color: #008080; font-weight: bold\">0x119122020</span><span style=\"font-weight: bold\">&gt;</span>                                                              <span style=\"color: #000080; text-decoration-color: #000080\">│</span>\n<span style=\"color: #000080; text-decoration-color: #000080\">│</span> <span style=\"color: #808000; text-decoration-color: #808000; font-style: italic\">meta_block_size</span> = <span style=\"font-weight: bold\">&lt;</span><span style=\"color: #ff00ff; text-decoration-color: #ff00ff; font-weight: bold\">property</span><span style=\"color: #000000; text-decoration-color: #000000\"> object at </span><span style=\"color: #008080; text-decoration-color: #008080; font-weight: bold\">0x1191220c0</span><span style=\"font-weight: bold\">&gt;</span>                                                              <span style=\"color: #000080; text-decoration-color: #000080\">│</span>\n<span style=\"color: #000080; text-decoration-color: #000080\">│</span>            <span style=\"color: #808000; text-decoration-color: #808000; font-style: italic\">mode</span> = <span style=\"font-weight: bold\">&lt;</span><span style=\"color: #ff00ff; text-decoration-color: #ff00ff; font-weight: bold\">property</span><span style=\"color: #000000; text-decoration-color: #000000\"> object at </span><span style=\"color: #008080; text-decoration-color: #008080; font-weight: bold\">0x119121f80</span><span style=\"font-weight: bold\">&gt;</span>                                                              <span style=\"color: #000080; text-decoration-color: #000080\">│</span>\n<span style=\"color: #000080; text-decoration-color: #000080\">│</span>            <span style=\"color: #808000; text-decoration-color: #808000; font-style: italic\">name</span> = <span style=\"font-weight: bold\">&lt;</span><span style=\"color: #ff00ff; text-decoration-color: #ff00ff; font-weight: bold\">property</span><span style=\"color: #000000; text-decoration-color: #000000\"> object at </span><span style=\"color: #008080; text-decoration-color: #008080; font-weight: bold\">0x118dbf380</span><span style=\"font-weight: bold\">&gt;</span>                                                              <span style=\"color: #000080; text-decoration-color: #000080\">│</span>\n<span style=\"color: #000080; text-decoration-color: #000080\">│</span>          <span style=\"color: #808000; text-decoration-color: #808000; font-style: italic\">parent</span> = <span style=\"font-weight: bold\">&lt;</span><span style=\"color: #ff00ff; text-decoration-color: #ff00ff; font-weight: bold\">property</span><span style=\"color: #000000; text-decoration-color: #000000\"> object at </span><span style=\"color: #008080; text-decoration-color: #008080; font-weight: bold\">0x118dbf4c0</span><span style=\"font-weight: bold\">&gt;</span>                                                              <span style=\"color: #000080; text-decoration-color: #000080\">│</span>\n<span style=\"color: #000080; text-decoration-color: #000080\">│</span>             <span style=\"color: #808000; text-decoration-color: #808000; font-style: italic\">ref</span> = <span style=\"font-weight: bold\">&lt;</span><span style=\"color: #ff00ff; text-decoration-color: #ff00ff; font-weight: bold\">property</span><span style=\"color: #000000; text-decoration-color: #000000\"> object at </span><span style=\"color: #008080; text-decoration-color: #008080; font-weight: bold\">0x118dbf7e0</span><span style=\"font-weight: bold\">&gt;</span>                                                              <span style=\"color: #000080; text-decoration-color: #000080\">│</span>\n<span style=\"color: #000080; text-decoration-color: #000080\">│</span>       <span style=\"color: #808000; text-decoration-color: #808000; font-style: italic\">regionref</span> = <span style=\"font-weight: bold\">&lt;</span><span style=\"color: #ff00ff; text-decoration-color: #ff00ff; font-weight: bold\">property</span><span style=\"color: #000000; text-decoration-color: #000000\"> object at </span><span style=\"color: #008080; text-decoration-color: #008080; font-weight: bold\">0x118dbf830</span><span style=\"font-weight: bold\">&gt;</span>                                                              <span style=\"color: #000080; text-decoration-color: #000080\">│</span>\n<span style=\"color: #000080; text-decoration-color: #000080\">│</span>       <span style=\"color: #808000; text-decoration-color: #808000; font-style: italic\">swmr_mode</span> = <span style=\"font-weight: bold\">&lt;</span><span style=\"color: #ff00ff; text-decoration-color: #ff00ff; font-weight: bold\">property</span><span style=\"color: #000000; text-decoration-color: #000000\"> object at </span><span style=\"color: #008080; text-decoration-color: #008080; font-weight: bold\">0x1191221b0</span><span style=\"font-weight: bold\">&gt;</span>                                                              <span style=\"color: #000080; text-decoration-color: #000080\">│</span>\n<span style=\"color: #000080; text-decoration-color: #000080\">│</span>  <span style=\"color: #808000; text-decoration-color: #808000; font-style: italic\">userblock_size</span> = <span style=\"font-weight: bold\">&lt;</span><span style=\"color: #ff00ff; text-decoration-color: #ff00ff; font-weight: bold\">property</span><span style=\"color: #000000; text-decoration-color: #000000\"> object at </span><span style=\"color: #008080; text-decoration-color: #008080; font-weight: bold\">0x119122070</span><span style=\"font-weight: bold\">&gt;</span>                                                              <span style=\"color: #000080; text-decoration-color: #000080\">│</span>\n<span style=\"color: #000080; text-decoration-color: #000080\">╰─────────────────────────────────────────────────────────────────────────────────────────────────────────────────╯</span>\n</pre>\n"
     },
     "metadata": {},
     "output_type": "display_data"
    }
   ],
   "source": [
    "from rich import inspect\n",
    "import h5py\n",
    "\n",
    "inspect(h5py.File)"
   ],
   "metadata": {
    "collapsed": false,
    "ExecuteTime": {
     "end_time": "2024-02-28T16:10:00.642792Z",
     "start_time": "2024-02-28T16:10:00.587801Z"
    }
   },
   "id": "ab7c7796985f1a58",
   "execution_count": 54
  },
  {
   "cell_type": "code",
   "outputs": [
    {
     "ename": "SyntaxError",
     "evalue": "invalid syntax (1561671745.py, line 1)",
     "output_type": "error",
     "traceback": [
      "\u001B[0;36m  Cell \u001B[0;32mIn[7], line 1\u001B[0;36m\u001B[0m\n\u001B[0;31m    |k = list(data[-1][Link.L302].keys())[0]\u001B[0m\n\u001B[0m    ^\u001B[0m\n\u001B[0;31mSyntaxError\u001B[0m\u001B[0;31m:\u001B[0m invalid syntax\n"
     ]
    }
   ],
   "source": [
    "|k = list(data[-1][Link.L302].keys())[0]"
   ],
   "metadata": {
    "collapsed": false,
    "ExecuteTime": {
     "end_time": "2024-02-28T03:58:13.681782Z",
     "start_time": "2024-02-28T03:58:13.629045Z"
    }
   },
   "id": "ea79133431511452",
   "execution_count": 7
  },
  {
   "cell_type": "code",
   "outputs": [
    {
     "ename": "NameError",
     "evalue": "name 'data' is not defined",
     "output_type": "error",
     "traceback": [
      "\u001B[0;31m---------------------------------------------------------------------------\u001B[0m",
      "\u001B[0;31mNameError\u001B[0m                                 Traceback (most recent call last)",
      "Cell \u001B[0;32mIn[8], line 1\u001B[0m\n\u001B[0;32m----> 1\u001B[0m array \u001B[38;5;241m=\u001B[39m \u001B[43mdata\u001B[49m[\u001B[38;5;241m-\u001B[39m\u001B[38;5;241m1\u001B[39m][Link\u001B[38;5;241m.\u001B[39mL302][Resources\u001B[38;5;241m.\u001B[39mao_int1e_overlap]\n",
      "\u001B[0;31mNameError\u001B[0m: name 'data' is not defined"
     ]
    }
   ],
   "source": [
    "array = data[-1][Link.L302][Resources.ao_int1e_overlap]"
   ],
   "metadata": {
    "collapsed": false,
    "ExecuteTime": {
     "end_time": "2024-02-28T03:58:14.174916Z",
     "start_time": "2024-02-28T03:58:13.688376Z"
    }
   },
   "id": "2b0f35bafe6b5058",
   "execution_count": 8
  },
  {
   "cell_type": "code",
   "outputs": [],
   "source": [
    "dim = 575\n",
    "\n",
    "tril = np.tril_indices(575)\n",
    "matrix = np.zeros((dim, dim))\n",
    "matrix[tril] = array"
   ],
   "metadata": {
    "collapsed": false,
    "ExecuteTime": {
     "start_time": "2024-02-28T03:58:13.889570Z"
    }
   },
   "id": "edd52bf4b738aa78",
   "execution_count": null
  },
  {
   "cell_type": "code",
   "outputs": [
    {
     "ename": "NameError",
     "evalue": "name 'matrix' is not defined",
     "output_type": "error",
     "traceback": [
      "\u001B[0;31m---------------------------------------------------------------------------\u001B[0m",
      "\u001B[0;31mNameError\u001B[0m                                 Traceback (most recent call last)",
      "Cell \u001B[0;32mIn[9], line 1\u001B[0m\n\u001B[0;32m----> 1\u001B[0m m1 \u001B[38;5;241m=\u001B[39m (\u001B[43mmatrix\u001B[49m \u001B[38;5;241m+\u001B[39m matrix\u001B[38;5;241m.\u001B[39mT \u001B[38;5;241m-\u001B[39m matrix\u001B[38;5;241m.\u001B[39mdiagonal())\u001B[38;5;241m.\u001B[39mcopy()\n\u001B[1;32m      2\u001B[0m m2 \u001B[38;5;241m=\u001B[39m matrix\u001B[38;5;241m.\u001B[39mcopy()\n\u001B[1;32m      4\u001B[0m m2 \u001B[38;5;241m+\u001B[39m\u001B[38;5;241m=\u001B[39m m2\u001B[38;5;241m.\u001B[39mT \u001B[38;5;241m-\u001B[39m m2\u001B[38;5;241m.\u001B[39mdiagonal()\n",
      "\u001B[0;31mNameError\u001B[0m: name 'matrix' is not defined"
     ]
    }
   ],
   "source": [
    "m1 = (matrix + matrix.T - matrix.diagonal()).copy()\n",
    "m2 = matrix.copy()\n",
    "\n",
    "m2 += m2.T - m2.diagonal()"
   ],
   "metadata": {
    "collapsed": false,
    "ExecuteTime": {
     "end_time": "2024-02-28T03:58:14.256522Z",
     "start_time": "2024-02-28T03:58:14.186090Z"
    }
   },
   "id": "bb70fda19508f108",
   "execution_count": 9
  },
  {
   "cell_type": "code",
   "outputs": [],
   "source": [],
   "metadata": {
    "collapsed": false,
    "ExecuteTime": {
     "end_time": "2024-02-28T03:58:14.309955Z",
     "start_time": "2024-02-28T03:58:14.207535Z"
    }
   },
   "id": "1b24a23252f43377",
   "execution_count": 9
  },
  {
   "cell_type": "code",
   "outputs": [
    {
     "name": "stdout",
     "output_type": "stream",
     "text": [
      "Number of electrons                        I              391\n",
      "header(header='Number of electrons', dtype=<class 'numpy.int64'>, size=None, value=391)\n",
      "SCF Energy                                 R     -5.674493527405919E+04\n",
      "header(header='SCF Energy', dtype=<class 'numpy.float64'>, size=None, value=-56744.93527405919)\n",
      "Nuclear charges                            R   N=           7\n"
     ]
    },
    {
     "ename": "ValueError",
     "evalue": "invalid literal for int() with base 10: 'None'",
     "output_type": "error",
     "traceback": [
      "\u001B[0;31m---------------------------------------------------------------------------\u001B[0m",
      "\u001B[0;31mValueError\u001B[0m                                Traceback (most recent call last)",
      "Cell \u001B[0;32mIn[10], line 37\u001B[0m\n\u001B[1;32m     35\u001B[0m \u001B[38;5;28;01mfor\u001B[39;00m h \u001B[38;5;129;01min\u001B[39;00m headers:\n\u001B[1;32m     36\u001B[0m     \u001B[38;5;28mprint\u001B[39m(h)\n\u001B[0;32m---> 37\u001B[0m     \u001B[38;5;28;01mif\u001B[39;00m match \u001B[38;5;241m:=\u001B[39m \u001B[43mFCHK_HEADER_PATT\u001B[49m\u001B[38;5;241;43m.\u001B[39;49m\u001B[43mmatch\u001B[49m\u001B[43m(\u001B[49m\u001B[43mh\u001B[49m\u001B[43m)\u001B[49m:\n\u001B[1;32m     38\u001B[0m         \u001B[38;5;28mprint\u001B[39m(match)\n",
      "File \u001B[0;32m~/PycharmProjects/mctools/mctools/parsing/core/pattern.py:80\u001B[0m, in \u001B[0;36mProcessedPattern.match\u001B[0;34m(self, *args, **kwargs)\u001B[0m\n\u001B[1;32m     78\u001B[0m \u001B[38;5;28;01mdef\u001B[39;00m \u001B[38;5;21mmatch\u001B[39m(\u001B[38;5;28mself\u001B[39m, \u001B[38;5;241m*\u001B[39margs, \u001B[38;5;241m*\u001B[39m\u001B[38;5;241m*\u001B[39mkwargs) \u001B[38;5;241m-\u001B[39m\u001B[38;5;241m>\u001B[39m ReturnType \u001B[38;5;241m|\u001B[39m \u001B[38;5;28;01mNone\u001B[39;00m:\n\u001B[1;32m     79\u001B[0m     \u001B[38;5;28;01mif\u001B[39;00m match \u001B[38;5;241m:=\u001B[39m \u001B[38;5;28mself\u001B[39m\u001B[38;5;241m.\u001B[39mpattern\u001B[38;5;241m.\u001B[39mmatch(\u001B[38;5;241m*\u001B[39margs, \u001B[38;5;241m*\u001B[39m\u001B[38;5;241m*\u001B[39mkwargs):\n\u001B[0;32m---> 80\u001B[0m         \u001B[38;5;28;01mreturn\u001B[39;00m \u001B[38;5;28;43mself\u001B[39;49m\u001B[38;5;241;43m.\u001B[39;49m\u001B[43mprocess\u001B[49m\u001B[43m(\u001B[49m\u001B[43mmatch\u001B[49m\u001B[43m)\u001B[49m\n\u001B[1;32m     81\u001B[0m     \u001B[38;5;28;01mreturn\u001B[39;00m \u001B[38;5;28;01mNone\u001B[39;00m\n",
      "File \u001B[0;32m~/PycharmProjects/mctools/mctools/parsing/core/pattern.py:121\u001B[0m, in \u001B[0;36mProcessedPattern.process\u001B[0;34m(self, match)\u001B[0m\n\u001B[1;32m    119\u001B[0m \u001B[38;5;28;01mdef\u001B[39;00m \u001B[38;5;21mprocess\u001B[39m(\u001B[38;5;28mself\u001B[39m, match: re\u001B[38;5;241m.\u001B[39mMatch) \u001B[38;5;241m-\u001B[39m\u001B[38;5;241m>\u001B[39m \u001B[38;5;28mtuple\u001B[39m \u001B[38;5;241m|\u001B[39m ReturnType:\n\u001B[1;32m    120\u001B[0m     match_dict \u001B[38;5;241m=\u001B[39m \u001B[38;5;28mself\u001B[39m\u001B[38;5;241m.\u001B[39mtransform_groups(match)\n\u001B[0;32m--> 121\u001B[0m     \u001B[38;5;28;43mself\u001B[39;49m\u001B[38;5;241;43m.\u001B[39;49m\u001B[43mtransform_match\u001B[49m\u001B[43m(\u001B[49m\u001B[43mmatch_dict\u001B[49m\u001B[43m)\u001B[49m\n\u001B[1;32m    122\u001B[0m     \u001B[38;5;28;01mreturn\u001B[39;00m \u001B[38;5;28mself\u001B[39m\u001B[38;5;241m.\u001B[39mconstructor(\u001B[38;5;241m*\u001B[39m\u001B[38;5;241m*\u001B[39mmatch_dict)\n",
      "File \u001B[0;32m~/PycharmProjects/mctools/mctools/parsing/core/pattern.py:117\u001B[0m, in \u001B[0;36mProcessedPattern.transform_match\u001B[0;34m(self, match_dict)\u001B[0m\n\u001B[1;32m    115\u001B[0m \u001B[38;5;28;01mdef\u001B[39;00m \u001B[38;5;21mtransform_match\u001B[39m(\u001B[38;5;28mself\u001B[39m, match_dict: MatchDict):\n\u001B[1;32m    116\u001B[0m     \u001B[38;5;28;01mfor\u001B[39;00m key, func \u001B[38;5;129;01min\u001B[39;00m \u001B[38;5;28mself\u001B[39m\u001B[38;5;241m.\u001B[39mmatch_funcs\u001B[38;5;241m.\u001B[39mitems():\n\u001B[0;32m--> 117\u001B[0m         match_dict[key] \u001B[38;5;241m=\u001B[39m \u001B[43mfunc\u001B[49m\u001B[43m(\u001B[49m\u001B[43mmatch_dict\u001B[49m\u001B[43m)\u001B[49m\n",
      "Cell \u001B[0;32mIn[10], line 25\u001B[0m, in \u001B[0;36m<lambda>\u001B[0;34m(m)\u001B[0m\n\u001B[1;32m     12\u001B[0m         \u001B[38;5;28;01mcase\u001B[39;00m\u001B[38;5;250m \u001B[39m\u001B[38;5;28;01m_\u001B[39;00m:\n\u001B[1;32m     13\u001B[0m             \u001B[38;5;28;01mraise\u001B[39;00m \u001B[38;5;167;01mValueError\u001B[39;00m(\u001B[38;5;124mf\u001B[39m\u001B[38;5;124m'\u001B[39m\u001B[38;5;124mInvalid data_type: \u001B[39m\u001B[38;5;132;01m{\u001B[39;00mchar\u001B[38;5;132;01m}\u001B[39;00m\u001B[38;5;124m'\u001B[39m)\n\u001B[1;32m     15\u001B[0m FCHK_HEADER_PATT \u001B[38;5;241m=\u001B[39m ProcessedPattern(\n\u001B[1;32m     16\u001B[0m     \u001B[38;5;124mr\u001B[39m\u001B[38;5;124m'\u001B[39m\u001B[38;5;124m(?P<header>([A-Z][a-zA-Z]+)(\u001B[39m\u001B[38;5;124m\\\u001B[39m\u001B[38;5;124ms[a-zA-Z]+)+)\u001B[39m\u001B[38;5;124m\\\u001B[39m\u001B[38;5;124ms+\u001B[39m\u001B[38;5;124m'\u001B[39m\n\u001B[1;32m     17\u001B[0m     \u001B[38;5;124mr\u001B[39m\u001B[38;5;124m'\u001B[39m\u001B[38;5;124m(?P<dtype>[IRCHL])\u001B[39m\u001B[38;5;124m\\\u001B[39m\u001B[38;5;124ms+\u001B[39m\u001B[38;5;124m'\u001B[39m\n\u001B[1;32m     18\u001B[0m     \u001B[38;5;124mr\u001B[39m\u001B[38;5;124m'\u001B[39m\u001B[38;5;124m((N=\u001B[39m\u001B[38;5;124m\\\u001B[39m\u001B[38;5;124ms+(?P<size>\u001B[39m\u001B[38;5;124m\\\u001B[39m\u001B[38;5;124md+))|(?P<value>[+-]?\u001B[39m\u001B[38;5;124m\\\u001B[39m\u001B[38;5;124md+(\u001B[39m\u001B[38;5;124m\\\u001B[39m\u001B[38;5;124m.\u001B[39m\u001B[38;5;124m\\\u001B[39m\u001B[38;5;124md+[dDeE]\u001B[39m\u001B[38;5;124m\\\u001B[39m\u001B[38;5;124m+\u001B[39m\u001B[38;5;124m\\\u001B[39m\u001B[38;5;124md+)?))\u001B[39m\u001B[38;5;124m'\u001B[39m,\n\u001B[1;32m     19\u001B[0m     constructor\u001B[38;5;241m=\u001B[39m\u001B[38;5;124m'\u001B[39m\u001B[38;5;124mheader\u001B[39m\u001B[38;5;124m'\u001B[39m,\n\u001B[1;32m     20\u001B[0m     group_maps\u001B[38;5;241m=\u001B[39m{\n\u001B[1;32m     21\u001B[0m         \u001B[38;5;124m'\u001B[39m\u001B[38;5;124msize\u001B[39m\u001B[38;5;124m'\u001B[39m: \u001B[38;5;28;01mlambda\u001B[39;00m s: \u001B[38;5;28mint\u001B[39m(s) \u001B[38;5;28;01mif\u001B[39;00m s \u001B[38;5;28;01melse\u001B[39;00m s,\n\u001B[1;32m     22\u001B[0m         \u001B[38;5;124m'\u001B[39m\u001B[38;5;124mdtype\u001B[39m\u001B[38;5;124m'\u001B[39m: process_data_type,\n\u001B[1;32m     23\u001B[0m     },\n\u001B[1;32m     24\u001B[0m     match_funcs\u001B[38;5;241m=\u001B[39m{\n\u001B[0;32m---> 25\u001B[0m         \u001B[38;5;124m'\u001B[39m\u001B[38;5;124mvalue\u001B[39m\u001B[38;5;124m'\u001B[39m: \u001B[38;5;28;01mlambda\u001B[39;00m m: (\u001B[38;5;28;43mint\u001B[39;49m\u001B[43m(\u001B[49m\u001B[43mm\u001B[49m\u001B[38;5;241;43m.\u001B[39;49m\u001B[43mpop\u001B[49m\u001B[43m(\u001B[49m\u001B[38;5;124;43m'\u001B[39;49m\u001B[38;5;124;43mvalue\u001B[39;49m\u001B[38;5;124;43m'\u001B[39;49m\u001B[43m)\u001B[49m\u001B[43m)\u001B[49m \u001B[38;5;28;01mif\u001B[39;00m m[\u001B[38;5;124m'\u001B[39m\u001B[38;5;124msize\u001B[39m\u001B[38;5;124m'\u001B[39m] \u001B[38;5;28;01melse\u001B[39;00m m[\u001B[38;5;124m'\u001B[39m\u001B[38;5;124mdtype\u001B[39m\u001B[38;5;124m'\u001B[39m](m\u001B[38;5;241m.\u001B[39mpop(\u001B[38;5;124m'\u001B[39m\u001B[38;5;124mvalue\u001B[39m\u001B[38;5;124m'\u001B[39m))) \u001B[38;5;28;01mif\u001B[39;00m m[\u001B[38;5;124m'\u001B[39m\u001B[38;5;124mvalue\u001B[39m\u001B[38;5;124m'\u001B[39m] \u001B[38;5;28;01melse\u001B[39;00m \u001B[38;5;28;01mNone\u001B[39;00m\n\u001B[1;32m     26\u001B[0m     }\n\u001B[1;32m     27\u001B[0m )\n\u001B[1;32m     29\u001B[0m scalar1 \u001B[38;5;241m=\u001B[39m \u001B[38;5;124m'\u001B[39m\u001B[38;5;124mNumber of electrons                        I              391\u001B[39m\u001B[38;5;124m'\u001B[39m\n\u001B[1;32m     30\u001B[0m scalar2 \u001B[38;5;241m=\u001B[39m \u001B[38;5;124m'\u001B[39m\u001B[38;5;124mSCF Energy                                 R     -5.674493527405919E+04\u001B[39m\u001B[38;5;124m'\u001B[39m\n",
      "\u001B[0;31mValueError\u001B[0m: invalid literal for int() with base 10: 'None'"
     ]
    }
   ],
   "source": [
    "import numpy as np\n",
    "from mctools.parsing.core import ProcessedPattern\n",
    "\n",
    "def process_data_type(char: str, /):\n",
    "    match char:\n",
    "        case 'R':\n",
    "            return np.float_\n",
    "        case 'I':\n",
    "            return np.int_\n",
    "        case 'C':\n",
    "            return np.str_\n",
    "        case _:\n",
    "            raise ValueError(f'Invalid data_type: {char}')\n",
    "        \n",
    "FCHK_HEADER_PATT = ProcessedPattern(\n",
    "    r'(?P<header>([A-Z][a-zA-Z]+)(\\s[a-zA-Z]+)+)\\s+'\n",
    "    r'(?P<dtype>[IRCHL])\\s+'\n",
    "    r'((N=\\s+(?P<size>\\d+))|(?P<value>[+-]?\\d+(\\.\\d+[dDeE]\\+\\d+)?))',\n",
    "    constructor='header',\n",
    "    group_maps={\n",
    "        'size': lambda s: int(s) if s else s,\n",
    "        'dtype': process_data_type,\n",
    "    },\n",
    "    match_funcs={\n",
    "        'value': lambda m: (int(m.pop('value')) if m['size'] else m['dtype'](m.pop('value'))) if m['value'] else None\n",
    "    }\n",
    ")\n",
    "\n",
    "scalar1 = 'Number of electrons                        I              391'\n",
    "scalar2 = 'SCF Energy                                 R     -5.674493527405919E+04'\n",
    "array = 'Nuclear charges                            R   N=           7'\n",
    "headers = [scalar1, scalar2, array]\n",
    "\n",
    "\n",
    "for h in headers:\n",
    "    print(h)\n",
    "    if match := FCHK_HEADER_PATT.match(h):\n",
    "        print(match)"
   ],
   "metadata": {
    "collapsed": false,
    "ExecuteTime": {
     "end_time": "2024-02-28T03:58:14.423508Z",
     "start_time": "2024-02-28T03:58:14.313633Z"
    }
   },
   "id": "337eaa22807bf05e",
   "execution_count": 10
  },
  {
   "cell_type": "code",
   "outputs": [],
   "source": [
    "|int('')"
   ],
   "metadata": {
    "collapsed": false,
    "ExecuteTime": {
     "start_time": "2024-02-28T03:58:14.417493Z"
    }
   },
   "id": "c219d55b56117df5",
   "execution_count": null
  },
  {
   "cell_type": "code",
   "outputs": [
    {
     "ename": "ModuleNotFoundError",
     "evalue": "No module named 'mctools.parsing.gaussian.log.l1'",
     "output_type": "error",
     "traceback": [
      "\u001B[0;31m---------------------------------------------------------------------------\u001B[0m",
      "\u001B[0;31mModuleNotFoundError\u001B[0m                       Traceback (most recent call last)",
      "Cell \u001B[0;32mIn[11], line 3\u001B[0m\n\u001B[1;32m      1\u001B[0m \u001B[38;5;28;01mfrom\u001B[39;00m \u001B[38;5;21;01mtyping\u001B[39;00m \u001B[38;5;28;01mimport\u001B[39;00m IO, AnyStr, Any\n\u001B[0;32m----> 3\u001B[0m \u001B[38;5;28;01mfrom\u001B[39;00m \u001B[38;5;21;01mmctools\u001B[39;00m\u001B[38;5;21;01m.\u001B[39;00m\u001B[38;5;21;01mparsing\u001B[39;00m\u001B[38;5;21;01m.\u001B[39;00m\u001B[38;5;21;01mgaussian\u001B[39;00m\u001B[38;5;21;01m.\u001B[39;00m\u001B[38;5;21;01mlog\u001B[39;00m\u001B[38;5;21;01m.\u001B[39;00m\u001B[38;5;21;01ml1\u001B[39;00m \u001B[38;5;28;01mimport\u001B[39;00m Link, Route\n\u001B[1;32m      4\u001B[0m \u001B[38;5;28;01mfrom\u001B[39;00m \u001B[38;5;21;01mmctools\u001B[39;00m\u001B[38;5;21;01m.\u001B[39;00m\u001B[38;5;21;01mparsing\u001B[39;00m\u001B[38;5;21;01m.\u001B[39;00m\u001B[38;5;21;01mcore\u001B[39;00m \u001B[38;5;28;01mimport\u001B[39;00m BaseFileParser, ListeningFileParser, FileParser\n\u001B[1;32m      7\u001B[0m \u001B[38;5;28;01mclass\u001B[39;00m \u001B[38;5;21;01mLinkParser\u001B[39;00m(FileParser, metaclass\u001B[38;5;241m=\u001B[39mabc\u001B[38;5;241m.\u001B[39mABCMeta):\n",
      "\u001B[0;31mModuleNotFoundError\u001B[0m: No module named 'mctools.parsing.gaussian.log.l1'"
     ]
    }
   ],
   "source": [
    "from typing import IO, AnyStr, Any\n",
    "\n",
    "from mctools.parsing.gaussian.log.l1 import Link, Route\n",
    "from mctools.parsing.core import BaseFileParser, ListeningFileParser, FileParser\n",
    "\n",
    "\n",
    "class LinkParser(FileParser, metaclass=abc.ABCMeta):\n",
    "    pass\n",
    "\n",
    "\n"
   ],
   "metadata": {
    "collapsed": false,
    "ExecuteTime": {
     "end_time": "2024-02-28T03:58:14.490168Z",
     "start_time": "2024-02-28T03:58:14.437694Z"
    }
   },
   "id": "de026a5e6cf54aa5",
   "execution_count": 11
  },
  {
   "cell_type": "code",
   "outputs": [
    {
     "ename": "ModuleNotFoundError",
     "evalue": "No module named 'mctools.parsing.gaussian.log.l1'",
     "output_type": "error",
     "traceback": [
      "\u001B[0;31m---------------------------------------------------------------------------\u001B[0m",
      "\u001B[0;31mModuleNotFoundError\u001B[0m                       Traceback (most recent call last)",
      "Cell \u001B[0;32mIn[12], line 1\u001B[0m\n\u001B[0;32m----> 1\u001B[0m \u001B[38;5;28;01mfrom\u001B[39;00m \u001B[38;5;21;01mmctools\u001B[39;00m\u001B[38;5;21;01m.\u001B[39;00m\u001B[38;5;21;01mparsing\u001B[39;00m\u001B[38;5;21;01m.\u001B[39;00m\u001B[38;5;21;01mgaussian\u001B[39;00m\u001B[38;5;21;01m.\u001B[39;00m\u001B[38;5;21;01mlog\u001B[39;00m\u001B[38;5;21;01m.\u001B[39;00m\u001B[38;5;21;01ml1\u001B[39;00m \u001B[38;5;28;01mimport\u001B[39;00m Link\n\u001B[1;32m      2\u001B[0m \u001B[38;5;124mf\u001B[39m\u001B[38;5;124m'\u001B[39m\u001B[38;5;132;01m{\u001B[39;00mLink\u001B[38;5;241m.\u001B[39mL910\u001B[38;5;132;01m}\u001B[39;00m\u001B[38;5;124m'\u001B[39m\n",
      "\u001B[0;31mModuleNotFoundError\u001B[0m: No module named 'mctools.parsing.gaussian.log.l1'"
     ]
    }
   ],
   "source": [
    "from mctools.parsing.gaussian.log.l1 import Link\n",
    "f'{Link.L910}'"
   ],
   "metadata": {
    "collapsed": false,
    "ExecuteTime": {
     "start_time": "2024-02-28T03:58:14.461918Z"
    }
   },
   "id": "777875c1d584795d",
   "execution_count": 12
  },
  {
   "cell_type": "code",
   "outputs": [
    {
     "ename": "AttributeError",
     "evalue": "'LogParser' object has no attribute 'parser'",
     "output_type": "error",
     "traceback": [
      "\u001B[0;31m---------------------------------------------------------------------------\u001B[0m",
      "\u001B[0;31mAttributeError\u001B[0m                            Traceback (most recent call last)",
      "Cell \u001B[0;32mIn[13], line 4\u001B[0m\n\u001B[1;32m      1\u001B[0m \u001B[38;5;28;01mfrom\u001B[39;00m \u001B[38;5;21;01mmctools\u001B[39;00m\u001B[38;5;21;01m.\u001B[39;00m\u001B[38;5;21;01mparsing\u001B[39;00m\u001B[38;5;21;01m.\u001B[39;00m\u001B[38;5;21;01mgaussian\u001B[39;00m \u001B[38;5;28;01mimport\u001B[39;00m LogParser\n\u001B[1;32m      3\u001B[0m parser \u001B[38;5;241m=\u001B[39m LogParser()\n\u001B[0;32m----> 4\u001B[0m data \u001B[38;5;241m=\u001B[39m \u001B[43mparser\u001B[49m\u001B[38;5;241;43m.\u001B[39;49m\u001B[43mparser\u001B[49m(log, int1e\u001B[38;5;241m=\u001B[39m[\u001B[38;5;124m'\u001B[39m\u001B[38;5;124mstv\u001B[39m\u001B[38;5;124m'\u001B[39m])\n",
      "\u001B[0;31mAttributeError\u001B[0m: 'LogParser' object has no attribute 'parser'"
     ]
    }
   ],
   "source": [
    "from mctools.parsing.gaussian import LogParser\n",
    "\n",
    "parser = LogParser()\n",
    "data = parser.parser(log, int1e=['stv'])"
   ],
   "metadata": {
    "collapsed": false,
    "ExecuteTime": {
     "end_time": "2024-02-28T03:58:14.615052Z",
     "start_time": "2024-02-28T03:58:14.576245Z"
    }
   },
   "id": "9897cfdf16a8e06d",
   "execution_count": 13
  },
  {
   "cell_type": "code",
   "outputs": [
    {
     "data": {
      "text/plain": "\u001B[92m─ \u001B[0mFchk file: \u001B[35m/Users/kirill/PycharmProjects/mctools/tests/data/\u001B[0m\u001B[95mrasci_1r1h36o_2r13e14o_3r1p6o.casscf_13e14o_ref.an…\u001B[0m\u001B[92m ─\u001B[0m\n",
      "text/html": "<pre style=\"white-space:pre;overflow-x:auto;line-height:normal;font-family:Menlo,'DejaVu Sans Mono',consolas,'Courier New',monospace\"><span style=\"color: #00ff00; text-decoration-color: #00ff00\">─ </span>Fchk file: <span style=\"color: #800080; text-decoration-color: #800080\">/Users/kirill/PycharmProjects/mctools/tests/data/</span><span style=\"color: #ff00ff; text-decoration-color: #ff00ff\">rasci_1r1h36o_2r13e14o_3r1p6o.casscf_13e14o_ref.an…</span><span style=\"color: #00ff00; text-decoration-color: #00ff00\"> ─</span>\n</pre>\n"
     },
     "metadata": {},
     "output_type": "display_data"
    },
    {
     "data": {
      "text/plain": "Parsing FCHK description\u001B[33m...\u001B[0m\n",
      "text/html": "<pre style=\"white-space:pre;overflow-x:auto;line-height:normal;font-family:Menlo,'DejaVu Sans Mono',consolas,'Courier New',monospace\">Parsing FCHK description<span style=\"color: #808000; text-decoration-color: #808000\">...</span>\n</pre>\n"
     },
     "metadata": {},
     "output_type": "display_data"
    },
    {
     "data": {
      "text/plain": "Parsing Molecule geometry\u001B[33m...\u001B[0m\n",
      "text/html": "<pre style=\"white-space:pre;overflow-x:auto;line-height:normal;font-family:Menlo,'DejaVu Sans Mono',consolas,'Courier New',monospace\">Parsing Molecule geometry<span style=\"color: #808000; text-decoration-color: #808000\">...</span>\n</pre>\n"
     },
     "metadata": {},
     "output_type": "display_data"
    },
    {
     "data": {
      "text/plain": "Parsing Atomic Orbital Basis\u001B[33m...\u001B[0m\n",
      "text/html": "<pre style=\"white-space:pre;overflow-x:auto;line-height:normal;font-family:Menlo,'DejaVu Sans Mono',consolas,'Courier New',monospace\">Parsing Atomic Orbital Basis<span style=\"color: #808000; text-decoration-color: #808000\">...</span>\n</pre>\n"
     },
     "metadata": {},
     "output_type": "display_data"
    },
    {
     "data": {
      "text/plain": "Parsing Molecular Orbital Basis\u001B[33m...\u001B[0m\n",
      "text/html": "<pre style=\"white-space:pre;overflow-x:auto;line-height:normal;font-family:Menlo,'DejaVu Sans Mono',consolas,'Courier New',monospace\">Parsing Molecular Orbital Basis<span style=\"color: #808000; text-decoration-color: #808000\">...</span>\n</pre>\n"
     },
     "metadata": {},
     "output_type": "display_data"
    },
    {
     "data": {
      "text/plain": "Finished parsing FCHK file\n",
      "text/html": "<pre style=\"white-space:pre;overflow-x:auto;line-height:normal;font-family:Menlo,'DejaVu Sans Mono',consolas,'Courier New',monospace\">Finished parsing FCHK file\n</pre>\n"
     },
     "metadata": {},
     "output_type": "display_data"
    },
    {
     "ename": "AttributeError",
     "evalue": "type object 'FchkParser' has no attribute 'options_cls'",
     "output_type": "error",
     "traceback": [
      "\u001B[0;31m---------------------------------------------------------------------------\u001B[0m",
      "\u001B[0;31mAttributeError\u001B[0m                            Traceback (most recent call last)",
      "Cell \u001B[0;32mIn[14], line 7\u001B[0m\n\u001B[1;32m      4\u001B[0m     parser \u001B[38;5;241m=\u001B[39m FchkParser()\n\u001B[1;32m      5\u001B[0m     data \u001B[38;5;241m=\u001B[39m parser\u001B[38;5;241m.\u001B[39mparse(f)\n\u001B[0;32m----> 7\u001B[0m basis_info \u001B[38;5;241m=\u001B[39m data[\u001B[43mFchkParser\u001B[49m\u001B[38;5;241;43m.\u001B[39;49m\u001B[43moptions_cls\u001B[49m\u001B[38;5;241m.\u001B[39mbasis]\n\u001B[1;32m      8\u001B[0m basis \u001B[38;5;241m=\u001B[39m basis_info[\u001B[38;5;124m'\u001B[39m\u001B[38;5;124mbasis\u001B[39m\u001B[38;5;124m'\u001B[39m]\n\u001B[1;32m      9\u001B[0m shells \u001B[38;5;241m=\u001B[39m basis_info[\u001B[38;5;124m'\u001B[39m\u001B[38;5;124mshells\u001B[39m\u001B[38;5;124m'\u001B[39m]\n",
      "\u001B[0;31mAttributeError\u001B[0m: type object 'FchkParser' has no attribute 'options_cls'"
     ]
    }
   ],
   "source": [
    "from mctools.parsing.gaussian import FchkParser\n",
    "\n",
    "with fchk.open('r', encoding='ascii') as f:\n",
    "    parser = FchkParser()\n",
    "    data = parser.parse(f)\n",
    "\n",
    "basis_info = data[FchkParser.options_cls.basis]\n",
    "basis = basis_info['basis']\n",
    "shells = basis_info['shells']\n",
    "prims = basis_info['prims']\n",
    "aos = basis.df.copy()\n",
    "\n",
    "n_inactive = 342\n",
    "n_active = 50\n",
    "molorb = data[FchkParser.options_cls.molecular_orbitals]\n",
    "active_space = np.s_[n_inactive:n_inactive + n_active]\n",
    "actorb = molorb[active_space]\n",
    "# mos = basis.partition_molorb(actorb, by=['element', 'l']) \n",
    "\n",
    "atom_idx, shell_idx = 0, 0"
   ],
   "metadata": {
    "collapsed": false,
    "ExecuteTime": {
     "start_time": "2024-02-28T03:58:14.614794Z"
    }
   },
   "id": "422abfe4eee4a68e",
   "execution_count": 14
  },
  {
   "cell_type": "code",
   "outputs": [],
   "source": [
    "prims"
   ],
   "metadata": {
    "collapsed": false,
    "ExecuteTime": {
     "end_time": "2024-02-28T03:58:14.970696Z",
     "start_time": "2024-02-28T03:58:14.910339Z"
    }
   },
   "id": "b39e0a7daed30acb",
   "execution_count": null
  },
  {
   "cell_type": "code",
   "outputs": [],
   "source": [
    "import pathlib\n",
    "import time\n",
    "import numpy as np\n",
    "\n",
    "from tqdm import tqdm\n",
    "\n",
    "from mctools.parsing import FileStepper\n",
    "from mctools.parsing.gaussian.log.utils import MatrixParserMixin\n",
    "\n",
    "\n",
    "data_dir = pathlib.Path('examples').resolve()\n",
    "calc_dir = data_dir / 'calc'\n",
    "\n",
    "fchk =  calc_dir / 'casscf.fchk'\n",
    "log = fchk.with_suffix('.log')\n",
    "\n",
    "line_to_data = lambda l: l.strip().replace('D', 'E').split()\n",
    "\n",
    "\n",
    "def read_wrapped_matrix(stepper: FileStepper, header: str, dtype=float):\n",
    "    stepper.step_skip_until(header) \n",
    "    \n",
    "    is_data_row = lambda l: '.' in l\n",
    "    is_header_row = lambda l: not is_data_row(l)\n",
    "    \n",
    "    array = []\n",
    "    dim_size = 0\n",
    "    n_cols_per_blocks = len(stepper.readline().strip().split())\n",
    "    \n",
    "    while '.' in (line := stepper.readline()):\n",
    "        row = line.strip().replace('D', 'E').split()\n",
    "        array.extend(map(float, row[1:]))\n",
    "        dim_size += 1\n",
    "\n",
    "    n_elems = (dim_size * dim_size - dim_size) // 2  + dim_size \n",
    "    for j in range(n_cols_per_blocks, dim_size, n_cols_per_blocks):\n",
    "        for i in range(j, dim_size):\n",
    "            row = stepper.readline().strip().replace('D', 'E').split()\n",
    "            array.extend(map(dtype, row[1:]))\n",
    "        \n",
    "        if len(array) < n_elems:\n",
    "            stepper.readline()\n",
    "        else:\n",
    "            break\n",
    "    return array\n",
    "\n",
    "# header = 'Overlap'\n",
    "# dim = 575\n",
    "\n",
    "\n",
    "n_states = 50\n",
    "\n",
    "n_mo_act = 50\n",
    "rdm_shape = (n_mo_act, n_mo_act)\n",
    "header_real = '1PDM Matrix (real) :'\n",
    "header_imag = '1PDM Matrix (imag) :'\n",
    "\n",
    "array = []\n",
    "\n",
    "times = []\n",
    "with log.open('r') as f:\n",
    "    parser = MatrixParserMixin()\n",
    "    parser.set_file(f)\n",
    "\n",
    "    for i in tqdm(range(n_states)):\n",
    "        parser.step_skip_until(header_real) \n",
    "        \n",
    "        t0 = time.perf_counter_ns()\n",
    "        parser.read_rectangular(*rdm_shape, array=array)\n",
    "        t1 = time.perf_counter_ns()\n",
    "        times.append(t1 - t0)\n",
    "        \n",
    "        parser.step_skip_until(header_imag) \n",
    "        \n",
    "        t0 = time.perf_counter_ns()\n",
    "        parser.read_rectangular(*rdm_shape, array=array)\n",
    "        t1 = time.perf_counter_ns()\n",
    "        times.append(t1 - t0)\n",
    "\n",
    "times = np.asarray(times)\n",
    "print(times.mean(), times.std())"
   ],
   "metadata": {
    "collapsed": false,
    "ExecuteTime": {
     "start_time": "2024-02-28T03:58:14.912998Z"
    }
   },
   "id": "38bddebdddcb97b8",
   "execution_count": null
  },
  {
   "cell_type": "code",
   "outputs": [],
   "source": [
    "rdms_32 = np.asarray(array, dtype=np.float32).reshape((n_states, 2, n_mo_act, n_mo_act))\n",
    "rdms_32 = np.moveaxis(rdms_32, 1, -1, ).copy()\n",
    "rdms_32 = rdms_32.view(np.complex64).squeeze()"
   ],
   "metadata": {
    "collapsed": false,
    "ExecuteTime": {
     "start_time": "2024-02-28T03:58:14.918144Z"
    }
   },
   "id": "c96cf41869ab398",
   "execution_count": null
  },
  {
   "cell_type": "code",
   "outputs": [
    {
     "ename": "ValueError",
     "evalue": "could not convert string to float: 'Nuclear charges                            R   N=           7'",
     "output_type": "error",
     "traceback": [
      "\u001B[0;31m---------------------------------------------------------------------------\u001B[0m",
      "\u001B[0;31mValueError\u001B[0m                                Traceback (most recent call last)",
      "Cell \u001B[0;32mIn[15], line 1\u001B[0m\n\u001B[0;32m----> 1\u001B[0m rdms_64 \u001B[38;5;241m=\u001B[39m \u001B[43mnp\u001B[49m\u001B[38;5;241;43m.\u001B[39;49m\u001B[43masarray\u001B[49m\u001B[43m(\u001B[49m\u001B[43marray\u001B[49m\u001B[43m,\u001B[49m\u001B[43m \u001B[49m\u001B[43mdtype\u001B[49m\u001B[38;5;241;43m=\u001B[39;49m\u001B[43mnp\u001B[49m\u001B[38;5;241;43m.\u001B[39;49m\u001B[43mfloat64\u001B[49m\u001B[43m)\u001B[49m\u001B[38;5;241m.\u001B[39mreshape((n_states, \u001B[38;5;241m2\u001B[39m, n_mo_act, n_mo_act))\n\u001B[1;32m      2\u001B[0m rdms_64 \u001B[38;5;241m=\u001B[39m np\u001B[38;5;241m.\u001B[39mmoveaxis(rdms_64, \u001B[38;5;241m1\u001B[39m, \u001B[38;5;241m-\u001B[39m\u001B[38;5;241m1\u001B[39m, )\u001B[38;5;241m.\u001B[39mcopy()\n\u001B[1;32m      3\u001B[0m rdms_64 \u001B[38;5;241m=\u001B[39m rdms_64\u001B[38;5;241m.\u001B[39mview(np\u001B[38;5;241m.\u001B[39mcomplex128)\u001B[38;5;241m.\u001B[39msqueeze()\n",
      "\u001B[0;31mValueError\u001B[0m: could not convert string to float: 'Nuclear charges                            R   N=           7'"
     ]
    }
   ],
   "source": [
    "rdms_64 = np.asarray(array, dtype=np.float64).reshape((n_states, 2, n_mo_act, n_mo_act))\n",
    "rdms_64 = np.moveaxis(rdms_64, 1, -1, ).copy()\n",
    "rdms_64 = rdms_64.view(np.complex128).squeeze()"
   ],
   "metadata": {
    "collapsed": false,
    "ExecuteTime": {
     "end_time": "2024-02-28T03:58:15.096053Z",
     "start_time": "2024-02-28T03:58:14.974952Z"
    }
   },
   "id": "3019644109963a3a",
   "execution_count": 15
  },
  {
   "cell_type": "code",
   "outputs": [
    {
     "ename": "IndentationError",
     "evalue": "unexpected indent (851130380.py, line 2)",
     "output_type": "error",
     "traceback": [
      "\u001B[0;36m  Cell \u001B[0;32mIn[16], line 2\u001B[0;36m\u001B[0m\n\u001B[0;31m    CI Transition Density Matrix     1 :     3\u001B[0m\n\u001B[0m    ^\u001B[0m\n\u001B[0;31mIndentationError\u001B[0m\u001B[0;31m:\u001B[0m unexpected indent\n"
     ]
    }
   ],
   "source": [
    "import re\n",
    " CI Transition Density Matrix     1 :     3\n",
    " Compute 1PDM now\n",
    " 1TDM Matrix:                       1\n",
    "header = 'Oscillator Strength For States      1 :      2 f=    0.000000'\n",
    "header = 'Computing Spin expectation values.'\n",
    "l = 'State:           1  <Sx>=  0.1340 <Sy>=  0.0000 <Sz>=  0.0823 <Sx**2>=  0.2623 <Sy**2>=  0.2623 <Sz**2>=  0.2624 <S**2>=  0.7870 S=  0.5183'"
   ],
   "metadata": {
    "collapsed": false,
    "ExecuteTime": {
     "start_time": "2024-02-28T03:58:15.046423Z"
    }
   },
   "id": "17c92fb049223e6a",
   "execution_count": 16
  },
  {
   "cell_type": "markdown",
   "source": [
    " Computing Spin expectation values."
   ],
   "metadata": {
    "collapsed": false
   },
   "id": "c78d0c9e66a1c45c"
  },
  {
   "cell_type": "markdown",
   "source": [
    " Computing Spin expectation values.\n",
    " State:           1  <Sx>=  0.1340 <Sy>=  0.0000 <Sz>=  0.0823 <Sx**2>=  0.2623 <Sy**2>=  0.2623 <Sz**2>=  0.2624 <S**2>=  0.7870 S=  0.5183\n",
    " \n",
    " Using Dipole Ints in file:                     872\n",
    " CI Transition Density Matrix     1 :     2\n",
    " Compute 1PDM now\n",
    " 1TDM Matrix:                       1\n",
    " 1TDM Matrix:                       2\n",
    " Oscillator Strength For States      1 :      2 f=    0.000000"
   ],
   "metadata": {
    "collapsed": false
   },
   "id": "cc98cda660ab97c4"
  },
  {
   "cell_type": "code",
   "outputs": [
    {
     "ename": "NameError",
     "evalue": "name 'l' is not defined",
     "output_type": "error",
     "traceback": [
      "\u001B[0;31m---------------------------------------------------------------------------\u001B[0m",
      "\u001B[0;31mNameError\u001B[0m                                 Traceback (most recent call last)",
      "Cell \u001B[0;32mIn[17], line 1\u001B[0m\n\u001B[0;32m----> 1\u001B[0m \u001B[43mget_ipython\u001B[49m\u001B[43m(\u001B[49m\u001B[43m)\u001B[49m\u001B[38;5;241;43m.\u001B[39;49m\u001B[43mrun_line_magic\u001B[49m\u001B[43m(\u001B[49m\u001B[38;5;124;43m'\u001B[39;49m\u001B[38;5;124;43mtimeit\u001B[39;49m\u001B[38;5;124;43m'\u001B[39;49m\u001B[43m,\u001B[49m\u001B[43m \u001B[49m\u001B[38;5;124;43m'\u001B[39;49m\u001B[38;5;124;43mlist(map(float, l.split()[1::2][1:]))\u001B[39;49m\u001B[38;5;124;43m'\u001B[39;49m\u001B[43m)\u001B[49m\n",
      "File \u001B[0;32m~/Library/Caches/pypoetry/virtualenvs/mctools-3Qvjc-9q-py3.11/lib/python3.11/site-packages/IPython/core/interactiveshell.py:2480\u001B[0m, in \u001B[0;36mInteractiveShell.run_line_magic\u001B[0;34m(self, magic_name, line, _stack_depth)\u001B[0m\n\u001B[1;32m   2478\u001B[0m     kwargs[\u001B[38;5;124m'\u001B[39m\u001B[38;5;124mlocal_ns\u001B[39m\u001B[38;5;124m'\u001B[39m] \u001B[38;5;241m=\u001B[39m \u001B[38;5;28mself\u001B[39m\u001B[38;5;241m.\u001B[39mget_local_scope(stack_depth)\n\u001B[1;32m   2479\u001B[0m \u001B[38;5;28;01mwith\u001B[39;00m \u001B[38;5;28mself\u001B[39m\u001B[38;5;241m.\u001B[39mbuiltin_trap:\n\u001B[0;32m-> 2480\u001B[0m     result \u001B[38;5;241m=\u001B[39m \u001B[43mfn\u001B[49m\u001B[43m(\u001B[49m\u001B[38;5;241;43m*\u001B[39;49m\u001B[43margs\u001B[49m\u001B[43m,\u001B[49m\u001B[43m \u001B[49m\u001B[38;5;241;43m*\u001B[39;49m\u001B[38;5;241;43m*\u001B[39;49m\u001B[43mkwargs\u001B[49m\u001B[43m)\u001B[49m\n\u001B[1;32m   2482\u001B[0m \u001B[38;5;66;03m# The code below prevents the output from being displayed\u001B[39;00m\n\u001B[1;32m   2483\u001B[0m \u001B[38;5;66;03m# when using magics with decorator @output_can_be_silenced\u001B[39;00m\n\u001B[1;32m   2484\u001B[0m \u001B[38;5;66;03m# when the last Python token in the expression is a ';'.\u001B[39;00m\n\u001B[1;32m   2485\u001B[0m \u001B[38;5;28;01mif\u001B[39;00m \u001B[38;5;28mgetattr\u001B[39m(fn, magic\u001B[38;5;241m.\u001B[39mMAGIC_OUTPUT_CAN_BE_SILENCED, \u001B[38;5;28;01mFalse\u001B[39;00m):\n",
      "File \u001B[0;32m~/Library/Caches/pypoetry/virtualenvs/mctools-3Qvjc-9q-py3.11/lib/python3.11/site-packages/IPython/core/magics/execution.py:1185\u001B[0m, in \u001B[0;36mExecutionMagics.timeit\u001B[0;34m(self, line, cell, local_ns)\u001B[0m\n\u001B[1;32m   1183\u001B[0m \u001B[38;5;28;01mfor\u001B[39;00m index \u001B[38;5;129;01min\u001B[39;00m \u001B[38;5;28mrange\u001B[39m(\u001B[38;5;241m0\u001B[39m, \u001B[38;5;241m10\u001B[39m):\n\u001B[1;32m   1184\u001B[0m     number \u001B[38;5;241m=\u001B[39m \u001B[38;5;241m10\u001B[39m \u001B[38;5;241m*\u001B[39m\u001B[38;5;241m*\u001B[39m index\n\u001B[0;32m-> 1185\u001B[0m     time_number \u001B[38;5;241m=\u001B[39m \u001B[43mtimer\u001B[49m\u001B[38;5;241;43m.\u001B[39;49m\u001B[43mtimeit\u001B[49m\u001B[43m(\u001B[49m\u001B[43mnumber\u001B[49m\u001B[43m)\u001B[49m\n\u001B[1;32m   1186\u001B[0m     \u001B[38;5;28;01mif\u001B[39;00m time_number \u001B[38;5;241m>\u001B[39m\u001B[38;5;241m=\u001B[39m \u001B[38;5;241m0.2\u001B[39m:\n\u001B[1;32m   1187\u001B[0m         \u001B[38;5;28;01mbreak\u001B[39;00m\n",
      "File \u001B[0;32m~/Library/Caches/pypoetry/virtualenvs/mctools-3Qvjc-9q-py3.11/lib/python3.11/site-packages/IPython/core/magics/execution.py:173\u001B[0m, in \u001B[0;36mTimer.timeit\u001B[0;34m(self, number)\u001B[0m\n\u001B[1;32m    171\u001B[0m gc\u001B[38;5;241m.\u001B[39mdisable()\n\u001B[1;32m    172\u001B[0m \u001B[38;5;28;01mtry\u001B[39;00m:\n\u001B[0;32m--> 173\u001B[0m     timing \u001B[38;5;241m=\u001B[39m \u001B[38;5;28;43mself\u001B[39;49m\u001B[38;5;241;43m.\u001B[39;49m\u001B[43minner\u001B[49m\u001B[43m(\u001B[49m\u001B[43mit\u001B[49m\u001B[43m,\u001B[49m\u001B[43m \u001B[49m\u001B[38;5;28;43mself\u001B[39;49m\u001B[38;5;241;43m.\u001B[39;49m\u001B[43mtimer\u001B[49m\u001B[43m)\u001B[49m\n\u001B[1;32m    174\u001B[0m \u001B[38;5;28;01mfinally\u001B[39;00m:\n\u001B[1;32m    175\u001B[0m     \u001B[38;5;28;01mif\u001B[39;00m gcold:\n",
      "File \u001B[0;32m<magic-timeit>:1\u001B[0m, in \u001B[0;36minner\u001B[0;34m(_it, _timer)\u001B[0m\n",
      "\u001B[0;31mNameError\u001B[0m: name 'l' is not defined"
     ]
    }
   ],
   "source": [
    "%timeit list(map(float, l.split()[1::2][1:]))"
   ],
   "metadata": {
    "collapsed": false,
    "ExecuteTime": {
     "end_time": "2024-02-28T03:58:15.310863Z",
     "start_time": "2024-02-28T03:58:15.131032Z"
    }
   },
   "id": "4b4cae7437826c00",
   "execution_count": 17
  },
  {
   "cell_type": "code",
   "outputs": [],
   "source": [
    "%timeit list(map(float, re.findall('\\d+\\.\\d+', l)))"
   ],
   "metadata": {
    "collapsed": false,
    "ExecuteTime": {
     "start_time": "2024-02-28T03:58:15.298754Z"
    }
   },
   "id": "5d45bb23d5c869b9",
   "execution_count": null
  },
  {
   "cell_type": "code",
   "outputs": [],
   "source": [
    "3.28 * 1e3 / 858"
   ],
   "metadata": {
    "collapsed": false,
    "ExecuteTime": {
     "start_time": "2024-02-28T03:58:15.302946Z"
    }
   },
   "id": "c71f091e07b2b210",
   "execution_count": null
  },
  {
   "cell_type": "code",
   "outputs": [
    {
     "ename": "ModuleNotFoundError",
     "evalue": "No module named 'mctools.parsing.gaussian.log.l302'",
     "output_type": "error",
     "traceback": [
      "\u001B[0;31m---------------------------------------------------------------------------\u001B[0m",
      "\u001B[0;31mModuleNotFoundError\u001B[0m                       Traceback (most recent call last)",
      "Cell \u001B[0;32mIn[18], line 1\u001B[0m\n\u001B[0;32m----> 1\u001B[0m \u001B[38;5;28;01mfrom\u001B[39;00m \u001B[38;5;21;01mmctools\u001B[39;00m\u001B[38;5;21;01m.\u001B[39;00m\u001B[38;5;21;01mparsing\u001B[39;00m\u001B[38;5;21;01m.\u001B[39;00m\u001B[38;5;21;01mgaussian\u001B[39;00m\u001B[38;5;21;01m.\u001B[39;00m\u001B[38;5;21;01mlog\u001B[39;00m\u001B[38;5;21;01m.\u001B[39;00m\u001B[38;5;21;01ml302\u001B[39;00m \u001B[38;5;28;01mimport\u001B[39;00m read_ao_overlap_matrix\n\u001B[1;32m      3\u001B[0m n_checks \u001B[38;5;241m=\u001B[39m \u001B[38;5;241m10\u001B[39m\n\u001B[1;32m      4\u001B[0m times \u001B[38;5;241m=\u001B[39m np\u001B[38;5;241m.\u001B[39mzeros(n_checks)\n",
      "\u001B[0;31mModuleNotFoundError\u001B[0m: No module named 'mctools.parsing.gaussian.log.l302'"
     ]
    }
   ],
   "source": [
    "from mctools.parsing.gaussian.log.l302 import read_ao_overlap_matrix\n",
    "\n",
    "n_checks = 10\n",
    "times = np.zeros(n_checks)\n",
    "for k in range(n_checks):\n",
    "    with log.open('r') as f:\n",
    "\n",
    "        t0 = time.perf_counter_ns()\n",
    "        array = read_ao_overlap_matrix(f, first_line='')\n",
    "        t1 = time.perf_counter_ns()\n",
    "    \n",
    "        times[k] = t1 - t0\n",
    "\n",
    "print(times.mean() / 1e6, times.std() / 1e6) "
   ],
   "metadata": {
    "collapsed": false,
    "ExecuteTime": {
     "end_time": "2024-02-28T03:58:15.414146Z",
     "start_time": "2024-02-28T03:58:15.331752Z"
    }
   },
   "id": "6b567c50d07d84b7",
   "execution_count": 18
  },
  {
   "cell_type": "code",
   "outputs": [],
   "source": [
    "f = np.vectorize(lambda v: f'{v:e}')\n",
    "\n",
    "strings = f(np.random.uniform(-1e-8, 1e8, 5000))\n",
    "strings_lst = list(np.char.replace(strings, 'e', 'D'))"
   ],
   "metadata": {
    "collapsed": false,
    "ExecuteTime": {
     "end_time": "2024-02-28T03:58:15.441678Z",
     "start_time": "2024-02-28T03:58:15.352539Z"
    }
   },
   "id": "5eba8b537fcb978f",
   "execution_count": 19
  },
  {
   "cell_type": "code",
   "outputs": [],
   "source": [
    "%timeit np.char.replace(strings, 'D', 'e').astype(np.float_)"
   ],
   "metadata": {
    "collapsed": false,
    "ExecuteTime": {
     "start_time": "2024-02-28T03:58:15.448725Z"
    }
   },
   "id": "ff325163b9747125",
   "execution_count": null
  },
  {
   "cell_type": "code",
   "outputs": [],
   "source": [
    "%timeit np.fromiter(map(lambda v: v.replace('D', 'e'), strings_lst), dtype=np.float_)"
   ],
   "metadata": {
    "collapsed": false
   },
   "id": "4665d5e30b13081",
   "execution_count": null
  },
  {
   "cell_type": "code",
   "outputs": [],
   "source": [
    "dim_size"
   ],
   "metadata": {
    "collapsed": false
   },
   "id": "b4fc50a871660e94",
   "execution_count": null
  },
  {
   "cell_type": "code",
   "outputs": [],
   "source": [
    "import numpy as np\n",
    "\n",
    "arr64 = np.asarray(array, dtype=np.float64)\n",
    "arr32 = np.asarray(array, dtype=np.float32)"
   ],
   "metadata": {
    "collapsed": false
   },
   "id": "f77207ac6383e37b",
   "execution_count": null
  },
  {
   "cell_type": "code",
   "outputs": [],
   "source": [
    "arr64.nbytes / 1024"
   ],
   "metadata": {
    "collapsed": false
   },
   "id": "4ea7ab84b5ed87b3",
   "execution_count": null
  },
  {
   "cell_type": "code",
   "outputs": [],
   "source": [
    "arr32.nbytes / 1024"
   ],
   "metadata": {
    "collapsed": false
   },
   "id": "13c3c8868a425202",
   "execution_count": null
  },
  {
   "cell_type": "markdown",
   "source": [
    "# Analyze CAS States"
   ],
   "metadata": {},
   "id": "47c7b7cc"
  },
  {
   "cell_type": "code",
   "outputs": [],
   "source": [
    "from mctools.parser.gaussian import parse_gdvlog, l302_parser_funcs_general, l302_postprocess_general, l910_parser_funcs_fast\n",
    "\n",
    "gdvlog = data_dir / 'casscf.log'\n",
    "\n",
    "data = parse_gdvlog(\n",
    "    gdvlog, \n",
    "    l302_parser_funcs_general | l910_parser_funcs_fast,\n",
    "    postprocess_links=l302_postprocess_general\n",
    ")"
   ],
   "metadata": {
    "collapsed": false
   },
   "id": "8d56f14ff4ae8b8c",
   "execution_count": null
  },
  {
   "cell_type": "code",
   "outputs": [],
   "source": [
    "import mmap\n",
    "import re\n",
    "\n",
    "from collections import defaultdict\n",
    "from typing import Callable, IO, AnyStr, Any\n",
    "\n",
    "general_link_patt = re.compile(rb'^\\s+((\\(Enter|Entering Link)[\\s\\d=]+(?P<path>\\/.*\\.[\\w:]+))', flags=re.MULTILINE)\n",
    "\n",
    "\n",
    "def parse_general_link_path(path: str) -> str:\n",
    "    return pathlib.Path(path).stem\n",
    "\n",
    "def find_links_re(filename: str | pathlib.Path, *, parse_link_path: Callable[[str], str] | None = None) ->  dict[str, list[tuple[int, int | None]]]:\n",
    "    parse_link_path = parse_general_link_path if parse_link_path is None else parse_link_path\n",
    "\n",
    "    filesize: int\n",
    "    found_links: list[tuple[str, int]] = []\n",
    "    with pathlib.Path(filename).open(mode=\"r\", encoding=\"ascii\") as file_obj:\n",
    "        with mmap.mmap(file_obj.fileno(), length=0, access=mmap.ACCESS_READ) as mmap_obj:\n",
    "            filesize = int(mmap_obj.size())\n",
    "            for match in general_link_patt.finditer(mmap_obj):\n",
    "                link = parse_link_path(match.groupdict()['path'].decode())\n",
    "                start = match.span(0)[0]\n",
    "                found_links.append((link, start))\n",
    "    \n",
    "    links: dict[str, list[tuple[int, int | None]]] = defaultdict(list)\n",
    "    for i, (path, start) in enumerate(found_links[:-1]):\n",
    "        next_start = found_links[i + 1][1]\n",
    "        links[path].append((start, next_start - start))\n",
    "    else:\n",
    "        path, start = found_links[-1]\n",
    "        links[path].append((start, filesize - start))\n",
    "        \n",
    "    return links\n",
    "\n",
    "\n",
    "def find_links(filename: str | pathlib.Path, include_l1: bool = False) ->  dict[str, list[tuple[int, int | None]]]:\n",
    "    filesize = 0\n",
    "    found_links: list[tuple[str, int]] = []\n",
    "    with pathlib.Path(filename).open(mode=\"r\", encoding=\"ascii\") as file_obj:\n",
    "        with mmap.mmap(file_obj.fileno(), length=0, access=mmap.ACCESS_READ) as mmap_obj:\n",
    "            if include_l1:\n",
    "                for line in iter(mmap_obj.readline, b\"\"):\n",
    "                    if line.startswith(b' Entering Link'):\n",
    "                        link = line.strip().split()[4].rsplit(b'/', 1)[-1].split(b'.')[0].decode()\n",
    "                        found_links.append((link, filesize))\n",
    "                        filesize += len(line)\n",
    "                        break\n",
    "                    filesize += len(line)\n",
    "                \n",
    "            for line in iter(mmap_obj.readline, b\"\"):\n",
    "                if line.startswith(b' (Enter'):\n",
    "                    link = line.strip().strip(b'()').rsplit(b'/', 1)[-1].split(b'.')[0].decode()\n",
    "                    found_links.append((link, filesize))\n",
    "                filesize += len(line)\n",
    "    \n",
    "    links: dict[str, list[tuple[int, int | None]]] = defaultdict(list)\n",
    "    for i, (link, start) in enumerate(found_links[:-1]):\n",
    "        next_start = found_links[i + 1][1]\n",
    "        links[link].append((start, next_start - start))\n",
    "    else:\n",
    "        link, start = found_links[-1]\n",
    "        links[link].append((start, filesize - start))\n",
    "        \n",
    "    return links\n",
    "\n",
    "\n",
    "def parse_link(filename: str | pathlib.Path, offset: int, length: int) -> None:\n",
    "    mmap_offset = (offset // mmap.ALLOCATIONGRANULARITY) * mmap.ALLOCATIONGRANULARITY\n",
    "    link_offset = offset - mmap_offset\n",
    "    mmap_length = link_offset + length\n",
    "    \n",
    "    with pathlib.Path(filename).open(mode=\"r\", encoding=\"ascii\") as f:\n",
    "        with mmap.mmap(f.fileno(), length=mmap_length, access=mmap.ACCESS_READ, offset=mmap_offset) as mmap_obj:\n",
    "            mmap_obj.seek(link_offset)\n",
    "            for i, line in enumerate(iter(mmap_obj.readline, b\"\")):\n",
    "                print(line.decode(\"utf-8\").strip())"
   ],
   "metadata": {
    "collapsed": false
   },
   "id": "bc6c50760c1180d7",
   "execution_count": null
  },
  {
   "cell_type": "code",
   "outputs": [],
   "source": [
    "from mctools.core.mcspace import MCSpace\n",
    "from mctools.parser.lib import ParsingResult\n",
    "\n",
    "L910 = 'l910'\n",
    "\n",
    "rout_patt = re.compile(r'^ *(\\d+)\\/(\\d+=[-\\d]+,?)+\\/(\\d,?)+;')\n",
    "\n",
    "RouteType =  dict[str, list[dict[int, int]]] \n",
    "def parse_l1(filename: str | pathlib.Path) -> RouteType:\n",
    "    route: RouteType = defaultdict(list)\n",
    "    with pathlib.Path(filename).open(mode=\"r\") as file_obj:\n",
    "        for line in file_obj:\n",
    "            if line.startswith(' Leave'):\n",
    "                break\n",
    "                \n",
    "            if rout_patt.match(line):\n",
    "                line = line.strip().strip(';')\n",
    "                start, middle, ends = line.split('/')\n",
    "                middle = {k: v for k, v in map(lambda p: tuple(map(int, p.split('='))), middle.split(','))}\n",
    "                ends = [e.rjust(2, '0') for e in ends.split(',')]\n",
    "                \n",
    "                for end in ends: \n",
    "                    link = 'l' + start + end\n",
    "                    route[link].append(middle)\n",
    "    return route\n",
    "\n",
    "def parse_l910_route(route: RouteType, route_idx: int = 0) -> tuple[bool, ParsingResult]:\n",
    "    if L910 not in route:\n",
    "        return False, ParsingResult()\n",
    "    \n",
    "    l910_route = route[L910][route_idx]\n",
    "    \n",
    "    n_elec = l910_route.get(6, 0)\n",
    "    n_mos = l910_route.get(7, 0)\n",
    "    max_hole = l910_route.get(111, 0)\n",
    "    ras1_mo = l910_route.get(112, 0)\n",
    "    max_elec = l910_route.get(113, 0)\n",
    "    ras3_mo = l910_route.get(114, 0)\n",
    "    ras2_mo = n_mos - ras1_mo - ras3_mo\n",
    "    mcspace = MCSpace.from_space_spec(\n",
    "        (ras1_mo, ras2_mo, ras3_mo), n_elec,\n",
    "        max_hole=max_hole, max_elec=max_elec\n",
    "    )\n",
    "    \n",
    "    n_states = l910_route.get(17, 1)\n",
    "    n_states = n_states // 10000 + n_states % 10000  # Account for M0000, where M is number higher energy states in Davidson\n",
    "    \n",
    "    n_ground = l910_route.get(19, None)\n",
    "    n_ground = n_states if n_ground and n_ground < 0 else n_ground\n",
    "    \n",
    "    has_rdms = l910_route.get(32, 1)\n",
    "    has_rdms = has_rdms == 0 or has_rdms == 1\n",
    "    \n",
    "    has_tdms = bool(l910_route.get(131, 0)),\n",
    "    \n",
    "    return True, {\n",
    "        'mcspace': mcspace,\n",
    "        'n_states': n_states,\n",
    "        'n_ground': n_ground,\n",
    "        \n",
    "        'has_rdms': has_rdms,\n",
    "        'has_tdms': has_tdms,\n",
    "        \n",
    "        'n_mo_act': lambda _: mcspace.n_mo_act\n",
    "    }"
   ],
   "metadata": {
    "collapsed": false
   },
   "id": "4338889b2a92ddd8",
   "execution_count": null
  },
  {
   "cell_type": "code",
   "outputs": [],
   "source": [
    "result = {}\n",
    "build_l910_parser_funcs(route, result=result)"
   ],
   "metadata": {
    "collapsed": false
   },
   "id": "4ae05975e7c7deb4",
   "execution_count": null
  },
  {
   "cell_type": "code",
   "outputs": [],
   "source": [
    "result"
   ],
   "metadata": {
    "collapsed": false
   },
   "id": "7b09fdc5c684a78b",
   "execution_count": null
  },
  {
   "cell_type": "code",
   "outputs": [],
   "source": [],
   "metadata": {
    "collapsed": false
   },
   "id": "951dda922d0d8479",
   "execution_count": null
  },
  {
   "cell_type": "code",
   "outputs": [],
   "source": [
    "s1 = set((k,len(v)) for k, v in links.items())\n",
    "s2 = set((k,len(v)) for k, v in route.items())\n",
    "assert s1 == s2"
   ],
   "metadata": {
    "collapsed": false
   },
   "id": "a84f57c4cd25b1e8",
   "execution_count": null
  },
  {
   "cell_type": "code",
   "outputs": [],
   "source": [
    "\n",
    "    "
   ],
   "metadata": {
    "collapsed": false
   },
   "id": "9040b9d7692295d4",
   "execution_count": null
  },
  {
   "cell_type": "code",
   "outputs": [],
   "source": [
    "cas_space = MCSpace.from_dict(data, max_hole=0, max_elec=0)\n",
    "cas_states = MCStates.from_dict(data, mcspace=cas_space)\n",
    "\n",
    "cas_space.set_mo_blocks({\n",
    "    '4f': [(0, 13), 49],\n",
    "    '5p': [(13, 49)]\n",
    "})\n",
    "\n",
    "cas_space.set_config_classes({\n",
    "    'f13': {'4f': 13, '5p': 36},\n",
    "    'Lf14': {'4f': 14, '5p': 35},\n",
    "})\n",
    "\n",
    "cas_states.analyze()"
   ],
   "metadata": {
    "collapsed": false
   },
   "id": "1752f2bd6fa1eee7",
   "execution_count": null
  },
  {
   "cell_type": "code",
   "execution_count": null,
   "id": "93b129c3",
   "metadata": {
    "collapsed": false
   },
   "outputs": [],
   "source": [
    "cas_states.print_state(idx=[0, 1])"
   ]
  },
  {
   "cell_type": "code",
   "execution_count": null,
   "id": "a504229d",
   "metadata": {
    "collapsed": false
   },
   "outputs": [],
   "source": [
    "from mctools.plot.states import prepare_state_centers\n",
    "\n",
    "width = 0.1\n",
    "x_c = prepare_state_centers(cas_states, column_width=2)\n",
    "\n",
    "plt.hlines('E', x_c - width, x_c + width, data=cas_states.df)\n",
    "plt.show()"
   ]
  },
  {
   "cell_type": "markdown",
   "id": "bab6325e",
   "metadata": {},
   "source": [
    "# Analyze RASCI States"
   ]
  },
  {
   "cell_type": "code",
   "execution_count": null,
   "id": "7b7f3b99",
   "metadata": {
    "collapsed": false
   },
   "outputs": [],
   "source": [
    "rasci_gs_dir = '/Users/kirill/Documents/UW/Li_Group/CsPbCl3_Ln/calculations/rasci/ras-36p-14f'\n",
    "\n",
    "gs_space = MCSpace.from_space_spec(\n",
    "    (36, 14, 12), 37,\n",
    "    max_hole=2, max_elec=2,\n",
    "    mo_blocks={\n",
    "        '3p': [(0, 36)],\n",
    "        '4f': [(36, 50)],\n",
    "        'virt': [(50, 62)],\n",
    "    },\n",
    "    config_classes={\n",
    "        'f1': {'3p': 36, '4f': 1, 'virt': 0},\n",
    "        'Lf2': {'3p': 35, '4f': 2, 'virt': 0}\n",
    "    }\n",
    ")\n",
    "\n",
    "ce3p_cas_gdvlog = os.path.join(rasci_gs_dir, 'rasci_62s.ce3p_casscf_sa14_14s_gb3lyp_ref.tzvppall.gdv_j14p.7491751.log')\n",
    "data = parse_gdvlog(ce3p_cas_gdvlog, l910_parser_funcs_general)\n",
    "states = MCStates.from_dict(data, space=gs_space)\n",
    "states.analyze()"
   ]
  },
  {
   "cell_type": "code",
   "execution_count": null,
   "id": "3ef7e680",
   "metadata": {
    "collapsed": false
   },
   "outputs": [],
   "source": [
    "ce4p_space = MCSpace.from_space_spec(\n",
    "    (36, 14, 12), 36,\n",
    "    max_hole=2, max_elec=2,\n",
    "    mo_blocks={\n",
    "        '3p': [(0, 36)],\n",
    "        '4f': [(36, 50)],\n",
    "        'virt': [(50, 62)],\n",
    "    },\n",
    "    config_classes={\n",
    "        'f0': {'3p': 36, '4f': 0, 'virt': 0},\n",
    "\n",
    "        'Lf1': {'3p': 35, '4f': 1, 'virt': 0},\n",
    "        'Ld1': {'3p': 35, '4f': 0, 'virt': 1},\n",
    "\n",
    "        'L2f1d1': {'3p': 34, '4f': 1, 'virt': 1},\n",
    "        'L2f0d2': {'3p': 34, '4f': 0, 'virt': 2},\n",
    "    }\n",
    ")\n",
    "\n",
    "ce4p_cas_gdvlog = os.path.join(rasci_gs_dir, 'rasci_62s.ce4p_gb3lyp_ref.tzvppall.gdv_j14p.7403644.log')\n",
    "data = parse_gdvlog(ce4p_cas_gdvlog, l910_parser_funcs_general)\n",
    "ce4p = MCStates.from_dict(data, space=ce4p_space)\n",
    "ce4p.analyze()"
   ]
  },
  {
   "cell_type": "code",
   "execution_count": null,
   "id": "bdf090bc",
   "metadata": {
    "collapsed": false
   },
   "outputs": [],
   "source": [
    "with pd.option_context('max_colwidth', 100_000, 'display.expand_frame_repr', False):\n",
    "    df = ce4p.get_state_ci_vec([1])\n",
    "    print(df)"
   ]
  },
  {
   "cell_type": "code",
   "execution_count": null,
   "outputs": [],
   "source": [
    "ce4p.print_state(idx=[0, 1, 2], include_mo=True, include_config_class=True, shift_ground=True, config_limit=6)"
   ],
   "metadata": {
    "collapsed": false
   },
   "id": "978c90f1cead79c7"
  },
  {
   "cell_type": "code",
   "execution_count": null,
   "outputs": [],
   "source": [
    "ce4p.df"
   ],
   "metadata": {
    "collapsed": false
   },
   "id": "3828074c9bbc29e9"
  },
  {
   "cell_type": "markdown",
   "id": "82c92ab4",
   "metadata": {},
   "source": [
    "#  M-Edge Spectrum"
   ]
  },
  {
   "cell_type": "code",
   "execution_count": null,
   "id": "0627e1e1",
   "metadata": {
    "collapsed": false
   },
   "outputs": [],
   "source": [
    "rasci_gdvlog = os.path.join(data_dir, 'rasci_3.log')\n",
    "\n",
    "m_edge_data = parse_gdvlog(rasci_gdvlog, l910_parser_funcs_general, n_ground=14)\n",
    "medge_space = MCSpace.from_dict(m_edge_data, max_hole=1, max_elec=0)\n",
    "medge_states = MCStates.from_dict(m_edge_data, space=medge_space)\n",
    "\n",
    "\n",
    "medge_space.mo_blocks = {\n",
    "    '3d': [(0, 10)],\n",
    "    '4f': [(10, 23), 59],\n",
    "    '5p': [(23, 59)],\n",
    "}\n",
    "\n",
    "medge_space.config_classes = {\n",
    "    'f13': {'3d': 10, '4f': 13, '5p': 36},\n",
    "    'Lf14': {'3d': 10, '4f': 14, '5p': 35},\n",
    "    'f14': {'3d': 9, '4f': 14, '5p': 36},\n",
    "}\n",
    "\n",
    "medge_states.analyze()"
   ]
  },
  {
   "cell_type": "code",
   "execution_count": null,
   "outputs": [],
   "source": [
    "print(medge_states.df)"
   ],
   "metadata": {
    "collapsed": false
   },
   "id": "cdf3054f36a396aa"
  },
  {
   "cell_type": "code",
   "execution_count": null,
   "id": "ec0a6538",
   "metadata": {
    "collapsed": false
   },
   "outputs": [],
   "source": [
    "print(medge_states.peaks.df)"
   ]
  },
  {
   "cell_type": "code",
   "execution_count": null,
   "id": "9b5d3906",
   "metadata": {
    "collapsed": false
   },
   "outputs": [],
   "source": [
    "gdvlog = '/Users/kirill/Documents/UW/Li_Group/CrI3_Yb/notebooks/../calculations/mc/x2c_tzvpall_2c/cas_36p_14f/rasci/rasci_68s.r1_2s_6p_10d.casscf_sa50_50s_ref.yb3p.exp.tzvpall.gdv_j14p.7748435.log'\n",
    "\n",
    "data = parse_gdvlog(gdvlog, l910_parser_funcs, n_ground=14)\n",
    "medge_space = MCSpace.from_dict(data, max_hole=0, max_elec=0, use_python_int=True)\n",
    "medge_states = MCStates.from_dict(data, space=medge_space)\n",
    "medge_spec = MCSpectrum.from_dict(data, states=medge_states)\n",
    "\n",
    "medge_space.mo_blocks = {\n",
    "    'M': [(0, 18)],\n",
    "    '4f':   [(18, 31), 67],\n",
    "    '5p':   [(31, 67),],\n",
    "\n",
    "    # 'virt': [(60, 72)],\n",
    "}\n",
    "\n",
    "medge_space.config_classes = {\n",
    "    'f13': {'4f': 13},\n",
    "    'Lf14': {'5p': 35, '4f': 14},\n",
    "    'Mf14': {'M': 17, '4f': 14},\n",
    "}\n",
    "\n",
    "medge_spec.analyze()"
   ]
  },
  {
   "cell_type": "code",
   "execution_count": null,
   "id": "4462d86e",
   "metadata": {
    "collapsed": false
   },
   "outputs": [],
   "source": [
    "medge_spec.states.df['state'].isin([1, 2])"
   ]
  },
  {
   "cell_type": "markdown",
   "id": "f82f0b9a",
   "metadata": {},
   "source": [
    "# Partitioned K-edge Spectrum"
   ]
  },
  {
   "cell_type": "code",
   "execution_count": null,
   "id": "eecadb98",
   "metadata": {
    "collapsed": false
   },
   "outputs": [],
   "source": [
    "spec_space = MCSpace.from_space_spec(\n",
    "    (12, 14, 10), 13,\n",
    "    max_hole=2, max_elec=1,\n",
    "    mo_blocks={\n",
    "        '1s': [(0, 6)],\n",
    "        '3p': [(6, 12)],\n",
    "        '4f': [(12, 26)],\n",
    "        '5d': [(26, 36)],\n",
    "    },\n",
    ")\n",
    "\n",
    "gdvlogs = sorted(glob.glob(os.path.join(data_dir, 'spectrum', 'part*.log')))\n",
    "\n",
    "spec_parts = []\n",
    "for gdvlog in gdvlogs:\n",
    "    part_data = parse_gdvlog(gdvlog, l910_parser_funcs, n_ground=2)\n",
    "    spec = MCSpectrum.from_dict(part_data, space=spec_space, sort_peaks=True, )\n",
    "    spec_parts.append(spec)"
   ]
  },
  {
   "cell_type": "code",
   "execution_count": null,
   "id": "415360d0",
   "metadata": {
    "collapsed": false
   },
   "outputs": [],
   "source": [
    "left = spec_parts[0].states\n",
    "right = spec_parts[1].states\n",
    "\n",
    "alignment = get_state_alignment(left, right)"
   ]
  },
  {
   "cell_type": "code",
   "execution_count": null,
   "id": "6b31abad",
   "metadata": {
    "collapsed": false
   },
   "outputs": [],
   "source": [
    "sl_l, sl_r, overlap = alignment[2]\n",
    "\n",
    "dfl = left.df.iloc[sl_l][left.IDX_COLS].rename(columns={\n",
    "    left.STATE_COL: f'{left.STATE_COL}_left',\n",
    "    left.SOURCE_COL: f'{left.SOURCE_COL}_left',\n",
    "})\n",
    "\n",
    "dfr = right.df.iloc[sl_r][right.IDX_COLS].rename(columns={\n",
    "    right.STATE_COL: f'{right.STATE_COL}_right',\n",
    "    right.SOURCE_COL: f'{right.SOURCE_COL}_right',\n",
    "})\n",
    "\n",
    "df = pd.concat([dfl.reset_index(drop=True), dfr.reset_index(drop=True)], axis=1)\n",
    "df['overlap'] = overlap"
   ]
  },
  {
   "cell_type": "code",
   "execution_count": null,
   "id": "b3d4f4ab",
   "metadata": {
    "collapsed": false
   },
   "outputs": [],
   "source": [
    "spec = MCSpectrum.from_spectra(spec_parts)"
   ]
  },
  {
   "cell_type": "code",
   "execution_count": null,
   "id": "6405f8f5",
   "metadata": {
    "collapsed": false
   },
   "outputs": [],
   "source": [
    "fig, ax = plt.subplots(1, 1)\n",
    "\n",
    "ax.vlines('dE', 0, 'osc', data=spec.df)\n",
    "plt.show()"
   ]
  },
  {
   "cell_type": "code",
   "execution_count": null,
   "id": "bba0e173",
   "metadata": {
    "collapsed": false
   },
   "outputs": [],
   "source": [
    "spec.df"
   ]
  },
  {
   "cell_type": "code",
   "execution_count": null,
   "id": "51f344e8",
   "metadata": {
    "collapsed": false
   },
   "outputs": [],
   "source": [
    "rasci_dir = '/Users/kirill/Documents/UW/Li_Group/CsPbCl3_Ln/calculations/rasci/ras-t1u_1s_3p-14_4f-10_5d/dipoles'\n",
    "\n",
    "gdvlogs = glob.glob(os.path.join(rasci_dir, 'rasci_414s.*ano_cl*.log'))\n",
    "\n",
    "space = MCSpace.from_space_spec(\n",
    "    ras=(12, 14, 10),\n",
    "    elec=13,\n",
    "    max_hole=2, max_elec=1,\n",
    "    mo_blocks={\n",
    "        '1s': [(0, 6)],\n",
    "        '3p': [(6, 12)],\n",
    "        '4f': [(12, 26)],\n",
    "        '5d': [(26, 36)],\n",
    "    },\n",
    ")\n",
    "\n",
    "spec_parts = []\n",
    "for gdvlog in gdvlogs:\n",
    "    part_data = parse_gdvlog(gdvlog, l910_parser_funcs, n_ground=14)\n",
    "    spec = MCSpectrum.from_dict(part_data, space=space, sort_peaks=True)\n",
    "    spec_parts.append(spec)\n",
    "\n",
    "spec_parts = sorted(spec_parts, key=lambda x: np.mean(x.energy_range))"
   ]
  },
  {
   "cell_type": "code",
   "execution_count": null,
   "id": "bb25fd26",
   "metadata": {
    "collapsed": false
   },
   "outputs": [],
   "source": [
    "MCSpectrum.from_spectra(spec_parts)"
   ]
  }
 ],
 "metadata": {
  "kernelspec": {
   "display_name": "Python 3 (ipykernel)",
   "language": "python",
   "name": "python3"
  },
  "language_info": {
   "codemirror_mode": {
    "name": "ipython",
    "version": 3
   },
   "file_extension": ".py",
   "mimetype": "text/x-python",
   "name": "python",
   "nbconvert_exporter": "python",
   "pygments_lexer": "ipython3",
   "version": "3.10.9"
  }
 },
 "nbformat": 4,
 "nbformat_minor": 5
}

{
 "cells": [
  {
   "cell_type": "code",
   "execution_count": 1,
   "id": "8a0c5571-2032-46f1-84a4-178f55d167b9",
   "metadata": {},
   "outputs": [],
   "source": [
    "import os\n",
    "\n",
    "from mctools.core import MCSpace, MCStates, MCSpectrum\n",
    "from mctools.parser.gaussian import parse_gdvlog, l302_parser_funcs_general, l910_parser_funcs"
   ]
  },
  {
   "cell_type": "code",
   "execution_count": 2,
   "id": "b1d9f4a8-4840-4d92-ab23-8f5f723df4b3",
   "metadata": {},
   "outputs": [],
   "source": [
    "data_dir = os.path.join('data')"
   ]
  },
  {
   "cell_type": "code",
   "execution_count": 4,
   "id": "0afe6408-d31a-47c1-a1a2-f35dfd94648d",
   "metadata": {},
   "outputs": [
    {
     "name": "stdout",
     "output_type": "stream",
     "text": [
      "Reading data/casscf.log\n",
      "Parsing link l302\n",
      "Executing: read_overlap_matrix\n",
      "Executing: read_kinetic_energy_matrix\n",
      "Executing: read_hcore_matrix\n",
      "Executing: read_orthogonal_aos_matrix\n",
      "Parsing link l910\n",
      "Executing: read_mc_spec\n",
      "Executing: read_ci\n",
      "Executing: read_pdm_diags\n",
      "Skipping: read_oscillator_strength, parameter n_ground is unavailable\n"
     ]
    }
   ],
   "source": [
    "casscf_gdvlog = os.path.join(data_dir, 'casscf.log')\n",
    "\n",
    "parser_funcs = l302_parser_funcs_general | l910_parser_funcs\n",
    "\n",
    "data = parse_gdvlog(casscf_gdvlog, parser_funcs)\n",
    "cas_space = MCSpace.from_dict(data, max_hole=0, max_elec=0)\n",
    "cas_states = MCStates.from_dict(data, space=cas_space)\n",
    "\n",
    "cas_space.mo_blocks = {\n",
    "    '4f': [(0, 13), 49],\n",
    "    '5p': [(13, 49)]\n",
    "}\n",
    "\n",
    "cas_space.config_classes = {\n",
    "    'f13': {'4f': 13, '5p': 36},\n",
    "    'Lf14': {'4f': 14, '5p': 35},\n",
    "}\n",
    "\n",
    "cas_states.analyze()"
   ]
  },
  {
   "cell_type": "code",
   "execution_count": 7,
   "outputs": [
    {
     "name": "stdout",
     "output_type": "stream",
     "text": [
      "Reading data/rasci_3.log\n",
      "Parsing link l910\n",
      "Executing: read_mc_spec\n",
      "Executing: read_ci\n",
      "Executing: read_pdm_diags\n",
      "Executing: read_oscillator_strength\n"
     ]
    },
    {
     "ename": "KeyboardInterrupt",
     "evalue": "",
     "output_type": "error",
     "traceback": [
      "\u001B[0;31m---------------------------------------------------------------------------\u001B[0m",
      "\u001B[0;31mKeyboardInterrupt\u001B[0m                         Traceback (most recent call last)",
      "Cell \u001B[0;32mIn [7], line 19\u001B[0m\n\u001B[1;32m      6\u001B[0m medge_space\u001B[38;5;241m.\u001B[39mmo_blocks \u001B[38;5;241m=\u001B[39m {\n\u001B[1;32m      7\u001B[0m     \u001B[38;5;124m'\u001B[39m\u001B[38;5;124m3d\u001B[39m\u001B[38;5;124m'\u001B[39m: [(\u001B[38;5;241m0\u001B[39m, \u001B[38;5;241m10\u001B[39m)],\n\u001B[1;32m      8\u001B[0m     \u001B[38;5;124m'\u001B[39m\u001B[38;5;124m4f\u001B[39m\u001B[38;5;124m'\u001B[39m: [(\u001B[38;5;241m10\u001B[39m, \u001B[38;5;241m23\u001B[39m), \u001B[38;5;241m49\u001B[39m],\n\u001B[1;32m      9\u001B[0m     \u001B[38;5;124m'\u001B[39m\u001B[38;5;124m5p\u001B[39m\u001B[38;5;124m'\u001B[39m: [(\u001B[38;5;241m23\u001B[39m, \u001B[38;5;241m59\u001B[39m)],\n\u001B[1;32m     10\u001B[0m }\n\u001B[1;32m     12\u001B[0m medge_space\u001B[38;5;241m.\u001B[39mconfig_classes \u001B[38;5;241m=\u001B[39m {\n\u001B[1;32m     13\u001B[0m     \u001B[38;5;124m'\u001B[39m\u001B[38;5;124mf13\u001B[39m\u001B[38;5;124m'\u001B[39m: {\u001B[38;5;124m'\u001B[39m\u001B[38;5;124m3d\u001B[39m\u001B[38;5;124m'\u001B[39m: \u001B[38;5;241m10\u001B[39m, \u001B[38;5;124m'\u001B[39m\u001B[38;5;124m4f\u001B[39m\u001B[38;5;124m'\u001B[39m: \u001B[38;5;241m13\u001B[39m, \u001B[38;5;124m'\u001B[39m\u001B[38;5;124m5p\u001B[39m\u001B[38;5;124m'\u001B[39m: \u001B[38;5;241m36\u001B[39m},\n\u001B[1;32m     14\u001B[0m     \u001B[38;5;124m'\u001B[39m\u001B[38;5;124mLf14\u001B[39m\u001B[38;5;124m'\u001B[39m: {\u001B[38;5;124m'\u001B[39m\u001B[38;5;124m3d\u001B[39m\u001B[38;5;124m'\u001B[39m: \u001B[38;5;241m10\u001B[39m, \u001B[38;5;124m'\u001B[39m\u001B[38;5;124m4f\u001B[39m\u001B[38;5;124m'\u001B[39m: \u001B[38;5;241m14\u001B[39m, \u001B[38;5;124m'\u001B[39m\u001B[38;5;124m5p\u001B[39m\u001B[38;5;124m'\u001B[39m: \u001B[38;5;241m35\u001B[39m},\n\u001B[1;32m     15\u001B[0m \n\u001B[1;32m     16\u001B[0m     \u001B[38;5;124m'\u001B[39m\u001B[38;5;124mf14\u001B[39m\u001B[38;5;124m'\u001B[39m: {\u001B[38;5;124m'\u001B[39m\u001B[38;5;124m3d\u001B[39m\u001B[38;5;124m'\u001B[39m: \u001B[38;5;241m9\u001B[39m, \u001B[38;5;124m'\u001B[39m\u001B[38;5;124m4f\u001B[39m\u001B[38;5;124m'\u001B[39m: \u001B[38;5;241m14\u001B[39m, \u001B[38;5;124m'\u001B[39m\u001B[38;5;124m5p\u001B[39m\u001B[38;5;124m'\u001B[39m: \u001B[38;5;241m36\u001B[39m},\n\u001B[1;32m     17\u001B[0m }\n\u001B[0;32m---> 19\u001B[0m \u001B[43mmedge_spec\u001B[49m\u001B[38;5;241;43m.\u001B[39;49m\u001B[43manalyze\u001B[49m\u001B[43m(\u001B[49m\u001B[43m)\u001B[49m\n",
      "File \u001B[0;32m~/Documents/UW/Li_Group/mctools/mctools/core/mcspectrum.py:76\u001B[0m, in \u001B[0;36mMCSpectrum.analyze\u001B[0;34m(self)\u001B[0m\n\u001B[1;32m     75\u001B[0m \u001B[38;5;28;01mdef\u001B[39;00m \u001B[38;5;21manalyze\u001B[39m(\u001B[38;5;28mself\u001B[39m) \u001B[38;5;241m-\u001B[39m\u001B[38;5;241m>\u001B[39m NoReturn:\n\u001B[0;32m---> 76\u001B[0m     \u001B[38;5;28;43mself\u001B[39;49m\u001B[38;5;241;43m.\u001B[39;49m\u001B[43mstates\u001B[49m\u001B[38;5;241;43m.\u001B[39;49m\u001B[43manalyze\u001B[49m\u001B[43m(\u001B[49m\u001B[43m)\u001B[49m\n",
      "File \u001B[0;32m~/Documents/UW/Li_Group/mctools/mctools/core/mcstates.py:149\u001B[0m, in \u001B[0;36mMCStates.analyze\u001B[0;34m(self, idx, cond, save, replace, **kwargs)\u001B[0m\n\u001B[1;32m    147\u001B[0m \u001B[38;5;28;01mtry\u001B[39;00m:\n\u001B[1;32m    148\u001B[0m     dfs\u001B[38;5;241m.\u001B[39mappend(\u001B[38;5;28mself\u001B[39m\u001B[38;5;241m.\u001B[39mpartition_pdm_diag(idx\u001B[38;5;241m=\u001B[39midx, cond\u001B[38;5;241m=\u001B[39mcond, save\u001B[38;5;241m=\u001B[39msave, replace\u001B[38;5;241m=\u001B[39mreplace))\n\u001B[0;32m--> 149\u001B[0m     dfs\u001B[38;5;241m.\u001B[39mappend(\u001B[38;5;28;43mself\u001B[39;49m\u001B[38;5;241;43m.\u001B[39;49m\u001B[43mpartition_ci_vec\u001B[49m\u001B[43m(\u001B[49m\u001B[43midx\u001B[49m\u001B[38;5;241;43m=\u001B[39;49m\u001B[43midx\u001B[49m\u001B[43m,\u001B[49m\u001B[43m \u001B[49m\u001B[43mcond\u001B[49m\u001B[38;5;241;43m=\u001B[39;49m\u001B[43mcond\u001B[49m\u001B[43m,\u001B[49m\u001B[43m \u001B[49m\u001B[43msave\u001B[49m\u001B[38;5;241;43m=\u001B[39;49m\u001B[43msave\u001B[49m\u001B[43m,\u001B[49m\u001B[43m \u001B[49m\u001B[43mreplace\u001B[49m\u001B[38;5;241;43m=\u001B[39;49m\u001B[43mreplace\u001B[49m\u001B[43m)\u001B[49m)\n\u001B[1;32m    150\u001B[0m \u001B[38;5;28;01mexcept\u001B[39;00m \u001B[38;5;167;01mValueError\u001B[39;00m \u001B[38;5;28;01mas\u001B[39;00m err:\n\u001B[1;32m    151\u001B[0m     warnings\u001B[38;5;241m.\u001B[39mwarn(err\u001B[38;5;241m.\u001B[39margs[\u001B[38;5;241m0\u001B[39m])\n",
      "File \u001B[0;32m~/Documents/UW/Li_Group/mctools/mctools/core/mcstates.py:176\u001B[0m, in \u001B[0;36mMCStates.partition_ci_vec\u001B[0;34m(self, idx, cond, save, replace, **kwargs)\u001B[0m\n\u001B[1;32m    173\u001B[0m     \u001B[38;5;28;01mraise\u001B[39;00m \u001B[38;5;167;01mValueError\u001B[39;00m(\u001B[38;5;124m'\u001B[39m\u001B[38;5;124mSet MCSpace first\u001B[39m\u001B[38;5;124m'\u001B[39m)\n\u001B[1;32m    175\u001B[0m idx \u001B[38;5;241m=\u001B[39m \u001B[38;5;28mself\u001B[39m\u001B[38;5;241m.\u001B[39mfilter(idx\u001B[38;5;241m=\u001B[39midx, cond\u001B[38;5;241m=\u001B[39mcond)\n\u001B[0;32m--> 176\u001B[0m df \u001B[38;5;241m=\u001B[39m \u001B[38;5;28;43mself\u001B[39;49m\u001B[38;5;241;43m.\u001B[39;49m\u001B[43mspace\u001B[49m\u001B[38;5;241;43m.\u001B[39;49m\u001B[43mpartition_ci_vec\u001B[49m\u001B[43m(\u001B[49m\u001B[38;5;28;43mself\u001B[39;49m\u001B[38;5;241;43m.\u001B[39;49m\u001B[43mci_vecs\u001B[49m\u001B[43m[\u001B[49m\u001B[38;5;28;43mself\u001B[39;49m\u001B[38;5;241;43m.\u001B[39;49m\u001B[43m_state_map\u001B[49m\u001B[43m[\u001B[49m\u001B[43midx\u001B[49m\u001B[43m]\u001B[49m\u001B[43m]\u001B[49m\u001B[43m)\u001B[49m\n\u001B[1;32m    177\u001B[0m df\u001B[38;5;241m.\u001B[39mset_index(\u001B[38;5;28mself\u001B[39m\u001B[38;5;241m.\u001B[39mdf\u001B[38;5;241m.\u001B[39mindex[idx], inplace\u001B[38;5;241m=\u001B[39m\u001B[38;5;28;01mTrue\u001B[39;00m)\n\u001B[1;32m    179\u001B[0m \u001B[38;5;28;01mif\u001B[39;00m \u001B[38;5;129;01mnot\u001B[39;00m save:\n",
      "File \u001B[0;32m~/Documents/UW/Li_Group/mctools/mctools/core/mcspace.py:92\u001B[0m, in \u001B[0;36mMCSpace.partition_ci_vec\u001B[0;34m(self, ci_vec)\u001B[0m\n\u001B[1;32m     90\u001B[0m \u001B[38;5;28;01mdef\u001B[39;00m \u001B[38;5;21mpartition_ci_vec\u001B[39m(\u001B[38;5;28mself\u001B[39m, ci_vec: sparse\u001B[38;5;241m.\u001B[39mcsr_array) \u001B[38;5;241m-\u001B[39m\u001B[38;5;241m>\u001B[39m pd\u001B[38;5;241m.\u001B[39mDataFrame:\n\u001B[1;32m     91\u001B[0m     addrs \u001B[38;5;241m=\u001B[39m np\u001B[38;5;241m.\u001B[39munique(ci_vec\u001B[38;5;241m.\u001B[39mindices)\n\u001B[0;32m---> 92\u001B[0m     lookup \u001B[38;5;241m=\u001B[39m \u001B[38;5;28;43mself\u001B[39;49m\u001B[38;5;241;43m.\u001B[39;49m\u001B[43mget_address_class_lookup\u001B[49m\u001B[43m(\u001B[49m\u001B[43maddrs\u001B[49m\u001B[43m)\u001B[49m\n\u001B[1;32m     94\u001B[0m     df \u001B[38;5;241m=\u001B[39m pd\u001B[38;5;241m.\u001B[39mDataFrame({\n\u001B[1;32m     95\u001B[0m         \u001B[38;5;124m'\u001B[39m\u001B[38;5;124mC\u001B[39m\u001B[38;5;124m'\u001B[39m: np\u001B[38;5;241m.\u001B[39mabs(ci_vec\u001B[38;5;241m.\u001B[39mdata) \u001B[38;5;241m*\u001B[39m\u001B[38;5;241m*\u001B[39m \u001B[38;5;241m2\u001B[39m,\n\u001B[1;32m     96\u001B[0m         \u001B[38;5;124m'\u001B[39m\u001B[38;5;124mstate\u001B[39m\u001B[38;5;124m'\u001B[39m: np\u001B[38;5;241m.\u001B[39mdigitize(np\u001B[38;5;241m.\u001B[39marange(ci_vec\u001B[38;5;241m.\u001B[39mdata\u001B[38;5;241m.\u001B[39mshape[\u001B[38;5;241m0\u001B[39m]), ci_vec\u001B[38;5;241m.\u001B[39mindptr) \u001B[38;5;241m-\u001B[39m \u001B[38;5;241m1\u001B[39m,\n\u001B[1;32m     97\u001B[0m         \u001B[38;5;124m'\u001B[39m\u001B[38;5;124mconfig_class\u001B[39m\u001B[38;5;124m'\u001B[39m: lookup\u001B[38;5;241m.\u001B[39mget(ci_vec\u001B[38;5;241m.\u001B[39mindices\u001B[38;5;241m.\u001B[39mastype(np\u001B[38;5;241m.\u001B[39muint64), \u001B[38;5;124m'\u001B[39m\u001B[38;5;124mRest\u001B[39m\u001B[38;5;124m'\u001B[39m)\n\u001B[1;32m     98\u001B[0m     })\n\u001B[1;32m    100\u001B[0m     result \u001B[38;5;241m=\u001B[39m df\u001B[38;5;241m.\u001B[39mpivot_table(\n\u001B[1;32m    101\u001B[0m         index\u001B[38;5;241m=\u001B[39m\u001B[38;5;124m'\u001B[39m\u001B[38;5;124mstate\u001B[39m\u001B[38;5;124m'\u001B[39m, columns\u001B[38;5;241m=\u001B[39m\u001B[38;5;124m'\u001B[39m\u001B[38;5;124mconfig_class\u001B[39m\u001B[38;5;124m'\u001B[39m, values\u001B[38;5;241m=\u001B[39m\u001B[38;5;124m'\u001B[39m\u001B[38;5;124mC\u001B[39m\u001B[38;5;124m'\u001B[39m,\n\u001B[1;32m    102\u001B[0m         aggfunc\u001B[38;5;241m=\u001B[39mnp\u001B[38;5;241m.\u001B[39msum, fill_value\u001B[38;5;241m=\u001B[39m\u001B[38;5;241m0\u001B[39m\n\u001B[1;32m    103\u001B[0m     )\n",
      "File \u001B[0;32m~/Documents/UW/Li_Group/mctools/mctools/core/mcspace.py:109\u001B[0m, in \u001B[0;36mMCSpace.get_address_class_lookup\u001B[0;34m(self, addrs)\u001B[0m\n\u001B[1;32m    107\u001B[0m \u001B[38;5;28;01mdef\u001B[39;00m \u001B[38;5;21mget_address_class_lookup\u001B[39m(\u001B[38;5;28mself\u001B[39m, addrs: np\u001B[38;5;241m.\u001B[39mndarray) \u001B[38;5;241m-\u001B[39m\u001B[38;5;241m>\u001B[39m pd\u001B[38;5;241m.\u001B[39mSeries:\n\u001B[1;32m    108\u001B[0m     configs \u001B[38;5;241m=\u001B[39m \u001B[38;5;28mself\u001B[39m\u001B[38;5;241m.\u001B[39mgraph\u001B[38;5;241m.\u001B[39mget_config(addrs)\n\u001B[0;32m--> 109\u001B[0m     assigned, labels \u001B[38;5;241m=\u001B[39m \u001B[38;5;28;43mself\u001B[39;49m\u001B[38;5;241;43m.\u001B[39;49m\u001B[43mget_config_class\u001B[49m\u001B[43m(\u001B[49m\u001B[43mconfigs\u001B[49m\u001B[43m)\u001B[49m\n\u001B[1;32m    110\u001B[0m     \u001B[38;5;28;01mreturn\u001B[39;00m pd\u001B[38;5;241m.\u001B[39mSeries(data\u001B[38;5;241m=\u001B[39mlabels, index\u001B[38;5;241m=\u001B[39maddrs[assigned]\u001B[38;5;241m.\u001B[39mastype(np\u001B[38;5;241m.\u001B[39muint64))\n",
      "File \u001B[0;32m~/Documents/UW/Li_Group/mctools/mctools/core/mcspace.py:115\u001B[0m, in \u001B[0;36mMCSpace.get_config_class\u001B[0;34m(self, config)\u001B[0m\n\u001B[1;32m    113\u001B[0m occ \u001B[38;5;241m=\u001B[39m \u001B[38;5;28mself\u001B[39m\u001B[38;5;241m.\u001B[39mpartition_config(config)\n\u001B[1;32m    114\u001B[0m assignments \u001B[38;5;241m=\u001B[39m (occ[\u001B[38;5;241m.\u001B[39m\u001B[38;5;241m.\u001B[39m\u001B[38;5;241m.\u001B[39m, np\u001B[38;5;241m.\u001B[39mnewaxis, :] \u001B[38;5;241m==\u001B[39m \u001B[38;5;28mself\u001B[39m\u001B[38;5;241m.\u001B[39m_config_classes)\u001B[38;5;241m.\u001B[39mall(axis\u001B[38;5;241m=\u001B[39m\u001B[38;5;241m-\u001B[39m\u001B[38;5;241m1\u001B[39m)\n\u001B[0;32m--> 115\u001B[0m idx, categories \u001B[38;5;241m=\u001B[39m \u001B[43mnp\u001B[49m\u001B[38;5;241m.\u001B[39mwhere(assignments)\n\u001B[1;32m    116\u001B[0m \u001B[38;5;28;01mreturn\u001B[39;00m idx, \u001B[38;5;28mself\u001B[39m\u001B[38;5;241m.\u001B[39m_config_class_labels[categories]\n",
      "File \u001B[0;32m~/Documents/UW/Li_Group/mctools/mctools/core/mcspace.py:115\u001B[0m, in \u001B[0;36mMCSpace.get_config_class\u001B[0;34m(self, config)\u001B[0m\n\u001B[1;32m    113\u001B[0m occ \u001B[38;5;241m=\u001B[39m \u001B[38;5;28mself\u001B[39m\u001B[38;5;241m.\u001B[39mpartition_config(config)\n\u001B[1;32m    114\u001B[0m assignments \u001B[38;5;241m=\u001B[39m (occ[\u001B[38;5;241m.\u001B[39m\u001B[38;5;241m.\u001B[39m\u001B[38;5;241m.\u001B[39m, np\u001B[38;5;241m.\u001B[39mnewaxis, :] \u001B[38;5;241m==\u001B[39m \u001B[38;5;28mself\u001B[39m\u001B[38;5;241m.\u001B[39m_config_classes)\u001B[38;5;241m.\u001B[39mall(axis\u001B[38;5;241m=\u001B[39m\u001B[38;5;241m-\u001B[39m\u001B[38;5;241m1\u001B[39m)\n\u001B[0;32m--> 115\u001B[0m idx, categories \u001B[38;5;241m=\u001B[39m \u001B[43mnp\u001B[49m\u001B[38;5;241m.\u001B[39mwhere(assignments)\n\u001B[1;32m    116\u001B[0m \u001B[38;5;28;01mreturn\u001B[39;00m idx, \u001B[38;5;28mself\u001B[39m\u001B[38;5;241m.\u001B[39m_config_class_labels[categories]\n",
      "File \u001B[0;32m_pydevd_bundle/pydevd_cython_darwin_310_64.pyx:1179\u001B[0m, in \u001B[0;36m_pydevd_bundle.pydevd_cython_darwin_310_64.SafeCallWrapper.__call__\u001B[0;34m()\u001B[0m\n",
      "File \u001B[0;32m_pydevd_bundle/pydevd_cython_darwin_310_64.pyx:620\u001B[0m, in \u001B[0;36m_pydevd_bundle.pydevd_cython_darwin_310_64.PyDBFrame.trace_dispatch\u001B[0;34m()\u001B[0m\n",
      "File \u001B[0;32m_pydevd_bundle/pydevd_cython_darwin_310_64.pyx:1095\u001B[0m, in \u001B[0;36m_pydevd_bundle.pydevd_cython_darwin_310_64.PyDBFrame.trace_dispatch\u001B[0;34m()\u001B[0m\n",
      "File \u001B[0;32m_pydevd_bundle/pydevd_cython_darwin_310_64.pyx:1057\u001B[0m, in \u001B[0;36m_pydevd_bundle.pydevd_cython_darwin_310_64.PyDBFrame.trace_dispatch\u001B[0;34m()\u001B[0m\n",
      "File \u001B[0;32m_pydevd_bundle/pydevd_cython_darwin_310_64.pyx:317\u001B[0m, in \u001B[0;36m_pydevd_bundle.pydevd_cython_darwin_310_64.PyDBFrame.do_wait_suspend\u001B[0;34m()\u001B[0m\n",
      "File \u001B[0;32m~/Library/Application Support/JetBrains/Toolbox/apps/PyCharm-P/ch-0/222.4459.20/PyCharm.app/Contents/plugins/python/helpers/pydev/pydevd.py:1160\u001B[0m, in \u001B[0;36mPyDB.do_wait_suspend\u001B[0;34m(self, thread, frame, event, arg, send_suspend_message, is_unhandled_exception)\u001B[0m\n\u001B[1;32m   1157\u001B[0m         from_this_thread\u001B[38;5;241m.\u001B[39mappend(frame_id)\n\u001B[1;32m   1159\u001B[0m \u001B[38;5;28;01mwith\u001B[39;00m \u001B[38;5;28mself\u001B[39m\u001B[38;5;241m.\u001B[39m_threads_suspended_single_notification\u001B[38;5;241m.\u001B[39mnotify_thread_suspended(thread_id, stop_reason):\n\u001B[0;32m-> 1160\u001B[0m     \u001B[38;5;28;43mself\u001B[39;49m\u001B[38;5;241;43m.\u001B[39;49m\u001B[43m_do_wait_suspend\u001B[49m\u001B[43m(\u001B[49m\u001B[43mthread\u001B[49m\u001B[43m,\u001B[49m\u001B[43m \u001B[49m\u001B[43mframe\u001B[49m\u001B[43m,\u001B[49m\u001B[43m \u001B[49m\u001B[43mevent\u001B[49m\u001B[43m,\u001B[49m\u001B[43m \u001B[49m\u001B[43marg\u001B[49m\u001B[43m,\u001B[49m\u001B[43m \u001B[49m\u001B[43msuspend_type\u001B[49m\u001B[43m,\u001B[49m\u001B[43m \u001B[49m\u001B[43mfrom_this_thread\u001B[49m\u001B[43m)\u001B[49m\n",
      "File \u001B[0;32m~/Library/Application Support/JetBrains/Toolbox/apps/PyCharm-P/ch-0/222.4459.20/PyCharm.app/Contents/plugins/python/helpers/pydev/pydevd.py:1175\u001B[0m, in \u001B[0;36mPyDB._do_wait_suspend\u001B[0;34m(self, thread, frame, event, arg, suspend_type, from_this_thread)\u001B[0m\n\u001B[1;32m   1172\u001B[0m             \u001B[38;5;28mself\u001B[39m\u001B[38;5;241m.\u001B[39m_call_mpl_hook()\n\u001B[1;32m   1174\u001B[0m         \u001B[38;5;28mself\u001B[39m\u001B[38;5;241m.\u001B[39mprocess_internal_commands()\n\u001B[0;32m-> 1175\u001B[0m         \u001B[43mtime\u001B[49m\u001B[38;5;241;43m.\u001B[39;49m\u001B[43msleep\u001B[49m\u001B[43m(\u001B[49m\u001B[38;5;241;43m0.01\u001B[39;49m\u001B[43m)\u001B[49m\n\u001B[1;32m   1177\u001B[0m \u001B[38;5;28mself\u001B[39m\u001B[38;5;241m.\u001B[39mcancel_async_evaluation(get_current_thread_id(thread), \u001B[38;5;28mstr\u001B[39m(\u001B[38;5;28mid\u001B[39m(frame)))\n\u001B[1;32m   1179\u001B[0m \u001B[38;5;66;03m# process any stepping instructions\u001B[39;00m\n",
      "\u001B[0;31mKeyboardInterrupt\u001B[0m: "
     ]
    }
   ],
   "source": [
    "rasci_gdvlog = os.path.join(data_dir, 'rasci_3.log')\n",
    "\n",
    "data = parse_gdvlog(rasci_gdvlog, l910_parser_funcs, n_ground=14)\n",
    "medge_space = MCSpace.from_dict(data, max_hole=1, max_elec=0)\n",
    "medge_states = MCStates.from_dict(data, space=medge_space)\n",
    "medge_spec = MCSpectrum.from_dict(data, states=medge_states)\n",
    "\n",
    "medge_space.mo_blocks = {\n",
    "    '3d': [(0, 10)],\n",
    "    '4f': [(10, 23), 49],\n",
    "    '5p': [(23, 59)],\n",
    "}\n",
    "\n",
    "medge_space.config_classes = {\n",
    "    'f13': {'3d': 10, '4f': 13, '5p': 36},\n",
    "    'Lf14': {'3d': 10, '4f': 14, '5p': 35},\n",
    "\n",
    "    'f14': {'3d': 9, '4f': 14, '5p': 36},\n",
    "}\n",
    "\n",
    "medge_spec.analyze()"
   ],
   "metadata": {
    "collapsed": false
   }
  }
 ],
 "metadata": {
  "kernelspec": {
   "display_name": "Python 3 (ipykernel)",
   "language": "python",
   "name": "python3"
  },
  "language_info": {
   "codemirror_mode": {
    "name": "ipython",
    "version": 3
   },
   "file_extension": ".py",
   "mimetype": "text/x-python",
   "name": "python",
   "nbconvert_exporter": "python",
   "pygments_lexer": "ipython3",
   "version": "3.10.8"
  }
 },
 "nbformat": 4,
 "nbformat_minor": 5
}

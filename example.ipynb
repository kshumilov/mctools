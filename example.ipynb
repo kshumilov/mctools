{
 "cells": [
  {
   "cell_type": "code",
   "execution_count": 9,
   "id": "8a0c5571-2032-46f1-84a4-178f55d167b9",
   "metadata": {
    "ExecuteTime": {
     "end_time": "2023-05-09T03:44:09.920160Z",
     "start_time": "2023-05-09T03:44:09.911318Z"
    }
   },
   "outputs": [],
   "source": [
    "import os, glob\n",
    "\n",
    "import numpy as np\n",
    "import pandas as pd\n",
    "import matplotlib.pyplot as plt\n",
    "\n",
    "from scipy import constants\n",
    "\n",
    "from mctools.core import MCSpace, MCStates, MCPeaks\n",
    "from mctools.core.utils import get_state_alignment, get_state_map_from_alignment\n",
    "from mctools.parser.gaussian import parse_gdvlog, l302_parser_funcs_general, l910_parser_funcs_general"
   ]
  },
  {
   "cell_type": "code",
   "execution_count": 10,
   "id": "b1d9f4a8-4840-4d92-ab23-8f5f723df4b3",
   "metadata": {
    "ExecuteTime": {
     "end_time": "2023-05-09T03:44:10.615854Z",
     "start_time": "2023-05-09T03:44:10.607880Z"
    }
   },
   "outputs": [],
   "source": [
    "Eh2eV = constants.value('Hartree energy in eV')\n",
    "eV2Eh = 1 / Eh2eV\n",
    "\n",
    "wn2eV = 1.23981e-4\n",
    "\n",
    "data_dir = os.path.join('data')"
   ]
  },
  {
   "cell_type": "markdown",
   "id": "47c7b7cc",
   "metadata": {},
   "source": [
    "# Analyze CAS States"
   ]
  },
  {
   "cell_type": "code",
   "execution_count": 11,
   "outputs": [
    {
     "name": "stdout",
     "output_type": "stream",
     "text": [
      "Reading data/casscf.log\n",
      "Parsing link l302\n",
      "Executing: read_ao_overlap_matrix --- Done\n",
      "Executing: read_ao_kinetic_energy_matrix --- Done\n",
      "Executing: read_ao_hcore_matrix --- Done\n",
      "Executing: read_orthogonal_aos_matrix --- Done\n",
      "Parsing link l910\n",
      "Executing: read_mc_spec --- Done\n",
      "Executing: read_ci --- Done\n",
      "Executing: read_rdm_diags --- Done\n",
      "Skipping: read_oscillator_strength, parameter n_ground is unavailable\n"
     ]
    },
    {
     "name": "stderr",
     "output_type": "stream",
     "text": [
      "/Users/kirill/Documents/UW/Li_Group/mctools/mctools/core/cistring/graphs.py:324: RuntimeWarning: Using python int as config data type, expect slow performance\n",
      "  warnings.warn('Using python int as config data type, expect slow performance', RuntimeWarning)\n",
      "/Users/kirill/Documents/UW/Li_Group/mctools/mctools/core/cistring/graphs.py:61: RuntimeWarning: Using python int as config data type, expect slow performance\n",
      "  warnings.warn('Using python int as config data type, expect slow performance', RuntimeWarning)\n"
     ]
    }
   ],
   "source": [
    "casscf_gdvlog = os.path.join(data_dir, 'casscf.log')\n",
    "\n",
    "parser_funcs = l302_parser_funcs_general | l910_parser_funcs_general\n",
    "\n",
    "data = parse_gdvlog(casscf_gdvlog, parser_funcs)\n",
    "cas_space = MCSpace.from_dict(data, max_hole=0, max_elec=0, use_python_int=True)\n",
    "cas_states = MCStates.from_dict(data, space=cas_space)\n",
    "\n",
    "cas_space.set_mo_blocks({\n",
    "    '4f': [(0, 13), 49],\n",
    "    '5p': [(13, 49)]\n",
    "})\n",
    "\n",
    "cas_space.set_config_classes({\n",
    "    'f13': {'4f': 13, '5p': 36},\n",
    "    'Lf14': {'4f': 14, '5p': 35},\n",
    "})\n",
    "\n",
    "cas_states.analyze()"
   ],
   "metadata": {
    "collapsed": false,
    "ExecuteTime": {
     "end_time": "2023-05-09T03:44:14.831497Z",
     "start_time": "2023-05-09T03:44:12.907292Z"
    }
   }
  },
  {
   "cell_type": "code",
   "execution_count": 24,
   "outputs": [
    {
     "name": "stdout",
     "output_type": "stream",
     "text": [
      "                E  state     state_source  g  norm         5p         4f   \n",
      "idx                                                                        \n",
      "0   -56745.342439      1  data/casscf.log  0   1.0  35.959596  13.040405  \\\n",
      "1   -56745.342439      2  data/casscf.log  0   1.0  35.972571  13.027429   \n",
      "\n",
      "         Lf14       f13  \n",
      "idx                      \n",
      "0    0.040405  0.959595  \n",
      "1    0.027430  0.972570  \n"
     ]
    }
   ],
   "source": [
    "idx = cas_states.df.state.isin([1, 2])\n",
    "print(cas_states.df[idx])"
   ],
   "metadata": {
    "collapsed": false,
    "ExecuteTime": {
     "end_time": "2023-05-09T03:46:09.564998Z",
     "start_time": "2023-05-09T03:46:09.561688Z"
    }
   }
  },
  {
   "cell_type": "code",
   "execution_count": 13,
   "id": "93b129c3",
   "metadata": {
    "collapsed": false,
    "jupyter": {
     "outputs_hidden": false
    },
    "ExecuteTime": {
     "end_time": "2023-05-09T03:44:23.043394Z",
     "start_time": "2023-05-09T03:44:23.032485Z"
    }
   },
   "outputs": [
    {
     "name": "stdout",
     "output_type": "stream",
     "text": [
      "========================================================================================================================\n",
      "#    0: E =     -56745.3Eh\n",
      "        MO: 4f(13.04) + 5p(35.96)\n",
      "        |ψ> = f13(95.960%) + Lf14( 4.040%)\n",
      "------------------------------------------------------------------------------------------------------------------------\n",
      " Addr RAS1                        RAS2                        RAS3           Coefficient           \n",
      "    41 11111111011111111111111111111111111111111111111111 C =  0.014-0.836j |C|^2 = +0.699\n",
      "     0 11111111111111111111111111111111111111111111111110 C =  0.428+0.000j |C|^2 = +0.183\n",
      "    39 11111111110111111111111111111111111111111111111111 C = -0.018+0.213j |C|^2 = +0.046\n",
      "    37 11111111111101111111111111111111111111111111111111 C =  0.113+0.114j |C|^2 = +0.026\n",
      "    10 11111111111111111111111111111111111111101111111111 C = -0.017+0.156j |C|^2 = +0.025\n",
      "========================================================================================================================\n",
      "#    1: E =     -56745.3Eh\n",
      "        MO: 4f(13.03) + 5p(35.97)\n",
      "        |ψ> = f13(97.257%) + Lf14( 2.743%)\n",
      "------------------------------------------------------------------------------------------------------------------------\n",
      " Addr RAS1                        RAS2                        RAS3           Coefficient           \n",
      "    38 11111111111011111111111111111111111111111111111111 C =  0.720+0.473j |C|^2 = +0.743\n",
      "    43 11111101111111111111111111111111111111111111111111 C =  0.221-0.403j |C|^2 = +0.212\n",
      "    25 11111111111111111111111101111111111111111111111111 C = -0.135+0.089j |C|^2 = +0.026\n",
      "    48 10111111111111111111111111111111111111111111111111 C =  0.022-0.084j |C|^2 = +0.008\n",
      "    49 01111111111111111111111111111111111111111111111111 C = -0.032+0.062j |C|^2 = +0.005\n",
      "========================================================================================================================\n"
     ]
    }
   ],
   "source": [
    "cas_states.print_state(idx=[0, 1])"
   ]
  },
  {
   "cell_type": "code",
   "execution_count": 13,
   "id": "a504229d",
   "metadata": {
    "collapsed": false,
    "jupyter": {
     "outputs_hidden": false
    },
    "ExecuteTime": {
     "end_time": "2023-05-08T23:51:10.097369Z",
     "start_time": "2023-05-08T23:51:10.008881Z"
    }
   },
   "outputs": [
    {
     "data": {
      "text/plain": "<Figure size 640x480 with 1 Axes>",
      "image/png": "[encoded data removed]"
     },
     "metadata": {},
     "output_type": "display_data"
    }
   ],
   "source": [
    "from mctools.plot.states import prepare_state_centers\n",
    "\n",
    "width = 0.1\n",
    "x_c = prepare_state_centers(cas_states, column_width=2)\n",
    "\n",
    "plt.hlines('E', x_c - width, x_c + width, data=cas_states.df)\n",
    "plt.show()"
   ]
  },
  {
   "cell_type": "markdown",
   "id": "bab6325e",
   "metadata": {},
   "source": [
    "# Analyze RASCI States"
   ]
  },
  {
   "cell_type": "code",
   "execution_count": 14,
   "id": "7b7f3b99",
   "metadata": {
    "collapsed": false,
    "jupyter": {
     "outputs_hidden": false
    },
    "ExecuteTime": {
     "end_time": "2023-05-08T23:51:12.071131Z",
     "start_time": "2023-05-08T23:51:11.993932Z"
    }
   },
   "outputs": [
    {
     "name": "stdout",
     "output_type": "stream",
     "text": [
      "Reading /Users/kirill/Documents/UW/Li_Group/CsPbCl3_Ln/calculations/rasci/ras-36p-14f/rasci_62s.ce3p_casscf_sa14_14s_gb3lyp_ref.tzvppall.gdv_j14p.7491751.log\n",
      "Parsing link l910\n",
      "Executing: read_mc_spec --- Done\n",
      "Executing: read_ci --- Done\n",
      "Executing: read_rdm_diags --- Done\n",
      "Skipping: read_oscillator_strength, parameter n_ground is unavailable\n"
     ]
    }
   ],
   "source": [
    "rasci_gs_dir = '/Users/kirill/Documents/UW/Li_Group/CsPbCl3_Ln/calculations/rasci/ras-36p-14f'\n",
    "\n",
    "gs_space = MCSpace.from_space_spec(\n",
    "    (36, 14, 12), 37,\n",
    "    max_hole=2, max_elec=2,\n",
    "    mo_blocks={\n",
    "        '3p': [(0, 36)],\n",
    "        '4f': [(36, 50)],\n",
    "        'virt': [(50, 62)],\n",
    "    },\n",
    "    config_classes={\n",
    "        'f1': {'3p': 36, '4f': 1, 'virt': 0},\n",
    "        'Lf2': {'3p': 35, '4f': 2, 'virt': 0}\n",
    "    }\n",
    ")\n",
    "\n",
    "ce3p_cas_gdvlog = os.path.join(rasci_gs_dir, 'rasci_62s.ce3p_casscf_sa14_14s_gb3lyp_ref.tzvppall.gdv_j14p.7491751.log')\n",
    "data = parse_gdvlog(ce3p_cas_gdvlog, l910_parser_funcs_general)\n",
    "states = MCStates.from_dict(data, space=gs_space)\n",
    "states.analyze()"
   ]
  },
  {
   "cell_type": "code",
   "execution_count": 15,
   "id": "3ef7e680",
   "metadata": {
    "collapsed": false,
    "jupyter": {
     "outputs_hidden": false
    },
    "ExecuteTime": {
     "end_time": "2023-05-08T23:51:15.766953Z",
     "start_time": "2023-05-08T23:51:15.697775Z"
    }
   },
   "outputs": [
    {
     "name": "stdout",
     "output_type": "stream",
     "text": [
      "Reading /Users/kirill/Documents/UW/Li_Group/CsPbCl3_Ln/calculations/rasci/ras-36p-14f/rasci_62s.ce4p_gb3lyp_ref.tzvppall.gdv_j14p.7403644.log\n",
      "Parsing link l910\n",
      "Executing: read_mc_spec --- Done\n",
      "Executing: read_ci --- Done\n",
      "Executing: read_rdm_diags --- Done\n",
      "Skipping: read_oscillator_strength, parameter n_ground is unavailable\n"
     ]
    }
   ],
   "source": [
    "ce4p_space = MCSpace.from_space_spec(\n",
    "    (36, 14, 12), 36,\n",
    "    max_hole=2, max_elec=2,\n",
    "    mo_blocks={\n",
    "        '3p': [(0, 36)],\n",
    "        '4f': [(36, 50)],\n",
    "        'virt': [(50, 62)],\n",
    "    },\n",
    "    config_classes={\n",
    "        'f0': {'3p': 36, '4f': 0, 'virt': 0},\n",
    "\n",
    "        'Lf1': {'3p': 35, '4f': 1, 'virt': 0},\n",
    "        'Ld1': {'3p': 35, '4f': 0, 'virt': 1},\n",
    "\n",
    "        'L2f1d1': {'3p': 34, '4f': 1, 'virt': 1},\n",
    "        'L2f0d2': {'3p': 34, '4f': 0, 'virt': 2},\n",
    "    }\n",
    ")\n",
    "\n",
    "ce4p_cas_gdvlog = os.path.join(rasci_gs_dir, 'rasci_62s.ce4p_gb3lyp_ref.tzvppall.gdv_j14p.7403644.log')\n",
    "data = parse_gdvlog(ce4p_cas_gdvlog, l910_parser_funcs_general)\n",
    "ce4p = MCStates.from_dict(data, space=ce4p_space)\n",
    "ce4p.analyze()"
   ]
  },
  {
   "cell_type": "code",
   "execution_count": 16,
   "id": "bdf090bc",
   "metadata": {
    "collapsed": false,
    "jupyter": {
     "outputs_hidden": false
    },
    "ExecuteTime": {
     "end_time": "2023-05-08T23:51:15.992353Z",
     "start_time": "2023-05-08T23:51:15.977915Z"
    }
   },
   "outputs": [
    {
     "name": "stdout",
     "output_type": "stream",
     "text": [
      "                             C      norm           r1    r2    r3                                                       config_repr config_class\n",
      "idx addr                                                                                                                                        \n",
      "1   194     0.500411-0.168521j  0.278810  68715282431    32     0  111111111111111111111101111111111111 00000100000000 000000000000          Lf1\n",
      "    160     0.152747+0.471134j  0.245299  68718428159    16     0  111111111111111111110111111111111111 00001000000000 000000000000          Lf1\n",
      "    199    -0.320732+0.104866j  0.113866  68719345663    32     0  111111111111111110111111111111111111 00000100000000 000000000000          Lf1\n",
      "    164     0.097885+0.299679j  0.099389  68719411199    16     0  111111111111111101111111111111111111 00001000000000 000000000000          Lf1\n",
      "    191    -0.142523+0.045986j  0.022427  68685922303    32     0  111111111111111111111111101111111111 00000100000000 000000000000          Lf1\n",
      "    153    -0.134767+0.043525j  0.020056  68585259007    16     0  111111111111111111111111111011111111 00001000000000 000000000000          Lf1\n",
      "    410     0.037643+0.111793j  0.013915  68715282431  2048     0  111111111111111111111101111111111111 00000000000100 000000000000          Lf1\n",
      "    376     0.034586+0.106877j  0.012619  68718428159  1024     0  111111111111111111110111111111111111 00000000001000 000000000000          Lf1\n",
      "    415    -0.021867-0.066892j  0.004953  68719345663  2048     0  111111111111111110111111111111111111 00000000000100 000000000000          Lf1\n",
      "    380     0.021090+0.064685j  0.004629  68719411199  1024     0  111111111111111101111111111111111111 00000000001000 000000000000          Lf1\n",
      "    29575  -0.021734-0.064335j  0.004611  68706893823    48     0  111111111111111111111100111111111111 00001100000000 000000000000             \n",
      "    23933   0.021577+0.064291j  0.004599  68714233855    40     0  111111111111111111110101111111111111 00010100000000 000000000000             \n",
      "    17003  -0.020353-0.060200j  0.004038  68714233855    20     0  111111111111111111110101111111111111 00101000000000 000000000000             \n",
      "    29604  -0.060472+0.019336j  0.004031  68716331007    48     0  111111111111111111110011111111111111 00001100000000 000000000000             \n",
      "    39714   0.058950-0.019851j  0.003869  68715020287  8224     0  111111111111111111011101111111111111 00000100000001 000000000000             \n",
      "    39068   0.058941-0.019850j  0.003868  68714758143  4128     0  111111111111111111101101111111111111 00000100000010 000000000000             \n",
      "    58045  -0.018041-0.055923j  0.003453  68719476703     0    32  111110111111111111111111111111111111 00000000000000 000001000000          Ld1\n",
      "    34676   0.018044+0.055660j  0.003424  68718166015  8208     0  111111111111111111010111111111111111 00001000000001 000000000000             \n",
      "    34030   0.017938+0.055327j  0.003383  68717903871  4112     0  111111111111111111100111111111111111 00001000000010 000000000000             \n",
      "    37163  -0.015057-0.044768j  0.002231  68714233855   544     0  111111111111111111110101111111111111 00000100010000 000000000000             \n",
      "    37765   0.014992+0.044461j  0.002202  68706893823  1056     0  111111111111111111111100111111111111 00000100001000 000000000000             \n",
      "    31493  -0.042328+0.014280j  0.001996  68714233855   272     0  111111111111111111110101111111111111 00001000100000 000000000000             \n",
      "    33384  -0.013333-0.041700j  0.001917  68716331007  2064     0  111111111111111111110011111111111111 00001000000100 000000000000             \n",
      "    23983   0.013248+0.040664j  0.001829  68718297087    40     0  111111111111111110110111111111111111 00010100000000 000000000000             \n",
      "    39831  -0.040071+0.013494j  0.001788  68715278335  8224     0  111111111111011111111101111111111111 00000100000001 000000000000             \n",
      "    29650   0.013152+0.040097j  0.001781  68710957055    48     0  111111111111111110111110111111111111 00001100000000 000000000000             \n",
      "    36503   0.013430+0.039994j  0.001780  68681727999   288     0  111111111111111111111101101111111111 00000100100000 000000000000             \n",
      "    39179   0.039148-0.013184j  0.001706  68715274239  4128     0  111111111111101111111101111111111111 00000100000010 000000000000             \n",
      "    17069  -0.012843-0.037712j  0.001587  68715216895    20     0  111111111111111101111101111111111111 00101000000000 000000000000             \n",
      "    34793  -0.012249-0.037780j  0.001577  68718424063  8208     0  111111111111011111110111111111111111 00001000000001 000000000000             \n",
      "    32118   0.012173+0.037743j  0.001573  68584210431   528     0  111111111111111111110111111011111111 00001000010000 000000000000             \n",
      "    29670  -0.037421+0.012053j  0.001546  68717314047    48     0  111111111111111101111011111111111111 00001100000000 000000000000             \n",
      "    39735   0.037277-0.012187j  0.001538  68719083519  8224     0  111111111111111110011111111111111111 00000100000001 000000000000             \n",
      "    159045  0.036856-0.012415j  0.001513  68715282430    32  2048  011111111111111111111101111111111111 00000100000000 000000000001       L2f1d1\n",
      "    39104   0.036796-0.012032j  0.001499  68718821375  4128     0  111111111111111110101111111111111111 00000100000010 000000000000             \n",
      "    34141   0.011925+0.036782j  0.001495  68718419967  4112     0  111111111111101111110111111111111111 00001000000010 000000000000             \n",
      "    491    -0.036090+0.011679j  0.001439  68719468543  8192     0  111111111111101111111111111111111111 00000000000001 000000000000          Lf1\n",
      "    58261   0.035888-0.011584j  0.001422  68719476703     0  2048  111110111111111111111111111111111111 00000000000000 000000000001          Ld1\n",
      "    57     -0.011467-0.035794j  0.001413  68719443967     2     0  111111111111111011111111111111111111 01000000000000 000000000000          Lf1\n",
      "    38392   0.011899+0.035306j  0.001388  68648173567  2080     0  111111111111111111111101110111111111 00000100000100 000000000000             \n",
      "    34713  -0.011435-0.035012j  0.001357  68719149055  8208     0  111111111111111101011111111111111111 00001000000001 000000000000             \n",
      "    140710 -0.011169-0.034470j  0.001313  68718428155    16   512  110111111111111111110111111111111111 00001000000000 000000000100       L2f1d1\n",
      "    34082  -0.011179-0.034222j  0.001296  68718886911  4112     0  111111111111111101101111111111111111 00001000000010 000000000000             \n",
      "    58020   0.010877+0.033740j  0.001257  67645734911     0    32  111111111111111111111111111111011111 00000000000000 000001000000          Ld1\n",
      "    32751  -0.033386+0.010900j  0.001233  68701650943  1040     0  111111111111111111110111011111111111 00001000001000 000000000000             \n",
      "    3110    0.011195+0.033228j  0.001229  68446846975    33     0  111111111111111111111101111101111111 10000100000000 000000000000             \n",
      "    58013   0.033266-0.010611j  0.001219  68719476733     0    16  101111111111111111111111111111111111 00000000000000 000010000000          Ld1\n",
      "    49     -0.010699-0.033144j  0.001213  68711088127     2     0  111111111111111111111110111111111111 01000000000000 000000000000          Lf1\n",
      "    10669  -0.011016-0.032725j  0.001192  68178411519    34     0  111111111111111111111101111110111111 01000100000000 000000000000             \n",
      "    58010  -0.032322+0.010306j  0.001151  68719476719     0    16  111101111111111111111111111111111111 00000000000000 000010000000          Ld1\n"
     ]
    }
   ],
   "source": [
    "with pd.option_context('max_colwidth', 100_000, 'display.expand_frame_repr', False):\n",
    "    df = ce4p.get_state_ci_vec([1])\n",
    "    print(df)"
   ]
  },
  {
   "cell_type": "code",
   "execution_count": 17,
   "outputs": [
    {
     "name": "stdout",
     "output_type": "stream",
     "text": [
      "========================================================================================================================\n",
      "#    0: E =            0Eh\n",
      "        MO: 3p(35.88) + 4f( 0.09) + virt( 0.03)\n",
      "        |ψ> = f0(89.440%) + Lf1( 8.670%) + Ld1( 0.118%) + L2f1d1( 0.000%) + L2f0d2( 0.212%)\n",
      "------------------------------------------------------------------------------------------------------------------------\n",
      " Addr                 RAS1                      RAS2          RAS3               Coefficient           \n",
      "     0 111111111111111111111111111111111111 00000000000000 000000000000 C = -0.941+0.096j |C|^2 = +0.894\n",
      "   124 111111111111111111110111111111111111 00010000000000 000000000000 C =  0.009+0.087j |C|^2 = +0.008\n",
      "   195 111111111111111111111011111111111111 00000100000000 000000000000 C =  0.009+0.087j |C|^2 = +0.008\n",
      "    86 111111111111111111111101111111111111 00100000000000 000000000000 C =  0.087-0.010j |C|^2 = +0.008\n",
      "   157 111111111111111111111110111111111111 00001000000000 000000000000 C =  0.009+0.087j |C|^2 = +0.008\n",
      "   449 111111111111111111101111111111111111 00000000000010 000000000000 C = -0.072+0.007j |C|^2 = +0.005\n",
      "========================================================================================================================\n",
      "#    1: E =     0.189808Eh\n",
      "        MO: 3p(34.84) + 4f( 1.10) + virt( 0.05)\n",
      "        |ψ> = f0( 0.000%) + Lf1(82.003%) + Ld1( 0.850%) + L2f1d1( 0.283%) + L2f0d2( 0.000%)\n",
      "------------------------------------------------------------------------------------------------------------------------\n",
      " Addr                 RAS1                      RAS2          RAS3               Coefficient           \n",
      "   194 111111111111111111111101111111111111 00000100000000 000000000000 C =  0.500-0.169j |C|^2 = +0.279\n",
      "   160 111111111111111111110111111111111111 00001000000000 000000000000 C =  0.153+0.471j |C|^2 = +0.245\n",
      "   199 111111111111111110111111111111111111 00000100000000 000000000000 C = -0.321+0.105j |C|^2 = +0.114\n",
      "   164 111111111111111101111111111111111111 00001000000000 000000000000 C =  0.098+0.300j |C|^2 = +0.099\n",
      "   191 111111111111111111111111101111111111 00000100000000 000000000000 C = -0.143+0.046j |C|^2 = +0.022\n",
      "   153 111111111111111111111111111011111111 00001000000000 000000000000 C = -0.135+0.044j |C|^2 = +0.020\n",
      "========================================================================================================================\n",
      "#    2: E =     0.189808Eh\n",
      "        MO: 3p(34.84) + 4f( 1.10) + virt( 0.05)\n",
      "        |ψ> = f0( 0.000%) + Lf1(81.849%) + Ld1( 0.752%) + L2f1d1( 0.000%) + L2f0d2( 0.000%)\n",
      "------------------------------------------------------------------------------------------------------------------------\n",
      " Addr                 RAS1                      RAS2          RAS3               Coefficient           \n",
      "   124 111111111111111111110111111111111111 00010000000000 000000000000 C =  0.188+0.336j |C|^2 = +0.148\n",
      "   157 111111111111111111111110111111111111 00001000000000 000000000000 C = -0.189-0.336j |C|^2 = +0.148\n",
      "   195 111111111111111111111011111111111111 00000100000000 000000000000 C = -0.164-0.296j |C|^2 = +0.115\n",
      "    86 111111111111111111111101111111111111 00100000000000 000000000000 C =  0.293-0.169j |C|^2 = +0.115\n",
      "   128 111111111111111101111111111111111111 00010000000000 000000000000 C =  0.121+0.215j |C|^2 = +0.061\n",
      "   165 111111111111111011111111111111111111 00001000000000 000000000000 C = -0.120-0.215j |C|^2 = +0.061\n",
      "========================================================================================================================\n"
     ]
    }
   ],
   "source": [
    "ce4p.print_state(idx=[0, 1, 2], include_mo=True, include_config_class=True, shift_ground=True, config_limit=6)"
   ],
   "metadata": {
    "collapsed": false,
    "ExecuteTime": {
     "end_time": "2023-05-08T23:51:19.915370Z",
     "start_time": "2023-05-08T23:51:19.904893Z"
    }
   }
  },
  {
   "cell_type": "code",
   "execution_count": 8,
   "outputs": [
    {
     "ename": "NameError",
     "evalue": "name 'ce4p' is not defined",
     "output_type": "error",
     "traceback": [
      "\u001B[0;31m---------------------------------------------------------------------------\u001B[0m",
      "\u001B[0;31mNameError\u001B[0m                                 Traceback (most recent call last)",
      "Cell \u001B[0;32mIn[8], line 1\u001B[0m\n\u001B[0;32m----> 1\u001B[0m \u001B[43mce4p\u001B[49m\u001B[38;5;241m.\u001B[39mdf\n",
      "\u001B[0;31mNameError\u001B[0m: name 'ce4p' is not defined"
     ]
    }
   ],
   "source": [
    "ce4p.df"
   ],
   "metadata": {
    "collapsed": false,
    "ExecuteTime": {
     "end_time": "2023-05-09T03:44:03.218182Z",
     "start_time": "2023-05-09T03:44:03.214715Z"
    }
   }
  },
  {
   "cell_type": "markdown",
   "id": "82c92ab4",
   "metadata": {},
   "source": [
    "#  M-Edge Spectrum"
   ]
  },
  {
   "cell_type": "code",
   "execution_count": 3,
   "id": "0627e1e1",
   "metadata": {
    "collapsed": false,
    "jupyter": {
     "outputs_hidden": false
    }
   },
   "outputs": [
    {
     "name": "stdout",
     "output_type": "stream",
     "text": [
      "Reading data/rasci_3.log\n",
      "Parsing link l910\n",
      "Executing: read_mc_spec --- Done\n",
      "Executing: read_ci --- Done\n",
      "Executing: read_rdm_diags --- Done\n",
      "Executing: read_oscillator_strength --- Done\n"
     ]
    }
   ],
   "source": [
    "rasci_gdvlog = os.path.join(data_dir, 'rasci_3.log')\n",
    "\n",
    "m_edge_data = parse_gdvlog(rasci_gdvlog, l910_parser_funcs_general, n_ground=14)\n",
    "medge_space = MCSpace.from_dict(m_edge_data, max_hole=1, max_elec=0)\n",
    "medge_states = MCStates.from_dict(m_edge_data, space=medge_space)\n",
    "\n",
    "\n",
    "medge_space.mo_blocks = {\n",
    "    '3d': [(0, 10)],\n",
    "    '4f': [(10, 23), 59],\n",
    "    '5p': [(23, 59)],\n",
    "}\n",
    "\n",
    "medge_space.config_classes = {\n",
    "    'f13': {'3d': 10, '4f': 13, '5p': 36},\n",
    "    'Lf14': {'3d': 10, '4f': 14, '5p': 35},\n",
    "    'f14': {'3d': 9, '4f': 14, '5p': 36},\n",
    "}\n",
    "\n",
    "medge_states.analyze()"
   ]
  },
  {
   "cell_type": "code",
   "execution_count": 6,
   "id": "ec0a6538",
   "metadata": {
    "collapsed": false,
    "jupyter": {
     "outputs_hidden": false
    },
    "ExecuteTime": {
     "end_time": "2023-05-09T00:06:34.542684Z",
     "start_time": "2023-05-09T00:06:34.539167Z"
    }
   },
   "outputs": [
    {
     "name": "stdout",
     "output_type": "stream",
     "text": [
      "     i_state  f_state       osc       peak_source         dE        5p   \n",
      "0         14       15  0.001281  data/rasci_3.log   0.019059 -0.970633  \\\n",
      "1         13       15  0.001920  data/rasci_3.log   0.019059 -0.970514   \n",
      "2         14       16  0.001921  data/rasci_3.log   0.019059 -0.970621   \n",
      "3         13       16  0.001280  data/rasci_3.log   0.019059 -0.970502   \n",
      "4         14       17  0.002281  data/rasci_3.log   0.019073 -0.970283   \n",
      "..       ...      ...       ...               ...        ...       ...   \n",
      "589        3       60  0.000004  data/rasci_3.log  58.578217  0.031920   \n",
      "590        1       57  0.000012  data/rasci_3.log  58.578745  0.040404   \n",
      "591        2       58  0.000014  data/rasci_3.log  58.578747  0.027429   \n",
      "592        1       59  0.000012  data/rasci_3.log  58.578747  0.040404   \n",
      "593        2       60  0.000009  data/rasci_3.log  58.578748  0.027429   \n",
      "\n",
      "           4f        3d  \n",
      "0    0.970629  0.000000  \n",
      "1    0.970510  0.000000  \n",
      "2    0.970620  0.000000  \n",
      "3    0.970501  0.000000  \n",
      "4    0.970282  0.000000  \n",
      "..        ...       ...  \n",
      "589  0.968077 -0.999999  \n",
      "590  0.959595 -0.999999  \n",
      "591  0.972571 -0.999999  \n",
      "592  0.959595 -0.999999  \n",
      "593  0.972571 -0.999999  \n",
      "\n",
      "[594 rows x 8 columns]\n"
     ]
    }
   ],
   "source": [
    "print(medge_states.peaks.df)"
   ]
  },
  {
   "cell_type": "code",
   "execution_count": 6,
   "id": "9b5d3906",
   "metadata": {
    "collapsed": false,
    "jupyter": {
     "outputs_hidden": false
    }
   },
   "outputs": [
    {
     "name": "stdout",
     "output_type": "stream",
     "text": [
      "Reading /Users/kirill/Documents/UW/Li_Group/CrI3_Yb/notebooks/../calculations/mc/x2c_tzvpall_2c/cas_36p_14f/rasci/rasci_68s.r1_2s_6p_10d.casscf_sa50_50s_ref.yb3p.exp.tzvpall.gdv_j14p.7748435.log\n",
      "Parsing link l910\n",
      "Executing: read_mc_spec\n",
      "Executing: read_ci\n",
      "Executing: read_pdm_diags\n",
      "Executing: read_oscillator_strength\n"
     ]
    },
    {
     "name": "stderr",
     "output_type": "stream",
     "text": [
      "/Users/kirill/Documents/UW/Li_Group/mctools/mctools/core/cistring/graphs.py:316: RuntimeWarning: Using python int as config data type, expect slow performance\n",
      "  warnings.warn('Using python int as config data type, expect slow performance', RuntimeWarning)\n",
      "/Users/kirill/Documents/UW/Li_Group/mctools/mctools/core/cistring/graphs.py:60: RuntimeWarning: Using python int as config data type, expect slow performance\n",
      "  warnings.warn('Using python int as config data type, expect slow performance', RuntimeWarning)\n"
     ]
    }
   ],
   "source": [
    "gdvlog = '/Users/kirill/Documents/UW/Li_Group/CrI3_Yb/notebooks/../calculations/mc/x2c_tzvpall_2c/cas_36p_14f/rasci/rasci_68s.r1_2s_6p_10d.casscf_sa50_50s_ref.yb3p.exp.tzvpall.gdv_j14p.7748435.log'\n",
    "\n",
    "data = parse_gdvlog(gdvlog, l910_parser_funcs, n_ground=14)\n",
    "medge_space = MCSpace.from_dict(data, max_hole=0, max_elec=0, use_python_int=True)\n",
    "medge_states = MCStates.from_dict(data, space=medge_space)\n",
    "medge_spec = MCSpectrum.from_dict(data, states=medge_states)\n",
    "\n",
    "medge_space.mo_blocks = {\n",
    "    'M': [(0, 18)],\n",
    "    '4f':   [(18, 31), 67],\n",
    "    '5p':   [(31, 67),],\n",
    "\n",
    "    # 'virt': [(60, 72)],\n",
    "}\n",
    "\n",
    "medge_space.config_classes = {\n",
    "    'f13': {'4f': 13},\n",
    "    'Lf14': {'5p': 35, '4f': 14},\n",
    "    'Mf14': {'M': 17, '4f': 14},\n",
    "}\n",
    "\n",
    "medge_spec.analyze()"
   ]
  },
  {
   "cell_type": "code",
   "execution_count": 7,
   "id": "4462d86e",
   "metadata": {
    "collapsed": false,
    "jupyter": {
     "outputs_hidden": false
    },
    "ExecuteTime": {
     "end_time": "2023-05-09T03:43:42.088710Z",
     "start_time": "2023-05-09T03:43:41.685458Z"
    }
   },
   "outputs": [
    {
     "ename": "NameError",
     "evalue": "name 'medge_spec' is not defined",
     "output_type": "error",
     "traceback": [
      "\u001B[0;31m---------------------------------------------------------------------------\u001B[0m",
      "\u001B[0;31mNameError\u001B[0m                                 Traceback (most recent call last)",
      "Cell \u001B[0;32mIn[7], line 1\u001B[0m\n\u001B[0;32m----> 1\u001B[0m \u001B[43mmedge_spec\u001B[49m\u001B[38;5;241m.\u001B[39mstates\u001B[38;5;241m.\u001B[39mdf[\u001B[38;5;124m'\u001B[39m\u001B[38;5;124mstate\u001B[39m\u001B[38;5;124m'\u001B[39m]\u001B[38;5;241m.\u001B[39misin([\u001B[38;5;241m1\u001B[39m, \u001B[38;5;241m2\u001B[39m])\n",
      "\u001B[0;31mNameError\u001B[0m: name 'medge_spec' is not defined"
     ]
    }
   ],
   "source": [
    "medge_spec.states.df['state'].isin([1, 2])"
   ]
  },
  {
   "cell_type": "markdown",
   "id": "f82f0b9a",
   "metadata": {},
   "source": [
    "# Partitioned K-edge Spectrum"
   ]
  },
  {
   "cell_type": "code",
   "execution_count": 89,
   "id": "eecadb98",
   "metadata": {
    "collapsed": false,
    "jupyter": {
     "outputs_hidden": false
    }
   },
   "outputs": [
    {
     "name": "stdout",
     "output_type": "stream",
     "text": [
      "Reading data/spectrum/part1.log\n",
      "Parsing link l910\n",
      "Executing: read_mc_spec\n",
      "Executing: read_ci\n",
      "Executing: read_pdm_diags\n",
      "Executing: read_oscillator_strength\n",
      "Reading data/spectrum/part2.log\n",
      "Parsing link l910\n",
      "Executing: read_mc_spec\n",
      "Executing: read_ci\n",
      "Executing: read_pdm_diags\n",
      "Executing: read_oscillator_strength\n"
     ]
    }
   ],
   "source": [
    "spec_space = MCSpace.from_space_spec(\n",
    "    (12, 14, 10), 13,\n",
    "    max_hole=2, max_elec=1,\n",
    "    mo_blocks={\n",
    "        '1s': [(0, 6)],\n",
    "        '3p': [(6, 12)],\n",
    "        '4f': [(12, 26)],\n",
    "        '5d': [(26, 36)],\n",
    "    },\n",
    ")\n",
    "\n",
    "gdvlogs = sorted(glob.glob(os.path.join(data_dir, 'spectrum', 'part*.log')))\n",
    "\n",
    "spec_parts = []\n",
    "for gdvlog in gdvlogs:\n",
    "    part_data = parse_gdvlog(gdvlog, l910_parser_funcs, n_ground=2)\n",
    "    spec = MCSpectrum.from_dict(part_data, space=spec_space, sort_peaks=True, )\n",
    "    spec_parts.append(spec)"
   ]
  },
  {
   "cell_type": "code",
   "execution_count": 116,
   "id": "415360d0",
   "metadata": {
    "collapsed": false,
    "jupyter": {
     "outputs_hidden": false
    }
   },
   "outputs": [],
   "source": [
    "left = spec_parts[0].states\n",
    "right = spec_parts[1].states\n",
    "\n",
    "alignment = get_state_alignment(left, right)"
   ]
  },
  {
   "cell_type": "code",
   "execution_count": 120,
   "id": "6b31abad",
   "metadata": {
    "collapsed": false,
    "jupyter": {
     "outputs_hidden": false
    }
   },
   "outputs": [],
   "source": [
    "sl_l, sl_r, overlap = alignment[2]\n",
    "\n",
    "dfl = left.df.iloc[sl_l][left.IDX_COLS].rename(columns={\n",
    "    left.STATE_COL: f'{left.STATE_COL}_left',\n",
    "    left.SOURCE_COL: f'{left.SOURCE_COL}_left',\n",
    "})\n",
    "\n",
    "dfr = right.df.iloc[sl_r][right.IDX_COLS].rename(columns={\n",
    "    right.STATE_COL: f'{right.STATE_COL}_right',\n",
    "    right.SOURCE_COL: f'{right.SOURCE_COL}_right',\n",
    "})\n",
    "\n",
    "df = pd.concat([dfl.reset_index(drop=True), dfr.reset_index(drop=True)], axis=1)\n",
    "df['overlap'] = overlap"
   ]
  },
  {
   "cell_type": "code",
   "execution_count": 14,
   "id": "b3d4f4ab",
   "metadata": {
    "collapsed": false,
    "jupyter": {
     "outputs_hidden": false
    }
   },
   "outputs": [],
   "source": [
    "spec = MCSpectrum.from_spectra(spec_parts)"
   ]
  },
  {
   "cell_type": "code",
   "execution_count": 15,
   "id": "6405f8f5",
   "metadata": {
    "collapsed": false,
    "jupyter": {
     "outputs_hidden": false
    }
   },
   "outputs": [
    {
     "data": {
      "image/png": "[encoded data removed]",
      "text/plain": [
       "<Figure size 640x480 with 1 Axes>"
      ]
     },
     "metadata": {},
     "output_type": "display_data"
    }
   ],
   "source": [
    "fig, ax = plt.subplots(1, 1)\n",
    "\n",
    "ax.vlines('dE', 0, 'osc', data=spec.df)\n",
    "plt.show()"
   ]
  },
  {
   "cell_type": "code",
   "execution_count": 16,
   "id": "bba0e173",
   "metadata": {
    "collapsed": false,
    "jupyter": {
     "outputs_hidden": false
    }
   },
   "outputs": [
    {
     "data": {
      "text/html": [
       "<div>\n",
       "<style scoped>\n",
       "    .dataframe tbody tr th:only-of-type {\n",
       "        vertical-align: middle;\n",
       "    }\n",
       "\n",
       "    .dataframe tbody tr th {\n",
       "        vertical-align: top;\n",
       "    }\n",
       "\n",
       "    .dataframe thead th {\n",
       "        text-align: right;\n",
       "    }\n",
       "</style>\n",
       "<table border=\"1\" class=\"dataframe\">\n",
       "  <thead>\n",
       "    <tr style=\"text-align: right;\">\n",
       "      <th></th>\n",
       "      <th>i_state</th>\n",
       "      <th>f_state</th>\n",
       "      <th>osc</th>\n",
       "      <th>source</th>\n",
       "      <th>dE</th>\n",
       "      <th>f</th>\n",
       "      <th>i</th>\n",
       "    </tr>\n",
       "    <tr>\n",
       "      <th>idx</th>\n",
       "      <th></th>\n",
       "      <th></th>\n",
       "      <th></th>\n",
       "      <th></th>\n",
       "      <th></th>\n",
       "      <th></th>\n",
       "      <th></th>\n",
       "    </tr>\n",
       "  </thead>\n",
       "  <tbody>\n",
       "    <tr>\n",
       "      <th>0</th>\n",
       "      <td>1</td>\n",
       "      <td>3</td>\n",
       "      <td>0.000012</td>\n",
       "      <td>data/spectrum/part1.log</td>\n",
       "      <td>105.086119</td>\n",
       "      <td>2</td>\n",
       "      <td>0</td>\n",
       "    </tr>\n",
       "    <tr>\n",
       "      <th>1</th>\n",
       "      <td>2</td>\n",
       "      <td>5</td>\n",
       "      <td>0.000012</td>\n",
       "      <td>data/spectrum/part1.log</td>\n",
       "      <td>105.086194</td>\n",
       "      <td>4</td>\n",
       "      <td>1</td>\n",
       "    </tr>\n",
       "    <tr>\n",
       "      <th>2</th>\n",
       "      <td>1</td>\n",
       "      <td>5</td>\n",
       "      <td>0.000006</td>\n",
       "      <td>data/spectrum/part1.log</td>\n",
       "      <td>105.086194</td>\n",
       "      <td>4</td>\n",
       "      <td>0</td>\n",
       "    </tr>\n",
       "    <tr>\n",
       "      <th>3</th>\n",
       "      <td>1</td>\n",
       "      <td>6</td>\n",
       "      <td>0.000006</td>\n",
       "      <td>data/spectrum/part1.log</td>\n",
       "      <td>105.086194</td>\n",
       "      <td>5</td>\n",
       "      <td>0</td>\n",
       "    </tr>\n",
       "    <tr>\n",
       "      <th>4</th>\n",
       "      <td>2</td>\n",
       "      <td>9</td>\n",
       "      <td>0.000018</td>\n",
       "      <td>data/spectrum/part1.log</td>\n",
       "      <td>105.091361</td>\n",
       "      <td>8</td>\n",
       "      <td>1</td>\n",
       "    </tr>\n",
       "    <tr>\n",
       "      <th>...</th>\n",
       "      <td>...</td>\n",
       "      <td>...</td>\n",
       "      <td>...</td>\n",
       "      <td>...</td>\n",
       "      <td>...</td>\n",
       "      <td>...</td>\n",
       "      <td>...</td>\n",
       "    </tr>\n",
       "    <tr>\n",
       "      <th>147</th>\n",
       "      <td>2</td>\n",
       "      <td>165</td>\n",
       "      <td>0.000001</td>\n",
       "      <td>data/spectrum/part2.log</td>\n",
       "      <td>105.114965</td>\n",
       "      <td>242</td>\n",
       "      <td>1</td>\n",
       "    </tr>\n",
       "    <tr>\n",
       "      <th>148</th>\n",
       "      <td>2</td>\n",
       "      <td>167</td>\n",
       "      <td>0.000003</td>\n",
       "      <td>data/spectrum/part2.log</td>\n",
       "      <td>105.115001</td>\n",
       "      <td>244</td>\n",
       "      <td>1</td>\n",
       "    </tr>\n",
       "    <tr>\n",
       "      <th>149</th>\n",
       "      <td>1</td>\n",
       "      <td>170</td>\n",
       "      <td>0.000003</td>\n",
       "      <td>data/spectrum/part2.log</td>\n",
       "      <td>105.115084</td>\n",
       "      <td>247</td>\n",
       "      <td>0</td>\n",
       "    </tr>\n",
       "    <tr>\n",
       "      <th>150</th>\n",
       "      <td>1</td>\n",
       "      <td>173</td>\n",
       "      <td>0.000002</td>\n",
       "      <td>data/spectrum/part2.log</td>\n",
       "      <td>105.115099</td>\n",
       "      <td>250</td>\n",
       "      <td>0</td>\n",
       "    </tr>\n",
       "    <tr>\n",
       "      <th>151</th>\n",
       "      <td>1</td>\n",
       "      <td>174</td>\n",
       "      <td>0.000001</td>\n",
       "      <td>data/spectrum/part2.log</td>\n",
       "      <td>105.115099</td>\n",
       "      <td>251</td>\n",
       "      <td>0</td>\n",
       "    </tr>\n",
       "  </tbody>\n",
       "</table>\n",
       "<p>152 rows × 7 columns</p>\n",
       "</div>"
      ],
      "text/plain": [
       "     i_state  f_state       osc                   source          dE    f  i\n",
       "idx                                                                         \n",
       "0          1        3  0.000012  data/spectrum/part1.log  105.086119    2  0\n",
       "1          2        5  0.000012  data/spectrum/part1.log  105.086194    4  1\n",
       "2          1        5  0.000006  data/spectrum/part1.log  105.086194    4  0\n",
       "3          1        6  0.000006  data/spectrum/part1.log  105.086194    5  0\n",
       "4          2        9  0.000018  data/spectrum/part1.log  105.091361    8  1\n",
       "..       ...      ...       ...                      ...         ...  ... ..\n",
       "147        2      165  0.000001  data/spectrum/part2.log  105.114965  242  1\n",
       "148        2      167  0.000003  data/spectrum/part2.log  105.115001  244  1\n",
       "149        1      170  0.000003  data/spectrum/part2.log  105.115084  247  0\n",
       "150        1      173  0.000002  data/spectrum/part2.log  105.115099  250  0\n",
       "151        1      174  0.000001  data/spectrum/part2.log  105.115099  251  0\n",
       "\n",
       "[152 rows x 7 columns]"
      ]
     },
     "execution_count": 16,
     "metadata": {},
     "output_type": "execute_result"
    }
   ],
   "source": [
    "spec.df"
   ]
  },
  {
   "cell_type": "code",
   "execution_count": 17,
   "id": "51f344e8",
   "metadata": {
    "collapsed": false,
    "jupyter": {
     "outputs_hidden": false
    }
   },
   "outputs": [
    {
     "name": "stdout",
     "output_type": "stream",
     "text": [
      "Reading /Users/kirill/Documents/UW/Li_Group/CsPbCl3_Ln/calculations/rasci/ras-t1u_1s_3p-14_4f-10_5d/dipoles/rasci_414s.r1_t1u_2t1u.cut_105_30506.ce3p_casscf_sa14_14s_gb3lyp_ref.ano_cl.gdv_j14p.7527806.log\n",
      "Parsing link l910\n",
      "Executing: read_mc_spec\n",
      "Executing: read_ci\n",
      "Executing: read_pdm_diags\n",
      "Executing: read_oscillator_strength\n",
      "Reading /Users/kirill/Documents/UW/Li_Group/CsPbCl3_Ln/calculations/rasci/ras-t1u_1s_3p-14_4f-10_5d/dipoles/rasci_414s.r1_t1u_2t1u.cut_105_13379.ce3p_casscf_sa14_14s_gb3lyp_ref.ano_cl.gdv_j14p.7527806.log\n",
      "Parsing link l910\n",
      "Executing: read_mc_spec\n",
      "Executing: read_ci\n",
      "Executing: read_pdm_diags\n",
      "Executing: read_oscillator_strength\n",
      "Reading /Users/kirill/Documents/UW/Li_Group/CsPbCl3_Ln/calculations/rasci/ras-t1u_1s_3p-14_4f-10_5d/dipoles/rasci_414s.r1_t1u_2t1u.cut_105_21828.ce3p_casscf_sa14_14s_gb3lyp_ref.ano_cl.gdv_j14p.7527806.log\n",
      "Parsing link l910\n",
      "Executing: read_mc_spec\n",
      "Executing: read_ci\n",
      "Executing: read_pdm_diags\n",
      "Executing: read_oscillator_strength\n",
      "Reading /Users/kirill/Documents/UW/Li_Group/CsPbCl3_Ln/calculations/rasci/ras-t1u_1s_3p-14_4f-10_5d/dipoles/rasci_414s.r1_t1u_2t1u.cut_100.ce3p_casscf_sa14_14s_gb3lyp_ref.ano_cl.gdv_j14p.7527806.log\n",
      "Parsing link l910\n",
      "Executing: read_mc_spec\n",
      "Executing: read_ci\n",
      "Executing: read_pdm_diags\n",
      "Executing: read_oscillator_strength\n"
     ]
    }
   ],
   "source": [
    "rasci_dir = '/Users/kirill/Documents/UW/Li_Group/CsPbCl3_Ln/calculations/rasci/ras-t1u_1s_3p-14_4f-10_5d/dipoles'\n",
    "\n",
    "gdvlogs = glob.glob(os.path.join(rasci_dir, 'rasci_414s.*ano_cl*.log'))\n",
    "\n",
    "space = MCSpace.from_space_spec(\n",
    "    ras=(12, 14, 10),\n",
    "    elec=13,\n",
    "    max_hole=2, max_elec=1,\n",
    "    mo_blocks={\n",
    "        '1s': [(0, 6)],\n",
    "        '3p': [(6, 12)],\n",
    "        '4f': [(12, 26)],\n",
    "        '5d': [(26, 36)],\n",
    "    },\n",
    ")\n",
    "\n",
    "spec_parts = []\n",
    "for gdvlog in gdvlogs:\n",
    "    part_data = parse_gdvlog(gdvlog, l910_parser_funcs, n_ground=14)\n",
    "    spec = MCSpectrum.from_dict(part_data, space=space, sort_peaks=True)\n",
    "    spec_parts.append(spec)\n",
    "\n",
    "spec_parts = sorted(spec_parts, key=lambda x: np.mean(x.energy_range))"
   ]
  },
  {
   "cell_type": "code",
   "execution_count": 18,
   "id": "bb25fd26",
   "metadata": {
    "collapsed": false,
    "jupyter": {
     "outputs_hidden": false
    }
   },
   "outputs": [
    {
     "ename": "IntCastingNaNError",
     "evalue": "Cannot convert non-finite values (NA or inf) to integer",
     "output_type": "error",
     "traceback": [
      "\u001B[0;31m---------------------------------------------------------------------------\u001B[0m",
      "\u001B[0;31mIntCastingNaNError\u001B[0m                        Traceback (most recent call last)",
      "Cell \u001B[0;32mIn [18], line 1\u001B[0m\n\u001B[0;32m----> 1\u001B[0m \u001B[43mMCSpectrum\u001B[49m\u001B[38;5;241;43m.\u001B[39;49m\u001B[43mfrom_spectra\u001B[49m\u001B[43m(\u001B[49m\u001B[43mspec_parts\u001B[49m\u001B[43m)\u001B[49m\n",
      "File \u001B[0;32m~/Documents/UW/Li_Group/mctools/mctools/core/mcspectrum.py:252\u001B[0m, in \u001B[0;36mMCSpectrum.from_spectra\u001B[0;34m(cls, spectra, **kwargs)\u001B[0m\n\u001B[1;32m    250\u001B[0m base_spec \u001B[38;5;241m=\u001B[39m copy\u001B[38;5;241m.\u001B[39mdeepcopy(spectra[\u001B[38;5;241m0\u001B[39m])\n\u001B[1;32m    251\u001B[0m \u001B[38;5;28;01mfor\u001B[39;00m spec \u001B[38;5;129;01min\u001B[39;00m spectra[\u001B[38;5;241m1\u001B[39m:]:\n\u001B[0;32m--> 252\u001B[0m     \u001B[43mbase_spec\u001B[49m\u001B[38;5;241;43m.\u001B[39;49m\u001B[43mextend\u001B[49m\u001B[43m(\u001B[49m\u001B[43mspec\u001B[49m\u001B[43m,\u001B[49m\u001B[43m \u001B[49m\u001B[38;5;241;43m*\u001B[39;49m\u001B[38;5;241;43m*\u001B[39;49m\u001B[43mkwargs\u001B[49m\u001B[43m)\u001B[49m\n\u001B[1;32m    254\u001B[0m \u001B[38;5;28;01mreturn\u001B[39;00m base_spec\n",
      "File \u001B[0;32m~/Documents/UW/Li_Group/mctools/mctools/core/mcspectrum.py:175\u001B[0m, in \u001B[0;36mMCSpectrum.extend\u001B[0;34m(self, other, **alignment_kwargs)\u001B[0m\n\u001B[1;32m    173\u001B[0m \u001B[38;5;66;03m# Set missed states\u001B[39;00m\n\u001B[1;32m    174\u001B[0m df\u001B[38;5;241m.\u001B[39mloc[missed_idx, \u001B[38;5;28mself\u001B[39m\u001B[38;5;241m.\u001B[39mINITIAL_COL] \u001B[38;5;241m=\u001B[39m temp_df2[\u001B[38;5;124m'\u001B[39m\u001B[38;5;124midx\u001B[39m\u001B[38;5;124m'\u001B[39m]\u001B[38;5;241m.\u001B[39mvalues\n\u001B[0;32m--> 175\u001B[0m df[\u001B[38;5;28mself\u001B[39m\u001B[38;5;241m.\u001B[39mINITIAL_COL] \u001B[38;5;241m=\u001B[39m \u001B[43mdf\u001B[49m\u001B[43m[\u001B[49m\u001B[38;5;28;43mself\u001B[39;49m\u001B[38;5;241;43m.\u001B[39;49m\u001B[43mINITIAL_COL\u001B[49m\u001B[43m]\u001B[49m\u001B[38;5;241;43m.\u001B[39;49m\u001B[43mastype\u001B[49m\u001B[43m(\u001B[49m\u001B[43mdf\u001B[49m\u001B[43m[\u001B[49m\u001B[38;5;28;43mself\u001B[39;49m\u001B[38;5;241;43m.\u001B[39;49m\u001B[43mFINAL_COL\u001B[49m\u001B[43m]\u001B[49m\u001B[38;5;241;43m.\u001B[39;49m\u001B[43mdtype\u001B[49m\u001B[43m)\u001B[49m\n\u001B[1;32m    177\u001B[0m \u001B[38;5;28mself\u001B[39m\u001B[38;5;241m.\u001B[39mdf \u001B[38;5;241m=\u001B[39m df\n\u001B[1;32m    179\u001B[0m \u001B[38;5;28mself\u001B[39m\u001B[38;5;241m.\u001B[39msort()\n",
      "File \u001B[0;32m/opt/homebrew/Caskroom/miniforge/base/envs/dev/lib/python3.10/site-packages/pandas/core/generic.py:6240\u001B[0m, in \u001B[0;36mNDFrame.astype\u001B[0;34m(self, dtype, copy, errors)\u001B[0m\n\u001B[1;32m   6233\u001B[0m     results \u001B[38;5;241m=\u001B[39m [\n\u001B[1;32m   6234\u001B[0m         \u001B[38;5;28mself\u001B[39m\u001B[38;5;241m.\u001B[39miloc[:, i]\u001B[38;5;241m.\u001B[39mastype(dtype, copy\u001B[38;5;241m=\u001B[39mcopy)\n\u001B[1;32m   6235\u001B[0m         \u001B[38;5;28;01mfor\u001B[39;00m i \u001B[38;5;129;01min\u001B[39;00m \u001B[38;5;28mrange\u001B[39m(\u001B[38;5;28mlen\u001B[39m(\u001B[38;5;28mself\u001B[39m\u001B[38;5;241m.\u001B[39mcolumns))\n\u001B[1;32m   6236\u001B[0m     ]\n\u001B[1;32m   6238\u001B[0m \u001B[38;5;28;01melse\u001B[39;00m:\n\u001B[1;32m   6239\u001B[0m     \u001B[38;5;66;03m# else, only a single dtype is given\u001B[39;00m\n\u001B[0;32m-> 6240\u001B[0m     new_data \u001B[38;5;241m=\u001B[39m \u001B[38;5;28;43mself\u001B[39;49m\u001B[38;5;241;43m.\u001B[39;49m\u001B[43m_mgr\u001B[49m\u001B[38;5;241;43m.\u001B[39;49m\u001B[43mastype\u001B[49m\u001B[43m(\u001B[49m\u001B[43mdtype\u001B[49m\u001B[38;5;241;43m=\u001B[39;49m\u001B[43mdtype\u001B[49m\u001B[43m,\u001B[49m\u001B[43m \u001B[49m\u001B[43mcopy\u001B[49m\u001B[38;5;241;43m=\u001B[39;49m\u001B[43mcopy\u001B[49m\u001B[43m,\u001B[49m\u001B[43m \u001B[49m\u001B[43merrors\u001B[49m\u001B[38;5;241;43m=\u001B[39;49m\u001B[43merrors\u001B[49m\u001B[43m)\u001B[49m\n\u001B[1;32m   6241\u001B[0m     \u001B[38;5;28;01mreturn\u001B[39;00m \u001B[38;5;28mself\u001B[39m\u001B[38;5;241m.\u001B[39m_constructor(new_data)\u001B[38;5;241m.\u001B[39m__finalize__(\u001B[38;5;28mself\u001B[39m, method\u001B[38;5;241m=\u001B[39m\u001B[38;5;124m\"\u001B[39m\u001B[38;5;124mastype\u001B[39m\u001B[38;5;124m\"\u001B[39m)\n\u001B[1;32m   6243\u001B[0m \u001B[38;5;66;03m# GH 33113: handle empty frame or series\u001B[39;00m\n",
      "File \u001B[0;32m/opt/homebrew/Caskroom/miniforge/base/envs/dev/lib/python3.10/site-packages/pandas/core/internals/managers.py:450\u001B[0m, in \u001B[0;36mBaseBlockManager.astype\u001B[0;34m(self, dtype, copy, errors)\u001B[0m\n\u001B[1;32m    449\u001B[0m \u001B[38;5;28;01mdef\u001B[39;00m \u001B[38;5;21mastype\u001B[39m(\u001B[38;5;28mself\u001B[39m: T, dtype, copy: \u001B[38;5;28mbool\u001B[39m \u001B[38;5;241m=\u001B[39m \u001B[38;5;28;01mFalse\u001B[39;00m, errors: \u001B[38;5;28mstr\u001B[39m \u001B[38;5;241m=\u001B[39m \u001B[38;5;124m\"\u001B[39m\u001B[38;5;124mraise\u001B[39m\u001B[38;5;124m\"\u001B[39m) \u001B[38;5;241m-\u001B[39m\u001B[38;5;241m>\u001B[39m T:\n\u001B[0;32m--> 450\u001B[0m     \u001B[38;5;28;01mreturn\u001B[39;00m \u001B[38;5;28;43mself\u001B[39;49m\u001B[38;5;241;43m.\u001B[39;49m\u001B[43mapply\u001B[49m\u001B[43m(\u001B[49m\u001B[38;5;124;43m\"\u001B[39;49m\u001B[38;5;124;43mastype\u001B[39;49m\u001B[38;5;124;43m\"\u001B[39;49m\u001B[43m,\u001B[49m\u001B[43m \u001B[49m\u001B[43mdtype\u001B[49m\u001B[38;5;241;43m=\u001B[39;49m\u001B[43mdtype\u001B[49m\u001B[43m,\u001B[49m\u001B[43m \u001B[49m\u001B[43mcopy\u001B[49m\u001B[38;5;241;43m=\u001B[39;49m\u001B[43mcopy\u001B[49m\u001B[43m,\u001B[49m\u001B[43m \u001B[49m\u001B[43merrors\u001B[49m\u001B[38;5;241;43m=\u001B[39;49m\u001B[43merrors\u001B[49m\u001B[43m)\u001B[49m\n",
      "File \u001B[0;32m/opt/homebrew/Caskroom/miniforge/base/envs/dev/lib/python3.10/site-packages/pandas/core/internals/managers.py:352\u001B[0m, in \u001B[0;36mBaseBlockManager.apply\u001B[0;34m(self, f, align_keys, ignore_failures, **kwargs)\u001B[0m\n\u001B[1;32m    350\u001B[0m         applied \u001B[38;5;241m=\u001B[39m b\u001B[38;5;241m.\u001B[39mapply(f, \u001B[38;5;241m*\u001B[39m\u001B[38;5;241m*\u001B[39mkwargs)\n\u001B[1;32m    351\u001B[0m     \u001B[38;5;28;01melse\u001B[39;00m:\n\u001B[0;32m--> 352\u001B[0m         applied \u001B[38;5;241m=\u001B[39m \u001B[38;5;28;43mgetattr\u001B[39;49m\u001B[43m(\u001B[49m\u001B[43mb\u001B[49m\u001B[43m,\u001B[49m\u001B[43m \u001B[49m\u001B[43mf\u001B[49m\u001B[43m)\u001B[49m\u001B[43m(\u001B[49m\u001B[38;5;241;43m*\u001B[39;49m\u001B[38;5;241;43m*\u001B[39;49m\u001B[43mkwargs\u001B[49m\u001B[43m)\u001B[49m\n\u001B[1;32m    353\u001B[0m \u001B[38;5;28;01mexcept\u001B[39;00m (\u001B[38;5;167;01mTypeError\u001B[39;00m, \u001B[38;5;167;01mNotImplementedError\u001B[39;00m):\n\u001B[1;32m    354\u001B[0m     \u001B[38;5;28;01mif\u001B[39;00m \u001B[38;5;129;01mnot\u001B[39;00m ignore_failures:\n",
      "File \u001B[0;32m/opt/homebrew/Caskroom/miniforge/base/envs/dev/lib/python3.10/site-packages/pandas/core/internals/blocks.py:526\u001B[0m, in \u001B[0;36mBlock.astype\u001B[0;34m(self, dtype, copy, errors)\u001B[0m\n\u001B[1;32m    508\u001B[0m \u001B[38;5;124;03m\"\"\"\u001B[39;00m\n\u001B[1;32m    509\u001B[0m \u001B[38;5;124;03mCoerce to the new dtype.\u001B[39;00m\n\u001B[1;32m    510\u001B[0m \n\u001B[0;32m   (...)\u001B[0m\n\u001B[1;32m    522\u001B[0m \u001B[38;5;124;03mBlock\u001B[39;00m\n\u001B[1;32m    523\u001B[0m \u001B[38;5;124;03m\"\"\"\u001B[39;00m\n\u001B[1;32m    524\u001B[0m values \u001B[38;5;241m=\u001B[39m \u001B[38;5;28mself\u001B[39m\u001B[38;5;241m.\u001B[39mvalues\n\u001B[0;32m--> 526\u001B[0m new_values \u001B[38;5;241m=\u001B[39m \u001B[43mastype_array_safe\u001B[49m\u001B[43m(\u001B[49m\u001B[43mvalues\u001B[49m\u001B[43m,\u001B[49m\u001B[43m \u001B[49m\u001B[43mdtype\u001B[49m\u001B[43m,\u001B[49m\u001B[43m \u001B[49m\u001B[43mcopy\u001B[49m\u001B[38;5;241;43m=\u001B[39;49m\u001B[43mcopy\u001B[49m\u001B[43m,\u001B[49m\u001B[43m \u001B[49m\u001B[43merrors\u001B[49m\u001B[38;5;241;43m=\u001B[39;49m\u001B[43merrors\u001B[49m\u001B[43m)\u001B[49m\n\u001B[1;32m    528\u001B[0m new_values \u001B[38;5;241m=\u001B[39m maybe_coerce_values(new_values)\n\u001B[1;32m    529\u001B[0m newb \u001B[38;5;241m=\u001B[39m \u001B[38;5;28mself\u001B[39m\u001B[38;5;241m.\u001B[39mmake_block(new_values)\n",
      "File \u001B[0;32m/opt/homebrew/Caskroom/miniforge/base/envs/dev/lib/python3.10/site-packages/pandas/core/dtypes/astype.py:299\u001B[0m, in \u001B[0;36mastype_array_safe\u001B[0;34m(values, dtype, copy, errors)\u001B[0m\n\u001B[1;32m    296\u001B[0m     \u001B[38;5;28;01mreturn\u001B[39;00m values\u001B[38;5;241m.\u001B[39mcopy()\n\u001B[1;32m    298\u001B[0m \u001B[38;5;28;01mtry\u001B[39;00m:\n\u001B[0;32m--> 299\u001B[0m     new_values \u001B[38;5;241m=\u001B[39m \u001B[43mastype_array\u001B[49m\u001B[43m(\u001B[49m\u001B[43mvalues\u001B[49m\u001B[43m,\u001B[49m\u001B[43m \u001B[49m\u001B[43mdtype\u001B[49m\u001B[43m,\u001B[49m\u001B[43m \u001B[49m\u001B[43mcopy\u001B[49m\u001B[38;5;241;43m=\u001B[39;49m\u001B[43mcopy\u001B[49m\u001B[43m)\u001B[49m\n\u001B[1;32m    300\u001B[0m \u001B[38;5;28;01mexcept\u001B[39;00m (\u001B[38;5;167;01mValueError\u001B[39;00m, \u001B[38;5;167;01mTypeError\u001B[39;00m):\n\u001B[1;32m    301\u001B[0m     \u001B[38;5;66;03m# e.g. astype_nansafe can fail on object-dtype of strings\u001B[39;00m\n\u001B[1;32m    302\u001B[0m     \u001B[38;5;66;03m#  trying to convert to float\u001B[39;00m\n\u001B[1;32m    303\u001B[0m     \u001B[38;5;28;01mif\u001B[39;00m errors \u001B[38;5;241m==\u001B[39m \u001B[38;5;124m\"\u001B[39m\u001B[38;5;124mignore\u001B[39m\u001B[38;5;124m\"\u001B[39m:\n",
      "File \u001B[0;32m/opt/homebrew/Caskroom/miniforge/base/envs/dev/lib/python3.10/site-packages/pandas/core/dtypes/astype.py:230\u001B[0m, in \u001B[0;36mastype_array\u001B[0;34m(values, dtype, copy)\u001B[0m\n\u001B[1;32m    227\u001B[0m     values \u001B[38;5;241m=\u001B[39m values\u001B[38;5;241m.\u001B[39mastype(dtype, copy\u001B[38;5;241m=\u001B[39mcopy)\n\u001B[1;32m    229\u001B[0m \u001B[38;5;28;01melse\u001B[39;00m:\n\u001B[0;32m--> 230\u001B[0m     values \u001B[38;5;241m=\u001B[39m \u001B[43mastype_nansafe\u001B[49m\u001B[43m(\u001B[49m\u001B[43mvalues\u001B[49m\u001B[43m,\u001B[49m\u001B[43m \u001B[49m\u001B[43mdtype\u001B[49m\u001B[43m,\u001B[49m\u001B[43m \u001B[49m\u001B[43mcopy\u001B[49m\u001B[38;5;241;43m=\u001B[39;49m\u001B[43mcopy\u001B[49m\u001B[43m)\u001B[49m\n\u001B[1;32m    232\u001B[0m \u001B[38;5;66;03m# in pandas we don't store numpy str dtypes, so convert to object\u001B[39;00m\n\u001B[1;32m    233\u001B[0m \u001B[38;5;28;01mif\u001B[39;00m \u001B[38;5;28misinstance\u001B[39m(dtype, np\u001B[38;5;241m.\u001B[39mdtype) \u001B[38;5;129;01mand\u001B[39;00m \u001B[38;5;28missubclass\u001B[39m(values\u001B[38;5;241m.\u001B[39mdtype\u001B[38;5;241m.\u001B[39mtype, \u001B[38;5;28mstr\u001B[39m):\n",
      "File \u001B[0;32m/opt/homebrew/Caskroom/miniforge/base/envs/dev/lib/python3.10/site-packages/pandas/core/dtypes/astype.py:140\u001B[0m, in \u001B[0;36mastype_nansafe\u001B[0;34m(arr, dtype, copy, skipna)\u001B[0m\n\u001B[1;32m    137\u001B[0m     \u001B[38;5;28;01mraise\u001B[39;00m \u001B[38;5;167;01mTypeError\u001B[39;00m(\u001B[38;5;124mf\u001B[39m\u001B[38;5;124m\"\u001B[39m\u001B[38;5;124mcannot astype a timedelta from [\u001B[39m\u001B[38;5;132;01m{\u001B[39;00marr\u001B[38;5;241m.\u001B[39mdtype\u001B[38;5;132;01m}\u001B[39;00m\u001B[38;5;124m] to [\u001B[39m\u001B[38;5;132;01m{\u001B[39;00mdtype\u001B[38;5;132;01m}\u001B[39;00m\u001B[38;5;124m]\u001B[39m\u001B[38;5;124m\"\u001B[39m)\n\u001B[1;32m    139\u001B[0m \u001B[38;5;28;01melif\u001B[39;00m np\u001B[38;5;241m.\u001B[39missubdtype(arr\u001B[38;5;241m.\u001B[39mdtype, np\u001B[38;5;241m.\u001B[39mfloating) \u001B[38;5;129;01mand\u001B[39;00m is_integer_dtype(dtype):\n\u001B[0;32m--> 140\u001B[0m     \u001B[38;5;28;01mreturn\u001B[39;00m \u001B[43m_astype_float_to_int_nansafe\u001B[49m\u001B[43m(\u001B[49m\u001B[43marr\u001B[49m\u001B[43m,\u001B[49m\u001B[43m \u001B[49m\u001B[43mdtype\u001B[49m\u001B[43m,\u001B[49m\u001B[43m \u001B[49m\u001B[43mcopy\u001B[49m\u001B[43m)\u001B[49m\n\u001B[1;32m    142\u001B[0m \u001B[38;5;28;01melif\u001B[39;00m is_object_dtype(arr\u001B[38;5;241m.\u001B[39mdtype):\n\u001B[1;32m    143\u001B[0m \n\u001B[1;32m    144\u001B[0m     \u001B[38;5;66;03m# if we have a datetime/timedelta array of objects\u001B[39;00m\n\u001B[1;32m    145\u001B[0m     \u001B[38;5;66;03m# then coerce to a proper dtype and recall astype_nansafe\u001B[39;00m\n\u001B[1;32m    147\u001B[0m     \u001B[38;5;28;01mif\u001B[39;00m is_datetime64_dtype(dtype):\n",
      "File \u001B[0;32m/opt/homebrew/Caskroom/miniforge/base/envs/dev/lib/python3.10/site-packages/pandas/core/dtypes/astype.py:182\u001B[0m, in \u001B[0;36m_astype_float_to_int_nansafe\u001B[0;34m(values, dtype, copy)\u001B[0m\n\u001B[1;32m    178\u001B[0m \u001B[38;5;124;03m\"\"\"\u001B[39;00m\n\u001B[1;32m    179\u001B[0m \u001B[38;5;124;03mastype with a check preventing converting NaN to an meaningless integer value.\u001B[39;00m\n\u001B[1;32m    180\u001B[0m \u001B[38;5;124;03m\"\"\"\u001B[39;00m\n\u001B[1;32m    181\u001B[0m \u001B[38;5;28;01mif\u001B[39;00m \u001B[38;5;129;01mnot\u001B[39;00m np\u001B[38;5;241m.\u001B[39misfinite(values)\u001B[38;5;241m.\u001B[39mall():\n\u001B[0;32m--> 182\u001B[0m     \u001B[38;5;28;01mraise\u001B[39;00m IntCastingNaNError(\n\u001B[1;32m    183\u001B[0m         \u001B[38;5;124m\"\u001B[39m\u001B[38;5;124mCannot convert non-finite values (NA or inf) to integer\u001B[39m\u001B[38;5;124m\"\u001B[39m\n\u001B[1;32m    184\u001B[0m     )\n\u001B[1;32m    185\u001B[0m \u001B[38;5;28;01mif\u001B[39;00m dtype\u001B[38;5;241m.\u001B[39mkind \u001B[38;5;241m==\u001B[39m \u001B[38;5;124m\"\u001B[39m\u001B[38;5;124mu\u001B[39m\u001B[38;5;124m\"\u001B[39m:\n\u001B[1;32m    186\u001B[0m     \u001B[38;5;66;03m# GH#45151\u001B[39;00m\n\u001B[1;32m    187\u001B[0m     \u001B[38;5;28;01mif\u001B[39;00m \u001B[38;5;129;01mnot\u001B[39;00m (values \u001B[38;5;241m>\u001B[39m\u001B[38;5;241m=\u001B[39m \u001B[38;5;241m0\u001B[39m)\u001B[38;5;241m.\u001B[39mall():\n",
      "\u001B[0;31mIntCastingNaNError\u001B[0m: Cannot convert non-finite values (NA or inf) to integer"
     ]
    }
   ],
   "source": [
    "MCSpectrum.from_spectra(spec_parts)"
   ]
  }
 ],
 "metadata": {
  "kernelspec": {
   "display_name": "Python 3 (ipykernel)",
   "language": "python",
   "name": "python3"
  },
  "language_info": {
   "codemirror_mode": {
    "name": "ipython",
    "version": 3
   },
   "file_extension": ".py",
   "mimetype": "text/x-python",
   "name": "python",
   "nbconvert_exporter": "python",
   "pygments_lexer": "ipython3",
   "version": "3.10.9"
  }
 },
 "nbformat": 4,
 "nbformat_minor": 5
}

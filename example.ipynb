{
 "cells": [
  {
   "cell_type": "code",
   "outputs": [],
   "source": [
    "import abc\n",
    "import pathlib\n",
    "import numpy as np\n",
    "import pandas as pd\n",
    "\n",
    "data_dir = pathlib.Path('tests').resolve()\n",
    "calc_dir = data_dir / 'data'\n",
    "log = calc_dir / 'rasci_1r1h36o_2r13e14o_3r1p6o.casscf_13e14o_ref.ano-yb_r1-i_r0.ybi6_1.gdv_j14p.16262576.log'\n",
    "fchk = log.with_suffix('.fchk')\n",
    "\n",
    "archive = log.with_suffix('.h5')"
   ],
   "metadata": {
    "collapsed": false,
    "ExecuteTime": {
     "end_time": "2024-02-29T23:10:31.349347Z",
     "start_time": "2024-02-29T23:10:31.270970Z"
    }
   },
   "id": "3281fffb50e86ca0",
   "execution_count": 3
  },
  {
   "cell_type": "code",
   "outputs": [],
   "source": [
    "from mctools.basic.basis import MolecularOrbitalBasis, MolecularOrbitalAnsatz\n",
    "from mctools.ci.states import States\n",
    "\n",
    "mo = MolecularOrbitalBasis.from_hdf5(archive)\n",
    "ao = mo.ao_basis"
   ],
   "metadata": {
    "collapsed": false,
    "ExecuteTime": {
     "end_time": "2024-02-29T23:10:31.811720Z",
     "start_time": "2024-02-29T23:10:31.748823Z"
    }
   },
   "id": "abe2783e6b74ef8c",
   "execution_count": 4
  },
  {
   "cell_type": "code",
   "outputs": [],
   "source": [
    "import attrs\n",
    "\n",
    "@attrs.define(repr=True, eq=True, frozen=True)\n",
    "class LabelByPartition:\n",
    "    by: list[str] \n",
    "    n_top: int\n",
    "    save: bool = False\n",
    "    return_result: bool = True\n",
    "    \n",
    "    @property\n",
    "    def n_by(self) -> int:\n",
    "        return len(self.by)\n",
    "    \n",
    "    def __call__(self, mo: MolecularOrbitalBasis) -> pd.DataFrame | None:\n",
    "        df = mo.get_partitioning(by=self.by)\n",
    "        fragments, partorb = df.iloc[:, :self.n_by], df.iloc[:, self.n_by:]\n",
    "        fragments['label'] = fragments.apply(lambda r: '_'.join(r), axis=1)\n",
    "\n",
    "        partorb_abs = partorb.apply(np.abs)\n",
    "        indicies = np.argpartition(partorb_abs, -self.n_top, axis=0)\n",
    "        labels = fragments['label'].values[indicies[-self.n_top:, :]][::-1, :]\n",
    "        coeffs = np.take_along_axis(partorb.to_numpy(), indicies[-self.n_top:, :], 0)[::-1, :]\n",
    "\n",
    "        df_labels = pd.DataFrame(labels.T, columns=[f'label_top{i}' for i in range(1, self.n_top + 1)], dtype='category')\n",
    "        df_coeffs = pd.DataFrame(coeffs.T, columns=[f'coeff_top{i}' for i in range(1, self.n_top + 1)])\n",
    "        df_part = pd.concat([pd.concat([df_labels.iloc[:, i], df_coeffs.iloc[:, i]], axis=1) for i in range(self.n_top)], axis=1)\n",
    "        \n",
    "        if self.save:\n",
    "            mo.df = pd.concat([mo.df, df_part], axis=1)\n",
    "        \n",
    "        if self.return_result:\n",
    "            return df_part    "
   ],
   "metadata": {
    "collapsed": false,
    "ExecuteTime": {
     "end_time": "2024-02-29T23:10:35.965178Z",
     "start_time": "2024-02-29T23:10:35.908245Z"
    }
   },
   "id": "b78b14a6febbb418",
   "execution_count": 5
  },
  {
   "cell_type": "code",
   "outputs": [],
   "source": [
    "by = ['element', 'L']\n",
    "df = mo.get_partitioning(by=by)\n",
    "fragments, partorb = df.iloc[:, :len(by)], df.iloc[:, len(by):]\n",
    "fragments['label'] = fragments.apply(lambda r: '_'.join(r), axis=1)"
   ],
   "metadata": {
    "collapsed": false,
    "ExecuteTime": {
     "end_time": "2024-02-29T22:27:16.957915Z",
     "start_time": "2024-02-29T22:27:15.114128Z"
    }
   },
   "id": "c2290b72e112ab78",
   "execution_count": 206
  },
  {
   "cell_type": "code",
   "outputs": [
    {
     "data": {
      "text/plain": "    label_top1          coeff_top1 label_top2  \\\n0         Yb_S  1.000000+0.000000j        I_P   \n1         Yb_S  1.000000-0.000000j        I_P   \n2          I_S  1.000000-0.000000j        I_P   \n3          I_S  1.000000+0.000000j        I_P   \n4          I_S  1.000000+0.000000j        I_P   \n..         ...                 ...        ...   \n386       Yb_F  0.999486+0.000000j        I_P   \n387       Yb_F  0.999486+0.000000j        I_P   \n388       Yb_F  0.999432+0.000000j        I_P   \n389       Yb_F  0.999432+0.000000j        I_P   \n390       Yb_F  0.999204+0.000000j        I_P   \n\n                                         coeff_top2  \n0    5.849324e-12+3.648482e-                    30j  \n1    5.849324e-12+1.972152e-                    31j  \n2    3.625091e-12-8.874685e-                    31j  \n3    3.625090e-12+1.528418e-                    30j  \n4    3.621219e-12-2.563798e-                    30j  \n..                                              ...  \n386  1.731628e-03+7.835055e-                    21j  \n387  1.731628e-03-3.388132e-                    21j  \n388  1.895351e-03+5.293956e-                    21j  \n389  1.895351e-03+2.752857e-                    21j  \n390  2.732727e-03-1.132907e-                    20j  \n\n[391 rows x 4 columns]",
      "text/html": "<div>\n<style scoped>\n    .dataframe tbody tr th:only-of-type {\n        vertical-align: middle;\n    }\n\n    .dataframe tbody tr th {\n        vertical-align: top;\n    }\n\n    .dataframe thead th {\n        text-align: right;\n    }\n</style>\n<table border=\"1\" class=\"dataframe\">\n  <thead>\n    <tr style=\"text-align: right;\">\n      <th></th>\n      <th>label_top1</th>\n      <th>coeff_top1</th>\n      <th>label_top2</th>\n      <th>coeff_top2</th>\n    </tr>\n  </thead>\n  <tbody>\n    <tr>\n      <th>0</th>\n      <td>Yb_S</td>\n      <td>1.000000+0.000000j</td>\n      <td>I_P</td>\n      <td>5.849324e-12+3.648482e-                    30j</td>\n    </tr>\n    <tr>\n      <th>1</th>\n      <td>Yb_S</td>\n      <td>1.000000-0.000000j</td>\n      <td>I_P</td>\n      <td>5.849324e-12+1.972152e-                    31j</td>\n    </tr>\n    <tr>\n      <th>2</th>\n      <td>I_S</td>\n      <td>1.000000-0.000000j</td>\n      <td>I_P</td>\n      <td>3.625091e-12-8.874685e-                    31j</td>\n    </tr>\n    <tr>\n      <th>3</th>\n      <td>I_S</td>\n      <td>1.000000+0.000000j</td>\n      <td>I_P</td>\n      <td>3.625090e-12+1.528418e-                    30j</td>\n    </tr>\n    <tr>\n      <th>4</th>\n      <td>I_S</td>\n      <td>1.000000+0.000000j</td>\n      <td>I_P</td>\n      <td>3.621219e-12-2.563798e-                    30j</td>\n    </tr>\n    <tr>\n      <th>...</th>\n      <td>...</td>\n      <td>...</td>\n      <td>...</td>\n      <td>...</td>\n    </tr>\n    <tr>\n      <th>386</th>\n      <td>Yb_F</td>\n      <td>0.999486+0.000000j</td>\n      <td>I_P</td>\n      <td>1.731628e-03+7.835055e-                    21j</td>\n    </tr>\n    <tr>\n      <th>387</th>\n      <td>Yb_F</td>\n      <td>0.999486+0.000000j</td>\n      <td>I_P</td>\n      <td>1.731628e-03-3.388132e-                    21j</td>\n    </tr>\n    <tr>\n      <th>388</th>\n      <td>Yb_F</td>\n      <td>0.999432+0.000000j</td>\n      <td>I_P</td>\n      <td>1.895351e-03+5.293956e-                    21j</td>\n    </tr>\n    <tr>\n      <th>389</th>\n      <td>Yb_F</td>\n      <td>0.999432+0.000000j</td>\n      <td>I_P</td>\n      <td>1.895351e-03+2.752857e-                    21j</td>\n    </tr>\n    <tr>\n      <th>390</th>\n      <td>Yb_F</td>\n      <td>0.999204+0.000000j</td>\n      <td>I_P</td>\n      <td>2.732727e-03-1.132907e-                    20j</td>\n    </tr>\n  </tbody>\n</table>\n<p>391 rows × 4 columns</p>\n</div>"
     },
     "execution_count": 6,
     "metadata": {},
     "output_type": "execute_result"
    }
   ],
   "source": [
    "labeler = LabelByPartition(by=['element', 'L'], n_top=2, save=True)\n",
    "labeler(mo)"
   ],
   "metadata": {
    "collapsed": false,
    "ExecuteTime": {
     "end_time": "2024-02-29T23:10:39.099080Z",
     "start_time": "2024-02-29T23:10:37.304366Z"
    }
   },
   "id": "455ae5c288c0a297",
   "execution_count": 6
  },
  {
   "cell_type": "code",
   "outputs": [
    {
     "name": "stderr",
     "output_type": "stream",
     "text": [
      "/Users/kirill/PycharmProjects/mctools/mctools/newcore/consolidator.py:183: FutureWarning: Starting with pandas version 3.0 all arguments of to_hdf except for the argument 'path_or_buf' will be keyword-only.\n",
      "  self.df.to_hdf(filename, '/'.join([path, name]), format='table')\n"
     ]
    },
    {
     "ename": "ValueError",
     "evalue": "The file '/Users/kirill/PycharmProjects/mctools/tests/data/rasci_1r1h36o_2r13e14o_3r1p6o.casscf_13e14o_ref.ano-yb_r1-i_r0.ybi6_1.gdv_j14p.16262576.h5' is already opened, but in read-only mode.  Please close it before reopening in append mode.",
     "output_type": "error",
     "traceback": [
      "\u001B[0;31m---------------------------------------------------------------------------\u001B[0m",
      "\u001B[0;31mValueError\u001B[0m                                Traceback (most recent call last)",
      "Cell \u001B[0;32mIn[7], line 1\u001B[0m\n\u001B[0;32m----> 1\u001B[0m \u001B[43mmo\u001B[49m\u001B[38;5;241;43m.\u001B[39;49m\u001B[43mto_hdf5\u001B[49m\u001B[43m(\u001B[49m\u001B[43marchive\u001B[49m\u001B[43m)\u001B[49m\n",
      "File \u001B[0;32m~/PycharmProjects/mctools/mctools/newcore/consolidator.py:56\u001B[0m, in \u001B[0;36mArchived.to_hdf5\u001B[0;34m(self, filename, prefix)\u001B[0m\n\u001B[1;32m     53\u001B[0m     \u001B[38;5;28;01mcontinue\u001B[39;00m\n\u001B[1;32m     55\u001B[0m \u001B[38;5;28;01melif\u001B[39;00m to_hdf5 \u001B[38;5;241m:=\u001B[39m \u001B[38;5;28mgetattr\u001B[39m(\u001B[38;5;28mself\u001B[39m, \u001B[38;5;124mf\u001B[39m\u001B[38;5;124m'\u001B[39m\u001B[38;5;132;01m{\u001B[39;00mattr_name\u001B[38;5;132;01m}\u001B[39;00m\u001B[38;5;124m_\u001B[39m\u001B[38;5;132;01m{\u001B[39;00m\u001B[38;5;28mself\u001B[39m\u001B[38;5;241m.\u001B[39mTO_KEY\u001B[38;5;132;01m}\u001B[39;00m\u001B[38;5;124m'\u001B[39m, \u001B[38;5;28;01mNone\u001B[39;00m):\n\u001B[0;32m---> 56\u001B[0m     \u001B[43mto_hdf5\u001B[49m\u001B[43m(\u001B[49m\u001B[43mfilename\u001B[49m\u001B[43m,\u001B[49m\u001B[43m \u001B[49m\u001B[43mprefix\u001B[49m\u001B[38;5;241;43m=\u001B[39;49m\u001B[43mprefix\u001B[49m\u001B[43m)\u001B[49m\n\u001B[1;32m     58\u001B[0m \u001B[38;5;28;01melif\u001B[39;00m (value \u001B[38;5;241m:=\u001B[39m \u001B[38;5;28mgetattr\u001B[39m(\u001B[38;5;28mself\u001B[39m, attr_name)) \u001B[38;5;129;01mis\u001B[39;00m \u001B[38;5;129;01mnot\u001B[39;00m \u001B[38;5;28;01mNone\u001B[39;00m \u001B[38;5;129;01mand\u001B[39;00m \u001B[38;5;28mhasattr\u001B[39m(value, \u001B[38;5;28mself\u001B[39m\u001B[38;5;241m.\u001B[39mTO_KEY):\n\u001B[1;32m     59\u001B[0m     value\u001B[38;5;241m.\u001B[39mto_hdf5(filename, prefix)\n",
      "File \u001B[0;32m~/PycharmProjects/mctools/mctools/newcore/consolidator.py:183\u001B[0m, in \u001B[0;36mConsolidator.df_to_hdf5\u001B[0;34m(self, filename, prefix)\u001B[0m\n\u001B[1;32m    181\u001B[0m \u001B[38;5;28;01mdef\u001B[39;00m \u001B[38;5;21mdf_to_hdf5\u001B[39m(\u001B[38;5;28mself\u001B[39m, filename: pathlib\u001B[38;5;241m.\u001B[39mPath, \u001B[38;5;241m/\u001B[39m, prefix: \u001B[38;5;28mstr\u001B[39m \u001B[38;5;241m=\u001B[39m \u001B[38;5;124m'\u001B[39m\u001B[38;5;124m'\u001B[39m) \u001B[38;5;241m-\u001B[39m\u001B[38;5;241m>\u001B[39m \u001B[38;5;28;01mNone\u001B[39;00m:\n\u001B[1;32m    182\u001B[0m     path, name \u001B[38;5;241m=\u001B[39m \u001B[38;5;28mself\u001B[39m\u001B[38;5;241m.\u001B[39mget_attr_hdf5_path(\u001B[38;5;124m'\u001B[39m\u001B[38;5;124mdf\u001B[39m\u001B[38;5;124m'\u001B[39m, prefix\u001B[38;5;241m=\u001B[39mprefix)\n\u001B[0;32m--> 183\u001B[0m     \u001B[38;5;28;43mself\u001B[39;49m\u001B[38;5;241;43m.\u001B[39;49m\u001B[43mdf\u001B[49m\u001B[38;5;241;43m.\u001B[39;49m\u001B[43mto_hdf\u001B[49m\u001B[43m(\u001B[49m\u001B[43mfilename\u001B[49m\u001B[43m,\u001B[49m\u001B[43m \u001B[49m\u001B[38;5;124;43m'\u001B[39;49m\u001B[38;5;124;43m/\u001B[39;49m\u001B[38;5;124;43m'\u001B[39;49m\u001B[38;5;241;43m.\u001B[39;49m\u001B[43mjoin\u001B[49m\u001B[43m(\u001B[49m\u001B[43m[\u001B[49m\u001B[43mpath\u001B[49m\u001B[43m,\u001B[49m\u001B[43m \u001B[49m\u001B[43mname\u001B[49m\u001B[43m]\u001B[49m\u001B[43m)\u001B[49m\u001B[43m,\u001B[49m\u001B[43m \u001B[49m\u001B[38;5;28;43mformat\u001B[39;49m\u001B[38;5;241;43m=\u001B[39;49m\u001B[38;5;124;43m'\u001B[39;49m\u001B[38;5;124;43mtable\u001B[39;49m\u001B[38;5;124;43m'\u001B[39;49m\u001B[43m)\u001B[49m\n",
      "File \u001B[0;32m~/Library/Caches/pypoetry/virtualenvs/mctools-3Qvjc-9q-py3.11/lib/python3.11/site-packages/pandas/util/_decorators.py:333\u001B[0m, in \u001B[0;36mdeprecate_nonkeyword_arguments.<locals>.decorate.<locals>.wrapper\u001B[0;34m(*args, **kwargs)\u001B[0m\n\u001B[1;32m    327\u001B[0m \u001B[38;5;28;01mif\u001B[39;00m \u001B[38;5;28mlen\u001B[39m(args) \u001B[38;5;241m>\u001B[39m num_allow_args:\n\u001B[1;32m    328\u001B[0m     warnings\u001B[38;5;241m.\u001B[39mwarn(\n\u001B[1;32m    329\u001B[0m         msg\u001B[38;5;241m.\u001B[39mformat(arguments\u001B[38;5;241m=\u001B[39m_format_argument_list(allow_args)),\n\u001B[1;32m    330\u001B[0m         \u001B[38;5;167;01mFutureWarning\u001B[39;00m,\n\u001B[1;32m    331\u001B[0m         stacklevel\u001B[38;5;241m=\u001B[39mfind_stack_level(),\n\u001B[1;32m    332\u001B[0m     )\n\u001B[0;32m--> 333\u001B[0m \u001B[38;5;28;01mreturn\u001B[39;00m \u001B[43mfunc\u001B[49m\u001B[43m(\u001B[49m\u001B[38;5;241;43m*\u001B[39;49m\u001B[43margs\u001B[49m\u001B[43m,\u001B[49m\u001B[43m \u001B[49m\u001B[38;5;241;43m*\u001B[39;49m\u001B[38;5;241;43m*\u001B[39;49m\u001B[43mkwargs\u001B[49m\u001B[43m)\u001B[49m\n",
      "File \u001B[0;32m~/Library/Caches/pypoetry/virtualenvs/mctools-3Qvjc-9q-py3.11/lib/python3.11/site-packages/pandas/core/generic.py:2852\u001B[0m, in \u001B[0;36mNDFrame.to_hdf\u001B[0;34m(self, path_or_buf, key, mode, complevel, complib, append, format, index, min_itemsize, nan_rep, dropna, data_columns, errors, encoding)\u001B[0m\n\u001B[1;32m   2848\u001B[0m \u001B[38;5;28;01mfrom\u001B[39;00m \u001B[38;5;21;01mpandas\u001B[39;00m\u001B[38;5;21;01m.\u001B[39;00m\u001B[38;5;21;01mio\u001B[39;00m \u001B[38;5;28;01mimport\u001B[39;00m pytables\n\u001B[1;32m   2850\u001B[0m \u001B[38;5;66;03m# Argument 3 to \"to_hdf\" has incompatible type \"NDFrame\"; expected\u001B[39;00m\n\u001B[1;32m   2851\u001B[0m \u001B[38;5;66;03m# \"Union[DataFrame, Series]\" [arg-type]\u001B[39;00m\n\u001B[0;32m-> 2852\u001B[0m \u001B[43mpytables\u001B[49m\u001B[38;5;241;43m.\u001B[39;49m\u001B[43mto_hdf\u001B[49m\u001B[43m(\u001B[49m\n\u001B[1;32m   2853\u001B[0m \u001B[43m    \u001B[49m\u001B[43mpath_or_buf\u001B[49m\u001B[43m,\u001B[49m\n\u001B[1;32m   2854\u001B[0m \u001B[43m    \u001B[49m\u001B[43mkey\u001B[49m\u001B[43m,\u001B[49m\n\u001B[1;32m   2855\u001B[0m \u001B[43m    \u001B[49m\u001B[38;5;28;43mself\u001B[39;49m\u001B[43m,\u001B[49m\u001B[43m  \u001B[49m\u001B[38;5;66;43;03m# type: ignore[arg-type]\u001B[39;49;00m\n\u001B[1;32m   2856\u001B[0m \u001B[43m    \u001B[49m\u001B[43mmode\u001B[49m\u001B[38;5;241;43m=\u001B[39;49m\u001B[43mmode\u001B[49m\u001B[43m,\u001B[49m\n\u001B[1;32m   2857\u001B[0m \u001B[43m    \u001B[49m\u001B[43mcomplevel\u001B[49m\u001B[38;5;241;43m=\u001B[39;49m\u001B[43mcomplevel\u001B[49m\u001B[43m,\u001B[49m\n\u001B[1;32m   2858\u001B[0m \u001B[43m    \u001B[49m\u001B[43mcomplib\u001B[49m\u001B[38;5;241;43m=\u001B[39;49m\u001B[43mcomplib\u001B[49m\u001B[43m,\u001B[49m\n\u001B[1;32m   2859\u001B[0m \u001B[43m    \u001B[49m\u001B[43mappend\u001B[49m\u001B[38;5;241;43m=\u001B[39;49m\u001B[43mappend\u001B[49m\u001B[43m,\u001B[49m\n\u001B[1;32m   2860\u001B[0m \u001B[43m    \u001B[49m\u001B[38;5;28;43mformat\u001B[39;49m\u001B[38;5;241;43m=\u001B[39;49m\u001B[38;5;28;43mformat\u001B[39;49m\u001B[43m,\u001B[49m\n\u001B[1;32m   2861\u001B[0m \u001B[43m    \u001B[49m\u001B[43mindex\u001B[49m\u001B[38;5;241;43m=\u001B[39;49m\u001B[43mindex\u001B[49m\u001B[43m,\u001B[49m\n\u001B[1;32m   2862\u001B[0m \u001B[43m    \u001B[49m\u001B[43mmin_itemsize\u001B[49m\u001B[38;5;241;43m=\u001B[39;49m\u001B[43mmin_itemsize\u001B[49m\u001B[43m,\u001B[49m\n\u001B[1;32m   2863\u001B[0m \u001B[43m    \u001B[49m\u001B[43mnan_rep\u001B[49m\u001B[38;5;241;43m=\u001B[39;49m\u001B[43mnan_rep\u001B[49m\u001B[43m,\u001B[49m\n\u001B[1;32m   2864\u001B[0m \u001B[43m    \u001B[49m\u001B[43mdropna\u001B[49m\u001B[38;5;241;43m=\u001B[39;49m\u001B[43mdropna\u001B[49m\u001B[43m,\u001B[49m\n\u001B[1;32m   2865\u001B[0m \u001B[43m    \u001B[49m\u001B[43mdata_columns\u001B[49m\u001B[38;5;241;43m=\u001B[39;49m\u001B[43mdata_columns\u001B[49m\u001B[43m,\u001B[49m\n\u001B[1;32m   2866\u001B[0m \u001B[43m    \u001B[49m\u001B[43merrors\u001B[49m\u001B[38;5;241;43m=\u001B[39;49m\u001B[43merrors\u001B[49m\u001B[43m,\u001B[49m\n\u001B[1;32m   2867\u001B[0m \u001B[43m    \u001B[49m\u001B[43mencoding\u001B[49m\u001B[38;5;241;43m=\u001B[39;49m\u001B[43mencoding\u001B[49m\u001B[43m,\u001B[49m\n\u001B[1;32m   2868\u001B[0m \u001B[43m\u001B[49m\u001B[43m)\u001B[49m\n",
      "File \u001B[0;32m~/Library/Caches/pypoetry/virtualenvs/mctools-3Qvjc-9q-py3.11/lib/python3.11/site-packages/pandas/io/pytables.py:308\u001B[0m, in \u001B[0;36mto_hdf\u001B[0;34m(path_or_buf, key, value, mode, complevel, complib, append, format, index, min_itemsize, nan_rep, dropna, data_columns, errors, encoding)\u001B[0m\n\u001B[1;32m    306\u001B[0m path_or_buf \u001B[38;5;241m=\u001B[39m stringify_path(path_or_buf)\n\u001B[1;32m    307\u001B[0m \u001B[38;5;28;01mif\u001B[39;00m \u001B[38;5;28misinstance\u001B[39m(path_or_buf, \u001B[38;5;28mstr\u001B[39m):\n\u001B[0;32m--> 308\u001B[0m     \u001B[38;5;28;01mwith\u001B[39;00m \u001B[43mHDFStore\u001B[49m\u001B[43m(\u001B[49m\n\u001B[1;32m    309\u001B[0m \u001B[43m        \u001B[49m\u001B[43mpath_or_buf\u001B[49m\u001B[43m,\u001B[49m\u001B[43m \u001B[49m\u001B[43mmode\u001B[49m\u001B[38;5;241;43m=\u001B[39;49m\u001B[43mmode\u001B[49m\u001B[43m,\u001B[49m\u001B[43m \u001B[49m\u001B[43mcomplevel\u001B[49m\u001B[38;5;241;43m=\u001B[39;49m\u001B[43mcomplevel\u001B[49m\u001B[43m,\u001B[49m\u001B[43m \u001B[49m\u001B[43mcomplib\u001B[49m\u001B[38;5;241;43m=\u001B[39;49m\u001B[43mcomplib\u001B[49m\n\u001B[1;32m    310\u001B[0m \u001B[43m    \u001B[49m\u001B[43m)\u001B[49m \u001B[38;5;28;01mas\u001B[39;00m store:\n\u001B[1;32m    311\u001B[0m         f(store)\n\u001B[1;32m    312\u001B[0m \u001B[38;5;28;01melse\u001B[39;00m:\n",
      "File \u001B[0;32m~/Library/Caches/pypoetry/virtualenvs/mctools-3Qvjc-9q-py3.11/lib/python3.11/site-packages/pandas/io/pytables.py:585\u001B[0m, in \u001B[0;36mHDFStore.__init__\u001B[0;34m(self, path, mode, complevel, complib, fletcher32, **kwargs)\u001B[0m\n\u001B[1;32m    583\u001B[0m \u001B[38;5;28mself\u001B[39m\u001B[38;5;241m.\u001B[39m_fletcher32 \u001B[38;5;241m=\u001B[39m fletcher32\n\u001B[1;32m    584\u001B[0m \u001B[38;5;28mself\u001B[39m\u001B[38;5;241m.\u001B[39m_filters \u001B[38;5;241m=\u001B[39m \u001B[38;5;28;01mNone\u001B[39;00m\n\u001B[0;32m--> 585\u001B[0m \u001B[38;5;28;43mself\u001B[39;49m\u001B[38;5;241;43m.\u001B[39;49m\u001B[43mopen\u001B[49m\u001B[43m(\u001B[49m\u001B[43mmode\u001B[49m\u001B[38;5;241;43m=\u001B[39;49m\u001B[43mmode\u001B[49m\u001B[43m,\u001B[49m\u001B[43m \u001B[49m\u001B[38;5;241;43m*\u001B[39;49m\u001B[38;5;241;43m*\u001B[39;49m\u001B[43mkwargs\u001B[49m\u001B[43m)\u001B[49m\n",
      "File \u001B[0;32m~/Library/Caches/pypoetry/virtualenvs/mctools-3Qvjc-9q-py3.11/lib/python3.11/site-packages/pandas/io/pytables.py:745\u001B[0m, in \u001B[0;36mHDFStore.open\u001B[0;34m(self, mode, **kwargs)\u001B[0m\n\u001B[1;32m    739\u001B[0m     msg \u001B[38;5;241m=\u001B[39m (\n\u001B[1;32m    740\u001B[0m         \u001B[38;5;124m\"\u001B[39m\u001B[38;5;124mCannot open HDF5 file, which is already opened, \u001B[39m\u001B[38;5;124m\"\u001B[39m\n\u001B[1;32m    741\u001B[0m         \u001B[38;5;124m\"\u001B[39m\u001B[38;5;124meven in read-only mode.\u001B[39m\u001B[38;5;124m\"\u001B[39m\n\u001B[1;32m    742\u001B[0m     )\n\u001B[1;32m    743\u001B[0m     \u001B[38;5;28;01mraise\u001B[39;00m \u001B[38;5;167;01mValueError\u001B[39;00m(msg)\n\u001B[0;32m--> 745\u001B[0m \u001B[38;5;28mself\u001B[39m\u001B[38;5;241m.\u001B[39m_handle \u001B[38;5;241m=\u001B[39m \u001B[43mtables\u001B[49m\u001B[38;5;241;43m.\u001B[39;49m\u001B[43mopen_file\u001B[49m\u001B[43m(\u001B[49m\u001B[38;5;28;43mself\u001B[39;49m\u001B[38;5;241;43m.\u001B[39;49m\u001B[43m_path\u001B[49m\u001B[43m,\u001B[49m\u001B[43m \u001B[49m\u001B[38;5;28;43mself\u001B[39;49m\u001B[38;5;241;43m.\u001B[39;49m\u001B[43m_mode\u001B[49m\u001B[43m,\u001B[49m\u001B[43m \u001B[49m\u001B[38;5;241;43m*\u001B[39;49m\u001B[38;5;241;43m*\u001B[39;49m\u001B[43mkwargs\u001B[49m\u001B[43m)\u001B[49m\n",
      "File \u001B[0;32m~/Library/Caches/pypoetry/virtualenvs/mctools-3Qvjc-9q-py3.11/lib/python3.11/site-packages/tables/file.py:283\u001B[0m, in \u001B[0;36mopen_file\u001B[0;34m(filename, mode, title, root_uep, filters, **kwargs)\u001B[0m\n\u001B[1;32m    281\u001B[0m \u001B[38;5;66;03m# 'a' and 'r+' are compatible with everything except 'r'\u001B[39;00m\n\u001B[1;32m    282\u001B[0m \u001B[38;5;28;01melif\u001B[39;00m mode \u001B[38;5;129;01min\u001B[39;00m (\u001B[38;5;124m'\u001B[39m\u001B[38;5;124ma\u001B[39m\u001B[38;5;124m'\u001B[39m, \u001B[38;5;124m'\u001B[39m\u001B[38;5;124mr+\u001B[39m\u001B[38;5;124m'\u001B[39m) \u001B[38;5;129;01mand\u001B[39;00m omode \u001B[38;5;241m==\u001B[39m \u001B[38;5;124m'\u001B[39m\u001B[38;5;124mr\u001B[39m\u001B[38;5;124m'\u001B[39m:\n\u001B[0;32m--> 283\u001B[0m     \u001B[38;5;28;01mraise\u001B[39;00m \u001B[38;5;167;01mValueError\u001B[39;00m(\n\u001B[1;32m    284\u001B[0m         \u001B[38;5;124m\"\u001B[39m\u001B[38;5;124mThe file \u001B[39m\u001B[38;5;124m'\u001B[39m\u001B[38;5;132;01m%s\u001B[39;00m\u001B[38;5;124m'\u001B[39m\u001B[38;5;124m is already opened, but \u001B[39m\u001B[38;5;124m\"\u001B[39m\n\u001B[1;32m    285\u001B[0m         \u001B[38;5;124m\"\u001B[39m\u001B[38;5;124min read-only mode.  Please close it before \u001B[39m\u001B[38;5;124m\"\u001B[39m\n\u001B[1;32m    286\u001B[0m         \u001B[38;5;124m\"\u001B[39m\u001B[38;5;124mreopening in append mode.\u001B[39m\u001B[38;5;124m\"\u001B[39m \u001B[38;5;241m%\u001B[39m filename)\n\u001B[1;32m    287\u001B[0m \u001B[38;5;66;03m# 'w' means that we want to destroy existing contents\u001B[39;00m\n\u001B[1;32m    288\u001B[0m \u001B[38;5;28;01melif\u001B[39;00m mode \u001B[38;5;241m==\u001B[39m \u001B[38;5;124m'\u001B[39m\u001B[38;5;124mw\u001B[39m\u001B[38;5;124m'\u001B[39m:\n",
      "\u001B[0;31mValueError\u001B[0m: The file '/Users/kirill/PycharmProjects/mctools/tests/data/rasci_1r1h36o_2r13e14o_3r1p6o.casscf_13e14o_ref.ano-yb_r1-i_r0.ybi6_1.gdv_j14p.16262576.h5' is already opened, but in read-only mode.  Please close it before reopening in append mode."
     ]
    }
   ],
   "source": [
    "mo.to_hdf5(archive)"
   ],
   "metadata": {
    "collapsed": false,
    "ExecuteTime": {
     "end_time": "2024-02-29T23:10:41.579807Z",
     "start_time": "2024-02-29T23:10:41.054510Z"
    }
   },
   "id": "215c143163adffed",
   "execution_count": 7
  },
  {
   "cell_type": "code",
   "outputs": [
    {
     "ename": "ValueError",
     "evalue": "Shape of passed values is (391, 1), indices imply (391, 2)",
     "output_type": "error",
     "traceback": [
      "\u001B[0;31m---------------------------------------------------------------------------\u001B[0m",
      "\u001B[0;31mValueError\u001B[0m                                Traceback (most recent call last)",
      "Cell \u001B[0;32mIn[215], line 7\u001B[0m\n\u001B[1;32m      4\u001B[0m labels \u001B[38;5;241m=\u001B[39m fragments[\u001B[38;5;124m'\u001B[39m\u001B[38;5;124mlabel\u001B[39m\u001B[38;5;124m'\u001B[39m]\u001B[38;5;241m.\u001B[39mvalues[indicies[\u001B[38;5;241m-\u001B[39mn_top:, :]][::\u001B[38;5;241m-\u001B[39m\u001B[38;5;241m1\u001B[39m, :]\n\u001B[1;32m      5\u001B[0m coeffs \u001B[38;5;241m=\u001B[39m np\u001B[38;5;241m.\u001B[39mtake_along_axis(partorb\u001B[38;5;241m.\u001B[39mto_numpy(), indicies[\u001B[38;5;241m-\u001B[39mn_top:, :], \u001B[38;5;241m0\u001B[39m)[::\u001B[38;5;241m-\u001B[39m\u001B[38;5;241m1\u001B[39m, :]\n\u001B[0;32m----> 7\u001B[0m df_labels \u001B[38;5;241m=\u001B[39m \u001B[43mpd\u001B[49m\u001B[38;5;241;43m.\u001B[39;49m\u001B[43mDataFrame\u001B[49m\u001B[43m(\u001B[49m\u001B[43mlabels\u001B[49m\u001B[38;5;241;43m.\u001B[39;49m\u001B[43mT\u001B[49m\u001B[43m,\u001B[49m\u001B[43m \u001B[49m\u001B[43mcolumns\u001B[49m\u001B[38;5;241;43m=\u001B[39;49m\u001B[43m[\u001B[49m\u001B[38;5;124;43mf\u001B[39;49m\u001B[38;5;124;43m'\u001B[39;49m\u001B[38;5;124;43mlabel_top\u001B[39;49m\u001B[38;5;132;43;01m{\u001B[39;49;00m\u001B[43mi\u001B[49m\u001B[38;5;132;43;01m}\u001B[39;49;00m\u001B[38;5;124;43m'\u001B[39;49m\u001B[43m \u001B[49m\u001B[38;5;28;43;01mfor\u001B[39;49;00m\u001B[43m \u001B[49m\u001B[43mi\u001B[49m\u001B[43m \u001B[49m\u001B[38;5;129;43;01min\u001B[39;49;00m\u001B[43m \u001B[49m\u001B[38;5;28;43mrange\u001B[39;49m\u001B[43m(\u001B[49m\u001B[38;5;241;43m1\u001B[39;49m\u001B[43m,\u001B[49m\u001B[43m \u001B[49m\u001B[38;5;28;43mlen\u001B[39;49m\u001B[43m(\u001B[49m\u001B[43mby\u001B[49m\u001B[43m)\u001B[49m\u001B[43m \u001B[49m\u001B[38;5;241;43m+\u001B[39;49m\u001B[43m \u001B[49m\u001B[38;5;241;43m1\u001B[39;49m\u001B[43m)\u001B[49m\u001B[43m]\u001B[49m\u001B[43m)\u001B[49m\n\u001B[1;32m      8\u001B[0m df_coeffs \u001B[38;5;241m=\u001B[39m pd\u001B[38;5;241m.\u001B[39mDataFrame(coeffs\u001B[38;5;241m.\u001B[39mT, columns\u001B[38;5;241m=\u001B[39m[\u001B[38;5;124mf\u001B[39m\u001B[38;5;124m'\u001B[39m\u001B[38;5;124mcoeff_top\u001B[39m\u001B[38;5;132;01m{\u001B[39;00mi\u001B[38;5;132;01m}\u001B[39;00m\u001B[38;5;124m'\u001B[39m \u001B[38;5;28;01mfor\u001B[39;00m i \u001B[38;5;129;01min\u001B[39;00m \u001B[38;5;28mrange\u001B[39m(\u001B[38;5;241m1\u001B[39m, \u001B[38;5;28mlen\u001B[39m(by) \u001B[38;5;241m+\u001B[39m \u001B[38;5;241m1\u001B[39m)])\n\u001B[1;32m      9\u001B[0m df_part \u001B[38;5;241m=\u001B[39m pd\u001B[38;5;241m.\u001B[39mconcat([df_labels, df_coeffs], axis\u001B[38;5;241m=\u001B[39m\u001B[38;5;241m1\u001B[39m)\n",
      "File \u001B[0;32m~/Library/Caches/pypoetry/virtualenvs/mctools-3Qvjc-9q-py3.11/lib/python3.11/site-packages/pandas/core/frame.py:816\u001B[0m, in \u001B[0;36mDataFrame.__init__\u001B[0;34m(self, data, index, columns, dtype, copy)\u001B[0m\n\u001B[1;32m    805\u001B[0m         mgr \u001B[38;5;241m=\u001B[39m dict_to_mgr(\n\u001B[1;32m    806\u001B[0m             \u001B[38;5;66;03m# error: Item \"ndarray\" of \"Union[ndarray, Series, Index]\" has no\u001B[39;00m\n\u001B[1;32m    807\u001B[0m             \u001B[38;5;66;03m# attribute \"name\"\u001B[39;00m\n\u001B[0;32m   (...)\u001B[0m\n\u001B[1;32m    813\u001B[0m             copy\u001B[38;5;241m=\u001B[39m_copy,\n\u001B[1;32m    814\u001B[0m         )\n\u001B[1;32m    815\u001B[0m     \u001B[38;5;28;01melse\u001B[39;00m:\n\u001B[0;32m--> 816\u001B[0m         mgr \u001B[38;5;241m=\u001B[39m \u001B[43mndarray_to_mgr\u001B[49m\u001B[43m(\u001B[49m\n\u001B[1;32m    817\u001B[0m \u001B[43m            \u001B[49m\u001B[43mdata\u001B[49m\u001B[43m,\u001B[49m\n\u001B[1;32m    818\u001B[0m \u001B[43m            \u001B[49m\u001B[43mindex\u001B[49m\u001B[43m,\u001B[49m\n\u001B[1;32m    819\u001B[0m \u001B[43m            \u001B[49m\u001B[43mcolumns\u001B[49m\u001B[43m,\u001B[49m\n\u001B[1;32m    820\u001B[0m \u001B[43m            \u001B[49m\u001B[43mdtype\u001B[49m\u001B[38;5;241;43m=\u001B[39;49m\u001B[43mdtype\u001B[49m\u001B[43m,\u001B[49m\n\u001B[1;32m    821\u001B[0m \u001B[43m            \u001B[49m\u001B[43mcopy\u001B[49m\u001B[38;5;241;43m=\u001B[39;49m\u001B[43mcopy\u001B[49m\u001B[43m,\u001B[49m\n\u001B[1;32m    822\u001B[0m \u001B[43m            \u001B[49m\u001B[43mtyp\u001B[49m\u001B[38;5;241;43m=\u001B[39;49m\u001B[43mmanager\u001B[49m\u001B[43m,\u001B[49m\n\u001B[1;32m    823\u001B[0m \u001B[43m        \u001B[49m\u001B[43m)\u001B[49m\n\u001B[1;32m    825\u001B[0m \u001B[38;5;66;03m# For data is list-like, or Iterable (will consume into list)\u001B[39;00m\n\u001B[1;32m    826\u001B[0m \u001B[38;5;28;01melif\u001B[39;00m is_list_like(data):\n",
      "File \u001B[0;32m~/Library/Caches/pypoetry/virtualenvs/mctools-3Qvjc-9q-py3.11/lib/python3.11/site-packages/pandas/core/internals/construction.py:336\u001B[0m, in \u001B[0;36mndarray_to_mgr\u001B[0;34m(values, index, columns, dtype, copy, typ)\u001B[0m\n\u001B[1;32m    331\u001B[0m \u001B[38;5;66;03m# _prep_ndarraylike ensures that values.ndim == 2 at this point\u001B[39;00m\n\u001B[1;32m    332\u001B[0m index, columns \u001B[38;5;241m=\u001B[39m _get_axes(\n\u001B[1;32m    333\u001B[0m     values\u001B[38;5;241m.\u001B[39mshape[\u001B[38;5;241m0\u001B[39m], values\u001B[38;5;241m.\u001B[39mshape[\u001B[38;5;241m1\u001B[39m], index\u001B[38;5;241m=\u001B[39mindex, columns\u001B[38;5;241m=\u001B[39mcolumns\n\u001B[1;32m    334\u001B[0m )\n\u001B[0;32m--> 336\u001B[0m \u001B[43m_check_values_indices_shape_match\u001B[49m\u001B[43m(\u001B[49m\u001B[43mvalues\u001B[49m\u001B[43m,\u001B[49m\u001B[43m \u001B[49m\u001B[43mindex\u001B[49m\u001B[43m,\u001B[49m\u001B[43m \u001B[49m\u001B[43mcolumns\u001B[49m\u001B[43m)\u001B[49m\n\u001B[1;32m    338\u001B[0m \u001B[38;5;28;01mif\u001B[39;00m typ \u001B[38;5;241m==\u001B[39m \u001B[38;5;124m\"\u001B[39m\u001B[38;5;124marray\u001B[39m\u001B[38;5;124m\"\u001B[39m:\n\u001B[1;32m    339\u001B[0m     \u001B[38;5;28;01mif\u001B[39;00m \u001B[38;5;28missubclass\u001B[39m(values\u001B[38;5;241m.\u001B[39mdtype\u001B[38;5;241m.\u001B[39mtype, \u001B[38;5;28mstr\u001B[39m):\n",
      "File \u001B[0;32m~/Library/Caches/pypoetry/virtualenvs/mctools-3Qvjc-9q-py3.11/lib/python3.11/site-packages/pandas/core/internals/construction.py:420\u001B[0m, in \u001B[0;36m_check_values_indices_shape_match\u001B[0;34m(values, index, columns)\u001B[0m\n\u001B[1;32m    418\u001B[0m passed \u001B[38;5;241m=\u001B[39m values\u001B[38;5;241m.\u001B[39mshape\n\u001B[1;32m    419\u001B[0m implied \u001B[38;5;241m=\u001B[39m (\u001B[38;5;28mlen\u001B[39m(index), \u001B[38;5;28mlen\u001B[39m(columns))\n\u001B[0;32m--> 420\u001B[0m \u001B[38;5;28;01mraise\u001B[39;00m \u001B[38;5;167;01mValueError\u001B[39;00m(\u001B[38;5;124mf\u001B[39m\u001B[38;5;124m\"\u001B[39m\u001B[38;5;124mShape of passed values is \u001B[39m\u001B[38;5;132;01m{\u001B[39;00mpassed\u001B[38;5;132;01m}\u001B[39;00m\u001B[38;5;124m, indices imply \u001B[39m\u001B[38;5;132;01m{\u001B[39;00mimplied\u001B[38;5;132;01m}\u001B[39;00m\u001B[38;5;124m\"\u001B[39m)\n",
      "\u001B[0;31mValueError\u001B[0m: Shape of passed values is (391, 1), indices imply (391, 2)"
     ]
    }
   ],
   "source": [
    "n_top = 1\n",
    "partorb_abs = partorb.apply(np.abs)\n",
    "indicies = np.argpartition(partorb_abs, -n_top, axis=0)\n",
    "labels = fragments['label'].values[indicies[-n_top:, :]][::-1, :]\n",
    "coeffs = np.take_along_axis(partorb.to_numpy(), indicies[-n_top:, :], 0)[::-1, :]\n",
    "\n",
    "df_labels = pd.DataFrame(labels.T, columns=[f'label_top{i}' for i in range(1, len(by) + 1)])\n",
    "df_coeffs = pd.DataFrame(coeffs.T, columns=[f'coeff_top{i}' for i in range(1, len(by) + 1)])\n",
    "df_part = pd.concat([df_labels, df_coeffs], axis=1)"
   ],
   "metadata": {
    "collapsed": false,
    "ExecuteTime": {
     "end_time": "2024-02-29T22:31:16.892084Z",
     "start_time": "2024-02-29T22:31:16.824501Z"
    }
   },
   "id": "4afd365341474f0a",
   "execution_count": 215
  },
  {
   "cell_type": "code",
   "outputs": [
    {
     "data": {
      "text/plain": "(391, 1)"
     },
     "execution_count": 219,
     "metadata": {},
     "output_type": "execute_result"
    }
   ],
   "source": [
    "labels.T.shape"
   ],
   "metadata": {
    "collapsed": false,
    "ExecuteTime": {
     "end_time": "2024-02-29T22:31:44.623264Z",
     "start_time": "2024-02-29T22:31:44.563094Z"
    }
   },
   "id": "b56df1484f220080",
   "execution_count": 219
  },
  {
   "cell_type": "code",
   "outputs": [
    {
     "data": {
      "text/plain": "    label_top1 label_top1\n0         Yb_S       Yb_S\n1         Yb_S       Yb_S\n2          I_S        I_S\n3          I_S        I_S\n4          I_S        I_S\n..         ...        ...\n421        NaN        NaN\n422        NaN        NaN\n423        NaN        NaN\n424        NaN        NaN\n425        NaN        NaN\n\n[426 rows x 2 columns]",
      "text/html": "<div>\n<style scoped>\n    .dataframe tbody tr th:only-of-type {\n        vertical-align: middle;\n    }\n\n    .dataframe tbody tr th {\n        vertical-align: top;\n    }\n\n    .dataframe thead th {\n        text-align: right;\n    }\n</style>\n<table border=\"1\" class=\"dataframe\">\n  <thead>\n    <tr style=\"text-align: right;\">\n      <th></th>\n      <th>label_top1</th>\n      <th>label_top1</th>\n    </tr>\n  </thead>\n  <tbody>\n    <tr>\n      <th>0</th>\n      <td>Yb_S</td>\n      <td>Yb_S</td>\n    </tr>\n    <tr>\n      <th>1</th>\n      <td>Yb_S</td>\n      <td>Yb_S</td>\n    </tr>\n    <tr>\n      <th>2</th>\n      <td>I_S</td>\n      <td>I_S</td>\n    </tr>\n    <tr>\n      <th>3</th>\n      <td>I_S</td>\n      <td>I_S</td>\n    </tr>\n    <tr>\n      <th>4</th>\n      <td>I_S</td>\n      <td>I_S</td>\n    </tr>\n    <tr>\n      <th>...</th>\n      <td>...</td>\n      <td>...</td>\n    </tr>\n    <tr>\n      <th>421</th>\n      <td>NaN</td>\n      <td>NaN</td>\n    </tr>\n    <tr>\n      <th>422</th>\n      <td>NaN</td>\n      <td>NaN</td>\n    </tr>\n    <tr>\n      <th>423</th>\n      <td>NaN</td>\n      <td>NaN</td>\n    </tr>\n    <tr>\n      <th>424</th>\n      <td>NaN</td>\n      <td>NaN</td>\n    </tr>\n    <tr>\n      <th>425</th>\n      <td>NaN</td>\n      <td>NaN</td>\n    </tr>\n  </tbody>\n</table>\n<p>426 rows × 2 columns</p>\n</div>"
     },
     "execution_count": 246,
     "metadata": {},
     "output_type": "execute_result"
    }
   ],
   "source": [
    "mo.df['label_top1']"
   ],
   "metadata": {
    "collapsed": false,
    "ExecuteTime": {
     "end_time": "2024-02-29T22:46:40.880004Z",
     "start_time": "2024-02-29T22:46:40.805694Z"
    }
   },
   "id": "45ec6a611e5340c3",
   "execution_count": 246
  },
  {
   "cell_type": "code",
   "outputs": [
    {
     "data": {
      "text/plain": "(391,)"
     },
     "execution_count": 156,
     "metadata": {},
     "output_type": "execute_result"
    }
   ],
   "source": [
    "max_fragment_idx.shape"
   ],
   "metadata": {
    "collapsed": false,
    "ExecuteTime": {
     "end_time": "2024-02-29T20:55:23.924303Z",
     "start_time": "2024-02-29T20:55:23.867965Z"
    }
   },
   "id": "3ac26ec967b22d6c",
   "execution_count": 156
  },
  {
   "cell_type": "code",
   "outputs": [
    {
     "data": {
      "text/plain": "<Figure size 640x480 with 1 Axes>",
      "image/png": "[encoded data removed]"
     },
     "metadata": {},
     "output_type": "display_data"
    }
   ],
   "source": [
    "import matplotlib.pyplot as plt\n",
    "\n",
    "mo_idx = 'MO365'\n",
    "orb = partorb[['element', 'L', mo_idx]].copy()\n",
    "\n",
    "orb['norm'] = np.abs(orb[mo_idx])\n",
    "orb.sort_values('norm', ascending=False, inplace=True)\n",
    "orb[['X', 'Y']] = np.full((len(orb), 2), 0.)\n",
    "orb.iloc[1:, 4] = np.cumsum(np.real(orb.iloc[1:, 2]))\n",
    "orb.iloc[1:, 5] = np.cumsum(np.imag(orb.iloc[1:, 2]))\n",
    "\n",
    "plt.plot('X', 'Y', data=orb)\n",
    "plt.show()\n",
    "plt.close()"
   ],
   "metadata": {
    "collapsed": false,
    "ExecuteTime": {
     "end_time": "2024-02-29T19:44:06.635187Z",
     "start_time": "2024-02-29T19:44:06.502622Z"
    }
   },
   "id": "f3c4cb343d65d6e4",
   "execution_count": 37
  },
  {
   "cell_type": "code",
   "outputs": [
    {
     "data": {
      "text/plain": "4.336808689942018e-18"
     },
     "execution_count": 43,
     "metadata": {},
     "output_type": "execute_result"
    }
   ],
   "source": [
    "np.abs(np.imag(partorb.iloc[:, 2:])).max()"
   ],
   "metadata": {
    "collapsed": false,
    "ExecuteTime": {
     "end_time": "2024-02-29T19:46:13.818948Z",
     "start_time": "2024-02-29T19:46:13.757675Z"
    }
   },
   "id": "10a11cadd2fcdb50",
   "execution_count": 43
  },
  {
   "cell_type": "code",
   "outputs": [
    {
     "data": {
      "text/plain": "  element  L                                             MO1  \\\n0       I  S  3.384951e-15+5.175937e-                    34j   \n1       I  P  5.849324e-12+3.648482e-                    30j   \n2       I  D  2.589484e-15+3.129636e-                    34j   \n3      Yb  S  1.000000e+00+3.902396e-                    29j   \n4      Yb  P  2.272947e-17+1.805559e-                    35j   \n5      Yb  D  1.620597e-16+0.000000e+                    00j   \n6      Yb  F  2.675761e-16+0.000000e+                    00j   \n\n                                              MO2  \\\n0  3.384951e-15+9.148167e-                    34j   \n1  5.849324e-12+1.972152e-                    31j   \n2  2.589484e-15-6.018531e-                    35j   \n3  1.000000e+00-4.166172e-                    29j   \n4  2.272946e-17-3.912045e-                    35j   \n5  1.620597e-16+1.880791e-                    36j   \n6  2.675761e-16-3.009266e-                    36j   \n\n                                              MO3  \\\n0  1.000000e+00-1.336688e-                    28j   \n1  3.625091e-12-8.874685e-                    31j   \n2  1.354575e-15+1.203706e-                    34j   \n3  5.553231e-14+0.000000e+                    00j   \n4  3.023713e-13-3.759415e-                    31j   \n5  4.734095e-14-2.900932e-                    33j   \n6  6.763285e-15+7.703720e-                    34j   \n\n                                              MO4  \\\n0  1.000000e+00+2.016464e-                    28j   \n1  3.625090e-12+1.528418e-                    30j   \n2  1.354576e-15-1.444447e-                    34j   \n3  5.553219e-14-1.694818e-                    32j   \n4  3.023714e-13+1.078521e-                    31j   \n5  4.734100e-14+1.540744e-                    33j   \n6  6.763282e-15+0.000000e+                    00j   \n\n                                              MO5  \\\n0  1.000000e+00+2.380758e-                    29j   \n1  3.621219e-12-2.563798e-                    30j   \n2  1.353331e-15+2.949080e-                    34j   \n3  5.515337e-14-3.543711e-                    32j   \n4  3.016969e-13+8.011869e-                    32j   \n5  4.731597e-14-4.622232e-                    33j   \n6  6.720381e-15+0.000000e+                    00j   \n\n                                              MO6  \\\n0  1.000000e+00-3.678064e-                    29j   \n1  3.621217e-12-4.141520e-                    30j   \n2  1.353331e-15+1.203706e-                    35j   \n3  5.515325e-14-3.081488e-                    33j   \n4  3.016969e-13+9.244464e-                    32j   \n5  4.731602e-14+3.851860e-                    33j   \n6  6.720377e-15+7.703720e-                    34j   \n\n                                              MO7  \\\n0  1.000000e+00-1.307537e-                    28j   \n1  3.645822e-12+3.204747e-                    30j   \n2  1.357607e-15+4.333342e-                    34j   \n3  5.529647e-14+4.622232e-                    33j   \n4  3.097693e-13+9.860761e-                    32j   \n5  4.901534e-14-7.703720e-                    33j   \n6  6.976199e-15+0.000000e+                    00j   \n\n                                              MO8  ...  \\\n0  1.000000e+00-1.064962e-                    29j  ...   \n1  3.645822e-12+1.183291e-                    30j  ...   \n2  1.357607e-15+7.222237e-                    35j  ...   \n3  5.529647e-14-9.244464e-                    33j  ...   \n4  3.097693e-13-3.389637e-                    32j  ...   \n5  4.901534e-14+1.540744e-                    33j  ...   \n6  6.976199e-15+1.155558e-                    33j  ...   \n\n                                            MO382  \\\n0  1.646860e-04-4.632211e-                    23j   \n1  2.696718e-03+2.117582e-                    21j   \n2  7.844493e-06+1.292470e-                    26j   \n3  4.140943e-07+1.033976e-                    24j   \n4  5.534768e-05+1.809458e-                    25j   \n5  1.995279e-07+1.615587e-                    27j   \n6  9.988031e-01+4.235165e-                    22j   \n\n                                            MO383  \\\n0  1.855283e-04+1.290402e-                    22j   \n1  2.867007e-03-1.998468e-                    21j   \n2  8.297457e-06-2.100263e-                    26j   \n3  1.228739e-08+0.000000e+                    00j   \n4  5.922282e-05-2.520316e-                    25j   \n5  1.419574e-06+0.000000e+                    00j   \n6  9.987198e-01-8.470329e-                    22j   \n\n                                            MO384  \\\n0  1.855283e-04-1.720536e-                    22j   \n1  2.867007e-03+4.446923e-                    21j   \n2  8.297457e-06+1.454028e-                    26j   \n3  1.228739e-08+0.000000e+                    00j   \n4  5.922282e-05-3.231174e-                    25j   \n5  1.419574e-06+6.462349e-                    27j   \n6  9.987198e-01+0.000000e+                    00j   \n\n                                            MO385  \\\n0  6.816279e-06+1.654361e-                    24j   \n1  5.214804e-04-1.270549e-                    21j   \n2  2.003732e-06+4.846761e-                    27j   \n3  3.300168e-07+2.067952e-                    25j   \n4  1.105014e-06-2.564745e-                    26j   \n5  8.956478e-08+1.514613e-                    28j   \n6  9.998517e-01-9.926167e-                    24j   \n\n                                            MO386  \\\n0  6.816279e-06+4.135903e-                    24j   \n1  5.214804e-04+6.352747e-                    22j   \n2  2.003732e-06-3.917799e-                    26j   \n3  3.300168e-07+0.000000e+                    00j   \n4  1.105014e-06+3.301856e-                    26j   \n5  8.956478e-08+0.000000e+                    00j   \n6  9.998517e-01+0.000000e+                    00j   \n\n                                            MO387  \\\n0  1.107604e-04+1.323489e-                    23j   \n1  1.731628e-03+7.835055e-                    21j   \n2  6.357177e-06+4.846761e-                    26j   \n3  5.006560e-07+0.000000e+                    00j   \n4  1.402676e-05-8.982664e-                    25j   \n5  5.704843e-07+0.000000e+                    00j   \n6  9.994862e-01+7.940934e-                    23j   \n\n                                            MO388  \\\n0  1.107604e-04+2.646978e-                    23j   \n1  1.731628e-03-3.388132e-                    21j   \n2  6.357177e-06+1.292470e-                    26j   \n3  5.006560e-07+0.000000e+                    00j   \n4  1.402676e-05+8.401053e-                    26j   \n5  5.704843e-07-4.038968e-                    28j   \n6  9.994862e-01+6.617445e-                    24j   \n\n                                            MO389  \\\n0  1.373554e-04-3.308722e-                    23j   \n1  1.895351e-03+5.293956e-                    21j   \n2  6.991682e-06-1.130911e-                    25j   \n3  1.647009e-09+0.000000e+                    00j   \n4  1.899239e-05-4.045430e-                    24j   \n5  6.381604e-07+0.000000e+                    00j   \n6  9.994315e-01+8.470329e-                    22j   \n\n                                            MO390  \\\n0  1.373554e-04-1.323489e-                    23j   \n1  1.895351e-03+2.752857e-                    21j   \n2  6.991682e-06+6.462349e-                    26j   \n3  1.647009e-09-1.292470e-                    26j   \n4  1.899239e-05+4.536569e-                    24j   \n5  6.381604e-07-3.635071e-                    27j   \n6  9.994315e-01+0.000000e+                    00j   \n\n                                            MO391  \n0  2.827683e-04+7.279189e-                    23j  \n1  2.732727e-03-1.132907e-                    20j  \n2  1.164294e-05-6.462349e-                    27j  \n3  5.068845e-09+0.000000e+                    00j  \n4  5.362590e-05+7.005186e-                    24j  \n5  1.071831e-06-2.322407e-                    27j  \n6  9.992044e-01+2.977850e-                    23j  \n\n[7 rows x 393 columns]",
      "text/html": "<div>\n<style scoped>\n    .dataframe tbody tr th:only-of-type {\n        vertical-align: middle;\n    }\n\n    .dataframe tbody tr th {\n        vertical-align: top;\n    }\n\n    .dataframe thead th {\n        text-align: right;\n    }\n</style>\n<table border=\"1\" class=\"dataframe\">\n  <thead>\n    <tr style=\"text-align: right;\">\n      <th></th>\n      <th>element</th>\n      <th>L</th>\n      <th>MO1</th>\n      <th>MO2</th>\n      <th>MO3</th>\n      <th>MO4</th>\n      <th>MO5</th>\n      <th>MO6</th>\n      <th>MO7</th>\n      <th>MO8</th>\n      <th>...</th>\n      <th>MO382</th>\n      <th>MO383</th>\n      <th>MO384</th>\n      <th>MO385</th>\n      <th>MO386</th>\n      <th>MO387</th>\n      <th>MO388</th>\n      <th>MO389</th>\n      <th>MO390</th>\n      <th>MO391</th>\n    </tr>\n  </thead>\n  <tbody>\n    <tr>\n      <th>0</th>\n      <td>I</td>\n      <td>S</td>\n      <td>3.384951e-15+5.175937e-                    34j</td>\n      <td>3.384951e-15+9.148167e-                    34j</td>\n      <td>1.000000e+00-1.336688e-                    28j</td>\n      <td>1.000000e+00+2.016464e-                    28j</td>\n      <td>1.000000e+00+2.380758e-                    29j</td>\n      <td>1.000000e+00-3.678064e-                    29j</td>\n      <td>1.000000e+00-1.307537e-                    28j</td>\n      <td>1.000000e+00-1.064962e-                    29j</td>\n      <td>...</td>\n      <td>1.646860e-04-4.632211e-                    23j</td>\n      <td>1.855283e-04+1.290402e-                    22j</td>\n      <td>1.855283e-04-1.720536e-                    22j</td>\n      <td>6.816279e-06+1.654361e-                    24j</td>\n      <td>6.816279e-06+4.135903e-                    24j</td>\n      <td>1.107604e-04+1.323489e-                    23j</td>\n      <td>1.107604e-04+2.646978e-                    23j</td>\n      <td>1.373554e-04-3.308722e-                    23j</td>\n      <td>1.373554e-04-1.323489e-                    23j</td>\n      <td>2.827683e-04+7.279189e-                    23j</td>\n    </tr>\n    <tr>\n      <th>1</th>\n      <td>I</td>\n      <td>P</td>\n      <td>5.849324e-12+3.648482e-                    30j</td>\n      <td>5.849324e-12+1.972152e-                    31j</td>\n      <td>3.625091e-12-8.874685e-                    31j</td>\n      <td>3.625090e-12+1.528418e-                    30j</td>\n      <td>3.621219e-12-2.563798e-                    30j</td>\n      <td>3.621217e-12-4.141520e-                    30j</td>\n      <td>3.645822e-12+3.204747e-                    30j</td>\n      <td>3.645822e-12+1.183291e-                    30j</td>\n      <td>...</td>\n      <td>2.696718e-03+2.117582e-                    21j</td>\n      <td>2.867007e-03-1.998468e-                    21j</td>\n      <td>2.867007e-03+4.446923e-                    21j</td>\n      <td>5.214804e-04-1.270549e-                    21j</td>\n      <td>5.214804e-04+6.352747e-                    22j</td>\n      <td>1.731628e-03+7.835055e-                    21j</td>\n      <td>1.731628e-03-3.388132e-                    21j</td>\n      <td>1.895351e-03+5.293956e-                    21j</td>\n      <td>1.895351e-03+2.752857e-                    21j</td>\n      <td>2.732727e-03-1.132907e-                    20j</td>\n    </tr>\n    <tr>\n      <th>2</th>\n      <td>I</td>\n      <td>D</td>\n      <td>2.589484e-15+3.129636e-                    34j</td>\n      <td>2.589484e-15-6.018531e-                    35j</td>\n      <td>1.354575e-15+1.203706e-                    34j</td>\n      <td>1.354576e-15-1.444447e-                    34j</td>\n      <td>1.353331e-15+2.949080e-                    34j</td>\n      <td>1.353331e-15+1.203706e-                    35j</td>\n      <td>1.357607e-15+4.333342e-                    34j</td>\n      <td>1.357607e-15+7.222237e-                    35j</td>\n      <td>...</td>\n      <td>7.844493e-06+1.292470e-                    26j</td>\n      <td>8.297457e-06-2.100263e-                    26j</td>\n      <td>8.297457e-06+1.454028e-                    26j</td>\n      <td>2.003732e-06+4.846761e-                    27j</td>\n      <td>2.003732e-06-3.917799e-                    26j</td>\n      <td>6.357177e-06+4.846761e-                    26j</td>\n      <td>6.357177e-06+1.292470e-                    26j</td>\n      <td>6.991682e-06-1.130911e-                    25j</td>\n      <td>6.991682e-06+6.462349e-                    26j</td>\n      <td>1.164294e-05-6.462349e-                    27j</td>\n    </tr>\n    <tr>\n      <th>3</th>\n      <td>Yb</td>\n      <td>S</td>\n      <td>1.000000e+00+3.902396e-                    29j</td>\n      <td>1.000000e+00-4.166172e-                    29j</td>\n      <td>5.553231e-14+0.000000e+                    00j</td>\n      <td>5.553219e-14-1.694818e-                    32j</td>\n      <td>5.515337e-14-3.543711e-                    32j</td>\n      <td>5.515325e-14-3.081488e-                    33j</td>\n      <td>5.529647e-14+4.622232e-                    33j</td>\n      <td>5.529647e-14-9.244464e-                    33j</td>\n      <td>...</td>\n      <td>4.140943e-07+1.033976e-                    24j</td>\n      <td>1.228739e-08+0.000000e+                    00j</td>\n      <td>1.228739e-08+0.000000e+                    00j</td>\n      <td>3.300168e-07+2.067952e-                    25j</td>\n      <td>3.300168e-07+0.000000e+                    00j</td>\n      <td>5.006560e-07+0.000000e+                    00j</td>\n      <td>5.006560e-07+0.000000e+                    00j</td>\n      <td>1.647009e-09+0.000000e+                    00j</td>\n      <td>1.647009e-09-1.292470e-                    26j</td>\n      <td>5.068845e-09+0.000000e+                    00j</td>\n    </tr>\n    <tr>\n      <th>4</th>\n      <td>Yb</td>\n      <td>P</td>\n      <td>2.272947e-17+1.805559e-                    35j</td>\n      <td>2.272946e-17-3.912045e-                    35j</td>\n      <td>3.023713e-13-3.759415e-                    31j</td>\n      <td>3.023714e-13+1.078521e-                    31j</td>\n      <td>3.016969e-13+8.011869e-                    32j</td>\n      <td>3.016969e-13+9.244464e-                    32j</td>\n      <td>3.097693e-13+9.860761e-                    32j</td>\n      <td>3.097693e-13-3.389637e-                    32j</td>\n      <td>...</td>\n      <td>5.534768e-05+1.809458e-                    25j</td>\n      <td>5.922282e-05-2.520316e-                    25j</td>\n      <td>5.922282e-05-3.231174e-                    25j</td>\n      <td>1.105014e-06-2.564745e-                    26j</td>\n      <td>1.105014e-06+3.301856e-                    26j</td>\n      <td>1.402676e-05-8.982664e-                    25j</td>\n      <td>1.402676e-05+8.401053e-                    26j</td>\n      <td>1.899239e-05-4.045430e-                    24j</td>\n      <td>1.899239e-05+4.536569e-                    24j</td>\n      <td>5.362590e-05+7.005186e-                    24j</td>\n    </tr>\n    <tr>\n      <th>5</th>\n      <td>Yb</td>\n      <td>D</td>\n      <td>1.620597e-16+0.000000e+                    00j</td>\n      <td>1.620597e-16+1.880791e-                    36j</td>\n      <td>4.734095e-14-2.900932e-                    33j</td>\n      <td>4.734100e-14+1.540744e-                    33j</td>\n      <td>4.731597e-14-4.622232e-                    33j</td>\n      <td>4.731602e-14+3.851860e-                    33j</td>\n      <td>4.901534e-14-7.703720e-                    33j</td>\n      <td>4.901534e-14+1.540744e-                    33j</td>\n      <td>...</td>\n      <td>1.995279e-07+1.615587e-                    27j</td>\n      <td>1.419574e-06+0.000000e+                    00j</td>\n      <td>1.419574e-06+6.462349e-                    27j</td>\n      <td>8.956478e-08+1.514613e-                    28j</td>\n      <td>8.956478e-08+0.000000e+                    00j</td>\n      <td>5.704843e-07+0.000000e+                    00j</td>\n      <td>5.704843e-07-4.038968e-                    28j</td>\n      <td>6.381604e-07+0.000000e+                    00j</td>\n      <td>6.381604e-07-3.635071e-                    27j</td>\n      <td>1.071831e-06-2.322407e-                    27j</td>\n    </tr>\n    <tr>\n      <th>6</th>\n      <td>Yb</td>\n      <td>F</td>\n      <td>2.675761e-16+0.000000e+                    00j</td>\n      <td>2.675761e-16-3.009266e-                    36j</td>\n      <td>6.763285e-15+7.703720e-                    34j</td>\n      <td>6.763282e-15+0.000000e+                    00j</td>\n      <td>6.720381e-15+0.000000e+                    00j</td>\n      <td>6.720377e-15+7.703720e-                    34j</td>\n      <td>6.976199e-15+0.000000e+                    00j</td>\n      <td>6.976199e-15+1.155558e-                    33j</td>\n      <td>...</td>\n      <td>9.988031e-01+4.235165e-                    22j</td>\n      <td>9.987198e-01-8.470329e-                    22j</td>\n      <td>9.987198e-01+0.000000e+                    00j</td>\n      <td>9.998517e-01-9.926167e-                    24j</td>\n      <td>9.998517e-01+0.000000e+                    00j</td>\n      <td>9.994862e-01+7.940934e-                    23j</td>\n      <td>9.994862e-01+6.617445e-                    24j</td>\n      <td>9.994315e-01+8.470329e-                    22j</td>\n      <td>9.994315e-01+0.000000e+                    00j</td>\n      <td>9.992044e-01+2.977850e-                    23j</td>\n    </tr>\n  </tbody>\n</table>\n<p>7 rows × 393 columns</p>\n</div>"
     },
     "execution_count": 35,
     "metadata": {},
     "output_type": "execute_result"
    }
   ],
   "source": [
    "partorb"
   ],
   "metadata": {
    "collapsed": false,
    "ExecuteTime": {
     "end_time": "2024-02-29T19:42:17.212749Z",
     "start_time": "2024-02-29T19:42:17.157622Z"
    }
   },
   "id": "7f040e2c53f450bd",
   "execution_count": 35
  },
  {
   "cell_type": "code",
   "outputs": [
    {
     "data": {
      "text/plain": "  element  L                                             MO1\n0       I  S  3.384951e-15+5.175937e-                    34j\n1       I  P  5.849324e-12+3.648482e-                    30j\n2       I  D  2.589484e-15+3.129636e-                    34j\n3      Yb  S  1.000000e+00+3.902396e-                    29j\n4      Yb  P  2.272947e-17+1.805559e-                    35j\n5      Yb  D  1.620597e-16+0.000000e+                    00j\n6      Yb  F  2.675761e-16+0.000000e+                    00j",
      "text/html": "<div>\n<style scoped>\n    .dataframe tbody tr th:only-of-type {\n        vertical-align: middle;\n    }\n\n    .dataframe tbody tr th {\n        vertical-align: top;\n    }\n\n    .dataframe thead th {\n        text-align: right;\n    }\n</style>\n<table border=\"1\" class=\"dataframe\">\n  <thead>\n    <tr style=\"text-align: right;\">\n      <th></th>\n      <th>element</th>\n      <th>L</th>\n      <th>MO1</th>\n    </tr>\n  </thead>\n  <tbody>\n    <tr>\n      <th>0</th>\n      <td>I</td>\n      <td>S</td>\n      <td>3.384951e-15+5.175937e-                    34j</td>\n    </tr>\n    <tr>\n      <th>1</th>\n      <td>I</td>\n      <td>P</td>\n      <td>5.849324e-12+3.648482e-                    30j</td>\n    </tr>\n    <tr>\n      <th>2</th>\n      <td>I</td>\n      <td>D</td>\n      <td>2.589484e-15+3.129636e-                    34j</td>\n    </tr>\n    <tr>\n      <th>3</th>\n      <td>Yb</td>\n      <td>S</td>\n      <td>1.000000e+00+3.902396e-                    29j</td>\n    </tr>\n    <tr>\n      <th>4</th>\n      <td>Yb</td>\n      <td>P</td>\n      <td>2.272947e-17+1.805559e-                    35j</td>\n    </tr>\n    <tr>\n      <th>5</th>\n      <td>Yb</td>\n      <td>D</td>\n      <td>1.620597e-16+0.000000e+                    00j</td>\n    </tr>\n    <tr>\n      <th>6</th>\n      <td>Yb</td>\n      <td>F</td>\n      <td>2.675761e-16+0.000000e+                    00j</td>\n    </tr>\n  </tbody>\n</table>\n</div>"
     },
     "execution_count": 8,
     "metadata": {},
     "output_type": "execute_result"
    }
   ],
   "source": [
    "\n",
    "\n"
   ],
   "metadata": {
    "collapsed": false,
    "ExecuteTime": {
     "end_time": "2024-02-29T19:24:22.909262Z",
     "start_time": "2024-02-29T19:24:22.855124Z"
    }
   },
   "id": "c03eb180be81e283",
   "execution_count": 8
  },
  {
   "cell_type": "code",
   "outputs": [],
   "source": [
    "by = ['element', 'L']\n",
    "fragments = ao.df[by].drop_duplicates().reset_index(drop=True)\n",
    "\n",
    "F = []\n",
    "f = []\n",
    "for i, fragment in fragments.iterrows():\n",
    "    p = np.full(ao.n_ao, True, dtype=np.bool_)\n",
    "    for col, value in fragment.items():\n",
    "        p &= ao.df[col] == value\n",
    "    f.append(p)\n",
    "    F.append(np.outer(p, p))\n",
    "f = np.stack(f)\n",
    "F = np.stack(F)"
   ],
   "metadata": {
    "collapsed": false,
    "ExecuteTime": {
     "end_time": "2024-02-28T14:51:38.928553Z",
     "start_time": "2024-02-28T14:51:38.873576Z"
    }
   },
   "id": "3a40123c91a5b060",
   "execution_count": 32
  },
  {
   "cell_type": "code",
   "outputs": [],
   "source": [
    "P = mo.get_density()\n",
    "S = mo.get_metric()\n",
    "pop = np.einsum('Att,tt->A', F, P @ S, optimize='optimal')\n",
    "fragments['pop'] = pop"
   ],
   "metadata": {
    "collapsed": false,
    "ExecuteTime": {
     "end_time": "2024-02-28T14:51:40.082686Z",
     "start_time": "2024-02-28T14:51:39.887374Z"
    }
   },
   "id": "6e5492c273910355",
   "execution_count": 33
  },
  {
   "cell_type": "code",
   "outputs": [],
   "source": [
    "C = mo.molorb\n",
    "S = mo.get_metric()"
   ],
   "metadata": {
    "collapsed": false,
    "ExecuteTime": {
     "end_time": "2024-02-28T14:51:40.652576Z",
     "start_time": "2024-02-28T14:51:40.590717Z"
    }
   },
   "id": "a9cc3fa6f0e43229",
   "execution_count": 34
  },
  {
   "cell_type": "code",
   "outputs": [],
   "source": [
    "from mctools.core.utils.constants import I2\n",
    "Ip2 = np.einsum('pat,Ftv,tv,ab,pbv->Fp', C, F, S, I2, C.conj(), optimize='optimal')"
   ],
   "metadata": {
    "collapsed": false,
    "ExecuteTime": {
     "end_time": "2024-02-28T14:51:48.725418Z",
     "start_time": "2024-02-28T14:51:46.495337Z"
    }
   },
   "id": "c94eb5be7c65dc1",
   "execution_count": 35
  },
  {
   "cell_type": "code",
   "outputs": [
    {
     "data": {
      "text/plain": "MO1      3\nMO2      3\nMO3      0\nMO4      0\nMO5      0\n        ..\nMO387    6\nMO388    6\nMO389    6\nMO390    6\nMO391    6\nLength: 391, dtype: int64"
     },
     "execution_count": 52,
     "metadata": {},
     "output_type": "execute_result"
    }
   ],
   "source": [
    "frag_idx = (partorb.iloc[:, 2:].abs() ** 2).idxmax(axis=0)\n",
    "frag_idx.T"
   ],
   "metadata": {
    "collapsed": false,
    "ExecuteTime": {
     "end_time": "2024-02-28T14:55:31.848046Z",
     "start_time": "2024-02-28T14:55:31.761216Z"
    }
   },
   "id": "d03b13176430db53",
   "execution_count": 52
  },
  {
   "cell_type": "code",
   "outputs": [],
   "source": [
    "dfmo = mo.df.copy()"
   ],
   "metadata": {
    "collapsed": false,
    "ExecuteTime": {
     "end_time": "2024-02-28T06:59:24.684788Z",
     "start_time": "2024-02-28T06:59:24.627129Z"
    }
   },
   "id": "45bed3105e0e7d5a",
   "execution_count": 8
  },
  {
   "cell_type": "code",
   "outputs": [],
   "source": [
    "labels = fragments[by].apply(lambda r: '_'.join(r[by]), axis=1)\n",
    "df1 = pd.DataFrame(Ip2.T, columns=labels)"
   ],
   "metadata": {
    "collapsed": false,
    "ExecuteTime": {
     "end_time": "2024-02-28T07:01:41.460182Z",
     "start_time": "2024-02-28T07:01:41.405187Z"
    }
   },
   "id": "13d92e9e3f93e9ed",
   "execution_count": 19
  },
  {
   "cell_type": "code",
   "outputs": [
    {
     "data": {
      "text/plain": "     occupied  resource_idx                                             I_S  \\\n0        True             0  3.384951e-15+7.595386e-                    33j   \n1        True             1  3.384951e-15-6.909274e-                    33j   \n2        True             2  1.000000e+00-7.496771e-                    24j   \n3        True             3  1.000000e+00+7.451664e-                    24j   \n4        True             4  1.000000e+00+1.449445e-                    24j   \n..        ...           ...                                             ...   \n421     False           421  1.313954e-02-1.482308e-                    20j   \n422     False           422  1.380578e-02-4.102816e-                    21j   \n423     False           423  1.380578e-02+1.016440e-                    20j   \n424     False           424  1.731698e-02+2.625802e-                    20j   \n425     False           425  1.731698e-02-3.176374e-                    20j   \n\n                                                I_P  \\\n0    5.849324e-12-2.958228e-                    31j   \n1    5.849324e-12+3.895001e-                    30j   \n2    3.625091e-12+2.711709e-                    30j   \n3    3.625090e-12+6.360191e-                    30j   \n4    3.621219e-12-8.283040e-                    30j   \n..                                              ...   \n421  2.019810e-02+5.421011e-                    20j   \n422  2.135368e-02-6.606857e-                    20j   \n423  2.135368e-02+4.743385e-                    20j   \n424  2.569220e-02+2.032879e-                    20j   \n425  2.569220e-02-1.431486e-                    19j   \n\n                                                I_D  \\\n0    2.589484e-15+3.629174e-                    33j   \n1    2.589484e-15-5.657419e-                    34j   \n2    1.354575e-15+9.148167e-                    34j   \n3    1.354576e-15-6.018531e-                    34j   \n4    1.353331e-15+8.185202e-                    34j   \n..                                              ...   \n421  2.602229e-04+1.526148e-                    22j   \n422  2.800468e-04-3.629255e-                    23j   \n423  2.800468e-04+3.699048e-                    23j   \n424  3.277309e-04-1.785676e-                    22j   \n425  3.277309e-04+1.766031e-                    22j   \n\n                                               Yb_S  \\\n0    1.000000e+00-2.108512e-                    22j   \n1    1.000000e+00+2.108512e-                    22j   \n2    5.553231e-14-4.067564e-                    31j   \n3    5.553219e-14+3.697785e-                    31j   \n4    5.515337e-14+1.972152e-                    31j   \n..                                              ...   \n421  1.171841e-04+0.000000e+                    00j   \n422  1.284640e-06-9.926167e-                    24j   \n423  1.284640e-06+9.926167e-                    24j   \n424  3.381545e-07-9.926167e-                    24j   \n425  3.381545e-07+9.926167e-                    24j   \n\n                                               Yb_P  \\\n0    2.272947e-17-1.324077e-                    34j   \n1    2.272946e-17-2.106486e-                    35j   \n2    3.023713e-13-1.417484e-                    31j   \n3    3.023714e-13-3.697785e-                    32j   \n4    3.016969e-13-7.950239e-                    31j   \n..                                              ...   \n421  1.651896e-02+1.340756e-                    21j   \n422  1.697738e-02+2.909711e-                    21j   \n423  1.697738e-02-2.892237e-                    21j   \n424  2.159196e-02-1.431022e-                    21j   \n425  2.159196e-02+1.403519e-                    21j   \n\n                                               Yb_D  \\\n0    1.620597e-16+1.000581e-                    34j   \n1    1.620597e-16-1.429401e-                    35j   \n2    4.734095e-14-9.075945e-                    32j   \n3    4.734100e-14+3.620748e-                    32j   \n4    4.731597e-14-1.540744e-                    32j   \n..                                              ...   \n421  1.139839e-06-1.121217e-                    24j   \n422  2.901400e-06+8.207183e-                    25j   \n423  2.901400e-06-8.336430e-                    25j   \n424  2.741812e-06+1.143836e-                    24j   \n425  2.741812e-06-1.143836e-                    24j   \n\n                                               Yb_F  \n0    2.675761e-16+2.407412e-                    35j  \n1    2.675761e-16-3.009266e-                    35j  \n2    6.763285e-15-1.194077e-                    32j  \n3    6.763282e-15+7.703720e-                    33j  \n4    6.720381e-15+6.162976e-                    33j  \n..                                              ...  \n421  1.012586e+00-6.268044e-                    19j  \n422  1.013627e+00-2.995109e-                    18j  \n423  1.013627e+00+2.981556e-                    18j  \n424  1.015991e+00+4.218224e-                    18j  \n425  1.015991e+00-4.218224e-                    18j  \n\n[426 rows x 9 columns]",
      "text/html": "<div>\n<style scoped>\n    .dataframe tbody tr th:only-of-type {\n        vertical-align: middle;\n    }\n\n    .dataframe tbody tr th {\n        vertical-align: top;\n    }\n\n    .dataframe thead th {\n        text-align: right;\n    }\n</style>\n<table border=\"1\" class=\"dataframe\">\n  <thead>\n    <tr style=\"text-align: right;\">\n      <th></th>\n      <th>occupied</th>\n      <th>resource_idx</th>\n      <th>I_S</th>\n      <th>I_P</th>\n      <th>I_D</th>\n      <th>Yb_S</th>\n      <th>Yb_P</th>\n      <th>Yb_D</th>\n      <th>Yb_F</th>\n    </tr>\n  </thead>\n  <tbody>\n    <tr>\n      <th>0</th>\n      <td>True</td>\n      <td>0</td>\n      <td>3.384951e-15+7.595386e-                    33j</td>\n      <td>5.849324e-12-2.958228e-                    31j</td>\n      <td>2.589484e-15+3.629174e-                    33j</td>\n      <td>1.000000e+00-2.108512e-                    22j</td>\n      <td>2.272947e-17-1.324077e-                    34j</td>\n      <td>1.620597e-16+1.000581e-                    34j</td>\n      <td>2.675761e-16+2.407412e-                    35j</td>\n    </tr>\n    <tr>\n      <th>1</th>\n      <td>True</td>\n      <td>1</td>\n      <td>3.384951e-15-6.909274e-                    33j</td>\n      <td>5.849324e-12+3.895001e-                    30j</td>\n      <td>2.589484e-15-5.657419e-                    34j</td>\n      <td>1.000000e+00+2.108512e-                    22j</td>\n      <td>2.272946e-17-2.106486e-                    35j</td>\n      <td>1.620597e-16-1.429401e-                    35j</td>\n      <td>2.675761e-16-3.009266e-                    35j</td>\n    </tr>\n    <tr>\n      <th>2</th>\n      <td>True</td>\n      <td>2</td>\n      <td>1.000000e+00-7.496771e-                    24j</td>\n      <td>3.625091e-12+2.711709e-                    30j</td>\n      <td>1.354575e-15+9.148167e-                    34j</td>\n      <td>5.553231e-14-4.067564e-                    31j</td>\n      <td>3.023713e-13-1.417484e-                    31j</td>\n      <td>4.734095e-14-9.075945e-                    32j</td>\n      <td>6.763285e-15-1.194077e-                    32j</td>\n    </tr>\n    <tr>\n      <th>3</th>\n      <td>True</td>\n      <td>3</td>\n      <td>1.000000e+00+7.451664e-                    24j</td>\n      <td>3.625090e-12+6.360191e-                    30j</td>\n      <td>1.354576e-15-6.018531e-                    34j</td>\n      <td>5.553219e-14+3.697785e-                    31j</td>\n      <td>3.023714e-13-3.697785e-                    32j</td>\n      <td>4.734100e-14+3.620748e-                    32j</td>\n      <td>6.763282e-15+7.703720e-                    33j</td>\n    </tr>\n    <tr>\n      <th>4</th>\n      <td>True</td>\n      <td>4</td>\n      <td>1.000000e+00+1.449445e-                    24j</td>\n      <td>3.621219e-12-8.283040e-                    30j</td>\n      <td>1.353331e-15+8.185202e-                    34j</td>\n      <td>5.515337e-14+1.972152e-                    31j</td>\n      <td>3.016969e-13-7.950239e-                    31j</td>\n      <td>4.731597e-14-1.540744e-                    32j</td>\n      <td>6.720381e-15+6.162976e-                    33j</td>\n    </tr>\n    <tr>\n      <th>...</th>\n      <td>...</td>\n      <td>...</td>\n      <td>...</td>\n      <td>...</td>\n      <td>...</td>\n      <td>...</td>\n      <td>...</td>\n      <td>...</td>\n      <td>...</td>\n    </tr>\n    <tr>\n      <th>421</th>\n      <td>False</td>\n      <td>421</td>\n      <td>1.313954e-02-1.482308e-                    20j</td>\n      <td>2.019810e-02+5.421011e-                    20j</td>\n      <td>2.602229e-04+1.526148e-                    22j</td>\n      <td>1.171841e-04+0.000000e+                    00j</td>\n      <td>1.651896e-02+1.340756e-                    21j</td>\n      <td>1.139839e-06-1.121217e-                    24j</td>\n      <td>1.012586e+00-6.268044e-                    19j</td>\n    </tr>\n    <tr>\n      <th>422</th>\n      <td>False</td>\n      <td>422</td>\n      <td>1.380578e-02-4.102816e-                    21j</td>\n      <td>2.135368e-02-6.606857e-                    20j</td>\n      <td>2.800468e-04-3.629255e-                    23j</td>\n      <td>1.284640e-06-9.926167e-                    24j</td>\n      <td>1.697738e-02+2.909711e-                    21j</td>\n      <td>2.901400e-06+8.207183e-                    25j</td>\n      <td>1.013627e+00-2.995109e-                    18j</td>\n    </tr>\n    <tr>\n      <th>423</th>\n      <td>False</td>\n      <td>423</td>\n      <td>1.380578e-02+1.016440e-                    20j</td>\n      <td>2.135368e-02+4.743385e-                    20j</td>\n      <td>2.800468e-04+3.699048e-                    23j</td>\n      <td>1.284640e-06+9.926167e-                    24j</td>\n      <td>1.697738e-02-2.892237e-                    21j</td>\n      <td>2.901400e-06-8.336430e-                    25j</td>\n      <td>1.013627e+00+2.981556e-                    18j</td>\n    </tr>\n    <tr>\n      <th>424</th>\n      <td>False</td>\n      <td>424</td>\n      <td>1.731698e-02+2.625802e-                    20j</td>\n      <td>2.569220e-02+2.032879e-                    20j</td>\n      <td>3.277309e-04-1.785676e-                    22j</td>\n      <td>3.381545e-07-9.926167e-                    24j</td>\n      <td>2.159196e-02-1.431022e-                    21j</td>\n      <td>2.741812e-06+1.143836e-                    24j</td>\n      <td>1.015991e+00+4.218224e-                    18j</td>\n    </tr>\n    <tr>\n      <th>425</th>\n      <td>False</td>\n      <td>425</td>\n      <td>1.731698e-02-3.176374e-                    20j</td>\n      <td>2.569220e-02-1.431486e-                    19j</td>\n      <td>3.277309e-04+1.766031e-                    22j</td>\n      <td>3.381545e-07+9.926167e-                    24j</td>\n      <td>2.159196e-02+1.403519e-                    21j</td>\n      <td>2.741812e-06-1.143836e-                    24j</td>\n      <td>1.015991e+00-4.218224e-                    18j</td>\n    </tr>\n  </tbody>\n</table>\n<p>426 rows × 9 columns</p>\n</div>"
     },
     "execution_count": 20,
     "metadata": {},
     "output_type": "execute_result"
    }
   ],
   "source": [
    "pd.concat([dfmo, df1], axis=1)"
   ],
   "metadata": {
    "collapsed": false,
    "ExecuteTime": {
     "end_time": "2024-02-28T07:02:10.598443Z",
     "start_time": "2024-02-28T07:02:10.538162Z"
    }
   },
   "id": "91dc24d5e481f286",
   "execution_count": 20
  },
  {
   "cell_type": "code",
   "outputs": [
    {
     "ename": "NameError",
     "evalue": "name 'Ip2' is not defined",
     "output_type": "error",
     "traceback": [
      "\u001B[0;31m---------------------------------------------------------------------------\u001B[0m",
      "\u001B[0;31mNameError\u001B[0m                                 Traceback (most recent call last)",
      "Cell \u001B[0;32mIn[8], line 1\u001B[0m\n\u001B[0;32m----> 1\u001B[0m Ip2 \u001B[38;5;241m=\u001B[39m pd\u001B[38;5;241m.\u001B[39mDataFrame(\u001B[43mIp2\u001B[49m, columns\u001B[38;5;241m=\u001B[39m[\u001B[38;5;124mf\u001B[39m\u001B[38;5;124m'\u001B[39m\u001B[38;5;124mMO\u001B[39m\u001B[38;5;132;01m{\u001B[39;00mp\u001B[38;5;132;01m}\u001B[39;00m\u001B[38;5;124m'\u001B[39m \u001B[38;5;28;01mfor\u001B[39;00m p \u001B[38;5;129;01min\u001B[39;00m \u001B[38;5;28mrange\u001B[39m(\u001B[38;5;241m1\u001B[39m, Ip2\u001B[38;5;241m.\u001B[39mshape[\u001B[38;5;241m-\u001B[39m\u001B[38;5;241m1\u001B[39m] \u001B[38;5;241m+\u001B[39m \u001B[38;5;241m1\u001B[39m)])\n",
      "\u001B[0;31mNameError\u001B[0m: name 'Ip2' is not defined"
     ]
    }
   ],
   "source": [
    "Ip2 = pd.DataFrame(Ip2, columns=[f'MO{p}' for p in range(1, Ip2.shape[-1] + 1)])"
   ],
   "metadata": {
    "collapsed": false,
    "ExecuteTime": {
     "end_time": "2024-02-28T06:48:33.195628Z",
     "start_time": "2024-02-28T06:48:33.112670Z"
    }
   },
   "id": "9e450d8bd5dfb4a2",
   "execution_count": 8
  },
  {
   "cell_type": "code",
   "outputs": [],
   "source": [
    "C_inv = np.einsum('pat,tt,ab,pbt->pt', C, S, I2, C.conj(), optimize='optimal')\n",
    "Ip3 = np.einsum('ft,pt->fp', f, C_inv, optimize='optimal')"
   ],
   "metadata": {
    "collapsed": false,
    "ExecuteTime": {
     "end_time": "2024-02-28T06:29:51.167212Z",
     "start_time": "2024-02-28T06:29:51.095335Z"
    }
   },
   "id": "3c209fc9c5ccc945",
   "execution_count": 116
  },
  {
   "cell_type": "code",
   "outputs": [
    {
     "data": {
      "text/plain": "  element  l                                             MO1  \\\n0       I  0  3.384951e-15+7.595386e-                    33j   \n1       I  1  5.849324e-12-2.958228e-                    31j   \n2       I  2  2.589484e-15+3.629174e-                    33j   \n3      Yb  0  1.000000e+00-2.108512e-                    22j   \n4      Yb  1  2.272947e-17-1.324077e-                    34j   \n5      Yb  2  1.620597e-16+1.000581e-                    34j   \n6      Yb  3  2.675761e-16+2.407412e-                    35j   \n\n                                              MO2  \\\n0  3.384951e-15-6.909274e-                    33j   \n1  5.849324e-12+3.895001e-                    30j   \n2  2.589484e-15-5.657419e-                    34j   \n3  1.000000e+00+2.108512e-                    22j   \n4  2.272946e-17-2.106486e-                    35j   \n5  1.620597e-16-1.429401e-                    35j   \n6  2.675761e-16-3.009266e-                    35j   \n\n                                              MO3  \\\n0  1.000000e+00-7.496771e-                    24j   \n1  3.625091e-12+2.711709e-                    30j   \n2  1.354575e-15+9.148167e-                    34j   \n3  5.553231e-14-4.067564e-                    31j   \n4  3.023713e-13-1.417484e-                    31j   \n5  4.734095e-14-9.075945e-                    32j   \n6  6.763285e-15-1.194077e-                    32j   \n\n                                              MO4  \\\n0  1.000000e+00+7.451664e-                    24j   \n1  3.625090e-12+6.360191e-                    30j   \n2  1.354576e-15-6.018531e-                    34j   \n3  5.553219e-14+3.697785e-                    31j   \n4  3.023714e-13-3.697785e-                    32j   \n5  4.734100e-14+3.620748e-                    32j   \n6  6.763282e-15+7.703720e-                    33j   \n\n                                              MO5  \\\n0  1.000000e+00+1.449445e-                    24j   \n1  3.621219e-12-8.283040e-                    30j   \n2  1.353331e-15+8.185202e-                    34j   \n3  5.515337e-14+1.972152e-                    31j   \n4  3.016969e-13-7.950239e-                    31j   \n5  4.731597e-14-1.540744e-                    32j   \n6  6.720381e-15+6.162976e-                    33j   \n\n                                              MO6  \\\n0  1.000000e+00-1.355231e-                    20j   \n1  3.621217e-12-5.916457e-                    30j   \n2  1.353331e-15+6.018531e-                    35j   \n3  5.515325e-14+2.095412e-                    31j   \n4  3.016969e-13+6.779273e-                    31j   \n5  4.731602e-14+3.081488e-                    33j   \n6  6.720377e-15-6.162976e-                    33j   \n\n                                              MO7  \\\n0  1.000000e+00-1.355894e-                    20j   \n1  3.645822e-12-3.254051e-                    30j   \n2  1.357607e-15+7.944461e-                    34j   \n3  5.529647e-14-2.095412e-                    31j   \n4  3.097693e-13+9.860761e-                    32j   \n5  4.901534e-14+1.540744e-                    33j   \n6  6.976199e-15-6.162976e-                    33j   \n\n                                              MO8  ...  \\\n0  1.000000e+00+1.356556e-                    20j  ...   \n1  3.645822e-12-1.262177e-                    29j  ...   \n2  1.357607e-15+7.222237e-                    35j  ...   \n3  5.529647e-14+0.000000e+                    00j  ...   \n4  3.097693e-13+3.482081e-                    31j  ...   \n5  4.901534e-14-7.703720e-                    33j  ...   \n6  6.976199e-15+1.925930e-                    33j  ...   \n\n                                            MO417  \\\n0  4.570007e-03+1.058791e-                    21j   \n1  9.646433e-03-4.743385e-                    20j   \n2  1.378991e-04+8.106370e-                    23j   \n3  3.575627e-04+2.541099e-                    21j   \n4  5.522034e-03+3.578952e-                    21j   \n5  3.655128e-07+1.203612e-                    25j   \n6  1.006344e+00+1.768605e-                    18j   \n\n                                            MO418  \\\n0  4.570007e-03-2.541099e-                    21j   \n1  9.646433e-03+2.541099e-                    20j   \n2  1.378991e-04-8.023652e-                    23j   \n3  3.575627e-04-2.435220e-                    21j   \n4  5.522034e-03-3.603406e-                    21j   \n5  3.655128e-07-1.163223e-                    25j   \n6  1.006344e+00-1.792322e-                    18j   \n\n                                            MO419  \\\n0  1.129820e-04+1.290402e-                    22j   \n1  2.255275e-03+8.470329e-                    22j   \n2  4.430510e-05-2.820169e-                    23j   \n3  1.241591e-04+0.000000e+                    00j   \n4  1.254307e-05-5.210269e-                    26j   \n5  2.837668e-07+1.777146e-                    26j   \n6  1.001817e+00-3.049319e-                    20j   \n\n                                            MO420               MO421  \\\n0  1.129820e-04-1.191140e-                    22j  0.013140+0.000000j   \n1  2.255275e-03+4.446923e-                    21j  0.020198-0.000000j   \n2  4.430510e-05+2.729696e-                    23j  0.000260-0.000000j   \n3  1.241591e-04+0.000000e+                    00j  0.000117+0.000000j   \n4  1.254307e-05+2.071990e-                    25j  0.016519-0.000000j   \n5  2.837668e-07-1.777146e-                    26j  0.000001+0.000000j   \n6  1.001817e+00+3.049319e-                    20j  1.012586+0.000000j   \n\n                MO422               MO423               MO424  \\\n0  0.013140-0.000000j  0.013806-0.000000j  0.013806+0.000000j   \n1  0.020198+0.000000j  0.021354-0.000000j  0.021354+0.000000j   \n2  0.000260+0.000000j  0.000280-0.000000j  0.000280+0.000000j   \n3  0.000117+0.000000j  0.000001-0.000000j  0.000001+0.000000j   \n4  0.016519+0.000000j  0.016977+0.000000j  0.016977-0.000000j   \n5  0.000001-0.000000j  0.000003+0.000000j  0.000003-0.000000j   \n6  1.012586-0.000000j  1.013627-0.000000j  1.013627+0.000000j   \n\n                                            MO425  \\\n0  1.731698e-02+2.625802e-                    20j   \n1  2.569220e-02+2.032879e-                    20j   \n2  3.277309e-04-1.785676e-                    22j   \n3  3.381545e-07-9.926167e-                    24j   \n4  2.159196e-02-1.431022e-                    21j   \n5  2.741812e-06+1.143836e-                    24j   \n6  1.015991e+00+4.218224e-                    18j   \n\n                                            MO426  \n0  1.731698e-02-3.176374e-                    20j  \n1  2.569220e-02-1.431486e-                    19j  \n2  3.277309e-04+1.766031e-                    22j  \n3  3.381545e-07+9.926167e-                    24j  \n4  2.159196e-02+1.403519e-                    21j  \n5  2.741812e-06-1.143836e-                    24j  \n6  1.015991e+00-4.218224e-                    18j  \n\n[7 rows x 428 columns]",
      "text/html": "<div>\n<style scoped>\n    .dataframe tbody tr th:only-of-type {\n        vertical-align: middle;\n    }\n\n    .dataframe tbody tr th {\n        vertical-align: top;\n    }\n\n    .dataframe thead th {\n        text-align: right;\n    }\n</style>\n<table border=\"1\" class=\"dataframe\">\n  <thead>\n    <tr style=\"text-align: right;\">\n      <th></th>\n      <th>element</th>\n      <th>l</th>\n      <th>MO1</th>\n      <th>MO2</th>\n      <th>MO3</th>\n      <th>MO4</th>\n      <th>MO5</th>\n      <th>MO6</th>\n      <th>MO7</th>\n      <th>MO8</th>\n      <th>...</th>\n      <th>MO417</th>\n      <th>MO418</th>\n      <th>MO419</th>\n      <th>MO420</th>\n      <th>MO421</th>\n      <th>MO422</th>\n      <th>MO423</th>\n      <th>MO424</th>\n      <th>MO425</th>\n      <th>MO426</th>\n    </tr>\n  </thead>\n  <tbody>\n    <tr>\n      <th>0</th>\n      <td>I</td>\n      <td>0</td>\n      <td>3.384951e-15+7.595386e-                    33j</td>\n      <td>3.384951e-15-6.909274e-                    33j</td>\n      <td>1.000000e+00-7.496771e-                    24j</td>\n      <td>1.000000e+00+7.451664e-                    24j</td>\n      <td>1.000000e+00+1.449445e-                    24j</td>\n      <td>1.000000e+00-1.355231e-                    20j</td>\n      <td>1.000000e+00-1.355894e-                    20j</td>\n      <td>1.000000e+00+1.356556e-                    20j</td>\n      <td>...</td>\n      <td>4.570007e-03+1.058791e-                    21j</td>\n      <td>4.570007e-03-2.541099e-                    21j</td>\n      <td>1.129820e-04+1.290402e-                    22j</td>\n      <td>1.129820e-04-1.191140e-                    22j</td>\n      <td>0.013140+0.000000j</td>\n      <td>0.013140-0.000000j</td>\n      <td>0.013806-0.000000j</td>\n      <td>0.013806+0.000000j</td>\n      <td>1.731698e-02+2.625802e-                    20j</td>\n      <td>1.731698e-02-3.176374e-                    20j</td>\n    </tr>\n    <tr>\n      <th>1</th>\n      <td>I</td>\n      <td>1</td>\n      <td>5.849324e-12-2.958228e-                    31j</td>\n      <td>5.849324e-12+3.895001e-                    30j</td>\n      <td>3.625091e-12+2.711709e-                    30j</td>\n      <td>3.625090e-12+6.360191e-                    30j</td>\n      <td>3.621219e-12-8.283040e-                    30j</td>\n      <td>3.621217e-12-5.916457e-                    30j</td>\n      <td>3.645822e-12-3.254051e-                    30j</td>\n      <td>3.645822e-12-1.262177e-                    29j</td>\n      <td>...</td>\n      <td>9.646433e-03-4.743385e-                    20j</td>\n      <td>9.646433e-03+2.541099e-                    20j</td>\n      <td>2.255275e-03+8.470329e-                    22j</td>\n      <td>2.255275e-03+4.446923e-                    21j</td>\n      <td>0.020198-0.000000j</td>\n      <td>0.020198+0.000000j</td>\n      <td>0.021354-0.000000j</td>\n      <td>0.021354+0.000000j</td>\n      <td>2.569220e-02+2.032879e-                    20j</td>\n      <td>2.569220e-02-1.431486e-                    19j</td>\n    </tr>\n    <tr>\n      <th>2</th>\n      <td>I</td>\n      <td>2</td>\n      <td>2.589484e-15+3.629174e-                    33j</td>\n      <td>2.589484e-15-5.657419e-                    34j</td>\n      <td>1.354575e-15+9.148167e-                    34j</td>\n      <td>1.354576e-15-6.018531e-                    34j</td>\n      <td>1.353331e-15+8.185202e-                    34j</td>\n      <td>1.353331e-15+6.018531e-                    35j</td>\n      <td>1.357607e-15+7.944461e-                    34j</td>\n      <td>1.357607e-15+7.222237e-                    35j</td>\n      <td>...</td>\n      <td>1.378991e-04+8.106370e-                    23j</td>\n      <td>1.378991e-04-8.023652e-                    23j</td>\n      <td>4.430510e-05-2.820169e-                    23j</td>\n      <td>4.430510e-05+2.729696e-                    23j</td>\n      <td>0.000260-0.000000j</td>\n      <td>0.000260+0.000000j</td>\n      <td>0.000280-0.000000j</td>\n      <td>0.000280+0.000000j</td>\n      <td>3.277309e-04-1.785676e-                    22j</td>\n      <td>3.277309e-04+1.766031e-                    22j</td>\n    </tr>\n    <tr>\n      <th>3</th>\n      <td>Yb</td>\n      <td>0</td>\n      <td>1.000000e+00-2.108512e-                    22j</td>\n      <td>1.000000e+00+2.108512e-                    22j</td>\n      <td>5.553231e-14-4.067564e-                    31j</td>\n      <td>5.553219e-14+3.697785e-                    31j</td>\n      <td>5.515337e-14+1.972152e-                    31j</td>\n      <td>5.515325e-14+2.095412e-                    31j</td>\n      <td>5.529647e-14-2.095412e-                    31j</td>\n      <td>5.529647e-14+0.000000e+                    00j</td>\n      <td>...</td>\n      <td>3.575627e-04+2.541099e-                    21j</td>\n      <td>3.575627e-04-2.435220e-                    21j</td>\n      <td>1.241591e-04+0.000000e+                    00j</td>\n      <td>1.241591e-04+0.000000e+                    00j</td>\n      <td>0.000117+0.000000j</td>\n      <td>0.000117+0.000000j</td>\n      <td>0.000001-0.000000j</td>\n      <td>0.000001+0.000000j</td>\n      <td>3.381545e-07-9.926167e-                    24j</td>\n      <td>3.381545e-07+9.926167e-                    24j</td>\n    </tr>\n    <tr>\n      <th>4</th>\n      <td>Yb</td>\n      <td>1</td>\n      <td>2.272947e-17-1.324077e-                    34j</td>\n      <td>2.272946e-17-2.106486e-                    35j</td>\n      <td>3.023713e-13-1.417484e-                    31j</td>\n      <td>3.023714e-13-3.697785e-                    32j</td>\n      <td>3.016969e-13-7.950239e-                    31j</td>\n      <td>3.016969e-13+6.779273e-                    31j</td>\n      <td>3.097693e-13+9.860761e-                    32j</td>\n      <td>3.097693e-13+3.482081e-                    31j</td>\n      <td>...</td>\n      <td>5.522034e-03+3.578952e-                    21j</td>\n      <td>5.522034e-03-3.603406e-                    21j</td>\n      <td>1.254307e-05-5.210269e-                    26j</td>\n      <td>1.254307e-05+2.071990e-                    25j</td>\n      <td>0.016519-0.000000j</td>\n      <td>0.016519+0.000000j</td>\n      <td>0.016977+0.000000j</td>\n      <td>0.016977-0.000000j</td>\n      <td>2.159196e-02-1.431022e-                    21j</td>\n      <td>2.159196e-02+1.403519e-                    21j</td>\n    </tr>\n    <tr>\n      <th>5</th>\n      <td>Yb</td>\n      <td>2</td>\n      <td>1.620597e-16+1.000581e-                    34j</td>\n      <td>1.620597e-16-1.429401e-                    35j</td>\n      <td>4.734095e-14-9.075945e-                    32j</td>\n      <td>4.734100e-14+3.620748e-                    32j</td>\n      <td>4.731597e-14-1.540744e-                    32j</td>\n      <td>4.731602e-14+3.081488e-                    33j</td>\n      <td>4.901534e-14+1.540744e-                    33j</td>\n      <td>4.901534e-14-7.703720e-                    33j</td>\n      <td>...</td>\n      <td>3.655128e-07+1.203612e-                    25j</td>\n      <td>3.655128e-07-1.163223e-                    25j</td>\n      <td>2.837668e-07+1.777146e-                    26j</td>\n      <td>2.837668e-07-1.777146e-                    26j</td>\n      <td>0.000001+0.000000j</td>\n      <td>0.000001-0.000000j</td>\n      <td>0.000003+0.000000j</td>\n      <td>0.000003-0.000000j</td>\n      <td>2.741812e-06+1.143836e-                    24j</td>\n      <td>2.741812e-06-1.143836e-                    24j</td>\n    </tr>\n    <tr>\n      <th>6</th>\n      <td>Yb</td>\n      <td>3</td>\n      <td>2.675761e-16+2.407412e-                    35j</td>\n      <td>2.675761e-16-3.009266e-                    35j</td>\n      <td>6.763285e-15-1.194077e-                    32j</td>\n      <td>6.763282e-15+7.703720e-                    33j</td>\n      <td>6.720381e-15+6.162976e-                    33j</td>\n      <td>6.720377e-15-6.162976e-                    33j</td>\n      <td>6.976199e-15-6.162976e-                    33j</td>\n      <td>6.976199e-15+1.925930e-                    33j</td>\n      <td>...</td>\n      <td>1.006344e+00+1.768605e-                    18j</td>\n      <td>1.006344e+00-1.792322e-                    18j</td>\n      <td>1.001817e+00-3.049319e-                    20j</td>\n      <td>1.001817e+00+3.049319e-                    20j</td>\n      <td>1.012586+0.000000j</td>\n      <td>1.012586-0.000000j</td>\n      <td>1.013627-0.000000j</td>\n      <td>1.013627+0.000000j</td>\n      <td>1.015991e+00+4.218224e-                    18j</td>\n      <td>1.015991e+00-4.218224e-                    18j</td>\n    </tr>\n  </tbody>\n</table>\n<p>7 rows × 428 columns</p>\n</div>"
     },
     "execution_count": 127,
     "metadata": {},
     "output_type": "execute_result"
    }
   ],
   "source": [
    "pd.concat([fragments, Ip2], axis=1)"
   ],
   "metadata": {
    "collapsed": false,
    "ExecuteTime": {
     "end_time": "2024-02-28T06:38:25.847433Z",
     "start_time": "2024-02-28T06:38:25.807642Z"
    }
   },
   "id": "afd009fbefef6589",
   "execution_count": 127
  },
  {
   "cell_type": "code",
   "outputs": [
    {
     "name": "stdout",
     "output_type": "stream",
     "text": [
      "  Complete contraction:  pat,Ftv,tv,ab,pbv->Fp\n",
      "         Naive scaling:  6\n",
      "     Optimized scaling:  5\n",
      "      Naive FLOP count:  2.706e+09\n",
      "  Optimized FLOP count:  8.128e+08\n",
      "   Theoretical speedup:  3.329\n",
      "  Largest intermediate:  3.176e+05 elements\n",
      "--------------------------------------------------------------------------\n",
      "scaling                  current                                remaining\n",
      "--------------------------------------------------------------------------\n",
      "   4                 ab,pat->btp                       Ftv,tv,pbv,btp->Fp\n",
      "   3                 tv,Ftv->Ftv                          pbv,btp,Ftv->Fp\n",
      "   5             Ftv,btp,pbv->Fp                                   Fp->Fp\n"
     ]
    }
   ],
   "source": [
    "path, info = np.einsum_path('pat,Ftv,tv,ab,pbv->Fp', C, F, S, I2, C.conj(), optimize='optimal')\n",
    "print(info)"
   ],
   "metadata": {
    "collapsed": false,
    "ExecuteTime": {
     "end_time": "2024-02-28T06:09:34.037487Z",
     "start_time": "2024-02-28T06:09:33.967100Z"
    }
   },
   "id": "c946e4931e300c23",
   "execution_count": 79
  },
  {
   "cell_type": "code",
   "outputs": [
    {
     "data": {
      "text/plain": "False"
     },
     "execution_count": 76,
     "metadata": {},
     "output_type": "execute_result"
    }
   ],
   "source": [
    "np.array_equal(Ip1, Ip2)"
   ],
   "metadata": {
    "collapsed": false,
    "ExecuteTime": {
     "end_time": "2024-02-28T06:09:08.808047Z",
     "start_time": "2024-02-28T06:09:08.763016Z"
    }
   },
   "id": "eae50fe3e64d536",
   "execution_count": 76
  },
  {
   "cell_type": "code",
   "outputs": [
    {
     "data": {
      "text/plain": "\u001B[34m╭─\u001B[0m\u001B[34m────────────────────────────────────────\u001B[0m\u001B[34m \u001B[0m\u001B[1;34m<\u001B[0m\u001B[1;95mclass\u001B[0m\u001B[39m \u001B[0m\u001B[32m'h5py._hl.files.File'\u001B[0m\u001B[1;34m>\u001B[0m\u001B[34m \u001B[0m\u001B[34m────────────────────────────────────────\u001B[0m\u001B[34m─╮\u001B[0m\n\u001B[34m│\u001B[0m \u001B[3;96mclass \u001B[0m\u001B[1;31mFile\u001B[0m\u001B[1m(\u001B[0mname, \u001B[33mmode\u001B[0m=\u001B[32m'r'\u001B[0m, \u001B[33mdriver\u001B[0m=\u001B[3;35mNone\u001B[0m, \u001B[33mlibver\u001B[0m=\u001B[3;35mNone\u001B[0m, \u001B[33muserblock_size\u001B[0m=\u001B[3;35mNone\u001B[0m, \u001B[33mswmr\u001B[0m=\u001B[3;91mFalse\u001B[0m, \u001B[33mrdcc_nslots\u001B[0m=\u001B[3;35mNone\u001B[0m,         \u001B[34m│\u001B[0m\n\u001B[34m│\u001B[0m \u001B[33mrdcc_nbytes\u001B[0m=\u001B[3;35mNone\u001B[0m, \u001B[33mrdcc_w0\u001B[0m=\u001B[3;35mNone\u001B[0m, \u001B[33mtrack_order\u001B[0m=\u001B[3;35mNone\u001B[0m, \u001B[33mfs_strategy\u001B[0m=\u001B[3;35mNone\u001B[0m, \u001B[33mfs_persist\u001B[0m=\u001B[3;91mFalse\u001B[0m, \u001B[33mfs_threshold\u001B[0m=\u001B[1;36m1\u001B[0m,           \u001B[34m│\u001B[0m\n\u001B[34m│\u001B[0m \u001B[33mfs_page_size\u001B[0m=\u001B[3;35mNone\u001B[0m, \u001B[33mpage_buf_size\u001B[0m=\u001B[3;35mNone\u001B[0m, \u001B[33mmin_meta_keep\u001B[0m=\u001B[1;36m0\u001B[0m, \u001B[33mmin_raw_keep\u001B[0m=\u001B[1;36m0\u001B[0m, \u001B[33mlocking\u001B[0m=\u001B[3;35mNone\u001B[0m, \u001B[33malignment_threshold\u001B[0m=\u001B[1;36m1\u001B[0m,    \u001B[34m│\u001B[0m\n\u001B[34m│\u001B[0m \u001B[33malignment_interval\u001B[0m=\u001B[1;36m1\u001B[0m, \u001B[33mmeta_block_size\u001B[0m=\u001B[3;35mNone\u001B[0m, **kwds\u001B[1m)\u001B[0m:                                                            \u001B[34m│\u001B[0m\n\u001B[34m│\u001B[0m                                                                                                                 \u001B[34m│\u001B[0m\n\u001B[34m│\u001B[0m \u001B[36mRepresents an HDF5 file.\u001B[0m                                                                                        \u001B[34m│\u001B[0m\n\u001B[34m│\u001B[0m                                                                                                                 \u001B[34m│\u001B[0m\n\u001B[34m│\u001B[0m           \u001B[3;33mattrs\u001B[0m = \u001B[1m<\u001B[0m\u001B[1;95mproperty\u001B[0m\u001B[39m object at \u001B[0m\u001B[1;36m0x118dbfce0\u001B[0m\u001B[1m>\u001B[0m                                                              \u001B[34m│\u001B[0m\n\u001B[34m│\u001B[0m          \u001B[3;33mdriver\u001B[0m = \u001B[1m<\u001B[0m\u001B[1;95mproperty\u001B[0m\u001B[39m object at \u001B[0m\u001B[1;36m0x119121fd0\u001B[0m\u001B[1m>\u001B[0m                                                              \u001B[34m│\u001B[0m\n\u001B[34m│\u001B[0m            \u001B[3;33mfile\u001B[0m = \u001B[1m<\u001B[0m\u001B[1;95mproperty\u001B[0m\u001B[39m object at \u001B[0m\u001B[1;36m0x118dbf2e0\u001B[0m\u001B[1m>\u001B[0m                                                              \u001B[34m│\u001B[0m\n\u001B[34m│\u001B[0m        \u001B[3;33mfilename\u001B[0m = \u001B[1m<\u001B[0m\u001B[1;95mproperty\u001B[0m\u001B[39m object at \u001B[0m\u001B[1;36m0x118dbfdd0\u001B[0m\u001B[1m>\u001B[0m                                                              \u001B[34m│\u001B[0m\n\u001B[34m│\u001B[0m              \u001B[3;33mid\u001B[0m = \u001B[1m<\u001B[0m\u001B[1;95mproperty\u001B[0m\u001B[39m object at \u001B[0m\u001B[1;36m0x118dbf790\u001B[0m\u001B[1m>\u001B[0m                                                              \u001B[34m│\u001B[0m\n\u001B[34m│\u001B[0m          \u001B[3;33mlibver\u001B[0m = \u001B[1m<\u001B[0m\u001B[1;95mproperty\u001B[0m\u001B[39m object at \u001B[0m\u001B[1;36m0x119122020\u001B[0m\u001B[1m>\u001B[0m                                                              \u001B[34m│\u001B[0m\n\u001B[34m│\u001B[0m \u001B[3;33mmeta_block_size\u001B[0m = \u001B[1m<\u001B[0m\u001B[1;95mproperty\u001B[0m\u001B[39m object at \u001B[0m\u001B[1;36m0x1191220c0\u001B[0m\u001B[1m>\u001B[0m                                                              \u001B[34m│\u001B[0m\n\u001B[34m│\u001B[0m            \u001B[3;33mmode\u001B[0m = \u001B[1m<\u001B[0m\u001B[1;95mproperty\u001B[0m\u001B[39m object at \u001B[0m\u001B[1;36m0x119121f80\u001B[0m\u001B[1m>\u001B[0m                                                              \u001B[34m│\u001B[0m\n\u001B[34m│\u001B[0m            \u001B[3;33mname\u001B[0m = \u001B[1m<\u001B[0m\u001B[1;95mproperty\u001B[0m\u001B[39m object at \u001B[0m\u001B[1;36m0x118dbf380\u001B[0m\u001B[1m>\u001B[0m                                                              \u001B[34m│\u001B[0m\n\u001B[34m│\u001B[0m          \u001B[3;33mparent\u001B[0m = \u001B[1m<\u001B[0m\u001B[1;95mproperty\u001B[0m\u001B[39m object at \u001B[0m\u001B[1;36m0x118dbf4c0\u001B[0m\u001B[1m>\u001B[0m                                                              \u001B[34m│\u001B[0m\n\u001B[34m│\u001B[0m             \u001B[3;33mref\u001B[0m = \u001B[1m<\u001B[0m\u001B[1;95mproperty\u001B[0m\u001B[39m object at \u001B[0m\u001B[1;36m0x118dbf7e0\u001B[0m\u001B[1m>\u001B[0m                                                              \u001B[34m│\u001B[0m\n\u001B[34m│\u001B[0m       \u001B[3;33mregionref\u001B[0m = \u001B[1m<\u001B[0m\u001B[1;95mproperty\u001B[0m\u001B[39m object at \u001B[0m\u001B[1;36m0x118dbf830\u001B[0m\u001B[1m>\u001B[0m                                                              \u001B[34m│\u001B[0m\n\u001B[34m│\u001B[0m       \u001B[3;33mswmr_mode\u001B[0m = \u001B[1m<\u001B[0m\u001B[1;95mproperty\u001B[0m\u001B[39m object at \u001B[0m\u001B[1;36m0x1191221b0\u001B[0m\u001B[1m>\u001B[0m                                                              \u001B[34m│\u001B[0m\n\u001B[34m│\u001B[0m  \u001B[3;33muserblock_size\u001B[0m = \u001B[1m<\u001B[0m\u001B[1;95mproperty\u001B[0m\u001B[39m object at \u001B[0m\u001B[1;36m0x119122070\u001B[0m\u001B[1m>\u001B[0m                                                              \u001B[34m│\u001B[0m\n\u001B[34m╰─────────────────────────────────────────────────────────────────────────────────────────────────────────────────╯\u001B[0m\n",
      "text/html": "<pre style=\"white-space:pre;overflow-x:auto;line-height:normal;font-family:Menlo,'DejaVu Sans Mono',consolas,'Courier New',monospace\"><span style=\"color: #000080; text-decoration-color: #000080\">╭───────────────────────────────────────── </span><span style=\"color: #000080; text-decoration-color: #000080; font-weight: bold\">&lt;</span><span style=\"color: #ff00ff; text-decoration-color: #ff00ff; font-weight: bold\">class</span><span style=\"color: #000000; text-decoration-color: #000000\"> </span><span style=\"color: #008000; text-decoration-color: #008000\">'h5py._hl.files.File'</span><span style=\"color: #000080; text-decoration-color: #000080; font-weight: bold\">&gt;</span><span style=\"color: #000080; text-decoration-color: #000080\"> ─────────────────────────────────────────╮</span>\n<span style=\"color: #000080; text-decoration-color: #000080\">│</span> <span style=\"color: #00ffff; text-decoration-color: #00ffff; font-style: italic\">class </span><span style=\"color: #800000; text-decoration-color: #800000; font-weight: bold\">File</span><span style=\"font-weight: bold\">(</span>name, <span style=\"color: #808000; text-decoration-color: #808000\">mode</span>=<span style=\"color: #008000; text-decoration-color: #008000\">'r'</span>, <span style=\"color: #808000; text-decoration-color: #808000\">driver</span>=<span style=\"color: #800080; text-decoration-color: #800080; font-style: italic\">None</span>, <span style=\"color: #808000; text-decoration-color: #808000\">libver</span>=<span style=\"color: #800080; text-decoration-color: #800080; font-style: italic\">None</span>, <span style=\"color: #808000; text-decoration-color: #808000\">userblock_size</span>=<span style=\"color: #800080; text-decoration-color: #800080; font-style: italic\">None</span>, <span style=\"color: #808000; text-decoration-color: #808000\">swmr</span>=<span style=\"color: #ff0000; text-decoration-color: #ff0000; font-style: italic\">False</span>, <span style=\"color: #808000; text-decoration-color: #808000\">rdcc_nslots</span>=<span style=\"color: #800080; text-decoration-color: #800080; font-style: italic\">None</span>,         <span style=\"color: #000080; text-decoration-color: #000080\">│</span>\n<span style=\"color: #000080; text-decoration-color: #000080\">│</span> <span style=\"color: #808000; text-decoration-color: #808000\">rdcc_nbytes</span>=<span style=\"color: #800080; text-decoration-color: #800080; font-style: italic\">None</span>, <span style=\"color: #808000; text-decoration-color: #808000\">rdcc_w0</span>=<span style=\"color: #800080; text-decoration-color: #800080; font-style: italic\">None</span>, <span style=\"color: #808000; text-decoration-color: #808000\">track_order</span>=<span style=\"color: #800080; text-decoration-color: #800080; font-style: italic\">None</span>, <span style=\"color: #808000; text-decoration-color: #808000\">fs_strategy</span>=<span style=\"color: #800080; text-decoration-color: #800080; font-style: italic\">None</span>, <span style=\"color: #808000; text-decoration-color: #808000\">fs_persist</span>=<span style=\"color: #ff0000; text-decoration-color: #ff0000; font-style: italic\">False</span>, <span style=\"color: #808000; text-decoration-color: #808000\">fs_threshold</span>=<span style=\"color: #008080; text-decoration-color: #008080; font-weight: bold\">1</span>,           <span style=\"color: #000080; text-decoration-color: #000080\">│</span>\n<span style=\"color: #000080; text-decoration-color: #000080\">│</span> <span style=\"color: #808000; text-decoration-color: #808000\">fs_page_size</span>=<span style=\"color: #800080; text-decoration-color: #800080; font-style: italic\">None</span>, <span style=\"color: #808000; text-decoration-color: #808000\">page_buf_size</span>=<span style=\"color: #800080; text-decoration-color: #800080; font-style: italic\">None</span>, <span style=\"color: #808000; text-decoration-color: #808000\">min_meta_keep</span>=<span style=\"color: #008080; text-decoration-color: #008080; font-weight: bold\">0</span>, <span style=\"color: #808000; text-decoration-color: #808000\">min_raw_keep</span>=<span style=\"color: #008080; text-decoration-color: #008080; font-weight: bold\">0</span>, <span style=\"color: #808000; text-decoration-color: #808000\">locking</span>=<span style=\"color: #800080; text-decoration-color: #800080; font-style: italic\">None</span>, <span style=\"color: #808000; text-decoration-color: #808000\">alignment_threshold</span>=<span style=\"color: #008080; text-decoration-color: #008080; font-weight: bold\">1</span>,    <span style=\"color: #000080; text-decoration-color: #000080\">│</span>\n<span style=\"color: #000080; text-decoration-color: #000080\">│</span> <span style=\"color: #808000; text-decoration-color: #808000\">alignment_interval</span>=<span style=\"color: #008080; text-decoration-color: #008080; font-weight: bold\">1</span>, <span style=\"color: #808000; text-decoration-color: #808000\">meta_block_size</span>=<span style=\"color: #800080; text-decoration-color: #800080; font-style: italic\">None</span>, **kwds<span style=\"font-weight: bold\">)</span>:                                                            <span style=\"color: #000080; text-decoration-color: #000080\">│</span>\n<span style=\"color: #000080; text-decoration-color: #000080\">│</span>                                                                                                                 <span style=\"color: #000080; text-decoration-color: #000080\">│</span>\n<span style=\"color: #000080; text-decoration-color: #000080\">│</span> <span style=\"color: #008080; text-decoration-color: #008080\">Represents an HDF5 file.</span>                                                                                        <span style=\"color: #000080; text-decoration-color: #000080\">│</span>\n<span style=\"color: #000080; text-decoration-color: #000080\">│</span>                                                                                                                 <span style=\"color: #000080; text-decoration-color: #000080\">│</span>\n<span style=\"color: #000080; text-decoration-color: #000080\">│</span>           <span style=\"color: #808000; text-decoration-color: #808000; font-style: italic\">attrs</span> = <span style=\"font-weight: bold\">&lt;</span><span style=\"color: #ff00ff; text-decoration-color: #ff00ff; font-weight: bold\">property</span><span style=\"color: #000000; text-decoration-color: #000000\"> object at </span><span style=\"color: #008080; text-decoration-color: #008080; font-weight: bold\">0x118dbfce0</span><span style=\"font-weight: bold\">&gt;</span>                                                              <span style=\"color: #000080; text-decoration-color: #000080\">│</span>\n<span style=\"color: #000080; text-decoration-color: #000080\">│</span>          <span style=\"color: #808000; text-decoration-color: #808000; font-style: italic\">driver</span> = <span style=\"font-weight: bold\">&lt;</span><span style=\"color: #ff00ff; text-decoration-color: #ff00ff; font-weight: bold\">property</span><span style=\"color: #000000; text-decoration-color: #000000\"> object at </span><span style=\"color: #008080; text-decoration-color: #008080; font-weight: bold\">0x119121fd0</span><span style=\"font-weight: bold\">&gt;</span>                                                              <span style=\"color: #000080; text-decoration-color: #000080\">│</span>\n<span style=\"color: #000080; text-decoration-color: #000080\">│</span>            <span style=\"color: #808000; text-decoration-color: #808000; font-style: italic\">file</span> = <span style=\"font-weight: bold\">&lt;</span><span style=\"color: #ff00ff; text-decoration-color: #ff00ff; font-weight: bold\">property</span><span style=\"color: #000000; text-decoration-color: #000000\"> object at </span><span style=\"color: #008080; text-decoration-color: #008080; font-weight: bold\">0x118dbf2e0</span><span style=\"font-weight: bold\">&gt;</span>                                                              <span style=\"color: #000080; text-decoration-color: #000080\">│</span>\n<span style=\"color: #000080; text-decoration-color: #000080\">│</span>        <span style=\"color: #808000; text-decoration-color: #808000; font-style: italic\">filename</span> = <span style=\"font-weight: bold\">&lt;</span><span style=\"color: #ff00ff; text-decoration-color: #ff00ff; font-weight: bold\">property</span><span style=\"color: #000000; text-decoration-color: #000000\"> object at </span><span style=\"color: #008080; text-decoration-color: #008080; font-weight: bold\">0x118dbfdd0</span><span style=\"font-weight: bold\">&gt;</span>                                                              <span style=\"color: #000080; text-decoration-color: #000080\">│</span>\n<span style=\"color: #000080; text-decoration-color: #000080\">│</span>              <span style=\"color: #808000; text-decoration-color: #808000; font-style: italic\">id</span> = <span style=\"font-weight: bold\">&lt;</span><span style=\"color: #ff00ff; text-decoration-color: #ff00ff; font-weight: bold\">property</span><span style=\"color: #000000; text-decoration-color: #000000\"> object at </span><span style=\"color: #008080; text-decoration-color: #008080; font-weight: bold\">0x118dbf790</span><span style=\"font-weight: bold\">&gt;</span>                                                              <span style=\"color: #000080; text-decoration-color: #000080\">│</span>\n<span style=\"color: #000080; text-decoration-color: #000080\">│</span>          <span style=\"color: #808000; text-decoration-color: #808000; font-style: italic\">libver</span> = <span style=\"font-weight: bold\">&lt;</span><span style=\"color: #ff00ff; text-decoration-color: #ff00ff; font-weight: bold\">property</span><span style=\"color: #000000; text-decoration-color: #000000\"> object at </span><span style=\"color: #008080; text-decoration-color: #008080; font-weight: bold\">0x119122020</span><span style=\"font-weight: bold\">&gt;</span>                                                              <span style=\"color: #000080; text-decoration-color: #000080\">│</span>\n<span style=\"color: #000080; text-decoration-color: #000080\">│</span> <span style=\"color: #808000; text-decoration-color: #808000; font-style: italic\">meta_block_size</span> = <span style=\"font-weight: bold\">&lt;</span><span style=\"color: #ff00ff; text-decoration-color: #ff00ff; font-weight: bold\">property</span><span style=\"color: #000000; text-decoration-color: #000000\"> object at </span><span style=\"color: #008080; text-decoration-color: #008080; font-weight: bold\">0x1191220c0</span><span style=\"font-weight: bold\">&gt;</span>                                                              <span style=\"color: #000080; text-decoration-color: #000080\">│</span>\n<span style=\"color: #000080; text-decoration-color: #000080\">│</span>            <span style=\"color: #808000; text-decoration-color: #808000; font-style: italic\">mode</span> = <span style=\"font-weight: bold\">&lt;</span><span style=\"color: #ff00ff; text-decoration-color: #ff00ff; font-weight: bold\">property</span><span style=\"color: #000000; text-decoration-color: #000000\"> object at </span><span style=\"color: #008080; text-decoration-color: #008080; font-weight: bold\">0x119121f80</span><span style=\"font-weight: bold\">&gt;</span>                                                              <span style=\"color: #000080; text-decoration-color: #000080\">│</span>\n<span style=\"color: #000080; text-decoration-color: #000080\">│</span>            <span style=\"color: #808000; text-decoration-color: #808000; font-style: italic\">name</span> = <span style=\"font-weight: bold\">&lt;</span><span style=\"color: #ff00ff; text-decoration-color: #ff00ff; font-weight: bold\">property</span><span style=\"color: #000000; text-decoration-color: #000000\"> object at </span><span style=\"color: #008080; text-decoration-color: #008080; font-weight: bold\">0x118dbf380</span><span style=\"font-weight: bold\">&gt;</span>                                                              <span style=\"color: #000080; text-decoration-color: #000080\">│</span>\n<span style=\"color: #000080; text-decoration-color: #000080\">│</span>          <span style=\"color: #808000; text-decoration-color: #808000; font-style: italic\">parent</span> = <span style=\"font-weight: bold\">&lt;</span><span style=\"color: #ff00ff; text-decoration-color: #ff00ff; font-weight: bold\">property</span><span style=\"color: #000000; text-decoration-color: #000000\"> object at </span><span style=\"color: #008080; text-decoration-color: #008080; font-weight: bold\">0x118dbf4c0</span><span style=\"font-weight: bold\">&gt;</span>                                                              <span style=\"color: #000080; text-decoration-color: #000080\">│</span>\n<span style=\"color: #000080; text-decoration-color: #000080\">│</span>             <span style=\"color: #808000; text-decoration-color: #808000; font-style: italic\">ref</span> = <span style=\"font-weight: bold\">&lt;</span><span style=\"color: #ff00ff; text-decoration-color: #ff00ff; font-weight: bold\">property</span><span style=\"color: #000000; text-decoration-color: #000000\"> object at </span><span style=\"color: #008080; text-decoration-color: #008080; font-weight: bold\">0x118dbf7e0</span><span style=\"font-weight: bold\">&gt;</span>                                                              <span style=\"color: #000080; text-decoration-color: #000080\">│</span>\n<span style=\"color: #000080; text-decoration-color: #000080\">│</span>       <span style=\"color: #808000; text-decoration-color: #808000; font-style: italic\">regionref</span> = <span style=\"font-weight: bold\">&lt;</span><span style=\"color: #ff00ff; text-decoration-color: #ff00ff; font-weight: bold\">property</span><span style=\"color: #000000; text-decoration-color: #000000\"> object at </span><span style=\"color: #008080; text-decoration-color: #008080; font-weight: bold\">0x118dbf830</span><span style=\"font-weight: bold\">&gt;</span>                                                              <span style=\"color: #000080; text-decoration-color: #000080\">│</span>\n<span style=\"color: #000080; text-decoration-color: #000080\">│</span>       <span style=\"color: #808000; text-decoration-color: #808000; font-style: italic\">swmr_mode</span> = <span style=\"font-weight: bold\">&lt;</span><span style=\"color: #ff00ff; text-decoration-color: #ff00ff; font-weight: bold\">property</span><span style=\"color: #000000; text-decoration-color: #000000\"> object at </span><span style=\"color: #008080; text-decoration-color: #008080; font-weight: bold\">0x1191221b0</span><span style=\"font-weight: bold\">&gt;</span>                                                              <span style=\"color: #000080; text-decoration-color: #000080\">│</span>\n<span style=\"color: #000080; text-decoration-color: #000080\">│</span>  <span style=\"color: #808000; text-decoration-color: #808000; font-style: italic\">userblock_size</span> = <span style=\"font-weight: bold\">&lt;</span><span style=\"color: #ff00ff; text-decoration-color: #ff00ff; font-weight: bold\">property</span><span style=\"color: #000000; text-decoration-color: #000000\"> object at </span><span style=\"color: #008080; text-decoration-color: #008080; font-weight: bold\">0x119122070</span><span style=\"font-weight: bold\">&gt;</span>                                                              <span style=\"color: #000080; text-decoration-color: #000080\">│</span>\n<span style=\"color: #000080; text-decoration-color: #000080\">╰─────────────────────────────────────────────────────────────────────────────────────────────────────────────────╯</span>\n</pre>\n"
     },
     "metadata": {},
     "output_type": "display_data"
    }
   ],
   "source": [
    "from rich import inspect\n",
    "import h5py\n",
    "\n",
    "inspect(h5py.File)"
   ],
   "metadata": {
    "collapsed": false,
    "ExecuteTime": {
     "end_time": "2024-02-28T16:10:00.642792Z",
     "start_time": "2024-02-28T16:10:00.587801Z"
    }
   },
   "id": "ab7c7796985f1a58",
   "execution_count": 54
  },
  {
   "cell_type": "code",
   "outputs": [
    {
     "ename": "SyntaxError",
     "evalue": "invalid syntax (1561671745.py, line 1)",
     "output_type": "error",
     "traceback": [
      "\u001B[0;36m  Cell \u001B[0;32mIn[7], line 1\u001B[0;36m\u001B[0m\n\u001B[0;31m    |k = list(data[-1][Link.L302].keys())[0]\u001B[0m\n\u001B[0m    ^\u001B[0m\n\u001B[0;31mSyntaxError\u001B[0m\u001B[0;31m:\u001B[0m invalid syntax\n"
     ]
    }
   ],
   "source": [
    "|k = list(data[-1][Link.L302].keys())[0]"
   ],
   "metadata": {
    "collapsed": false,
    "ExecuteTime": {
     "end_time": "2024-02-28T03:58:13.681782Z",
     "start_time": "2024-02-28T03:58:13.629045Z"
    }
   },
   "id": "ea79133431511452",
   "execution_count": 7
  },
  {
   "cell_type": "code",
   "outputs": [
    {
     "ename": "NameError",
     "evalue": "name 'data' is not defined",
     "output_type": "error",
     "traceback": [
      "\u001B[0;31m---------------------------------------------------------------------------\u001B[0m",
      "\u001B[0;31mNameError\u001B[0m                                 Traceback (most recent call last)",
      "Cell \u001B[0;32mIn[8], line 1\u001B[0m\n\u001B[0;32m----> 1\u001B[0m array \u001B[38;5;241m=\u001B[39m \u001B[43mdata\u001B[49m[\u001B[38;5;241m-\u001B[39m\u001B[38;5;241m1\u001B[39m][Link\u001B[38;5;241m.\u001B[39mL302][Resources\u001B[38;5;241m.\u001B[39mao_int1e_overlap]\n",
      "\u001B[0;31mNameError\u001B[0m: name 'data' is not defined"
     ]
    }
   ],
   "source": [
    "array = data[-1][Link.L302][Resources.ao_int1e_overlap]"
   ],
   "metadata": {
    "collapsed": false,
    "ExecuteTime": {
     "end_time": "2024-02-28T03:58:14.174916Z",
     "start_time": "2024-02-28T03:58:13.688376Z"
    }
   },
   "id": "2b0f35bafe6b5058",
   "execution_count": 8
  },
  {
   "cell_type": "code",
   "outputs": [],
   "source": [
    "dim = 575\n",
    "\n",
    "tril = np.tril_indices(575)\n",
    "matrix = np.zeros((dim, dim))\n",
    "matrix[tril] = array"
   ],
   "metadata": {
    "collapsed": false,
    "ExecuteTime": {
     "start_time": "2024-02-28T03:58:13.889570Z"
    }
   },
   "id": "edd52bf4b738aa78",
   "execution_count": null
  },
  {
   "cell_type": "code",
   "outputs": [
    {
     "ename": "NameError",
     "evalue": "name 'matrix' is not defined",
     "output_type": "error",
     "traceback": [
      "\u001B[0;31m---------------------------------------------------------------------------\u001B[0m",
      "\u001B[0;31mNameError\u001B[0m                                 Traceback (most recent call last)",
      "Cell \u001B[0;32mIn[9], line 1\u001B[0m\n\u001B[0;32m----> 1\u001B[0m m1 \u001B[38;5;241m=\u001B[39m (\u001B[43mmatrix\u001B[49m \u001B[38;5;241m+\u001B[39m matrix\u001B[38;5;241m.\u001B[39mT \u001B[38;5;241m-\u001B[39m matrix\u001B[38;5;241m.\u001B[39mdiagonal())\u001B[38;5;241m.\u001B[39mcopy()\n\u001B[1;32m      2\u001B[0m m2 \u001B[38;5;241m=\u001B[39m matrix\u001B[38;5;241m.\u001B[39mcopy()\n\u001B[1;32m      4\u001B[0m m2 \u001B[38;5;241m+\u001B[39m\u001B[38;5;241m=\u001B[39m m2\u001B[38;5;241m.\u001B[39mT \u001B[38;5;241m-\u001B[39m m2\u001B[38;5;241m.\u001B[39mdiagonal()\n",
      "\u001B[0;31mNameError\u001B[0m: name 'matrix' is not defined"
     ]
    }
   ],
   "source": [
    "m1 = (matrix + matrix.T - matrix.diagonal()).copy()\n",
    "m2 = matrix.copy()\n",
    "\n",
    "m2 += m2.T - m2.diagonal()"
   ],
   "metadata": {
    "collapsed": false,
    "ExecuteTime": {
     "end_time": "2024-02-28T03:58:14.256522Z",
     "start_time": "2024-02-28T03:58:14.186090Z"
    }
   },
   "id": "bb70fda19508f108",
   "execution_count": 9
  },
  {
   "cell_type": "code",
   "outputs": [],
   "source": [],
   "metadata": {
    "collapsed": false,
    "ExecuteTime": {
     "end_time": "2024-02-28T03:58:14.309955Z",
     "start_time": "2024-02-28T03:58:14.207535Z"
    }
   },
   "id": "1b24a23252f43377",
   "execution_count": 9
  },
  {
   "cell_type": "code",
   "outputs": [
    {
     "name": "stdout",
     "output_type": "stream",
     "text": [
      "Number of electrons                        I              391\n",
      "header(header='Number of electrons', dtype=<class 'numpy.int64'>, size=None, value=391)\n",
      "SCF Energy                                 R     -5.674493527405919E+04\n",
      "header(header='SCF Energy', dtype=<class 'numpy.float64'>, size=None, value=-56744.93527405919)\n",
      "Nuclear charges                            R   N=           7\n"
     ]
    },
    {
     "ename": "ValueError",
     "evalue": "invalid literal for int() with base 10: 'None'",
     "output_type": "error",
     "traceback": [
      "\u001B[0;31m---------------------------------------------------------------------------\u001B[0m",
      "\u001B[0;31mValueError\u001B[0m                                Traceback (most recent call last)",
      "Cell \u001B[0;32mIn[10], line 37\u001B[0m\n\u001B[1;32m     35\u001B[0m \u001B[38;5;28;01mfor\u001B[39;00m h \u001B[38;5;129;01min\u001B[39;00m headers:\n\u001B[1;32m     36\u001B[0m     \u001B[38;5;28mprint\u001B[39m(h)\n\u001B[0;32m---> 37\u001B[0m     \u001B[38;5;28;01mif\u001B[39;00m match \u001B[38;5;241m:=\u001B[39m \u001B[43mFCHK_HEADER_PATT\u001B[49m\u001B[38;5;241;43m.\u001B[39;49m\u001B[43mmatch\u001B[49m\u001B[43m(\u001B[49m\u001B[43mh\u001B[49m\u001B[43m)\u001B[49m:\n\u001B[1;32m     38\u001B[0m         \u001B[38;5;28mprint\u001B[39m(match)\n",
      "File \u001B[0;32m~/PycharmProjects/mctools/mctools/parsing/core/pattern.py:80\u001B[0m, in \u001B[0;36mProcessedPattern.match\u001B[0;34m(self, *args, **kwargs)\u001B[0m\n\u001B[1;32m     78\u001B[0m \u001B[38;5;28;01mdef\u001B[39;00m \u001B[38;5;21mmatch\u001B[39m(\u001B[38;5;28mself\u001B[39m, \u001B[38;5;241m*\u001B[39margs, \u001B[38;5;241m*\u001B[39m\u001B[38;5;241m*\u001B[39mkwargs) \u001B[38;5;241m-\u001B[39m\u001B[38;5;241m>\u001B[39m ReturnType \u001B[38;5;241m|\u001B[39m \u001B[38;5;28;01mNone\u001B[39;00m:\n\u001B[1;32m     79\u001B[0m     \u001B[38;5;28;01mif\u001B[39;00m match \u001B[38;5;241m:=\u001B[39m \u001B[38;5;28mself\u001B[39m\u001B[38;5;241m.\u001B[39mpattern\u001B[38;5;241m.\u001B[39mmatch(\u001B[38;5;241m*\u001B[39margs, \u001B[38;5;241m*\u001B[39m\u001B[38;5;241m*\u001B[39mkwargs):\n\u001B[0;32m---> 80\u001B[0m         \u001B[38;5;28;01mreturn\u001B[39;00m \u001B[38;5;28;43mself\u001B[39;49m\u001B[38;5;241;43m.\u001B[39;49m\u001B[43mprocess\u001B[49m\u001B[43m(\u001B[49m\u001B[43mmatch\u001B[49m\u001B[43m)\u001B[49m\n\u001B[1;32m     81\u001B[0m     \u001B[38;5;28;01mreturn\u001B[39;00m \u001B[38;5;28;01mNone\u001B[39;00m\n",
      "File \u001B[0;32m~/PycharmProjects/mctools/mctools/parsing/core/pattern.py:121\u001B[0m, in \u001B[0;36mProcessedPattern.process\u001B[0;34m(self, match)\u001B[0m\n\u001B[1;32m    119\u001B[0m \u001B[38;5;28;01mdef\u001B[39;00m \u001B[38;5;21mprocess\u001B[39m(\u001B[38;5;28mself\u001B[39m, match: re\u001B[38;5;241m.\u001B[39mMatch) \u001B[38;5;241m-\u001B[39m\u001B[38;5;241m>\u001B[39m \u001B[38;5;28mtuple\u001B[39m \u001B[38;5;241m|\u001B[39m ReturnType:\n\u001B[1;32m    120\u001B[0m     match_dict \u001B[38;5;241m=\u001B[39m \u001B[38;5;28mself\u001B[39m\u001B[38;5;241m.\u001B[39mtransform_groups(match)\n\u001B[0;32m--> 121\u001B[0m     \u001B[38;5;28;43mself\u001B[39;49m\u001B[38;5;241;43m.\u001B[39;49m\u001B[43mtransform_match\u001B[49m\u001B[43m(\u001B[49m\u001B[43mmatch_dict\u001B[49m\u001B[43m)\u001B[49m\n\u001B[1;32m    122\u001B[0m     \u001B[38;5;28;01mreturn\u001B[39;00m \u001B[38;5;28mself\u001B[39m\u001B[38;5;241m.\u001B[39mconstructor(\u001B[38;5;241m*\u001B[39m\u001B[38;5;241m*\u001B[39mmatch_dict)\n",
      "File \u001B[0;32m~/PycharmProjects/mctools/mctools/parsing/core/pattern.py:117\u001B[0m, in \u001B[0;36mProcessedPattern.transform_match\u001B[0;34m(self, match_dict)\u001B[0m\n\u001B[1;32m    115\u001B[0m \u001B[38;5;28;01mdef\u001B[39;00m \u001B[38;5;21mtransform_match\u001B[39m(\u001B[38;5;28mself\u001B[39m, match_dict: MatchDict):\n\u001B[1;32m    116\u001B[0m     \u001B[38;5;28;01mfor\u001B[39;00m key, func \u001B[38;5;129;01min\u001B[39;00m \u001B[38;5;28mself\u001B[39m\u001B[38;5;241m.\u001B[39mmatch_funcs\u001B[38;5;241m.\u001B[39mitems():\n\u001B[0;32m--> 117\u001B[0m         match_dict[key] \u001B[38;5;241m=\u001B[39m \u001B[43mfunc\u001B[49m\u001B[43m(\u001B[49m\u001B[43mmatch_dict\u001B[49m\u001B[43m)\u001B[49m\n",
      "Cell \u001B[0;32mIn[10], line 25\u001B[0m, in \u001B[0;36m<lambda>\u001B[0;34m(m)\u001B[0m\n\u001B[1;32m     12\u001B[0m         \u001B[38;5;28;01mcase\u001B[39;00m\u001B[38;5;250m \u001B[39m\u001B[38;5;28;01m_\u001B[39;00m:\n\u001B[1;32m     13\u001B[0m             \u001B[38;5;28;01mraise\u001B[39;00m \u001B[38;5;167;01mValueError\u001B[39;00m(\u001B[38;5;124mf\u001B[39m\u001B[38;5;124m'\u001B[39m\u001B[38;5;124mInvalid data_type: \u001B[39m\u001B[38;5;132;01m{\u001B[39;00mchar\u001B[38;5;132;01m}\u001B[39;00m\u001B[38;5;124m'\u001B[39m)\n\u001B[1;32m     15\u001B[0m FCHK_HEADER_PATT \u001B[38;5;241m=\u001B[39m ProcessedPattern(\n\u001B[1;32m     16\u001B[0m     \u001B[38;5;124mr\u001B[39m\u001B[38;5;124m'\u001B[39m\u001B[38;5;124m(?P<header>([A-Z][a-zA-Z]+)(\u001B[39m\u001B[38;5;124m\\\u001B[39m\u001B[38;5;124ms[a-zA-Z]+)+)\u001B[39m\u001B[38;5;124m\\\u001B[39m\u001B[38;5;124ms+\u001B[39m\u001B[38;5;124m'\u001B[39m\n\u001B[1;32m     17\u001B[0m     \u001B[38;5;124mr\u001B[39m\u001B[38;5;124m'\u001B[39m\u001B[38;5;124m(?P<dtype>[IRCHL])\u001B[39m\u001B[38;5;124m\\\u001B[39m\u001B[38;5;124ms+\u001B[39m\u001B[38;5;124m'\u001B[39m\n\u001B[1;32m     18\u001B[0m     \u001B[38;5;124mr\u001B[39m\u001B[38;5;124m'\u001B[39m\u001B[38;5;124m((N=\u001B[39m\u001B[38;5;124m\\\u001B[39m\u001B[38;5;124ms+(?P<size>\u001B[39m\u001B[38;5;124m\\\u001B[39m\u001B[38;5;124md+))|(?P<value>[+-]?\u001B[39m\u001B[38;5;124m\\\u001B[39m\u001B[38;5;124md+(\u001B[39m\u001B[38;5;124m\\\u001B[39m\u001B[38;5;124m.\u001B[39m\u001B[38;5;124m\\\u001B[39m\u001B[38;5;124md+[dDeE]\u001B[39m\u001B[38;5;124m\\\u001B[39m\u001B[38;5;124m+\u001B[39m\u001B[38;5;124m\\\u001B[39m\u001B[38;5;124md+)?))\u001B[39m\u001B[38;5;124m'\u001B[39m,\n\u001B[1;32m     19\u001B[0m     constructor\u001B[38;5;241m=\u001B[39m\u001B[38;5;124m'\u001B[39m\u001B[38;5;124mheader\u001B[39m\u001B[38;5;124m'\u001B[39m,\n\u001B[1;32m     20\u001B[0m     group_maps\u001B[38;5;241m=\u001B[39m{\n\u001B[1;32m     21\u001B[0m         \u001B[38;5;124m'\u001B[39m\u001B[38;5;124msize\u001B[39m\u001B[38;5;124m'\u001B[39m: \u001B[38;5;28;01mlambda\u001B[39;00m s: \u001B[38;5;28mint\u001B[39m(s) \u001B[38;5;28;01mif\u001B[39;00m s \u001B[38;5;28;01melse\u001B[39;00m s,\n\u001B[1;32m     22\u001B[0m         \u001B[38;5;124m'\u001B[39m\u001B[38;5;124mdtype\u001B[39m\u001B[38;5;124m'\u001B[39m: process_data_type,\n\u001B[1;32m     23\u001B[0m     },\n\u001B[1;32m     24\u001B[0m     match_funcs\u001B[38;5;241m=\u001B[39m{\n\u001B[0;32m---> 25\u001B[0m         \u001B[38;5;124m'\u001B[39m\u001B[38;5;124mvalue\u001B[39m\u001B[38;5;124m'\u001B[39m: \u001B[38;5;28;01mlambda\u001B[39;00m m: (\u001B[38;5;28;43mint\u001B[39;49m\u001B[43m(\u001B[49m\u001B[43mm\u001B[49m\u001B[38;5;241;43m.\u001B[39;49m\u001B[43mpop\u001B[49m\u001B[43m(\u001B[49m\u001B[38;5;124;43m'\u001B[39;49m\u001B[38;5;124;43mvalue\u001B[39;49m\u001B[38;5;124;43m'\u001B[39;49m\u001B[43m)\u001B[49m\u001B[43m)\u001B[49m \u001B[38;5;28;01mif\u001B[39;00m m[\u001B[38;5;124m'\u001B[39m\u001B[38;5;124msize\u001B[39m\u001B[38;5;124m'\u001B[39m] \u001B[38;5;28;01melse\u001B[39;00m m[\u001B[38;5;124m'\u001B[39m\u001B[38;5;124mdtype\u001B[39m\u001B[38;5;124m'\u001B[39m](m\u001B[38;5;241m.\u001B[39mpop(\u001B[38;5;124m'\u001B[39m\u001B[38;5;124mvalue\u001B[39m\u001B[38;5;124m'\u001B[39m))) \u001B[38;5;28;01mif\u001B[39;00m m[\u001B[38;5;124m'\u001B[39m\u001B[38;5;124mvalue\u001B[39m\u001B[38;5;124m'\u001B[39m] \u001B[38;5;28;01melse\u001B[39;00m \u001B[38;5;28;01mNone\u001B[39;00m\n\u001B[1;32m     26\u001B[0m     }\n\u001B[1;32m     27\u001B[0m )\n\u001B[1;32m     29\u001B[0m scalar1 \u001B[38;5;241m=\u001B[39m \u001B[38;5;124m'\u001B[39m\u001B[38;5;124mNumber of electrons                        I              391\u001B[39m\u001B[38;5;124m'\u001B[39m\n\u001B[1;32m     30\u001B[0m scalar2 \u001B[38;5;241m=\u001B[39m \u001B[38;5;124m'\u001B[39m\u001B[38;5;124mSCF Energy                                 R     -5.674493527405919E+04\u001B[39m\u001B[38;5;124m'\u001B[39m\n",
      "\u001B[0;31mValueError\u001B[0m: invalid literal for int() with base 10: 'None'"
     ]
    }
   ],
   "source": [
    "import numpy as np\n",
    "from mctools.parsing.core import ProcessedPattern\n",
    "\n",
    "def process_data_type(char: str, /):\n",
    "    match char:\n",
    "        case 'R':\n",
    "            return np.float_\n",
    "        case 'I':\n",
    "            return np.int_\n",
    "        case 'C':\n",
    "            return np.str_\n",
    "        case _:\n",
    "            raise ValueError(f'Invalid data_type: {char}')\n",
    "        \n",
    "FCHK_HEADER_PATT = ProcessedPattern(\n",
    "    r'(?P<header>([A-Z][a-zA-Z]+)(\\s[a-zA-Z]+)+)\\s+'\n",
    "    r'(?P<dtype>[IRCHL])\\s+'\n",
    "    r'((N=\\s+(?P<size>\\d+))|(?P<value>[+-]?\\d+(\\.\\d+[dDeE]\\+\\d+)?))',\n",
    "    constructor='header',\n",
    "    group_maps={\n",
    "        'size': lambda s: int(s) if s else s,\n",
    "        'dtype': process_data_type,\n",
    "    },\n",
    "    match_funcs={\n",
    "        'value': lambda m: (int(m.pop('value')) if m['size'] else m['dtype'](m.pop('value'))) if m['value'] else None\n",
    "    }\n",
    ")\n",
    "\n",
    "scalar1 = 'Number of electrons                        I              391'\n",
    "scalar2 = 'SCF Energy                                 R     -5.674493527405919E+04'\n",
    "array = 'Nuclear charges                            R   N=           7'\n",
    "headers = [scalar1, scalar2, array]\n",
    "\n",
    "\n",
    "for h in headers:\n",
    "    print(h)\n",
    "    if match := FCHK_HEADER_PATT.match(h):\n",
    "        print(match)"
   ],
   "metadata": {
    "collapsed": false,
    "ExecuteTime": {
     "end_time": "2024-02-28T03:58:14.423508Z",
     "start_time": "2024-02-28T03:58:14.313633Z"
    }
   },
   "id": "337eaa22807bf05e",
   "execution_count": 10
  },
  {
   "cell_type": "code",
   "outputs": [],
   "source": [
    "|int('')"
   ],
   "metadata": {
    "collapsed": false,
    "ExecuteTime": {
     "start_time": "2024-02-28T03:58:14.417493Z"
    }
   },
   "id": "c219d55b56117df5",
   "execution_count": null
  },
  {
   "cell_type": "code",
   "outputs": [
    {
     "ename": "ModuleNotFoundError",
     "evalue": "No module named 'mctools.parsing.gaussian.log.l1'",
     "output_type": "error",
     "traceback": [
      "\u001B[0;31m---------------------------------------------------------------------------\u001B[0m",
      "\u001B[0;31mModuleNotFoundError\u001B[0m                       Traceback (most recent call last)",
      "Cell \u001B[0;32mIn[11], line 3\u001B[0m\n\u001B[1;32m      1\u001B[0m \u001B[38;5;28;01mfrom\u001B[39;00m \u001B[38;5;21;01mtyping\u001B[39;00m \u001B[38;5;28;01mimport\u001B[39;00m IO, AnyStr, Any\n\u001B[0;32m----> 3\u001B[0m \u001B[38;5;28;01mfrom\u001B[39;00m \u001B[38;5;21;01mmctools\u001B[39;00m\u001B[38;5;21;01m.\u001B[39;00m\u001B[38;5;21;01mparsing\u001B[39;00m\u001B[38;5;21;01m.\u001B[39;00m\u001B[38;5;21;01mgaussian\u001B[39;00m\u001B[38;5;21;01m.\u001B[39;00m\u001B[38;5;21;01mlog\u001B[39;00m\u001B[38;5;21;01m.\u001B[39;00m\u001B[38;5;21;01ml1\u001B[39;00m \u001B[38;5;28;01mimport\u001B[39;00m Link, Route\n\u001B[1;32m      4\u001B[0m \u001B[38;5;28;01mfrom\u001B[39;00m \u001B[38;5;21;01mmctools\u001B[39;00m\u001B[38;5;21;01m.\u001B[39;00m\u001B[38;5;21;01mparsing\u001B[39;00m\u001B[38;5;21;01m.\u001B[39;00m\u001B[38;5;21;01mcore\u001B[39;00m \u001B[38;5;28;01mimport\u001B[39;00m BaseFileParser, ListeningFileParser, FileParser\n\u001B[1;32m      7\u001B[0m \u001B[38;5;28;01mclass\u001B[39;00m \u001B[38;5;21;01mLinkParser\u001B[39;00m(FileParser, metaclass\u001B[38;5;241m=\u001B[39mabc\u001B[38;5;241m.\u001B[39mABCMeta):\n",
      "\u001B[0;31mModuleNotFoundError\u001B[0m: No module named 'mctools.parsing.gaussian.log.l1'"
     ]
    }
   ],
   "source": [
    "from typing import IO, AnyStr, Any\n",
    "\n",
    "from mctools.parsing.gaussian.log.l1 import Link, Route\n",
    "from mctools.parsing.core import BaseFileParser, ListeningFileParser, FileParser\n",
    "\n",
    "\n",
    "class LinkParser(FileParser, metaclass=abc.ABCMeta):\n",
    "    pass\n",
    "\n",
    "\n"
   ],
   "metadata": {
    "collapsed": false,
    "ExecuteTime": {
     "end_time": "2024-02-28T03:58:14.490168Z",
     "start_time": "2024-02-28T03:58:14.437694Z"
    }
   },
   "id": "de026a5e6cf54aa5",
   "execution_count": 11
  },
  {
   "cell_type": "code",
   "outputs": [
    {
     "ename": "ModuleNotFoundError",
     "evalue": "No module named 'mctools.parsing.gaussian.log.l1'",
     "output_type": "error",
     "traceback": [
      "\u001B[0;31m---------------------------------------------------------------------------\u001B[0m",
      "\u001B[0;31mModuleNotFoundError\u001B[0m                       Traceback (most recent call last)",
      "Cell \u001B[0;32mIn[12], line 1\u001B[0m\n\u001B[0;32m----> 1\u001B[0m \u001B[38;5;28;01mfrom\u001B[39;00m \u001B[38;5;21;01mmctools\u001B[39;00m\u001B[38;5;21;01m.\u001B[39;00m\u001B[38;5;21;01mparsing\u001B[39;00m\u001B[38;5;21;01m.\u001B[39;00m\u001B[38;5;21;01mgaussian\u001B[39;00m\u001B[38;5;21;01m.\u001B[39;00m\u001B[38;5;21;01mlog\u001B[39;00m\u001B[38;5;21;01m.\u001B[39;00m\u001B[38;5;21;01ml1\u001B[39;00m \u001B[38;5;28;01mimport\u001B[39;00m Link\n\u001B[1;32m      2\u001B[0m \u001B[38;5;124mf\u001B[39m\u001B[38;5;124m'\u001B[39m\u001B[38;5;132;01m{\u001B[39;00mLink\u001B[38;5;241m.\u001B[39mL910\u001B[38;5;132;01m}\u001B[39;00m\u001B[38;5;124m'\u001B[39m\n",
      "\u001B[0;31mModuleNotFoundError\u001B[0m: No module named 'mctools.parsing.gaussian.log.l1'"
     ]
    }
   ],
   "source": [
    "from mctools.parsing.gaussian.log.l1 import Link\n",
    "f'{Link.L910}'"
   ],
   "metadata": {
    "collapsed": false,
    "ExecuteTime": {
     "start_time": "2024-02-28T03:58:14.461918Z"
    }
   },
   "id": "777875c1d584795d",
   "execution_count": 12
  },
  {
   "cell_type": "code",
   "outputs": [
    {
     "ename": "AttributeError",
     "evalue": "'LogParser' object has no attribute 'parser'",
     "output_type": "error",
     "traceback": [
      "\u001B[0;31m---------------------------------------------------------------------------\u001B[0m",
      "\u001B[0;31mAttributeError\u001B[0m                            Traceback (most recent call last)",
      "Cell \u001B[0;32mIn[13], line 4\u001B[0m\n\u001B[1;32m      1\u001B[0m \u001B[38;5;28;01mfrom\u001B[39;00m \u001B[38;5;21;01mmctools\u001B[39;00m\u001B[38;5;21;01m.\u001B[39;00m\u001B[38;5;21;01mparsing\u001B[39;00m\u001B[38;5;21;01m.\u001B[39;00m\u001B[38;5;21;01mgaussian\u001B[39;00m \u001B[38;5;28;01mimport\u001B[39;00m LogParser\n\u001B[1;32m      3\u001B[0m parser \u001B[38;5;241m=\u001B[39m LogParser()\n\u001B[0;32m----> 4\u001B[0m data \u001B[38;5;241m=\u001B[39m \u001B[43mparser\u001B[49m\u001B[38;5;241;43m.\u001B[39;49m\u001B[43mparser\u001B[49m(log, int1e\u001B[38;5;241m=\u001B[39m[\u001B[38;5;124m'\u001B[39m\u001B[38;5;124mstv\u001B[39m\u001B[38;5;124m'\u001B[39m])\n",
      "\u001B[0;31mAttributeError\u001B[0m: 'LogParser' object has no attribute 'parser'"
     ]
    }
   ],
   "source": [
    "from mctools.parsing.gaussian import LogParser\n",
    "\n",
    "parser = LogParser()\n",
    "data = parser.parser(log, int1e=['stv'])"
   ],
   "metadata": {
    "collapsed": false,
    "ExecuteTime": {
     "end_time": "2024-02-28T03:58:14.615052Z",
     "start_time": "2024-02-28T03:58:14.576245Z"
    }
   },
   "id": "9897cfdf16a8e06d",
   "execution_count": 13
  },
  {
   "cell_type": "code",
   "outputs": [
    {
     "data": {
      "text/plain": "\u001B[92m─ \u001B[0mFchk file: \u001B[35m/Users/kirill/PycharmProjects/mctools/tests/data/\u001B[0m\u001B[95mrasci_1r1h36o_2r13e14o_3r1p6o.casscf_13e14o_ref.an…\u001B[0m\u001B[92m ─\u001B[0m\n",
      "text/html": "<pre style=\"white-space:pre;overflow-x:auto;line-height:normal;font-family:Menlo,'DejaVu Sans Mono',consolas,'Courier New',monospace\"><span style=\"color: #00ff00; text-decoration-color: #00ff00\">─ </span>Fchk file: <span style=\"color: #800080; text-decoration-color: #800080\">/Users/kirill/PycharmProjects/mctools/tests/data/</span><span style=\"color: #ff00ff; text-decoration-color: #ff00ff\">rasci_1r1h36o_2r13e14o_3r1p6o.casscf_13e14o_ref.an…</span><span style=\"color: #00ff00; text-decoration-color: #00ff00\"> ─</span>\n</pre>\n"
     },
     "metadata": {},
     "output_type": "display_data"
    },
    {
     "data": {
      "text/plain": "Parsing FCHK description\u001B[33m...\u001B[0m\n",
      "text/html": "<pre style=\"white-space:pre;overflow-x:auto;line-height:normal;font-family:Menlo,'DejaVu Sans Mono',consolas,'Courier New',monospace\">Parsing FCHK description<span style=\"color: #808000; text-decoration-color: #808000\">...</span>\n</pre>\n"
     },
     "metadata": {},
     "output_type": "display_data"
    },
    {
     "data": {
      "text/plain": "Parsing Molecule geometry\u001B[33m...\u001B[0m\n",
      "text/html": "<pre style=\"white-space:pre;overflow-x:auto;line-height:normal;font-family:Menlo,'DejaVu Sans Mono',consolas,'Courier New',monospace\">Parsing Molecule geometry<span style=\"color: #808000; text-decoration-color: #808000\">...</span>\n</pre>\n"
     },
     "metadata": {},
     "output_type": "display_data"
    },
    {
     "data": {
      "text/plain": "Parsing Atomic Orbital Basis\u001B[33m...\u001B[0m\n",
      "text/html": "<pre style=\"white-space:pre;overflow-x:auto;line-height:normal;font-family:Menlo,'DejaVu Sans Mono',consolas,'Courier New',monospace\">Parsing Atomic Orbital Basis<span style=\"color: #808000; text-decoration-color: #808000\">...</span>\n</pre>\n"
     },
     "metadata": {},
     "output_type": "display_data"
    },
    {
     "data": {
      "text/plain": "Parsing Molecular Orbital Basis\u001B[33m...\u001B[0m\n",
      "text/html": "<pre style=\"white-space:pre;overflow-x:auto;line-height:normal;font-family:Menlo,'DejaVu Sans Mono',consolas,'Courier New',monospace\">Parsing Molecular Orbital Basis<span style=\"color: #808000; text-decoration-color: #808000\">...</span>\n</pre>\n"
     },
     "metadata": {},
     "output_type": "display_data"
    },
    {
     "data": {
      "text/plain": "Finished parsing FCHK file\n",
      "text/html": "<pre style=\"white-space:pre;overflow-x:auto;line-height:normal;font-family:Menlo,'DejaVu Sans Mono',consolas,'Courier New',monospace\">Finished parsing FCHK file\n</pre>\n"
     },
     "metadata": {},
     "output_type": "display_data"
    },
    {
     "ename": "AttributeError",
     "evalue": "type object 'FchkParser' has no attribute 'options_cls'",
     "output_type": "error",
     "traceback": [
      "\u001B[0;31m---------------------------------------------------------------------------\u001B[0m",
      "\u001B[0;31mAttributeError\u001B[0m                            Traceback (most recent call last)",
      "Cell \u001B[0;32mIn[14], line 7\u001B[0m\n\u001B[1;32m      4\u001B[0m     parser \u001B[38;5;241m=\u001B[39m FchkParser()\n\u001B[1;32m      5\u001B[0m     data \u001B[38;5;241m=\u001B[39m parser\u001B[38;5;241m.\u001B[39mparse(f)\n\u001B[0;32m----> 7\u001B[0m basis_info \u001B[38;5;241m=\u001B[39m data[\u001B[43mFchkParser\u001B[49m\u001B[38;5;241;43m.\u001B[39;49m\u001B[43moptions_cls\u001B[49m\u001B[38;5;241m.\u001B[39mbasis]\n\u001B[1;32m      8\u001B[0m basis \u001B[38;5;241m=\u001B[39m basis_info[\u001B[38;5;124m'\u001B[39m\u001B[38;5;124mbasis\u001B[39m\u001B[38;5;124m'\u001B[39m]\n\u001B[1;32m      9\u001B[0m shells \u001B[38;5;241m=\u001B[39m basis_info[\u001B[38;5;124m'\u001B[39m\u001B[38;5;124mshells\u001B[39m\u001B[38;5;124m'\u001B[39m]\n",
      "\u001B[0;31mAttributeError\u001B[0m: type object 'FchkParser' has no attribute 'options_cls'"
     ]
    }
   ],
   "source": [
    "from mctools.parsing.gaussian import FchkParser\n",
    "\n",
    "with fchk.open('r', encoding='ascii') as f:\n",
    "    parser = FchkParser()\n",
    "    data = parser.parse(f)\n",
    "\n",
    "basis_info = data[FchkParser.options_cls.basis]\n",
    "basis = basis_info['basis']\n",
    "shells = basis_info['shells']\n",
    "prims = basis_info['prims']\n",
    "aos = basis.df.copy()\n",
    "\n",
    "n_inactive = 342\n",
    "n_active = 50\n",
    "molorb = data[FchkParser.options_cls.molecular_orbitals]\n",
    "active_space = np.s_[n_inactive:n_inactive + n_active]\n",
    "actorb = molorb[active_space]\n",
    "# mos = basis.partition_molorb(actorb, by=['element', 'l']) \n",
    "\n",
    "atom_idx, shell_idx = 0, 0"
   ],
   "metadata": {
    "collapsed": false,
    "ExecuteTime": {
     "start_time": "2024-02-28T03:58:14.614794Z"
    }
   },
   "id": "422abfe4eee4a68e",
   "execution_count": 14
  },
  {
   "cell_type": "code",
   "outputs": [],
   "source": [
    "prims"
   ],
   "metadata": {
    "collapsed": false,
    "ExecuteTime": {
     "end_time": "2024-02-28T03:58:14.970696Z",
     "start_time": "2024-02-28T03:58:14.910339Z"
    }
   },
   "id": "b39e0a7daed30acb",
   "execution_count": null
  },
  {
   "cell_type": "code",
   "outputs": [],
   "source": [
    "import pathlib\n",
    "import time\n",
    "import numpy as np\n",
    "\n",
    "from tqdm import tqdm\n",
    "\n",
    "from mctools.parsing import FileStepper\n",
    "from mctools.parsing.gaussian.log.utils import MatrixParserMixin\n",
    "\n",
    "\n",
    "data_dir = pathlib.Path('examples').resolve()\n",
    "calc_dir = data_dir / 'calc'\n",
    "\n",
    "fchk =  calc_dir / 'casscf.fchk'\n",
    "log = fchk.with_suffix('.log')\n",
    "\n",
    "line_to_data = lambda l: l.strip().replace('D', 'E').split()\n",
    "\n",
    "\n",
    "def read_wrapped_matrix(stepper: FileStepper, header: str, dtype=float):\n",
    "    stepper.step_skip_until(header) \n",
    "    \n",
    "    is_data_row = lambda l: '.' in l\n",
    "    is_header_row = lambda l: not is_data_row(l)\n",
    "    \n",
    "    array = []\n",
    "    dim_size = 0\n",
    "    n_cols_per_blocks = len(stepper.readline().strip().split())\n",
    "    \n",
    "    while '.' in (line := stepper.readline()):\n",
    "        row = line.strip().replace('D', 'E').split()\n",
    "        array.extend(map(float, row[1:]))\n",
    "        dim_size += 1\n",
    "\n",
    "    n_elems = (dim_size * dim_size - dim_size) // 2  + dim_size \n",
    "    for j in range(n_cols_per_blocks, dim_size, n_cols_per_blocks):\n",
    "        for i in range(j, dim_size):\n",
    "            row = stepper.readline().strip().replace('D', 'E').split()\n",
    "            array.extend(map(dtype, row[1:]))\n",
    "        \n",
    "        if len(array) < n_elems:\n",
    "            stepper.readline()\n",
    "        else:\n",
    "            break\n",
    "    return array\n",
    "\n",
    "# header = 'Overlap'\n",
    "# dim = 575\n",
    "\n",
    "\n",
    "n_states = 50\n",
    "\n",
    "n_mo_act = 50\n",
    "rdm_shape = (n_mo_act, n_mo_act)\n",
    "header_real = '1PDM Matrix (real) :'\n",
    "header_imag = '1PDM Matrix (imag) :'\n",
    "\n",
    "array = []\n",
    "\n",
    "times = []\n",
    "with log.open('r') as f:\n",
    "    parser = MatrixParserMixin()\n",
    "    parser.set_file(f)\n",
    "\n",
    "    for i in tqdm(range(n_states)):\n",
    "        parser.step_skip_until(header_real) \n",
    "        \n",
    "        t0 = time.perf_counter_ns()\n",
    "        parser.read_rectangular(*rdm_shape, array=array)\n",
    "        t1 = time.perf_counter_ns()\n",
    "        times.append(t1 - t0)\n",
    "        \n",
    "        parser.step_skip_until(header_imag) \n",
    "        \n",
    "        t0 = time.perf_counter_ns()\n",
    "        parser.read_rectangular(*rdm_shape, array=array)\n",
    "        t1 = time.perf_counter_ns()\n",
    "        times.append(t1 - t0)\n",
    "\n",
    "times = np.asarray(times)\n",
    "print(times.mean(), times.std())"
   ],
   "metadata": {
    "collapsed": false,
    "ExecuteTime": {
     "start_time": "2024-02-28T03:58:14.912998Z"
    }
   },
   "id": "38bddebdddcb97b8",
   "execution_count": null
  },
  {
   "cell_type": "code",
   "outputs": [],
   "source": [
    "rdms_32 = np.asarray(array, dtype=np.float32).reshape((n_states, 2, n_mo_act, n_mo_act))\n",
    "rdms_32 = np.moveaxis(rdms_32, 1, -1, ).copy()\n",
    "rdms_32 = rdms_32.view(np.complex64).squeeze()"
   ],
   "metadata": {
    "collapsed": false,
    "ExecuteTime": {
     "start_time": "2024-02-28T03:58:14.918144Z"
    }
   },
   "id": "c96cf41869ab398",
   "execution_count": null
  },
  {
   "cell_type": "code",
   "outputs": [
    {
     "ename": "ValueError",
     "evalue": "could not convert string to float: 'Nuclear charges                            R   N=           7'",
     "output_type": "error",
     "traceback": [
      "\u001B[0;31m---------------------------------------------------------------------------\u001B[0m",
      "\u001B[0;31mValueError\u001B[0m                                Traceback (most recent call last)",
      "Cell \u001B[0;32mIn[15], line 1\u001B[0m\n\u001B[0;32m----> 1\u001B[0m rdms_64 \u001B[38;5;241m=\u001B[39m \u001B[43mnp\u001B[49m\u001B[38;5;241;43m.\u001B[39;49m\u001B[43masarray\u001B[49m\u001B[43m(\u001B[49m\u001B[43marray\u001B[49m\u001B[43m,\u001B[49m\u001B[43m \u001B[49m\u001B[43mdtype\u001B[49m\u001B[38;5;241;43m=\u001B[39;49m\u001B[43mnp\u001B[49m\u001B[38;5;241;43m.\u001B[39;49m\u001B[43mfloat64\u001B[49m\u001B[43m)\u001B[49m\u001B[38;5;241m.\u001B[39mreshape((n_states, \u001B[38;5;241m2\u001B[39m, n_mo_act, n_mo_act))\n\u001B[1;32m      2\u001B[0m rdms_64 \u001B[38;5;241m=\u001B[39m np\u001B[38;5;241m.\u001B[39mmoveaxis(rdms_64, \u001B[38;5;241m1\u001B[39m, \u001B[38;5;241m-\u001B[39m\u001B[38;5;241m1\u001B[39m, )\u001B[38;5;241m.\u001B[39mcopy()\n\u001B[1;32m      3\u001B[0m rdms_64 \u001B[38;5;241m=\u001B[39m rdms_64\u001B[38;5;241m.\u001B[39mview(np\u001B[38;5;241m.\u001B[39mcomplex128)\u001B[38;5;241m.\u001B[39msqueeze()\n",
      "\u001B[0;31mValueError\u001B[0m: could not convert string to float: 'Nuclear charges                            R   N=           7'"
     ]
    }
   ],
   "source": [
    "rdms_64 = np.asarray(array, dtype=np.float64).reshape((n_states, 2, n_mo_act, n_mo_act))\n",
    "rdms_64 = np.moveaxis(rdms_64, 1, -1, ).copy()\n",
    "rdms_64 = rdms_64.view(np.complex128).squeeze()"
   ],
   "metadata": {
    "collapsed": false,
    "ExecuteTime": {
     "end_time": "2024-02-28T03:58:15.096053Z",
     "start_time": "2024-02-28T03:58:14.974952Z"
    }
   },
   "id": "3019644109963a3a",
   "execution_count": 15
  },
  {
   "cell_type": "code",
   "outputs": [
    {
     "ename": "IndentationError",
     "evalue": "unexpected indent (851130380.py, line 2)",
     "output_type": "error",
     "traceback": [
      "\u001B[0;36m  Cell \u001B[0;32mIn[16], line 2\u001B[0;36m\u001B[0m\n\u001B[0;31m    CI Transition Density Matrix     1 :     3\u001B[0m\n\u001B[0m    ^\u001B[0m\n\u001B[0;31mIndentationError\u001B[0m\u001B[0;31m:\u001B[0m unexpected indent\n"
     ]
    }
   ],
   "source": [
    "import re\n",
    " CI Transition Density Matrix     1 :     3\n",
    " Compute 1PDM now\n",
    " 1TDM Matrix:                       1\n",
    "header = 'Oscillator Strength For States      1 :      2 f=    0.000000'\n",
    "header = 'Computing Spin expectation values.'\n",
    "l = 'State:           1  <Sx>=  0.1340 <Sy>=  0.0000 <Sz>=  0.0823 <Sx**2>=  0.2623 <Sy**2>=  0.2623 <Sz**2>=  0.2624 <S**2>=  0.7870 S=  0.5183'"
   ],
   "metadata": {
    "collapsed": false,
    "ExecuteTime": {
     "start_time": "2024-02-28T03:58:15.046423Z"
    }
   },
   "id": "17c92fb049223e6a",
   "execution_count": 16
  },
  {
   "cell_type": "markdown",
   "source": [
    " Computing Spin expectation values."
   ],
   "metadata": {
    "collapsed": false
   },
   "id": "c78d0c9e66a1c45c"
  },
  {
   "cell_type": "markdown",
   "source": [
    " Computing Spin expectation values.\n",
    " State:           1  <Sx>=  0.1340 <Sy>=  0.0000 <Sz>=  0.0823 <Sx**2>=  0.2623 <Sy**2>=  0.2623 <Sz**2>=  0.2624 <S**2>=  0.7870 S=  0.5183\n",
    " \n",
    " Using Dipole Ints in file:                     872\n",
    " CI Transition Density Matrix     1 :     2\n",
    " Compute 1PDM now\n",
    " 1TDM Matrix:                       1\n",
    " 1TDM Matrix:                       2\n",
    " Oscillator Strength For States      1 :      2 f=    0.000000"
   ],
   "metadata": {
    "collapsed": false
   },
   "id": "cc98cda660ab97c4"
  },
  {
   "cell_type": "code",
   "outputs": [
    {
     "ename": "NameError",
     "evalue": "name 'l' is not defined",
     "output_type": "error",
     "traceback": [
      "\u001B[0;31m---------------------------------------------------------------------------\u001B[0m",
      "\u001B[0;31mNameError\u001B[0m                                 Traceback (most recent call last)",
      "Cell \u001B[0;32mIn[17], line 1\u001B[0m\n\u001B[0;32m----> 1\u001B[0m \u001B[43mget_ipython\u001B[49m\u001B[43m(\u001B[49m\u001B[43m)\u001B[49m\u001B[38;5;241;43m.\u001B[39;49m\u001B[43mrun_line_magic\u001B[49m\u001B[43m(\u001B[49m\u001B[38;5;124;43m'\u001B[39;49m\u001B[38;5;124;43mtimeit\u001B[39;49m\u001B[38;5;124;43m'\u001B[39;49m\u001B[43m,\u001B[49m\u001B[43m \u001B[49m\u001B[38;5;124;43m'\u001B[39;49m\u001B[38;5;124;43mlist(map(float, l.split()[1::2][1:]))\u001B[39;49m\u001B[38;5;124;43m'\u001B[39;49m\u001B[43m)\u001B[49m\n",
      "File \u001B[0;32m~/Library/Caches/pypoetry/virtualenvs/mctools-3Qvjc-9q-py3.11/lib/python3.11/site-packages/IPython/core/interactiveshell.py:2480\u001B[0m, in \u001B[0;36mInteractiveShell.run_line_magic\u001B[0;34m(self, magic_name, line, _stack_depth)\u001B[0m\n\u001B[1;32m   2478\u001B[0m     kwargs[\u001B[38;5;124m'\u001B[39m\u001B[38;5;124mlocal_ns\u001B[39m\u001B[38;5;124m'\u001B[39m] \u001B[38;5;241m=\u001B[39m \u001B[38;5;28mself\u001B[39m\u001B[38;5;241m.\u001B[39mget_local_scope(stack_depth)\n\u001B[1;32m   2479\u001B[0m \u001B[38;5;28;01mwith\u001B[39;00m \u001B[38;5;28mself\u001B[39m\u001B[38;5;241m.\u001B[39mbuiltin_trap:\n\u001B[0;32m-> 2480\u001B[0m     result \u001B[38;5;241m=\u001B[39m \u001B[43mfn\u001B[49m\u001B[43m(\u001B[49m\u001B[38;5;241;43m*\u001B[39;49m\u001B[43margs\u001B[49m\u001B[43m,\u001B[49m\u001B[43m \u001B[49m\u001B[38;5;241;43m*\u001B[39;49m\u001B[38;5;241;43m*\u001B[39;49m\u001B[43mkwargs\u001B[49m\u001B[43m)\u001B[49m\n\u001B[1;32m   2482\u001B[0m \u001B[38;5;66;03m# The code below prevents the output from being displayed\u001B[39;00m\n\u001B[1;32m   2483\u001B[0m \u001B[38;5;66;03m# when using magics with decorator @output_can_be_silenced\u001B[39;00m\n\u001B[1;32m   2484\u001B[0m \u001B[38;5;66;03m# when the last Python token in the expression is a ';'.\u001B[39;00m\n\u001B[1;32m   2485\u001B[0m \u001B[38;5;28;01mif\u001B[39;00m \u001B[38;5;28mgetattr\u001B[39m(fn, magic\u001B[38;5;241m.\u001B[39mMAGIC_OUTPUT_CAN_BE_SILENCED, \u001B[38;5;28;01mFalse\u001B[39;00m):\n",
      "File \u001B[0;32m~/Library/Caches/pypoetry/virtualenvs/mctools-3Qvjc-9q-py3.11/lib/python3.11/site-packages/IPython/core/magics/execution.py:1185\u001B[0m, in \u001B[0;36mExecutionMagics.timeit\u001B[0;34m(self, line, cell, local_ns)\u001B[0m\n\u001B[1;32m   1183\u001B[0m \u001B[38;5;28;01mfor\u001B[39;00m index \u001B[38;5;129;01min\u001B[39;00m \u001B[38;5;28mrange\u001B[39m(\u001B[38;5;241m0\u001B[39m, \u001B[38;5;241m10\u001B[39m):\n\u001B[1;32m   1184\u001B[0m     number \u001B[38;5;241m=\u001B[39m \u001B[38;5;241m10\u001B[39m \u001B[38;5;241m*\u001B[39m\u001B[38;5;241m*\u001B[39m index\n\u001B[0;32m-> 1185\u001B[0m     time_number \u001B[38;5;241m=\u001B[39m \u001B[43mtimer\u001B[49m\u001B[38;5;241;43m.\u001B[39;49m\u001B[43mtimeit\u001B[49m\u001B[43m(\u001B[49m\u001B[43mnumber\u001B[49m\u001B[43m)\u001B[49m\n\u001B[1;32m   1186\u001B[0m     \u001B[38;5;28;01mif\u001B[39;00m time_number \u001B[38;5;241m>\u001B[39m\u001B[38;5;241m=\u001B[39m \u001B[38;5;241m0.2\u001B[39m:\n\u001B[1;32m   1187\u001B[0m         \u001B[38;5;28;01mbreak\u001B[39;00m\n",
      "File \u001B[0;32m~/Library/Caches/pypoetry/virtualenvs/mctools-3Qvjc-9q-py3.11/lib/python3.11/site-packages/IPython/core/magics/execution.py:173\u001B[0m, in \u001B[0;36mTimer.timeit\u001B[0;34m(self, number)\u001B[0m\n\u001B[1;32m    171\u001B[0m gc\u001B[38;5;241m.\u001B[39mdisable()\n\u001B[1;32m    172\u001B[0m \u001B[38;5;28;01mtry\u001B[39;00m:\n\u001B[0;32m--> 173\u001B[0m     timing \u001B[38;5;241m=\u001B[39m \u001B[38;5;28;43mself\u001B[39;49m\u001B[38;5;241;43m.\u001B[39;49m\u001B[43minner\u001B[49m\u001B[43m(\u001B[49m\u001B[43mit\u001B[49m\u001B[43m,\u001B[49m\u001B[43m \u001B[49m\u001B[38;5;28;43mself\u001B[39;49m\u001B[38;5;241;43m.\u001B[39;49m\u001B[43mtimer\u001B[49m\u001B[43m)\u001B[49m\n\u001B[1;32m    174\u001B[0m \u001B[38;5;28;01mfinally\u001B[39;00m:\n\u001B[1;32m    175\u001B[0m     \u001B[38;5;28;01mif\u001B[39;00m gcold:\n",
      "File \u001B[0;32m<magic-timeit>:1\u001B[0m, in \u001B[0;36minner\u001B[0;34m(_it, _timer)\u001B[0m\n",
      "\u001B[0;31mNameError\u001B[0m: name 'l' is not defined"
     ]
    }
   ],
   "source": [
    "%timeit list(map(float, l.split()[1::2][1:]))"
   ],
   "metadata": {
    "collapsed": false,
    "ExecuteTime": {
     "end_time": "2024-02-28T03:58:15.310863Z",
     "start_time": "2024-02-28T03:58:15.131032Z"
    }
   },
   "id": "4b4cae7437826c00",
   "execution_count": 17
  },
  {
   "cell_type": "code",
   "outputs": [],
   "source": [
    "%timeit list(map(float, re.findall('\\d+\\.\\d+', l)))"
   ],
   "metadata": {
    "collapsed": false,
    "ExecuteTime": {
     "start_time": "2024-02-28T03:58:15.298754Z"
    }
   },
   "id": "5d45bb23d5c869b9",
   "execution_count": null
  },
  {
   "cell_type": "code",
   "outputs": [],
   "source": [
    "3.28 * 1e3 / 858"
   ],
   "metadata": {
    "collapsed": false,
    "ExecuteTime": {
     "start_time": "2024-02-28T03:58:15.302946Z"
    }
   },
   "id": "c71f091e07b2b210",
   "execution_count": null
  },
  {
   "cell_type": "code",
   "outputs": [
    {
     "ename": "ModuleNotFoundError",
     "evalue": "No module named 'mctools.parsing.gaussian.log.l302'",
     "output_type": "error",
     "traceback": [
      "\u001B[0;31m---------------------------------------------------------------------------\u001B[0m",
      "\u001B[0;31mModuleNotFoundError\u001B[0m                       Traceback (most recent call last)",
      "Cell \u001B[0;32mIn[18], line 1\u001B[0m\n\u001B[0;32m----> 1\u001B[0m \u001B[38;5;28;01mfrom\u001B[39;00m \u001B[38;5;21;01mmctools\u001B[39;00m\u001B[38;5;21;01m.\u001B[39;00m\u001B[38;5;21;01mparsing\u001B[39;00m\u001B[38;5;21;01m.\u001B[39;00m\u001B[38;5;21;01mgaussian\u001B[39;00m\u001B[38;5;21;01m.\u001B[39;00m\u001B[38;5;21;01mlog\u001B[39;00m\u001B[38;5;21;01m.\u001B[39;00m\u001B[38;5;21;01ml302\u001B[39;00m \u001B[38;5;28;01mimport\u001B[39;00m read_ao_overlap_matrix\n\u001B[1;32m      3\u001B[0m n_checks \u001B[38;5;241m=\u001B[39m \u001B[38;5;241m10\u001B[39m\n\u001B[1;32m      4\u001B[0m times \u001B[38;5;241m=\u001B[39m np\u001B[38;5;241m.\u001B[39mzeros(n_checks)\n",
      "\u001B[0;31mModuleNotFoundError\u001B[0m: No module named 'mctools.parsing.gaussian.log.l302'"
     ]
    }
   ],
   "source": [
    "from mctools.parsing.gaussian.log.l302 import read_ao_overlap_matrix\n",
    "\n",
    "n_checks = 10\n",
    "times = np.zeros(n_checks)\n",
    "for k in range(n_checks):\n",
    "    with log.open('r') as f:\n",
    "\n",
    "        t0 = time.perf_counter_ns()\n",
    "        array = read_ao_overlap_matrix(f, first_line='')\n",
    "        t1 = time.perf_counter_ns()\n",
    "    \n",
    "        times[k] = t1 - t0\n",
    "\n",
    "print(times.mean() / 1e6, times.std() / 1e6) "
   ],
   "metadata": {
    "collapsed": false,
    "ExecuteTime": {
     "end_time": "2024-02-28T03:58:15.414146Z",
     "start_time": "2024-02-28T03:58:15.331752Z"
    }
   },
   "id": "6b567c50d07d84b7",
   "execution_count": 18
  },
  {
   "cell_type": "code",
   "outputs": [],
   "source": [
    "f = np.vectorize(lambda v: f'{v:e}')\n",
    "\n",
    "strings = f(np.random.uniform(-1e-8, 1e8, 5000))\n",
    "strings_lst = list(np.char.replace(strings, 'e', 'D'))"
   ],
   "metadata": {
    "collapsed": false,
    "ExecuteTime": {
     "end_time": "2024-02-28T03:58:15.441678Z",
     "start_time": "2024-02-28T03:58:15.352539Z"
    }
   },
   "id": "5eba8b537fcb978f",
   "execution_count": 19
  },
  {
   "cell_type": "code",
   "outputs": [],
   "source": [
    "%timeit np.char.replace(strings, 'D', 'e').astype(np.float_)"
   ],
   "metadata": {
    "collapsed": false,
    "ExecuteTime": {
     "start_time": "2024-02-28T03:58:15.448725Z"
    }
   },
   "id": "ff325163b9747125",
   "execution_count": null
  },
  {
   "cell_type": "code",
   "outputs": [],
   "source": [
    "%timeit np.fromiter(map(lambda v: v.replace('D', 'e'), strings_lst), dtype=np.float_)"
   ],
   "metadata": {
    "collapsed": false
   },
   "id": "4665d5e30b13081",
   "execution_count": null
  },
  {
   "cell_type": "code",
   "outputs": [],
   "source": [
    "dim_size"
   ],
   "metadata": {
    "collapsed": false
   },
   "id": "b4fc50a871660e94",
   "execution_count": null
  },
  {
   "cell_type": "code",
   "outputs": [],
   "source": [
    "import numpy as np\n",
    "\n",
    "arr64 = np.asarray(array, dtype=np.float64)\n",
    "arr32 = np.asarray(array, dtype=np.float32)"
   ],
   "metadata": {
    "collapsed": false
   },
   "id": "f77207ac6383e37b",
   "execution_count": null
  },
  {
   "cell_type": "code",
   "outputs": [],
   "source": [
    "arr64.nbytes / 1024"
   ],
   "metadata": {
    "collapsed": false
   },
   "id": "4ea7ab84b5ed87b3",
   "execution_count": null
  },
  {
   "cell_type": "code",
   "outputs": [],
   "source": [
    "arr32.nbytes / 1024"
   ],
   "metadata": {
    "collapsed": false
   },
   "id": "13c3c8868a425202",
   "execution_count": null
  },
  {
   "cell_type": "markdown",
   "source": [
    "# Analyze CAS States"
   ],
   "metadata": {},
   "id": "47c7b7cc"
  },
  {
   "cell_type": "code",
   "outputs": [],
   "source": [
    "from mctools.parser.gaussian import parse_gdvlog, l302_parser_funcs_general, l302_postprocess_general, l910_parser_funcs_fast\n",
    "\n",
    "gdvlog = data_dir / 'casscf.log'\n",
    "\n",
    "data = parse_gdvlog(\n",
    "    gdvlog, \n",
    "    l302_parser_funcs_general | l910_parser_funcs_fast,\n",
    "    postprocess_links=l302_postprocess_general\n",
    ")"
   ],
   "metadata": {
    "collapsed": false
   },
   "id": "8d56f14ff4ae8b8c",
   "execution_count": null
  },
  {
   "cell_type": "code",
   "outputs": [],
   "source": [
    "import mmap\n",
    "import re\n",
    "\n",
    "from collections import defaultdict\n",
    "from typing import Callable, IO, AnyStr, Any\n",
    "\n",
    "general_link_patt = re.compile(rb'^\\s+((\\(Enter|Entering Link)[\\s\\d=]+(?P<path>\\/.*\\.[\\w:]+))', flags=re.MULTILINE)\n",
    "\n",
    "\n",
    "def parse_general_link_path(path: str) -> str:\n",
    "    return pathlib.Path(path).stem\n",
    "\n",
    "def find_links_re(filename: str | pathlib.Path, *, parse_link_path: Callable[[str], str] | None = None) ->  dict[str, list[tuple[int, int | None]]]:\n",
    "    parse_link_path = parse_general_link_path if parse_link_path is None else parse_link_path\n",
    "\n",
    "    filesize: int\n",
    "    found_links: list[tuple[str, int]] = []\n",
    "    with pathlib.Path(filename).open(mode=\"r\", encoding=\"ascii\") as file_obj:\n",
    "        with mmap.mmap(file_obj.fileno(), length=0, access=mmap.ACCESS_READ) as mmap_obj:\n",
    "            filesize = int(mmap_obj.size())\n",
    "            for match in general_link_patt.finditer(mmap_obj):\n",
    "                link = parse_link_path(match.groupdict()['path'].decode())\n",
    "                start = match.span(0)[0]\n",
    "                found_links.append((link, start))\n",
    "    \n",
    "    links: dict[str, list[tuple[int, int | None]]] = defaultdict(list)\n",
    "    for i, (path, start) in enumerate(found_links[:-1]):\n",
    "        next_start = found_links[i + 1][1]\n",
    "        links[path].append((start, next_start - start))\n",
    "    else:\n",
    "        path, start = found_links[-1]\n",
    "        links[path].append((start, filesize - start))\n",
    "        \n",
    "    return links\n",
    "\n",
    "\n",
    "def find_links(filename: str | pathlib.Path, include_l1: bool = False) ->  dict[str, list[tuple[int, int | None]]]:\n",
    "    filesize = 0\n",
    "    found_links: list[tuple[str, int]] = []\n",
    "    with pathlib.Path(filename).open(mode=\"r\", encoding=\"ascii\") as file_obj:\n",
    "        with mmap.mmap(file_obj.fileno(), length=0, access=mmap.ACCESS_READ) as mmap_obj:\n",
    "            if include_l1:\n",
    "                for line in iter(mmap_obj.readline, b\"\"):\n",
    "                    if line.startswith(b' Entering Link'):\n",
    "                        link = line.strip().split()[4].rsplit(b'/', 1)[-1].split(b'.')[0].decode()\n",
    "                        found_links.append((link, filesize))\n",
    "                        filesize += len(line)\n",
    "                        break\n",
    "                    filesize += len(line)\n",
    "                \n",
    "            for line in iter(mmap_obj.readline, b\"\"):\n",
    "                if line.startswith(b' (Enter'):\n",
    "                    link = line.strip().strip(b'()').rsplit(b'/', 1)[-1].split(b'.')[0].decode()\n",
    "                    found_links.append((link, filesize))\n",
    "                filesize += len(line)\n",
    "    \n",
    "    links: dict[str, list[tuple[int, int | None]]] = defaultdict(list)\n",
    "    for i, (link, start) in enumerate(found_links[:-1]):\n",
    "        next_start = found_links[i + 1][1]\n",
    "        links[link].append((start, next_start - start))\n",
    "    else:\n",
    "        link, start = found_links[-1]\n",
    "        links[link].append((start, filesize - start))\n",
    "        \n",
    "    return links\n",
    "\n",
    "\n",
    "def parse_link(filename: str | pathlib.Path, offset: int, length: int) -> None:\n",
    "    mmap_offset = (offset // mmap.ALLOCATIONGRANULARITY) * mmap.ALLOCATIONGRANULARITY\n",
    "    link_offset = offset - mmap_offset\n",
    "    mmap_length = link_offset + length\n",
    "    \n",
    "    with pathlib.Path(filename).open(mode=\"r\", encoding=\"ascii\") as f:\n",
    "        with mmap.mmap(f.fileno(), length=mmap_length, access=mmap.ACCESS_READ, offset=mmap_offset) as mmap_obj:\n",
    "            mmap_obj.seek(link_offset)\n",
    "            for i, line in enumerate(iter(mmap_obj.readline, b\"\")):\n",
    "                print(line.decode(\"utf-8\").strip())"
   ],
   "metadata": {
    "collapsed": false
   },
   "id": "bc6c50760c1180d7",
   "execution_count": null
  },
  {
   "cell_type": "code",
   "outputs": [],
   "source": [
    "from mctools.core.mcspace import MCSpace\n",
    "from mctools.parser.lib import ParsingResult\n",
    "\n",
    "L910 = 'l910'\n",
    "\n",
    "rout_patt = re.compile(r'^ *(\\d+)\\/(\\d+=[-\\d]+,?)+\\/(\\d,?)+;')\n",
    "\n",
    "RouteType =  dict[str, list[dict[int, int]]] \n",
    "def parse_l1(filename: str | pathlib.Path) -> RouteType:\n",
    "    route: RouteType = defaultdict(list)\n",
    "    with pathlib.Path(filename).open(mode=\"r\") as file_obj:\n",
    "        for line in file_obj:\n",
    "            if line.startswith(' Leave'):\n",
    "                break\n",
    "                \n",
    "            if rout_patt.match(line):\n",
    "                line = line.strip().strip(';')\n",
    "                start, middle, ends = line.split('/')\n",
    "                middle = {k: v for k, v in map(lambda p: tuple(map(int, p.split('='))), middle.split(','))}\n",
    "                ends = [e.rjust(2, '0') for e in ends.split(',')]\n",
    "                \n",
    "                for end in ends: \n",
    "                    link = 'l' + start + end\n",
    "                    route[link].append(middle)\n",
    "    return route\n",
    "\n",
    "def parse_l910_route(route: RouteType, route_idx: int = 0) -> tuple[bool, ParsingResult]:\n",
    "    if L910 not in route:\n",
    "        return False, ParsingResult()\n",
    "    \n",
    "    l910_route = route[L910][route_idx]\n",
    "    \n",
    "    n_elec = l910_route.get(6, 0)\n",
    "    n_mos = l910_route.get(7, 0)\n",
    "    max_hole = l910_route.get(111, 0)\n",
    "    ras1_mo = l910_route.get(112, 0)\n",
    "    max_elec = l910_route.get(113, 0)\n",
    "    ras3_mo = l910_route.get(114, 0)\n",
    "    ras2_mo = n_mos - ras1_mo - ras3_mo\n",
    "    mcspace = MCSpace.from_space_spec(\n",
    "        (ras1_mo, ras2_mo, ras3_mo), n_elec,\n",
    "        max_hole=max_hole, max_elec=max_elec\n",
    "    )\n",
    "    \n",
    "    n_states = l910_route.get(17, 1)\n",
    "    n_states = n_states // 10000 + n_states % 10000  # Account for M0000, where M is number higher energy states in Davidson\n",
    "    \n",
    "    n_ground = l910_route.get(19, None)\n",
    "    n_ground = n_states if n_ground and n_ground < 0 else n_ground\n",
    "    \n",
    "    has_rdms = l910_route.get(32, 1)\n",
    "    has_rdms = has_rdms == 0 or has_rdms == 1\n",
    "    \n",
    "    has_tdms = bool(l910_route.get(131, 0)),\n",
    "    \n",
    "    return True, {\n",
    "        'mcspace': mcspace,\n",
    "        'n_states': n_states,\n",
    "        'n_ground': n_ground,\n",
    "        \n",
    "        'has_rdms': has_rdms,\n",
    "        'has_tdms': has_tdms,\n",
    "        \n",
    "        'n_mo_act': lambda _: mcspace.n_mo_act\n",
    "    }"
   ],
   "metadata": {
    "collapsed": false
   },
   "id": "4338889b2a92ddd8",
   "execution_count": null
  },
  {
   "cell_type": "code",
   "outputs": [],
   "source": [
    "result = {}\n",
    "build_l910_parser_funcs(route, result=result)"
   ],
   "metadata": {
    "collapsed": false
   },
   "id": "4ae05975e7c7deb4",
   "execution_count": null
  },
  {
   "cell_type": "code",
   "outputs": [],
   "source": [
    "result"
   ],
   "metadata": {
    "collapsed": false
   },
   "id": "7b09fdc5c684a78b",
   "execution_count": null
  },
  {
   "cell_type": "code",
   "outputs": [],
   "source": [],
   "metadata": {
    "collapsed": false
   },
   "id": "951dda922d0d8479",
   "execution_count": null
  },
  {
   "cell_type": "code",
   "outputs": [],
   "source": [
    "s1 = set((k,len(v)) for k, v in links.items())\n",
    "s2 = set((k,len(v)) for k, v in route.items())\n",
    "assert s1 == s2"
   ],
   "metadata": {
    "collapsed": false
   },
   "id": "a84f57c4cd25b1e8",
   "execution_count": null
  },
  {
   "cell_type": "code",
   "outputs": [],
   "source": [
    "\n",
    "    "
   ],
   "metadata": {
    "collapsed": false
   },
   "id": "9040b9d7692295d4",
   "execution_count": null
  },
  {
   "cell_type": "code",
   "outputs": [],
   "source": [
    "cas_space = MCSpace.from_dict(data, max_hole=0, max_elec=0)\n",
    "cas_states = MCStates.from_dict(data, mcspace=cas_space)\n",
    "\n",
    "cas_space.set_mo_blocks({\n",
    "    '4f': [(0, 13), 49],\n",
    "    '5p': [(13, 49)]\n",
    "})\n",
    "\n",
    "cas_space.set_config_classes({\n",
    "    'f13': {'4f': 13, '5p': 36},\n",
    "    'Lf14': {'4f': 14, '5p': 35},\n",
    "})\n",
    "\n",
    "cas_states.analyze()"
   ],
   "metadata": {
    "collapsed": false
   },
   "id": "1752f2bd6fa1eee7",
   "execution_count": null
  },
  {
   "cell_type": "code",
   "execution_count": null,
   "id": "93b129c3",
   "metadata": {
    "collapsed": false
   },
   "outputs": [],
   "source": [
    "cas_states.print_state(idx=[0, 1])"
   ]
  },
  {
   "cell_type": "code",
   "execution_count": null,
   "id": "a504229d",
   "metadata": {
    "collapsed": false
   },
   "outputs": [],
   "source": [
    "from mctools.plot.states import prepare_state_centers\n",
    "\n",
    "width = 0.1\n",
    "x_c = prepare_state_centers(cas_states, column_width=2)\n",
    "\n",
    "plt.hlines('E', x_c - width, x_c + width, data=cas_states.df)\n",
    "plt.show()"
   ]
  },
  {
   "cell_type": "markdown",
   "id": "bab6325e",
   "metadata": {},
   "source": [
    "# Analyze RASCI States"
   ]
  },
  {
   "cell_type": "code",
   "execution_count": null,
   "id": "7b7f3b99",
   "metadata": {
    "collapsed": false
   },
   "outputs": [],
   "source": [
    "rasci_gs_dir = '/Users/kirill/Documents/UW/Li_Group/CsPbCl3_Ln/calculations/rasci/ras-36p-14f'\n",
    "\n",
    "gs_space = MCSpace.from_space_spec(\n",
    "    (36, 14, 12), 37,\n",
    "    max_hole=2, max_elec=2,\n",
    "    mo_blocks={\n",
    "        '3p': [(0, 36)],\n",
    "        '4f': [(36, 50)],\n",
    "        'virt': [(50, 62)],\n",
    "    },\n",
    "    config_classes={\n",
    "        'f1': {'3p': 36, '4f': 1, 'virt': 0},\n",
    "        'Lf2': {'3p': 35, '4f': 2, 'virt': 0}\n",
    "    }\n",
    ")\n",
    "\n",
    "ce3p_cas_gdvlog = os.path.join(rasci_gs_dir, 'rasci_62s.ce3p_casscf_sa14_14s_gb3lyp_ref.tzvppall.gdv_j14p.7491751.log')\n",
    "data = parse_gdvlog(ce3p_cas_gdvlog, l910_parser_funcs_general)\n",
    "states = MCStates.from_dict(data, space=gs_space)\n",
    "states.analyze()"
   ]
  },
  {
   "cell_type": "code",
   "execution_count": null,
   "id": "3ef7e680",
   "metadata": {
    "collapsed": false
   },
   "outputs": [],
   "source": [
    "ce4p_space = MCSpace.from_space_spec(\n",
    "    (36, 14, 12), 36,\n",
    "    max_hole=2, max_elec=2,\n",
    "    mo_blocks={\n",
    "        '3p': [(0, 36)],\n",
    "        '4f': [(36, 50)],\n",
    "        'virt': [(50, 62)],\n",
    "    },\n",
    "    config_classes={\n",
    "        'f0': {'3p': 36, '4f': 0, 'virt': 0},\n",
    "\n",
    "        'Lf1': {'3p': 35, '4f': 1, 'virt': 0},\n",
    "        'Ld1': {'3p': 35, '4f': 0, 'virt': 1},\n",
    "\n",
    "        'L2f1d1': {'3p': 34, '4f': 1, 'virt': 1},\n",
    "        'L2f0d2': {'3p': 34, '4f': 0, 'virt': 2},\n",
    "    }\n",
    ")\n",
    "\n",
    "ce4p_cas_gdvlog = os.path.join(rasci_gs_dir, 'rasci_62s.ce4p_gb3lyp_ref.tzvppall.gdv_j14p.7403644.log')\n",
    "data = parse_gdvlog(ce4p_cas_gdvlog, l910_parser_funcs_general)\n",
    "ce4p = MCStates.from_dict(data, space=ce4p_space)\n",
    "ce4p.analyze()"
   ]
  },
  {
   "cell_type": "code",
   "execution_count": null,
   "id": "bdf090bc",
   "metadata": {
    "collapsed": false
   },
   "outputs": [],
   "source": [
    "with pd.option_context('max_colwidth', 100_000, 'display.expand_frame_repr', False):\n",
    "    df = ce4p.get_state_ci_vec([1])\n",
    "    print(df)"
   ]
  },
  {
   "cell_type": "code",
   "execution_count": null,
   "outputs": [],
   "source": [
    "ce4p.print_state(idx=[0, 1, 2], include_mo=True, include_config_class=True, shift_ground=True, config_limit=6)"
   ],
   "metadata": {
    "collapsed": false
   },
   "id": "978c90f1cead79c7"
  },
  {
   "cell_type": "code",
   "execution_count": null,
   "outputs": [],
   "source": [
    "ce4p.df"
   ],
   "metadata": {
    "collapsed": false
   },
   "id": "3828074c9bbc29e9"
  },
  {
   "cell_type": "markdown",
   "id": "82c92ab4",
   "metadata": {},
   "source": [
    "#  M-Edge Spectrum"
   ]
  },
  {
   "cell_type": "code",
   "execution_count": null,
   "id": "0627e1e1",
   "metadata": {
    "collapsed": false
   },
   "outputs": [],
   "source": [
    "rasci_gdvlog = os.path.join(data_dir, 'rasci_3.log')\n",
    "\n",
    "m_edge_data = parse_gdvlog(rasci_gdvlog, l910_parser_funcs_general, n_ground=14)\n",
    "medge_space = MCSpace.from_dict(m_edge_data, max_hole=1, max_elec=0)\n",
    "medge_states = MCStates.from_dict(m_edge_data, space=medge_space)\n",
    "\n",
    "\n",
    "medge_space.mo_blocks = {\n",
    "    '3d': [(0, 10)],\n",
    "    '4f': [(10, 23), 59],\n",
    "    '5p': [(23, 59)],\n",
    "}\n",
    "\n",
    "medge_space.config_classes = {\n",
    "    'f13': {'3d': 10, '4f': 13, '5p': 36},\n",
    "    'Lf14': {'3d': 10, '4f': 14, '5p': 35},\n",
    "    'f14': {'3d': 9, '4f': 14, '5p': 36},\n",
    "}\n",
    "\n",
    "medge_states.analyze()"
   ]
  },
  {
   "cell_type": "code",
   "execution_count": null,
   "outputs": [],
   "source": [
    "print(medge_states.df)"
   ],
   "metadata": {
    "collapsed": false
   },
   "id": "cdf3054f36a396aa"
  },
  {
   "cell_type": "code",
   "execution_count": null,
   "id": "ec0a6538",
   "metadata": {
    "collapsed": false
   },
   "outputs": [],
   "source": [
    "print(medge_states.peaks.df)"
   ]
  },
  {
   "cell_type": "code",
   "execution_count": null,
   "id": "9b5d3906",
   "metadata": {
    "collapsed": false
   },
   "outputs": [],
   "source": [
    "gdvlog = '/Users/kirill/Documents/UW/Li_Group/CrI3_Yb/notebooks/../calculations/mc/x2c_tzvpall_2c/cas_36p_14f/rasci/rasci_68s.r1_2s_6p_10d.casscf_sa50_50s_ref.yb3p.exp.tzvpall.gdv_j14p.7748435.log'\n",
    "\n",
    "data = parse_gdvlog(gdvlog, l910_parser_funcs, n_ground=14)\n",
    "medge_space = MCSpace.from_dict(data, max_hole=0, max_elec=0, use_python_int=True)\n",
    "medge_states = MCStates.from_dict(data, space=medge_space)\n",
    "medge_spec = MCSpectrum.from_dict(data, states=medge_states)\n",
    "\n",
    "medge_space.mo_blocks = {\n",
    "    'M': [(0, 18)],\n",
    "    '4f':   [(18, 31), 67],\n",
    "    '5p':   [(31, 67),],\n",
    "\n",
    "    # 'virt': [(60, 72)],\n",
    "}\n",
    "\n",
    "medge_space.config_classes = {\n",
    "    'f13': {'4f': 13},\n",
    "    'Lf14': {'5p': 35, '4f': 14},\n",
    "    'Mf14': {'M': 17, '4f': 14},\n",
    "}\n",
    "\n",
    "medge_spec.analyze()"
   ]
  },
  {
   "cell_type": "code",
   "execution_count": null,
   "id": "4462d86e",
   "metadata": {
    "collapsed": false
   },
   "outputs": [],
   "source": [
    "medge_spec.states.df['state'].isin([1, 2])"
   ]
  },
  {
   "cell_type": "markdown",
   "id": "f82f0b9a",
   "metadata": {},
   "source": [
    "# Partitioned K-edge Spectrum"
   ]
  },
  {
   "cell_type": "code",
   "execution_count": null,
   "id": "eecadb98",
   "metadata": {
    "collapsed": false
   },
   "outputs": [],
   "source": [
    "spec_space = MCSpace.from_space_spec(\n",
    "    (12, 14, 10), 13,\n",
    "    max_hole=2, max_elec=1,\n",
    "    mo_blocks={\n",
    "        '1s': [(0, 6)],\n",
    "        '3p': [(6, 12)],\n",
    "        '4f': [(12, 26)],\n",
    "        '5d': [(26, 36)],\n",
    "    },\n",
    ")\n",
    "\n",
    "gdvlogs = sorted(glob.glob(os.path.join(data_dir, 'spectrum', 'part*.log')))\n",
    "\n",
    "spec_parts = []\n",
    "for gdvlog in gdvlogs:\n",
    "    part_data = parse_gdvlog(gdvlog, l910_parser_funcs, n_ground=2)\n",
    "    spec = MCSpectrum.from_dict(part_data, space=spec_space, sort_peaks=True, )\n",
    "    spec_parts.append(spec)"
   ]
  },
  {
   "cell_type": "code",
   "execution_count": null,
   "id": "415360d0",
   "metadata": {
    "collapsed": false
   },
   "outputs": [],
   "source": [
    "left = spec_parts[0].states\n",
    "right = spec_parts[1].states\n",
    "\n",
    "alignment = get_state_alignment(left, right)"
   ]
  },
  {
   "cell_type": "code",
   "execution_count": null,
   "id": "6b31abad",
   "metadata": {
    "collapsed": false
   },
   "outputs": [],
   "source": [
    "sl_l, sl_r, overlap = alignment[2]\n",
    "\n",
    "dfl = left.df.iloc[sl_l][left.IDX_COLS].rename(columns={\n",
    "    left.STATE_COL: f'{left.STATE_COL}_left',\n",
    "    left.SOURCE_COL: f'{left.SOURCE_COL}_left',\n",
    "})\n",
    "\n",
    "dfr = right.df.iloc[sl_r][right.IDX_COLS].rename(columns={\n",
    "    right.STATE_COL: f'{right.STATE_COL}_right',\n",
    "    right.SOURCE_COL: f'{right.SOURCE_COL}_right',\n",
    "})\n",
    "\n",
    "df = pd.concat([dfl.reset_index(drop=True), dfr.reset_index(drop=True)], axis=1)\n",
    "df['overlap'] = overlap"
   ]
  },
  {
   "cell_type": "code",
   "execution_count": null,
   "id": "b3d4f4ab",
   "metadata": {
    "collapsed": false
   },
   "outputs": [],
   "source": [
    "spec = MCSpectrum.from_spectra(spec_parts)"
   ]
  },
  {
   "cell_type": "code",
   "execution_count": null,
   "id": "6405f8f5",
   "metadata": {
    "collapsed": false
   },
   "outputs": [],
   "source": [
    "fig, ax = plt.subplots(1, 1)\n",
    "\n",
    "ax.vlines('dE', 0, 'osc', data=spec.df)\n",
    "plt.show()"
   ]
  },
  {
   "cell_type": "code",
   "execution_count": null,
   "id": "bba0e173",
   "metadata": {
    "collapsed": false
   },
   "outputs": [],
   "source": [
    "spec.df"
   ]
  },
  {
   "cell_type": "code",
   "execution_count": null,
   "id": "51f344e8",
   "metadata": {
    "collapsed": false
   },
   "outputs": [],
   "source": [
    "rasci_dir = '/Users/kirill/Documents/UW/Li_Group/CsPbCl3_Ln/calculations/rasci/ras-t1u_1s_3p-14_4f-10_5d/dipoles'\n",
    "\n",
    "gdvlogs = glob.glob(os.path.join(rasci_dir, 'rasci_414s.*ano_cl*.log'))\n",
    "\n",
    "space = MCSpace.from_space_spec(\n",
    "    ras=(12, 14, 10),\n",
    "    elec=13,\n",
    "    max_hole=2, max_elec=1,\n",
    "    mo_blocks={\n",
    "        '1s': [(0, 6)],\n",
    "        '3p': [(6, 12)],\n",
    "        '4f': [(12, 26)],\n",
    "        '5d': [(26, 36)],\n",
    "    },\n",
    ")\n",
    "\n",
    "spec_parts = []\n",
    "for gdvlog in gdvlogs:\n",
    "    part_data = parse_gdvlog(gdvlog, l910_parser_funcs, n_ground=14)\n",
    "    spec = MCSpectrum.from_dict(part_data, space=space, sort_peaks=True)\n",
    "    spec_parts.append(spec)\n",
    "\n",
    "spec_parts = sorted(spec_parts, key=lambda x: np.mean(x.energy_range))"
   ]
  },
  {
   "cell_type": "code",
   "execution_count": null,
   "id": "bb25fd26",
   "metadata": {
    "collapsed": false
   },
   "outputs": [],
   "source": [
    "MCSpectrum.from_spectra(spec_parts)"
   ]
  }
 ],
 "metadata": {
  "kernelspec": {
   "display_name": "Python 3 (ipykernel)",
   "language": "python",
   "name": "python3"
  },
  "language_info": {
   "codemirror_mode": {
    "name": "ipython",
    "version": 3
   },
   "file_extension": ".py",
   "mimetype": "text/x-python",
   "name": "python",
   "nbconvert_exporter": "python",
   "pygments_lexer": "ipython3",
   "version": "3.10.9"
  }
 },
 "nbformat": 4,
 "nbformat_minor": 5
}

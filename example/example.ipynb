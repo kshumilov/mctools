{
 "cells": [
  {
   "cell_type": "code",
   "execution_count": 1,
   "id": "8a0c5571-2032-46f1-84a4-178f55d167b9",
   "metadata": {
    "ExecuteTime": {
     "end_time": "2023-05-10T22:41:17.973281Z",
     "start_time": "2023-05-10T22:41:17.417839Z"
    }
   },
   "outputs": [],
   "source": [
    "import os, glob\n",
    "\n",
    "import numpy as np\n",
    "import pandas as pd\n",
    "import matplotlib.pyplot as plt\n",
    "\n",
    "from scipy import constants\n",
    "\n",
    "from mctools.core import MCSpace, MCStates\n",
    "from mctools.core.utils import get_state_alignment\n",
    "from mctools.parser.gaussian import parse_gdvlog, l302_parser_funcs_general, l910_parser_funcs_general"
   ]
  },
  {
   "cell_type": "code",
   "execution_count": 2,
   "id": "b1d9f4a8-4840-4d92-ab23-8f5f723df4b3",
   "metadata": {
    "ExecuteTime": {
     "end_time": "2023-05-10T22:41:17.978066Z",
     "start_time": "2023-05-10T22:41:17.974637Z"
    }
   },
   "outputs": [],
   "source": [
    "Eh2eV = constants.value('Hartree energy in eV')\n",
    "eV2Eh = 1 / Eh2eV\n",
    "\n",
    "wn2eV = 1.23981e-4\n",
    "\n",
    "data_dir = os.path.join('.')"
   ]
  },
  {
   "cell_type": "markdown",
   "id": "47c7b7cc",
   "metadata": {},
   "source": [
    "# Analyze CAS States"
   ]
  },
  {
   "cell_type": "code",
   "execution_count": 3,
   "outputs": [
    {
     "name": "stdout",
     "output_type": "stream",
     "text": [
      "Reading ./casscf.log\n",
      "Parsing link l302\n",
      "Executing: read_ao_overlap_matrix --- Done\n",
      "Executing: read_ao_kinetic_energy_matrix --- Done\n",
      "Executing: read_ao_hcore_matrix --- Done\n",
      "Executing: read_orthogonal_aos_matrix --- Done\n",
      "Parsing link l910\n",
      "Executing: read_mc_spec --- Done\n",
      "Executing: read_ci --- Done\n",
      "Executing: read_rdm_diags --- Done\n",
      "Skipping: read_oscillator_strength, parameter n_ground is unavailable\n"
     ]
    },
    {
     "name": "stderr",
     "output_type": "stream",
     "text": [
      "/Users/kirill/Documents/UW/Li_Group/mctools/mctools/core/cistring/graphs.py:329: RuntimeWarning: Using python int as config data type, expect slow performance\n",
      "  warnings.warn('Using python int as config data type, expect slow performance', RuntimeWarning)\n",
      "/Users/kirill/Documents/UW/Li_Group/mctools/mctools/core/cistring/graphs.py:61: RuntimeWarning: Using python int as config data type, expect slow performance\n",
      "  warnings.warn('Using python int as config data type, expect slow performance', RuntimeWarning)\n"
     ]
    }
   ],
   "source": [
    "casscf_gdvlog = os.path.join(data_dir, 'casscf.log')\n",
    "\n",
    "parser_funcs = l302_parser_funcs_general | l910_parser_funcs_general\n",
    "\n",
    "data = parse_gdvlog(casscf_gdvlog, parser_funcs)\n",
    "cas_space = MCSpace.from_dict(data, max_hole=0, max_elec=0, use_python_int=True)\n",
    "cas_states = MCStates.from_dict(data, space=cas_space)\n",
    "\n",
    "cas_space.set_mo_blocks({\n",
    "    '4f': [(0, 13), 49],\n",
    "    '5p': [(13, 49)]\n",
    "})\n",
    "\n",
    "cas_space.set_config_classes({\n",
    "    'f13': {'4f': 13, '5p': 36},\n",
    "    'Lf14': {'4f': 14, '5p': 35},\n",
    "})\n",
    "\n",
    "cas_states.analyze()"
   ],
   "metadata": {
    "collapsed": false,
    "ExecuteTime": {
     "end_time": "2023-05-10T22:41:19.708317Z",
     "start_time": "2023-05-10T22:41:17.978306Z"
    }
   }
  },
  {
   "cell_type": "code",
   "execution_count": 5,
   "outputs": [
    {
     "data": {
      "text/plain": "               E  state  state_source   g            E0  norm         5p   \n0  -56745.342439      1  ./casscf.log   0  0.000000e+00   1.0  35.959596  \\\n1  -56745.342439      2  ./casscf.log   0  7.088002e-08   1.0  35.972571   \n2  -56745.341908      3  ./casscf.log   0  1.443997e-02   1.0  35.968076   \n3  -56745.341908      4  ./casscf.log   0  1.444038e-02   1.0  35.980089   \n4  -56745.341905      5  ./casscf.log   0  1.450988e-02   1.0  35.963159   \n5  -56745.341905      6  ./casscf.log   0  1.451039e-02   1.0  35.980532   \n6  -56745.340935      7  ./casscf.log   0  4.093078e-02   1.0  35.994945   \n7  -56745.340934      8  ./casscf.log   0  4.093123e-02   1.0  35.995193   \n8  -56745.288809      9  ./casscf.log   1  1.459340e+00   1.0  35.855709   \n9  -56745.288809     10  ./casscf.log   1  1.459340e+00   1.0  35.849396   \n10 -56745.288804     11  ./casscf.log   1  1.459482e+00   1.0  35.856870   \n11 -56745.288804     12  ./casscf.log   1  1.459483e+00   1.0  35.850175   \n12 -56745.285262     13  ./casscf.log   2  1.555858e+00   1.0  35.970862   \n13 -56745.285262     14  ./casscf.log   2  1.555858e+00   1.0  35.970981   \n14 -56745.266203     15  ./casscf.log   3  2.074482e+00   1.0  35.000349   \n15 -56745.266203     16  ./casscf.log   3  2.074482e+00   1.0  35.000360   \n16 -56745.266189     17  ./casscf.log   3  2.074869e+00   1.0  35.000697   \n17 -56745.266189     18  ./casscf.log   3  2.074870e+00   1.0  35.000626   \n18 -56745.258169     19  ./casscf.log   4  2.293107e+00   1.0  35.167809   \n19 -56745.258169     20  ./casscf.log   4  2.293108e+00   1.0  35.148684   \n20 -56745.258120     21  ./casscf.log   4  2.294438e+00   1.0  35.163017   \n21 -56745.258120     22  ./casscf.log   4  2.294438e+00   1.0  35.150056   \n22 -56745.253568     23  ./casscf.log   5  2.418282e+00   1.0  35.033755   \n23 -56745.253568     24  ./casscf.log   5  2.418282e+00   1.0  35.033378   \n24 -56745.245768     25  ./casscf.log   6  2.630536e+00   1.0  35.001839   \n25 -56745.245768     26  ./casscf.log   6  2.630537e+00   1.0  35.001929   \n26 -56745.244313     27  ./casscf.log   7  2.670124e+00   1.0  35.015548   \n27 -56745.244313     28  ./casscf.log   7  2.670124e+00   1.0  35.017717   \n28 -56745.244207     29  ./casscf.log   7  2.673010e+00   1.0  35.017309   \n29 -56745.244207     30  ./casscf.log   7  2.673010e+00   1.0  35.014296   \n30 -56745.238779     31  ./casscf.log   8  2.820717e+00   1.0  35.000121   \n31 -56745.238779     32  ./casscf.log   8  2.820719e+00   1.0  35.000118   \n32 -56745.238690     33  ./casscf.log   8  2.823154e+00   1.0  35.000208   \n33 -56745.238690     34  ./casscf.log   8  2.823154e+00   1.0  35.000173   \n34 -56745.228219     35  ./casscf.log   9  3.108086e+00   1.0  35.000664   \n35 -56745.228219     36  ./casscf.log   9  3.108086e+00   1.0  35.000545   \n36 -56745.226133     37  ./casscf.log  10  3.164852e+00   1.0  35.014438   \n37 -56745.226132     38  ./casscf.log  10  3.164854e+00   1.0  35.011321   \n38 -56745.216577     39  ./casscf.log  11  3.424862e+00   1.0  35.009906   \n39 -56745.216577     40  ./casscf.log  11  3.424862e+00   1.0  35.012313   \n40 -56745.199524     41  ./casscf.log  12  3.888918e+00   1.0  35.004127   \n41 -56745.199524     42  ./casscf.log  12  3.888918e+00   1.0  35.002986   \n42 -56745.199457     43  ./casscf.log  12  3.890727e+00   1.0  35.002925   \n43 -56745.199457     44  ./casscf.log  12  3.890727e+00   1.0  35.004188   \n44 -56745.198270     45  ./casscf.log  13  3.923031e+00   1.0  35.000044   \n45 -56745.198270     46  ./casscf.log  13  3.923031e+00   1.0  35.000035   \n46 -56745.198219     47  ./casscf.log  13  3.924422e+00   1.0  35.000158   \n47 -56745.198219     48  ./casscf.log  13  3.924422e+00   1.0  35.000218   \n48 -56745.181512     49  ./casscf.log  14  4.379027e+00   1.0  35.000024   \n49 -56745.181512     50  ./casscf.log  14  4.379028e+00   1.0  35.000020   \n\n           4f      Lf14       f13 config_class  test  \n0   13.040405  0.040405  0.959595          f13   1.0  \n1   13.027429  0.027430  0.972570          f13   1.0  \n2   13.031924  0.031924  0.968076          f13   1.0  \n3   13.019910  0.019910  0.980090          f13   1.0  \n4   13.036843  0.036843  0.963157          f13   1.0  \n5   13.019469  0.019469  0.980531          f13   1.0  \n6   13.005058  0.005058  0.994942          f13   1.0  \n7   13.004808  0.004807  0.995193          f13   1.0  \n8   13.144296  0.144294  0.855706          f13   1.0  \n9   13.150604  0.150603  0.849397          f13   1.0  \n10  13.143135  0.143133  0.856867          f13   1.0  \n11  13.149826  0.149826  0.850174          f13   1.0  \n12  13.029141  0.029139  0.970861          f13   1.0  \n13  13.029022  0.029021  0.970978          f13   1.0  \n14  13.999651  0.999652  0.000348         Lf14   1.0  \n15  13.999642  0.999642  0.000358         Lf14   1.0  \n16  13.999304  0.999303  0.000697         Lf14   1.0  \n17  13.999378  0.999376  0.000624         Lf14   1.0  \n18  13.832196  0.832194  0.167806         Lf14   1.0  \n19  13.851319  0.851317  0.148683         Lf14   1.0  \n20  13.836985  0.836986  0.163014         Lf14   1.0  \n21  13.849944  0.849945  0.150055         Lf14   1.0  \n22  13.966246  0.966246  0.033754         Lf14   1.0  \n23  13.966623  0.966623  0.033377         Lf14   1.0  \n24  13.998163  0.998163  0.001837         Lf14   1.0  \n25  13.998070  0.998071  0.001929         Lf14   1.0  \n26  13.984455  0.984455  0.015545         Lf14   1.0  \n27  13.982283  0.982283  0.017717         Lf14   1.0  \n28  13.982692  0.982690  0.017310         Lf14   1.0  \n29  13.985700  0.985702  0.014298         Lf14   1.0  \n30  13.999878  0.999878  0.000122         Lf14   1.0  \n31  13.999885  0.999885  0.000115         Lf14   1.0  \n32  13.999794  0.999794  0.000206         Lf14   1.0  \n33  13.999827  0.999828  0.000172         Lf14   1.0  \n34  13.999337  0.999338  0.000663         Lf14   1.0  \n35  13.999456  0.999457  0.000543         Lf14   1.0  \n36  13.985563  0.985562  0.014438         Lf14   1.0  \n37  13.988681  0.988680  0.011320         Lf14   1.0  \n38  13.990097  0.990095  0.009905         Lf14   1.0  \n39  13.987688  0.987688  0.012312         Lf14   1.0  \n40  13.995873  0.995873  0.004127         Lf14   1.0  \n41  13.997017  0.997016  0.002984         Lf14   1.0  \n42  13.997076  0.997074  0.002926         Lf14   1.0  \n43  13.995815  0.995814  0.004186         Lf14   1.0  \n44  13.999957  0.999956  0.000044         Lf14   1.0  \n45  13.999969  0.999969  0.000031         Lf14   1.0  \n46  13.999843  0.999842  0.000158         Lf14   1.0  \n47  13.999784  0.999784  0.000217         Lf14   1.0  \n48  13.999977  0.999977  0.000023         Lf14   1.0  \n49  13.999982  0.999982  0.000018         Lf14   1.0  ",
      "text/html": "<div>\n<style scoped>\n    .dataframe tbody tr th:only-of-type {\n        vertical-align: middle;\n    }\n\n    .dataframe tbody tr th {\n        vertical-align: top;\n    }\n\n    .dataframe thead th {\n        text-align: right;\n    }\n</style>\n<table border=\"1\" class=\"dataframe\">\n  <thead>\n    <tr style=\"text-align: right;\">\n      <th></th>\n      <th>E</th>\n      <th>state</th>\n      <th>state_source</th>\n      <th>g</th>\n      <th>E0</th>\n      <th>norm</th>\n      <th>5p</th>\n      <th>4f</th>\n      <th>Lf14</th>\n      <th>f13</th>\n      <th>config_class</th>\n      <th>test</th>\n    </tr>\n  </thead>\n  <tbody>\n    <tr>\n      <th>0</th>\n      <td>-56745.342439</td>\n      <td>1</td>\n      <td>./casscf.log</td>\n      <td>0</td>\n      <td>0.000000e+00</td>\n      <td>1.0</td>\n      <td>35.959596</td>\n      <td>13.040405</td>\n      <td>0.040405</td>\n      <td>0.959595</td>\n      <td>f13</td>\n      <td>1.0</td>\n    </tr>\n    <tr>\n      <th>1</th>\n      <td>-56745.342439</td>\n      <td>2</td>\n      <td>./casscf.log</td>\n      <td>0</td>\n      <td>7.088002e-08</td>\n      <td>1.0</td>\n      <td>35.972571</td>\n      <td>13.027429</td>\n      <td>0.027430</td>\n      <td>0.972570</td>\n      <td>f13</td>\n      <td>1.0</td>\n    </tr>\n    <tr>\n      <th>2</th>\n      <td>-56745.341908</td>\n      <td>3</td>\n      <td>./casscf.log</td>\n      <td>0</td>\n      <td>1.443997e-02</td>\n      <td>1.0</td>\n      <td>35.968076</td>\n      <td>13.031924</td>\n      <td>0.031924</td>\n      <td>0.968076</td>\n      <td>f13</td>\n      <td>1.0</td>\n    </tr>\n    <tr>\n      <th>3</th>\n      <td>-56745.341908</td>\n      <td>4</td>\n      <td>./casscf.log</td>\n      <td>0</td>\n      <td>1.444038e-02</td>\n      <td>1.0</td>\n      <td>35.980089</td>\n      <td>13.019910</td>\n      <td>0.019910</td>\n      <td>0.980090</td>\n      <td>f13</td>\n      <td>1.0</td>\n    </tr>\n    <tr>\n      <th>4</th>\n      <td>-56745.341905</td>\n      <td>5</td>\n      <td>./casscf.log</td>\n      <td>0</td>\n      <td>1.450988e-02</td>\n      <td>1.0</td>\n      <td>35.963159</td>\n      <td>13.036843</td>\n      <td>0.036843</td>\n      <td>0.963157</td>\n      <td>f13</td>\n      <td>1.0</td>\n    </tr>\n    <tr>\n      <th>5</th>\n      <td>-56745.341905</td>\n      <td>6</td>\n      <td>./casscf.log</td>\n      <td>0</td>\n      <td>1.451039e-02</td>\n      <td>1.0</td>\n      <td>35.980532</td>\n      <td>13.019469</td>\n      <td>0.019469</td>\n      <td>0.980531</td>\n      <td>f13</td>\n      <td>1.0</td>\n    </tr>\n    <tr>\n      <th>6</th>\n      <td>-56745.340935</td>\n      <td>7</td>\n      <td>./casscf.log</td>\n      <td>0</td>\n      <td>4.093078e-02</td>\n      <td>1.0</td>\n      <td>35.994945</td>\n      <td>13.005058</td>\n      <td>0.005058</td>\n      <td>0.994942</td>\n      <td>f13</td>\n      <td>1.0</td>\n    </tr>\n    <tr>\n      <th>7</th>\n      <td>-56745.340934</td>\n      <td>8</td>\n      <td>./casscf.log</td>\n      <td>0</td>\n      <td>4.093123e-02</td>\n      <td>1.0</td>\n      <td>35.995193</td>\n      <td>13.004808</td>\n      <td>0.004807</td>\n      <td>0.995193</td>\n      <td>f13</td>\n      <td>1.0</td>\n    </tr>\n    <tr>\n      <th>8</th>\n      <td>-56745.288809</td>\n      <td>9</td>\n      <td>./casscf.log</td>\n      <td>1</td>\n      <td>1.459340e+00</td>\n      <td>1.0</td>\n      <td>35.855709</td>\n      <td>13.144296</td>\n      <td>0.144294</td>\n      <td>0.855706</td>\n      <td>f13</td>\n      <td>1.0</td>\n    </tr>\n    <tr>\n      <th>9</th>\n      <td>-56745.288809</td>\n      <td>10</td>\n      <td>./casscf.log</td>\n      <td>1</td>\n      <td>1.459340e+00</td>\n      <td>1.0</td>\n      <td>35.849396</td>\n      <td>13.150604</td>\n      <td>0.150603</td>\n      <td>0.849397</td>\n      <td>f13</td>\n      <td>1.0</td>\n    </tr>\n    <tr>\n      <th>10</th>\n      <td>-56745.288804</td>\n      <td>11</td>\n      <td>./casscf.log</td>\n      <td>1</td>\n      <td>1.459482e+00</td>\n      <td>1.0</td>\n      <td>35.856870</td>\n      <td>13.143135</td>\n      <td>0.143133</td>\n      <td>0.856867</td>\n      <td>f13</td>\n      <td>1.0</td>\n    </tr>\n    <tr>\n      <th>11</th>\n      <td>-56745.288804</td>\n      <td>12</td>\n      <td>./casscf.log</td>\n      <td>1</td>\n      <td>1.459483e+00</td>\n      <td>1.0</td>\n      <td>35.850175</td>\n      <td>13.149826</td>\n      <td>0.149826</td>\n      <td>0.850174</td>\n      <td>f13</td>\n      <td>1.0</td>\n    </tr>\n    <tr>\n      <th>12</th>\n      <td>-56745.285262</td>\n      <td>13</td>\n      <td>./casscf.log</td>\n      <td>2</td>\n      <td>1.555858e+00</td>\n      <td>1.0</td>\n      <td>35.970862</td>\n      <td>13.029141</td>\n      <td>0.029139</td>\n      <td>0.970861</td>\n      <td>f13</td>\n      <td>1.0</td>\n    </tr>\n    <tr>\n      <th>13</th>\n      <td>-56745.285262</td>\n      <td>14</td>\n      <td>./casscf.log</td>\n      <td>2</td>\n      <td>1.555858e+00</td>\n      <td>1.0</td>\n      <td>35.970981</td>\n      <td>13.029022</td>\n      <td>0.029021</td>\n      <td>0.970978</td>\n      <td>f13</td>\n      <td>1.0</td>\n    </tr>\n    <tr>\n      <th>14</th>\n      <td>-56745.266203</td>\n      <td>15</td>\n      <td>./casscf.log</td>\n      <td>3</td>\n      <td>2.074482e+00</td>\n      <td>1.0</td>\n      <td>35.000349</td>\n      <td>13.999651</td>\n      <td>0.999652</td>\n      <td>0.000348</td>\n      <td>Lf14</td>\n      <td>1.0</td>\n    </tr>\n    <tr>\n      <th>15</th>\n      <td>-56745.266203</td>\n      <td>16</td>\n      <td>./casscf.log</td>\n      <td>3</td>\n      <td>2.074482e+00</td>\n      <td>1.0</td>\n      <td>35.000360</td>\n      <td>13.999642</td>\n      <td>0.999642</td>\n      <td>0.000358</td>\n      <td>Lf14</td>\n      <td>1.0</td>\n    </tr>\n    <tr>\n      <th>16</th>\n      <td>-56745.266189</td>\n      <td>17</td>\n      <td>./casscf.log</td>\n      <td>3</td>\n      <td>2.074869e+00</td>\n      <td>1.0</td>\n      <td>35.000697</td>\n      <td>13.999304</td>\n      <td>0.999303</td>\n      <td>0.000697</td>\n      <td>Lf14</td>\n      <td>1.0</td>\n    </tr>\n    <tr>\n      <th>17</th>\n      <td>-56745.266189</td>\n      <td>18</td>\n      <td>./casscf.log</td>\n      <td>3</td>\n      <td>2.074870e+00</td>\n      <td>1.0</td>\n      <td>35.000626</td>\n      <td>13.999378</td>\n      <td>0.999376</td>\n      <td>0.000624</td>\n      <td>Lf14</td>\n      <td>1.0</td>\n    </tr>\n    <tr>\n      <th>18</th>\n      <td>-56745.258169</td>\n      <td>19</td>\n      <td>./casscf.log</td>\n      <td>4</td>\n      <td>2.293107e+00</td>\n      <td>1.0</td>\n      <td>35.167809</td>\n      <td>13.832196</td>\n      <td>0.832194</td>\n      <td>0.167806</td>\n      <td>Lf14</td>\n      <td>1.0</td>\n    </tr>\n    <tr>\n      <th>19</th>\n      <td>-56745.258169</td>\n      <td>20</td>\n      <td>./casscf.log</td>\n      <td>4</td>\n      <td>2.293108e+00</td>\n      <td>1.0</td>\n      <td>35.148684</td>\n      <td>13.851319</td>\n      <td>0.851317</td>\n      <td>0.148683</td>\n      <td>Lf14</td>\n      <td>1.0</td>\n    </tr>\n    <tr>\n      <th>20</th>\n      <td>-56745.258120</td>\n      <td>21</td>\n      <td>./casscf.log</td>\n      <td>4</td>\n      <td>2.294438e+00</td>\n      <td>1.0</td>\n      <td>35.163017</td>\n      <td>13.836985</td>\n      <td>0.836986</td>\n      <td>0.163014</td>\n      <td>Lf14</td>\n      <td>1.0</td>\n    </tr>\n    <tr>\n      <th>21</th>\n      <td>-56745.258120</td>\n      <td>22</td>\n      <td>./casscf.log</td>\n      <td>4</td>\n      <td>2.294438e+00</td>\n      <td>1.0</td>\n      <td>35.150056</td>\n      <td>13.849944</td>\n      <td>0.849945</td>\n      <td>0.150055</td>\n      <td>Lf14</td>\n      <td>1.0</td>\n    </tr>\n    <tr>\n      <th>22</th>\n      <td>-56745.253568</td>\n      <td>23</td>\n      <td>./casscf.log</td>\n      <td>5</td>\n      <td>2.418282e+00</td>\n      <td>1.0</td>\n      <td>35.033755</td>\n      <td>13.966246</td>\n      <td>0.966246</td>\n      <td>0.033754</td>\n      <td>Lf14</td>\n      <td>1.0</td>\n    </tr>\n    <tr>\n      <th>23</th>\n      <td>-56745.253568</td>\n      <td>24</td>\n      <td>./casscf.log</td>\n      <td>5</td>\n      <td>2.418282e+00</td>\n      <td>1.0</td>\n      <td>35.033378</td>\n      <td>13.966623</td>\n      <td>0.966623</td>\n      <td>0.033377</td>\n      <td>Lf14</td>\n      <td>1.0</td>\n    </tr>\n    <tr>\n      <th>24</th>\n      <td>-56745.245768</td>\n      <td>25</td>\n      <td>./casscf.log</td>\n      <td>6</td>\n      <td>2.630536e+00</td>\n      <td>1.0</td>\n      <td>35.001839</td>\n      <td>13.998163</td>\n      <td>0.998163</td>\n      <td>0.001837</td>\n      <td>Lf14</td>\n      <td>1.0</td>\n    </tr>\n    <tr>\n      <th>25</th>\n      <td>-56745.245768</td>\n      <td>26</td>\n      <td>./casscf.log</td>\n      <td>6</td>\n      <td>2.630537e+00</td>\n      <td>1.0</td>\n      <td>35.001929</td>\n      <td>13.998070</td>\n      <td>0.998071</td>\n      <td>0.001929</td>\n      <td>Lf14</td>\n      <td>1.0</td>\n    </tr>\n    <tr>\n      <th>26</th>\n      <td>-56745.244313</td>\n      <td>27</td>\n      <td>./casscf.log</td>\n      <td>7</td>\n      <td>2.670124e+00</td>\n      <td>1.0</td>\n      <td>35.015548</td>\n      <td>13.984455</td>\n      <td>0.984455</td>\n      <td>0.015545</td>\n      <td>Lf14</td>\n      <td>1.0</td>\n    </tr>\n    <tr>\n      <th>27</th>\n      <td>-56745.244313</td>\n      <td>28</td>\n      <td>./casscf.log</td>\n      <td>7</td>\n      <td>2.670124e+00</td>\n      <td>1.0</td>\n      <td>35.017717</td>\n      <td>13.982283</td>\n      <td>0.982283</td>\n      <td>0.017717</td>\n      <td>Lf14</td>\n      <td>1.0</td>\n    </tr>\n    <tr>\n      <th>28</th>\n      <td>-56745.244207</td>\n      <td>29</td>\n      <td>./casscf.log</td>\n      <td>7</td>\n      <td>2.673010e+00</td>\n      <td>1.0</td>\n      <td>35.017309</td>\n      <td>13.982692</td>\n      <td>0.982690</td>\n      <td>0.017310</td>\n      <td>Lf14</td>\n      <td>1.0</td>\n    </tr>\n    <tr>\n      <th>29</th>\n      <td>-56745.244207</td>\n      <td>30</td>\n      <td>./casscf.log</td>\n      <td>7</td>\n      <td>2.673010e+00</td>\n      <td>1.0</td>\n      <td>35.014296</td>\n      <td>13.985700</td>\n      <td>0.985702</td>\n      <td>0.014298</td>\n      <td>Lf14</td>\n      <td>1.0</td>\n    </tr>\n    <tr>\n      <th>30</th>\n      <td>-56745.238779</td>\n      <td>31</td>\n      <td>./casscf.log</td>\n      <td>8</td>\n      <td>2.820717e+00</td>\n      <td>1.0</td>\n      <td>35.000121</td>\n      <td>13.999878</td>\n      <td>0.999878</td>\n      <td>0.000122</td>\n      <td>Lf14</td>\n      <td>1.0</td>\n    </tr>\n    <tr>\n      <th>31</th>\n      <td>-56745.238779</td>\n      <td>32</td>\n      <td>./casscf.log</td>\n      <td>8</td>\n      <td>2.820719e+00</td>\n      <td>1.0</td>\n      <td>35.000118</td>\n      <td>13.999885</td>\n      <td>0.999885</td>\n      <td>0.000115</td>\n      <td>Lf14</td>\n      <td>1.0</td>\n    </tr>\n    <tr>\n      <th>32</th>\n      <td>-56745.238690</td>\n      <td>33</td>\n      <td>./casscf.log</td>\n      <td>8</td>\n      <td>2.823154e+00</td>\n      <td>1.0</td>\n      <td>35.000208</td>\n      <td>13.999794</td>\n      <td>0.999794</td>\n      <td>0.000206</td>\n      <td>Lf14</td>\n      <td>1.0</td>\n    </tr>\n    <tr>\n      <th>33</th>\n      <td>-56745.238690</td>\n      <td>34</td>\n      <td>./casscf.log</td>\n      <td>8</td>\n      <td>2.823154e+00</td>\n      <td>1.0</td>\n      <td>35.000173</td>\n      <td>13.999827</td>\n      <td>0.999828</td>\n      <td>0.000172</td>\n      <td>Lf14</td>\n      <td>1.0</td>\n    </tr>\n    <tr>\n      <th>34</th>\n      <td>-56745.228219</td>\n      <td>35</td>\n      <td>./casscf.log</td>\n      <td>9</td>\n      <td>3.108086e+00</td>\n      <td>1.0</td>\n      <td>35.000664</td>\n      <td>13.999337</td>\n      <td>0.999338</td>\n      <td>0.000663</td>\n      <td>Lf14</td>\n      <td>1.0</td>\n    </tr>\n    <tr>\n      <th>35</th>\n      <td>-56745.228219</td>\n      <td>36</td>\n      <td>./casscf.log</td>\n      <td>9</td>\n      <td>3.108086e+00</td>\n      <td>1.0</td>\n      <td>35.000545</td>\n      <td>13.999456</td>\n      <td>0.999457</td>\n      <td>0.000543</td>\n      <td>Lf14</td>\n      <td>1.0</td>\n    </tr>\n    <tr>\n      <th>36</th>\n      <td>-56745.226133</td>\n      <td>37</td>\n      <td>./casscf.log</td>\n      <td>10</td>\n      <td>3.164852e+00</td>\n      <td>1.0</td>\n      <td>35.014438</td>\n      <td>13.985563</td>\n      <td>0.985562</td>\n      <td>0.014438</td>\n      <td>Lf14</td>\n      <td>1.0</td>\n    </tr>\n    <tr>\n      <th>37</th>\n      <td>-56745.226132</td>\n      <td>38</td>\n      <td>./casscf.log</td>\n      <td>10</td>\n      <td>3.164854e+00</td>\n      <td>1.0</td>\n      <td>35.011321</td>\n      <td>13.988681</td>\n      <td>0.988680</td>\n      <td>0.011320</td>\n      <td>Lf14</td>\n      <td>1.0</td>\n    </tr>\n    <tr>\n      <th>38</th>\n      <td>-56745.216577</td>\n      <td>39</td>\n      <td>./casscf.log</td>\n      <td>11</td>\n      <td>3.424862e+00</td>\n      <td>1.0</td>\n      <td>35.009906</td>\n      <td>13.990097</td>\n      <td>0.990095</td>\n      <td>0.009905</td>\n      <td>Lf14</td>\n      <td>1.0</td>\n    </tr>\n    <tr>\n      <th>39</th>\n      <td>-56745.216577</td>\n      <td>40</td>\n      <td>./casscf.log</td>\n      <td>11</td>\n      <td>3.424862e+00</td>\n      <td>1.0</td>\n      <td>35.012313</td>\n      <td>13.987688</td>\n      <td>0.987688</td>\n      <td>0.012312</td>\n      <td>Lf14</td>\n      <td>1.0</td>\n    </tr>\n    <tr>\n      <th>40</th>\n      <td>-56745.199524</td>\n      <td>41</td>\n      <td>./casscf.log</td>\n      <td>12</td>\n      <td>3.888918e+00</td>\n      <td>1.0</td>\n      <td>35.004127</td>\n      <td>13.995873</td>\n      <td>0.995873</td>\n      <td>0.004127</td>\n      <td>Lf14</td>\n      <td>1.0</td>\n    </tr>\n    <tr>\n      <th>41</th>\n      <td>-56745.199524</td>\n      <td>42</td>\n      <td>./casscf.log</td>\n      <td>12</td>\n      <td>3.888918e+00</td>\n      <td>1.0</td>\n      <td>35.002986</td>\n      <td>13.997017</td>\n      <td>0.997016</td>\n      <td>0.002984</td>\n      <td>Lf14</td>\n      <td>1.0</td>\n    </tr>\n    <tr>\n      <th>42</th>\n      <td>-56745.199457</td>\n      <td>43</td>\n      <td>./casscf.log</td>\n      <td>12</td>\n      <td>3.890727e+00</td>\n      <td>1.0</td>\n      <td>35.002925</td>\n      <td>13.997076</td>\n      <td>0.997074</td>\n      <td>0.002926</td>\n      <td>Lf14</td>\n      <td>1.0</td>\n    </tr>\n    <tr>\n      <th>43</th>\n      <td>-56745.199457</td>\n      <td>44</td>\n      <td>./casscf.log</td>\n      <td>12</td>\n      <td>3.890727e+00</td>\n      <td>1.0</td>\n      <td>35.004188</td>\n      <td>13.995815</td>\n      <td>0.995814</td>\n      <td>0.004186</td>\n      <td>Lf14</td>\n      <td>1.0</td>\n    </tr>\n    <tr>\n      <th>44</th>\n      <td>-56745.198270</td>\n      <td>45</td>\n      <td>./casscf.log</td>\n      <td>13</td>\n      <td>3.923031e+00</td>\n      <td>1.0</td>\n      <td>35.000044</td>\n      <td>13.999957</td>\n      <td>0.999956</td>\n      <td>0.000044</td>\n      <td>Lf14</td>\n      <td>1.0</td>\n    </tr>\n    <tr>\n      <th>45</th>\n      <td>-56745.198270</td>\n      <td>46</td>\n      <td>./casscf.log</td>\n      <td>13</td>\n      <td>3.923031e+00</td>\n      <td>1.0</td>\n      <td>35.000035</td>\n      <td>13.999969</td>\n      <td>0.999969</td>\n      <td>0.000031</td>\n      <td>Lf14</td>\n      <td>1.0</td>\n    </tr>\n    <tr>\n      <th>46</th>\n      <td>-56745.198219</td>\n      <td>47</td>\n      <td>./casscf.log</td>\n      <td>13</td>\n      <td>3.924422e+00</td>\n      <td>1.0</td>\n      <td>35.000158</td>\n      <td>13.999843</td>\n      <td>0.999842</td>\n      <td>0.000158</td>\n      <td>Lf14</td>\n      <td>1.0</td>\n    </tr>\n    <tr>\n      <th>47</th>\n      <td>-56745.198219</td>\n      <td>48</td>\n      <td>./casscf.log</td>\n      <td>13</td>\n      <td>3.924422e+00</td>\n      <td>1.0</td>\n      <td>35.000218</td>\n      <td>13.999784</td>\n      <td>0.999784</td>\n      <td>0.000217</td>\n      <td>Lf14</td>\n      <td>1.0</td>\n    </tr>\n    <tr>\n      <th>48</th>\n      <td>-56745.181512</td>\n      <td>49</td>\n      <td>./casscf.log</td>\n      <td>14</td>\n      <td>4.379027e+00</td>\n      <td>1.0</td>\n      <td>35.000024</td>\n      <td>13.999977</td>\n      <td>0.999977</td>\n      <td>0.000023</td>\n      <td>Lf14</td>\n      <td>1.0</td>\n    </tr>\n    <tr>\n      <th>49</th>\n      <td>-56745.181512</td>\n      <td>50</td>\n      <td>./casscf.log</td>\n      <td>14</td>\n      <td>4.379028e+00</td>\n      <td>1.0</td>\n      <td>35.000020</td>\n      <td>13.999982</td>\n      <td>0.999982</td>\n      <td>0.000018</td>\n      <td>Lf14</td>\n      <td>1.0</td>\n    </tr>\n  </tbody>\n</table>\n</div>"
     },
     "execution_count": 5,
     "metadata": {},
     "output_type": "execute_result"
    }
   ],
   "source": [
    "cas_states.df"
   ],
   "metadata": {
    "collapsed": false,
    "ExecuteTime": {
     "end_time": "2023-05-10T22:41:27.674436Z",
     "start_time": "2023-05-10T22:41:27.663452Z"
    }
   }
  },
  {
   "cell_type": "code",
   "execution_count": 5,
   "id": "93b129c3",
   "metadata": {
    "collapsed": false,
    "jupyter": {
     "outputs_hidden": false
    },
    "ExecuteTime": {
     "end_time": "2023-05-09T16:06:59.780499Z",
     "start_time": "2023-05-09T16:06:59.774261Z"
    }
   },
   "outputs": [
    {
     "name": "stdout",
     "output_type": "stream",
     "text": [
      "========================================================================================================================\n",
      "#    0: E =     -56745.3Eh\n",
      "        MO: 4f(13.04) + 5p(35.96)\n",
      "        |ψ> = f13(95.960%) + Lf14( 4.040%)\n",
      "------------------------------------------------------------------------------------------------------------------------\n",
      " Addr RAS1                        RAS2                        RAS3           Coefficient           \n",
      "    41 11111111011111111111111111111111111111111111111111 C =  0.014-0.836j |C|^2 =  0.699\n",
      "     0 11111111111111111111111111111111111111111111111110 C =  0.428+0.000j |C|^2 =  0.183\n",
      "    39 11111111110111111111111111111111111111111111111111 C = -0.018+0.213j |C|^2 =  0.046\n",
      "    37 11111111111101111111111111111111111111111111111111 C =  0.113+0.114j |C|^2 =  0.026\n",
      "    10 11111111111111111111111111111111111111101111111111 C = -0.017+0.156j |C|^2 =  0.025\n",
      "========================================================================================================================\n",
      "#    1: E =     -56745.3Eh\n",
      "        MO: 4f(13.03) + 5p(35.97)\n",
      "        |ψ> = f13(97.257%) + Lf14( 2.743%)\n",
      "------------------------------------------------------------------------------------------------------------------------\n",
      " Addr RAS1                        RAS2                        RAS3           Coefficient           \n",
      "    38 11111111111011111111111111111111111111111111111111 C =  0.720+0.473j |C|^2 =  0.743\n",
      "    43 11111101111111111111111111111111111111111111111111 C =  0.221-0.403j |C|^2 =  0.212\n",
      "    25 11111111111111111111111101111111111111111111111111 C = -0.135+0.089j |C|^2 =  0.026\n",
      "    48 10111111111111111111111111111111111111111111111111 C =  0.022-0.084j |C|^2 =  0.008\n",
      "    49 01111111111111111111111111111111111111111111111111 C = -0.032+0.062j |C|^2 =  0.005\n",
      "========================================================================================================================\n"
     ]
    }
   ],
   "source": [
    "cas_states.print_state(idx=[0, 1])"
   ]
  },
  {
   "cell_type": "code",
   "execution_count": 6,
   "id": "a504229d",
   "metadata": {
    "collapsed": false,
    "jupyter": {
     "outputs_hidden": false
    },
    "ExecuteTime": {
     "end_time": "2023-05-09T16:07:00.498634Z",
     "start_time": "2023-05-09T16:07:00.421886Z"
    }
   },
   "outputs": [
    {
     "data": {
      "text/plain": "<Figure size 640x480 with 1 Axes>",
      "image/png": "[encoded data removed]"
     },
     "metadata": {},
     "output_type": "display_data"
    }
   ],
   "source": [
    "from mctools.plot.states import prepare_state_centers\n",
    "\n",
    "width = 0.1\n",
    "x_c = prepare_state_centers(cas_states, column_width=2)\n",
    "\n",
    "plt.hlines('E', x_c - width, x_c + width, data=cas_states.df)\n",
    "plt.show()"
   ]
  },
  {
   "cell_type": "markdown",
   "id": "bab6325e",
   "metadata": {},
   "source": [
    "# Analyze RASCI States"
   ]
  },
  {
   "cell_type": "code",
   "execution_count": 7,
   "id": "7b7f3b99",
   "metadata": {
    "collapsed": false,
    "jupyter": {
     "outputs_hidden": false
    },
    "ExecuteTime": {
     "end_time": "2023-05-09T16:07:03.010623Z",
     "start_time": "2023-05-09T16:07:02.935034Z"
    }
   },
   "outputs": [
    {
     "name": "stdout",
     "output_type": "stream",
     "text": [
      "Reading /Users/kirill/Documents/UW/Li_Group/CsPbCl3_Ln/calculations/rasci/ras-36p-14f/rasci_62s.ce3p_casscf_sa14_14s_gb3lyp_ref.tzvppall.gdv_j14p.7491751.log\n",
      "Parsing link l910\n",
      "Executing: read_mc_spec --- Done\n",
      "Executing: read_ci --- Done\n",
      "Executing: read_rdm_diags --- Done\n",
      "Skipping: read_oscillator_strength, parameter n_ground is unavailable\n"
     ]
    }
   ],
   "source": [
    "rasci_gs_dir = '/Users/kirill/Documents/UW/Li_Group/CsPbCl3_Ln/calculations/rasci/ras-36p-14f'\n",
    "\n",
    "gs_space = MCSpace.from_space_spec(\n",
    "    (36, 14, 12), 37,\n",
    "    max_hole=2, max_elec=2,\n",
    "    mo_blocks={\n",
    "        '3p': [(0, 36)],\n",
    "        '4f': [(36, 50)],\n",
    "        'virt': [(50, 62)],\n",
    "    },\n",
    "    config_classes={\n",
    "        'f1': {'3p': 36, '4f': 1, 'virt': 0},\n",
    "        'Lf2': {'3p': 35, '4f': 2, 'virt': 0}\n",
    "    }\n",
    ")\n",
    "\n",
    "ce3p_cas_gdvlog = os.path.join(rasci_gs_dir, 'rasci_62s.ce3p_casscf_sa14_14s_gb3lyp_ref.tzvppall.gdv_j14p.7491751.log')\n",
    "data = parse_gdvlog(ce3p_cas_gdvlog, l910_parser_funcs_general)\n",
    "states = MCStates.from_dict(data, space=gs_space)\n",
    "states.analyze()"
   ]
  },
  {
   "cell_type": "code",
   "execution_count": 8,
   "id": "3ef7e680",
   "metadata": {
    "collapsed": false,
    "jupyter": {
     "outputs_hidden": false
    },
    "ExecuteTime": {
     "end_time": "2023-05-09T16:07:03.667619Z",
     "start_time": "2023-05-09T16:07:03.595578Z"
    }
   },
   "outputs": [
    {
     "name": "stdout",
     "output_type": "stream",
     "text": [
      "Reading /Users/kirill/Documents/UW/Li_Group/CsPbCl3_Ln/calculations/rasci/ras-36p-14f/rasci_62s.ce4p_gb3lyp_ref.tzvppall.gdv_j14p.7403644.log\n",
      "Parsing link l910\n",
      "Executing: read_mc_spec --- Done\n",
      "Executing: read_ci --- Done\n",
      "Executing: read_rdm_diags --- Done\n",
      "Skipping: read_oscillator_strength, parameter n_ground is unavailable\n"
     ]
    }
   ],
   "source": [
    "ce4p_space = MCSpace.from_space_spec(\n",
    "    (36, 14, 12), 36,\n",
    "    max_hole=2, max_elec=2,\n",
    "    mo_blocks={\n",
    "        '3p': [(0, 36)],\n",
    "        '4f': [(36, 50)],\n",
    "        'virt': [(50, 62)],\n",
    "    },\n",
    "    config_classes={\n",
    "        'f0': {'3p': 36, '4f': 0, 'virt': 0},\n",
    "\n",
    "        'Lf1': {'3p': 35, '4f': 1, 'virt': 0},\n",
    "        'Ld1': {'3p': 35, '4f': 0, 'virt': 1},\n",
    "\n",
    "        'L2f1d1': {'3p': 34, '4f': 1, 'virt': 1},\n",
    "        'L2f0d2': {'3p': 34, '4f': 0, 'virt': 2},\n",
    "    }\n",
    ")\n",
    "\n",
    "ce4p_cas_gdvlog = os.path.join(rasci_gs_dir, 'rasci_62s.ce4p_gb3lyp_ref.tzvppall.gdv_j14p.7403644.log')\n",
    "data = parse_gdvlog(ce4p_cas_gdvlog, l910_parser_funcs_general)\n",
    "ce4p = MCStates.from_dict(data, space=ce4p_space)\n",
    "ce4p.analyze()"
   ]
  },
  {
   "cell_type": "code",
   "execution_count": 9,
   "id": "bdf090bc",
   "metadata": {
    "collapsed": false,
    "jupyter": {
     "outputs_hidden": false
    },
    "ExecuteTime": {
     "end_time": "2023-05-09T16:07:04.154180Z",
     "start_time": "2023-05-09T16:07:04.140992Z"
    }
   },
   "outputs": [
    {
     "name": "stdout",
     "output_type": "stream",
     "text": [
      "                             C      norm           r1    r2    r3                                                       config_repr config_class\n",
      "idx addr                                                                                                                                        \n",
      "1   194     0.500411-0.168521j  0.278810  68715282431    32     0  111111111111111111111101111111111111 00000100000000 000000000000          Lf1\n",
      "    160     0.152747+0.471134j  0.245299  68718428159    16     0  111111111111111111110111111111111111 00001000000000 000000000000          Lf1\n",
      "    199    -0.320732+0.104866j  0.113866  68719345663    32     0  111111111111111110111111111111111111 00000100000000 000000000000          Lf1\n",
      "    164     0.097885+0.299679j  0.099389  68719411199    16     0  111111111111111101111111111111111111 00001000000000 000000000000          Lf1\n",
      "    191    -0.142523+0.045986j  0.022427  68685922303    32     0  111111111111111111111111101111111111 00000100000000 000000000000          Lf1\n",
      "    153    -0.134767+0.043525j  0.020056  68585259007    16     0  111111111111111111111111111011111111 00001000000000 000000000000          Lf1\n",
      "    410     0.037643+0.111793j  0.013915  68715282431  2048     0  111111111111111111111101111111111111 00000000000100 000000000000          Lf1\n",
      "    376     0.034586+0.106877j  0.012619  68718428159  1024     0  111111111111111111110111111111111111 00000000001000 000000000000          Lf1\n",
      "    415    -0.021867-0.066892j  0.004953  68719345663  2048     0  111111111111111110111111111111111111 00000000000100 000000000000          Lf1\n",
      "    380     0.021090+0.064685j  0.004629  68719411199  1024     0  111111111111111101111111111111111111 00000000001000 000000000000          Lf1\n",
      "    29575  -0.021734-0.064335j  0.004611  68706893823    48     0  111111111111111111111100111111111111 00001100000000 000000000000             \n",
      "    23933   0.021577+0.064291j  0.004599  68714233855    40     0  111111111111111111110101111111111111 00010100000000 000000000000             \n",
      "    17003  -0.020353-0.060200j  0.004038  68714233855    20     0  111111111111111111110101111111111111 00101000000000 000000000000             \n",
      "    29604  -0.060472+0.019336j  0.004031  68716331007    48     0  111111111111111111110011111111111111 00001100000000 000000000000             \n",
      "    39714   0.058950-0.019851j  0.003869  68715020287  8224     0  111111111111111111011101111111111111 00000100000001 000000000000             \n",
      "    39068   0.058941-0.019850j  0.003868  68714758143  4128     0  111111111111111111101101111111111111 00000100000010 000000000000             \n",
      "    58045  -0.018041-0.055923j  0.003453  68719476703     0    32  111110111111111111111111111111111111 00000000000000 000001000000          Ld1\n",
      "    34676   0.018044+0.055660j  0.003424  68718166015  8208     0  111111111111111111010111111111111111 00001000000001 000000000000             \n",
      "    34030   0.017938+0.055327j  0.003383  68717903871  4112     0  111111111111111111100111111111111111 00001000000010 000000000000             \n",
      "    37163  -0.015057-0.044768j  0.002231  68714233855   544     0  111111111111111111110101111111111111 00000100010000 000000000000             \n",
      "    37765   0.014992+0.044461j  0.002202  68706893823  1056     0  111111111111111111111100111111111111 00000100001000 000000000000             \n",
      "    31493  -0.042328+0.014280j  0.001996  68714233855   272     0  111111111111111111110101111111111111 00001000100000 000000000000             \n",
      "    33384  -0.013333-0.041700j  0.001917  68716331007  2064     0  111111111111111111110011111111111111 00001000000100 000000000000             \n",
      "    23983   0.013248+0.040664j  0.001829  68718297087    40     0  111111111111111110110111111111111111 00010100000000 000000000000             \n",
      "    39831  -0.040071+0.013494j  0.001788  68715278335  8224     0  111111111111011111111101111111111111 00000100000001 000000000000             \n",
      "    29650   0.013152+0.040097j  0.001781  68710957055    48     0  111111111111111110111110111111111111 00001100000000 000000000000             \n",
      "    36503   0.013430+0.039994j  0.001780  68681727999   288     0  111111111111111111111101101111111111 00000100100000 000000000000             \n",
      "    39179   0.039148-0.013184j  0.001706  68715274239  4128     0  111111111111101111111101111111111111 00000100000010 000000000000             \n",
      "    17069  -0.012843-0.037712j  0.001587  68715216895    20     0  111111111111111101111101111111111111 00101000000000 000000000000             \n",
      "    34793  -0.012249-0.037780j  0.001577  68718424063  8208     0  111111111111011111110111111111111111 00001000000001 000000000000             \n",
      "    32118   0.012173+0.037743j  0.001573  68584210431   528     0  111111111111111111110111111011111111 00001000010000 000000000000             \n",
      "    29670  -0.037421+0.012053j  0.001546  68717314047    48     0  111111111111111101111011111111111111 00001100000000 000000000000             \n",
      "    39735   0.037277-0.012187j  0.001538  68719083519  8224     0  111111111111111110011111111111111111 00000100000001 000000000000             \n",
      "    159045  0.036856-0.012415j  0.001513  68715282430    32  2048  011111111111111111111101111111111111 00000100000000 000000000001       L2f1d1\n",
      "    39104   0.036796-0.012032j  0.001499  68718821375  4128     0  111111111111111110101111111111111111 00000100000010 000000000000             \n",
      "    34141   0.011925+0.036782j  0.001495  68718419967  4112     0  111111111111101111110111111111111111 00001000000010 000000000000             \n",
      "    491    -0.036090+0.011679j  0.001439  68719468543  8192     0  111111111111101111111111111111111111 00000000000001 000000000000          Lf1\n",
      "    58261   0.035888-0.011584j  0.001422  68719476703     0  2048  111110111111111111111111111111111111 00000000000000 000000000001          Ld1\n",
      "    57     -0.011467-0.035794j  0.001413  68719443967     2     0  111111111111111011111111111111111111 01000000000000 000000000000          Lf1\n",
      "    38392   0.011899+0.035306j  0.001388  68648173567  2080     0  111111111111111111111101110111111111 00000100000100 000000000000             \n",
      "    34713  -0.011435-0.035012j  0.001357  68719149055  8208     0  111111111111111101011111111111111111 00001000000001 000000000000             \n",
      "    140710 -0.011169-0.034470j  0.001313  68718428155    16   512  110111111111111111110111111111111111 00001000000000 000000000100       L2f1d1\n",
      "    34082  -0.011179-0.034222j  0.001296  68718886911  4112     0  111111111111111101101111111111111111 00001000000010 000000000000             \n",
      "    58020   0.010877+0.033740j  0.001257  67645734911     0    32  111111111111111111111111111111011111 00000000000000 000001000000          Ld1\n",
      "    32751  -0.033386+0.010900j  0.001233  68701650943  1040     0  111111111111111111110111011111111111 00001000001000 000000000000             \n",
      "    3110    0.011195+0.033228j  0.001229  68446846975    33     0  111111111111111111111101111101111111 10000100000000 000000000000             \n",
      "    58013   0.033266-0.010611j  0.001219  68719476733     0    16  101111111111111111111111111111111111 00000000000000 000010000000          Ld1\n",
      "    49     -0.010699-0.033144j  0.001213  68711088127     2     0  111111111111111111111110111111111111 01000000000000 000000000000          Lf1\n",
      "    10669  -0.011016-0.032725j  0.001192  68178411519    34     0  111111111111111111111101111110111111 01000100000000 000000000000             \n",
      "    58010  -0.032322+0.010306j  0.001151  68719476719     0    16  111101111111111111111111111111111111 00000000000000 000010000000          Ld1\n"
     ]
    }
   ],
   "source": [
    "with pd.option_context('max_colwidth', 100_000, 'display.expand_frame_repr', False):\n",
    "    df = ce4p.get_state_ci_vec([1])\n",
    "    print(df)"
   ]
  },
  {
   "cell_type": "code",
   "execution_count": 10,
   "outputs": [
    {
     "name": "stdout",
     "output_type": "stream",
     "text": [
      "========================================================================================================================\n",
      "#    0: E =            0Eh\n",
      "        MO: 3p(35.88) + 4f( 0.09) + virt( 0.03)\n",
      "        |ψ> = f0(89.440%) + Lf1( 8.670%) + Ld1( 0.118%) + L2f1d1( 0.000%) + L2f0d2( 0.212%)\n",
      "------------------------------------------------------------------------------------------------------------------------\n",
      " Addr                 RAS1                      RAS2          RAS3               Coefficient           \n",
      "     0 111111111111111111111111111111111111 00000000000000 000000000000 C = -0.941+0.096j |C|^2 =  0.894\n",
      "   124 111111111111111111110111111111111111 00010000000000 000000000000 C =  0.009+0.087j |C|^2 =  0.008\n",
      "   195 111111111111111111111011111111111111 00000100000000 000000000000 C =  0.009+0.087j |C|^2 =  0.008\n",
      "    86 111111111111111111111101111111111111 00100000000000 000000000000 C =  0.087-0.010j |C|^2 =  0.008\n",
      "   157 111111111111111111111110111111111111 00001000000000 000000000000 C =  0.009+0.087j |C|^2 =  0.008\n",
      "   449 111111111111111111101111111111111111 00000000000010 000000000000 C = -0.072+0.007j |C|^2 =  0.005\n",
      "========================================================================================================================\n",
      "#    1: E =     0.189808Eh\n",
      "        MO: 3p(34.84) + 4f( 1.10) + virt( 0.05)\n",
      "        |ψ> = f0( 0.000%) + Lf1(82.003%) + Ld1( 0.850%) + L2f1d1( 0.283%) + L2f0d2( 0.000%)\n",
      "------------------------------------------------------------------------------------------------------------------------\n",
      " Addr                 RAS1                      RAS2          RAS3               Coefficient           \n",
      "   194 111111111111111111111101111111111111 00000100000000 000000000000 C =  0.500-0.169j |C|^2 =  0.279\n",
      "   160 111111111111111111110111111111111111 00001000000000 000000000000 C =  0.153+0.471j |C|^2 =  0.245\n",
      "   199 111111111111111110111111111111111111 00000100000000 000000000000 C = -0.321+0.105j |C|^2 =  0.114\n",
      "   164 111111111111111101111111111111111111 00001000000000 000000000000 C =  0.098+0.300j |C|^2 =  0.099\n",
      "   191 111111111111111111111111101111111111 00000100000000 000000000000 C = -0.143+0.046j |C|^2 =  0.022\n",
      "   153 111111111111111111111111111011111111 00001000000000 000000000000 C = -0.135+0.044j |C|^2 =  0.020\n",
      "========================================================================================================================\n",
      "#    2: E =     0.189808Eh\n",
      "        MO: 3p(34.84) + 4f( 1.10) + virt( 0.05)\n",
      "        |ψ> = f0( 0.000%) + Lf1(81.849%) + Ld1( 0.752%) + L2f1d1( 0.000%) + L2f0d2( 0.000%)\n",
      "------------------------------------------------------------------------------------------------------------------------\n",
      " Addr                 RAS1                      RAS2          RAS3               Coefficient           \n",
      "   124 111111111111111111110111111111111111 00010000000000 000000000000 C =  0.188+0.336j |C|^2 =  0.148\n",
      "   157 111111111111111111111110111111111111 00001000000000 000000000000 C = -0.189-0.336j |C|^2 =  0.148\n",
      "   195 111111111111111111111011111111111111 00000100000000 000000000000 C = -0.164-0.296j |C|^2 =  0.115\n",
      "    86 111111111111111111111101111111111111 00100000000000 000000000000 C =  0.293-0.169j |C|^2 =  0.115\n",
      "   128 111111111111111101111111111111111111 00010000000000 000000000000 C =  0.121+0.215j |C|^2 =  0.061\n",
      "   165 111111111111111011111111111111111111 00001000000000 000000000000 C = -0.120-0.215j |C|^2 =  0.061\n",
      "========================================================================================================================\n"
     ]
    }
   ],
   "source": [
    "ce4p.print_state(idx=[0, 1, 2], include_mo=True, include_config_class=True, shift_ground=True, config_limit=6)"
   ],
   "metadata": {
    "collapsed": false,
    "ExecuteTime": {
     "end_time": "2023-05-09T16:07:04.638418Z",
     "start_time": "2023-05-09T16:07:04.626842Z"
    }
   }
  },
  {
   "cell_type": "code",
   "execution_count": 11,
   "outputs": [
    {
     "data": {
      "text/plain": "                E  state                                       state_source   \nidx                                                                           \n0   -11624.398525      1  /Users/kirill/Documents/UW/Li_Group/CsPbCl3_Ln...  \\\n1   -11624.208718      2  /Users/kirill/Documents/UW/Li_Group/CsPbCl3_Ln...   \n2   -11624.208718      3  /Users/kirill/Documents/UW/Li_Group/CsPbCl3_Ln...   \n3   -11624.208718      4  /Users/kirill/Documents/UW/Li_Group/CsPbCl3_Ln...   \n4   -11624.205538      5  /Users/kirill/Documents/UW/Li_Group/CsPbCl3_Ln...   \n..            ...    ...                                                ...   \n57  -11624.186860     58  /Users/kirill/Documents/UW/Li_Group/CsPbCl3_Ln...   \n58  -11624.186860     59  /Users/kirill/Documents/UW/Li_Group/CsPbCl3_Ln...   \n59  -11624.186860     60  /Users/kirill/Documents/UW/Li_Group/CsPbCl3_Ln...   \n60  -11624.186554     61  /Users/kirill/Documents/UW/Li_Group/CsPbCl3_Ln...   \n61  -11624.186554     62  /Users/kirill/Documents/UW/Li_Group/CsPbCl3_Ln...   \n\n     g      norm         3p        4f      virt       Ld1       Lf1    L2f0d2   \nidx                                                                             \n0    0  0.992161  35.877056  0.094078  0.028871  0.001176  0.086696  0.002116  \\\n1    1  0.948112  34.843072  1.102732  0.054198  0.008502  0.820028  0.000000   \n2    1  0.939675  34.843073  1.102732  0.054198  0.007523  0.818489  0.000000   \n3    1  0.948099  34.843071  1.102731  0.054198  0.008502  0.820002  0.000000   \n4    2  0.922620  34.842682  1.105899  0.051419  0.008673  0.814061  0.000000   \n..  ..       ...        ...       ...       ...       ...       ...       ...   \n57   8  0.921813  34.834995  1.111837  0.053166  0.005314  0.807546  0.000000   \n58   8  0.915842  34.834997  1.111839  0.053165  0.008556  0.804478  0.000000   \n59   8  0.922227  34.834998  1.111841  0.053165  0.005321  0.808272  0.000000   \n60   8  0.931257  34.826782  1.111155  0.062062  0.003593  0.797350  0.000000   \n61   8  0.934842  34.826784  1.111156  0.062062  0.008485  0.801046  0.000000   \n\n         rest        f0    L2f1d1  \nidx                                \n0    0.000000  0.894397  0.000000  \n1    0.067562  0.000000  0.002825  \n2    0.056977  0.000000  0.000000  \n3    0.067562  0.000000  0.002825  \n4    0.028493  0.000000  0.000000  \n..        ...       ...       ...  \n57   0.036880  0.000000  0.000000  \n58   0.025731  0.000000  0.000000  \n59   0.036911  0.000000  0.000000  \n60   0.066297  0.000000  0.000000  \n61   0.064397  0.000000  0.000000  \n\n[62 rows x 14 columns]",
      "text/html": "<div>\n<style scoped>\n    .dataframe tbody tr th:only-of-type {\n        vertical-align: middle;\n    }\n\n    .dataframe tbody tr th {\n        vertical-align: top;\n    }\n\n    .dataframe thead th {\n        text-align: right;\n    }\n</style>\n<table border=\"1\" class=\"dataframe\">\n  <thead>\n    <tr style=\"text-align: right;\">\n      <th></th>\n      <th>E</th>\n      <th>state</th>\n      <th>state_source</th>\n      <th>g</th>\n      <th>norm</th>\n      <th>3p</th>\n      <th>4f</th>\n      <th>virt</th>\n      <th>Ld1</th>\n      <th>Lf1</th>\n      <th>L2f0d2</th>\n      <th>rest</th>\n      <th>f0</th>\n      <th>L2f1d1</th>\n    </tr>\n    <tr>\n      <th>idx</th>\n      <th></th>\n      <th></th>\n      <th></th>\n      <th></th>\n      <th></th>\n      <th></th>\n      <th></th>\n      <th></th>\n      <th></th>\n      <th></th>\n      <th></th>\n      <th></th>\n      <th></th>\n      <th></th>\n    </tr>\n  </thead>\n  <tbody>\n    <tr>\n      <th>0</th>\n      <td>-11624.398525</td>\n      <td>1</td>\n      <td>/Users/kirill/Documents/UW/Li_Group/CsPbCl3_Ln...</td>\n      <td>0</td>\n      <td>0.992161</td>\n      <td>35.877056</td>\n      <td>0.094078</td>\n      <td>0.028871</td>\n      <td>0.001176</td>\n      <td>0.086696</td>\n      <td>0.002116</td>\n      <td>0.000000</td>\n      <td>0.894397</td>\n      <td>0.000000</td>\n    </tr>\n    <tr>\n      <th>1</th>\n      <td>-11624.208718</td>\n      <td>2</td>\n      <td>/Users/kirill/Documents/UW/Li_Group/CsPbCl3_Ln...</td>\n      <td>1</td>\n      <td>0.948112</td>\n      <td>34.843072</td>\n      <td>1.102732</td>\n      <td>0.054198</td>\n      <td>0.008502</td>\n      <td>0.820028</td>\n      <td>0.000000</td>\n      <td>0.067562</td>\n      <td>0.000000</td>\n      <td>0.002825</td>\n    </tr>\n    <tr>\n      <th>2</th>\n      <td>-11624.208718</td>\n      <td>3</td>\n      <td>/Users/kirill/Documents/UW/Li_Group/CsPbCl3_Ln...</td>\n      <td>1</td>\n      <td>0.939675</td>\n      <td>34.843073</td>\n      <td>1.102732</td>\n      <td>0.054198</td>\n      <td>0.007523</td>\n      <td>0.818489</td>\n      <td>0.000000</td>\n      <td>0.056977</td>\n      <td>0.000000</td>\n      <td>0.000000</td>\n    </tr>\n    <tr>\n      <th>3</th>\n      <td>-11624.208718</td>\n      <td>4</td>\n      <td>/Users/kirill/Documents/UW/Li_Group/CsPbCl3_Ln...</td>\n      <td>1</td>\n      <td>0.948099</td>\n      <td>34.843071</td>\n      <td>1.102731</td>\n      <td>0.054198</td>\n      <td>0.008502</td>\n      <td>0.820002</td>\n      <td>0.000000</td>\n      <td>0.067562</td>\n      <td>0.000000</td>\n      <td>0.002825</td>\n    </tr>\n    <tr>\n      <th>4</th>\n      <td>-11624.205538</td>\n      <td>5</td>\n      <td>/Users/kirill/Documents/UW/Li_Group/CsPbCl3_Ln...</td>\n      <td>2</td>\n      <td>0.922620</td>\n      <td>34.842682</td>\n      <td>1.105899</td>\n      <td>0.051419</td>\n      <td>0.008673</td>\n      <td>0.814061</td>\n      <td>0.000000</td>\n      <td>0.028493</td>\n      <td>0.000000</td>\n      <td>0.000000</td>\n    </tr>\n    <tr>\n      <th>...</th>\n      <td>...</td>\n      <td>...</td>\n      <td>...</td>\n      <td>...</td>\n      <td>...</td>\n      <td>...</td>\n      <td>...</td>\n      <td>...</td>\n      <td>...</td>\n      <td>...</td>\n      <td>...</td>\n      <td>...</td>\n      <td>...</td>\n      <td>...</td>\n    </tr>\n    <tr>\n      <th>57</th>\n      <td>-11624.186860</td>\n      <td>58</td>\n      <td>/Users/kirill/Documents/UW/Li_Group/CsPbCl3_Ln...</td>\n      <td>8</td>\n      <td>0.921813</td>\n      <td>34.834995</td>\n      <td>1.111837</td>\n      <td>0.053166</td>\n      <td>0.005314</td>\n      <td>0.807546</td>\n      <td>0.000000</td>\n      <td>0.036880</td>\n      <td>0.000000</td>\n      <td>0.000000</td>\n    </tr>\n    <tr>\n      <th>58</th>\n      <td>-11624.186860</td>\n      <td>59</td>\n      <td>/Users/kirill/Documents/UW/Li_Group/CsPbCl3_Ln...</td>\n      <td>8</td>\n      <td>0.915842</td>\n      <td>34.834997</td>\n      <td>1.111839</td>\n      <td>0.053165</td>\n      <td>0.008556</td>\n      <td>0.804478</td>\n      <td>0.000000</td>\n      <td>0.025731</td>\n      <td>0.000000</td>\n      <td>0.000000</td>\n    </tr>\n    <tr>\n      <th>59</th>\n      <td>-11624.186860</td>\n      <td>60</td>\n      <td>/Users/kirill/Documents/UW/Li_Group/CsPbCl3_Ln...</td>\n      <td>8</td>\n      <td>0.922227</td>\n      <td>34.834998</td>\n      <td>1.111841</td>\n      <td>0.053165</td>\n      <td>0.005321</td>\n      <td>0.808272</td>\n      <td>0.000000</td>\n      <td>0.036911</td>\n      <td>0.000000</td>\n      <td>0.000000</td>\n    </tr>\n    <tr>\n      <th>60</th>\n      <td>-11624.186554</td>\n      <td>61</td>\n      <td>/Users/kirill/Documents/UW/Li_Group/CsPbCl3_Ln...</td>\n      <td>8</td>\n      <td>0.931257</td>\n      <td>34.826782</td>\n      <td>1.111155</td>\n      <td>0.062062</td>\n      <td>0.003593</td>\n      <td>0.797350</td>\n      <td>0.000000</td>\n      <td>0.066297</td>\n      <td>0.000000</td>\n      <td>0.000000</td>\n    </tr>\n    <tr>\n      <th>61</th>\n      <td>-11624.186554</td>\n      <td>62</td>\n      <td>/Users/kirill/Documents/UW/Li_Group/CsPbCl3_Ln...</td>\n      <td>8</td>\n      <td>0.934842</td>\n      <td>34.826784</td>\n      <td>1.111156</td>\n      <td>0.062062</td>\n      <td>0.008485</td>\n      <td>0.801046</td>\n      <td>0.000000</td>\n      <td>0.064397</td>\n      <td>0.000000</td>\n      <td>0.000000</td>\n    </tr>\n  </tbody>\n</table>\n<p>62 rows × 14 columns</p>\n</div>"
     },
     "execution_count": 11,
     "metadata": {},
     "output_type": "execute_result"
    }
   ],
   "source": [
    "ce4p.df"
   ],
   "metadata": {
    "collapsed": false,
    "ExecuteTime": {
     "end_time": "2023-05-09T16:07:05.577477Z",
     "start_time": "2023-05-09T16:07:05.571516Z"
    }
   }
  },
  {
   "cell_type": "markdown",
   "id": "82c92ab4",
   "metadata": {},
   "source": [
    "#  M-Edge Spectrum"
   ]
  },
  {
   "cell_type": "code",
   "execution_count": 3,
   "id": "0627e1e1",
   "metadata": {
    "collapsed": false,
    "jupyter": {
     "outputs_hidden": false
    },
    "ExecuteTime": {
     "end_time": "2023-05-09T16:10:27.404908Z",
     "start_time": "2023-05-09T16:10:27.324078Z"
    }
   },
   "outputs": [
    {
     "name": "stdout",
     "output_type": "stream",
     "text": [
      "Reading data/rasci_3.log\n",
      "Parsing link l910\n",
      "Executing: read_mc_spec --- Done\n",
      "Executing: read_ci --- Done\n",
      "Executing: read_rdm_diags --- Done\n",
      "Executing: read_oscillator_strength --- Done\n"
     ]
    }
   ],
   "source": [
    "rasci_gdvlog = os.path.join(data_dir, 'rasci_3.log')\n",
    "\n",
    "m_edge_data = parse_gdvlog(rasci_gdvlog, l910_parser_funcs_general, n_ground=14)\n",
    "medge_space = MCSpace.from_dict(m_edge_data, max_hole=1, max_elec=0)\n",
    "medge_states = MCStates.from_dict(m_edge_data, space=medge_space)\n",
    "\n",
    "\n",
    "medge_space.mo_blocks = {\n",
    "    '3d': [(0, 10)],\n",
    "    '4f': [(10, 23), 59],\n",
    "    '5p': [(23, 59)],\n",
    "}\n",
    "\n",
    "medge_space.config_classes = {\n",
    "    'f13': {'3d': 10, '4f': 13, '5p': 36},\n",
    "    'Lf14': {'3d': 10, '4f': 14, '5p': 35},\n",
    "    'f14': {'3d': 9, '4f': 14, '5p': 36},\n",
    "}\n",
    "\n",
    "medge_states.analyze()"
   ]
  },
  {
   "cell_type": "code",
   "execution_count": 7,
   "outputs": [
    {
     "name": "stdout",
     "output_type": "stream",
     "text": [
      "                E  state      state_source   g  norm         3d         4f   \n",
      "idx                                                                          \n",
      "0   -56745.342439      1  data/rasci_3.log   0   1.0  10.000000  13.040405  \\\n",
      "1   -56745.342439      2  data/rasci_3.log   0   1.0  10.000000  13.027429   \n",
      "2   -56745.341908      3  data/rasci_3.log   0   1.0  10.000000  13.031923   \n",
      "3   -56745.341908      4  data/rasci_3.log   0   1.0  10.000000  13.019910   \n",
      "4   -56745.341905      5  data/rasci_3.log   0   1.0  10.000000  13.036848   \n",
      "5   -56745.341905      6  data/rasci_3.log   0   1.0  10.000000  13.019469   \n",
      "6   -56745.340935      7  data/rasci_3.log   0   1.0  10.000000  13.005058   \n",
      "7   -56745.340934      8  data/rasci_3.log   0   1.0  10.000000  13.004808   \n",
      "8   -56745.288809      9  data/rasci_3.log   1   1.0  10.000000  13.144299   \n",
      "9   -56745.288809     10  data/rasci_3.log   1   1.0  10.000000  13.150603   \n",
      "10  -56745.288804     11  data/rasci_3.log   1   1.0  10.000000  13.143131   \n",
      "11  -56745.288804     12  data/rasci_3.log   1   1.0  10.000000  13.149827   \n",
      "12  -56745.285262     13  data/rasci_3.log   2   1.0  10.000000  13.029141   \n",
      "13  -56745.285262     14  data/rasci_3.log   2   1.0  10.000000  13.029022   \n",
      "14  -56745.266203     15  data/rasci_3.log   3   1.0  10.000000  13.999651   \n",
      "15  -56745.266203     16  data/rasci_3.log   3   1.0  10.000000  13.999642   \n",
      "16  -56745.266189     17  data/rasci_3.log   3   1.0  10.000000  13.999304   \n",
      "17  -56745.266189     18  data/rasci_3.log   3   1.0  10.000000  13.999378   \n",
      "18  -56745.258169     19  data/rasci_3.log   4   1.0  10.000000  13.832192   \n",
      "19  -56745.258169     20  data/rasci_3.log   4   1.0  10.000000  13.851318   \n",
      "20  -56745.258120     21  data/rasci_3.log   4   1.0  10.000000  13.836987   \n",
      "21  -56745.258120     22  data/rasci_3.log   4   1.0  10.000000  13.849945   \n",
      "22  -56745.253568     23  data/rasci_3.log   5   1.0  10.000000  13.966246   \n",
      "23  -56745.253568     24  data/rasci_3.log   5   1.0  10.000000  13.966623   \n",
      "24  -56745.245768     25  data/rasci_3.log   6   1.0  10.000000  13.998163   \n",
      "25  -56745.245768     26  data/rasci_3.log   6   1.0  10.000000  13.998070   \n",
      "26  -56745.244313     27  data/rasci_3.log   7   1.0  10.000000  13.984455   \n",
      "27  -56745.244313     28  data/rasci_3.log   7   1.0  10.000000  13.982283   \n",
      "28  -56745.244207     29  data/rasci_3.log   7   1.0  10.000000  13.982692   \n",
      "29  -56745.244207     30  data/rasci_3.log   7   1.0  10.000000  13.985700   \n",
      "30  -56745.238779     31  data/rasci_3.log   8   1.0  10.000000  13.999878   \n",
      "31  -56745.238779     32  data/rasci_3.log   8   1.0  10.000000  13.999885   \n",
      "32  -56745.238690     33  data/rasci_3.log   8   1.0  10.000000  13.999794   \n",
      "33  -56745.238690     34  data/rasci_3.log   8   1.0  10.000000  13.999827   \n",
      "34  -56745.228219     35  data/rasci_3.log   9   1.0  10.000000  13.999337   \n",
      "35  -56745.228219     36  data/rasci_3.log   9   1.0  10.000000  13.999456   \n",
      "36  -56745.226133     37  data/rasci_3.log  10   1.0  10.000000  13.985563   \n",
      "37  -56745.226132     38  data/rasci_3.log  10   1.0  10.000000  13.988681   \n",
      "38  -56745.216577     39  data/rasci_3.log  11   1.0  10.000000  13.990097   \n",
      "39  -56745.216577     40  data/rasci_3.log  11   1.0  10.000000  13.987688   \n",
      "40  -56745.199524     41  data/rasci_3.log  12   1.0  10.000000  13.995873   \n",
      "41  -56745.199524     42  data/rasci_3.log  12   1.0  10.000000  13.997017   \n",
      "42  -56745.199457     43  data/rasci_3.log  12   1.0  10.000000  13.997076   \n",
      "43  -56745.199457     44  data/rasci_3.log  12   1.0  10.000000  13.995815   \n",
      "44  -56745.198270     45  data/rasci_3.log  13   1.0  10.000000  13.999957   \n",
      "45  -56745.198270     46  data/rasci_3.log  13   1.0  10.000000  13.999969   \n",
      "46  -56745.198219     47  data/rasci_3.log  13   1.0  10.000000  13.999843   \n",
      "47  -56745.198219     48  data/rasci_3.log  13   1.0  10.000000  13.999784   \n",
      "48  -56745.181512     49  data/rasci_3.log  14   1.0  10.000000  13.999977   \n",
      "49  -56745.181512     50  data/rasci_3.log  14   1.0  10.000000  13.999982   \n",
      "50  -56688.578930     51  data/rasci_3.log  15   1.0   9.000000  14.000000   \n",
      "51  -56688.578916     52  data/rasci_3.log  15   1.0   9.000000  14.000000   \n",
      "52  -56688.578839     53  data/rasci_3.log  15   1.0   9.000002  14.000000   \n",
      "53  -56688.578838     54  data/rasci_3.log  15   1.0   9.000000  14.000000   \n",
      "54  -56688.578828     55  data/rasci_3.log  15   1.0   9.000000  14.000000   \n",
      "55  -56688.578823     56  data/rasci_3.log  15   1.0   9.000000  14.000000   \n",
      "56  -56686.763693     57  data/rasci_3.log  16   1.0   9.000001  14.000000   \n",
      "57  -56686.763692     58  data/rasci_3.log  16   1.0   9.000001  14.000000   \n",
      "58  -56686.763691     59  data/rasci_3.log  16   1.0   9.000001  14.000000   \n",
      "59  -56686.763691     60  data/rasci_3.log  16   1.0   9.000001  14.000000   \n",
      "\n",
      "            5p      Lf14       f13  f14  \n",
      "idx                                      \n",
      "0    35.959596  0.040404  0.959596  0.0  \n",
      "1    35.972571  0.027430  0.972570  0.0  \n",
      "2    35.968080  0.031921  0.968079  0.0  \n",
      "3    35.980091  0.019910  0.980090  0.0  \n",
      "4    35.963156  0.036846  0.963154  0.0  \n",
      "5    35.980532  0.019469  0.980531  0.0  \n",
      "6    35.994945  0.005058  0.994942  0.0  \n",
      "7    35.995193  0.004807  0.995193  0.0  \n",
      "8    35.855703  0.144297  0.855703  0.0  \n",
      "9    35.849398  0.150603  0.849397  0.0  \n",
      "10   35.856873  0.143130  0.856870  0.0  \n",
      "11   35.850176  0.149826  0.850174  0.0  \n",
      "12   35.970862  0.029139  0.970861  0.0  \n",
      "13   35.970981  0.029021  0.970979  0.0  \n",
      "14   35.000348  0.999652  0.000348  0.0  \n",
      "15   35.000360  0.999642  0.000358  0.0  \n",
      "16   35.000698  0.999303  0.000697  0.0  \n",
      "17   35.000626  0.999376  0.000624  0.0  \n",
      "18   35.167808  0.832193  0.167807  0.0  \n",
      "19   35.148685  0.851317  0.148683  0.0  \n",
      "20   35.163015  0.836987  0.163013  0.0  \n",
      "21   35.150056  0.849945  0.150055  0.0  \n",
      "22   35.033754  0.966246  0.033754  0.0  \n",
      "23   35.033378  0.966623  0.033377  0.0  \n",
      "24   35.001840  0.998163  0.001837  0.0  \n",
      "25   35.001930  0.998071  0.001929  0.0  \n",
      "26   35.015550  0.984455  0.015545  0.0  \n",
      "27   35.017717  0.982283  0.017717  0.0  \n",
      "28   35.017308  0.982690  0.017310  0.0  \n",
      "29   35.014295  0.985702  0.014298  0.0  \n",
      "30   35.000123  0.999878  0.000122  0.0  \n",
      "31   35.000118  0.999885  0.000115  0.0  \n",
      "32   35.000208  0.999794  0.000206  0.0  \n",
      "33   35.000173  0.999828  0.000172  0.0  \n",
      "34   35.000663  0.999337  0.000663  0.0  \n",
      "35   35.000545  0.999457  0.000543  0.0  \n",
      "36   35.014438  0.985562  0.014438  0.0  \n",
      "37   35.011321  0.988680  0.011320  0.0  \n",
      "38   35.009906  0.990095  0.009905  0.0  \n",
      "39   35.012313  0.987688  0.012312  0.0  \n",
      "40   35.004127  0.995873  0.004127  0.0  \n",
      "41   35.002985  0.997016  0.002984  0.0  \n",
      "42   35.002927  0.997074  0.002926  0.0  \n",
      "43   35.004188  0.995814  0.004186  0.0  \n",
      "44   35.000044  0.999956  0.000044  0.0  \n",
      "45   35.000036  0.999969  0.000031  0.0  \n",
      "46   35.000160  0.999842  0.000158  0.0  \n",
      "47   35.000219  0.999783  0.000217  0.0  \n",
      "48   35.000024  0.999977  0.000023  0.0  \n",
      "49   35.000020  0.999982  0.000018  0.0  \n",
      "50   36.000000  0.000000  0.000000  1.0  \n",
      "51   36.000000  0.000000  0.000000  1.0  \n",
      "52   36.000000  0.000000  0.000000  1.0  \n",
      "53   36.000000  0.000000  0.000000  1.0  \n",
      "54   36.000000  0.000000  0.000000  1.0  \n",
      "55   36.000000  0.000000  0.000000  1.0  \n",
      "56   36.000000  0.000000  0.000000  1.0  \n",
      "57   36.000000  0.000000  0.000000  1.0  \n",
      "58   36.000000  0.000000  0.000000  1.0  \n",
      "59   36.000000  0.000000  0.000000  1.0  \n"
     ]
    }
   ],
   "source": [
    "print(medge_states.df)"
   ],
   "metadata": {
    "collapsed": false,
    "ExecuteTime": {
     "end_time": "2023-05-09T16:11:52.691573Z",
     "start_time": "2023-05-09T16:11:52.683630Z"
    }
   }
  },
  {
   "cell_type": "code",
   "execution_count": 8,
   "id": "ec0a6538",
   "metadata": {
    "collapsed": false,
    "jupyter": {
     "outputs_hidden": false
    },
    "ExecuteTime": {
     "end_time": "2023-05-09T16:11:55.584446Z",
     "start_time": "2023-05-09T16:11:55.579400Z"
    }
   },
   "outputs": [
    {
     "name": "stdout",
     "output_type": "stream",
     "text": [
      "     i_state  f_state       osc       peak_source         dE        3d   \n",
      "0         14       15  0.001281  data/rasci_3.log   0.019059  0.000000  \\\n",
      "1         13       15  0.001920  data/rasci_3.log   0.019059  0.000000   \n",
      "2         14       16  0.001921  data/rasci_3.log   0.019059  0.000000   \n",
      "3         13       16  0.001280  data/rasci_3.log   0.019059  0.000000   \n",
      "4         14       17  0.002281  data/rasci_3.log   0.019073  0.000000   \n",
      "..       ...      ...       ...               ...        ...       ...   \n",
      "589        3       60  0.000004  data/rasci_3.log  58.578217 -0.999999   \n",
      "590        1       57  0.000012  data/rasci_3.log  58.578745 -0.999999   \n",
      "591        2       58  0.000014  data/rasci_3.log  58.578747 -0.999999   \n",
      "592        1       59  0.000012  data/rasci_3.log  58.578747 -0.999999   \n",
      "593        2       60  0.000009  data/rasci_3.log  58.578748 -0.999999   \n",
      "\n",
      "           4f        5p  \n",
      "0    0.970629 -0.970633  \n",
      "1    0.970510 -0.970514  \n",
      "2    0.970620 -0.970621  \n",
      "3    0.970501 -0.970502  \n",
      "4    0.970282 -0.970283  \n",
      "..        ...       ...  \n",
      "589  0.968077  0.031920  \n",
      "590  0.959595  0.040404  \n",
      "591  0.972571  0.027429  \n",
      "592  0.959595  0.040404  \n",
      "593  0.972571  0.027429  \n",
      "\n",
      "[594 rows x 8 columns]\n"
     ]
    }
   ],
   "source": [
    "print(medge_states.peaks.df)"
   ]
  },
  {
   "cell_type": "code",
   "execution_count": 6,
   "id": "9b5d3906",
   "metadata": {
    "collapsed": false,
    "jupyter": {
     "outputs_hidden": false
    }
   },
   "outputs": [
    {
     "name": "stdout",
     "output_type": "stream",
     "text": [
      "Reading /Users/kirill/Documents/UW/Li_Group/CrI3_Yb/notebooks/../calculations/mc/x2c_tzvpall_2c/cas_36p_14f/rasci/rasci_68s.r1_2s_6p_10d.casscf_sa50_50s_ref.yb3p.exp.tzvpall.gdv_j14p.7748435.log\n",
      "Parsing link l910\n",
      "Executing: read_mc_spec\n",
      "Executing: read_ci\n",
      "Executing: read_pdm_diags\n",
      "Executing: read_oscillator_strength\n"
     ]
    },
    {
     "name": "stderr",
     "output_type": "stream",
     "text": [
      "/Users/kirill/Documents/UW/Li_Group/mctools/mctools/core/cistring/graphs.py:316: RuntimeWarning: Using python int as config data type, expect slow performance\n",
      "  warnings.warn('Using python int as config data type, expect slow performance', RuntimeWarning)\n",
      "/Users/kirill/Documents/UW/Li_Group/mctools/mctools/core/cistring/graphs.py:60: RuntimeWarning: Using python int as config data type, expect slow performance\n",
      "  warnings.warn('Using python int as config data type, expect slow performance', RuntimeWarning)\n"
     ]
    }
   ],
   "source": [
    "gdvlog = '/Users/kirill/Documents/UW/Li_Group/CrI3_Yb/notebooks/../calculations/mc/x2c_tzvpall_2c/cas_36p_14f/rasci/rasci_68s.r1_2s_6p_10d.casscf_sa50_50s_ref.yb3p.exp.tzvpall.gdv_j14p.7748435.log'\n",
    "\n",
    "data = parse_gdvlog(gdvlog, l910_parser_funcs, n_ground=14)\n",
    "medge_space = MCSpace.from_dict(data, max_hole=0, max_elec=0, use_python_int=True)\n",
    "medge_states = MCStates.from_dict(data, space=medge_space)\n",
    "medge_spec = MCSpectrum.from_dict(data, states=medge_states)\n",
    "\n",
    "medge_space.mo_blocks = {\n",
    "    'M': [(0, 18)],\n",
    "    '4f':   [(18, 31), 67],\n",
    "    '5p':   [(31, 67),],\n",
    "\n",
    "    # 'virt': [(60, 72)],\n",
    "}\n",
    "\n",
    "medge_space.config_classes = {\n",
    "    'f13': {'4f': 13},\n",
    "    'Lf14': {'5p': 35, '4f': 14},\n",
    "    'Mf14': {'M': 17, '4f': 14},\n",
    "}\n",
    "\n",
    "medge_spec.analyze()"
   ]
  },
  {
   "cell_type": "code",
   "execution_count": 7,
   "id": "4462d86e",
   "metadata": {
    "collapsed": false,
    "jupyter": {
     "outputs_hidden": false
    },
    "ExecuteTime": {
     "end_time": "2023-05-09T03:43:42.088710Z",
     "start_time": "2023-05-09T03:43:41.685458Z"
    }
   },
   "outputs": [
    {
     "ename": "NameError",
     "evalue": "name 'medge_spec' is not defined",
     "output_type": "error",
     "traceback": [
      "\u001B[0;31m---------------------------------------------------------------------------\u001B[0m",
      "\u001B[0;31mNameError\u001B[0m                                 Traceback (most recent call last)",
      "Cell \u001B[0;32mIn[7], line 1\u001B[0m\n\u001B[0;32m----> 1\u001B[0m \u001B[43mmedge_spec\u001B[49m\u001B[38;5;241m.\u001B[39mstates\u001B[38;5;241m.\u001B[39mdf[\u001B[38;5;124m'\u001B[39m\u001B[38;5;124mstate\u001B[39m\u001B[38;5;124m'\u001B[39m]\u001B[38;5;241m.\u001B[39misin([\u001B[38;5;241m1\u001B[39m, \u001B[38;5;241m2\u001B[39m])\n",
      "\u001B[0;31mNameError\u001B[0m: name 'medge_spec' is not defined"
     ]
    }
   ],
   "source": [
    "medge_spec.states.df['state'].isin([1, 2])"
   ]
  },
  {
   "cell_type": "markdown",
   "id": "f82f0b9a",
   "metadata": {},
   "source": [
    "# Partitioned K-edge Spectrum"
   ]
  },
  {
   "cell_type": "code",
   "execution_count": 89,
   "id": "eecadb98",
   "metadata": {
    "collapsed": false,
    "jupyter": {
     "outputs_hidden": false
    }
   },
   "outputs": [
    {
     "name": "stdout",
     "output_type": "stream",
     "text": [
      "Reading data/spectrum/part1.log\n",
      "Parsing link l910\n",
      "Executing: read_mc_spec\n",
      "Executing: read_ci\n",
      "Executing: read_pdm_diags\n",
      "Executing: read_oscillator_strength\n",
      "Reading data/spectrum/part2.log\n",
      "Parsing link l910\n",
      "Executing: read_mc_spec\n",
      "Executing: read_ci\n",
      "Executing: read_pdm_diags\n",
      "Executing: read_oscillator_strength\n"
     ]
    }
   ],
   "source": [
    "spec_space = MCSpace.from_space_spec(\n",
    "    (12, 14, 10), 13,\n",
    "    max_hole=2, max_elec=1,\n",
    "    mo_blocks={\n",
    "        '1s': [(0, 6)],\n",
    "        '3p': [(6, 12)],\n",
    "        '4f': [(12, 26)],\n",
    "        '5d': [(26, 36)],\n",
    "    },\n",
    ")\n",
    "\n",
    "gdvlogs = sorted(glob.glob(os.path.join(data_dir, 'spectrum', 'part*.log')))\n",
    "\n",
    "spec_parts = []\n",
    "for gdvlog in gdvlogs:\n",
    "    part_data = parse_gdvlog(gdvlog, l910_parser_funcs, n_ground=2)\n",
    "    spec = MCSpectrum.from_dict(part_data, space=spec_space, sort_peaks=True, )\n",
    "    spec_parts.append(spec)"
   ]
  },
  {
   "cell_type": "code",
   "execution_count": 116,
   "id": "415360d0",
   "metadata": {
    "collapsed": false,
    "jupyter": {
     "outputs_hidden": false
    }
   },
   "outputs": [],
   "source": [
    "left = spec_parts[0].states\n",
    "right = spec_parts[1].states\n",
    "\n",
    "alignment = get_state_alignment(left, right)"
   ]
  },
  {
   "cell_type": "code",
   "execution_count": 120,
   "id": "6b31abad",
   "metadata": {
    "collapsed": false,
    "jupyter": {
     "outputs_hidden": false
    }
   },
   "outputs": [],
   "source": [
    "sl_l, sl_r, overlap = alignment[2]\n",
    "\n",
    "dfl = left.df.iloc[sl_l][left.IDX_COLS].rename(columns={\n",
    "    left.STATE_COL: f'{left.STATE_COL}_left',\n",
    "    left.SOURCE_COL: f'{left.SOURCE_COL}_left',\n",
    "})\n",
    "\n",
    "dfr = right.df.iloc[sl_r][right.IDX_COLS].rename(columns={\n",
    "    right.STATE_COL: f'{right.STATE_COL}_right',\n",
    "    right.SOURCE_COL: f'{right.SOURCE_COL}_right',\n",
    "})\n",
    "\n",
    "df = pd.concat([dfl.reset_index(drop=True), dfr.reset_index(drop=True)], axis=1)\n",
    "df['overlap'] = overlap"
   ]
  },
  {
   "cell_type": "code",
   "execution_count": 14,
   "id": "b3d4f4ab",
   "metadata": {
    "collapsed": false,
    "jupyter": {
     "outputs_hidden": false
    }
   },
   "outputs": [],
   "source": [
    "spec = MCSpectrum.from_spectra(spec_parts)"
   ]
  },
  {
   "cell_type": "code",
   "execution_count": 15,
   "id": "6405f8f5",
   "metadata": {
    "collapsed": false,
    "jupyter": {
     "outputs_hidden": false
    }
   },
   "outputs": [
    {
     "data": {
      "image/png": "[encoded data removed]",
      "text/plain": [
       "<Figure size 640x480 with 1 Axes>"
      ]
     },
     "metadata": {},
     "output_type": "display_data"
    }
   ],
   "source": [
    "fig, ax = plt.subplots(1, 1)\n",
    "\n",
    "ax.vlines('dE', 0, 'osc', data=spec.df)\n",
    "plt.show()"
   ]
  },
  {
   "cell_type": "code",
   "execution_count": 16,
   "id": "bba0e173",
   "metadata": {
    "collapsed": false,
    "jupyter": {
     "outputs_hidden": false
    }
   },
   "outputs": [
    {
     "data": {
      "text/html": [
       "<div>\n",
       "<style scoped>\n",
       "    .dataframe tbody tr th:only-of-type {\n",
       "        vertical-align: middle;\n",
       "    }\n",
       "\n",
       "    .dataframe tbody tr th {\n",
       "        vertical-align: top;\n",
       "    }\n",
       "\n",
       "    .dataframe thead th {\n",
       "        text-align: right;\n",
       "    }\n",
       "</style>\n",
       "<table border=\"1\" class=\"dataframe\">\n",
       "  <thead>\n",
       "    <tr style=\"text-align: right;\">\n",
       "      <th></th>\n",
       "      <th>i_state</th>\n",
       "      <th>f_state</th>\n",
       "      <th>osc</th>\n",
       "      <th>source</th>\n",
       "      <th>dE</th>\n",
       "      <th>f</th>\n",
       "      <th>i</th>\n",
       "    </tr>\n",
       "    <tr>\n",
       "      <th>idx</th>\n",
       "      <th></th>\n",
       "      <th></th>\n",
       "      <th></th>\n",
       "      <th></th>\n",
       "      <th></th>\n",
       "      <th></th>\n",
       "      <th></th>\n",
       "    </tr>\n",
       "  </thead>\n",
       "  <tbody>\n",
       "    <tr>\n",
       "      <th>0</th>\n",
       "      <td>1</td>\n",
       "      <td>3</td>\n",
       "      <td>0.000012</td>\n",
       "      <td>data/spectrum/part1.log</td>\n",
       "      <td>105.086119</td>\n",
       "      <td>2</td>\n",
       "      <td>0</td>\n",
       "    </tr>\n",
       "    <tr>\n",
       "      <th>1</th>\n",
       "      <td>2</td>\n",
       "      <td>5</td>\n",
       "      <td>0.000012</td>\n",
       "      <td>data/spectrum/part1.log</td>\n",
       "      <td>105.086194</td>\n",
       "      <td>4</td>\n",
       "      <td>1</td>\n",
       "    </tr>\n",
       "    <tr>\n",
       "      <th>2</th>\n",
       "      <td>1</td>\n",
       "      <td>5</td>\n",
       "      <td>0.000006</td>\n",
       "      <td>data/spectrum/part1.log</td>\n",
       "      <td>105.086194</td>\n",
       "      <td>4</td>\n",
       "      <td>0</td>\n",
       "    </tr>\n",
       "    <tr>\n",
       "      <th>3</th>\n",
       "      <td>1</td>\n",
       "      <td>6</td>\n",
       "      <td>0.000006</td>\n",
       "      <td>data/spectrum/part1.log</td>\n",
       "      <td>105.086194</td>\n",
       "      <td>5</td>\n",
       "      <td>0</td>\n",
       "    </tr>\n",
       "    <tr>\n",
       "      <th>4</th>\n",
       "      <td>2</td>\n",
       "      <td>9</td>\n",
       "      <td>0.000018</td>\n",
       "      <td>data/spectrum/part1.log</td>\n",
       "      <td>105.091361</td>\n",
       "      <td>8</td>\n",
       "      <td>1</td>\n",
       "    </tr>\n",
       "    <tr>\n",
       "      <th>...</th>\n",
       "      <td>...</td>\n",
       "      <td>...</td>\n",
       "      <td>...</td>\n",
       "      <td>...</td>\n",
       "      <td>...</td>\n",
       "      <td>...</td>\n",
       "      <td>...</td>\n",
       "    </tr>\n",
       "    <tr>\n",
       "      <th>147</th>\n",
       "      <td>2</td>\n",
       "      <td>165</td>\n",
       "      <td>0.000001</td>\n",
       "      <td>data/spectrum/part2.log</td>\n",
       "      <td>105.114965</td>\n",
       "      <td>242</td>\n",
       "      <td>1</td>\n",
       "    </tr>\n",
       "    <tr>\n",
       "      <th>148</th>\n",
       "      <td>2</td>\n",
       "      <td>167</td>\n",
       "      <td>0.000003</td>\n",
       "      <td>data/spectrum/part2.log</td>\n",
       "      <td>105.115001</td>\n",
       "      <td>244</td>\n",
       "      <td>1</td>\n",
       "    </tr>\n",
       "    <tr>\n",
       "      <th>149</th>\n",
       "      <td>1</td>\n",
       "      <td>170</td>\n",
       "      <td>0.000003</td>\n",
       "      <td>data/spectrum/part2.log</td>\n",
       "      <td>105.115084</td>\n",
       "      <td>247</td>\n",
       "      <td>0</td>\n",
       "    </tr>\n",
       "    <tr>\n",
       "      <th>150</th>\n",
       "      <td>1</td>\n",
       "      <td>173</td>\n",
       "      <td>0.000002</td>\n",
       "      <td>data/spectrum/part2.log</td>\n",
       "      <td>105.115099</td>\n",
       "      <td>250</td>\n",
       "      <td>0</td>\n",
       "    </tr>\n",
       "    <tr>\n",
       "      <th>151</th>\n",
       "      <td>1</td>\n",
       "      <td>174</td>\n",
       "      <td>0.000001</td>\n",
       "      <td>data/spectrum/part2.log</td>\n",
       "      <td>105.115099</td>\n",
       "      <td>251</td>\n",
       "      <td>0</td>\n",
       "    </tr>\n",
       "  </tbody>\n",
       "</table>\n",
       "<p>152 rows × 7 columns</p>\n",
       "</div>"
      ],
      "text/plain": [
       "     i_state  f_state       osc                   source          dE    f  i\n",
       "idx                                                                         \n",
       "0          1        3  0.000012  data/spectrum/part1.log  105.086119    2  0\n",
       "1          2        5  0.000012  data/spectrum/part1.log  105.086194    4  1\n",
       "2          1        5  0.000006  data/spectrum/part1.log  105.086194    4  0\n",
       "3          1        6  0.000006  data/spectrum/part1.log  105.086194    5  0\n",
       "4          2        9  0.000018  data/spectrum/part1.log  105.091361    8  1\n",
       "..       ...      ...       ...                      ...         ...  ... ..\n",
       "147        2      165  0.000001  data/spectrum/part2.log  105.114965  242  1\n",
       "148        2      167  0.000003  data/spectrum/part2.log  105.115001  244  1\n",
       "149        1      170  0.000003  data/spectrum/part2.log  105.115084  247  0\n",
       "150        1      173  0.000002  data/spectrum/part2.log  105.115099  250  0\n",
       "151        1      174  0.000001  data/spectrum/part2.log  105.115099  251  0\n",
       "\n",
       "[152 rows x 7 columns]"
      ]
     },
     "execution_count": 16,
     "metadata": {},
     "output_type": "execute_result"
    }
   ],
   "source": [
    "spec.df"
   ]
  },
  {
   "cell_type": "code",
   "execution_count": 17,
   "id": "51f344e8",
   "metadata": {
    "collapsed": false,
    "jupyter": {
     "outputs_hidden": false
    }
   },
   "outputs": [
    {
     "name": "stdout",
     "output_type": "stream",
     "text": [
      "Reading /Users/kirill/Documents/UW/Li_Group/CsPbCl3_Ln/calculations/rasci/ras-t1u_1s_3p-14_4f-10_5d/dipoles/rasci_414s.r1_t1u_2t1u.cut_105_30506.ce3p_casscf_sa14_14s_gb3lyp_ref.ano_cl.gdv_j14p.7527806.log\n",
      "Parsing link l910\n",
      "Executing: read_mc_spec\n",
      "Executing: read_ci\n",
      "Executing: read_pdm_diags\n",
      "Executing: read_oscillator_strength\n",
      "Reading /Users/kirill/Documents/UW/Li_Group/CsPbCl3_Ln/calculations/rasci/ras-t1u_1s_3p-14_4f-10_5d/dipoles/rasci_414s.r1_t1u_2t1u.cut_105_13379.ce3p_casscf_sa14_14s_gb3lyp_ref.ano_cl.gdv_j14p.7527806.log\n",
      "Parsing link l910\n",
      "Executing: read_mc_spec\n",
      "Executing: read_ci\n",
      "Executing: read_pdm_diags\n",
      "Executing: read_oscillator_strength\n",
      "Reading /Users/kirill/Documents/UW/Li_Group/CsPbCl3_Ln/calculations/rasci/ras-t1u_1s_3p-14_4f-10_5d/dipoles/rasci_414s.r1_t1u_2t1u.cut_105_21828.ce3p_casscf_sa14_14s_gb3lyp_ref.ano_cl.gdv_j14p.7527806.log\n",
      "Parsing link l910\n",
      "Executing: read_mc_spec\n",
      "Executing: read_ci\n",
      "Executing: read_pdm_diags\n",
      "Executing: read_oscillator_strength\n",
      "Reading /Users/kirill/Documents/UW/Li_Group/CsPbCl3_Ln/calculations/rasci/ras-t1u_1s_3p-14_4f-10_5d/dipoles/rasci_414s.r1_t1u_2t1u.cut_100.ce3p_casscf_sa14_14s_gb3lyp_ref.ano_cl.gdv_j14p.7527806.log\n",
      "Parsing link l910\n",
      "Executing: read_mc_spec\n",
      "Executing: read_ci\n",
      "Executing: read_pdm_diags\n",
      "Executing: read_oscillator_strength\n"
     ]
    }
   ],
   "source": [
    "rasci_dir = '/Users/kirill/Documents/UW/Li_Group/CsPbCl3_Ln/calculations/rasci/ras-t1u_1s_3p-14_4f-10_5d/dipoles'\n",
    "\n",
    "gdvlogs = glob.glob(os.path.join(rasci_dir, 'rasci_414s.*ano_cl*.log'))\n",
    "\n",
    "space = MCSpace.from_space_spec(\n",
    "    ras=(12, 14, 10),\n",
    "    elec=13,\n",
    "    max_hole=2, max_elec=1,\n",
    "    mo_blocks={\n",
    "        '1s': [(0, 6)],\n",
    "        '3p': [(6, 12)],\n",
    "        '4f': [(12, 26)],\n",
    "        '5d': [(26, 36)],\n",
    "    },\n",
    ")\n",
    "\n",
    "spec_parts = []\n",
    "for gdvlog in gdvlogs:\n",
    "    part_data = parse_gdvlog(gdvlog, l910_parser_funcs, n_ground=14)\n",
    "    spec = MCSpectrum.from_dict(part_data, space=space, sort_peaks=True)\n",
    "    spec_parts.append(spec)\n",
    "\n",
    "spec_parts = sorted(spec_parts, key=lambda x: np.mean(x.energy_range))"
   ]
  },
  {
   "cell_type": "code",
   "execution_count": 18,
   "id": "bb25fd26",
   "metadata": {
    "collapsed": false,
    "jupyter": {
     "outputs_hidden": false
    }
   },
   "outputs": [
    {
     "ename": "IntCastingNaNError",
     "evalue": "Cannot convert non-finite values (NA or inf) to integer",
     "output_type": "error",
     "traceback": [
      "\u001B[0;31m---------------------------------------------------------------------------\u001B[0m",
      "\u001B[0;31mIntCastingNaNError\u001B[0m                        Traceback (most recent call last)",
      "Cell \u001B[0;32mIn [18], line 1\u001B[0m\n\u001B[0;32m----> 1\u001B[0m \u001B[43mMCSpectrum\u001B[49m\u001B[38;5;241;43m.\u001B[39;49m\u001B[43mfrom_spectra\u001B[49m\u001B[43m(\u001B[49m\u001B[43mspec_parts\u001B[49m\u001B[43m)\u001B[49m\n",
      "File \u001B[0;32m~/Documents/UW/Li_Group/mctools/mctools/core/mcspectrum.py:252\u001B[0m, in \u001B[0;36mMCSpectrum.from_spectra\u001B[0;34m(cls, spectra, **kwargs)\u001B[0m\n\u001B[1;32m    250\u001B[0m base_spec \u001B[38;5;241m=\u001B[39m copy\u001B[38;5;241m.\u001B[39mdeepcopy(spectra[\u001B[38;5;241m0\u001B[39m])\n\u001B[1;32m    251\u001B[0m \u001B[38;5;28;01mfor\u001B[39;00m spec \u001B[38;5;129;01min\u001B[39;00m spectra[\u001B[38;5;241m1\u001B[39m:]:\n\u001B[0;32m--> 252\u001B[0m     \u001B[43mbase_spec\u001B[49m\u001B[38;5;241;43m.\u001B[39;49m\u001B[43mextend\u001B[49m\u001B[43m(\u001B[49m\u001B[43mspec\u001B[49m\u001B[43m,\u001B[49m\u001B[43m \u001B[49m\u001B[38;5;241;43m*\u001B[39;49m\u001B[38;5;241;43m*\u001B[39;49m\u001B[43mkwargs\u001B[49m\u001B[43m)\u001B[49m\n\u001B[1;32m    254\u001B[0m \u001B[38;5;28;01mreturn\u001B[39;00m base_spec\n",
      "File \u001B[0;32m~/Documents/UW/Li_Group/mctools/mctools/core/mcspectrum.py:175\u001B[0m, in \u001B[0;36mMCSpectrum.extend\u001B[0;34m(self, other, **alignment_kwargs)\u001B[0m\n\u001B[1;32m    173\u001B[0m \u001B[38;5;66;03m# Set missed states\u001B[39;00m\n\u001B[1;32m    174\u001B[0m df\u001B[38;5;241m.\u001B[39mloc[missed_idx, \u001B[38;5;28mself\u001B[39m\u001B[38;5;241m.\u001B[39mINITIAL_COL] \u001B[38;5;241m=\u001B[39m temp_df2[\u001B[38;5;124m'\u001B[39m\u001B[38;5;124midx\u001B[39m\u001B[38;5;124m'\u001B[39m]\u001B[38;5;241m.\u001B[39mvalues\n\u001B[0;32m--> 175\u001B[0m df[\u001B[38;5;28mself\u001B[39m\u001B[38;5;241m.\u001B[39mINITIAL_COL] \u001B[38;5;241m=\u001B[39m \u001B[43mdf\u001B[49m\u001B[43m[\u001B[49m\u001B[38;5;28;43mself\u001B[39;49m\u001B[38;5;241;43m.\u001B[39;49m\u001B[43mINITIAL_COL\u001B[49m\u001B[43m]\u001B[49m\u001B[38;5;241;43m.\u001B[39;49m\u001B[43mastype\u001B[49m\u001B[43m(\u001B[49m\u001B[43mdf\u001B[49m\u001B[43m[\u001B[49m\u001B[38;5;28;43mself\u001B[39;49m\u001B[38;5;241;43m.\u001B[39;49m\u001B[43mFINAL_COL\u001B[49m\u001B[43m]\u001B[49m\u001B[38;5;241;43m.\u001B[39;49m\u001B[43mdtype\u001B[49m\u001B[43m)\u001B[49m\n\u001B[1;32m    177\u001B[0m \u001B[38;5;28mself\u001B[39m\u001B[38;5;241m.\u001B[39mdf \u001B[38;5;241m=\u001B[39m df\n\u001B[1;32m    179\u001B[0m \u001B[38;5;28mself\u001B[39m\u001B[38;5;241m.\u001B[39msort()\n",
      "File \u001B[0;32m/opt/homebrew/Caskroom/miniforge/base/envs/dev/lib/python3.10/site-packages/pandas/core/generic.py:6240\u001B[0m, in \u001B[0;36mNDFrame.astype\u001B[0;34m(self, dtype, copy, errors)\u001B[0m\n\u001B[1;32m   6233\u001B[0m     results \u001B[38;5;241m=\u001B[39m [\n\u001B[1;32m   6234\u001B[0m         \u001B[38;5;28mself\u001B[39m\u001B[38;5;241m.\u001B[39miloc[:, i]\u001B[38;5;241m.\u001B[39mastype(dtype, copy\u001B[38;5;241m=\u001B[39mcopy)\n\u001B[1;32m   6235\u001B[0m         \u001B[38;5;28;01mfor\u001B[39;00m i \u001B[38;5;129;01min\u001B[39;00m \u001B[38;5;28mrange\u001B[39m(\u001B[38;5;28mlen\u001B[39m(\u001B[38;5;28mself\u001B[39m\u001B[38;5;241m.\u001B[39mcolumns))\n\u001B[1;32m   6236\u001B[0m     ]\n\u001B[1;32m   6238\u001B[0m \u001B[38;5;28;01melse\u001B[39;00m:\n\u001B[1;32m   6239\u001B[0m     \u001B[38;5;66;03m# else, only a single dtype is given\u001B[39;00m\n\u001B[0;32m-> 6240\u001B[0m     new_data \u001B[38;5;241m=\u001B[39m \u001B[38;5;28;43mself\u001B[39;49m\u001B[38;5;241;43m.\u001B[39;49m\u001B[43m_mgr\u001B[49m\u001B[38;5;241;43m.\u001B[39;49m\u001B[43mastype\u001B[49m\u001B[43m(\u001B[49m\u001B[43mdtype\u001B[49m\u001B[38;5;241;43m=\u001B[39;49m\u001B[43mdtype\u001B[49m\u001B[43m,\u001B[49m\u001B[43m \u001B[49m\u001B[43mcopy\u001B[49m\u001B[38;5;241;43m=\u001B[39;49m\u001B[43mcopy\u001B[49m\u001B[43m,\u001B[49m\u001B[43m \u001B[49m\u001B[43merrors\u001B[49m\u001B[38;5;241;43m=\u001B[39;49m\u001B[43merrors\u001B[49m\u001B[43m)\u001B[49m\n\u001B[1;32m   6241\u001B[0m     \u001B[38;5;28;01mreturn\u001B[39;00m \u001B[38;5;28mself\u001B[39m\u001B[38;5;241m.\u001B[39m_constructor(new_data)\u001B[38;5;241m.\u001B[39m__finalize__(\u001B[38;5;28mself\u001B[39m, method\u001B[38;5;241m=\u001B[39m\u001B[38;5;124m\"\u001B[39m\u001B[38;5;124mastype\u001B[39m\u001B[38;5;124m\"\u001B[39m)\n\u001B[1;32m   6243\u001B[0m \u001B[38;5;66;03m# GH 33113: handle empty frame or series\u001B[39;00m\n",
      "File \u001B[0;32m/opt/homebrew/Caskroom/miniforge/base/envs/dev/lib/python3.10/site-packages/pandas/core/internals/managers.py:450\u001B[0m, in \u001B[0;36mBaseBlockManager.astype\u001B[0;34m(self, dtype, copy, errors)\u001B[0m\n\u001B[1;32m    449\u001B[0m \u001B[38;5;28;01mdef\u001B[39;00m \u001B[38;5;21mastype\u001B[39m(\u001B[38;5;28mself\u001B[39m: T, dtype, copy: \u001B[38;5;28mbool\u001B[39m \u001B[38;5;241m=\u001B[39m \u001B[38;5;28;01mFalse\u001B[39;00m, errors: \u001B[38;5;28mstr\u001B[39m \u001B[38;5;241m=\u001B[39m \u001B[38;5;124m\"\u001B[39m\u001B[38;5;124mraise\u001B[39m\u001B[38;5;124m\"\u001B[39m) \u001B[38;5;241m-\u001B[39m\u001B[38;5;241m>\u001B[39m T:\n\u001B[0;32m--> 450\u001B[0m     \u001B[38;5;28;01mreturn\u001B[39;00m \u001B[38;5;28;43mself\u001B[39;49m\u001B[38;5;241;43m.\u001B[39;49m\u001B[43mapply\u001B[49m\u001B[43m(\u001B[49m\u001B[38;5;124;43m\"\u001B[39;49m\u001B[38;5;124;43mastype\u001B[39;49m\u001B[38;5;124;43m\"\u001B[39;49m\u001B[43m,\u001B[49m\u001B[43m \u001B[49m\u001B[43mdtype\u001B[49m\u001B[38;5;241;43m=\u001B[39;49m\u001B[43mdtype\u001B[49m\u001B[43m,\u001B[49m\u001B[43m \u001B[49m\u001B[43mcopy\u001B[49m\u001B[38;5;241;43m=\u001B[39;49m\u001B[43mcopy\u001B[49m\u001B[43m,\u001B[49m\u001B[43m \u001B[49m\u001B[43merrors\u001B[49m\u001B[38;5;241;43m=\u001B[39;49m\u001B[43merrors\u001B[49m\u001B[43m)\u001B[49m\n",
      "File \u001B[0;32m/opt/homebrew/Caskroom/miniforge/base/envs/dev/lib/python3.10/site-packages/pandas/core/internals/managers.py:352\u001B[0m, in \u001B[0;36mBaseBlockManager.apply\u001B[0;34m(self, f, align_keys, ignore_failures, **kwargs)\u001B[0m\n\u001B[1;32m    350\u001B[0m         applied \u001B[38;5;241m=\u001B[39m b\u001B[38;5;241m.\u001B[39mapply(f, \u001B[38;5;241m*\u001B[39m\u001B[38;5;241m*\u001B[39mkwargs)\n\u001B[1;32m    351\u001B[0m     \u001B[38;5;28;01melse\u001B[39;00m:\n\u001B[0;32m--> 352\u001B[0m         applied \u001B[38;5;241m=\u001B[39m \u001B[38;5;28;43mgetattr\u001B[39;49m\u001B[43m(\u001B[49m\u001B[43mb\u001B[49m\u001B[43m,\u001B[49m\u001B[43m \u001B[49m\u001B[43mf\u001B[49m\u001B[43m)\u001B[49m\u001B[43m(\u001B[49m\u001B[38;5;241;43m*\u001B[39;49m\u001B[38;5;241;43m*\u001B[39;49m\u001B[43mkwargs\u001B[49m\u001B[43m)\u001B[49m\n\u001B[1;32m    353\u001B[0m \u001B[38;5;28;01mexcept\u001B[39;00m (\u001B[38;5;167;01mTypeError\u001B[39;00m, \u001B[38;5;167;01mNotImplementedError\u001B[39;00m):\n\u001B[1;32m    354\u001B[0m     \u001B[38;5;28;01mif\u001B[39;00m \u001B[38;5;129;01mnot\u001B[39;00m ignore_failures:\n",
      "File \u001B[0;32m/opt/homebrew/Caskroom/miniforge/base/envs/dev/lib/python3.10/site-packages/pandas/core/internals/blocks.py:526\u001B[0m, in \u001B[0;36mBlock.astype\u001B[0;34m(self, dtype, copy, errors)\u001B[0m\n\u001B[1;32m    508\u001B[0m \u001B[38;5;124;03m\"\"\"\u001B[39;00m\n\u001B[1;32m    509\u001B[0m \u001B[38;5;124;03mCoerce to the new dtype.\u001B[39;00m\n\u001B[1;32m    510\u001B[0m \n\u001B[0;32m   (...)\u001B[0m\n\u001B[1;32m    522\u001B[0m \u001B[38;5;124;03mBlock\u001B[39;00m\n\u001B[1;32m    523\u001B[0m \u001B[38;5;124;03m\"\"\"\u001B[39;00m\n\u001B[1;32m    524\u001B[0m values \u001B[38;5;241m=\u001B[39m \u001B[38;5;28mself\u001B[39m\u001B[38;5;241m.\u001B[39mvalues\n\u001B[0;32m--> 526\u001B[0m new_values \u001B[38;5;241m=\u001B[39m \u001B[43mastype_array_safe\u001B[49m\u001B[43m(\u001B[49m\u001B[43mvalues\u001B[49m\u001B[43m,\u001B[49m\u001B[43m \u001B[49m\u001B[43mdtype\u001B[49m\u001B[43m,\u001B[49m\u001B[43m \u001B[49m\u001B[43mcopy\u001B[49m\u001B[38;5;241;43m=\u001B[39;49m\u001B[43mcopy\u001B[49m\u001B[43m,\u001B[49m\u001B[43m \u001B[49m\u001B[43merrors\u001B[49m\u001B[38;5;241;43m=\u001B[39;49m\u001B[43merrors\u001B[49m\u001B[43m)\u001B[49m\n\u001B[1;32m    528\u001B[0m new_values \u001B[38;5;241m=\u001B[39m maybe_coerce_values(new_values)\n\u001B[1;32m    529\u001B[0m newb \u001B[38;5;241m=\u001B[39m \u001B[38;5;28mself\u001B[39m\u001B[38;5;241m.\u001B[39mmake_block(new_values)\n",
      "File \u001B[0;32m/opt/homebrew/Caskroom/miniforge/base/envs/dev/lib/python3.10/site-packages/pandas/core/dtypes/astype.py:299\u001B[0m, in \u001B[0;36mastype_array_safe\u001B[0;34m(values, dtype, copy, errors)\u001B[0m\n\u001B[1;32m    296\u001B[0m     \u001B[38;5;28;01mreturn\u001B[39;00m values\u001B[38;5;241m.\u001B[39mcopy()\n\u001B[1;32m    298\u001B[0m \u001B[38;5;28;01mtry\u001B[39;00m:\n\u001B[0;32m--> 299\u001B[0m     new_values \u001B[38;5;241m=\u001B[39m \u001B[43mastype_array\u001B[49m\u001B[43m(\u001B[49m\u001B[43mvalues\u001B[49m\u001B[43m,\u001B[49m\u001B[43m \u001B[49m\u001B[43mdtype\u001B[49m\u001B[43m,\u001B[49m\u001B[43m \u001B[49m\u001B[43mcopy\u001B[49m\u001B[38;5;241;43m=\u001B[39;49m\u001B[43mcopy\u001B[49m\u001B[43m)\u001B[49m\n\u001B[1;32m    300\u001B[0m \u001B[38;5;28;01mexcept\u001B[39;00m (\u001B[38;5;167;01mValueError\u001B[39;00m, \u001B[38;5;167;01mTypeError\u001B[39;00m):\n\u001B[1;32m    301\u001B[0m     \u001B[38;5;66;03m# e.g. astype_nansafe can fail on object-dtype of strings\u001B[39;00m\n\u001B[1;32m    302\u001B[0m     \u001B[38;5;66;03m#  trying to convert to float\u001B[39;00m\n\u001B[1;32m    303\u001B[0m     \u001B[38;5;28;01mif\u001B[39;00m errors \u001B[38;5;241m==\u001B[39m \u001B[38;5;124m\"\u001B[39m\u001B[38;5;124mignore\u001B[39m\u001B[38;5;124m\"\u001B[39m:\n",
      "File \u001B[0;32m/opt/homebrew/Caskroom/miniforge/base/envs/dev/lib/python3.10/site-packages/pandas/core/dtypes/astype.py:230\u001B[0m, in \u001B[0;36mastype_array\u001B[0;34m(values, dtype, copy)\u001B[0m\n\u001B[1;32m    227\u001B[0m     values \u001B[38;5;241m=\u001B[39m values\u001B[38;5;241m.\u001B[39mastype(dtype, copy\u001B[38;5;241m=\u001B[39mcopy)\n\u001B[1;32m    229\u001B[0m \u001B[38;5;28;01melse\u001B[39;00m:\n\u001B[0;32m--> 230\u001B[0m     values \u001B[38;5;241m=\u001B[39m \u001B[43mastype_nansafe\u001B[49m\u001B[43m(\u001B[49m\u001B[43mvalues\u001B[49m\u001B[43m,\u001B[49m\u001B[43m \u001B[49m\u001B[43mdtype\u001B[49m\u001B[43m,\u001B[49m\u001B[43m \u001B[49m\u001B[43mcopy\u001B[49m\u001B[38;5;241;43m=\u001B[39;49m\u001B[43mcopy\u001B[49m\u001B[43m)\u001B[49m\n\u001B[1;32m    232\u001B[0m \u001B[38;5;66;03m# in pandas we don't store numpy str dtypes, so convert to object\u001B[39;00m\n\u001B[1;32m    233\u001B[0m \u001B[38;5;28;01mif\u001B[39;00m \u001B[38;5;28misinstance\u001B[39m(dtype, np\u001B[38;5;241m.\u001B[39mdtype) \u001B[38;5;129;01mand\u001B[39;00m \u001B[38;5;28missubclass\u001B[39m(values\u001B[38;5;241m.\u001B[39mdtype\u001B[38;5;241m.\u001B[39mtype, \u001B[38;5;28mstr\u001B[39m):\n",
      "File \u001B[0;32m/opt/homebrew/Caskroom/miniforge/base/envs/dev/lib/python3.10/site-packages/pandas/core/dtypes/astype.py:140\u001B[0m, in \u001B[0;36mastype_nansafe\u001B[0;34m(arr, dtype, copy, skipna)\u001B[0m\n\u001B[1;32m    137\u001B[0m     \u001B[38;5;28;01mraise\u001B[39;00m \u001B[38;5;167;01mTypeError\u001B[39;00m(\u001B[38;5;124mf\u001B[39m\u001B[38;5;124m\"\u001B[39m\u001B[38;5;124mcannot astype a timedelta from [\u001B[39m\u001B[38;5;132;01m{\u001B[39;00marr\u001B[38;5;241m.\u001B[39mdtype\u001B[38;5;132;01m}\u001B[39;00m\u001B[38;5;124m] to [\u001B[39m\u001B[38;5;132;01m{\u001B[39;00mdtype\u001B[38;5;132;01m}\u001B[39;00m\u001B[38;5;124m]\u001B[39m\u001B[38;5;124m\"\u001B[39m)\n\u001B[1;32m    139\u001B[0m \u001B[38;5;28;01melif\u001B[39;00m np\u001B[38;5;241m.\u001B[39missubdtype(arr\u001B[38;5;241m.\u001B[39mdtype, np\u001B[38;5;241m.\u001B[39mfloating) \u001B[38;5;129;01mand\u001B[39;00m is_integer_dtype(dtype):\n\u001B[0;32m--> 140\u001B[0m     \u001B[38;5;28;01mreturn\u001B[39;00m \u001B[43m_astype_float_to_int_nansafe\u001B[49m\u001B[43m(\u001B[49m\u001B[43marr\u001B[49m\u001B[43m,\u001B[49m\u001B[43m \u001B[49m\u001B[43mdtype\u001B[49m\u001B[43m,\u001B[49m\u001B[43m \u001B[49m\u001B[43mcopy\u001B[49m\u001B[43m)\u001B[49m\n\u001B[1;32m    142\u001B[0m \u001B[38;5;28;01melif\u001B[39;00m is_object_dtype(arr\u001B[38;5;241m.\u001B[39mdtype):\n\u001B[1;32m    143\u001B[0m \n\u001B[1;32m    144\u001B[0m     \u001B[38;5;66;03m# if we have a datetime/timedelta array of objects\u001B[39;00m\n\u001B[1;32m    145\u001B[0m     \u001B[38;5;66;03m# then coerce to a proper dtype and recall astype_nansafe\u001B[39;00m\n\u001B[1;32m    147\u001B[0m     \u001B[38;5;28;01mif\u001B[39;00m is_datetime64_dtype(dtype):\n",
      "File \u001B[0;32m/opt/homebrew/Caskroom/miniforge/base/envs/dev/lib/python3.10/site-packages/pandas/core/dtypes/astype.py:182\u001B[0m, in \u001B[0;36m_astype_float_to_int_nansafe\u001B[0;34m(values, dtype, copy)\u001B[0m\n\u001B[1;32m    178\u001B[0m \u001B[38;5;124;03m\"\"\"\u001B[39;00m\n\u001B[1;32m    179\u001B[0m \u001B[38;5;124;03mastype with a check preventing converting NaN to an meaningless integer value.\u001B[39;00m\n\u001B[1;32m    180\u001B[0m \u001B[38;5;124;03m\"\"\"\u001B[39;00m\n\u001B[1;32m    181\u001B[0m \u001B[38;5;28;01mif\u001B[39;00m \u001B[38;5;129;01mnot\u001B[39;00m np\u001B[38;5;241m.\u001B[39misfinite(values)\u001B[38;5;241m.\u001B[39mall():\n\u001B[0;32m--> 182\u001B[0m     \u001B[38;5;28;01mraise\u001B[39;00m IntCastingNaNError(\n\u001B[1;32m    183\u001B[0m         \u001B[38;5;124m\"\u001B[39m\u001B[38;5;124mCannot convert non-finite values (NA or inf) to integer\u001B[39m\u001B[38;5;124m\"\u001B[39m\n\u001B[1;32m    184\u001B[0m     )\n\u001B[1;32m    185\u001B[0m \u001B[38;5;28;01mif\u001B[39;00m dtype\u001B[38;5;241m.\u001B[39mkind \u001B[38;5;241m==\u001B[39m \u001B[38;5;124m\"\u001B[39m\u001B[38;5;124mu\u001B[39m\u001B[38;5;124m\"\u001B[39m:\n\u001B[1;32m    186\u001B[0m     \u001B[38;5;66;03m# GH#45151\u001B[39;00m\n\u001B[1;32m    187\u001B[0m     \u001B[38;5;28;01mif\u001B[39;00m \u001B[38;5;129;01mnot\u001B[39;00m (values \u001B[38;5;241m>\u001B[39m\u001B[38;5;241m=\u001B[39m \u001B[38;5;241m0\u001B[39m)\u001B[38;5;241m.\u001B[39mall():\n",
      "\u001B[0;31mIntCastingNaNError\u001B[0m: Cannot convert non-finite values (NA or inf) to integer"
     ]
    }
   ],
   "source": [
    "MCSpectrum.from_spectra(spec_parts)"
   ]
  }
 ],
 "metadata": {
  "kernelspec": {
   "display_name": "Python 3 (ipykernel)",
   "language": "python",
   "name": "python3"
  },
  "language_info": {
   "codemirror_mode": {
    "name": "ipython",
    "version": 3
   },
   "file_extension": ".py",
   "mimetype": "text/x-python",
   "name": "python",
   "nbconvert_exporter": "python",
   "pygments_lexer": "ipython3",
   "version": "3.10.9"
  }
 },
 "nbformat": 4,
 "nbformat_minor": 5
}
